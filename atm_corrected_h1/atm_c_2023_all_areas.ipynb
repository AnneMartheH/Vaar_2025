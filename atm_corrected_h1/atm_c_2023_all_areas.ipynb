{
 "cells": [
  {
   "cell_type": "markdown",
   "id": "356aeeae",
   "metadata": {},
   "source": [
    "## All pictures all areas 2023"
   ]
  },
  {
   "cell_type": "markdown",
   "id": "663c2f22",
   "metadata": {},
   "source": [
    "#### import and upload data"
   ]
  },
  {
   "cell_type": "code",
   "execution_count": 1,
   "id": "162cb43b",
   "metadata": {},
   "outputs": [],
   "source": [
    "from hypso import Hypso1, Hypso2\n",
    "import os \n",
    "import sys\n",
    "import matplotlib.pyplot as plt\n",
    "from global_land_mask import globe \n",
    "import numpy as np \n",
    "\n",
    "parent_dir = os.path.abspath('..')\n",
    "if parent_dir not in sys.path:\n",
    "    sys.path.append(parent_dir)\n",
    "\n",
    "import funcions_autonom as f\n",
    "import atmosperic_correction as atm_c ## obs denne het før ac -> kan føre til feil dersom man ikke finner funkjsons navn\n",
    "import base as ac\n",
    "\n",
    "import xarray as xr\n",
    "import re\n",
    "import math\n",
    "import importlib\n",
    "\n",
    "from sklearn.cluster import KMeans\n",
    "from collections import defaultdict\n",
    "\n",
    "from sklearn.preprocessing import StandardScaler\n",
    "\n",
    "np.random.seed(42)\n",
    "\n",
    "dir_path = \"..\" ## filene hentes fra en mappe over der vi er nå"
   ]
  },
  {
   "cell_type": "code",
   "execution_count": 2,
   "id": "ff40009e",
   "metadata": {},
   "outputs": [
    {
     "name": "stdout",
     "output_type": "stream",
     "text": [
      "[INFO] Loading L1a capture frohavet_2023-03-16T10-44-08Z\n",
      "[INFO] Capture spatial dimensions: (956, 684)\n",
      "[INFO] Capture capture type: nominal\n",
      "[INFO] Loading L1b capture frohavet_2023-03-16T10-44-08Z\n",
      "[INFO] Capture spatial dimensions: (956, 684)\n",
      "[INFO] Capture capture type: nominal\n",
      "[INFO] Loading L1c capture frohavet_2023-03-16T10-44-08Z\n",
      "[INFO] Capture spatial dimensions: (956, 684)\n",
      "[INFO] Capture capture type: nominal\n",
      "[INFO] Loading L1d capture frohavet_2023-03-16T10-44-08Z\n",
      "[INFO] Capture spatial dimensions: (956, 684)\n",
      "[INFO] Capture capture type: nominal\n",
      "[INFO] Running direct georeferencing...\n",
      "[INFO] ADCS samples: 1837\n",
      "[INFO] ADCS time range: 1678962780.000000 to 1678963680.000000\n",
      "[INFO] Frame time range: 1678963448.503009 to 1678963491.912100\n",
      "[INFO] 173 sample(s) inside frame time range\n",
      "[INFO] Interpolating 956 frames\n",
      "[INFO] Computing pixel latitude and longitude coordinates ...\n",
      "[INFO] Interpolating pixel coordinate gaps...\n",
      "[INFO] Direct georeferencing done\n",
      "[INFO] Running track geometry computations...\n",
      "[INFO] Using UTM map: WGS 84 / UTM zone 32N EPSG: 32632\n",
      "[INFO] Track geometry computations done.\n",
      "[INFO] Running angles geometry computations...\n",
      "[INFO] Computing local angles (sun and satellite azimuth and zenith angles) ...\n",
      "[INFO] Using astropy on a subsampling of pixels ... (TODO skyfield may be faster)\n",
      "[INFO] Interpolating the rest of the pixels ...\n",
      "[INFO] Computing local angles done\n",
      "[INFO] Angles geometry computations done.\n"
     ]
    }
   ],
   "source": [
    "frohavet_path_0316 = os.path.join(dir_path, \"frohavet_2023-03-16T10-44-08Z-l1a.nc\")\n",
    "frohavet_path_0316_b = os.path.join(dir_path, \"frohavet_2023-03-16T10-44-08Z-l1b.nc\")\n",
    "frohavet_path_0316_c = os.path.join(dir_path, \"frohavet_2023-03-16T10-44-08Z-l1c.nc\")\n",
    "frohavet_path_0316_d = os.path.join(dir_path, \"frohavet_2023-03-16T10-44-08Z-l1d.nc\")\n",
    "\n",
    "satobj_h1 = Hypso1( path = frohavet_path_0316, verbose = True )\n",
    "\n",
    "l1a_cube = satobj_h1.l1a_cube\n",
    "l1b_cube = Hypso1( path = frohavet_path_0316_b, verbose = True )\n",
    "l1c_cube = Hypso1( path = frohavet_path_0316_c, verbose = True )\n",
    "l1d_cube = Hypso1( path = frohavet_path_0316_d, verbose = True )\n",
    "\n",
    "l1c_cube = l1c_cube.l1c_cube\n",
    "l1b_cube = l1b_cube.l1b_cube\n",
    "l1d_cube = l1d_cube.l1d_cube\n",
    "\n",
    "satobj_h1.run_direct_georeferencing() # in order to get the longiyudes and latitudes"
   ]
  },
  {
   "cell_type": "code",
   "execution_count": 3,
   "id": "bd23e066",
   "metadata": {},
   "outputs": [
    {
     "name": "stdout",
     "output_type": "stream",
     "text": [
      "[INFO] Loading L1a capture frohavet_2023-03-28T10-59-21Z\n",
      "[INFO] Capture spatial dimensions: (956, 684)\n",
      "[INFO] Capture capture type: nominal\n",
      "[INFO] Loading L1b capture frohavet_2023-03-28T10-59-21Z\n",
      "[INFO] Capture spatial dimensions: (956, 684)\n",
      "[INFO] Capture capture type: nominal\n",
      "[INFO] Loading L1c capture frohavet_2023-03-28T10-59-21Z\n",
      "[INFO] Capture spatial dimensions: (956, 684)\n",
      "[INFO] Capture capture type: nominal\n",
      "[INFO] Loading L1d capture frohavet_2023-03-28T10-59-21Z\n",
      "[INFO] Capture spatial dimensions: (956, 684)\n",
      "[INFO] Capture capture type: nominal\n",
      "[INFO] Running direct georeferencing...\n",
      "[INFO] ADCS samples: 1837\n",
      "[INFO] ADCS time range: 1680000480.000000 to 1680001440.000000\n",
      "[INFO] Frame time range: 1680001161.388534 to 1680001204.797625\n",
      "[INFO] 174 sample(s) inside frame time range\n",
      "[INFO] Interpolating 956 frames\n",
      "[INFO] Computing pixel latitude and longitude coordinates ...\n",
      "[INFO] Interpolating pixel coordinate gaps...\n",
      "[INFO] Direct georeferencing done\n",
      "[INFO] Running track geometry computations...\n",
      "[INFO] Using UTM map: WGS 84 / UTM zone 32N EPSG: 32632\n",
      "[INFO] Track geometry computations done.\n",
      "[INFO] Running angles geometry computations...\n",
      "[INFO] Computing local angles (sun and satellite azimuth and zenith angles) ...\n",
      "[INFO] Using astropy on a subsampling of pixels ... (TODO skyfield may be faster)\n",
      "[INFO] Interpolating the rest of the pixels ...\n",
      "[INFO] Computing local angles done\n",
      "[INFO] Angles geometry computations done.\n"
     ]
    }
   ],
   "source": [
    "frohavet_path_0328 = os.path.join(dir_path, \"frohavet_2023-03-28T10-59-21Z-l1a.nc\")\n",
    "frohavet_path_0328_b = os.path.join(dir_path, \"frohavet_2023-03-28T10-59-21Z-l1b.nc\")\n",
    "frohavet_path_0328_c = os.path.join(dir_path, \"frohavet_2023-03-28T10-59-21Z-l1c.nc\")\n",
    "frohavet_path_0328_d = os.path.join(dir_path, \"frohavet_2023-03-28T10-59-21Z-l1d.nc\")\n",
    "\n",
    "satobj_h1_0328 = Hypso1( path = frohavet_path_0328, verbose = True )\n",
    "\n",
    "l1a_cube_0328 = satobj_h1_0328.l1a_cube\n",
    "l1b_cube_0328 = Hypso1( path = frohavet_path_0328_b, verbose = True )\n",
    "l1c_cube_0328 = Hypso1( path = frohavet_path_0328_c, verbose = True )\n",
    "l1d_cube_0328 = Hypso1( path = frohavet_path_0328_d, verbose = True )\n",
    "\n",
    "l1c_cube_0328 = l1c_cube_0328.l1c_cube\n",
    "l1b_cube_0328 = l1b_cube_0328.l1b_cube\n",
    "l1d_cube_0328 = l1d_cube_0328.l1d_cube\n",
    "\n",
    "satobj_h1_0328.run_direct_georeferencing() # in order to get the longiyudes and latitudes "
   ]
  },
  {
   "cell_type": "code",
   "execution_count": 4,
   "id": "835280b7",
   "metadata": {},
   "outputs": [
    {
     "name": "stdout",
     "output_type": "stream",
     "text": [
      "[INFO] Loading L1a capture frohavet_2023-03-29T10-44-51Z\n",
      "[INFO] Capture spatial dimensions: (956, 684)\n",
      "[INFO] Capture capture type: nominal\n",
      "[INFO] Loading L1b capture frohavet_2023-03-29T10-44-51Z\n",
      "[INFO] Capture spatial dimensions: (956, 684)\n",
      "[INFO] Capture capture type: nominal\n",
      "[INFO] Loading L1c capture frohavet_2023-03-29T10-44-51Z\n",
      "[INFO] Capture spatial dimensions: (956, 684)\n",
      "[INFO] Capture capture type: nominal\n",
      "[INFO] Loading L1d capture frohavet_2023-03-29T10-44-51Z\n",
      "[INFO] Capture spatial dimensions: (956, 684)\n",
      "[INFO] Capture capture type: nominal\n",
      "[INFO] Running direct georeferencing...\n",
      "[INFO] ADCS samples: 1678\n",
      "[INFO] ADCS time range: 1680086040.000000 to 1680086915.000000\n",
      "[INFO] Frame time range: 1680086691.474726 to 1680086734.883817\n",
      "[INFO] 174 sample(s) inside frame time range\n",
      "[INFO] Interpolating 956 frames\n",
      "[INFO] Computing pixel latitude and longitude coordinates ...\n",
      "[INFO] Interpolating pixel coordinate gaps...\n",
      "[INFO] Direct georeferencing done\n",
      "[INFO] Running track geometry computations...\n",
      "[INFO] Using UTM map: WGS 84 / UTM zone 32N EPSG: 32632\n",
      "[INFO] Track geometry computations done.\n",
      "[INFO] Running angles geometry computations...\n",
      "[INFO] Computing local angles (sun and satellite azimuth and zenith angles) ...\n",
      "[INFO] Using astropy on a subsampling of pixels ... (TODO skyfield may be faster)\n",
      "[INFO] Interpolating the rest of the pixels ...\n",
      "[INFO] Computing local angles done\n",
      "[INFO] Angles geometry computations done.\n"
     ]
    }
   ],
   "source": [
    "frohavet_path_0329 = os.path.join(dir_path, \"frohavet_2023-03-29T10-44-51Z-l1a.nc\")\n",
    "frohavet_path_0329_b = os.path.join(dir_path, \"frohavet_2023-03-29T10-44-51Z-l1b.nc\")\n",
    "frohavet_path_0329_c = os.path.join(dir_path, \"frohavet_2023-03-29T10-44-51Z-l1c.nc\")\n",
    "frohavet_path_0329_d = os.path.join(dir_path, \"frohavet_2023-03-29T10-44-51Z-l1d.nc\")\n",
    "\n",
    "satobj_h1_0329 = Hypso1( path = frohavet_path_0329, verbose = True )\n",
    "\n",
    "l1a_cube_0329 = satobj_h1_0329.l1a_cube\n",
    "l1b_cube_0329 = Hypso1( path = frohavet_path_0329_b, verbose = True )\n",
    "l1c_cube_0329 = Hypso1( path = frohavet_path_0329_c, verbose = True )\n",
    "l1d_cube_0329 = Hypso1( path = frohavet_path_0329_d, verbose = True )\n",
    "\n",
    "l1c_cube_0329 = l1c_cube_0329.l1c_cube\n",
    "l1b_cube_0329 = l1b_cube_0329.l1b_cube\n",
    "l1d_cube_0329 = l1d_cube_0329.l1d_cube\n",
    "\n",
    "satobj_h1_0329.run_direct_georeferencing() # in order to get the longiyudes and latitudes "
   ]
  },
  {
   "cell_type": "code",
   "execution_count": 5,
   "id": "fc66ccd6",
   "metadata": {},
   "outputs": [
    {
     "name": "stdout",
     "output_type": "stream",
     "text": [
      "[INFO] Loading L1a capture frohavet_2023-03-30T10-30-26Z\n",
      "[INFO] Capture spatial dimensions: (598, 1092)\n",
      "[INFO] Capture capture type: wide\n",
      "[INFO] Loading L1b capture frohavet_2023-03-30T10-30-26Z\n",
      "[INFO] Capture spatial dimensions: (598, 1092)\n",
      "[INFO] Capture capture type: wide\n",
      "[INFO] Loading L1c capture frohavet_2023-03-30T10-30-26Z\n",
      "[INFO] Capture spatial dimensions: (598, 1092)\n",
      "[INFO] Capture capture type: wide\n",
      "[INFO] Loading L1d capture frohavet_2023-03-30T10-30-26Z\n",
      "[INFO] Capture spatial dimensions: (598, 1092)\n",
      "[INFO] Capture capture type: wide\n",
      "[INFO] Running direct georeferencing...\n",
      "[INFO] ADCS samples: 1921\n",
      "[INFO] ADCS time range: 1680171540.000000 to 1680172458.250000\n",
      "[INFO] Frame time range: 1680172226.731407 to 1680172276.481407\n",
      "[INFO] 199 sample(s) inside frame time range\n",
      "[INFO] Interpolating 598 frames\n",
      "[INFO] Computing pixel latitude and longitude coordinates ...\n",
      "[INFO] Interpolating pixel coordinate gaps...\n",
      "[INFO] Direct georeferencing done\n",
      "[INFO] Running track geometry computations...\n",
      "[INFO] Using UTM map: WGS 84 / UTM zone 32N EPSG: 32632\n",
      "[INFO] Track geometry computations done.\n",
      "[INFO] Running angles geometry computations...\n",
      "[INFO] Computing local angles (sun and satellite azimuth and zenith angles) ...\n",
      "[INFO] Using astropy on a subsampling of pixels ... (TODO skyfield may be faster)\n",
      "[INFO] Interpolating the rest of the pixels ...\n",
      "[INFO] Computing local angles done\n",
      "[INFO] Angles geometry computations done.\n"
     ]
    }
   ],
   "source": [
    "fro_230330 = os.path.join(dir_path, \"frohavet_2023-03-30T10-30-26Z-l1a.nc\")\n",
    "fro_230330_b = os.path.join(dir_path, \"frohavet_2023-03-30T10-30-26Z-l1b.nc\")\n",
    "fro_230330_c = os.path.join(dir_path, \"frohavet_2023-03-30T10-30-26Z-l1c.nc\")\n",
    "fro_230330_d = os.path.join(dir_path, \"frohavet_2023-03-30T10-30-26Z-l1d.nc\")\n",
    "\n",
    "satobj_h1_230330 = Hypso1( path = fro_230330, verbose = True )\n",
    "\n",
    "l1a_cube_230330 = satobj_h1_230330.l1a_cube\n",
    "l1b_cube_230330 = Hypso1( path = fro_230330_b, verbose = True )\n",
    "l1c_cube_230330 = Hypso1( path = fro_230330_c, verbose = True )\n",
    "l1d_cube_230330 = Hypso1( path = fro_230330_d, verbose = True )\n",
    "\n",
    "l1c_cube_230330 = l1c_cube_230330.l1c_cube\n",
    "l1b_cube_230330 = l1b_cube_230330.l1b_cube\n",
    "l1d_cube_230330 = l1d_cube_230330.l1d_cube\n",
    "\n",
    "satobj_h1_230330.run_direct_georeferencing() # in order to get the longiyudes and latitudes"
   ]
  },
  {
   "cell_type": "markdown",
   "id": "cfb1696b",
   "metadata": {},
   "source": [
    "#### Defining areas"
   ]
  },
  {
   "cell_type": "code",
   "execution_count": null,
   "id": "cf45a5f9",
   "metadata": {},
   "outputs": [],
   "source": [
    "#extract wanted waelengths\n",
    "wl = satobj_h1_230330.wavelengths[4:118]\n",
    "x_123 = [387.84749685, 391.40406599, 394.95941579, 398.51354623, 402.06645732, 405.61814905, 409.16862143, 412.71787446, 416.26590814, 419.81272246, 423.35831743, 426.90269305, 430.44584931, 433.98778622, 437.52850378, 441.06800198, 444.60628083, 448.14334033, 451.67918047, 455.21380126, 458.7472027, 462.27938479, 465.81034752, 469.3400909 , 472.86861492,476.3959196 , 479.92200491, 483.44687088, 486.97051749, 490.49294475,494.01415266, 497.53414122, 501.05291042, 504.57046026, 508.08679076,511.6019019 , 515.11579369, 518.62846612, 522.13991921, 525.65015294,529.15916731, 532.66696233, 536.173538  , 539.67889432, 543.18303128,546.68594889, 550.18764715, 553.68812606, 557.18738561, 560.68542581,564.18224665, 567.67784814, 571.17223028, 574.66539307, 578.1573365, 581.64806058, 585.1375653 , 588.62585068, 592.1129167 , 595.59876336,599.08339068, 602.56679864, 606.04898725, 609.5299565 , 613.0097064 ,616.48823695, 619.96554815, 623.44163999, 626.91651248, 630.39016561,633.86259939, 637.33381382, 640.8038089 , 644.27258462, 647.74014099,651.20647801, 654.67159568, 658.13549399, 661.59817294, 665.05963255,668.5198728 , 671.9788937 , 675.43669524, 678.89327744, 682.34864028,685.80278376, 689.25570789, 692.70741267, 696.1578981 , 699.60716418,703.0552109 , 706.50203826, 709.94764628, 713.39203494, 716.83520425,720.2771542 , 723.7178848 , 727.15739605, 730.59568795, 734.03276049,737.46861368, 740.90324752, 744.336662  , 747.76885713, 751.19983291,754.62958933, 758.0581264 , 761.48544412, 764.91154248, 768.33642149,771.76008115, 775.18252146, 778.60374241, 782.02374401, 785.44252625,788.86008915, 792.27643269, 795.69155687, 799.10546171, 802.51814719]\n",
    "wl = x_123[4:118]\n",
    "\n",
    "target_lat_6 = [64.48557437461893,64.52896641587218, 64.20992561747796, 64.22009411667561] #område 7\n",
    "target_lon_6 = [9.886201113342556, 8.708294855080245,9.704720121565003,8.73032214102829]  \n",
    "\n",
    "target_lat_5 = [64.17324887890479,64.11631446557637, 63.896904083590066, 63.887923483169004] #område 6.1\n",
    "target_lon_5 = [9.582148298814932,8.924448409066027, 9.578289180688513, 8.96230357578283]\n",
    "\n",
    "target_lat_3 = [63.818490304354434,63.793837321385155, 63.65192496143867, 63.660555970548074] #område 2.1.\n",
    "target_lon_3 = [9.531415429238418, 9.442656298818237,9.526455044589706,9.439764451470932]\n",
    "\n",
    "target_lat_2 = [63.646767083517425,63.61771951990031, 63.47865598622861, 63.42721372576498] #område 5.1\n",
    "target_lon_2 = [9.804697410334523, 9.723689711502818,10.061035990832918,9.982929114384596]  \n",
    "\n",
    "target_lat_1 = [63.52676744792975, 63.55113867486421, 63.44802428401152, 63.46332195091103] #område 8 \n",
    "target_lon_1 = [10.726421572030368, 10.227932960954064, 10.706024496195505, 10.211631333282082] \n",
    "\n",
    "importlib.reload(ac)\n",
    "importlib.reload(f)"
   ]
  },
  {
   "cell_type": "markdown",
   "id": "ae71d029",
   "metadata": {},
   "source": [
    "#### Atmospheric corrected data cubes"
   ]
  },
  {
   "cell_type": "code",
   "execution_count": null,
   "id": "b9b8856e",
   "metadata": {},
   "outputs": [],
   "source": [
    "cube_0316 = np.array(l1d_cube[:,:, 4:118]) # get the toa reflectance cube\n",
    "sat = np.max(l1a_cube, axis = -1) > 35000 ##identifying saturated pixsels\n",
    "T, S, objs = ac.atm_correction(cube_0316.reshape(-1,114), solar=np.ones(114), verbose = True, tol = 0.01, est_min_R = 0.05) # calculating transmission and scattering\n",
    "\n",
    "cube_norm_0316 = (cube_0316 - S) /T\n",
    "cube_norm_0316[sat] = np.nan #normalizing the cube and setting saturated pixels to nan"
   ]
  },
  {
   "cell_type": "code",
   "execution_count": null,
   "id": "b1e9f420",
   "metadata": {},
   "outputs": [],
   "source": [
    "cube_0328 = np.array(l1d_cube_0328[:,:, 4:118]) # get the toa reflectance cube\n",
    "sat = np.max(l1a_cube_0328, axis = -1) > 35000 ##identifying saturated pixsels\n",
    "T, S, objs = ac.atm_correction(cube_0328.reshape(-1,114), solar=np.ones(114), verbose = True, tol = 0.01, est_min_R = 0.05) # calculating transmission and scattering\n",
    "\n",
    "cube_norm_0328 = (cube_0328 - S) /T\n",
    "cube_norm_0328[sat] = np.nan #normalizing the cube and setting saturated pixels to nan"
   ]
  },
  {
   "cell_type": "code",
   "execution_count": null,
   "id": "57080eae",
   "metadata": {},
   "outputs": [],
   "source": [
    "cube_0329 = np.array(l1d_cube_0329[:,:, 4:118]) # get the toa reflectance cube\n",
    "sat = np.max(l1a_cube_0329, axis = -1) > 35000 ##identifying saturated pixsels\n",
    "T, S, objs = ac.atm_correction(cube_0329.reshape(-1,114), solar=np.ones(114), verbose = True, tol = 0.01, est_min_R = 0.05) # calculating transmission and scattering\n",
    "\n",
    "cube_norm_0329 = (cube_0329 - S) /T\n",
    "cube_norm_0329[sat] = np.nan #normalizing the cube and setting saturated pixels to nan"
   ]
  },
  {
   "cell_type": "code",
   "execution_count": null,
   "id": "2de50d4e",
   "metadata": {},
   "outputs": [],
   "source": [
    "cube_0330 = np.array(l1d_cube_230330[:,:, 4:118]) # get the toa reflectance cube\n",
    "sat = np.max(l1a_cube_230330, axis = -1) > 35000 ##identifying saturated pixsels\n",
    "T, S, objs = ac.atm_correction(cube_0330.reshape(-1,114), solar=np.ones(114), verbose = True, tol = 0.01, est_min_R = 0.05) # calculating transmission and scattering\n",
    "\n",
    "cube_norm_0330 = (cube_0330 - S) /T\n",
    "cube_norm_0330[sat] = np.nan #normalizing the cube and setting saturated pixels to nan"
   ]
  },
  {
   "cell_type": "markdown",
   "id": "85200600",
   "metadata": {},
   "source": [
    "#### RRS ATM corrected "
   ]
  },
  {
   "cell_type": "markdown",
   "id": "60316eaa",
   "metadata": {},
   "source": [
    "##### RRS frohavet 0316"
   ]
  },
  {
   "cell_type": "code",
   "execution_count": null,
   "id": "2f2863a1",
   "metadata": {},
   "outputs": [],
   "source": [
    "latitudes_0316 = satobj_h1.latitudes\n",
    "longitudes_0316 = satobj_h1.longitudes\n",
    "\n",
    "print(latitudes_0316[1][1])\n",
    "\n",
    "piksel_row_A1_0316, piksel_col_A1_0316 = f.latLong_to_piksel(target_lat_1, target_lon_1, latitudes_0316, longitudes_0316) #####________\n",
    "print(piksel_row_A1_0316, piksel_col_A1_0316) \n",
    "\n",
    "rss_A1_0316 = f.hyps1_rss_matrix(cube_norm_0316, piksel_row_A1_0316, piksel_col_A1_0316, satobj_h1)    #####________\n",
    "print(rss_A1_0316.shape) \n",
    "\n",
    "median_A1_0316_atmc = np.median(rss_A1_0316, axis = 0)\n",
    "median_A1_0316_atmc.shape\n",
    "normaized_spectrum_median_A1_0316 = f.min_max_nomralization(median_A1_0316_atmc)\n",
    "l2_norm_A1_0316 = np.linalg.norm(median_A1_0316_atmc)  \n",
    "l2_normalized_spectrum_A1_0316 = median_A1_0316_atmc / l2_norm_A1_0316  "
   ]
  },
  {
   "cell_type": "code",
   "execution_count": null,
   "id": "2959d2f4",
   "metadata": {},
   "outputs": [],
   "source": [
    "piksel_row_A2_0316, piksel_col_A2_0316 = f.latLong_to_piksel(target_lat_2, target_lon_2, latitudes_0316, longitudes_0316) #####________\n",
    "print(piksel_row_A2_0316, piksel_col_A2_0316) \n",
    "\n",
    "rss_A2_0316 = f.hyps1_rss_matrix(cube_norm_0316, piksel_row_A2_0316, piksel_col_A2_0316, satobj_h1)    #####________\n",
    "print(rss_A2_0316.shape) \n",
    "\n",
    "median_A2_0316_atmc = np.median(rss_A2_0316, axis = 0)\n",
    "median_A2_0316_atmc.shape\n",
    "normaized_spectrum_median_A1_0316 = f.min_max_nomralization(median_A2_0316_atmc)\n",
    "l2_norm_A2_0316 = np.linalg.norm(median_A2_0316_atmc)  \n",
    "l2_normalized_spectrum_A2_0316 = median_A2_0316_atmc / l2_norm_A2_0316  "
   ]
  },
  {
   "cell_type": "code",
   "execution_count": null,
   "id": "32e725d3",
   "metadata": {},
   "outputs": [],
   "source": [
    "piksel_row_A3_0316, piksel_col_A3_0316 = f.latLong_to_piksel(target_lat_3, target_lon_3, latitudes_0316, longitudes_0316) #####________\n",
    "print(piksel_row_A3_0316, piksel_col_A3_0316) \n",
    "\n",
    "rss_A3_0316 = f.hyps1_rss_matrix(cube_norm_0316, piksel_row_A3_0316, piksel_col_A3_0316, satobj_h1)    #####________\n",
    "print(rss_A3_0316.shape) \n",
    "\n",
    "median_A3_0316_atmc = np.median(rss_A3_0316, axis = 0)\n",
    "median_A3_0316_atmc.shape\n",
    "normaized_spectrum_median_A1_0316 = f.min_max_nomralization(median_A3_0316_atmc)\n",
    "l2_norm_A3_0316 = np.linalg.norm(median_A3_0316_atmc)  \n",
    "l2_normalized_spectrum_A3_0316 = median_A3_0316_atmc / l2_norm_A3_0316  "
   ]
  },
  {
   "cell_type": "code",
   "execution_count": null,
   "id": "f7def817",
   "metadata": {},
   "outputs": [],
   "source": [
    "piksel_row_A5_0316, piksel_col_A5_0316 = f.latLong_to_piksel(target_lat_5, target_lon_5, latitudes_0316, longitudes_0316) #####________\n",
    "print(piksel_row_A5_0316, piksel_col_A5_0316) \n",
    "\n",
    "rss_A5_0316 = f.hyps1_rss_matrix(cube_norm_0316, piksel_row_A5_0316, piksel_col_A5_0316, satobj_h1)    #####________\n",
    "print(rss_A5_0316.shape) \n",
    "\n",
    "median_A5_0316_atmc = np.median(rss_A5_0316, axis = 0)\n",
    "median_A5_0316_atmc.shape\n",
    "normaized_spectrum_median_A1_0316 = f.min_max_nomralization(median_A5_0316_atmc)\n",
    "l2_norm_A5_0316 = np.linalg.norm(median_A5_0316_atmc)  \n",
    "l2_normalized_spectrum_A5_0316 = median_A5_0316_atmc / l2_norm_A5_0316  "
   ]
  },
  {
   "cell_type": "code",
   "execution_count": null,
   "id": "f9b90de6",
   "metadata": {},
   "outputs": [],
   "source": [
    "piksel_row_A6_0316, piksel_col_A6_0316 = f.latLong_to_piksel(target_lat_6, target_lon_6, latitudes_0316, longitudes_0316) #####________\n",
    "print(piksel_row_A6_0316, piksel_col_A6_0316) \n",
    "\n",
    "rss_A6_0316 = f.hyps1_rss_matrix(cube_norm_0316, piksel_row_A6_0316, piksel_col_A6_0316, satobj_h1)    #####________\n",
    "print(rss_A6_0316.shape) \n",
    "\n",
    "median_A6_0316_atmc = np.median(rss_A6_0316, axis = 0)\n",
    "median_A6_0316_atmc.shape\n",
    "normaized_spectrum_median_A1_0316 = f.min_max_nomralization(median_A6_0316_atmc)\n",
    "l2_norm_A6_0316 = np.linalg.norm(median_A6_0316_atmc)  \n",
    "l2_normalized_spectrum_A6_0316 = median_A6_0316_atmc / l2_norm_A6_0316  "
   ]
  },
  {
   "cell_type": "code",
   "execution_count": null,
   "id": "aeb679ae",
   "metadata": {},
   "outputs": [],
   "source": [
    "plt.imshow(cube_0316[:,:,100])\n",
    "plt.colorbar()\n",
    "\n",
    "for i in range(4):\n",
    "    #plt.scatter(start_end_row_col_2[i], start_end_row_piksel_2[i] , color='red', s=10)\n",
    "    plt.scatter(piksel_col_A1_0316[i], piksel_row_A1_0316[i] , color='red', s=10)\n",
    "    plt.scatter(piksel_col_A2_0316[i], piksel_row_A2_0316[i] , color='blue', s=10)\n",
    "    plt.scatter(piksel_col_A3_0316[i], piksel_row_A3_0316[i] , color='green', s=10)\n",
    "    plt.scatter(piksel_col_A5_0316[i], piksel_row_A5_0316[i] , color='orange', s=10)\n",
    "    plt.scatter(piksel_col_A6_0316[i], piksel_row_A6_0316[i] , color='purple', s=10)"
   ]
  },
  {
   "cell_type": "markdown",
   "id": "baa6d57c",
   "metadata": {},
   "source": [
    "##### RRS frohavet 0328"
   ]
  },
  {
   "cell_type": "code",
   "execution_count": null,
   "id": "fe54e902",
   "metadata": {},
   "outputs": [],
   "source": [
    "latitudes_0328 = satobj_h1_0328.latitudes\n",
    "longitudes_0328 = satobj_h1_0328.longitudes\n",
    "\n",
    "piksel_row_A1_0328, piksel_col_A1_0328 = f.latLong_to_piksel(target_lat_1, target_lon_1, latitudes_0328, longitudes_0328) #####________\n",
    "print(piksel_row_A1_0328, piksel_col_A1_0328) \n",
    "\n",
    "rss_A1_0328 = f.hyps1_rss_matrix(cube_norm_0328, piksel_row_A1_0328, piksel_col_A1_0328, satobj_h1_0328)    #####________\n",
    "print(rss_A1_0328.shape) \n",
    "\n",
    "median_A1_0328_atmc = np.median(rss_A1_0328, axis = 0)\n",
    "median_A1_0328_atmc.shape\n",
    "normaized_spectrum_median_A1_0328 = f.min_max_nomralization(median_A1_0328_atmc)\n",
    "l2_norm_A1_0328 = np.linalg.norm(median_A1_0328_atmc)  \n",
    "l2_normalized_spectrum_A1_0328 = median_A1_0328_atmc / l2_norm_A1_0328  "
   ]
  },
  {
   "cell_type": "code",
   "execution_count": null,
   "id": "5f3437bd",
   "metadata": {},
   "outputs": [],
   "source": []
  },
  {
   "cell_type": "markdown",
   "id": "d17b5397",
   "metadata": {},
   "source": [
    "##### RRS frohavet 0329"
   ]
  },
  {
   "cell_type": "code",
   "execution_count": null,
   "id": "52cff0d3",
   "metadata": {},
   "outputs": [],
   "source": []
  },
  {
   "cell_type": "markdown",
   "id": "0ea617c1",
   "metadata": {},
   "source": [
    "RRS frohavet 0330"
   ]
  }
 ],
 "metadata": {
  "kernelspec": {
   "display_name": "hypso-env",
   "language": "python",
   "name": "python3"
  },
  "language_info": {
   "codemirror_mode": {
    "name": "ipython",
    "version": 3
   },
   "file_extension": ".py",
   "mimetype": "text/x-python",
   "name": "python",
   "nbconvert_exporter": "python",
   "pygments_lexer": "ipython3",
   "version": "3.11.12"
  }
 },
 "nbformat": 4,
 "nbformat_minor": 5
}
