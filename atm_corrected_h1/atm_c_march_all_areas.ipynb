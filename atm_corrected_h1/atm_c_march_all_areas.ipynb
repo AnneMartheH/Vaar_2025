{
 "cells": [
  {
   "cell_type": "markdown",
   "id": "36e21e1c",
   "metadata": {},
   "source": [
    "Atmospheric corrected spectrums for march, all areas HYPSO-1Captures\n"
   ]
  }
 ],
 "metadata": {
  "language_info": {
   "name": "python"
  }
 },
 "nbformat": 4,
 "nbformat_minor": 5
}
