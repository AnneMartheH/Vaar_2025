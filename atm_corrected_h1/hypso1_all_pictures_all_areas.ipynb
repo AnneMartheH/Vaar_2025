{
 "cells": [
  {
   "cell_type": "markdown",
   "id": "319dc85d",
   "metadata": {},
   "source": [
    "### Comparison all good HYPSO 1 captures, all areas. Her skal all HYPSO 1 data være tilgjengelig. Kommenter ut eller kommenter du vil / ikke vil ha"
   ]
  },
  {
   "cell_type": "markdown",
   "id": "89cb8d62",
   "metadata": {},
   "source": [
    "##### Import"
   ]
  },
  {
   "cell_type": "code",
   "execution_count": 1,
   "id": "3ce436a3",
   "metadata": {},
   "outputs": [],
   "source": [
    "from hypso import Hypso1, Hypso2\n",
    "import os \n",
    "import sys\n",
    "import matplotlib.pyplot as plt\n",
    "from global_land_mask import globe \n",
    "import numpy as np \n",
    "\n",
    "parent_dir = os.path.abspath('..')\n",
    "if parent_dir not in sys.path:\n",
    "    sys.path.append(parent_dir)\n",
    "\n",
    "import funcions_autonom as f\n",
    "import atmosperic_correction as atm_c ## obs denne het før ac -> kan føre til feil dersom man ikke finner funkjsons navn\n",
    "import base as ac\n",
    "\n",
    "from sklearn.cluster import KMeans\n",
    "from collections import defaultdict\n",
    "\n",
    "from sklearn.preprocessing import StandardScaler\n",
    "\n",
    "import importlib\n",
    "\n",
    "np.random.seed(42)\n",
    "\n",
    "dir_path = \"..\" ## filene hentes fra en mappe over der vi er nå"
   ]
  },
  {
   "cell_type": "markdown",
   "id": "ed8025a0",
   "metadata": {},
   "source": [
    "##### Uploading data"
   ]
  },
  {
   "cell_type": "code",
   "execution_count": 2,
   "id": "3051b725",
   "metadata": {},
   "outputs": [
    {
     "name": "stdout",
     "output_type": "stream",
     "text": [
      "[INFO] Loading L1a capture frohavet_2023-03-16T10-44-08Z\n",
      "[INFO] Capture spatial dimensions: (956, 684)\n",
      "[INFO] Capture capture type: nominal\n",
      "[INFO] Loading L1b capture frohavet_2023-03-16T10-44-08Z\n",
      "[INFO] Capture spatial dimensions: (956, 684)\n",
      "[INFO] Capture capture type: nominal\n",
      "[INFO] Loading L1c capture frohavet_2023-03-16T10-44-08Z\n",
      "[INFO] Capture spatial dimensions: (956, 684)\n",
      "[INFO] Capture capture type: nominal\n",
      "[INFO] Loading L1d capture frohavet_2023-03-16T10-44-08Z\n",
      "[INFO] Capture spatial dimensions: (956, 684)\n",
      "[INFO] Capture capture type: nominal\n",
      "[INFO] Running direct georeferencing...\n",
      "[INFO] ADCS samples: 1837\n",
      "[INFO] ADCS time range: 1678962780.000000 to 1678963680.000000\n",
      "[INFO] Frame time range: 1678963448.503009 to 1678963491.912100\n",
      "[INFO] 173 sample(s) inside frame time range\n",
      "[INFO] Interpolating 956 frames\n",
      "[INFO] Computing pixel latitude and longitude coordinates ...\n",
      "[INFO] Interpolating pixel coordinate gaps...\n",
      "[INFO] Direct georeferencing done\n",
      "[INFO] Running track geometry computations...\n",
      "[INFO] Using UTM map: WGS 84 / UTM zone 32N EPSG: 32632\n",
      "[INFO] Track geometry computations done.\n",
      "[INFO] Running angles geometry computations...\n",
      "[INFO] Computing local angles (sun and satellite azimuth and zenith angles) ...\n",
      "[INFO] Using astropy on a subsampling of pixels ... (TODO skyfield may be faster)\n"
     ]
    },
    {
     "ename": "KeyboardInterrupt",
     "evalue": "",
     "output_type": "error",
     "traceback": [
      "\u001b[31m---------------------------------------------------------------------------\u001b[39m",
      "\u001b[31mKeyboardInterrupt\u001b[39m                         Traceback (most recent call last)",
      "\u001b[36mCell\u001b[39m\u001b[36m \u001b[39m\u001b[32mIn[2]\u001b[39m\u001b[32m, line 17\u001b[39m\n\u001b[32m     14\u001b[39m l1b_cube = l1b_cube.l1b_cube\n\u001b[32m     15\u001b[39m l1d_cube = l1d_cube.l1d_cube\n\u001b[32m---> \u001b[39m\u001b[32m17\u001b[39m \u001b[43msatobj_h1\u001b[49m\u001b[43m.\u001b[49m\u001b[43mrun_direct_georeferencing\u001b[49m\u001b[43m(\u001b[49m\u001b[43m)\u001b[49m \u001b[38;5;66;03m# in order to get the longiyudes and latitudes\u001b[39;00m\n",
      "\u001b[36mFile \u001b[39m\u001b[32m~/anaconda3/envs/hypso-env/lib/python3.11/site-packages/hypso/HypsoBase.py:804\u001b[39m, in \u001b[36mHypsoBase.run_direct_georeferencing\u001b[39m\u001b[34m(self)\u001b[39m\n\u001b[32m    797\u001b[39m \u001b[38;5;28msetattr\u001b[39m(\u001b[38;5;28mself\u001b[39m, \u001b[33m'\u001b[39m\u001b[33macross_track_gsd\u001b[39m\u001b[33m'\u001b[39m, across_track_gsd)\n\u001b[32m    798\u001b[39m \u001b[38;5;28msetattr\u001b[39m(\u001b[38;5;28mself\u001b[39m, \u001b[33m'\u001b[39m\u001b[33mresolution\u001b[39m\u001b[33m'\u001b[39m, resolution)\n\u001b[32m    800\u001b[39m solar_zenith_angles, \\\n\u001b[32m    801\u001b[39m solar_azimuth_angles, \\\n\u001b[32m    802\u001b[39m sat_zenith_angles, \\\n\u001b[32m    803\u001b[39m sat_azimuth_angles, \\\n\u001b[32m--> \u001b[39m\u001b[32m804\u001b[39m relative_azimuth_angles = \u001b[38;5;28;43mself\u001b[39;49m\u001b[43m.\u001b[49m\u001b[43m_run_angles_geometry\u001b[49m\u001b[43m(\u001b[49m\u001b[43mlatitudes\u001b[49m\u001b[43m=\u001b[49m\u001b[38;5;28;43mself\u001b[39;49m\u001b[43m.\u001b[49m\u001b[43mlatitudes\u001b[49m\u001b[43m,\u001b[49m\n\u001b[32m    805\u001b[39m \u001b[43m                                                \u001b[49m\u001b[43mlongitudes\u001b[49m\u001b[43m=\u001b[49m\u001b[38;5;28;43mself\u001b[39;49m\u001b[43m.\u001b[49m\u001b[43mlongitudes\u001b[49m\u001b[43m)\u001b[49m\n\u001b[32m    807\u001b[39m \u001b[38;5;28msetattr\u001b[39m(\u001b[38;5;28mself\u001b[39m, \u001b[33m'\u001b[39m\u001b[33msolar_zenith_angles\u001b[39m\u001b[33m'\u001b[39m, solar_zenith_angles)\n\u001b[32m    808\u001b[39m \u001b[38;5;28msetattr\u001b[39m(\u001b[38;5;28mself\u001b[39m, \u001b[33m'\u001b[39m\u001b[33msolar_azimuth_angles\u001b[39m\u001b[33m'\u001b[39m, solar_azimuth_angles)\n",
      "\u001b[36mFile \u001b[39m\u001b[32m~/anaconda3/envs/hypso-env/lib/python3.11/site-packages/hypso/HypsoBase.py:1001\u001b[39m, in \u001b[36mHypsoBase._run_angles_geometry\u001b[39m\u001b[34m(self, latitudes, longitudes)\u001b[39m\n\u001b[32m    996\u001b[39m     \u001b[38;5;28mself\u001b[39m._run_frame_interpolation()\n\u001b[32m    998\u001b[39m indices = np.array([ \u001b[32m0\u001b[39m, \u001b[38;5;28mself\u001b[39m.samples//\u001b[32m4\u001b[39m - \u001b[32m1\u001b[39m, \u001b[38;5;28mself\u001b[39m.samples//\u001b[32m2\u001b[39m - \u001b[32m1\u001b[39m, \u001b[32m3\u001b[39m*\u001b[38;5;28mself\u001b[39m.samples//\u001b[32m4\u001b[39m - \u001b[32m1\u001b[39m, \u001b[38;5;28mself\u001b[39m.samples - \u001b[32m1\u001b[39m], dtype=\u001b[33m'\u001b[39m\u001b[33muint16\u001b[39m\u001b[33m'\u001b[39m)\n\u001b[32m   1000\u001b[39m sun_azimuth, sun_zenith, \\\n\u001b[32m-> \u001b[39m\u001b[32m1001\u001b[39m sat_azimuth, sat_zenith = \u001b[43mcompute_local_angles\u001b[49m\u001b[43m(\u001b[49m\u001b[43mframepose_data\u001b[49m\u001b[43m=\u001b[49m\u001b[38;5;28;43mself\u001b[39;49m\u001b[43m.\u001b[49m\u001b[43mframepose\u001b[49m\u001b[43m,\u001b[49m\n\u001b[32m   1002\u001b[39m \u001b[43m                                               \u001b[49m\u001b[43mlats\u001b[49m\u001b[43m=\u001b[49m\u001b[43mlatitudes\u001b[49m\u001b[43m,\u001b[49m\u001b[43m \u001b[49m\n\u001b[32m   1003\u001b[39m \u001b[43m                                               \u001b[49m\u001b[43mlons\u001b[49m\u001b[43m=\u001b[49m\u001b[43mlongitudes\u001b[49m\u001b[43m,\u001b[49m\n\u001b[32m   1004\u001b[39m \u001b[43m                                               \u001b[49m\u001b[43mindices\u001b[49m\u001b[43m=\u001b[49m\u001b[43mindices\u001b[49m\u001b[43m,\u001b[49m\n\u001b[32m   1005\u001b[39m \u001b[43m                                               \u001b[49m\u001b[43mverbose\u001b[49m\u001b[43m=\u001b[49m\u001b[38;5;28;43mself\u001b[39;49m\u001b[43m.\u001b[49m\u001b[43mVERBOSE\u001b[49m\u001b[43m)\u001b[49m\n\u001b[32m   1007\u001b[39m solar_zenith_angles = sun_zenith.reshape(\u001b[38;5;28mself\u001b[39m.spatial_dimensions)\n\u001b[32m   1008\u001b[39m solar_azimuth_angles = sun_azimuth.reshape(\u001b[38;5;28mself\u001b[39m.spatial_dimensions)\n",
      "\u001b[36mFile \u001b[39m\u001b[32m~/anaconda3/envs/hypso-env/lib/python3.11/site-packages/hypso/geometry/geometry.py:415\u001b[39m, in \u001b[36mcompute_local_angles\u001b[39m\u001b[34m(framepose_data, lats, lons, indices, verbose)\u001b[39m\n\u001b[32m    411\u001b[39m pixel_location_astropy = astropy.coordinates.EarthLocation(lat=lats[i, k] * astropy.units.deg,\n\u001b[32m    412\u001b[39m                                                            lon=lons[i, k] * astropy.units.deg,\n\u001b[32m    413\u001b[39m                                                            height=\u001b[32m0\u001b[39m * astropy.units.m)\n\u001b[32m    414\u001b[39m sun_altaz = sun_pos.transform_to(astropy.coordinates.AltAz(obstime=times_astropy[i], location=pixel_location_astropy))\n\u001b[32m--> \u001b[39m\u001b[32m415\u001b[39m sat_altaz = \u001b[43mposes_astropy_teme\u001b[49m\u001b[43m[\u001b[49m\u001b[43mi\u001b[49m\u001b[43m]\u001b[49m\u001b[43m.\u001b[49m\u001b[43mtransform_to\u001b[49m\u001b[43m(\u001b[49m\u001b[43mastropy\u001b[49m\u001b[43m.\u001b[49m\u001b[43mcoordinates\u001b[49m\u001b[43m.\u001b[49m\u001b[43mAltAz\u001b[49m\u001b[43m(\u001b[49m\u001b[43mobstime\u001b[49m\u001b[43m=\u001b[49m\u001b[43mtimes_astropy\u001b[49m\u001b[43m[\u001b[49m\u001b[43mi\u001b[49m\u001b[43m]\u001b[49m\u001b[43m,\u001b[49m\u001b[43m \u001b[49m\u001b[43mlocation\u001b[49m\u001b[43m=\u001b[49m\u001b[43mpixel_location_astropy\u001b[49m\u001b[43m)\u001b[49m\u001b[43m)\u001b[49m\n\u001b[32m    417\u001b[39m sun_azi_samples[i, j] = sun_altaz.az.value\n\u001b[32m    418\u001b[39m sun_zen_samples[i, j] = \u001b[32m90.0\u001b[39m - sun_altaz.alt.value\n",
      "\u001b[36mFile \u001b[39m\u001b[32m~/anaconda3/envs/hypso-env/lib/python3.11/site-packages/astropy/coordinates/baseframe.py:1496\u001b[39m, in \u001b[36mBaseCoordinateFrame.transform_to\u001b[39m\u001b[34m(self, new_frame)\u001b[39m\n\u001b[32m   1494\u001b[39m     msg = \u001b[33m\"\u001b[39m\u001b[33mCannot transform from \u001b[39m\u001b[38;5;132;01m{0}\u001b[39;00m\u001b[33m to \u001b[39m\u001b[38;5;132;01m{1}\u001b[39;00m\u001b[33m\"\u001b[39m\n\u001b[32m   1495\u001b[39m     \u001b[38;5;28;01mraise\u001b[39;00m ConvertError(msg.format(\u001b[38;5;28mself\u001b[39m.\u001b[34m__class__\u001b[39m, new_frame.\u001b[34m__class__\u001b[39m))\n\u001b[32m-> \u001b[39m\u001b[32m1496\u001b[39m \u001b[38;5;28;01mreturn\u001b[39;00m \u001b[43mtrans\u001b[49m\u001b[43m(\u001b[49m\u001b[38;5;28;43mself\u001b[39;49m\u001b[43m,\u001b[49m\u001b[43m \u001b[49m\u001b[43mnew_frame\u001b[49m\u001b[43m)\u001b[49m\n",
      "\u001b[36mFile \u001b[39m\u001b[32m~/anaconda3/envs/hypso-env/lib/python3.11/site-packages/astropy/coordinates/transformations/composite.py:113\u001b[39m, in \u001b[36mCompositeTransform.__call__\u001b[39m\u001b[34m(self, fromcoord, toframe)\u001b[39m\n\u001b[32m    110\u001b[39m             frattrs[inter_frame_attr_nm] = attr\n\u001b[32m    112\u001b[39m     curr_toframe = t.tosys(**frattrs)\n\u001b[32m--> \u001b[39m\u001b[32m113\u001b[39m     curr_coord = \u001b[43mt\u001b[49m\u001b[43m(\u001b[49m\u001b[43mcurr_coord\u001b[49m\u001b[43m,\u001b[49m\u001b[43m \u001b[49m\u001b[43mcurr_toframe\u001b[49m\u001b[43m)\u001b[49m\n\u001b[32m    115\u001b[39m \u001b[38;5;66;03m# this is safe even in the case where self.transforms is empty, because\u001b[39;00m\n\u001b[32m    116\u001b[39m \u001b[38;5;66;03m# coordinate objects are immutable, so copying is not needed\u001b[39;00m\n\u001b[32m    117\u001b[39m \u001b[38;5;28;01mreturn\u001b[39;00m curr_coord\n",
      "\u001b[36mFile \u001b[39m\u001b[32m~/anaconda3/envs/hypso-env/lib/python3.11/site-packages/astropy/coordinates/transformations/function.py:175\u001b[39m, in \u001b[36mFunctionTransformWithFiniteDifference.__call__\u001b[39m\u001b[34m(self, fromcoord, toframe)\u001b[39m\n\u001b[32m    173\u001b[39m supcall = \u001b[38;5;28mself\u001b[39m.func\n\u001b[32m    174\u001b[39m \u001b[38;5;28;01mif\u001b[39;00m \u001b[38;5;129;01mnot\u001b[39;00m fromcoord.data.differentials:\n\u001b[32m--> \u001b[39m\u001b[32m175\u001b[39m     \u001b[38;5;28;01mreturn\u001b[39;00m \u001b[43msupcall\u001b[49m\u001b[43m(\u001b[49m\u001b[43mfromcoord\u001b[49m\u001b[43m,\u001b[49m\u001b[43m \u001b[49m\u001b[43mtoframe\u001b[49m\u001b[43m)\u001b[49m\n\u001b[32m    176\u001b[39m \u001b[38;5;66;03m# this is the finite difference case\u001b[39;00m\n\u001b[32m    178\u001b[39m \u001b[38;5;28;01mif\u001b[39;00m \u001b[38;5;28mcallable\u001b[39m(\u001b[38;5;28mself\u001b[39m.finite_difference_dt):\n",
      "\u001b[36mFile \u001b[39m\u001b[32m~/anaconda3/envs/hypso-env/lib/python3.11/site-packages/astropy/coordinates/builtin_frames/intermediate_rotation_transforms.py:284\u001b[39m, in \u001b[36mteme_to_itrs\u001b[39m\u001b[34m(teme_coo, itrs_frame)\u001b[39m\n\u001b[32m    281\u001b[39m itrs = ITRS(crepr, obstime=teme_coo.obstime)\n\u001b[32m    283\u001b[39m \u001b[38;5;66;03m# transform the ITRS coordinate to the target obstime\u001b[39;00m\n\u001b[32m--> \u001b[39m\u001b[32m284\u001b[39m \u001b[38;5;28;01mreturn\u001b[39;00m \u001b[43mitrs\u001b[49m\u001b[43m.\u001b[49m\u001b[43mtransform_to\u001b[49m\u001b[43m(\u001b[49m\u001b[43mitrs_frame\u001b[49m\u001b[43m)\u001b[49m\n",
      "\u001b[36mFile \u001b[39m\u001b[32m~/anaconda3/envs/hypso-env/lib/python3.11/site-packages/astropy/coordinates/baseframe.py:1496\u001b[39m, in \u001b[36mBaseCoordinateFrame.transform_to\u001b[39m\u001b[34m(self, new_frame)\u001b[39m\n\u001b[32m   1494\u001b[39m     msg = \u001b[33m\"\u001b[39m\u001b[33mCannot transform from \u001b[39m\u001b[38;5;132;01m{0}\u001b[39;00m\u001b[33m to \u001b[39m\u001b[38;5;132;01m{1}\u001b[39;00m\u001b[33m\"\u001b[39m\n\u001b[32m   1495\u001b[39m     \u001b[38;5;28;01mraise\u001b[39;00m ConvertError(msg.format(\u001b[38;5;28mself\u001b[39m.\u001b[34m__class__\u001b[39m, new_frame.\u001b[34m__class__\u001b[39m))\n\u001b[32m-> \u001b[39m\u001b[32m1496\u001b[39m \u001b[38;5;28;01mreturn\u001b[39;00m \u001b[43mtrans\u001b[49m\u001b[43m(\u001b[49m\u001b[38;5;28;43mself\u001b[39;49m\u001b[43m,\u001b[49m\u001b[43m \u001b[49m\u001b[43mnew_frame\u001b[49m\u001b[43m)\u001b[49m\n",
      "\u001b[36mFile \u001b[39m\u001b[32m~/anaconda3/envs/hypso-env/lib/python3.11/site-packages/astropy/coordinates/transformations/composite.py:113\u001b[39m, in \u001b[36mCompositeTransform.__call__\u001b[39m\u001b[34m(self, fromcoord, toframe)\u001b[39m\n\u001b[32m    110\u001b[39m             frattrs[inter_frame_attr_nm] = attr\n\u001b[32m    112\u001b[39m     curr_toframe = t.tosys(**frattrs)\n\u001b[32m--> \u001b[39m\u001b[32m113\u001b[39m     curr_coord = \u001b[43mt\u001b[49m\u001b[43m(\u001b[49m\u001b[43mcurr_coord\u001b[49m\u001b[43m,\u001b[49m\u001b[43m \u001b[49m\u001b[43mcurr_toframe\u001b[49m\u001b[43m)\u001b[49m\n\u001b[32m    115\u001b[39m \u001b[38;5;66;03m# this is safe even in the case where self.transforms is empty, because\u001b[39;00m\n\u001b[32m    116\u001b[39m \u001b[38;5;66;03m# coordinate objects are immutable, so copying is not needed\u001b[39;00m\n\u001b[32m    117\u001b[39m \u001b[38;5;28;01mreturn\u001b[39;00m curr_coord\n",
      "\u001b[36mFile \u001b[39m\u001b[32m~/anaconda3/envs/hypso-env/lib/python3.11/site-packages/astropy/coordinates/transformations/function.py:175\u001b[39m, in \u001b[36mFunctionTransformWithFiniteDifference.__call__\u001b[39m\u001b[34m(self, fromcoord, toframe)\u001b[39m\n\u001b[32m    173\u001b[39m supcall = \u001b[38;5;28mself\u001b[39m.func\n\u001b[32m    174\u001b[39m \u001b[38;5;28;01mif\u001b[39;00m \u001b[38;5;129;01mnot\u001b[39;00m fromcoord.data.differentials:\n\u001b[32m--> \u001b[39m\u001b[32m175\u001b[39m     \u001b[38;5;28;01mreturn\u001b[39;00m \u001b[43msupcall\u001b[49m\u001b[43m(\u001b[49m\u001b[43mfromcoord\u001b[49m\u001b[43m,\u001b[49m\u001b[43m \u001b[49m\u001b[43mtoframe\u001b[49m\u001b[43m)\u001b[49m\n\u001b[32m    176\u001b[39m \u001b[38;5;66;03m# this is the finite difference case\u001b[39;00m\n\u001b[32m    178\u001b[39m \u001b[38;5;28;01mif\u001b[39;00m \u001b[38;5;28mcallable\u001b[39m(\u001b[38;5;28mself\u001b[39m.finite_difference_dt):\n",
      "\u001b[36mFile \u001b[39m\u001b[32m~/anaconda3/envs/hypso-env/lib/python3.11/site-packages/astropy/coordinates/transformations/composite.py:211\u001b[39m, in \u001b[36mCompositeTransform._as_single_transform.<locals>.single_transform\u001b[39m\u001b[34m(from_coo, to_frame)\u001b[39m\n\u001b[32m    209\u001b[39m \u001b[38;5;28;01mif\u001b[39;00m from_coo.is_equivalent_frame(to_frame):  \u001b[38;5;66;03m# loopback to the same frame\u001b[39;00m\n\u001b[32m    210\u001b[39m     \u001b[38;5;28;01mreturn\u001b[39;00m to_frame.realize_frame(from_coo.data)\n\u001b[32m--> \u001b[39m\u001b[32m211\u001b[39m \u001b[38;5;28;01mreturn\u001b[39;00m \u001b[38;5;28;43mself\u001b[39;49m\u001b[43m(\u001b[49m\u001b[43mfrom_coo\u001b[49m\u001b[43m,\u001b[49m\u001b[43m \u001b[49m\u001b[43mto_frame\u001b[49m\u001b[43m)\u001b[49m\n",
      "\u001b[36mFile \u001b[39m\u001b[32m~/anaconda3/envs/hypso-env/lib/python3.11/site-packages/astropy/coordinates/transformations/composite.py:113\u001b[39m, in \u001b[36mCompositeTransform.__call__\u001b[39m\u001b[34m(self, fromcoord, toframe)\u001b[39m\n\u001b[32m    110\u001b[39m             frattrs[inter_frame_attr_nm] = attr\n\u001b[32m    112\u001b[39m     curr_toframe = t.tosys(**frattrs)\n\u001b[32m--> \u001b[39m\u001b[32m113\u001b[39m     curr_coord = \u001b[43mt\u001b[49m\u001b[43m(\u001b[49m\u001b[43mcurr_coord\u001b[49m\u001b[43m,\u001b[49m\u001b[43m \u001b[49m\u001b[43mcurr_toframe\u001b[49m\u001b[43m)\u001b[49m\n\u001b[32m    115\u001b[39m \u001b[38;5;66;03m# this is safe even in the case where self.transforms is empty, because\u001b[39;00m\n\u001b[32m    116\u001b[39m \u001b[38;5;66;03m# coordinate objects are immutable, so copying is not needed\u001b[39;00m\n\u001b[32m    117\u001b[39m \u001b[38;5;28;01mreturn\u001b[39;00m curr_coord\n",
      "\u001b[36mFile \u001b[39m\u001b[32m~/anaconda3/envs/hypso-env/lib/python3.11/site-packages/astropy/coordinates/transformations/composite.py:113\u001b[39m, in \u001b[36mCompositeTransform.__call__\u001b[39m\u001b[34m(self, fromcoord, toframe)\u001b[39m\n\u001b[32m    110\u001b[39m             frattrs[inter_frame_attr_nm] = attr\n\u001b[32m    112\u001b[39m     curr_toframe = t.tosys(**frattrs)\n\u001b[32m--> \u001b[39m\u001b[32m113\u001b[39m     curr_coord = \u001b[43mt\u001b[49m\u001b[43m(\u001b[49m\u001b[43mcurr_coord\u001b[49m\u001b[43m,\u001b[49m\u001b[43m \u001b[49m\u001b[43mcurr_toframe\u001b[49m\u001b[43m)\u001b[49m\n\u001b[32m    115\u001b[39m \u001b[38;5;66;03m# this is safe even in the case where self.transforms is empty, because\u001b[39;00m\n\u001b[32m    116\u001b[39m \u001b[38;5;66;03m# coordinate objects are immutable, so copying is not needed\u001b[39;00m\n\u001b[32m    117\u001b[39m \u001b[38;5;28;01mreturn\u001b[39;00m curr_coord\n",
      "\u001b[36mFile \u001b[39m\u001b[32m~/anaconda3/envs/hypso-env/lib/python3.11/site-packages/astropy/coordinates/transformations/function.py:175\u001b[39m, in \u001b[36mFunctionTransformWithFiniteDifference.__call__\u001b[39m\u001b[34m(self, fromcoord, toframe)\u001b[39m\n\u001b[32m    173\u001b[39m supcall = \u001b[38;5;28mself\u001b[39m.func\n\u001b[32m    174\u001b[39m \u001b[38;5;28;01mif\u001b[39;00m \u001b[38;5;129;01mnot\u001b[39;00m fromcoord.data.differentials:\n\u001b[32m--> \u001b[39m\u001b[32m175\u001b[39m     \u001b[38;5;28;01mreturn\u001b[39;00m \u001b[43msupcall\u001b[49m\u001b[43m(\u001b[49m\u001b[43mfromcoord\u001b[49m\u001b[43m,\u001b[49m\u001b[43m \u001b[49m\u001b[43mtoframe\u001b[49m\u001b[43m)\u001b[49m\n\u001b[32m    176\u001b[39m \u001b[38;5;66;03m# this is the finite difference case\u001b[39;00m\n\u001b[32m    178\u001b[39m \u001b[38;5;28;01mif\u001b[39;00m \u001b[38;5;28mcallable\u001b[39m(\u001b[38;5;28mself\u001b[39m.finite_difference_dt):\n",
      "\u001b[36mFile \u001b[39m\u001b[32m~/anaconda3/envs/hypso-env/lib/python3.11/site-packages/astropy/coordinates/builtin_frames/intermediate_rotation_transforms.py:230\u001b[39m, in \u001b[36mitrs_to_cirs\u001b[39m\u001b[34m(itrs_coo, cirs_frame)\u001b[39m\n\u001b[32m    227\u001b[39m cirs = CIRS(newrepr, obstime=itrs_coo.obstime, location=itrs_coo.location)\n\u001b[32m    229\u001b[39m \u001b[38;5;66;03m# now do any needed offsets (no-op if same obstime and location)\u001b[39;00m\n\u001b[32m--> \u001b[39m\u001b[32m230\u001b[39m \u001b[38;5;28;01mreturn\u001b[39;00m \u001b[43mcirs\u001b[49m\u001b[43m.\u001b[49m\u001b[43mtransform_to\u001b[49m\u001b[43m(\u001b[49m\u001b[43mcirs_frame\u001b[49m\u001b[43m)\u001b[49m\n",
      "\u001b[36mFile \u001b[39m\u001b[32m~/anaconda3/envs/hypso-env/lib/python3.11/site-packages/astropy/coordinates/baseframe.py:1496\u001b[39m, in \u001b[36mBaseCoordinateFrame.transform_to\u001b[39m\u001b[34m(self, new_frame)\u001b[39m\n\u001b[32m   1494\u001b[39m     msg = \u001b[33m\"\u001b[39m\u001b[33mCannot transform from \u001b[39m\u001b[38;5;132;01m{0}\u001b[39;00m\u001b[33m to \u001b[39m\u001b[38;5;132;01m{1}\u001b[39;00m\u001b[33m\"\u001b[39m\n\u001b[32m   1495\u001b[39m     \u001b[38;5;28;01mraise\u001b[39;00m ConvertError(msg.format(\u001b[38;5;28mself\u001b[39m.\u001b[34m__class__\u001b[39m, new_frame.\u001b[34m__class__\u001b[39m))\n\u001b[32m-> \u001b[39m\u001b[32m1496\u001b[39m \u001b[38;5;28;01mreturn\u001b[39;00m \u001b[43mtrans\u001b[49m\u001b[43m(\u001b[49m\u001b[38;5;28;43mself\u001b[39;49m\u001b[43m,\u001b[49m\u001b[43m \u001b[49m\u001b[43mnew_frame\u001b[49m\u001b[43m)\u001b[49m\n",
      "\u001b[36mFile \u001b[39m\u001b[32m~/anaconda3/envs/hypso-env/lib/python3.11/site-packages/astropy/coordinates/transformations/composite.py:113\u001b[39m, in \u001b[36mCompositeTransform.__call__\u001b[39m\u001b[34m(self, fromcoord, toframe)\u001b[39m\n\u001b[32m    110\u001b[39m             frattrs[inter_frame_attr_nm] = attr\n\u001b[32m    112\u001b[39m     curr_toframe = t.tosys(**frattrs)\n\u001b[32m--> \u001b[39m\u001b[32m113\u001b[39m     curr_coord = \u001b[43mt\u001b[49m\u001b[43m(\u001b[49m\u001b[43mcurr_coord\u001b[49m\u001b[43m,\u001b[49m\u001b[43m \u001b[49m\u001b[43mcurr_toframe\u001b[49m\u001b[43m)\u001b[49m\n\u001b[32m    115\u001b[39m \u001b[38;5;66;03m# this is safe even in the case where self.transforms is empty, because\u001b[39;00m\n\u001b[32m    116\u001b[39m \u001b[38;5;66;03m# coordinate objects are immutable, so copying is not needed\u001b[39;00m\n\u001b[32m    117\u001b[39m \u001b[38;5;28;01mreturn\u001b[39;00m curr_coord\n",
      "\u001b[36mFile \u001b[39m\u001b[32m~/anaconda3/envs/hypso-env/lib/python3.11/site-packages/astropy/coordinates/transformations/function.py:175\u001b[39m, in \u001b[36mFunctionTransformWithFiniteDifference.__call__\u001b[39m\u001b[34m(self, fromcoord, toframe)\u001b[39m\n\u001b[32m    173\u001b[39m supcall = \u001b[38;5;28mself\u001b[39m.func\n\u001b[32m    174\u001b[39m \u001b[38;5;28;01mif\u001b[39;00m \u001b[38;5;129;01mnot\u001b[39;00m fromcoord.data.differentials:\n\u001b[32m--> \u001b[39m\u001b[32m175\u001b[39m     \u001b[38;5;28;01mreturn\u001b[39;00m \u001b[43msupcall\u001b[49m\u001b[43m(\u001b[49m\u001b[43mfromcoord\u001b[49m\u001b[43m,\u001b[49m\u001b[43m \u001b[49m\u001b[43mtoframe\u001b[49m\u001b[43m)\u001b[49m\n\u001b[32m    176\u001b[39m \u001b[38;5;66;03m# this is the finite difference case\u001b[39;00m\n\u001b[32m    178\u001b[39m \u001b[38;5;28;01mif\u001b[39;00m \u001b[38;5;28mcallable\u001b[39m(\u001b[38;5;28mself\u001b[39m.finite_difference_dt):\n",
      "\u001b[36mFile \u001b[39m\u001b[32m~/anaconda3/envs/hypso-env/lib/python3.11/site-packages/astropy/coordinates/transformations/composite.py:211\u001b[39m, in \u001b[36mCompositeTransform._as_single_transform.<locals>.single_transform\u001b[39m\u001b[34m(from_coo, to_frame)\u001b[39m\n\u001b[32m    209\u001b[39m \u001b[38;5;28;01mif\u001b[39;00m from_coo.is_equivalent_frame(to_frame):  \u001b[38;5;66;03m# loopback to the same frame\u001b[39;00m\n\u001b[32m    210\u001b[39m     \u001b[38;5;28;01mreturn\u001b[39;00m to_frame.realize_frame(from_coo.data)\n\u001b[32m--> \u001b[39m\u001b[32m211\u001b[39m \u001b[38;5;28;01mreturn\u001b[39;00m \u001b[38;5;28;43mself\u001b[39;49m\u001b[43m(\u001b[49m\u001b[43mfrom_coo\u001b[49m\u001b[43m,\u001b[49m\u001b[43m \u001b[49m\u001b[43mto_frame\u001b[49m\u001b[43m)\u001b[49m\n",
      "\u001b[36mFile \u001b[39m\u001b[32m~/anaconda3/envs/hypso-env/lib/python3.11/site-packages/astropy/coordinates/transformations/composite.py:112\u001b[39m, in \u001b[36mCompositeTransform.__call__\u001b[39m\u001b[34m(self, fromcoord, toframe)\u001b[39m\n\u001b[32m    109\u001b[39m             attr = \u001b[38;5;28mgetattr\u001b[39m(fromcoord, inter_frame_attr_nm)\n\u001b[32m    110\u001b[39m             frattrs[inter_frame_attr_nm] = attr\n\u001b[32m--> \u001b[39m\u001b[32m112\u001b[39m     curr_toframe = \u001b[43mt\u001b[49m\u001b[43m.\u001b[49m\u001b[43mtosys\u001b[49m\u001b[43m(\u001b[49m\u001b[43m*\u001b[49m\u001b[43m*\u001b[49m\u001b[43mfrattrs\u001b[49m\u001b[43m)\u001b[49m\n\u001b[32m    113\u001b[39m     curr_coord = t(curr_coord, curr_toframe)\n\u001b[32m    115\u001b[39m \u001b[38;5;66;03m# this is safe even in the case where self.transforms is empty, because\u001b[39;00m\n\u001b[32m    116\u001b[39m \u001b[38;5;66;03m# coordinate objects are immutable, so copying is not needed\u001b[39;00m\n",
      "\u001b[36mFile \u001b[39m\u001b[32m~/anaconda3/envs/hypso-env/lib/python3.11/site-packages/astropy/coordinates/baseframe.py:560\u001b[39m, in \u001b[36mBaseCoordinateFrame.__init__\u001b[39m\u001b[34m(self, copy, representation_type, differential_type, *args, **kwargs)\u001b[39m\n\u001b[32m    558\u001b[39m     \u001b[38;5;28msetattr\u001b[39m(\u001b[38;5;28mself\u001b[39m, \u001b[33m\"\u001b[39m\u001b[33m_\u001b[39m\u001b[33m\"\u001b[39m + fnm, value)\n\u001b[32m    559\u001b[39m     \u001b[38;5;66;03m# Validate attribute by getting it.\u001b[39;00m\n\u001b[32m--> \u001b[39m\u001b[32m560\u001b[39m     values[fnm] = value = \u001b[38;5;28mgetattr\u001b[39m(\u001b[38;5;28mself\u001b[39m, fnm)\n\u001b[32m    561\u001b[39m     shapes.append(\u001b[38;5;28mgetattr\u001b[39m(value, \u001b[33m\"\u001b[39m\u001b[33mshape\u001b[39m\u001b[33m\"\u001b[39m, ()))\n\u001b[32m    562\u001b[39m \u001b[38;5;28;01melse\u001b[39;00m:\n",
      "\u001b[36mFile \u001b[39m\u001b[32m~/anaconda3/envs/hypso-env/lib/python3.11/site-packages/astropy/coordinates/attributes.py:134\u001b[39m, in \u001b[36mAttribute.__get__\u001b[39m\u001b[34m(self, instance, frame_cls)\u001b[39m\n\u001b[32m    131\u001b[39m out, converted = \u001b[38;5;28mself\u001b[39m.convert_input(out)\n\u001b[32m    132\u001b[39m \u001b[38;5;28;01mif\u001b[39;00m instance \u001b[38;5;129;01mis\u001b[39;00m \u001b[38;5;129;01mnot\u001b[39;00m \u001b[38;5;28;01mNone\u001b[39;00m:\n\u001b[32m    133\u001b[39m     \u001b[38;5;66;03m# None if instance (frame) has no data!\u001b[39;00m\n\u001b[32m--> \u001b[39m\u001b[32m134\u001b[39m     instance_shape = \u001b[38;5;28mgetattr\u001b[39m(instance, \u001b[33m\"\u001b[39m\u001b[33mshape\u001b[39m\u001b[33m\"\u001b[39m, \u001b[38;5;28;01mNone\u001b[39;00m)\n\u001b[32m    135\u001b[39m     \u001b[38;5;28;01mif\u001b[39;00m instance_shape \u001b[38;5;129;01mis\u001b[39;00m \u001b[38;5;129;01mnot\u001b[39;00m \u001b[38;5;28;01mNone\u001b[39;00m \u001b[38;5;129;01mand\u001b[39;00m (\n\u001b[32m    136\u001b[39m         \u001b[38;5;28mgetattr\u001b[39m(out, \u001b[33m\"\u001b[39m\u001b[33mshape\u001b[39m\u001b[33m\"\u001b[39m, ()) \u001b[38;5;129;01mand\u001b[39;00m out.shape != instance_shape\n\u001b[32m    137\u001b[39m     ):\n\u001b[32m    138\u001b[39m         \u001b[38;5;66;03m# If the shapes do not match, try broadcasting.\u001b[39;00m\n\u001b[32m    139\u001b[39m         \u001b[38;5;28;01mtry\u001b[39;00m:\n",
      "\u001b[36mFile \u001b[39m\u001b[32m~/anaconda3/envs/hypso-env/lib/python3.11/site-packages/astropy/coordinates/baseframe.py:1908\u001b[39m, in \u001b[36mBaseCoordinateFrame.__getattr__\u001b[39m\u001b[34m(self, attr)\u001b[39m\n\u001b[32m   1905\u001b[39m     val = \u001b[38;5;28mgetattr\u001b[39m(rep, repr_names[attr])\n\u001b[32m   1906\u001b[39m     \u001b[38;5;28;01mreturn\u001b[39;00m val\n\u001b[32m-> \u001b[39m\u001b[32m1908\u001b[39m diff_names = \u001b[38;5;28;43mself\u001b[39;49m\u001b[43m.\u001b[49m\u001b[43mget_representation_component_names\u001b[49m\u001b[43m(\u001b[49m\u001b[33;43m\"\u001b[39;49m\u001b[33;43ms\u001b[39;49m\u001b[33;43m\"\u001b[39;49m\u001b[43m)\u001b[49m\n\u001b[32m   1909\u001b[39m \u001b[38;5;28;01mif\u001b[39;00m attr \u001b[38;5;129;01min\u001b[39;00m diff_names:\n\u001b[32m   1910\u001b[39m     \u001b[38;5;28;01mif\u001b[39;00m \u001b[38;5;28mself\u001b[39m._data \u001b[38;5;129;01mis\u001b[39;00m \u001b[38;5;28;01mNone\u001b[39;00m:\n",
      "\u001b[36mFile \u001b[39m\u001b[32m~/anaconda3/envs/hypso-env/lib/python3.11/site-packages/astropy/coordinates/baseframe.py:1131\u001b[39m, in \u001b[36mBaseCoordinateFrame.get_representation_component_names\u001b[39m\u001b[34m(self, which)\u001b[39m\n\u001b[32m   1130\u001b[39m \u001b[38;5;28;01mdef\u001b[39;00m\u001b[38;5;250m \u001b[39m\u001b[34mget_representation_component_names\u001b[39m(\u001b[38;5;28mself\u001b[39m, which=\u001b[33m\"\u001b[39m\u001b[33mbase\u001b[39m\u001b[33m\"\u001b[39m):\n\u001b[32m-> \u001b[39m\u001b[32m1131\u001b[39m     \u001b[38;5;28mcls\u001b[39m = \u001b[38;5;28;43mself\u001b[39;49m\u001b[43m.\u001b[49m\u001b[43mget_representation_cls\u001b[49m\u001b[43m(\u001b[49m\u001b[43mwhich\u001b[49m\u001b[43m)\u001b[49m\n\u001b[32m   1132\u001b[39m     \u001b[38;5;28;01mif\u001b[39;00m \u001b[38;5;28mcls\u001b[39m \u001b[38;5;129;01mis\u001b[39;00m \u001b[38;5;28;01mNone\u001b[39;00m:\n\u001b[32m   1133\u001b[39m         \u001b[38;5;28;01mreturn\u001b[39;00m {}\n",
      "\u001b[36mFile \u001b[39m\u001b[32m~/anaconda3/envs/hypso-env/lib/python3.11/site-packages/astropy/coordinates/baseframe.py:1007\u001b[39m, in \u001b[36mBaseCoordinateFrame.get_representation_cls\u001b[39m\u001b[34m(self, which)\u001b[39m\n\u001b[32m   1004\u001b[39m \u001b[38;5;250m    \u001b[39m\u001b[33;03m\"\"\"Return a dict with the defaults for each frame attribute.\"\"\"\u001b[39;00m\n\u001b[32m   1005\u001b[39m     \u001b[38;5;28;01mreturn\u001b[39;00m {name: \u001b[38;5;28mgetattr\u001b[39m(\u001b[38;5;28mcls\u001b[39m, name).default \u001b[38;5;28;01mfor\u001b[39;00m name \u001b[38;5;129;01min\u001b[39;00m \u001b[38;5;28mcls\u001b[39m.frame_attributes}\n\u001b[32m-> \u001b[39m\u001b[32m1007\u001b[39m \u001b[38;5;28;01mdef\u001b[39;00m\u001b[38;5;250m \u001b[39m\u001b[34mget_representation_cls\u001b[39m(\u001b[38;5;28mself\u001b[39m, which=\u001b[33m\"\u001b[39m\u001b[33mbase\u001b[39m\u001b[33m\"\u001b[39m):\n\u001b[32m   1008\u001b[39m \u001b[38;5;250m    \u001b[39m\u001b[33;03m\"\"\"The class used for part of this frame's data.\u001b[39;00m\n\u001b[32m   1009\u001b[39m \n\u001b[32m   1010\u001b[39m \u001b[33;03m    Parameters\u001b[39;00m\n\u001b[32m   (...)\u001b[39m\u001b[32m   1020\u001b[39m \u001b[33;03m    representation : `~astropy.coordinates.BaseRepresentation` or `~astropy.coordinates.BaseDifferential`.\u001b[39;00m\n\u001b[32m   1021\u001b[39m \u001b[33;03m    \"\"\"\u001b[39;00m\n\u001b[32m   1022\u001b[39m     \u001b[38;5;28;01mreturn\u001b[39;00m \u001b[38;5;28mself\u001b[39m._representation \u001b[38;5;28;01mif\u001b[39;00m which \u001b[38;5;129;01mis\u001b[39;00m \u001b[38;5;28;01mNone\u001b[39;00m \u001b[38;5;28;01melse\u001b[39;00m \u001b[38;5;28mself\u001b[39m._representation[which]\n",
      "\u001b[31mKeyboardInterrupt\u001b[39m: "
     ]
    }
   ],
   "source": [
    "frohavet_path_0316 = os.path.join(dir_path, \"frohavet_2023-03-16T10-44-08Z-l1a.nc\")\n",
    "frohavet_path_0316_b = os.path.join(dir_path, \"frohavet_2023-03-16T10-44-08Z-l1b.nc\")\n",
    "frohavet_path_0316_c = os.path.join(dir_path, \"frohavet_2023-03-16T10-44-08Z-l1c.nc\")\n",
    "frohavet_path_0316_d = os.path.join(dir_path, \"frohavet_2023-03-16T10-44-08Z-l1d.nc\")\n",
    "\n",
    "satobj_h1 = Hypso1( path = frohavet_path_0316, verbose = True )\n",
    "\n",
    "l1a_cube = satobj_h1.l1a_cube\n",
    "l1b_cube = Hypso1( path = frohavet_path_0316_b, verbose = True )\n",
    "l1c_cube = Hypso1( path = frohavet_path_0316_c, verbose = True )\n",
    "l1d_cube = Hypso1( path = frohavet_path_0316_d, verbose = True )\n",
    "\n",
    "l1c_cube = l1c_cube.l1c_cube\n",
    "l1b_cube = l1b_cube.l1b_cube\n",
    "l1d_cube = l1d_cube.l1d_cube\n",
    "\n",
    "satobj_h1.run_direct_georeferencing() # in order to get the longiyudes and latitudes"
   ]
  },
  {
   "cell_type": "code",
   "execution_count": null,
   "id": "bb877f92",
   "metadata": {},
   "outputs": [
    {
     "name": "stdout",
     "output_type": "stream",
     "text": [
      "[INFO] Loading L1a capture frohavet_2023-03-28T10-59-21Z\n",
      "[INFO] Capture spatial dimensions: (956, 684)\n",
      "[INFO] Capture capture type: nominal\n",
      "[INFO] Loading L1b capture frohavet_2023-03-28T10-59-21Z\n",
      "[INFO] Capture spatial dimensions: (956, 684)\n",
      "[INFO] Capture capture type: nominal\n",
      "[INFO] Loading L1c capture frohavet_2023-03-28T10-59-21Z\n",
      "[INFO] Capture spatial dimensions: (956, 684)\n",
      "[INFO] Capture capture type: nominal\n",
      "[INFO] Loading L1d capture frohavet_2023-03-28T10-59-21Z\n",
      "[INFO] Capture spatial dimensions: (956, 684)\n",
      "[INFO] Capture capture type: nominal\n",
      "[INFO] Running direct georeferencing...\n",
      "[INFO] ADCS samples: 1837\n",
      "[INFO] ADCS time range: 1680000480.000000 to 1680001440.000000\n",
      "[INFO] Frame time range: 1680001161.388534 to 1680001204.797625\n",
      "[INFO] 174 sample(s) inside frame time range\n",
      "[INFO] Interpolating 956 frames\n",
      "[INFO] Computing pixel latitude and longitude coordinates ...\n",
      "[INFO] Interpolating pixel coordinate gaps...\n",
      "[INFO] Direct georeferencing done\n",
      "[INFO] Running track geometry computations...\n",
      "[INFO] Using UTM map: WGS 84 / UTM zone 32N EPSG: 32632\n",
      "[INFO] Track geometry computations done.\n",
      "[INFO] Running angles geometry computations...\n",
      "[INFO] Computing local angles (sun and satellite azimuth and zenith angles) ...\n",
      "[INFO] Using astropy on a subsampling of pixels ... (TODO skyfield may be faster)\n",
      "[INFO] Interpolating the rest of the pixels ...\n",
      "[INFO] Computing local angles done\n",
      "[INFO] Angles geometry computations done.\n"
     ]
    }
   ],
   "source": [
    "frohavet_path_0328 = os.path.join(dir_path, \"frohavet_2023-03-28T10-59-21Z-l1a.nc\")\n",
    "frohavet_path_0328_b = os.path.join(dir_path, \"frohavet_2023-03-28T10-59-21Z-l1b.nc\")\n",
    "frohavet_path_0328_c = os.path.join(dir_path, \"frohavet_2023-03-28T10-59-21Z-l1c.nc\")\n",
    "frohavet_path_0328_d = os.path.join(dir_path, \"frohavet_2023-03-28T10-59-21Z-l1d.nc\")\n",
    "\n",
    "satobj_h1_0328 = Hypso1( path = frohavet_path_0328, verbose = True )\n",
    "\n",
    "l1a_cube_0328 = satobj_h1_0328.l1a_cube\n",
    "l1b_cube_0328 = Hypso1( path = frohavet_path_0328_b, verbose = True )\n",
    "l1c_cube_0328 = Hypso1( path = frohavet_path_0328_c, verbose = True )\n",
    "l1d_cube_0328 = Hypso1( path = frohavet_path_0328_d, verbose = True )\n",
    "\n",
    "l1c_cube_0328 = l1c_cube_0328.l1c_cube\n",
    "l1b_cube_0328 = l1b_cube_0328.l1b_cube\n",
    "l1d_cube_0328 = l1d_cube_0328.l1d_cube\n",
    "\n",
    "satobj_h1_0328.run_direct_georeferencing() # in order to get the longiyudes and latitudes "
   ]
  },
  {
   "cell_type": "code",
   "execution_count": null,
   "id": "1493c613",
   "metadata": {},
   "outputs": [
    {
     "name": "stdout",
     "output_type": "stream",
     "text": [
      "[INFO] Loading L1a capture frohavet_2023-03-29T10-44-51Z\n",
      "[INFO] Capture spatial dimensions: (956, 684)\n",
      "[INFO] Capture capture type: nominal\n",
      "[INFO] Loading L1b capture frohavet_2023-03-29T10-44-51Z\n",
      "[INFO] Capture spatial dimensions: (956, 684)\n",
      "[INFO] Capture capture type: nominal\n",
      "[INFO] Loading L1c capture frohavet_2023-03-29T10-44-51Z\n",
      "[INFO] Capture spatial dimensions: (956, 684)\n",
      "[INFO] Capture capture type: nominal\n",
      "[INFO] Loading L1d capture frohavet_2023-03-29T10-44-51Z\n",
      "[INFO] Capture spatial dimensions: (956, 684)\n",
      "[INFO] Capture capture type: nominal\n",
      "[INFO] Running direct georeferencing...\n",
      "[INFO] ADCS samples: 1678\n",
      "[INFO] ADCS time range: 1680086040.000000 to 1680086915.000000\n",
      "[INFO] Frame time range: 1680086691.474726 to 1680086734.883817\n",
      "[INFO] 174 sample(s) inside frame time range\n",
      "[INFO] Interpolating 956 frames\n",
      "[INFO] Computing pixel latitude and longitude coordinates ...\n",
      "[INFO] Interpolating pixel coordinate gaps...\n",
      "[INFO] Direct georeferencing done\n",
      "[INFO] Running track geometry computations...\n",
      "[INFO] Using UTM map: WGS 84 / UTM zone 32N EPSG: 32632\n",
      "[INFO] Track geometry computations done.\n",
      "[INFO] Running angles geometry computations...\n",
      "[INFO] Computing local angles (sun and satellite azimuth and zenith angles) ...\n",
      "[INFO] Using astropy on a subsampling of pixels ... (TODO skyfield may be faster)\n",
      "[INFO] Interpolating the rest of the pixels ...\n",
      "[INFO] Computing local angles done\n",
      "[INFO] Angles geometry computations done.\n"
     ]
    }
   ],
   "source": [
    "frohavet_path_0329 = os.path.join(dir_path, \"frohavet_2023-03-29T10-44-51Z-l1a.nc\")\n",
    "frohavet_path_0329_b = os.path.join(dir_path, \"frohavet_2023-03-29T10-44-51Z-l1b.nc\")\n",
    "frohavet_path_0329_c = os.path.join(dir_path, \"frohavet_2023-03-29T10-44-51Z-l1c.nc\")\n",
    "frohavet_path_0329_d = os.path.join(dir_path, \"frohavet_2023-03-29T10-44-51Z-l1d.nc\")\n",
    "\n",
    "satobj_h1_0329 = Hypso1( path = frohavet_path_0329, verbose = True )\n",
    "\n",
    "l1a_cube_0329 = satobj_h1_0329.l1a_cube\n",
    "l1b_cube_0329 = Hypso1( path = frohavet_path_0329_b, verbose = True )\n",
    "l1c_cube_0329 = Hypso1( path = frohavet_path_0329_c, verbose = True )\n",
    "l1d_cube_0329 = Hypso1( path = frohavet_path_0329_d, verbose = True )\n",
    "\n",
    "l1c_cube_0329 = l1c_cube_0329.l1c_cube\n",
    "l1b_cube_0329 = l1b_cube_0329.l1b_cube\n",
    "l1d_cube_0329 = l1d_cube_0329.l1d_cube\n",
    "\n",
    "satobj_h1_0329.run_direct_georeferencing() # in order to get the longiyudes and latitudes "
   ]
  },
  {
   "cell_type": "code",
   "execution_count": null,
   "id": "7df66f2a",
   "metadata": {},
   "outputs": [
    {
     "name": "stdout",
     "output_type": "stream",
     "text": [
      "[INFO] Loading L1a capture frohavet_2023-03-30T10-30-26Z\n",
      "[INFO] Capture spatial dimensions: (598, 1092)\n",
      "[INFO] Capture capture type: wide\n",
      "[INFO] Loading L1b capture frohavet_2023-03-30T10-30-26Z\n",
      "[INFO] Capture spatial dimensions: (598, 1092)\n",
      "[INFO] Capture capture type: wide\n",
      "[INFO] Loading L1c capture frohavet_2023-03-30T10-30-26Z\n",
      "[INFO] Capture spatial dimensions: (598, 1092)\n",
      "[INFO] Capture capture type: wide\n",
      "[INFO] Loading L1d capture frohavet_2023-03-30T10-30-26Z\n",
      "[INFO] Capture spatial dimensions: (598, 1092)\n",
      "[INFO] Capture capture type: wide\n",
      "[INFO] Running direct georeferencing...\n",
      "[INFO] ADCS samples: 1921\n",
      "[INFO] ADCS time range: 1680171540.000000 to 1680172458.250000\n",
      "[INFO] Frame time range: 1680172226.731407 to 1680172276.481407\n",
      "[INFO] 199 sample(s) inside frame time range\n",
      "[INFO] Interpolating 598 frames\n",
      "[INFO] Computing pixel latitude and longitude coordinates ...\n",
      "[INFO] Interpolating pixel coordinate gaps...\n",
      "[INFO] Direct georeferencing done\n",
      "[INFO] Running track geometry computations...\n",
      "[INFO] Using UTM map: WGS 84 / UTM zone 32N EPSG: 32632\n",
      "[INFO] Track geometry computations done.\n",
      "[INFO] Running angles geometry computations...\n",
      "[INFO] Computing local angles (sun and satellite azimuth and zenith angles) ...\n",
      "[INFO] Using astropy on a subsampling of pixels ... (TODO skyfield may be faster)\n",
      "[INFO] Interpolating the rest of the pixels ...\n",
      "[INFO] Computing local angles done\n",
      "[INFO] Angles geometry computations done.\n"
     ]
    }
   ],
   "source": [
    "fro_230330 = os.path.join(dir_path, \"frohavet_2023-03-30T10-30-26Z-l1a.nc\")\n",
    "fro_230330_b = os.path.join(dir_path, \"frohavet_2023-03-30T10-30-26Z-l1b.nc\")\n",
    "fro_230330_c = os.path.join(dir_path, \"frohavet_2023-03-30T10-30-26Z-l1c.nc\")\n",
    "fro_230330_d = os.path.join(dir_path, \"frohavet_2023-03-30T10-30-26Z-l1d.nc\")\n",
    "\n",
    "satobj_h1_230330 = Hypso1( path = fro_230330, verbose = True )\n",
    "\n",
    "l1a_cube_230330 = satobj_h1_230330.l1a_cube\n",
    "l1b_cube_230330 = Hypso1( path = fro_230330_b, verbose = True )\n",
    "l1c_cube_230330 = Hypso1( path = fro_230330_c, verbose = True )\n",
    "l1d_cube_230330 = Hypso1( path = fro_230330_d, verbose = True )\n",
    "\n",
    "l1c_cube_230330 = l1c_cube_230330.l1c_cube\n",
    "l1b_cube_230330 = l1b_cube_230330.l1b_cube\n",
    "l1d_cube_230330 = l1d_cube_230330.l1d_cube\n",
    "\n",
    "satobj_h1_230330.run_direct_georeferencing() # in order to get the longiyudes and latitudes"
   ]
  },
  {
   "cell_type": "code",
   "execution_count": null,
   "id": "3482e1eb",
   "metadata": {},
   "outputs": [
    {
     "name": "stdout",
     "output_type": "stream",
     "text": [
      "[INFO] Loading L1a capture frohavet_2023-04-07T10-07-15Z\n",
      "[INFO] Capture spatial dimensions: (598, 1092)\n",
      "[INFO] Capture capture type: wide\n",
      "[INFO] Loading L1b capture frohavet_2023-04-07T10-07-15Z\n",
      "[INFO] Capture spatial dimensions: (598, 1092)\n",
      "[INFO] Capture capture type: wide\n",
      "[INFO] Loading L1c capture frohavet_2023-04-07T10-07-15Z\n",
      "[INFO] Capture spatial dimensions: (598, 1092)\n",
      "[INFO] Capture capture type: wide\n",
      "[INFO] Loading L1d capture frohavet_2023-04-07T10-07-15Z\n",
      "[INFO] Capture spatial dimensions: (598, 1092)\n",
      "[INFO] Capture capture type: wide\n",
      "[INFO] Running direct georeferencing...\n",
      "[INFO] ADCS samples: 1911\n",
      "[INFO] ADCS time range: 1680861360.000000 to 1680862266.000000\n",
      "[INFO] Frame time range: 1680862035.869211 to 1680862085.619211\n",
      "[INFO] 199 sample(s) inside frame time range\n",
      "[INFO] Interpolating 598 frames\n",
      "[INFO] Computing pixel latitude and longitude coordinates ...\n",
      "[INFO] Interpolating pixel coordinate gaps...\n",
      "[INFO] Direct georeferencing done\n",
      "[INFO] Running track geometry computations...\n",
      "[INFO] Using UTM map: WGS 84 / UTM zone 32N EPSG: 32632\n",
      "[INFO] Track geometry computations done.\n",
      "[INFO] Running angles geometry computations...\n",
      "[INFO] Computing local angles (sun and satellite azimuth and zenith angles) ...\n",
      "[INFO] Using astropy on a subsampling of pixels ... (TODO skyfield may be faster)\n",
      "[INFO] Interpolating the rest of the pixels ...\n",
      "[INFO] Computing local angles done\n",
      "[INFO] Angles geometry computations done.\n"
     ]
    }
   ],
   "source": [
    "frohavet_path_0407 = os.path.join(dir_path, \"frohavet_2023-04-07T10-07-15Z-l1a.nc\")\n",
    "frohavet_path_0407_b = os.path.join(dir_path, \"frohavet_2023-04-07T10-07-15Z-l1b.nc\")\n",
    "frohavet_path_0407_c = os.path.join(dir_path, \"frohavet_2023-04-07T10-07-15Z-l1c.nc\")\n",
    "frohavet_path_0407_d = os.path.join(dir_path, \"frohavet_2023-04-07T10-07-15Z-l1d.nc\") \n",
    "\n",
    "satobj_h1_0407 = Hypso1( path = frohavet_path_0407, verbose = True )\n",
    "\n",
    "l1a_cube_0407 = satobj_h1_0407.l1a_cube\n",
    "l1b_cube_0407 = Hypso1( path = frohavet_path_0407_b, verbose = True )\n",
    "l1c_cube_0407 = Hypso1( path = frohavet_path_0407_c, verbose = True )\n",
    "l1d_cube_0407 = Hypso1( path = frohavet_path_0407_d, verbose = True )\n",
    "\n",
    "l1c_cube_0407 = l1c_cube_0407.l1c_cube\n",
    "l1b_cube_0407 = l1b_cube_0407.l1b_cube\n",
    "l1d_cube_0407 = l1d_cube_0407.l1d_cube\n",
    "\n",
    "satobj_h1_0407.run_direct_georeferencing() # in order to get the longiyudes and latitude07"
   ]
  },
  {
   "cell_type": "code",
   "execution_count": null,
   "id": "c7f46515",
   "metadata": {},
   "outputs": [
    {
     "name": "stdout",
     "output_type": "stream",
     "text": [
      "[INFO] Loading L1a capture frohavet_2023-04-12T10-27-31Z\n",
      "[INFO] Capture spatial dimensions: (598, 1092)\n",
      "[INFO] Capture capture type: wide\n",
      "[INFO] Loading L1b capture frohavet_2023-04-12T10-27-31Z\n",
      "[INFO] Capture spatial dimensions: (598, 1092)\n",
      "[INFO] Capture capture type: wide\n",
      "[INFO] Loading L1c capture frohavet_2023-04-12T10-27-31Z\n",
      "[INFO] Capture spatial dimensions: (598, 1092)\n",
      "[INFO] Capture capture type: wide\n",
      "[INFO] Loading L1d capture frohavet_2023-04-12T10-27-31Z\n",
      "[INFO] Capture spatial dimensions: (598, 1092)\n",
      "[INFO] Capture capture type: wide\n",
      "[INFO] Running direct georeferencing...\n",
      "[INFO] ADCS samples: 1919\n",
      "[INFO] ADCS time range: 1681294560.000000 to 1681295482.750000\n",
      "[INFO] Frame time range: 1681295251.796884 to 1681295301.546884\n",
      "[INFO] 199 sample(s) inside frame time range\n",
      "[INFO] Interpolating 598 frames\n",
      "[INFO] Computing pixel latitude and longitude coordinates ...\n",
      "[INFO] Interpolating pixel coordinate gaps...\n",
      "[INFO] Direct georeferencing done\n",
      "[INFO] Running track geometry computations...\n",
      "[INFO] Using UTM map: WGS 84 / UTM zone 32N EPSG: 32632\n",
      "[INFO] Track geometry computations done.\n",
      "[INFO] Running angles geometry computations...\n",
      "[INFO] Computing local angles (sun and satellite azimuth and zenith angles) ...\n",
      "[INFO] Using astropy on a subsampling of pixels ... (TODO skyfield may be faster)\n",
      "[INFO] Interpolating the rest of the pixels ...\n",
      "[INFO] Computing local angles done\n",
      "[INFO] Angles geometry computations done.\n"
     ]
    }
   ],
   "source": [
    "frohavet_path_0412 = os.path.join(dir_path, \"frohavet_2023-04-12T10-27-31Z-l1a.nc\")\n",
    "frohavet_path_0412_b = os.path.join(dir_path, \"frohavet_2023-04-12T10-27-31Z-l1b.nc\")\n",
    "frohavet_path_0412_c = os.path.join(dir_path, \"frohavet_2023-04-12T10-27-31Z-l1c.nc\")\n",
    "frohavet_path_0412_d = os.path.join(dir_path, \"frohavet_2023-04-12T10-27-31Z-l1d.nc\") \n",
    "\n",
    "satobj_h1_0412 = Hypso1( path = frohavet_path_0412, verbose = True )\n",
    "\n",
    "l1a_cube_0412 = satobj_h1_0412.l1a_cube\n",
    "l1b_cube_0412 = Hypso1( path = frohavet_path_0412_b, verbose = True )\n",
    "l1c_cube_0412 = Hypso1( path = frohavet_path_0412_c, verbose = True )\n",
    "l1d_cube_0412 = Hypso1( path = frohavet_path_0412_d, verbose = True )\n",
    "\n",
    "l1c_cube_0412 = l1c_cube_0412.l1c_cube\n",
    "l1b_cube_0412 = l1b_cube_0412.l1b_cube\n",
    "l1d_cube_0412 = l1d_cube_0412.l1d_cube\n",
    "\n",
    "satobj_h1_0412.run_direct_georeferencing() # in order to get the longiyudes and latitudes "
   ]
  },
  {
   "cell_type": "code",
   "execution_count": null,
   "id": "fe589439",
   "metadata": {},
   "outputs": [
    {
     "name": "stdout",
     "output_type": "stream",
     "text": [
      "[INFO] Loading L1a capture frohavet_2023-06-14T10-03-05Z\n",
      "[INFO] Capture spatial dimensions: (598, 1092)\n",
      "[INFO] Capture capture type: wide\n",
      "[INFO] Loading L1b capture frohavet_2023-06-14T10-03-05Z\n",
      "[INFO] Capture spatial dimensions: (598, 1092)\n",
      "[INFO] Capture capture type: wide\n",
      "[INFO] Loading L1c capture frohavet_2023-06-14T10-03-05Z\n",
      "[INFO] Capture spatial dimensions: (598, 1092)\n",
      "[INFO] Capture capture type: wide\n",
      "[INFO] Loading L1d capture frohavet_2023-06-14T10-03-05Z\n",
      "[INFO] Capture spatial dimensions: (598, 1092)\n",
      "[INFO] Capture capture type: wide\n",
      "[INFO] Running direct georeferencing...\n",
      "[INFO] ADCS samples: 1914\n",
      "[INFO] ADCS time range: 1686736320.000000 to 1686737215.500000\n",
      "[INFO] Frame time range: 1686736985.690326 to 1686737035.440326\n",
      "[INFO] 199 sample(s) inside frame time range\n",
      "[INFO] Interpolating 598 frames\n",
      "[INFO] Computing pixel latitude and longitude coordinates ...\n",
      "[INFO] Interpolating pixel coordinate gaps...\n",
      "[INFO] Direct georeferencing done\n",
      "[INFO] Running track geometry computations...\n",
      "[INFO] Using UTM map: WGS 84 / UTM zone 32N EPSG: 32632\n",
      "[INFO] Track geometry computations done.\n",
      "[INFO] Running angles geometry computations...\n",
      "[INFO] Computing local angles (sun and satellite azimuth and zenith angles) ...\n",
      "[INFO] Using astropy on a subsampling of pixels ... (TODO skyfield may be faster)\n",
      "[INFO] Interpolating the rest of the pixels ...\n",
      "[INFO] Computing local angles done\n",
      "[INFO] Angles geometry computations done.\n"
     ]
    }
   ],
   "source": [
    "frohavet_path_0614 = os.path.join(dir_path, \"frohavet_2023-06-14T10-03-05Z-l1a.nc\")\n",
    "frohavet_path_0614_b = os.path.join(dir_path, \"frohavet_2023-06-14T10-03-05Z-l1b.nc\")\n",
    "frohavet_path_0614_c = os.path.join(dir_path, \"frohavet_2023-06-14T10-03-05Z-l1c.nc\")\n",
    "frohavet_path_0614_d = os.path.join(dir_path, \"frohavet_2023-06-14T10-03-05Z-l1d.nc\") \n",
    "\n",
    "satobj_h1_0614 = Hypso1( path = frohavet_path_0614, verbose = True )\n",
    "\n",
    "l1a_cube_0614 = satobj_h1_0614.l1a_cube\n",
    "l1b_cube_0614 = Hypso1( path = frohavet_path_0614_b, verbose = True )\n",
    "l1c_cube_0614 = Hypso1( path = frohavet_path_0614_c, verbose = True )\n",
    "l1d_cube_0614 = Hypso1( path = frohavet_path_0614_d, verbose = True )\n",
    "\n",
    "l1c_cube_0614 = l1c_cube_0614.l1c_cube\n",
    "l1b_cube_0614 = l1b_cube_0614.l1b_cube\n",
    "l1d_cube_0614 = l1d_cube_0614.l1d_cube\n",
    "\n",
    "satobj_h1_0614.run_direct_georeferencing() # in order to get the longiyudes and latitudes "
   ]
  },
  {
   "cell_type": "code",
   "execution_count": null,
   "id": "37c64128",
   "metadata": {},
   "outputs": [
    {
     "name": "stdout",
     "output_type": "stream",
     "text": [
      "[INFO] Loading L1a capture frohavet_2023-07-30T10-17-47Z\n",
      "[INFO] Capture spatial dimensions: (598, 1092)\n",
      "[INFO] Capture capture type: wide\n",
      "[INFO] Loading L1b capture frohavet_2023-07-30T10-17-47Z\n",
      "[INFO] Capture spatial dimensions: (598, 1092)\n",
      "[INFO] Capture capture type: wide\n",
      "[INFO] Loading L1c capture frohavet_2023-07-30T10-17-47Z\n",
      "[INFO] Capture spatial dimensions: (598, 1092)\n",
      "[INFO] Capture capture type: wide\n",
      "[INFO] Loading L1d capture frohavet_2023-07-30T10-17-47Z\n",
      "[INFO] Capture spatial dimensions: (598, 1092)\n",
      "[INFO] Capture capture type: wide\n",
      "[INFO] Running direct georeferencing...\n",
      "[INFO] ADCS samples: 1911\n",
      "[INFO] ADCS time range: 1690711620.000000 to 1690712497.250000\n",
      "[INFO] Frame time range: 1690712267.271759 to 1690712317.021759\n",
      "[INFO] 199 sample(s) inside frame time range\n",
      "[INFO] Interpolating 598 frames\n",
      "[INFO] Computing pixel latitude and longitude coordinates ...\n",
      "[INFO] Interpolating pixel coordinate gaps...\n",
      "[INFO] Direct georeferencing done\n",
      "[INFO] Running track geometry computations...\n",
      "[INFO] Using UTM map: WGS 84 / UTM zone 32N EPSG: 32632\n",
      "[INFO] Track geometry computations done.\n",
      "[INFO] Running angles geometry computations...\n",
      "[INFO] Computing local angles (sun and satellite azimuth and zenith angles) ...\n",
      "[INFO] Using astropy on a subsampling of pixels ... (TODO skyfield may be faster)\n",
      "[INFO] Interpolating the rest of the pixels ...\n",
      "[INFO] Computing local angles done\n",
      "[INFO] Angles geometry computations done.\n"
     ]
    }
   ],
   "source": [
    "frohavet_path_0730 = os.path.join(dir_path, \"frohavet_2023-07-30T10-17-47Z-l1a.nc\")\n",
    "frohavet_path_0730_b = os.path.join(dir_path, \"frohavet_2023-07-30T10-17-47Z-l1b.nc\")\n",
    "frohavet_path_0730_c = os.path.join(dir_path, \"frohavet_2023-07-30T10-17-47Z-l1c.nc\")\n",
    "frohavet_path_0730_d = os.path.join(dir_path, \"frohavet_2023-07-30T10-17-47Z-l1d.nc\") \n",
    "\n",
    "satobj_h1_0730 = Hypso1( path = frohavet_path_0730, verbose = True )\n",
    "\n",
    "l1a_cube_0730 = satobj_h1_0730.l1a_cube\n",
    "l1b_cube_0730 = Hypso1( path = frohavet_path_0730_b, verbose = True )\n",
    "l1c_cube_0730 = Hypso1( path = frohavet_path_0730_c, verbose = True )\n",
    "l1d_cube_0730 = Hypso1( path = frohavet_path_0730_d, verbose = True )\n",
    "\n",
    "l1c_cube_0730 = l1c_cube_0730.l1c_cube\n",
    "l1b_cube_0730 = l1b_cube_0730.l1b_cube\n",
    "l1d_cube_0730 = l1d_cube_0730.l1d_cube\n",
    "\n",
    "satobj_h1_0730.run_direct_georeferencing() # in order to get the longiyudes and latitudes "
   ]
  },
  {
   "cell_type": "code",
   "execution_count": null,
   "id": "1e650d3b",
   "metadata": {},
   "outputs": [
    {
     "name": "stdout",
     "output_type": "stream",
     "text": [
      "[INFO] Loading L1a capture frohavet_2024-03-10T10-15-40Z\n",
      "[INFO] Capture spatial dimensions: (598, 1092)\n",
      "[INFO] Capture capture type: wide\n",
      "[INFO] Loading L1b capture frohavet_2024-03-10T10-15-40Z\n",
      "[INFO] Capture spatial dimensions: (598, 1092)\n",
      "[INFO] Capture capture type: wide\n",
      "[INFO] Loading L1c capture frohavet_2024-03-10T10-15-40Z\n",
      "[INFO] Capture spatial dimensions: (598, 1092)\n",
      "[INFO] Capture capture type: wide\n",
      "[INFO] Loading L1d capture frohavet_2024-03-10T10-15-40Z\n",
      "[INFO] Capture spatial dimensions: (598, 1092)\n",
      "[INFO] Capture capture type: wide\n",
      "[INFO] Running direct georeferencing...\n",
      "[INFO] ADCS samples: 430\n",
      "[INFO] ADCS time range: 1710065040.000000 to 1710066000.000000\n",
      "[INFO] Frame time range: 1710065740.143331 to 1710065789.893331\n",
      "[INFO] 199 sample(s) inside frame time range\n",
      "[INFO] Interpolating 598 frames\n",
      "[INFO] Computing pixel latitude and longitude coordinates ...\n",
      "[INFO] Interpolating pixel coordinate gaps...\n",
      "[INFO] Direct georeferencing done\n",
      "[INFO] Running track geometry computations...\n",
      "[INFO] Using UTM map: WGS 84 / UTM zone 33N EPSG: 32633\n",
      "[INFO] Track geometry computations done.\n",
      "[INFO] Running angles geometry computations...\n",
      "[INFO] Computing local angles (sun and satellite azimuth and zenith angles) ...\n",
      "[INFO] Using astropy on a subsampling of pixels ... (TODO skyfield may be faster)\n",
      "[INFO] Interpolating the rest of the pixels ...\n",
      "[INFO] Computing local angles done\n",
      "[INFO] Angles geometry computations done.\n"
     ]
    }
   ],
   "source": [
    "frohavet_path_24_0310 = os.path.join(dir_path, \"frohavet_2024-03-10T10-15-40Z-l1a.nc\")\n",
    "frohavet_path_24_0310_b = os.path.join(dir_path, \"frohavet_2024-03-10T10-15-40Z-l1b.nc\")\n",
    "frohavet_path_24_0310_c = os.path.join(dir_path, \"frohavet_2024-03-10T10-15-40Z-l1c.nc\")\n",
    "frohavet_path_24_0310_d = os.path.join(dir_path, \"frohavet_2024-03-10T10-15-40Z-l1d.nc\")\n",
    "\n",
    "satobj_h1_24_0310 = Hypso1( path = frohavet_path_24_0310, verbose = True )\n",
    "\n",
    "l1a_cube_24_0310 = satobj_h1_24_0310.l1a_cube\n",
    "l1b_cube_24_0310 = Hypso1( path = frohavet_path_24_0310_b, verbose = True )\n",
    "l1c_cube_24_0310 = Hypso1( path = frohavet_path_24_0310_c, verbose = True )\n",
    "l1d_cube_24_0310 = Hypso1( path = frohavet_path_24_0310_d, verbose = True )\n",
    "\n",
    "l1c_cube_24_0310 = l1c_cube_24_0310.l1c_cube\n",
    "l1b_cube_24_0310 = l1b_cube_24_0310.l1b_cube\n",
    "l1d_cube_24_0310 = l1d_cube_24_0310.l1d_cube\n",
    "\n",
    "satobj_h1_24_0310.run_direct_georeferencing() # in order to get the longiyudes and latitudes "
   ]
  },
  {
   "cell_type": "code",
   "execution_count": null,
   "id": "d62f94cb",
   "metadata": {},
   "outputs": [
    {
     "name": "stdout",
     "output_type": "stream",
     "text": [
      "[INFO] Loading L1a capture frohavet_2024-04-26T10-49-41Z\n",
      "[INFO] Capture spatial dimensions: (598, 1092)\n",
      "[INFO] Capture capture type: wide\n",
      "[INFO] Loading L1b capture frohavet_2024-04-26T10-49-41Z\n",
      "[INFO] Capture spatial dimensions: (598, 1092)\n",
      "[INFO] Capture capture type: wide\n",
      "[INFO] Loading L1c capture frohavet_2024-04-26T10-49-41Z\n",
      "[INFO] Capture spatial dimensions: (598, 1092)\n",
      "[INFO] Capture capture type: wide\n",
      "[INFO] Loading L1d capture frohavet_2024-04-26T10-49-41Z\n",
      "[INFO] Capture spatial dimensions: (598, 1092)\n",
      "[INFO] Capture capture type: wide\n",
      "[INFO] Running direct georeferencing...\n",
      "[INFO] ADCS samples: 429\n",
      "[INFO] ADCS time range: 1714127940.000000 to 1714128840.000000\n",
      "[INFO] Frame time range: 1714128581.185500 to 1714128630.935500\n",
      "[INFO] 199 sample(s) inside frame time range\n",
      "[INFO] Interpolating 598 frames\n",
      "[INFO] Computing pixel latitude and longitude coordinates ...\n",
      "[INFO] Interpolating pixel coordinate gaps...\n",
      "[INFO] Direct georeferencing done\n",
      "[INFO] Running track geometry computations...\n",
      "[INFO] Using UTM map: WGS 84 / UTM zone 32N EPSG: 32632\n",
      "[INFO] Track geometry computations done.\n",
      "[INFO] Running angles geometry computations...\n",
      "[INFO] Computing local angles (sun and satellite azimuth and zenith angles) ...\n",
      "[INFO] Using astropy on a subsampling of pixels ... (TODO skyfield may be faster)\n",
      "[INFO] Interpolating the rest of the pixels ...\n",
      "[INFO] Computing local angles done\n",
      "[INFO] Angles geometry computations done.\n"
     ]
    }
   ],
   "source": [
    "trondheim_path_24_0426 = os.path.join(dir_path, \"frohavet_2024-04-26T10-49-41Z-l1a.nc\")\n",
    "trondheim_path_24_0426_b = os.path.join(dir_path, \"frohavet_2024-04-26T10-49-41Z-l1b.nc\")\n",
    "trondheim_path_24_0426_c = os.path.join(dir_path, \"frohavet_2024-04-26T10-49-41Z-l1c.nc\")########## OBSOBSOSOSSB IKKE TRONDHIEM\n",
    "trondheim_path_24_0426_d = os.path.join(dir_path, \"frohavet_2024-04-26T10-49-41Z-l1d.nc\")\n",
    "\n",
    "satobj_h1_24_0426 = Hypso1( path = trondheim_path_24_0426, verbose = True )\n",
    "\n",
    "l1a_cube_24_0426 = satobj_h1_24_0426.l1a_cube\n",
    "l1b_cube_24_0426 = Hypso1( path = trondheim_path_24_0426_b, verbose = True )\n",
    "l1c_cube_24_0426 = Hypso1( path = trondheim_path_24_0426_c, verbose = True )\n",
    "l1d_cube_24_0426 = Hypso1( path = trondheim_path_24_0426_d, verbose = True )\n",
    "\n",
    "l1b_cube_24_0426 = l1b_cube_24_0426.l1c_cube\n",
    "l1c_cube_24_0426 = l1c_cube_24_0426.l1b_cube\n",
    "l1d_cube_24_0426 = l1d_cube_24_0426.l1d_cube\n",
    "\n",
    "satobj_h1_24_0426.run_direct_georeferencing() # in order to get the longiyudes and latitudes "
   ]
  },
  {
   "cell_type": "code",
   "execution_count": null,
   "id": "4a2db851",
   "metadata": {},
   "outputs": [
    {
     "name": "stdout",
     "output_type": "stream",
     "text": [
      "[INFO] Loading L1a capture frohavet_2024-04-19T10-14-21Z\n",
      "[INFO] Capture spatial dimensions: (598, 1092)\n",
      "[INFO] Capture capture type: wide\n",
      "[INFO] Loading L1b capture frohavet_2024-04-19T10-14-21Z\n",
      "[INFO] Capture spatial dimensions: (598, 1092)\n",
      "[INFO] Capture capture type: wide\n",
      "[INFO] Loading L1c capture frohavet_2024-04-19T10-14-21Z\n",
      "[INFO] Capture spatial dimensions: (598, 1092)\n",
      "[INFO] Capture capture type: wide\n",
      "[INFO] Loading L1d capture frohavet_2024-04-19T10-14-21Z\n",
      "[INFO] Capture spatial dimensions: (598, 1092)\n",
      "[INFO] Capture capture type: wide\n",
      "[INFO] Running direct georeferencing...\n",
      "[INFO] ADCS samples: 431\n",
      "[INFO] ADCS time range: 1713520980.000000 to 1713521940.000000\n",
      "[INFO] Frame time range: 1713521661.048052 to 1713521710.798052\n",
      "[INFO] 199 sample(s) inside frame time range\n",
      "[INFO] Interpolating 598 frames\n",
      "[INFO] Computing pixel latitude and longitude coordinates ...\n",
      "[INFO] Interpolating pixel coordinate gaps...\n",
      "[INFO] Direct georeferencing done\n",
      "[INFO] Running track geometry computations...\n",
      "[INFO] Using UTM map: WGS 84 / UTM zone 32N EPSG: 32632\n",
      "[INFO] Track geometry computations done.\n",
      "[INFO] Running angles geometry computations...\n",
      "[INFO] Computing local angles (sun and satellite azimuth and zenith angles) ...\n",
      "[INFO] Using astropy on a subsampling of pixels ... (TODO skyfield may be faster)\n",
      "[INFO] Interpolating the rest of the pixels ...\n",
      "[INFO] Computing local angles done\n",
      "[INFO] Angles geometry computations done.\n"
     ]
    }
   ],
   "source": [
    "frohavet_path_24_0419 = os.path.join(dir_path, \"frohavet_2024-04-19T10-14-21Z-l1a.nc\") \n",
    "frohavet_path_24_0419_b = os.path.join(dir_path, \"frohavet_2024-04-19T10-14-21Z-l1b.nc\")\n",
    "frohavet_path_24_0419_c = os.path.join(dir_path, \"frohavet_2024-04-19T10-14-21Z-l1c.nc\")\n",
    "frohavet_path_24_0419_d = os.path.join(dir_path, \"frohavet_2024-04-19T10-14-21Z-l1d.nc\")\n",
    "\n",
    "satobj_h1_24_0419 = Hypso1( path = frohavet_path_24_0419, verbose = True )\n",
    "\n",
    "l1a_cube_24_0419 = satobj_h1_24_0419.l1a_cube\n",
    "l1b_cube_24_0419 = Hypso1( path = frohavet_path_24_0419_b, verbose = True )\n",
    "l1c_cube_24_0419 = Hypso1( path = frohavet_path_24_0419_c, verbose = True )\n",
    "l1d_cube_24_0419 = Hypso1( path = frohavet_path_24_0419_d, verbose = True )\n",
    "\n",
    "l1c_cube_24_0419 = l1c_cube_24_0419.l1c_cube\n",
    "l1b_cube_24_0419 = l1b_cube_24_0419.l1b_cube\n",
    "l1d_cube_24_0419 = l1d_cube_24_0419.l1d_cube\n",
    "\n",
    "satobj_h1_24_0419.run_direct_georeferencing() # in order to get the longiyudes and latitudes"
   ]
  },
  {
   "cell_type": "code",
   "execution_count": null,
   "id": "89cdbd0f",
   "metadata": {},
   "outputs": [
    {
     "name": "stdout",
     "output_type": "stream",
     "text": [
      "[INFO] Loading L1a capture frohavet_2024-05-06T10-17-39Z\n",
      "[INFO] Capture spatial dimensions: (598, 1092)\n",
      "[INFO] Capture capture type: wide\n",
      "[INFO] Loading L1b capture frohavet_2024-05-06T10-17-39Z\n",
      "[INFO] Capture spatial dimensions: (598, 1092)\n",
      "[INFO] Capture capture type: wide\n",
      "[INFO] Loading L1c capture frohavet_2024-05-06T10-17-39Z\n",
      "[INFO] Capture spatial dimensions: (598, 1092)\n",
      "[INFO] Capture capture type: wide\n",
      "[INFO] Loading L1d capture frohavet_2024-05-06T10-17-39Z\n",
      "[INFO] Capture spatial dimensions: (598, 1092)\n",
      "[INFO] Capture capture type: wide\n",
      "[INFO] Running direct georeferencing...\n",
      "[INFO] ADCS samples: 430\n",
      "[INFO] ADCS time range: 1714989960.000000 to 1714990920.000000\n",
      "[INFO] Frame time range: 1714990659.158018 to 1714990708.908018\n",
      "[INFO] 199 sample(s) inside frame time range\n",
      "[INFO] Interpolating 598 frames\n",
      "[INFO] Computing pixel latitude and longitude coordinates ...\n",
      "[INFO] Interpolating pixel coordinate gaps...\n",
      "[INFO] Direct georeferencing done\n",
      "[INFO] Running track geometry computations...\n",
      "[INFO] Using UTM map: WGS 84 / UTM zone 32N EPSG: 32632\n",
      "[INFO] Track geometry computations done.\n",
      "[INFO] Running angles geometry computations...\n",
      "[INFO] Computing local angles (sun and satellite azimuth and zenith angles) ...\n",
      "[INFO] Using astropy on a subsampling of pixels ... (TODO skyfield may be faster)\n",
      "[INFO] Interpolating the rest of the pixels ...\n",
      "[INFO] Computing local angles done\n",
      "[INFO] Angles geometry computations done.\n"
     ]
    }
   ],
   "source": [
    "frohavet_path_24_0506 = os.path.join(dir_path, \"frohavet_2024-05-06T10-17-39Z-l1a.nc\") \n",
    "frohavet_path_24_0506_b = os.path.join(dir_path, \"frohavet_2024-05-06T10-17-39Z-l1b.nc\")\n",
    "frohavet_path_24_0506_c = os.path.join(dir_path, \"frohavet_2024-05-06T10-17-39Z-l1c.nc\")\n",
    "frohavet_path_24_0506_d = os.path.join(dir_path, \"frohavet_2024-05-06T10-17-39Z-l1d.nc\") \n",
    "\n",
    "satobj_h1_24_0506 = Hypso1( path = frohavet_path_24_0506, verbose = True )\n",
    "\n",
    "l1a_cube_24_0506 = satobj_h1_0412.l1a_cube\n",
    "l1b_cube_24_0506 = Hypso1( path = frohavet_path_24_0506_b, verbose = True )\n",
    "l1c_cube_24_0506 = Hypso1( path = frohavet_path_24_0506_c, verbose = True )\n",
    "l1d_cube_24_0506 = Hypso1( path = frohavet_path_24_0506_d, verbose = True )\n",
    "\n",
    "l1c_cube_24_0506 = l1c_cube_24_0506.l1c_cube\n",
    "l1b_cube_24_0506 = l1b_cube_24_0506.l1b_cube\n",
    "l1d_cube_24_0506 = l1d_cube_24_0506.l1d_cube\n",
    "\n",
    "satobj_h1_24_0506.run_direct_georeferencing() # in order to get the longiyudes and latitudes "
   ]
  },
  {
   "cell_type": "code",
   "execution_count": null,
   "id": "e19fc587",
   "metadata": {},
   "outputs": [
    {
     "name": "stdout",
     "output_type": "stream",
     "text": [
      "[INFO] Loading L1a capture trondheim_2024-05-24T09-50-09Z\n",
      "[INFO] Capture spatial dimensions: (598, 1092)\n",
      "[INFO] Capture capture type: wide\n",
      "[INFO] Loading L1b capture trondheim_2024-05-24T09-50-09Z\n",
      "[INFO] Capture spatial dimensions: (598, 1092)\n",
      "[INFO] Capture capture type: wide\n",
      "[INFO] Loading L1c capture trondheim_2024-05-24T09-50-09Z\n",
      "[INFO] Capture spatial dimensions: (598, 1092)\n",
      "[INFO] Capture capture type: wide\n",
      "[INFO] Loading L1d capture trondheim_2024-05-24T09-50-09Z\n",
      "[INFO] Capture spatial dimensions: (598, 1092)\n",
      "[INFO] Capture capture type: wide\n",
      "[INFO] Running direct georeferencing...\n",
      "[INFO] ADCS samples: 430\n",
      "[INFO] ADCS time range: 1716543540.000000 to 1716544440.000000\n",
      "[INFO] Frame time range: 1716544209.988926 to 1716544259.738926\n",
      "[INFO] 199 sample(s) inside frame time range\n",
      "[INFO] Interpolating 598 frames\n",
      "[INFO] Computing pixel latitude and longitude coordinates ...\n",
      "[INFO] Interpolating pixel coordinate gaps...\n",
      "[INFO] Direct georeferencing done\n",
      "[INFO] Running track geometry computations...\n",
      "[INFO] Using UTM map: WGS 84 / UTM zone 32N EPSG: 32632\n",
      "[INFO] Track geometry computations done.\n",
      "[INFO] Running angles geometry computations...\n",
      "[INFO] Computing local angles (sun and satellite azimuth and zenith angles) ...\n",
      "[INFO] Using astropy on a subsampling of pixels ... (TODO skyfield may be faster)\n",
      "[INFO] Interpolating the rest of the pixels ...\n",
      "[INFO] Computing local angles done\n",
      "[INFO] Angles geometry computations done.\n"
     ]
    }
   ],
   "source": [
    "frohavet_path_t_24_0524 = os.path.join(dir_path, \"trondheim_2024-05-24T09-50-09Z-l1a.nc\")  ########## OBS OSB IKKE FROHAVET\n",
    "frohavet_path_t_24_0524_b = os.path.join(dir_path, \"trondheim_2024-05-24T09-50-09Z-l1b.nc\")\n",
    "frohavet_path_t_24_0524_c = os.path.join(dir_path, \"trondheim_2024-05-24T09-50-09Z-l1c.nc\")\n",
    "frohavet_path_t_24_0524_d = os.path.join(dir_path, \"trondheim_2024-05-24T09-50-09Z-l1d.nc\") \n",
    "\n",
    "satobj_h1_t_24_0524 = Hypso1( path = frohavet_path_t_24_0524, verbose = True )\n",
    "\n",
    "l1a_cube_t_24_0524 = satobj_h1_0412.l1a_cube\n",
    "l1b_cube_t_24_0524 = Hypso1( path = frohavet_path_t_24_0524_b, verbose = True )\n",
    "l1c_cube_t_24_0524 = Hypso1( path = frohavet_path_t_24_0524_c, verbose = True )\n",
    "l1d_cube_t_24_0524 = Hypso1( path = frohavet_path_t_24_0524_d, verbose = True )\n",
    "\n",
    "l1c_cube_t_24_0524 = l1c_cube_t_24_0524.l1c_cube\n",
    "l1b_cube_t_24_0524 = l1b_cube_t_24_0524.l1b_cube\n",
    "l1d_cube_t_24_0524 = l1d_cube_t_24_0524.l1d_cube\n",
    "\n",
    "satobj_h1_t_24_0524.run_direct_georeferencing() # in order to get the longiyudes and latitudes "
   ]
  },
  {
   "cell_type": "code",
   "execution_count": null,
   "id": "e2666ad7",
   "metadata": {},
   "outputs": [
    {
     "name": "stdout",
     "output_type": "stream",
     "text": [
      "[INFO] Loading L1a capture frohavetnorth_2024-06-15T10-48-13Z\n",
      "[INFO] Capture spatial dimensions: (598, 1092)\n",
      "[INFO] Capture capture type: wide\n",
      "[INFO] Loading L1b capture frohavetnorth_2024-06-15T10-48-13Z\n",
      "[INFO] Capture spatial dimensions: (598, 1092)\n",
      "[INFO] Capture capture type: wide\n",
      "[INFO] Loading L1c capture frohavetnorth_2024-06-15T10-48-13Z\n",
      "[INFO] Capture spatial dimensions: (598, 1092)\n",
      "[INFO] Capture capture type: wide\n",
      "[INFO] Loading L1d capture frohavetnorth_2024-06-15T10-48-13Z\n",
      "[INFO] Capture spatial dimensions: (598, 1092)\n",
      "[INFO] Capture capture type: wide\n",
      "[INFO] Running direct georeferencing...\n",
      "[INFO] ADCS samples: 431\n",
      "[INFO] ADCS time range: 1718447820.000000 to 1718448780.000000\n",
      "[INFO] Frame time range: 1718448493.783213 to 1718448543.533213\n",
      "[INFO] 199 sample(s) inside frame time range\n",
      "[INFO] Interpolating 598 frames\n",
      "[INFO] Computing pixel latitude and longitude coordinates ...\n",
      "[INFO] Interpolating pixel coordinate gaps...\n",
      "[INFO] Direct georeferencing done\n",
      "[INFO] Running track geometry computations...\n",
      "[INFO] Using UTM map: WGS 84 / UTM zone 32N EPSG: 32632\n",
      "[INFO] Track geometry computations done.\n",
      "[INFO] Running angles geometry computations...\n",
      "[INFO] Computing local angles (sun and satellite azimuth and zenith angles) ...\n",
      "[INFO] Using astropy on a subsampling of pixels ... (TODO skyfield may be faster)\n",
      "[INFO] Interpolating the rest of the pixels ...\n",
      "[INFO] Computing local angles done\n",
      "[INFO] Angles geometry computations done.\n"
     ]
    }
   ],
   "source": [
    "frohavet_path_24_0615 = os.path.join(dir_path, \"frohavetnorth_2024-06-15T10-48-13Z-l1a.nc\")\n",
    "frohavet_path_24_0615_b = os.path.join(dir_path, \"frohavetnorth_2024-06-15T10-48-13Z-l1b.nc\")\n",
    "frohavet_path_24_0615_c = os.path.join(dir_path, \"frohavetnorth_2024-06-15T10-48-13Z-l1c.nc\")\n",
    "frohavet_path_24_0615_d = os.path.join(dir_path, \"frohavetnorth_2024-06-15T10-48-13Z-l1d.nc\") \n",
    "\n",
    "satobj_h1_24_0615 = Hypso1( path = frohavet_path_24_0615, verbose = True )\n",
    "\n",
    "l1a_cube_24_0615 = satobj_h1_24_0615.l1a_cube\n",
    "l1b_cube_24_0615 = Hypso1( path = frohavet_path_24_0615_b, verbose = True )\n",
    "l1c_cube_24_0615 = Hypso1( path = frohavet_path_24_0615_c, verbose = True )\n",
    "l1d_cube_24_0615 = Hypso1( path = frohavet_path_24_0615_d, verbose = True )\n",
    "\n",
    "l1c_cube_24_0615 = l1c_cube_24_0615.l1c_cube\n",
    "l1b_cube_24_0615 = l1b_cube_24_0615.l1b_cube\n",
    "l1d_cube_24_0615 = l1d_cube_24_0615.l1d_cube\n",
    "\n",
    "satobj_h1_24_0615.run_direct_georeferencing() # in order to get the longiyudes and latitudes "
   ]
  },
  {
   "cell_type": "code",
   "execution_count": null,
   "id": "678dd0a7",
   "metadata": {},
   "outputs": [
    {
     "name": "stdout",
     "output_type": "stream",
     "text": [
      "[INFO] Loading L1a capture lakeanoya_2024-07-13T10-47-25Z\n",
      "[INFO] Capture spatial dimensions: (598, 1092)\n",
      "[INFO] Capture capture type: wide\n",
      "[INFO] Loading L1b capture lakeanoya_2024-07-13T10-47-25Z\n",
      "[INFO] Capture spatial dimensions: (598, 1092)\n",
      "[INFO] Capture capture type: wide\n",
      "[INFO] Loading L1c capture lakeanoya_2024-07-13T10-47-25Z\n",
      "[INFO] Capture spatial dimensions: (598, 1092)\n",
      "[INFO] Capture capture type: wide\n",
      "[INFO] Loading L1d capture lakeanoya_2024-07-13T10-47-25Z\n",
      "[INFO] Capture spatial dimensions: (598, 1092)\n",
      "[INFO] Capture capture type: wide\n",
      "[INFO] Running direct georeferencing...\n",
      "[INFO] ADCS samples: 430\n",
      "[INFO] ADCS time range: 1720866960.000000 to 1720867920.000000\n",
      "[INFO] Frame time range: 1720867645.176764 to 1720867694.926764\n",
      "[INFO] 199 sample(s) inside frame time range\n",
      "[INFO] Interpolating 598 frames\n",
      "[INFO] Computing pixel latitude and longitude coordinates ...\n",
      "[INFO] Interpolating pixel coordinate gaps...\n",
      "[INFO] Direct georeferencing done\n",
      "[INFO] Running track geometry computations...\n",
      "[INFO] Using UTM map: WGS 84 / UTM zone 32N EPSG: 32632\n",
      "[INFO] Track geometry computations done.\n",
      "[INFO] Running angles geometry computations...\n",
      "[INFO] Computing local angles (sun and satellite azimuth and zenith angles) ...\n",
      "[INFO] Using astropy on a subsampling of pixels ... (TODO skyfield may be faster)\n",
      "[INFO] Interpolating the rest of the pixels ...\n",
      "[INFO] Computing local angles done\n",
      "[INFO] Angles geometry computations done.\n"
     ]
    }
   ],
   "source": [
    "frohavet_path_24_0713 = os.path.join(dir_path, \"lakeanoya_2024-07-13T10-47-25Z-l1a.nc\")\n",
    "frohavet_path_24_0713_b = os.path.join(dir_path, \"lakeanoya_2024-07-13T10-47-25Z-l1b.nc\")\n",
    "frohavet_path_24_0713_c = os.path.join(dir_path, \"lakeanoya_2024-07-13T10-47-25Z-l1c.nc\")\n",
    "frohavet_path_24_0713_d = os.path.join(dir_path, \"lakeanoya_2024-07-13T10-47-25Z-l1d.nc\") \n",
    "\n",
    "satobj_h1_24_0713 = Hypso1( path = frohavet_path_24_0713, verbose = True )\n",
    "\n",
    "l1a_cube_24_0713 = satobj_h1_24_0713.l1a_cube\n",
    "l1b_cube_24_0713 = Hypso1( path = frohavet_path_24_0713_b, verbose = True )\n",
    "l1c_cube_24_0713 = Hypso1( path = frohavet_path_24_0713_c, verbose = True )\n",
    "l1d_cube_24_0713 = Hypso1( path = frohavet_path_24_0713_d, verbose = True )\n",
    "\n",
    "l1c_cube_24_0713 = l1c_cube_24_0713.l1c_cube\n",
    "l1b_cube_24_0713 = l1b_cube_24_0713.l1b_cube\n",
    "l1d_cube_24_0713 = l1d_cube_24_0713.l1d_cube\n",
    "\n",
    "satobj_h1_24_0713.run_direct_georeferencing() # in order to get the longiyudes and latitudes "
   ]
  },
  {
   "cell_type": "code",
   "execution_count": null,
   "id": "de42b87d",
   "metadata": {},
   "outputs": [],
   "source": [
    "#trondheim_path_t_22_0824 = os.path.join(dir_path, \"trondheim_2022-08-24T10-14-56Z-l1a.nc\") \n",
    "#trondheim_path_t_22_0824_b = os.path.join(dir_path, \"trondheim_2022-08-24T10-14-56Z-l1b.nc\")\n",
    "#trondheim_path_t_22_0824_c = os.path.join(dir_path, \"trondheim_2022-08-24T10-14-56Z-l1c.nc\")\n",
    "#trondheim_path_t_22_0824_d = os.path.join(dir_path, \"trondheim_2022-08-24T10-14-56Z-l1d.nc\")\n",
    "#\n",
    "#satobj_h1_t_22_0824 = Hypso1( path = trondheim_path_t_22_0824, verbose = True )\n",
    "#\n",
    "#l1a_cube_t_22_0824 = satobj_h1_t_22_0824.l1a_cube\n",
    "#l1b_cube_t_22_0824 = Hypso1( path = trondheim_path_t_22_0824_b, verbose = True )\n",
    "#l1c_cube_t_22_0824 = Hypso1( path = trondheim_path_t_22_0824_c, verbose = True )\n",
    "#l1d_cube_t_22_0824 = Hypso1( path = trondheim_path_t_22_0824_d, verbose = True )\n",
    "#\n",
    "#l1c_cube_t_22_0824 = l1c_cube_t_22_0824.l1c_cube\n",
    "#l1b_cube_t_22_0824 = l1b_cube_t_22_0824.l1b_cube\n",
    "#l1d_cube_t_22_0824 = l1d_cube_t_22_0824.l1d_cube\n",
    "#\n",
    "#satobj_h1_t_22_0824.run_direct_georeferencing() # in order to get the longiyudes and latitudes"
   ]
  },
  {
   "cell_type": "code",
   "execution_count": null,
   "id": "5e4585c0",
   "metadata": {},
   "outputs": [],
   "source": [
    "# trondheim_path_t_24_0911 = os.path.join(dir_path, \"trondheim_2024-09-11T11-00-43Z-l1a.nc\") \n",
    "# trondheim_path_t_24_0911_b = os.path.join(dir_path, \"trondheim_2024-09-11T11-00-43Z-l1b.nc\")\n",
    "# trondheim_path_t_24_0911_c = os.path.join(dir_path, \"trondheim_2024-09-11T11-00-43Z-l1c.nc\")\n",
    "# trondheim_path_t_24_0911_d = os.path.join(dir_path, \"trondheim_2024-09-11T11-00-43Z-l1d.nc\")\n",
    "# \n",
    "# satobj_h1_t_24_0911 = Hypso1( path = trondheim_path_t_24_0911, verbose = True )\n",
    "# \n",
    "# l1a_cube_t_24_0911 = satobj_h1_t_24_0911.l1a_cube\n",
    "# l1b_cube_t_24_0911 = Hypso1( path = trondheim_path_t_24_0911_b, verbose = True )\n",
    "# l1c_cube_t_24_0911 = Hypso1( path = trondheim_path_t_24_0911_c, verbose = True )\n",
    "# l1d_cube_t_24_0911 = Hypso1( path = trondheim_path_t_24_0911_d, verbose = True )\n",
    "# \n",
    "# l1c_cube_t_24_0911 = l1c_cube_t_24_0911.l1c_cube\n",
    "# l1b_cube_t_24_0911 = l1b_cube_t_24_0911.l1b_cube\n",
    "# l1d_cube_t_24_0911 = l1d_cube_t_24_0911.l1d_cube\n",
    "# \n",
    "# satobj_h1_t_24_0911.run_direct_georeferencing() # in order to get the longiyudes and latitudes"
   ]
  },
  {
   "cell_type": "code",
   "execution_count": null,
   "id": "79b339f5",
   "metadata": {},
   "outputs": [],
   "source": [
    "# trondheim_path_t_24_0914 = os.path.join(dir_path, \"trondheim_2024-09-14T09-42-48Z-l1a.nc\") \n",
    "# trondheim_path_t_24_0914_b = os.path.join(dir_path, \"trondheim_2024-09-14T09-42-48Z-l1b.nc\")\n",
    "# trondheim_path_t_24_0914_c = os.path.join(dir_path, \"trondheim_2024-09-14T09-42-48Z-l1c.nc\")\n",
    "# trondheim_path_t_24_0914_d = os.path.join(dir_path, \"trondheim_2024-09-14T09-42-48Z-l1d.nc\")\n",
    "# \n",
    "# satobj_h1_t_24_0914 = Hypso1( path = trondheim_path_t_24_0914, verbose = True )\n",
    "# \n",
    "# l1a_cube_t_24_0914 = satobj_h1_t_24_0914.l1a_cube\n",
    "# l1b_cube_t_24_0914 = Hypso1( path = trondheim_path_t_24_0914_b, verbose = True )\n",
    "# l1c_cube_t_24_0914 = Hypso1( path = trondheim_path_t_24_0914_c, verbose = True )\n",
    "# l1d_cube_t_24_0914 = Hypso1( path = trondheim_path_t_24_0914_d, verbose = True )\n",
    "# \n",
    "# l1c_cube_t_24_0914 = l1c_cube_t_24_0914.l1c_cube\n",
    "# l1b_cube_t_24_0914 = l1b_cube_t_24_0914.l1b_cube\n",
    "# l1d_cube_t_24_0914 = l1d_cube_t_24_0914.l1d_cube\n",
    "# \n",
    "# satobj_h1_t_24_0914.run_direct_georeferencing() # in order to get the longiyudes and latitudes"
   ]
  },
  {
   "cell_type": "markdown",
   "id": "b984bf4b",
   "metadata": {},
   "source": [
    "##### Defining Areas"
   ]
  },
  {
   "cell_type": "code",
   "execution_count": null,
   "id": "105eee29",
   "metadata": {},
   "outputs": [
    {
     "data": {
      "text/plain": [
       "<module 'funcions_autonom' from '/home/itk/Documents/AnneMarthe/Master/Hypos_analyse/funcions_autonom.py'>"
      ]
     },
     "execution_count": 20,
     "metadata": {},
     "output_type": "execute_result"
    }
   ],
   "source": [
    "#extract wanted waelengths\n",
    "wl = satobj_h1_230330.wavelengths[4:118]\n",
    "x_123 = [387.84749685, 391.40406599, 394.95941579, 398.51354623, 402.06645732, 405.61814905, 409.16862143, 412.71787446, 416.26590814, 419.81272246, 423.35831743, 426.90269305, 430.44584931, 433.98778622, 437.52850378, 441.06800198, 444.60628083, 448.14334033, 451.67918047, 455.21380126, 458.7472027, 462.27938479, 465.81034752, 469.3400909 , 472.86861492,476.3959196 , 479.92200491, 483.44687088, 486.97051749, 490.49294475,494.01415266, 497.53414122, 501.05291042, 504.57046026, 508.08679076,511.6019019 , 515.11579369, 518.62846612, 522.13991921, 525.65015294,529.15916731, 532.66696233, 536.173538  , 539.67889432, 543.18303128,546.68594889, 550.18764715, 553.68812606, 557.18738561, 560.68542581,564.18224665, 567.67784814, 571.17223028, 574.66539307, 578.1573365, 581.64806058, 585.1375653 , 588.62585068, 592.1129167 , 595.59876336,599.08339068, 602.56679864, 606.04898725, 609.5299565 , 613.0097064 ,616.48823695, 619.96554815, 623.44163999, 626.91651248, 630.39016561,633.86259939, 637.33381382, 640.8038089 , 644.27258462, 647.74014099,651.20647801, 654.67159568, 658.13549399, 661.59817294, 665.05963255,668.5198728 , 671.9788937 , 675.43669524, 678.89327744, 682.34864028,685.80278376, 689.25570789, 692.70741267, 696.1578981 , 699.60716418,703.0552109 , 706.50203826, 709.94764628, 713.39203494, 716.83520425,720.2771542 , 723.7178848 , 727.15739605, 730.59568795, 734.03276049,737.46861368, 740.90324752, 744.336662  , 747.76885713, 751.19983291,754.62958933, 758.0581264 , 761.48544412, 764.91154248, 768.33642149,771.76008115, 775.18252146, 778.60374241, 782.02374401, 785.44252625,788.86008915, 792.27643269, 795.69155687, 799.10546171, 802.51814719]\n",
    "wl = x_123[4:118]\n",
    "\n",
    "target_lat_6 = [64.48557437461893,64.52896641587218, 64.20992561747796, 64.22009411667561] #område 7\n",
    "target_lon_6 = [9.886201113342556, 8.708294855080245,9.704720121565003,8.73032214102829]  \n",
    "\n",
    "target_lat_5 = [64.17324887890479,64.11631446557637, 63.896904083590066, 63.887923483169004] #område 6.1\n",
    "target_lon_5 = [9.582148298814932,8.924448409066027, 9.578289180688513, 8.96230357578283]\n",
    "\n",
    "target_lat_3 = [63.818490304354434,63.793837321385155, 63.65192496143867, 63.660555970548074] #område 2.1.\n",
    "target_lon_3 = [9.531415429238418, 9.442656298818237,9.526455044589706,9.439764451470932]\n",
    "\n",
    "target_lat_2 = [63.646767083517425,63.61771951990031, 63.47865598622861, 63.42721372576498] #område 5.1\n",
    "target_lon_2 = [9.804697410334523, 9.723689711502818,10.061035990832918,9.982929114384596]  \n",
    "\n",
    "target_lat_1 = [63.52676744792975, 63.55113867486421, 63.44802428401152, 63.46332195091103] #område 8 \n",
    "target_lon_1 = [10.726421572030368, 10.227932960954064, 10.706024496195505, 10.211631333282082] \n",
    "\n",
    "importlib.reload(ac)\n",
    "importlib.reload(f)"
   ]
  },
  {
   "cell_type": "markdown",
   "id": "4b5db7e4",
   "metadata": {},
   "source": [
    "##### Atm corrected data cubes"
   ]
  },
  {
   "cell_type": "code",
   "execution_count": null,
   "id": "6662defb",
   "metadata": {},
   "outputs": [
    {
     "name": "stdout",
     "output_type": "stream",
     "text": [
      "0.1301401816368606\n",
      "0.04033158572291059\n",
      "0.0043536260012921185\n",
      "0.002610166159932221\n",
      "0.002069329725571627\n",
      "0.0017488788983443101\n",
      "0.0015675562437948837\n",
      "0.0014519269304219705\n",
      "0.0013700519783459366\n",
      "0.0013086587127885204\n",
      "0.0012609767983272498\n",
      "0.0012230276420337283\n",
      "0.001192251102317362\n",
      "0.0011669748753443952\n",
      "0.0011459015869627446\n",
      "0.0011280356408282881\n",
      "0.0011126720398337505\n",
      "0.0010992849776469491\n",
      "0.0010874772747466084\n",
      "0.0010769473522588711\n"
     ]
    },
    {
     "ename": "",
     "evalue": "",
     "output_type": "error",
     "traceback": [
      "\u001b[1;31mThe Kernel crashed while executing code in the current cell or a previous cell. \n",
      "\u001b[1;31mPlease review the code in the cell(s) to identify a possible cause of the failure. \n",
      "\u001b[1;31mClick <a href='https://aka.ms/vscodeJupyterKernelCrash'>here</a> for more info. \n",
      "\u001b[1;31mView Jupyter <a href='command:jupyter.viewOutput'>log</a> for further details."
     ]
    }
   ],
   "source": [
    "cube_0316 = np.array(l1d_cube[:,:, 4:118]) # get the toa reflectance cube\n",
    "sat = np.max(l1a_cube, axis = -1) > 35000 ##identifying saturated pixsels\n",
    "T, S, objs = ac.atm_correction(cube_0316.reshape(-1,114), solar=np.ones(114), verbose = True, tol = 0.01, est_min_R = 0.05) # calculating transmission and scattering\n",
    "\n",
    "cube_norm_0316 = (cube_0316 - S) /T\n",
    "cube_norm_0316[sat] = np.nan #normalizing the cube and setting saturated pixels to nan\n",
    "\n",
    "latitudes_0316 = satobj_h1.latitudes\n",
    "longitudes_0316 = satobj_h1.longitudes"
   ]
  },
  {
   "cell_type": "code",
   "execution_count": null,
   "id": "6384ecbc",
   "metadata": {},
   "outputs": [],
   "source": [
    "cube_0328 = np.array(l1d_cube_0328[:,:, 4:118]) # get the toa reflectance cube\n",
    "sat = np.max(l1a_cube_0328, axis = -1) > 35000 ##identifying saturated pixsels\n",
    "T, S, objs = ac.atm_correction(cube_0328.reshape(-1,114), solar=np.ones(114), verbose = True, tol = 0.01, est_min_R = 0.05) # calculating transmission and scattering\n",
    "\n",
    "cube_norm_0328 = (cube_0328 - S) /T\n",
    "cube_norm_0328[sat] = np.nan #normalizing the cube and setting saturated pixels to nan\n",
    "\n",
    "latitudes_0328 = satobj_h1_0328.latitudes\n",
    "longitudes_0328 = satobj_h1_0328.longitudes"
   ]
  },
  {
   "cell_type": "code",
   "execution_count": null,
   "id": "7f0ce915",
   "metadata": {},
   "outputs": [],
   "source": [
    "cube_0329 = np.array(l1d_cube_0329[:,:, 4:118]) # get the toa reflectance cube\n",
    "sat = np.max(l1a_cube_0329, axis = -1) > 35000 ##identifying saturated pixsels\n",
    "T, S, objs = ac.atm_correction(cube_0329.reshape(-1,114), solar=np.ones(114), verbose = True, tol = 0.01, est_min_R = 0.05) # calculating transmission and scattering\n",
    "\n",
    "cube_norm_0329 = (cube_0329 - S) /T\n",
    "cube_norm_0329[sat] = np.nan #normalizing the cube and setting saturated pixels to nan\n",
    "\n",
    "latitudes_0329 = satobj_h1_0329.latitudes\n",
    "longitudes_0329 = satobj_h1_0329.longitudes"
   ]
  },
  {
   "cell_type": "code",
   "execution_count": null,
   "id": "33c71148",
   "metadata": {},
   "outputs": [],
   "source": [
    "cube_0330 = np.array(l1d_cube_230330[:,:, 4:118]) # get the toa reflectance cube\n",
    "sat = np.max(l1a_cube_230330, axis = -1) > 35000 ##identifying saturated pixsels\n",
    "T, S, objs = ac.atm_correction(cube_0330.reshape(-1,114), solar=np.ones(114), verbose = True, tol = 0.01, est_min_R = 0.05) # calculating transmission and scattering\n",
    "\n",
    "cube_norm_0330 = (cube_0330 - S) /T\n",
    "cube_norm_0330[sat] = np.nan #normalizing the cube and setting saturated pixels to nan\n",
    "\n",
    "latitudes_0330 = satobj_h1_230330.latitudes\n",
    "longitudes_0330 = satobj_h1_230330.longitudes"
   ]
  },
  {
   "cell_type": "code",
   "execution_count": null,
   "id": "02361917",
   "metadata": {},
   "outputs": [],
   "source": [
    "cube_0407 = np.array(l1d_cube_0407[:,:, 4:118]) # get the toa reflectance cube\n",
    "sat = np.max(l1a_cube_0407, axis = -1) > 35000 ##identifying saturated pixsels\n",
    "T, S, objs = ac.atm_correction(cube_0407.reshape(-1,114), solar=np.ones(114), verbose = True, tol = 0.01, est_min_R = 0.05) # calculating transmission and scattering\n",
    "\n",
    "cube_norm_0407 = (cube_0407 - S) /T\n",
    "cube_norm_0407[sat] = np.nan #normalizing the cube and setting saturated pixels to nan\n",
    "\n",
    "latitudes_0407 = satobj_h1_0407.latitudes\n",
    "longitudes_0407 = satobj_h1_0407.longitudes"
   ]
  },
  {
   "cell_type": "code",
   "execution_count": null,
   "id": "f50e21d1",
   "metadata": {},
   "outputs": [],
   "source": [
    "cube_0412 = np.array(l1d_cube_0412[:,:, 4:118]) # get the toa reflectance cube\n",
    "sat = np.max(l1a_cube_0412, axis = -1) > 35000 ##identifying saturated pixsels\n",
    "T, S, objs = ac.atm_correction(cube_0412.reshape(-1,114), solar=np.ones(114), verbose = True, tol = 0.01, est_min_R = 0.05) # calculating transmission and scattering\n",
    "\n",
    "cube_norm_0412 = (cube_0412 - S) /T\n",
    "cube_norm_0412[sat] = np.nan #normalizing the cube and setting saturated pixels to nan\n",
    "\n",
    "latitudes_0412 = satobj_h1_0412.latitudes\n",
    "longitudes_0412 = satobj_h1_0412.longitudes"
   ]
  },
  {
   "cell_type": "code",
   "execution_count": null,
   "id": "559c67e6",
   "metadata": {},
   "outputs": [],
   "source": [
    "cube_0614 = np.array(l1d_cube_0614[:,:, 4:118]) # get the toa reflectance cube\n",
    "sat = np.max(l1a_cube_0614, axis = -1) > 35000 ##identifying saturated pixsels\n",
    "T, S, objs = ac.atm_correction(cube_0614.reshape(-1,114), solar=np.ones(114), verbose = True, tol = 0.01, est_min_R = 0.05) # calculating transmission and scattering\n",
    "\n",
    "cube_norm_0614 = (cube_0614 - S) /T\n",
    "cube_norm_0614[sat] = np.nan #normalizing the cube and setting saturated pixels to nan\n",
    "\n",
    "latitudes_0614 = satobj_h1_0614.latitudes\n",
    "longitudes_0614 = satobj_h1_0614.longitudes"
   ]
  },
  {
   "cell_type": "code",
   "execution_count": null,
   "id": "7b04927d",
   "metadata": {},
   "outputs": [],
   "source": [
    "cube_0730 = np.array(l1d_cube_0730[:,:, 4:118]) # get the toa reflectance cube\n",
    "sat = np.max(l1a_cube_0730, axis = -1) > 35000 ##identifying saturated pixsels\n",
    "T, S, objs = ac.atm_correction(cube_0730.reshape(-1,114), solar=np.ones(114), verbose = True, tol = 0.01, est_min_R = 0.05) # calculating transmission and scattering\n",
    "\n",
    "cube_norm_0730 = (cube_0730 - S) /T\n",
    "cube_norm_0730[sat] = np.nan #normalizing the cube and setting saturated pixels to nan\n",
    "\n",
    "latitudes_0730 = satobj_h1_0730.latitudes\n",
    "longitudes_0730 = satobj_h1_0730.longitudes"
   ]
  },
  {
   "cell_type": "code",
   "execution_count": null,
   "id": "aa502783",
   "metadata": {},
   "outputs": [],
   "source": [
    "cube_24_0310 = np.array(l1d_cube_24_0310[:,:, 4:118]) # get the toa reflectance cube\n",
    "sat = np.max(l1a_cube_24_0310, axis = -1) > 35000 ##identifying saturated pixsels\n",
    "T, S, objs = ac.atm_correction(cube_24_0310.reshape(-1,114), solar=np.ones(114), verbose = True, tol = 0.01, est_min_R = 0.05) # calculating transmission and scattering\n",
    "\n",
    "cube_norm_24_0310 = (cube_24_0310 - S) /T\n",
    "cube_norm_24_0310[sat] = np.nan #normalizing the cube and setting saturated pixels to nan\n",
    "\n",
    "latitudes_24_0310 = satobj_h1_24_0310.latitudes\n",
    "longitudes_24_0310 = satobj_h1_24_0310.longitudes"
   ]
  },
  {
   "cell_type": "code",
   "execution_count": null,
   "id": "9d100af2",
   "metadata": {},
   "outputs": [],
   "source": [
    "cube_24_0419 = np.array(l1d_cube_24_0419[:,:, 4:118]) # get the toa reflectance cube\n",
    "sat = np.max(l1a_cube_24_0419, axis = -1) > 35000 ##identifying saturated pixsels\n",
    "T, S, objs = ac.atm_correction(cube_24_0419.reshape(-1,114), solar=np.ones(114), verbose = True, tol = 0.01, est_min_R = 0.05) # calculating transmission and scattering\n",
    "\n",
    "cube_norm_24_0419 = (cube_24_0419 - S) /T\n",
    "cube_norm_24_0419[sat] = np.nan #normalizing the cube and setting saturated pixels to nan\n",
    "\n",
    "latitudes_24_0419 = satobj_h1_24_0419.latitudes\n",
    "longitudes_24_0419 = satobj_h1_24_0419.longitudes"
   ]
  },
  {
   "cell_type": "code",
   "execution_count": null,
   "id": "11de45cf",
   "metadata": {},
   "outputs": [],
   "source": [
    "cube_24_0426 = np.array(l1d_cube_24_0426[:,:, 4:118]) # get the toa reflectance cube\n",
    "sat = np.max(l1a_cube_24_0426, axis = -1) > 35000 ##identifying saturated pixsels\n",
    "T, S, objs = ac.atm_correction(cube_24_0426.reshape(-1,114), solar=np.ones(114), verbose = True, tol = 0.01, est_min_R = 0.05) # calculating transmission and scattering\n",
    "\n",
    "cube_norm_24_0426 = (cube_24_0426 - S) /T\n",
    "cube_norm_24_0426[sat] = np.nan #normalizing the cube and setting saturated pixels to nan\n",
    "\n",
    "latitudes_24_0426 = satobj_h1_24_0426.latitudes\n",
    "longitudes_24_0426 = satobj_h1_24_0426.longitudes"
   ]
  },
  {
   "cell_type": "code",
   "execution_count": null,
   "id": "c0c5d9f3",
   "metadata": {},
   "outputs": [],
   "source": [
    "cube_24_0506 = np.array(l1d_cube_24_0506[:,:, 4:118]) # get the toa reflectance cube\n",
    "sat = np.max(l1a_cube_24_0506, axis = -1) > 35000 ##identifying saturated pixsels\n",
    "T, S, objs = ac.atm_correction(cube_24_0506.reshape(-1,114), solar=np.ones(114), verbose = True, tol = 0.01, est_min_R = 0.05) # calculating transmission and scattering\n",
    "\n",
    "cube_norm_24_0506 = (cube_24_0506 - S) /T\n",
    "cube_norm_24_0506[sat] = np.nan #normalizing the cube and setting saturated pixels to nan\n",
    "\n",
    "latitudes_24_0506 = satobj_h1_24_0506.latitudes\n",
    "longitudes_24_0506 = satobj_h1_24_0506.longitudes"
   ]
  },
  {
   "cell_type": "code",
   "execution_count": null,
   "id": "41ecaa7e",
   "metadata": {},
   "outputs": [],
   "source": [
    "cube_t_24_0524 = np.array(l1d_cube_t_24_0524[:,:, 4:118]) # get the toa reflectance cube\n",
    "sat = np.max(l1a_cube_t_24_0524, axis = -1) > 35000 ##identifying saturated pixsels\n",
    "T, S, objs = ac.atm_correction(cube_t_24_0524.reshape(-1,114), solar=np.ones(114), verbose = True, tol = 0.01, est_min_R = 0.05) # calculating transmission and scattering\n",
    "\n",
    "cube_norm_t_24_0524 = (cube_t_24_0524 - S) /T\n",
    "cube_norm_t_24_0524[sat] = np.nan #normalizing the cube and setting saturated pixels to nan\n",
    "\n",
    "latitudes_t_24_0524 = satobj_h1_t_24_0524.latitudes\n",
    "longitudes_t_24_0524 = satobj_h1_t_24_0524.longitudes"
   ]
  },
  {
   "cell_type": "code",
   "execution_count": null,
   "id": "74e96c43",
   "metadata": {},
   "outputs": [],
   "source": [
    "cube_l_24_0713 = np.array(l1d_cube_24_0713[:,:, 4:118]) # get the toa reflectance cube \n",
    "sat = np.max(l1a_cube_24_0713, axis = -1) > 35000 ##identifying saturated pixsels\n",
    "T, S, objs = ac.atm_correction(cube_l_24_0713.reshape(-1,114), solar=np.ones(114), verbose = True, tol = 0.01, est_min_R = 0.05) # calculating transmission and scattering\n",
    "\n",
    "cube_norm_l_24_0713 = (cube_l_24_0713 - S) /T\n",
    "cube_norm_l_24_0713[sat] = np.nan #normalizing the cube and setting saturated pixels to nan\n",
    "\n",
    "latitudes_l_24_0713 = satobj_h1_24_0713.latitudes\n",
    "longitudes_l_24_0713 = satobj_h1_24_0713.longitudes"
   ]
  },
  {
   "cell_type": "code",
   "execution_count": null,
   "id": "ef5edd3c",
   "metadata": {},
   "outputs": [],
   "source": [
    "cube_fn_24_0615 = np.array(l1d_cube_24_0713[:,:, 4:118]) # get the toa reflectance cube \n",
    "sat = np.max(l1a_cube_24_0615, axis = -1) > 35000 ##identifying saturated pixsels\n",
    "T, S, objs = ac.atm_correction(cube_fn_24_0615.reshape(-1,114), solar=np.ones(114), verbose = True, tol = 0.01, est_min_R = 0.05) # calculating transmission and scattering\n",
    "\n",
    "cube_norm_fn_24_0615 = (cube_fn_24_0615 - S) /T\n",
    "cube_norm_fn_24_0615[sat] = np.nan #normalizing the cube and setting saturated pixels to nan\n",
    "\n",
    "latitudes_fn_24_0615 = satobj_h1_24_0615.latitudes\n",
    "longitudes_fn_24_0615 = satobj_h1_24_0615.longitudes"
   ]
  },
  {
   "cell_type": "code",
   "execution_count": null,
   "id": "9e262f59",
   "metadata": {},
   "outputs": [],
   "source": [
    "cube_t_22_0824 = np.array(l1d_cube_t_22_0824[:,:, 4:118]) # get the toa reflectance cube\n",
    "sat = np.max(l1a_cube_t_22_0824, axis = -1) > 35000 ##identifying saturated pixsels\n",
    "T, S, objs = ac.atm_correction(cube_t_22_0824.reshape(-1,114), solar=np.ones(114), verbose = True, tol = 0.01, est_min_R = 0.05) # calculating transmission and scattering\n",
    "\n",
    "cube_norm_t_22_0824 = (cube_t_22_0824 - S) /T\n",
    "cube_norm_t_22_0824[sat] = np.nan #normalizing the cube and setting saturated pixels to nan\n",
    "\n",
    "latitudes_t_22_0824 = satobj_h1_t_22_0824.latitudes\n",
    "longitudes_t_22_0824 = satobj_h1_t_22_0824.longitudes"
   ]
  },
  {
   "cell_type": "code",
   "execution_count": null,
   "id": "975f1214",
   "metadata": {},
   "outputs": [],
   "source": [
    "cube_t_24_0911 = np.array(l1d_cube_t_24_0911[:,:, 4:118]) # get the toa reflectance cube\n",
    "sat = np.max(l1a_cube_t_24_0911, axis = -1) > 35000 ##identifying saturated pixsels\n",
    "T, S, objs = ac.atm_correction(cube_t_24_0911.reshape(-1,114), solar=np.ones(114), verbose = True, tol = 0.01, est_min_R = 0.05) # calculating transmission and scattering\n",
    "\n",
    "cube_norm_t_24_0911 = (cube_t_24_0911 - S) /T\n",
    "cube_norm_t_24_0911[sat] = np.nan #normalizing the cube and setting saturated pixels to nan\n",
    "\n",
    "latitudes_t_24_0911 = satobj_h1_t_24_0911.latitudes\n",
    "longitudes_t_24_0911 = satobj_h1_t_24_0911.longitudes"
   ]
  },
  {
   "cell_type": "code",
   "execution_count": null,
   "id": "e41436a6",
   "metadata": {},
   "outputs": [],
   "source": [
    "cube_t_24_0914 = np.array(l1d_cube_t_24_0914[:,:, 4:118]) # get the toa reflectance cube\n",
    "sat = np.max(l1a_cube_t_24_0914, axis = -1) > 35000 ##identifying saturated pixsels\n",
    "T, S, objs = ac.atm_correction(cube_t_24_0914.reshape(-1,114), solar=np.ones(114), verbose = True, tol = 0.01, est_min_R = 0.05) # calculating transmission and scattering\n",
    "\n",
    "cube_norm_t_24_0914 = (cube_t_24_0914 - S) /T\n",
    "cube_norm_t_24_0914[sat] = np.nan #normalizing the cube and setting saturated pixels to nan\n",
    "\n",
    "latitudes_t_24_0914 = satobj_h1_t_24_0914.latitudes\n",
    "longitudes_t_24_0914 = satobj_h1_t_24_0914.longitudes"
   ]
  },
  {
   "cell_type": "markdown",
   "id": "fc07bb55",
   "metadata": {},
   "source": [
    "#### RSS \n"
   ]
  },
  {
   "cell_type": "markdown",
   "id": "a700b75a",
   "metadata": {},
   "source": [
    "##### RSS frohavet 0316"
   ]
  },
  {
   "cell_type": "code",
   "execution_count": null,
   "id": "ccf3e1e4",
   "metadata": {},
   "outputs": [],
   "source": [
    "piksel_row_A1_0316, piksel_col_A1_0316 = f.latLong_to_piksel(target_lat_1, target_lon_1, latitudes_0316, longitudes_0316) #####________\n",
    "print(piksel_row_A1_0316, piksel_col_A1_0316) \n",
    "\n",
    "rss_A1_0316 = f.hyps1_rss_matrix(cube_norm_0316, piksel_row_A1_0316, piksel_col_A1_0316, satobj_h1)    #####________\n",
    "print(rss_A1_0316.shape) \n",
    "\n",
    "median_A1_0316_atmc = np.median(rss_A1_0316, axis = 0)\n",
    "median_A1_0316_atmc.shape\n",
    "normaized_spectrum_median_A1_0316 = f.min_max_nomralization(median_A1_0316_atmc)\n",
    "l2_norm_A1_0316 = np.linalg.norm(median_A1_0316_atmc)  \n",
    "l2_normalized_spectrum_A1_0316 = median_A1_0316_atmc / l2_norm_A1_0316  "
   ]
  },
  {
   "cell_type": "code",
   "execution_count": null,
   "id": "582c25c6",
   "metadata": {},
   "outputs": [],
   "source": [
    "piksel_row_A2_0316, piksel_col_A2_0316 = f.latLong_to_piksel(target_lat_1, target_lon_1, latitudes_0316, longitudes_0316) #####________\n",
    "print(piksel_row_A2_0316, piksel_col_A2_0316) \n",
    "\n",
    "rss_A2_0316 = f.hyps1_rss_matrix(cube_norm_0316, piksel_row_A2_0316, piksel_col_A2_0316, satobj_h1)    #####________\n",
    "print(rss_A2_0316.shape) \n",
    "\n",
    "median_A2_0316_atmc = np.median(rss_A2_0316, axis = 0)\n",
    "median_A2_0316_atmc.shape\n",
    "normaized_spectrum_median_A1_0316 = f.min_max_nomralization(median_A2_0316_atmc)\n",
    "l2_norm_A2_0316 = np.linalg.norm(median_A2_0316_atmc)  \n",
    "l2_normalized_spectrum_A2_0316 = median_A2_0316_atmc / l2_norm_A2_0316  "
   ]
  },
  {
   "cell_type": "code",
   "execution_count": null,
   "id": "542afdde",
   "metadata": {},
   "outputs": [],
   "source": [
    "piksel_row_A3_0316, piksel_col_A3_0316 = f.latLong_to_piksel(target_lat_1, target_lon_1, latitudes_0316, longitudes_0316) #####________\n",
    "print(piksel_row_A3_0316, piksel_col_A3_0316) \n",
    "\n",
    "rss_A3_0316 = f.hyps1_rss_matrix(cube_norm_0316, piksel_row_A3_0316, piksel_col_A3_0316, satobj_h1)    #####________\n",
    "print(rss_A3_0316.shape) \n",
    "\n",
    "median_A3_0316_atmc = np.median(rss_A3_0316, axis = 0)\n",
    "median_A3_0316_atmc.shape\n",
    "normaized_spectrum_median_A1_0316 = f.min_max_nomralization(median_A3_0316_atmc)\n",
    "l2_norm_A3_0316 = np.linalg.norm(median_A3_0316_atmc)  \n",
    "l2_normalized_spectrum_A3_0316 = median_A3_0316_atmc / l2_norm_A3_0316  "
   ]
  },
  {
   "cell_type": "code",
   "execution_count": null,
   "id": "b2e35eb9",
   "metadata": {},
   "outputs": [],
   "source": [
    "piksel_row_A5_0316, piksel_col_A5_0316 = f.latLong_to_piksel(target_lat_1, target_lon_1, latitudes_0316, longitudes_0316) #####________\n",
    "print(piksel_row_A5_0316, piksel_col_A5_0316) \n",
    "\n",
    "rss_A5_0316 = f.hyps1_rss_matrix(cube_norm_0316, piksel_row_A5_0316, piksel_col_A5_0316, satobj_h1)    #####________\n",
    "print(rss_A5_0316.shape) \n",
    "\n",
    "median_A5_0316_atmc = np.median(rss_A5_0316, axis = 0)\n",
    "median_A5_0316_atmc.shape\n",
    "normaized_spectrum_median_A1_0316 = f.min_max_nomralization(median_A5_0316_atmc)\n",
    "l2_norm_A5_0316 = np.linalg.norm(median_A5_0316_atmc)  \n",
    "l2_normalized_spectrum_A5_0316 = median_A5_0316_atmc / l2_norm_A5_0316  "
   ]
  },
  {
   "cell_type": "code",
   "execution_count": null,
   "id": "7189874c",
   "metadata": {},
   "outputs": [],
   "source": [
    "piksel_row_A6_0316, piksel_col_A6_0316 = f.latLong_to_piksel(target_lat_1, target_lon_1, latitudes_0316, longitudes_0316) #####________\n",
    "print(piksel_row_A6_0316, piksel_col_A6_0316) \n",
    "\n",
    "rss_A6_0316 = f.hyps1_rss_matrix(cube_norm_0316, piksel_row_A6_0316, piksel_col_A6_0316, satobj_h1)    #####________\n",
    "print(rss_A6_0316.shape) \n",
    "\n",
    "median_A6_0316_atmc = np.median(rss_A6_0316, axis = 0)\n",
    "median_A6_0316_atmc.shape\n",
    "normaized_spectrum_median_A1_0316 = f.min_max_nomralization(median_A6_0316_atmc)\n",
    "l2_norm_A6_0316 = np.linalg.norm(median_A6_0316_atmc)  \n",
    "l2_normalized_spectrum_A6_0316 = median_A6_0316_atmc / l2_norm_A6_0316  "
   ]
  },
  {
   "cell_type": "markdown",
   "id": "2bacce5f",
   "metadata": {},
   "source": [
    "##### RRS froavet 0328"
   ]
  },
  {
   "cell_type": "code",
   "execution_count": null,
   "id": "74839d6b",
   "metadata": {},
   "outputs": [],
   "source": [
    "piksel_row_A1_0328, piksel_col_A1_0328 = f.latLong_to_piksel(target_lat_1, target_lon_1, latitudes_0328, longitudes_0328) #####________\n",
    "print(piksel_row_A1_0328, piksel_col_A1_0328) \n",
    "\n",
    "rss_A1_0328 = f.hyps1_rss_matrix(cube_norm_0328, piksel_row_A1_0328, piksel_col_A1_0328, satobj_h1_0328)    #####________\n",
    "print(rss_A1_0328.shape) \n",
    "\n",
    "median_A1_0328_atmc = np.median(rss_A1_0328, axis = 0)\n",
    "median_A1_0328_atmc.shape\n",
    "normaized_spectrum_median_A1_0328 = f.min_max_nomralization(median_A1_0328_atmc)\n",
    "l2_norm_A1_0328 = np.linalg.norm(median_A1_0328_atmc)  \n",
    "l2_normalized_spectrum_A1_0328 = median_A1_0328_atmc / l2_norm_A1_0328  "
   ]
  },
  {
   "cell_type": "code",
   "execution_count": null,
   "id": "d4b5e353",
   "metadata": {},
   "outputs": [],
   "source": [
    "piksel_row_A2_0328, piksel_col_A2_0328 = f.latLong_to_piksel(target_lat_1, target_lon_1, latitudes_0328, longitudes_0328) #####________\n",
    "print(piksel_row_A2_0328, piksel_col_A2_0328) \n",
    "\n",
    "rss_A2_0328 = f.hyps1_rss_matrix(cube_norm_0328, piksel_row_A2_0328, piksel_col_A2_0328, satobj_h1_0328)    #####________\n",
    "print(rss_A2_0328.shape) \n",
    "\n",
    "median_A2_0328_atmc = np.median(rss_A2_0328, axis = 0)\n",
    "median_A2_0328_atmc.shape\n",
    "normaized_spectrum_median_A2_0328 = f.min_max_nomralization(median_A2_0328_atmc)\n",
    "l2_norm_A2_0328 = np.linalg.norm(median_A2_0328_atmc)  \n",
    "l2_normalized_spectrum_A2_0328 = median_A2_0328_atmc / l2_norm_A2_0328  "
   ]
  },
  {
   "cell_type": "code",
   "execution_count": null,
   "id": "4dc22cf2",
   "metadata": {},
   "outputs": [],
   "source": [
    "piksel_row_A3_0328, piksel_col_A3_0328 = f.latLong_to_piksel(target_lat_1, target_lon_1, latitudes_0328, longitudes_0328) #####________\n",
    "print(piksel_row_A3_0328, piksel_col_A3_0328) \n",
    "\n",
    "rss_A3_0328 = f.hyps1_rss_matrix(cube_norm_0328, piksel_row_A3_0328, piksel_col_A3_0328, satobj_h1_0328)    #####________\n",
    "print(rss_A3_0328.shape) \n",
    "\n",
    "median_A3_0328_atmc = np.median(rss_A3_0328, axis = 0)\n",
    "median_A3_0328_atmc.shape\n",
    "normaized_spectrum_median_A3_0328 = f.min_max_nomralization(median_A3_0328_atmc)\n",
    "l2_norm_A3_0328 = np.linalg.norm(median_A3_0328_atmc)  \n",
    "l2_normalized_spectrum_A3_0328 = median_A3_0328_atmc / l2_norm_A3_0328  "
   ]
  },
  {
   "cell_type": "code",
   "execution_count": null,
   "id": "3061e94a",
   "metadata": {},
   "outputs": [],
   "source": [
    "piksel_row_A5_0328, piksel_col_A5_0328 = f.latLong_to_piksel(target_lat_1, target_lon_1, latitudes_0328, longitudes_0328) #####________\n",
    "print(piksel_row_A5_0328, piksel_col_A5_0328) \n",
    "\n",
    "rss_A5_0328 = f.hyps1_rss_matrix(cube_norm_0328, piksel_row_A5_0328, piksel_col_A5_0328, satobj_h1_0328)    #####________\n",
    "print(rss_A5_0328.shape) \n",
    "\n",
    "median_A5_0328_atmc = np.median(rss_A5_0328, axis = 0)\n",
    "median_A5_0328_atmc.shape\n",
    "normaized_spectrum_median_A5_0328 = f.min_max_nomralization(median_A5_0328_atmc)\n",
    "l2_norm_A5_0328 = np.linalg.norm(median_A5_0328_atmc)  \n",
    "l2_normalized_spectrum_A5_0328 = median_A5_0328_atmc / l2_norm_A5_0328  "
   ]
  },
  {
   "cell_type": "code",
   "execution_count": null,
   "id": "fbf1ae82",
   "metadata": {},
   "outputs": [],
   "source": [
    "piksel_row_A6_0328, piksel_col_A6_0328 = f.latLong_to_piksel(target_lat_1, target_lon_1, latitudes_0328, longitudes_0328) #####________\n",
    "print(piksel_row_A6_0328, piksel_col_A6_0328) \n",
    "\n",
    "rss_A6_0328 = f.hyps1_rss_matrix(cube_norm_0328, piksel_row_A6_0328, piksel_col_A6_0328, satobj_h1_0328)    #####________\n",
    "print(rss_A6_0328.shape) \n",
    "\n",
    "median_A6_0328_atmc = np.median(rss_A6_0328, axis = 0)\n",
    "median_A6_0328_atmc.shape\n",
    "normaized_spectrum_median_A6_0328 = f.min_max_nomralization(median_A6_0328_atmc)\n",
    "l2_norm_A6_0328 = np.linalg.norm(median_A6_0328_atmc)  \n",
    "l2_normalized_spectrum_A6_0328 = median_A6_0328_atmc / l2_norm_A6_0328  "
   ]
  },
  {
   "cell_type": "markdown",
   "id": "4bfc125e",
   "metadata": {},
   "source": [
    "##### RRS froavet 0329"
   ]
  },
  {
   "cell_type": "code",
   "execution_count": null,
   "id": "f971b43f",
   "metadata": {},
   "outputs": [],
   "source": [
    "piksel_row_A1_0329, piksel_col_A1_0329 = f.latLong_to_piksel(target_lat_1, target_lon_1, latitudes_0329, longitudes_0329) #####________\n",
    "print(piksel_row_A1_0329, piksel_col_A1_0329) \n",
    "\n",
    "rss_A1_0329 = f.hyps1_rss_matrix(cube_norm_0329, piksel_row_A1_0329, piksel_col_A1_0329, satobj_h1_0329)    #####________\n",
    "print(rss_A1_0329.shape) \n",
    "\n",
    "median_A1_0329_atmc = np.median(rss_A1_0329, axis = 0)\n",
    "median_A1_0329_atmc.shape\n",
    "normaized_spectrum_median_A1_0329 = f.min_max_nomralization(median_A1_0329_atmc)\n",
    "l2_norm_A1_0329 = np.linalg.norm(median_A1_0329_atmc)  \n",
    "l2_normalized_spectrum_A1_0329 = median_A1_0329_atmc / l2_norm_A1_0329  "
   ]
  },
  {
   "cell_type": "code",
   "execution_count": null,
   "id": "8a7147f2",
   "metadata": {},
   "outputs": [],
   "source": [
    "piksel_row_A2_0329, piksel_col_A2_0329 = f.latLong_to_piksel(target_lat_1, target_lon_1, latitudes_0329, longitudes_0329) #####________\n",
    "print(piksel_row_A2_0329, piksel_col_A2_0329) \n",
    "\n",
    "rss_A2_0329 = f.hyps1_rss_matrix(cube_norm_0329, piksel_row_A2_0329, piksel_col_A2_0329, satobj_h1_0329)    #####________\n",
    "print(rss_A2_0329.shape) \n",
    "\n",
    "median_A2_0329_atmc = np.median(rss_A2_0329, axis = 0)\n",
    "median_A2_0329_atmc.shape\n",
    "normaized_spectrum_median_A2_0329 = f.min_max_nomralization(median_A2_0329_atmc)\n",
    "l2_norm_A2_0329 = np.linalg.norm(median_A2_0329_atmc)  \n",
    "l2_normalized_spectrum_A2_0329 = median_A2_0329_atmc / l2_norm_A2_0329  "
   ]
  },
  {
   "cell_type": "code",
   "execution_count": null,
   "id": "0ebecef6",
   "metadata": {},
   "outputs": [],
   "source": [
    "piksel_row_A3_0329, piksel_col_A3_0329 = f.latLong_to_piksel(target_lat_1, target_lon_1, latitudes_0329, longitudes_0329) #####________\n",
    "print(piksel_row_A3_0329, piksel_col_A3_0329) \n",
    "\n",
    "rss_A3_0329 = f.hyps1_rss_matrix(cube_norm_0329, piksel_row_A3_0329, piksel_col_A3_0329, satobj_h1_0329)    #####________\n",
    "print(rss_A3_0329.shape) \n",
    "\n",
    "median_A3_0329_atmc = np.median(rss_A3_0329, axis = 0)\n",
    "median_A3_0329_atmc.shape\n",
    "normaized_spectrum_median_A3_0329 = f.min_max_nomralization(median_A3_0329_atmc)\n",
    "l2_norm_A3_0329 = np.linalg.norm(median_A3_0329_atmc)  \n",
    "l2_normalized_spectrum_A3_0329 = median_A3_0329_atmc / l2_norm_A3_0329  "
   ]
  },
  {
   "cell_type": "code",
   "execution_count": null,
   "id": "60798dc7",
   "metadata": {},
   "outputs": [],
   "source": [
    "piksel_row_A5_0329, piksel_col_A5_0329 = f.latLong_to_piksel(target_lat_1, target_lon_1, latitudes_0329, longitudes_0329) #####________\n",
    "print(piksel_row_A5_0329, piksel_col_A5_0329) \n",
    "\n",
    "rss_A5_0329 = f.hyps1_rss_matrix(cube_norm_0329, piksel_row_A5_0329, piksel_col_A5_0329, satobj_h1_0329)    #####________\n",
    "print(rss_A5_0329.shape) \n",
    "\n",
    "median_A5_0329_atmc = np.median(rss_A5_0329, axis = 0)\n",
    "median_A5_0329_atmc.shape\n",
    "normaized_spectrum_median_A5_0329 = f.min_max_nomralization(median_A5_0329_atmc)\n",
    "l2_norm_A5_0329 = np.linalg.norm(median_A5_0329_atmc)  \n",
    "l2_normalized_spectrum_A5_0329 = median_A5_0329_atmc / l2_norm_A5_0329  "
   ]
  },
  {
   "cell_type": "code",
   "execution_count": null,
   "id": "4dd14a8c",
   "metadata": {},
   "outputs": [],
   "source": [
    "piksel_row_A6_0329, piksel_col_A6_0329 = f.latLong_to_piksel(target_lat_1, target_lon_1, latitudes_0329, longitudes_0329) #####________\n",
    "print(piksel_row_A6_0329, piksel_col_A6_0329) \n",
    "\n",
    "rss_A6_0329 = f.hyps1_rss_matrix(cube_norm_0329, piksel_row_A1_0328, piksel_col_A6_0329, satobj_h1_0329)    #####________\n",
    "print(rss_A6_0329.shape) \n",
    "\n",
    "median_A6_0329_atmc = np.median(rss_A6_0329, axis = 0)\n",
    "median_A6_0329_atmc.shape\n",
    "normaized_spectrum_median_A6_0329 = f.min_max_nomralization(median_A6_0329_atmc)\n",
    "l2_norm_A6_0329 = np.linalg.norm(median_A6_0329_atmc)  \n",
    "l2_normalized_spectrum_A6_0329 = median_A6_0329_atmc / l2_norm_A6_0329  "
   ]
  },
  {
   "cell_type": "markdown",
   "id": "815cc3a1",
   "metadata": {},
   "source": [
    "##### RSS Picture frohavet 0330"
   ]
  },
  {
   "cell_type": "code",
   "execution_count": null,
   "id": "094f408d",
   "metadata": {},
   "outputs": [],
   "source": [
    "piksel_row_A1, piksel_col_A1 = f.latLong_to_piksel(target_lat_1, target_lon_1, latitudes_0330, longitudes_0330) #from file funcions_autonom.py\n",
    "print(piksel_row_A1, piksel_col_A1) #sjekker at det er riktig\n",
    "\n",
    "rss_A1 = f.hyps1_rss_matrix(cube_norm_0330, piksel_row_A1, piksel_col_A1, satobj_h1_230330) \n",
    "print(rss_A1.shape) #sjekker at det er riktig\n",
    "\n",
    "median_A1_atmc = np.median(rss_A1, axis = 0)\n",
    "median_A1_atmc.shape\n",
    "normaized_spectrum_median_A1 = f.min_max_nomralization(median_A1_atmc)\n",
    "l2_norm_A1 = np.linalg.norm(median_A1_atmc)  #l2 norm\n",
    "l2_normalized_spectrum_A1 = median_A1_atmc / l2_norm_A1  #l2 normalisering"
   ]
  },
  {
   "cell_type": "code",
   "execution_count": null,
   "id": "c23575e3",
   "metadata": {},
   "outputs": [],
   "source": [
    "piksel_row_A2, piksel_col_A2 = f.latLong_to_piksel(target_lat_2, target_lon_2, latitudes_0330, longitudes_0330) #from file funcions_autonom.py\n",
    "print(piksel_row_A2, piksel_col_A2) #sjekker at det er riktig\n",
    "\n",
    "rss_A2 = f.hyps1_rss_matrix(cube_norm_0330, piksel_row_A2, piksel_col_A2, satobj_h1_230330) \n",
    "print(rss_A2.shape) #sjekker at det er riktig\n",
    "\n",
    "median_A2_atmc = np.median(rss_A2, axis = 0)\n",
    "median_A2_atmc.shape\n",
    "normaized_spectrum_median_A2 = f.min_max_nomralization(median_A1_atmc)\n",
    "l2_norm_A2 = np.linalg.norm(median_A2_atmc)  #l2 norm\n",
    "l2_normalized_spectrum_A2 = median_A2_atmc / l2_norm_A2  #l2 normalisering"
   ]
  },
  {
   "cell_type": "code",
   "execution_count": null,
   "id": "4c785ebd",
   "metadata": {},
   "outputs": [],
   "source": [
    "piksel_row_A3, piksel_col_A3 = f.latLong_to_piksel(target_lat_3, target_lon_3, latitudes_0330, longitudes_0330) #from file funcions_autonom.py\n",
    "print(piksel_row_A3, piksel_col_A3) #sjekker at det er riktig\n",
    "\n",
    "rss_A3 = f.hyps1_rss_matrix(cube_norm_0330, piksel_row_A3, piksel_col_A3, satobj_h1_230330) \n",
    "print(rss_A3.shape) #sjekker at det er riktig\n",
    "\n",
    "median_A3_atmc = np.median(rss_A3, axis = 0)\n",
    "median_A3_atmc.shape\n",
    "normaized_spectrum_median_A3 = f.min_max_nomralization(median_A1_atmc)\n",
    "l2_norm_A3 = np.linalg.norm(median_A3_atmc)  #l2 norm\n",
    "l2_normalized_spectrum_A3 = median_A3_atmc / l2_norm_A3  #l2 normalisering"
   ]
  },
  {
   "cell_type": "code",
   "execution_count": null,
   "id": "bf2d36ee",
   "metadata": {},
   "outputs": [],
   "source": [
    "piksel_row_A5, piksel_col_A5 = f.latLong_to_piksel(target_lat_5, target_lon_5, latitudes_0330, longitudes_0330) #from file funcions_autonom.py\n",
    "print(piksel_row_A5, piksel_col_A5) #sjekker at det er riktig\n",
    "\n",
    "rss_A5 = f.hyps1_rss_matrix(cube_norm_0330, piksel_row_A5, piksel_col_A5, satobj_h1_230330) \n",
    "print(rss_A5.shape) #sjekker at det er riktig\n",
    "\n",
    "median_A5_atmc = np.median(rss_A5, axis = 0)\n",
    "median_A5_atmc.shape\n",
    "normaized_spectrum_median_A5 = f.min_max_nomralization(median_A1_atmc)\n",
    "l2_norm_A5 = np.linalg.norm(median_A5_atmc)  #l2 norm\n",
    "l2_normalized_spectrum_A5 = median_A5_atmc / l2_norm_A5  #l2 normalisering"
   ]
  },
  {
   "cell_type": "code",
   "execution_count": null,
   "id": "995ee8b2",
   "metadata": {},
   "outputs": [],
   "source": [
    "piksel_row_A6, piksel_col_A6 = f.latLong_to_piksel(target_lat_6, target_lon_6, latitudes_0330, longitudes_0330) #from file funcions_autonom.py\n",
    "print(piksel_row_A6, piksel_col_A6) #sjekker at det er riktig\n",
    "\n",
    "rss_A6 = f.hyps1_rss_matrix(cube_norm_0330, piksel_row_A6, piksel_col_A6, satobj_h1_230330) \n",
    "print(rss_A6.shape) #sjekker at det er riktig\n",
    "\n",
    "median_A6_atmc = np.median(rss_A6, axis = 0)\n",
    "median_A6_atmc.shape\n",
    "normaized_spectrum_median_A6 = f.min_max_nomralization(median_A1_atmc)\n",
    "l2_norm_A6 = np.linalg.norm(median_A6_atmc)  #l2 norm\n",
    "l2_normalized_spectrum_A6 = median_A6_atmc / l2_norm_A6  #l2 normalisering"
   ]
  },
  {
   "cell_type": "markdown",
   "id": "ab84d624",
   "metadata": {},
   "source": [
    "##### RRS froavet 0407"
   ]
  },
  {
   "cell_type": "code",
   "execution_count": null,
   "id": "e9ad5b41",
   "metadata": {},
   "outputs": [],
   "source": [
    "piksel_row_A1_0407, piksel_col_A1_0407 = f.latLong_to_piksel(target_lat_1, target_lon_1, latitudes_0407, longitudes_0407) #####________\n",
    "print(piksel_row_A1_0407, piksel_col_A1_0407) \n",
    "\n",
    "rss_A1_0407 = f.hyps1_rss_matrix(cube_norm_0407, piksel_row_A1_0407, piksel_col_A1_0407, satobj_h1_0407)    #####________\n",
    "print(rss_A1_0407.shape) \n",
    "\n",
    "median_A1_0407_atmc = np.median(rss_A1_0407, axis = 0)\n",
    "median_A1_0407_atmc.shape\n",
    "normaized_spectrum_median_A1_0407 = f.min_max_nomralization(median_A1_0407_atmc)\n",
    "l2_norm_A1_0407 = np.linalg.norm(median_A1_0407_atmc)  \n",
    "l2_normalized_spectrum_A1_0407 = median_A1_0407_atmc / l2_norm_A1_0407  "
   ]
  },
  {
   "cell_type": "code",
   "execution_count": null,
   "id": "94a025c1",
   "metadata": {},
   "outputs": [],
   "source": [
    "piksel_row_A2_0407, piksel_col_A2_0407 = f.latLong_to_piksel(target_lat_1, target_lon_1, latitudes_0407, longitudes_0407) #####________\n",
    "print(piksel_row_A2_0407, piksel_col_A2_0407) \n",
    "\n",
    "rss_A2_0407 = f.hyps1_rss_matrix(cube_norm_0407, piksel_row_A2_0407, piksel_col_A2_0407, satobj_h1_0407)    #####________\n",
    "print(rss_A2_0407.shape) \n",
    "\n",
    "median_A2_0407_atmc = np.median(rss_A2_0407, axis = 0)\n",
    "median_A2_0407_atmc.shape\n",
    "normaized_spectrum_median_A2_0407 = f.min_max_nomralization(median_A2_0407_atmc)\n",
    "l2_norm_A2_0407 = np.linalg.norm(median_A2_0407_atmc)  \n",
    "l2_normalized_spectrum_A2_0407 = median_A2_0407_atmc / l2_norm_A2_0407  "
   ]
  },
  {
   "cell_type": "code",
   "execution_count": null,
   "id": "736f5cd1",
   "metadata": {},
   "outputs": [],
   "source": [
    "piksel_row_A3_0407, piksel_col_A3_0407 = f.latLong_to_piksel(target_lat_1, target_lon_1, latitudes_0407, longitudes_0407) #####________\n",
    "print(piksel_row_A3_0407, piksel_col_A3_0407) \n",
    "\n",
    "rss_A3_0407 = f.hyps1_rss_matrix(cube_norm_0407, piksel_row_A3_0407, piksel_col_A3_0407, satobj_h1_0407)    #####________\n",
    "print(rss_A3_0407.shape) \n",
    "\n",
    "median_A3_0407_atmc = np.median(rss_A3_0407, axis = 0)\n",
    "median_A3_0407_atmc.shape\n",
    "normaized_spectrum_median_A3_0407 = f.min_max_nomralization(median_A3_0407_atmc)\n",
    "l2_norm_A3_0407 = np.linalg.norm(median_A3_0407_atmc)  \n",
    "l2_normalized_spectrum_A3_0407 = median_A3_0407_atmc / l2_norm_A3_0407  "
   ]
  },
  {
   "cell_type": "code",
   "execution_count": null,
   "id": "b2e5577d",
   "metadata": {},
   "outputs": [],
   "source": [
    "piksel_row_A5_0407, piksel_col_A5_0407 = f.latLong_to_piksel(target_lat_1, target_lon_1, latitudes_0407, longitudes_0407) #####________\n",
    "print(piksel_row_A5_0407, piksel_col_A5_0407) \n",
    "\n",
    "rss_A5_0407 = f.hyps1_rss_matrix(cube_norm_0407, piksel_row_A5_0407, piksel_col_A5_0407, satobj_h1_0407)    #####________\n",
    "print(rss_A5_0407.shape) \n",
    "\n",
    "median_A5_0407_atmc = np.median(rss_A5_0407, axis = 0)\n",
    "median_A5_0407_atmc.shape\n",
    "normaized_spectrum_median_A5_0407 = f.min_max_nomralization(median_A5_0407_atmc)\n",
    "l2_norm_A5_0407 = np.linalg.norm(median_A5_0407_atmc)  \n",
    "l2_normalized_spectrum_A5_0407 = median_A5_0407_atmc / l2_norm_A5_0407  "
   ]
  },
  {
   "cell_type": "code",
   "execution_count": null,
   "id": "b1f5981d",
   "metadata": {},
   "outputs": [],
   "source": [
    "piksel_row_A6_0407, piksel_col_A6_0407 = f.latLong_to_piksel(target_lat_1, target_lon_1, latitudes_0407, longitudes_0407) #####________\n",
    "print(piksel_row_A6_0407, piksel_col_A6_0407) \n",
    "\n",
    "rss_A6_0407 = f.hyps1_rss_matrix(cube_norm_0407, piksel_row_A6_0407, piksel_col_A6_0407, satobj_h1_0407)    #####________\n",
    "print(rss_A6_0407.shape) \n",
    "\n",
    "median_A6_0407_atmc = np.median(rss_A6_0407, axis = 0)\n",
    "median_A6_0407_atmc.shape\n",
    "normaized_spectrum_median_A6_0407 = f.min_max_nomralization(median_A6_0407_atmc)\n",
    "l2_norm_A6_0407 = np.linalg.norm(median_A6_0407_atmc)  \n",
    "l2_normalized_spectrum_A6_0407 = median_A6_0407_atmc / l2_norm_A6_0407  "
   ]
  },
  {
   "cell_type": "markdown",
   "id": "2690fb5d",
   "metadata": {},
   "source": [
    "##### RRS froavet 0412"
   ]
  },
  {
   "cell_type": "code",
   "execution_count": null,
   "id": "b9db4175",
   "metadata": {},
   "outputs": [],
   "source": [
    "piksel_row_A1_0412, piksel_col_A1_0412 = f.latLong_to_piksel(target_lat_1, target_lon_1, latitudes_0412, longitudes_0412) #####________\n",
    "print(piksel_row_A1_0412, piksel_col_A1_0412) \n",
    "\n",
    "rss_A1_0412 = f.hyps1_rss_matrix(cube_norm_0412, piksel_row_A1_0412, piksel_col_A1_0412, satobj_h1_0412)    #####________\n",
    "print(rss_A1_0412.shape) \n",
    "\n",
    "median_A1_0412_atmc = np.median(rss_A1_0412, axis = 0)\n",
    "median_A1_0412_atmc.shape\n",
    "normaized_spectrum_median_A1_0412 = f.min_max_nomralization(median_A1_0412_atmc)\n",
    "l2_norm_A1_0412 = np.linalg.norm(median_A1_0412_atmc)  \n",
    "l2_normalized_spectrum_A1_0412 = median_A1_0412_atmc / l2_norm_A1_0412  "
   ]
  },
  {
   "cell_type": "code",
   "execution_count": null,
   "id": "b802d246",
   "metadata": {},
   "outputs": [],
   "source": [
    "piksel_row_A2_0412, piksel_col_A2_0412 = f.latLong_to_piksel(target_lat_1, target_lon_1, latitudes_0412, longitudes_0412) #####________\n",
    "print(piksel_row_A2_0412, piksel_col_A2_0412) \n",
    "\n",
    "rss_A2_0412 = f.hyps1_rss_matrix(cube_norm_0412, piksel_row_A2_0412, piksel_col_A2_0412, satobj_h1_0412)    #####________\n",
    "print(rss_A2_0412.shape) \n",
    "\n",
    "median_A2_0412_atmc = np.median(rss_A2_0412, axis = 0)\n",
    "median_A2_0412_atmc.shape\n",
    "normaized_spectrum_median_A2_0412 = f.min_max_nomralization(median_A2_0412_atmc)\n",
    "l2_norm_A2_0412 = np.linalg.norm(median_A2_0412_atmc)  \n",
    "l2_normalized_spectrum_A2_0412 = median_A2_0412_atmc / l2_norm_A2_0412  "
   ]
  },
  {
   "cell_type": "code",
   "execution_count": null,
   "id": "408d2d0a",
   "metadata": {},
   "outputs": [],
   "source": [
    "piksel_row_A3_0412, piksel_col_A3_0412 = f.latLong_to_piksel(target_lat_1, target_lon_1, latitudes_0412, longitudes_0412) #####________\n",
    "print(piksel_row_A3_0412, piksel_col_A3_0412) \n",
    "\n",
    "rss_A3_0412 = f.hyps1_rss_matrix(cube_norm_0412, piksel_row_A3_0412, piksel_col_A3_0412, satobj_h1_0412)    #####________\n",
    "print(rss_A3_0412.shape) \n",
    "\n",
    "median_A3_0412_atmc = np.median(rss_A3_0412, axis = 0)\n",
    "median_A3_0412_atmc.shape\n",
    "normaized_spectrum_median_A3_0412 = f.min_max_nomralization(median_A3_0412_atmc)\n",
    "l2_norm_A3_0412 = np.linalg.norm(median_A3_0412_atmc)  \n",
    "l2_normalized_spectrum_A3_0412 = median_A3_0412_atmc / l2_norm_A3_0412  "
   ]
  },
  {
   "cell_type": "code",
   "execution_count": null,
   "id": "50584582",
   "metadata": {},
   "outputs": [],
   "source": [
    "piksel_row_A5_0412, piksel_col_A5_0412 = f.latLong_to_piksel(target_lat_1, target_lon_1, latitudes_0412, longitudes_0412) #####________\n",
    "print(piksel_row_A5_0412, piksel_col_A5_0412) \n",
    "\n",
    "rss_A5_0412 = f.hyps1_rss_matrix(cube_norm_0412, piksel_row_A5_0412, piksel_col_A5_0412, satobj_h1_0412)    #####________\n",
    "print(rss_A5_0412.shape) \n",
    "\n",
    "median_A5_0412_atmc = np.median(rss_A5_0412, axis = 0)\n",
    "median_A5_0412_atmc.shape\n",
    "normaized_spectrum_median_A5_0412 = f.min_max_nomralization(median_A5_0412_atmc)\n",
    "l2_norm_A5_0412 = np.linalg.norm(median_A5_0412_atmc)  \n",
    "l2_normalized_spectrum_A5_0412 = median_A5_0412_atmc / l2_norm_A5_0412  "
   ]
  },
  {
   "cell_type": "code",
   "execution_count": null,
   "id": "8652788a",
   "metadata": {},
   "outputs": [],
   "source": [
    "piksel_row_A6_0412, piksel_col_A6_0412 = f.latLong_to_piksel(target_lat_1, target_lon_1, latitudes_0412, longitudes_0412) #####________\n",
    "print(piksel_row_A6_0412, piksel_col_A6_0412) \n",
    "\n",
    "rss_A6_0412 = f.hyps1_rss_matrix(cube_norm_0412, piksel_row_A6_0412, piksel_col_A6_0412, satobj_h1_0412)    #####________\n",
    "print(rss_A6_0412.shape) \n",
    "\n",
    "median_A6_0412_atmc = np.median(rss_A6_0412, axis = 0)\n",
    "median_A6_0412_atmc.shape\n",
    "normaized_spectrum_median_A6_0412 = f.min_max_nomralization(median_A6_0412_atmc)\n",
    "l2_norm_A6_0412 = np.linalg.norm(median_A6_0412_atmc)  \n",
    "l2_normalized_spectrum_A6_0412 = median_A6_0412_atmc / l2_norm_A6_0412  "
   ]
  },
  {
   "cell_type": "markdown",
   "id": "006963af",
   "metadata": {},
   "source": [
    "##### RRS froavet 0614"
   ]
  },
  {
   "cell_type": "code",
   "execution_count": null,
   "id": "10f147b0",
   "metadata": {},
   "outputs": [
    {
     "ename": "NameError",
     "evalue": "name 'f' is not defined",
     "output_type": "error",
     "traceback": [
      "\u001b[31m---------------------------------------------------------------------------\u001b[39m",
      "\u001b[31mNameError\u001b[39m                                 Traceback (most recent call last)",
      "\u001b[36mCell\u001b[39m\u001b[36m \u001b[39m\u001b[32mIn[1]\u001b[39m\u001b[32m, line 1\u001b[39m\n\u001b[32m----> \u001b[39m\u001b[32m1\u001b[39m piksel_row_A1_0614, piksel_col_A1_0614 = \u001b[43mf\u001b[49m.latLong_to_piksel(target_lat_1, target_lon_1, latitudes_0614, longitudes_0614) \u001b[38;5;66;03m#####________\u001b[39;00m\n\u001b[32m      2\u001b[39m \u001b[38;5;28mprint\u001b[39m(piksel_row_A1_0614, piksel_col_A1_0614) \n\u001b[32m      4\u001b[39m rss_A1_0614 = f.hyps1_rss_matrix(cube_norm_0614, piksel_row_A1_0614, piksel_col_A1_0614, satobj_h1_0614)    \u001b[38;5;66;03m#####________\u001b[39;00m\n",
      "\u001b[31mNameError\u001b[39m: name 'f' is not defined"
     ]
    }
   ],
   "source": [
    "piksel_row_A1_0614, piksel_col_A1_0614 = f.latLong_to_piksel(target_lat_1, target_lon_1, latitudes_0614, longitudes_0614) #####________\n",
    "print(piksel_row_A1_0614, piksel_col_A1_0614) \n",
    "\n",
    "rss_A1_0614 = f.hyps1_rss_matrix(cube_norm_0614, piksel_row_A1_0614, piksel_col_A1_0614, satobj_h1_0614)    #####________\n",
    "print(rss_A1_0614.shape) \n",
    "\n",
    "median_A1_0614_atmc = np.median(rss_A1_0614, axis = 0)\n",
    "median_A1_0614_atmc.shape\n",
    "normaized_spectrum_median_A1_0614 = f.min_max_nomralization(median_A1_0614_atmc)\n",
    "l2_norm_A1_0614 = np.linalg.norm(median_A1_0614_atmc)  \n",
    "l2_normalized_spectrum_A1_0614 = median_A1_0614_atmc / l2_norm_A1_0614 "
   ]
  },
  {
   "cell_type": "code",
   "execution_count": null,
   "id": "fcbd4f6a",
   "metadata": {},
   "outputs": [],
   "source": [
    "piksel_row_A2_0614, piksel_col_A2_0614 = f.latLong_to_piksel(target_lat_1, target_lon_1, latitudes_0614, longitudes_0614) #####________\n",
    "print(piksel_row_A2_0614, piksel_col_A2_0614) \n",
    "\n",
    "rss_A2_0614 = f.hyps1_rss_matrix(cube_norm_0614, piksel_row_A2_0614, piksel_col_A2_0614, satobj_h1_0614)    #####________\n",
    "print(rss_A2_0614.shape) \n",
    "\n",
    "median_A2_0614_atmc = np.median(rss_A2_0614, axis = 0)\n",
    "median_A2_0614_atmc.shape\n",
    "normaized_spectrum_median_A2_0614 = f.min_max_nomralization(median_A2_0614_atmc)\n",
    "l2_norm_A2_0614 = np.linalg.norm(median_A2_0614_atmc)  \n",
    "l2_normalized_spectrum_A2_0614 = median_A2_0614_atmc / l2_norm_A2_0614 "
   ]
  },
  {
   "cell_type": "code",
   "execution_count": null,
   "id": "9c7e16bc",
   "metadata": {},
   "outputs": [],
   "source": [
    "piksel_row_A3_0614, piksel_col_A3_0614 = f.latLong_to_piksel(target_lat_1, target_lon_1, latitudes_0614, longitudes_0614) #####________\n",
    "print(piksel_row_A3_0614, piksel_col_A3_0614) \n",
    "\n",
    "rss_A3_0614 = f.hyps1_rss_matrix(cube_norm_0614, piksel_row_A3_0614, piksel_col_A3_0614, satobj_h1_0614)    #####________\n",
    "print(rss_A3_0614.shape) \n",
    "\n",
    "median_A3_0614_atmc = np.median(rss_A3_0614, axis = 0)\n",
    "median_A3_0614_atmc.shape\n",
    "normaized_spectrum_median_A3_0614 = f.min_max_nomralization(median_A3_0614_atmc)\n",
    "l2_norm_A3_0614 = np.linalg.norm(median_A3_0614_atmc)  \n",
    "l2_normalized_spectrum_A3_0614 = median_A3_0614_atmc / l2_norm_A3_0614 "
   ]
  },
  {
   "cell_type": "code",
   "execution_count": null,
   "id": "2fcb4a0d",
   "metadata": {},
   "outputs": [],
   "source": [
    "piksel_row_A5_0614, piksel_col_A5_0614 = f.latLong_to_piksel(target_lat_1, target_lon_1, latitudes_0614, longitudes_0614) #####________\n",
    "print(piksel_row_A5_0614, piksel_col_A5_0614) \n",
    "\n",
    "rss_A5_0614 = f.hyps1_rss_matrix(cube_norm_0614, piksel_row_A5_0614, piksel_col_A5_0614, satobj_h1_0614)    #####________\n",
    "print(rss_A5_0614.shape) \n",
    "\n",
    "median_A5_0614_atmc = np.median(rss_A5_0614, axis = 0)\n",
    "median_A5_0614_atmc.shape\n",
    "normaized_spectrum_median_A5_0614 = f.min_max_nomralization(median_A5_0614_atmc)\n",
    "l2_norm_A5_0614 = np.linalg.norm(median_A5_0614_atmc)  \n",
    "l2_normalized_spectrum_A5_0614 = median_A5_0614_atmc / l2_norm_A5_0614 "
   ]
  },
  {
   "cell_type": "code",
   "execution_count": null,
   "id": "dcaaa8ab",
   "metadata": {},
   "outputs": [],
   "source": [
    "piksel_row_A6_0614, piksel_col_A6_0614 = f.latLong_to_piksel(target_lat_1, target_lon_1, latitudes_0614, longitudes_0614) #####________\n",
    "print(piksel_row_A6_0614, piksel_col_A6_0614) \n",
    "\n",
    "rss_A6_0614 = f.hyps1_rss_matrix(cube_norm_0614, piksel_row_A6_0614, piksel_col_A6_0614, satobj_h1_0614)    #####________\n",
    "print(rss_A6_0614.shape) \n",
    "\n",
    "median_A6_0614_atmc = np.median(rss_A6_0614, axis = 0)\n",
    "median_A6_0614_atmc.shape\n",
    "normaized_spectrum_median_A6_0614 = f.min_max_nomralization(median_A6_0614_atmc)\n",
    "l2_norm_A6_0614 = np.linalg.norm(median_A6_0614_atmc)  \n",
    "l2_normalized_spectrum_A6_0614 = median_A6_0614_atmc / l2_norm_A6_0614 "
   ]
  },
  {
   "cell_type": "markdown",
   "id": "962a59e4",
   "metadata": {},
   "source": [
    "##### RRS froavet 0730"
   ]
  },
  {
   "cell_type": "code",
   "execution_count": null,
   "id": "38146714",
   "metadata": {},
   "outputs": [],
   "source": [
    "piksel_row_A1_0730, piksel_col_A1_0730 = f.latLong_to_piksel(target_lat_1, target_lon_1, latitudes_0730, longitudes_0730) #####________\n",
    "print(piksel_row_A1_0730, piksel_col_A1_0730) \n",
    "\n",
    "rss_A1_0730 = f.hyps1_rss_matrix(cube_norm_0730, piksel_row_A1_0730, piksel_col_A1_0730, satobj_h1_0730)    #####________\n",
    "print(rss_A1_0730.shape) \n",
    "\n",
    "median_A1_0730_atmc = np.median(rss_A1_0730, axis = 0)\n",
    "median_A1_0730_atmc.shape\n",
    "normaized_spectrum_median_A1_0730 = f.min_max_nomralization(median_A1_0730_atmc)\n",
    "l2_norm_A1_0730 = np.linalg.norm(median_A1_0730_atmc)  \n",
    "l2_normalized_spectrum_A1_0730 = median_A1_0730_atmc / l2_norm_A1_0730"
   ]
  },
  {
   "cell_type": "code",
   "execution_count": null,
   "id": "6e9625c9",
   "metadata": {},
   "outputs": [],
   "source": [
    "piksel_row_A2_0730, piksel_col_A2_0730 = f.latLong_to_piksel(target_lat_1, target_lon_1, latitudes_0730, longitudes_0730) #####________\n",
    "print(piksel_row_A2_0730, piksel_col_A2_0730) \n",
    "\n",
    "rss_A2_0730 = f.hyps1_rss_matrix(cube_norm_0730, piksel_row_A2_0730, piksel_col_A2_0730, satobj_h1_0730)    #####________\n",
    "print(rss_A2_0730.shape) \n",
    "\n",
    "median_A2_0730_atmc = np.median(rss_A2_0730, axis = 0)\n",
    "median_A2_0730_atmc.shape\n",
    "normaized_spectrum_median_A2_0730 = f.min_max_nomralization(median_A2_0730_atmc)\n",
    "l2_norm_A2_0730 = np.linalg.norm(median_A2_0730_atmc)  \n",
    "l2_normalized_spectrum_A2_0730 = median_A2_0730_atmc / l2_norm_A2_0730"
   ]
  },
  {
   "cell_type": "code",
   "execution_count": null,
   "id": "f1196f68",
   "metadata": {},
   "outputs": [],
   "source": [
    "piksel_row_A3_0730, piksel_col_A3_0730 = f.latLong_to_piksel(target_lat_1, target_lon_1, latitudes_0730, longitudes_0730) #####________\n",
    "print(piksel_row_A3_0730, piksel_col_A3_0730) \n",
    "\n",
    "rss_A3_0730 = f.hyps1_rss_matrix(cube_norm_0730, piksel_row_A3_0730, piksel_col_A3_0730, satobj_h1_0730)    #####________\n",
    "print(rss_A3_0730.shape) \n",
    "\n",
    "median_A3_0730_atmc = np.median(rss_A3_0730, axis = 0)\n",
    "median_A3_0730_atmc.shape\n",
    "normaized_spectrum_median_A3_0730 = f.min_max_nomralization(median_A3_0730_atmc)\n",
    "l2_norm_A3_0730 = np.linalg.norm(median_A3_0730_atmc)  \n",
    "l2_normalized_spectrum_A3_0730 = median_A3_0730_atmc / l2_norm_A3_0730"
   ]
  },
  {
   "cell_type": "code",
   "execution_count": null,
   "id": "e5312021",
   "metadata": {},
   "outputs": [],
   "source": [
    "piksel_row_A5_0730, piksel_col_A5_0730 = f.latLong_to_piksel(target_lat_1, target_lon_1, latitudes_0730, longitudes_0730) #####________\n",
    "print(piksel_row_A5_0730, piksel_col_A5_0730) \n",
    "\n",
    "rss_A5_0730 = f.hyps1_rss_matrix(cube_norm_0730, piksel_row_A5_0730, piksel_col_A5_0730, satobj_h1_0730)    #####________\n",
    "print(rss_A5_0730.shape) \n",
    "\n",
    "median_A5_0730_atmc = np.median(rss_A5_0730, axis = 0)\n",
    "median_A5_0730_atmc.shape\n",
    "normaized_spectrum_median_A5_0730 = f.min_max_nomralization(median_A5_0730_atmc)\n",
    "l2_norm_A5_0730 = np.linalg.norm(median_A5_0730_atmc)  \n",
    "l2_normalized_spectrum_A5_0730 = median_A5_0730_atmc / l2_norm_A5_0730"
   ]
  },
  {
   "cell_type": "code",
   "execution_count": null,
   "id": "573aeda4",
   "metadata": {},
   "outputs": [],
   "source": [
    "piksel_row_A6_0730, piksel_col_A6_0730 = f.latLong_to_piksel(target_lat_1, target_lon_1, latitudes_0730, longitudes_0730) #####________\n",
    "print(piksel_row_A6_0730, piksel_col_A6_0730) \n",
    "\n",
    "rss_A6_0730 = f.hyps1_rss_matrix(cube_norm_0730, piksel_row_A6_0730, piksel_col_A6_0730, satobj_h1_0730)    #####________\n",
    "print(rss_A6_0730.shape) \n",
    "\n",
    "median_A6_0730_atmc = np.median(rss_A6_0730, axis = 0)\n",
    "median_A6_0730_atmc.shape\n",
    "normaized_spectrum_median_A6_0730 = f.min_max_nomralization(median_A6_0730_atmc)\n",
    "l2_norm_A6_0730 = np.linalg.norm(median_A6_0730_atmc)  \n",
    "l2_normalized_spectrum_A6_0730 = median_A6_0730_atmc / l2_norm_A6_0730"
   ]
  },
  {
   "cell_type": "markdown",
   "id": "e5a4bbbc",
   "metadata": {},
   "source": [
    "##### RRS froavet 24 0310"
   ]
  },
  {
   "cell_type": "code",
   "execution_count": null,
   "id": "7bdb49da",
   "metadata": {},
   "outputs": [],
   "source": [
    "piksel_row_A1_24_0310, piksel_col_A1_24_0310 = f.latLong_to_piksel(target_lat_1, target_lon_1, latitudes_24_0310, longitudes_24_0310) #####________\n",
    "print(piksel_row_A1_24_0310, piksel_col_A1_24_0310) \n",
    "\n",
    "rss_A1_24_0310 = f.hyps1_rss_matrix(cube_norm_24_0310, piksel_row_A1_24_0310, piksel_col_A1_24_0310, satobj_h1_24_0310)    #####________\n",
    "print(rss_A1_24_0310.shape) \n",
    "\n",
    "median_A1_24_0310_atmc = np.median(rss_A1_24_0310, axis = 0)\n",
    "median_A1_24_0310_atmc.shape\n",
    "normaized_spectrum_median_A1_24_0310 = f.min_max_nomralization(median_A1_24_0310_atmc)\n",
    "l2_norm_A1_24_0310 = np.linalg.norm(median_A1_24_0310_atmc)  \n",
    "l2_normalized_spectrum_A1_24_0310 = median_A1_24_0310_atmc / l2_norm_A1_24_0310"
   ]
  },
  {
   "cell_type": "code",
   "execution_count": null,
   "id": "7da06aae",
   "metadata": {},
   "outputs": [],
   "source": [
    "piksel_row_A2_24_0310, piksel_col_A2_24_0310 = f.latLong_to_piksel(target_lat_1, target_lon_1, latitudes_24_0310, longitudes_24_0310) #####________\n",
    "print(piksel_row_A2_24_0310, piksel_col_A2_24_0310) \n",
    "\n",
    "rss_A2_24_0310 = f.hyps1_rss_matrix(cube_norm_24_0310, piksel_row_A2_24_0310, piksel_col_A2_24_0310, satobj_h1_24_0310)    #####________\n",
    "print(rss_A2_24_0310.shape) \n",
    "\n",
    "median_A2_24_0310_atmc = np.median(rss_A2_24_0310, axis = 0)\n",
    "median_A2_24_0310_atmc.shape\n",
    "normaized_spectrum_median_A2_24_0310 = f.min_max_nomralization(median_A2_24_0310_atmc)\n",
    "l2_norm_A2_24_0310 = np.linalg.norm(median_A2_24_0310_atmc)  \n",
    "l2_normalized_spectrum_A2_24_0310 = median_A2_24_0310_atmc / l2_norm_A2_24_0310"
   ]
  },
  {
   "cell_type": "code",
   "execution_count": null,
   "id": "81abaf7a",
   "metadata": {},
   "outputs": [],
   "source": [
    "piksel_row_A3_24_0310, piksel_col_A3_24_0310 = f.latLong_to_piksel(target_lat_1, target_lon_1, latitudes_24_0310, longitudes_24_0310) #####________\n",
    "print(piksel_row_A3_24_0310, piksel_col_A3_24_0310) \n",
    "\n",
    "rss_A3_24_0310 = f.hyps1_rss_matrix(cube_norm_24_0310, piksel_row_A3_24_0310, piksel_col_A3_24_0310, satobj_h1_24_0310)    #####________\n",
    "print(rss_A3_24_0310.shape) \n",
    "\n",
    "median_A3_24_0310_atmc = np.median(rss_A3_24_0310, axis = 0)\n",
    "median_A3_24_0310_atmc.shape\n",
    "normaized_spectrum_median_A3_24_0310 = f.min_max_nomralization(median_A3_24_0310_atmc)\n",
    "l2_norm_A3_24_0310 = np.linalg.norm(median_A3_24_0310_atmc)  \n",
    "l2_normalized_spectrum_A3_24_0310 = median_A3_24_0310_atmc / l2_norm_A3_24_0310"
   ]
  },
  {
   "cell_type": "code",
   "execution_count": null,
   "id": "16393d41",
   "metadata": {},
   "outputs": [],
   "source": [
    "piksel_row_A5_24_0310, piksel_col_A5_24_0310 = f.latLong_to_piksel(target_lat_1, target_lon_1, latitudes_24_0310, longitudes_24_0310) #####________\n",
    "print(piksel_row_A5_24_0310, piksel_col_A5_24_0310) \n",
    "\n",
    "rss_A5_24_0310 = f.hyps1_rss_matrix(cube_norm_24_0310, piksel_row_A5_24_0310, piksel_col_A5_24_0310, satobj_h1_24_0310)    #####________\n",
    "print(rss_A5_24_0310.shape) \n",
    "\n",
    "median_A5_24_0310_atmc = np.median(rss_A5_24_0310, axis = 0)\n",
    "median_A5_24_0310_atmc.shape\n",
    "normaized_spectrum_median_A5_24_0310 = f.min_max_nomralization(median_A5_24_0310_atmc)\n",
    "l2_norm_A5_24_0310 = np.linalg.norm(median_A5_24_0310_atmc)  \n",
    "l2_normalized_spectrum_A5_24_0310 = median_A5_24_0310_atmc / l2_norm_A5_24_0310"
   ]
  },
  {
   "cell_type": "code",
   "execution_count": null,
   "id": "2a27694f",
   "metadata": {},
   "outputs": [],
   "source": [
    "piksel_row_A6_24_0310, piksel_col_A6_24_0310 = f.latLong_to_piksel(target_lat_1, target_lon_1, latitudes_24_0310, longitudes_24_0310) #####________\n",
    "print(piksel_row_A6_24_0310, piksel_col_A6_24_0310) \n",
    "\n",
    "rss_A6_24_0310 = f.hyps1_rss_matrix(cube_norm_24_0310, piksel_row_A6_24_0310, piksel_col_A6_24_0310, satobj_h1_24_0310)    #####________\n",
    "print(rss_A6_24_0310.shape) \n",
    "\n",
    "median_A6_24_0310_atmc = np.median(rss_A6_24_0310, axis = 0)\n",
    "median_A6_24_0310_atmc.shape\n",
    "normaized_spectrum_median_A6_24_0310 = f.min_max_nomralization(median_A6_24_0310_atmc)\n",
    "l2_norm_A6_24_0310 = np.linalg.norm(median_A6_24_0310_atmc)  \n",
    "l2_normalized_spectrum_A6_24_0310 = median_A6_24_0310_atmc / l2_norm_A6_24_0310"
   ]
  },
  {
   "cell_type": "markdown",
   "id": "cab47193",
   "metadata": {},
   "source": [
    "##### RRS froavet 24 0419"
   ]
  },
  {
   "cell_type": "code",
   "execution_count": null,
   "id": "5172e0df",
   "metadata": {},
   "outputs": [],
   "source": [
    "piksel_row_A1_24_0419, piksel_col_A1_24_0419 = f.latLong_to_piksel(target_lat_1, target_lon_1, latitudes_24_0419, longitudes_24_0419) #####________\n",
    "print(piksel_row_A1_24_0419, piksel_col_A1_24_0419) \n",
    "\n",
    "rss_A1_24_0419 = f.hyps1_rss_matrix(cube_norm_24_0419, piksel_row_A1_24_0419, piksel_col_A1_24_0419, satobj_h1_24_0419)    #####________\n",
    "print(rss_A1_24_0419.shape) \n",
    "\n",
    "median_A1_24_0419_atmc = np.median(rss_A1_24_0419, axis = 0)\n",
    "median_A1_24_0419_atmc.shape\n",
    "normaized_spectrum_median_A1_24_0419 = f.min_max_nomralization(median_A1_24_0419_atmc)\n",
    "l2_norm_A1_24_0419 = np.linalg.norm(median_A1_24_0419_atmc)  \n",
    "l2_normalized_spectrum_A1_24_0419 = median_A1_24_0419_atmc / l2_norm_A1_24_0419"
   ]
  },
  {
   "cell_type": "code",
   "execution_count": null,
   "id": "adf0def6",
   "metadata": {},
   "outputs": [],
   "source": [
    "piksel_row_A2_24_0419, piksel_col_A2_24_0419 = f.latLong_to_piksel(target_lat_1, target_lon_1, latitudes_24_0419, longitudes_24_0419) #####________\n",
    "print(piksel_row_A2_24_0419, piksel_col_A2_24_0419) \n",
    "\n",
    "rss_A2_24_0419 = f.hyps1_rss_matrix(cube_norm_24_0419, piksel_row_A2_24_0419, piksel_col_A2_24_0419, satobj_h1_24_0419)    #####________\n",
    "print(rss_A2_24_0419.shape) \n",
    "\n",
    "median_A2_24_0419_atmc = np.median(rss_A2_24_0419, axis = 0)\n",
    "median_A2_24_0419_atmc.shape\n",
    "normaized_spectrum_median_A2_24_0419 = f.min_max_nomralization(median_A2_24_0419_atmc)\n",
    "l2_norm_A2_24_0419 = np.linalg.norm(median_A2_24_0419_atmc)  \n",
    "l2_normalized_spectrum_A2_24_0419 = median_A2_24_0419_atmc / l2_norm_A2_24_0419"
   ]
  },
  {
   "cell_type": "code",
   "execution_count": null,
   "id": "b97beda9",
   "metadata": {},
   "outputs": [],
   "source": [
    "piksel_row_A3_24_0419, piksel_col_A3_24_0419 = f.latLong_to_piksel(target_lat_1, target_lon_1, latitudes_24_0419, longitudes_24_0419) #####________\n",
    "print(piksel_row_A3_24_0419, piksel_col_A3_24_0419) \n",
    "\n",
    "rss_A3_24_0419 = f.hyps1_rss_matrix(cube_norm_24_0419, piksel_row_A3_24_0419, piksel_col_A3_24_0419, satobj_h1_24_0419)    #####________\n",
    "print(rss_A3_24_0419.shape) \n",
    "\n",
    "median_A3_24_0419_atmc = np.median(rss_A3_24_0419, axis = 0)\n",
    "median_A3_24_0419_atmc.shape\n",
    "normaized_spectrum_median_A3_24_0419 = f.min_max_nomralization(median_A3_24_0419_atmc)\n",
    "l2_norm_A3_24_0419 = np.linalg.norm(median_A3_24_0419_atmc)  \n",
    "l2_normalized_spectrum_A3_24_0419 = median_A3_24_0419_atmc / l2_norm_A3_24_0419"
   ]
  },
  {
   "cell_type": "code",
   "execution_count": null,
   "id": "020ac554",
   "metadata": {},
   "outputs": [],
   "source": [
    "piksel_row_A5_24_0419, piksel_col_A5_24_0419 = f.latLong_to_piksel(target_lat_1, target_lon_1, latitudes_24_0419, longitudes_24_0419) #####________\n",
    "print(piksel_row_A5_24_0419, piksel_col_A5_24_0419) \n",
    "\n",
    "rss_A5_24_0419 = f.hyps1_rss_matrix(cube_norm_24_0419, piksel_row_A5_24_0419, piksel_col_A5_24_0419, satobj_h1_24_0419)    #####________\n",
    "print(rss_A5_24_0419.shape) \n",
    "\n",
    "median_A5_24_0419_atmc = np.median(rss_A5_24_0419, axis = 0)\n",
    "median_A5_24_0419_atmc.shape\n",
    "normaized_spectrum_median_A5_24_0419 = f.min_max_nomralization(median_A5_24_0419_atmc)\n",
    "l2_norm_A5_24_0419 = np.linalg.norm(median_A5_24_0419_atmc)  \n",
    "l2_normalized_spectrum_A5_24_0419 = median_A5_24_0419_atmc / l2_norm_A5_24_0419"
   ]
  },
  {
   "cell_type": "code",
   "execution_count": null,
   "id": "86e53acf",
   "metadata": {},
   "outputs": [],
   "source": [
    "piksel_row_A6_24_0419, piksel_col_A6_24_0419 = f.latLong_to_piksel(target_lat_1, target_lon_1, latitudes_24_0419, longitudes_24_0419) #####________\n",
    "print(piksel_row_A6_24_0419, piksel_col_A6_24_0419) \n",
    "\n",
    "rss_A6_24_0419 = f.hyps1_rss_matrix(cube_norm_24_0419, piksel_row_A6_24_0419, piksel_col_A6_24_0419, satobj_h1_24_0419)    #####________\n",
    "print(rss_A6_24_0419.shape) \n",
    "\n",
    "median_A6_24_0419_atmc = np.median(rss_A6_24_0419, axis = 0)\n",
    "median_A6_24_0419_atmc.shape\n",
    "normaized_spectrum_median_A6_24_0419 = f.min_max_nomralization(median_A6_24_0419_atmc)\n",
    "l2_norm_A6_24_0419 = np.linalg.norm(median_A6_24_0419_atmc)  \n",
    "l2_normalized_spectrum_A6_24_0419 = median_A6_24_0419_atmc / l2_norm_A6_24_0419"
   ]
  },
  {
   "cell_type": "markdown",
   "id": "471348fc",
   "metadata": {},
   "source": [
    "##### RRS froavet 24 0426"
   ]
  },
  {
   "cell_type": "code",
   "execution_count": null,
   "id": "e14b46ad",
   "metadata": {},
   "outputs": [],
   "source": [
    "piksel_row_A1_24_0426, piksel_col_A1_24_0426 = f.latLong_to_piksel(target_lat_1, target_lon_1, latitudes_24_0426, longitudes_24_0426) #####________\n",
    "print(piksel_row_A1_24_0426, piksel_col_A1_24_0426) \n",
    "\n",
    "rss_A1_24_0426 = f.hyps1_rss_matrix(cube_norm_24_0426, piksel_row_A1_24_0426, piksel_col_A1_24_0426, satobj_h1_24_0426)    #####________\n",
    "print(rss_A1_24_0426.shape) \n",
    "\n",
    "median_A1_24_0426_atmc = np.median(rss_A1_24_0426, axis = 0)\n",
    "median_A1_24_0426_atmc.shape\n",
    "normaized_spectrum_median_A1_24_0426 = f.min_max_nomralization(median_A1_24_0426_atmc)\n",
    "l2_norm_A1_24_0426 = np.linalg.norm(median_A1_24_0426_atmc)  \n",
    "l2_normalized_spectrum_A1_24_0426 = median_A1_24_0426_atmc / l2_norm_A1_24_0426"
   ]
  },
  {
   "cell_type": "code",
   "execution_count": null,
   "id": "3aada164",
   "metadata": {},
   "outputs": [],
   "source": [
    "piksel_row_A2_24_0426, piksel_col_A2_24_0426 = f.latLong_to_piksel(target_lat_1, target_lon_1, latitudes_24_0426, longitudes_24_0426) #####________\n",
    "print(piksel_row_A2_24_0426, piksel_col_A2_24_0426) \n",
    "\n",
    "rss_A2_24_0426 = f.hyps1_rss_matrix(cube_norm_24_0426, piksel_row_A2_24_0426, piksel_col_A2_24_0426, satobj_h1_24_0426)    #####________\n",
    "print(rss_A2_24_0426.shape) \n",
    "\n",
    "median_A2_24_0426_atmc = np.median(rss_A2_24_0426, axis = 0)\n",
    "median_A2_24_0426_atmc.shape\n",
    "normaized_spectrum_median_A2_24_0426 = f.min_max_nomralization(median_A2_24_0426_atmc)\n",
    "l2_norm_A2_24_0426 = np.linalg.norm(median_A2_24_0426_atmc)  \n",
    "l2_normalized_spectrum_A2_24_0426 = median_A2_24_0426_atmc / l2_norm_A2_24_0426"
   ]
  },
  {
   "cell_type": "code",
   "execution_count": null,
   "id": "e753a141",
   "metadata": {},
   "outputs": [],
   "source": [
    "piksel_row_A3_24_0426, piksel_col_A3_24_0426 = f.latLong_to_piksel(target_lat_1, target_lon_1, latitudes_24_0426, longitudes_24_0426) #####________\n",
    "print(piksel_row_A3_24_0426, piksel_col_A3_24_0426) \n",
    "\n",
    "rss_A3_24_0426 = f.hyps1_rss_matrix(cube_norm_24_0426, piksel_row_A3_24_0426, piksel_col_A3_24_0426, satobj_h1_24_0426)    #####________\n",
    "print(rss_A3_24_0426.shape) \n",
    "\n",
    "median_A3_24_0426_atmc = np.median(rss_A3_24_0426, axis = 0)\n",
    "median_A3_24_0426_atmc.shape\n",
    "normaized_spectrum_median_A3_24_0426 = f.min_max_nomralization(median_A3_24_0426_atmc)\n",
    "l2_norm_A3_24_0426 = np.linalg.norm(median_A3_24_0426_atmc)  \n",
    "l2_normalized_spectrum_A3_24_0426 = median_A3_24_0426_atmc / l2_norm_A3_24_0426"
   ]
  },
  {
   "cell_type": "code",
   "execution_count": null,
   "id": "9bc72488",
   "metadata": {},
   "outputs": [],
   "source": [
    "piksel_row_A5_24_0426, piksel_col_A5_24_0426 = f.latLong_to_piksel(target_lat_1, target_lon_1, latitudes_24_0426, longitudes_24_0426) #####________\n",
    "print(piksel_row_A5_24_0426, piksel_col_A5_24_0426) \n",
    "\n",
    "rss_A5_24_0426 = f.hyps1_rss_matrix(cube_norm_24_0426, piksel_row_A5_24_0426, piksel_col_A5_24_0426, satobj_h1_24_0426)    #####________\n",
    "print(rss_A5_24_0426.shape) \n",
    "\n",
    "median_A5_24_0426_atmc = np.median(rss_A5_24_0426, axis = 0)\n",
    "median_A5_24_0426_atmc.shape\n",
    "normaized_spectrum_median_A5_24_0426 = f.min_max_nomralization(median_A5_24_0426_atmc)\n",
    "l2_norm_A5_24_0426 = np.linalg.norm(median_A5_24_0426_atmc)  \n",
    "l2_normalized_spectrum_A5_24_0426 = median_A5_24_0426_atmc / l2_norm_A5_24_0426"
   ]
  },
  {
   "cell_type": "code",
   "execution_count": null,
   "id": "4b590028",
   "metadata": {},
   "outputs": [],
   "source": [
    "piksel_row_A6_24_0426, piksel_col_A6_24_0426 = f.latLong_to_piksel(target_lat_1, target_lon_1, latitudes_24_0426, longitudes_24_0426) #####________\n",
    "print(piksel_row_A6_24_0426, piksel_col_A6_24_0426) \n",
    "\n",
    "rss_A6_24_0426 = f.hyps1_rss_matrix(cube_norm_24_0426, piksel_row_A6_24_0426, piksel_col_A6_24_0426, satobj_h1_24_0426)    #####________\n",
    "print(rss_A6_24_0426.shape) \n",
    "\n",
    "median_A6_24_0426_atmc = np.median(rss_A6_24_0426, axis = 0)\n",
    "median_A6_24_0426_atmc.shape\n",
    "normaized_spectrum_median_A6_24_0426 = f.min_max_nomralization(median_A6_24_0426_atmc)\n",
    "l2_norm_A6_24_0426 = np.linalg.norm(median_A6_24_0426_atmc)  \n",
    "l2_normalized_spectrum_A6_24_0426 = median_A6_24_0426_atmc / l2_norm_A6_24_0426"
   ]
  },
  {
   "cell_type": "markdown",
   "id": "80021dd0",
   "metadata": {},
   "source": [
    "##### RRS frohavet 24 0506"
   ]
  },
  {
   "cell_type": "code",
   "execution_count": null,
   "id": "d50e9c1d",
   "metadata": {},
   "outputs": [],
   "source": [
    "piksel_row_A1_24_0506, piksel_col_A1_24_0506 = f.latLong_to_piksel(target_lat_1, target_lon_1, latitudes_24_0506, longitudes_24_0506) #####________\n",
    "print(piksel_row_A1_24_0506, piksel_col_A1_24_0506) \n",
    "\n",
    "rss_A1_24_0506 = f.hyps1_rss_matrix(cube_norm_24_0506, piksel_row_A1_24_0506, piksel_col_A1_24_0506, satobj_h1_24_0506)    #####________\n",
    "print(rss_A1_24_0506.shape) \n",
    "\n",
    "median_A1_24_0506_atmc = np.median(rss_A1_24_0506, axis = 0)\n",
    "median_A1_24_0506_atmc.shape\n",
    "normaized_spectrum_median_A1_24_0506 = f.min_max_nomralization(median_A1_24_0506_atmc)\n",
    "l2_norm_A1_24_0506 = np.linalg.norm(median_A1_24_0506_atmc)  \n",
    "l2_normalized_spectrum_A1_24_0506 = median_A1_24_0506_atmc / l2_norm_A1_24_0506"
   ]
  },
  {
   "cell_type": "code",
   "execution_count": null,
   "id": "9d6a5105",
   "metadata": {},
   "outputs": [],
   "source": [
    "piksel_row_A2_24_0506, piksel_col_A2_24_0506 = f.latLong_to_piksel(target_lat_1, target_lon_1, latitudes_24_0506, longitudes_24_0506) #####________\n",
    "print(piksel_row_A2_24_0506, piksel_col_A2_24_0506) \n",
    "\n",
    "rss_A2_24_0506 = f.hyps1_rss_matrix(cube_norm_24_0506, piksel_row_A2_24_0506, piksel_col_A2_24_0506, satobj_h1_24_0506)    #####________\n",
    "print(rss_A2_24_0506.shape) \n",
    "\n",
    "median_A2_24_0506_atmc = np.median(rss_A2_24_0506, axis = 0)\n",
    "median_A2_24_0506_atmc.shape\n",
    "normaized_spectrum_median_A2_24_0506 = f.min_max_nomralization(median_A2_24_0506_atmc)\n",
    "l2_norm_A2_24_0506 = np.linalg.norm(median_A2_24_0506_atmc)  \n",
    "l2_normalized_spectrum_A2_24_0506 = median_A2_24_0506_atmc / l2_norm_A2_24_0506"
   ]
  },
  {
   "cell_type": "code",
   "execution_count": null,
   "id": "04dabfd1",
   "metadata": {},
   "outputs": [],
   "source": [
    "piksel_row_A3_24_0506, piksel_col_A3_24_0506 = f.latLong_to_piksel(target_lat_1, target_lon_1, latitudes_24_0506, longitudes_24_0506) #####________\n",
    "print(piksel_row_A3_24_0506, piksel_col_A3_24_0506) \n",
    "\n",
    "rss_A3_24_0506 = f.hyps1_rss_matrix(cube_norm_24_0506, piksel_row_A3_24_0506, piksel_col_A3_24_0506, satobj_h1_24_0506)    #####________\n",
    "print(rss_A3_24_0506.shape) \n",
    "\n",
    "median_A3_24_0506_atmc = np.median(rss_A3_24_0506, axis = 0)\n",
    "median_A3_24_0506_atmc.shape\n",
    "normaized_spectrum_median_A3_24_0506 = f.min_max_nomralization(median_A3_24_0506_atmc)\n",
    "l2_norm_A3_24_0506 = np.linalg.norm(median_A3_24_0506_atmc)  \n",
    "l2_normalized_spectrum_A3_24_0506 = median_A3_24_0506_atmc / l2_norm_A3_24_0506"
   ]
  },
  {
   "cell_type": "code",
   "execution_count": null,
   "id": "6c5848dc",
   "metadata": {},
   "outputs": [],
   "source": [
    "piksel_row_A5_24_0506, piksel_col_A5_24_0506 = f.latLong_to_piksel(target_lat_1, target_lon_1, latitudes_24_0506, longitudes_24_0506) #####________\n",
    "print(piksel_row_A5_24_0506, piksel_col_A5_24_0506) \n",
    "\n",
    "rss_A5_24_0506 = f.hyps1_rss_matrix(cube_norm_24_0506, piksel_row_A5_24_0506, piksel_col_A5_24_0506, satobj_h1_24_0506)    #####________\n",
    "print(rss_A5_24_0506.shape) \n",
    "\n",
    "median_A5_24_0506_atmc = np.median(rss_A5_24_0506, axis = 0)\n",
    "median_A5_24_0506_atmc.shape\n",
    "normaized_spectrum_median_A5_24_0506 = f.min_max_nomralization(median_A5_24_0506_atmc)\n",
    "l2_norm_A5_24_0506 = np.linalg.norm(median_A5_24_0506_atmc)  \n",
    "l2_normalized_spectrum_A5_24_0506 = median_A5_24_0506_atmc / l2_norm_A5_24_0506"
   ]
  },
  {
   "cell_type": "code",
   "execution_count": null,
   "id": "d1f3262c",
   "metadata": {},
   "outputs": [],
   "source": [
    "piksel_row_A6_24_0506, piksel_col_A6_24_0506 = f.latLong_to_piksel(target_lat_1, target_lon_1, latitudes_24_0506, longitudes_24_0506) #####________\n",
    "print(piksel_row_A6_24_0506, piksel_col_A6_24_0506) \n",
    "\n",
    "rss_A6_24_0506 = f.hyps1_rss_matrix(cube_norm_24_0506, piksel_row_A6_24_0506, piksel_col_A6_24_0506, satobj_h1_24_0506)    #####________\n",
    "print(rss_A6_24_0506.shape) \n",
    "\n",
    "median_A6_24_0506_atmc = np.median(rss_A6_24_0506, axis = 0)\n",
    "median_A6_24_0506_atmc.shape\n",
    "normaized_spectrum_median_A6_24_0506 = f.min_max_nomralization(median_A6_24_0506_atmc)\n",
    "l2_norm_A6_24_0506 = np.linalg.norm(median_A6_24_0506_atmc)  \n",
    "l2_normalized_spectrum_A6_24_0506 = median_A6_24_0506_atmc / l2_norm_A6_24_0506"
   ]
  },
  {
   "cell_type": "markdown",
   "id": "b7fba3b0",
   "metadata": {},
   "source": [
    "##### RSS trondheim 24 0524"
   ]
  },
  {
   "cell_type": "code",
   "execution_count": null,
   "id": "170b2bc7",
   "metadata": {},
   "outputs": [],
   "source": [
    "piksel_row_A1_t_24_0524, piksel_col_A1_t_24_0524 = f.latLong_to_piksel(target_lat_1, target_lon_1, latitudes_t_24_0524, longitudes_t_24_0524) #####________\n",
    "print(piksel_row_A1_t_24_0524, piksel_col_A1_t_24_0524) \n",
    "\n",
    "rss_A1_t_24_0524 = f.hyps1_rss_matrix(cube_norm_t_24_0524, piksel_row_A1_t_24_0524, piksel_col_A1_t_24_0524, satobj_h1_t_24_0524)    #####________\n",
    "print(rss_A1_t_24_0524.shape) \n",
    "\n",
    "median_A1_t_24_0524_atmc = np.median(rss_A1_t_24_0524, axis = 0)\n",
    "median_A1_t_24_0524_atmc.shape\n",
    "normaized_spectrum_median_A1_t_24_0524 = f.min_max_nomralization(median_A1_t_24_0524_atmc)\n",
    "l2_norm_A1_t_24_0524 = np.linalg.norm(median_A1_t_24_0524_atmc)  \n",
    "l2_normalized_spectrum_A1_t_24_0524 = median_A1_t_24_0524_atmc / l2_norm_A1_t_24_0524"
   ]
  },
  {
   "cell_type": "code",
   "execution_count": null,
   "id": "35e439d3",
   "metadata": {},
   "outputs": [],
   "source": [
    "piksel_row_A2_t_24_0524, piksel_col_A2_t_24_0524 = f.latLong_to_piksel(target_lat_1, target_lon_1, latitudes_t_24_0524, longitudes_t_24_0524) #####________\n",
    "print(piksel_row_A2_t_24_0524, piksel_col_A2_t_24_0524) \n",
    "\n",
    "rss_A2_t_24_0524 = f.hyps1_rss_matrix(cube_norm_t_24_0524, piksel_row_A2_t_24_0524, piksel_col_A2_t_24_0524, satobj_h1_t_24_0524)    #####________\n",
    "print(rss_A2_t_24_0524.shape) \n",
    "\n",
    "median_A2_t_24_0524_atmc = np.median(rss_A2_t_24_0524, axis = 0)\n",
    "median_A2_t_24_0524_atmc.shape\n",
    "normaized_spectrum_median_A2_t_24_0524 = f.min_max_nomralization(median_A2_t_24_0524_atmc)\n",
    "l2_norm_A2_t_24_0524 = np.linalg.norm(median_A2_t_24_0524_atmc)  \n",
    "l2_normalized_spectrum_A2_t_24_0524 = median_A2_t_24_0524_atmc / l2_norm_A2_t_24_0524"
   ]
  },
  {
   "cell_type": "code",
   "execution_count": null,
   "id": "bd181cce",
   "metadata": {},
   "outputs": [],
   "source": [
    "piksel_row_A3_t_24_0524, piksel_col_A3_t_24_0524 = f.latLong_to_piksel(target_lat_1, target_lon_1, latitudes_t_24_0524, longitudes_t_24_0524) #####________\n",
    "print(piksel_row_A3_t_24_0524, piksel_col_A3_t_24_0524) \n",
    "\n",
    "rss_A3_t_24_0524 = f.hyps1_rss_matrix(cube_norm_t_24_0524, piksel_row_A3_t_24_0524, piksel_col_A3_t_24_0524, satobj_h1_t_24_0524)    #####________\n",
    "print(rss_A3_t_24_0524.shape) \n",
    "\n",
    "median_A3_t_24_0524_atmc = np.median(rss_A3_t_24_0524, axis = 0)\n",
    "median_A3_t_24_0524_atmc.shape\n",
    "normaized_spectrum_median_A3_t_24_0524 = f.min_max_nomralization(median_A3_t_24_0524_atmc)\n",
    "l2_norm_A3_t_24_0524 = np.linalg.norm(median_A3_t_24_0524_atmc)  \n",
    "l2_normalized_spectrum_A3_t_24_0524 = median_A3_t_24_0524_atmc / l2_norm_A3_t_24_0524"
   ]
  },
  {
   "cell_type": "code",
   "execution_count": null,
   "id": "a3c0d6a0",
   "metadata": {},
   "outputs": [],
   "source": [
    "piksel_row_A5_t_24_0524, piksel_col_A5_t_24_0524 = f.latLong_to_piksel(target_lat_1, target_lon_1, latitudes_t_24_0524, longitudes_t_24_0524) #####________\n",
    "print(piksel_row_A5_t_24_0524, piksel_col_A5_t_24_0524) \n",
    "\n",
    "rss_A5_t_24_0524 = f.hyps1_rss_matrix(cube_norm_t_24_0524, piksel_row_A5_t_24_0524, piksel_col_A5_t_24_0524, satobj_h1_t_24_0524)    #####________\n",
    "print(rss_A5_t_24_0524.shape) \n",
    "\n",
    "median_A5_t_24_0524_atmc = np.median(rss_A5_t_24_0524, axis = 0)\n",
    "median_A5_t_24_0524_atmc.shape\n",
    "normaized_spectrum_median_A5_t_24_0524 = f.min_max_nomralization(median_A5_t_24_0524_atmc)\n",
    "l2_norm_A5_t_24_0524 = np.linalg.norm(median_A5_t_24_0524_atmc)  \n",
    "l2_normalized_spectrum_A5_t_24_0524 = median_A5_t_24_0524_atmc / l2_norm_A5_t_24_0524"
   ]
  },
  {
   "cell_type": "code",
   "execution_count": null,
   "id": "9312c753",
   "metadata": {},
   "outputs": [],
   "source": [
    "piksel_row_A6_t_24_0524, piksel_col_A6_t_24_0524 = f.latLong_to_piksel(target_lat_1, target_lon_1, latitudes_t_24_0524, longitudes_t_24_0524) #####________\n",
    "print(piksel_row_A6_t_24_0524, piksel_col_A6_t_24_0524) \n",
    "\n",
    "rss_A6_t_24_0524 = f.hyps1_rss_matrix(cube_norm_t_24_0524, piksel_row_A6_t_24_0524, piksel_col_A6_t_24_0524, satobj_h1_t_24_0524)    #####________\n",
    "print(rss_A6_t_24_0524.shape) \n",
    "\n",
    "median_A6_t_24_0524_atmc = np.median(rss_A6_t_24_0524, axis = 0)\n",
    "median_A6_t_24_0524_atmc.shape\n",
    "normaized_spectrum_median_A6_t_24_0524 = f.min_max_nomralization(median_A6_t_24_0524_atmc)\n",
    "l2_norm_A6_t_24_0524 = np.linalg.norm(median_A6_t_24_0524_atmc)  \n",
    "l2_normalized_spectrum_A6_t_24_0524 = median_A6_t_24_0524_atmc / l2_norm_A6_t_24_0524"
   ]
  },
  {
   "cell_type": "markdown",
   "id": "042b056b",
   "metadata": {},
   "source": [
    "##### RSS lakeanoya 24 0713"
   ]
  },
  {
   "cell_type": "code",
   "execution_count": null,
   "id": "87ceadc4",
   "metadata": {},
   "outputs": [],
   "source": [
    "piksel_row_A1_l_24_0713, piksel_col_A1_l_24_0713 = f.latLong_to_piksel(target_lat_1, target_lon_1, latitudes_l_24_0713, longitudes_l_24_0713) #####________\n",
    "print(piksel_row_A1_l_24_0713, piksel_col_A1_l_24_0713) \n",
    "\n",
    "rss_A1_l_24_0713 = f.hyps1_rss_matrix(cube_norm_l_24_0713, piksel_row_A1_l_24_0713, piksel_col_A1_l_24_0713, satobj_h1_24_0713)    #####________\n",
    "print(rss_A1_l_24_0713.shape) \n",
    "\n",
    "median_A1_l_24_0713_atmc = np.median(rss_A1_l_24_0713, axis = 0)\n",
    "median_A1_l_24_0713_atmc.shape\n",
    "normaized_spectrum_median_A1_l_24_0713 = f.min_max_nomralization(median_A1_l_24_0713_atmc)\n",
    "l2_norm_A1_l_24_0713 = np.linalg.norm(median_A1_l_24_0713_atmc)  \n",
    "l2_normalized_spectrum_A1_l_24_0713 = median_A1_l_24_0713_atmc / l2_norm_A1_l_24_0713"
   ]
  },
  {
   "cell_type": "code",
   "execution_count": null,
   "id": "cdcc6002",
   "metadata": {},
   "outputs": [],
   "source": [
    "piksel_row_A2_l_24_0713, piksel_col_A2_l_24_0713 = f.latLong_to_piksel(target_lat_1, target_lon_1, latitudes_l_24_0713, longitudes_l_24_0713) #####________\n",
    "print(piksel_row_A2_l_24_0713, piksel_col_A2_l_24_0713) \n",
    "\n",
    "rss_A2_l_24_0713 = f.hyps1_rss_matrix(cube_norm_l_24_0713, piksel_row_A2_l_24_0713, piksel_col_A2_l_24_0713, satobj_h1_24_0713)    #####________\n",
    "print(rss_A2_l_24_0713.shape) \n",
    "\n",
    "median_A2_l_24_0713_atmc = np.median(rss_A2_l_24_0713, axis = 0)\n",
    "median_A2_l_24_0713_atmc.shape\n",
    "normaized_spectrum_median_A2_l_24_0713 = f.min_max_nomralization(median_A2_l_24_0713_atmc)\n",
    "l2_norm_A2_l_24_0713 = np.linalg.norm(median_A2_l_24_0713_atmc)  \n",
    "l2_normalized_spectrum_A2_l_24_0713 = median_A2_l_24_0713_atmc / l2_norm_A2_l_24_0713"
   ]
  },
  {
   "cell_type": "code",
   "execution_count": null,
   "id": "fb1620e3",
   "metadata": {},
   "outputs": [],
   "source": [
    "piksel_row_A3_l_24_0713, piksel_col_A3_l_24_0713 = f.latLong_to_piksel(target_lat_1, target_lon_1, latitudes_l_24_0713, longitudes_l_24_0713) #####________\n",
    "print(piksel_row_A3_l_24_0713, piksel_col_A3_l_24_0713) \n",
    "\n",
    "rss_A3_l_24_0713 = f.hyps1_rss_matrix(cube_norm_l_24_0713, piksel_row_A3_l_24_0713, piksel_col_A3_l_24_0713, satobj_h1_24_0713)    #####________\n",
    "print(rss_A3_l_24_0713.shape) \n",
    "\n",
    "median_A3_l_24_0713_atmc = np.median(rss_A3_l_24_0713, axis = 0)\n",
    "median_A3_l_24_0713_atmc.shape\n",
    "normaized_spectrum_median_A3_l_24_0713 = f.min_max_nomralization(median_A3_l_24_0713_atmc)\n",
    "l2_norm_A3_l_24_0713 = np.linalg.norm(median_A3_l_24_0713_atmc)  \n",
    "l2_normalized_spectrum_A3_l_24_0713 = median_A3_l_24_0713_atmc / l2_norm_A3_l_24_0713"
   ]
  },
  {
   "cell_type": "code",
   "execution_count": null,
   "id": "ed52b96e",
   "metadata": {},
   "outputs": [],
   "source": [
    "piksel_row_A5_l_24_0713, piksel_col_A5_l_24_0713 = f.latLong_to_piksel(target_lat_1, target_lon_1, latitudes_l_24_0713, longitudes_l_24_0713) #####________\n",
    "print(piksel_row_A5_l_24_0713, piksel_col_A5_l_24_0713) \n",
    "\n",
    "rss_A5_l_24_0713 = f.hyps1_rss_matrix(cube_norm_l_24_0713, piksel_row_A5_l_24_0713, piksel_col_A5_l_24_0713, satobj_h1_24_0713)    #####________\n",
    "print(rss_A5_l_24_0713.shape) \n",
    "\n",
    "median_A5_l_24_0713_atmc = np.median(rss_A5_l_24_0713, axis = 0)\n",
    "median_A5_l_24_0713_atmc.shape\n",
    "normaized_spectrum_median_A5_l_24_0713 = f.min_max_nomralization(median_A5_l_24_0713_atmc)\n",
    "l2_norm_A5_l_24_0713 = np.linalg.norm(median_A5_l_24_0713_atmc)  \n",
    "l2_normalized_spectrum_A5_l_24_0713 = median_A5_l_24_0713_atmc / l2_norm_A5_l_24_0713"
   ]
  },
  {
   "cell_type": "code",
   "execution_count": null,
   "id": "788f6967",
   "metadata": {},
   "outputs": [],
   "source": [
    "piksel_row_A6_l_24_0713, piksel_col_A6_l_24_0713 = f.latLong_to_piksel(target_lat_1, target_lon_1, latitudes_l_24_0713, longitudes_l_24_0713) #####________\n",
    "print(piksel_row_A6_l_24_0713, piksel_col_A6_l_24_0713) \n",
    "\n",
    "rss_A6_l_24_0713 = f.hyps1_rss_matrix(cube_norm_l_24_0713, piksel_row_A6_l_24_0713, piksel_col_A6_l_24_0713, satobj_h1_24_0713)    #####________\n",
    "print(rss_A6_l_24_0713.shape) \n",
    "\n",
    "median_A6_l_24_0713_atmc = np.median(rss_A6_l_24_0713, axis = 0)\n",
    "median_A6_l_24_0713_atmc.shape\n",
    "normaized_spectrum_median_A6_l_24_0713 = f.min_max_nomralization(median_A6_l_24_0713_atmc)\n",
    "l2_norm_A6_l_24_0713 = np.linalg.norm(median_A6_l_24_0713_atmc)  \n",
    "l2_normalized_spectrum_A6_l_24_0713 = median_A6_l_24_0713_atmc / l2_norm_A6_l_24_0713"
   ]
  },
  {
   "cell_type": "markdown",
   "id": "ca36c797",
   "metadata": {},
   "source": [
    "##### RSS frohavet north 24 0615"
   ]
  },
  {
   "cell_type": "code",
   "execution_count": null,
   "id": "42b1b18e",
   "metadata": {},
   "outputs": [],
   "source": [
    "piksel_row_A1_fn_24_0615, piksel_col_A1_fn_24_0615 = f.latLong_to_piksel(target_lat_1, target_lon_1, latitudes_fn_24_0615, longitudes_fn_24_0615) #####________\n",
    "print(piksel_row_A1_fn_24_0615, piksel_col_A1_fn_24_0615) \n",
    "\n",
    "rss_A1_fn_24_0615 = f.hyps1_rss_matrix(cube_norm_fn_24_0615, piksel_row_A1_fn_24_0615, piksel_col_A1_fn_24_0615, satobj_h1_24_0615)    #####________\n",
    "print(rss_A1_fn_24_0615.shape) \n",
    "\n",
    "median_A1_fn_24_0615_atmc = np.median(rss_A1_fn_24_0615, axis = 0)\n",
    "median_A1_fn_24_0615_atmc.shape\n",
    "normaized_spectrum_median_A1_fn_24_0615 = f.min_max_nomralization(median_A1_fn_24_0615_atmc)\n",
    "l2_norm_A1_fn_24_0615 = np.linalg.norm(median_A1_fn_24_0615_atmc)  \n",
    "l2_normalized_spectrum_A1_fn_24_0615 = median_A1_fn_24_0615_atmc / l2_norm_A1_fn_24_0615"
   ]
  },
  {
   "cell_type": "code",
   "execution_count": null,
   "id": "f0591227",
   "metadata": {},
   "outputs": [],
   "source": [
    "piksel_row_A2_fn_24_0615, piksel_col_A2_fn_24_0615 = f.latLong_to_piksel(target_lat_1, target_lon_1, latitudes_fn_24_0615, longitudes_fn_24_0615) #####________\n",
    "print(piksel_row_A2_fn_24_0615, piksel_col_A2_fn_24_0615) \n",
    "\n",
    "rss_A2_fn_24_0615 = f.hyps1_rss_matrix(cube_norm_fn_24_0615, piksel_row_A2_fn_24_0615, piksel_col_A2_fn_24_0615, satobj_h1_24_0615)    #####________\n",
    "print(rss_A2_fn_24_0615.shape) \n",
    "\n",
    "median_A2_fn_24_0615_atmc = np.median(rss_A2_fn_24_0615, axis = 0)\n",
    "median_A2_fn_24_0615_atmc.shape\n",
    "normaized_spectrum_median_A2_fn_24_0615 = f.min_max_nomralization(median_A2_fn_24_0615_atmc)\n",
    "l2_norm_A2_fn_24_0615 = np.linalg.norm(median_A2_fn_24_0615_atmc)  \n",
    "l2_normalized_spectrum_A2_fn_24_0615 = median_A2_fn_24_0615_atmc / l2_norm_A2_fn_24_0615"
   ]
  },
  {
   "cell_type": "code",
   "execution_count": null,
   "id": "9c4d0456",
   "metadata": {},
   "outputs": [],
   "source": [
    "piksel_row_A3_fn_24_0615, piksel_col_A3_fn_24_0615 = f.latLong_to_piksel(target_lat_1, target_lon_1, latitudes_fn_24_0615, longitudes_fn_24_0615) #####________\n",
    "print(piksel_row_A3_fn_24_0615, piksel_col_A3_fn_24_0615) \n",
    "\n",
    "rss_A3_fn_24_0615 = f.hyps1_rss_matrix(cube_norm_fn_24_0615, piksel_row_A3_fn_24_0615, piksel_col_A3_fn_24_0615, satobj_h1_24_0615)    #####________\n",
    "print(rss_A3_fn_24_0615.shape) \n",
    "\n",
    "median_A3_fn_24_0615_atmc = np.median(rss_A3_fn_24_0615, axis = 0)\n",
    "median_A3_fn_24_0615_atmc.shape\n",
    "normaized_spectrum_median_A3_fn_24_0615 = f.min_max_nomralization(median_A3_fn_24_0615_atmc)\n",
    "l2_norm_A3_fn_24_0615 = np.linalg.norm(median_A3_fn_24_0615_atmc)  \n",
    "l2_normalized_spectrum_A3_fn_24_0615 = median_A3_fn_24_0615_atmc / l2_norm_A3_fn_24_0615"
   ]
  },
  {
   "cell_type": "code",
   "execution_count": null,
   "id": "3736ef15",
   "metadata": {},
   "outputs": [],
   "source": [
    "piksel_row_A5_fn_24_0615, piksel_col_A5_fn_24_0615 = f.latLong_to_piksel(target_lat_1, target_lon_1, latitudes_fn_24_0615, longitudes_fn_24_0615) #####________\n",
    "print(piksel_row_A5_fn_24_0615, piksel_col_A5_fn_24_0615) \n",
    "\n",
    "rss_A5_fn_24_0615 = f.hyps1_rss_matrix(cube_norm_fn_24_0615, piksel_row_A5_fn_24_0615, piksel_col_A5_fn_24_0615, satobj_h1_24_0615)    #####________\n",
    "print(rss_A5_fn_24_0615.shape) \n",
    "\n",
    "median_A5_fn_24_0615_atmc = np.median(rss_A5_fn_24_0615, axis = 0)\n",
    "median_A5_fn_24_0615_atmc.shape\n",
    "normaized_spectrum_median_A5_fn_24_0615 = f.min_max_nomralization(median_A5_fn_24_0615_atmc)\n",
    "l2_norm_A5_fn_24_0615 = np.linalg.norm(median_A5_fn_24_0615_atmc)  \n",
    "l2_normalized_spectrum_A5_fn_24_0615 = median_A5_fn_24_0615_atmc / l2_norm_A5_fn_24_0615"
   ]
  },
  {
   "cell_type": "code",
   "execution_count": null,
   "id": "49d0afc2",
   "metadata": {},
   "outputs": [],
   "source": [
    "piksel_row_A6_fn_24_0615, piksel_col_A6_fn_24_0615 = f.latLong_to_piksel(target_lat_1, target_lon_1, latitudes_fn_24_0615, longitudes_fn_24_0615) #####________\n",
    "print(piksel_row_A6_fn_24_0615, piksel_col_A6_fn_24_0615) \n",
    "\n",
    "rss_A6_fn_24_0615 = f.hyps1_rss_matrix(cube_norm_fn_24_0615, piksel_row_A6_fn_24_0615, piksel_col_A6_fn_24_0615, satobj_h1_24_0615)    #####________\n",
    "print(rss_A6_fn_24_0615.shape) \n",
    "\n",
    "median_A6_fn_24_0615_atmc = np.median(rss_A6_fn_24_0615, axis = 0)\n",
    "median_A6_fn_24_0615_atmc.shape\n",
    "normaized_spectrum_median_A6_fn_24_0615 = f.min_max_nomralization(median_A6_fn_24_0615_atmc)\n",
    "l2_norm_A6_fn_24_0615 = np.linalg.norm(median_A6_fn_24_0615_atmc)  \n",
    "l2_normalized_spectrum_A6_fn_24_0615 = median_A6_fn_24_0615_atmc / l2_norm_A6_fn_24_0615"
   ]
  },
  {
   "cell_type": "markdown",
   "id": "8ddb96d5",
   "metadata": {},
   "source": [
    "##### RSS trondheim 22 0824"
   ]
  },
  {
   "cell_type": "code",
   "execution_count": null,
   "id": "b9380204",
   "metadata": {},
   "outputs": [],
   "source": [
    "piksel_row_A1_t_22_0824, piksel_col_A1_t_22_0824 = f.latLong_to_piksel(target_lat_1, target_lon_1, latitudes_t_22_0824, longitudes_t_22_0824) #####________\n",
    "print(piksel_row_A1_t_22_0824, piksel_col_A1_t_22_0824) \n",
    "\n",
    "rss_A1_t_22_0824 = f.hyps1_rss_matrix(cube_norm_t_22_0824, piksel_row_A1_t_22_0824, piksel_col_A1_t_22_0824, satobj_h1_t_22_0824)    #####________\n",
    "print(rss_A1_t_22_0824.shape) \n",
    "\n",
    "median_A1_t_22_0824_atmc = np.median(rss_A1_t_22_0824, axis = 0)\n",
    "median_A1_t_22_0824_atmc.shape\n",
    "normaized_spectrum_median_A1_t_22_0824 = f.min_max_nomralization(median_A1_t_22_0824_atmc)\n",
    "l2_norm_A1_t_22_0824 = np.linalg.norm(median_A1_t_22_0824_atmc)  \n",
    "l2_normalized_spectrum_A1_t_22_0824 = median_A1_t_22_0824_atmc / l2_norm_A1_t_22_0824"
   ]
  },
  {
   "cell_type": "code",
   "execution_count": null,
   "id": "8d2c998d",
   "metadata": {},
   "outputs": [],
   "source": [
    "piksel_row_A2_t_22_0824, piksel_col_A2_t_22_0824 = f.latLong_to_piksel(target_lat_1, target_lon_1, latitudes_t_22_0824, longitudes_t_22_0824) #####________\n",
    "print(piksel_row_A2_t_22_0824, piksel_col_A2_t_22_0824) \n",
    "\n",
    "rss_A2_t_22_0824 = f.hyps1_rss_matrix(cube_norm_t_22_0824, piksel_row_A2_t_22_0824, piksel_col_A2_t_22_0824, satobj_h1_t_22_0824)    #####________\n",
    "print(rss_A2_t_22_0824.shape) \n",
    "\n",
    "median_A2_t_22_0824_atmc = np.median(rss_A2_t_22_0824, axis = 0)\n",
    "median_A2_t_22_0824_atmc.shape\n",
    "normaized_spectrum_median_A2_t_22_0824 = f.min_max_nomralization(median_A2_t_22_0824_atmc)\n",
    "l2_norm_A2_t_22_0824 = np.linalg.norm(median_A2_t_22_0824_atmc)  \n",
    "l2_normalized_spectrum_A2_t_22_0824 = median_A2_t_22_0824_atmc / l2_norm_A2_t_22_0824"
   ]
  },
  {
   "cell_type": "code",
   "execution_count": null,
   "id": "744212bf",
   "metadata": {},
   "outputs": [],
   "source": [
    "piksel_row_A3_t_22_0824, piksel_col_A3_t_22_0824 = f.latLong_to_piksel(target_lat_1, target_lon_1, latitudes_t_22_0824, longitudes_t_22_0824) #####________\n",
    "print(piksel_row_A3_t_22_0824, piksel_col_A3_t_22_0824) \n",
    "\n",
    "rss_A3_t_22_0824 = f.hyps1_rss_matrix(cube_norm_t_22_0824, piksel_row_A3_t_22_0824, piksel_col_A3_t_22_0824, satobj_h1_t_22_0824)    #####________\n",
    "print(rss_A3_t_22_0824.shape) \n",
    "\n",
    "median_A3_t_22_0824_atmc = np.median(rss_A3_t_22_0824, axis = 0)\n",
    "median_A3_t_22_0824_atmc.shape\n",
    "normaized_spectrum_median_A3_t_22_0824 = f.min_max_nomralization(median_A3_t_22_0824_atmc)\n",
    "l2_norm_A3_t_22_0824 = np.linalg.norm(median_A3_t_22_0824_atmc)  \n",
    "l2_normalized_spectrum_A3_t_22_0824 = median_A3_t_22_0824_atmc / l2_norm_A3_t_22_0824"
   ]
  },
  {
   "cell_type": "code",
   "execution_count": null,
   "id": "adacdbda",
   "metadata": {},
   "outputs": [],
   "source": [
    "piksel_row_A5_t_22_0824, piksel_col_A5_t_22_0824 = f.latLong_to_piksel(target_lat_1, target_lon_1, latitudes_t_22_0824, longitudes_t_22_0824) #####________\n",
    "print(piksel_row_A5_t_22_0824, piksel_col_A5_t_22_0824) \n",
    "\n",
    "rss_A5_t_22_0824 = f.hyps1_rss_matrix(cube_norm_t_22_0824, piksel_row_A5_t_22_0824, piksel_col_A5_t_22_0824, satobj_h1_t_22_0824)    #####________\n",
    "print(rss_A5_t_22_0824.shape) \n",
    "\n",
    "median_A5_t_22_0824_atmc = np.median(rss_A5_t_22_0824, axis = 0)\n",
    "median_A5_t_22_0824_atmc.shape\n",
    "normaized_spectrum_median_A5_t_22_0824 = f.min_max_nomralization(median_A5_t_22_0824_atmc)\n",
    "l2_norm_A5_t_22_0824 = np.linalg.norm(median_A5_t_22_0824_atmc)  \n",
    "l2_normalized_spectrum_A5_t_22_0824 = median_A5_t_22_0824_atmc / l2_norm_A5_t_22_0824"
   ]
  },
  {
   "cell_type": "code",
   "execution_count": null,
   "id": "8ac44c01",
   "metadata": {},
   "outputs": [],
   "source": [
    "piksel_row_A6_t_22_0824, piksel_col_A6_t_22_0824 = f.latLong_to_piksel(target_lat_1, target_lon_1, latitudes_t_22_0824, longitudes_t_22_0824) #####________\n",
    "print(piksel_row_A6_t_22_0824, piksel_col_A6_t_22_0824) \n",
    "\n",
    "rss_A6_t_22_0824 = f.hyps1_rss_matrix(cube_norm_t_22_0824, piksel_row_A6, piksel_col_A6_t_22_0824, satobj_h1_t_22_0824)    #####________\n",
    "print(rss_A6_t_22_0824.shape) \n",
    "\n",
    "median_A6_t_22_0824_atmc = np.median(rss_A6_t_22_0824, axis = 0) ##burde lagd en funskjon for dette, for dette gir fort masse følge feil ahaha ikke bra\n",
    "median_A6_t_22_0824_atmc.shape\n",
    "normaized_spectrum_median_A6_t_22_0824 = f.min_max_nomralization(median_A6_t_22_0824_atmc)\n",
    "l2_norm_A6_t_22_0824 = np.linalg.norm(median_A6_t_22_0824_atmc)  \n",
    "l2_normalized_spectrum_A6_t_22_0824 = median_A6_t_22_0824_atmc / l2_norm_A6_t_22_0824"
   ]
  },
  {
   "cell_type": "markdown",
   "id": "28e1c2ec",
   "metadata": {},
   "source": [
    "##### RSS Trondheim 24 0911"
   ]
  },
  {
   "cell_type": "code",
   "execution_count": null,
   "id": "daea9c4f",
   "metadata": {},
   "outputs": [],
   "source": [
    "piksel_row_A1_t_24_0911, piksel_col_A1_t_24_0911 = f.latLong_to_piksel(target_lat_1, target_lon_1, latitudes_t_24_0911, longitudes_t_24_0911) #####________\n",
    "print(piksel_row_A1_t_24_0911, piksel_col_A1_t_24_0911) \n",
    "\n",
    "rss_A1_t_24_0911 = f.hyps1_rss_matrix(cube_norm_t_24_0911, piksel_row_A1_t_24_0911, piksel_col_A1_t_24_0911, satobj_h1_t_24_0911)    #####________\n",
    "print(rss_A1_t_24_0911.shape) \n",
    "\n",
    "median_A1_t_24_0911_atmc = np.median(rss_A1_t_24_0911, axis = 0)\n",
    "median_A1_t_24_0911_atmc.shape\n",
    "normaized_spectrum_median_A1_t_24_0911 = f.min_max_nomralization(median_A1_t_24_0911_atmc)\n",
    "l2_norm_A1_t_24_0911 = np.linalg.norm(median_A1_t_24_0911_atmc)  \n",
    "l2_normalized_spectrum_A1_t_24_0911 = median_A1_t_24_0911_atmc / l2_norm_A1_t_24_0911"
   ]
  },
  {
   "cell_type": "code",
   "execution_count": null,
   "id": "1d791882",
   "metadata": {},
   "outputs": [],
   "source": [
    "piksel_row_A2_t_24_0911, piksel_col_A2_t_24_0911 = f.latLong_to_piksel(target_lat_1, target_lon_1, latitudes_t_24_0911, longitudes_t_24_0911) #####________\n",
    "print(piksel_row_A2_t_24_0911, piksel_col_A2_t_24_0911) \n",
    "\n",
    "rss_A2_t_24_0911 = f.hyps1_rss_matrix(cube_norm_t_24_0911, piksel_row_A2_t_24_0911, piksel_col_A2_t_24_0911, satobj_h1_t_24_0911)    #####________\n",
    "print(rss_A2_t_24_0911.shape) \n",
    "\n",
    "median_A2_t_24_0911_atmc = np.median(rss_A2_t_24_0911, axis = 0)\n",
    "median_A2_t_24_0911_atmc.shape\n",
    "normaized_spectrum_median_A2_t_24_0911 = f.min_max_nomralization(median_A2_t_24_0911_atmc)\n",
    "l2_norm_A2_t_24_0911 = np.linalg.norm(median_A2_t_24_0911_atmc)  \n",
    "l2_normalized_spectrum_A2_t_24_0911 = median_A2_t_24_0911_atmc / l2_norm_A2_t_24_0911"
   ]
  },
  {
   "cell_type": "code",
   "execution_count": null,
   "id": "b8a966be",
   "metadata": {},
   "outputs": [],
   "source": [
    "piksel_row_A3_t_24_0911, piksel_col_A3_t_24_0911 = f.latLong_to_piksel(target_lat_1, target_lon_1, latitudes_t_24_0911, longitudes_t_24_0911) #####________\n",
    "print(piksel_row_A3_t_24_0911, piksel_col_A3_t_24_0911) \n",
    "\n",
    "rss_A3_t_24_0911 = f.hyps1_rss_matrix(cube_norm_t_24_0911, piksel_row_A3_t_24_0911, piksel_col_A3_t_24_0911, satobj_h1_t_24_0911)    #####________\n",
    "print(rss_A3_t_24_0911.shape) \n",
    "\n",
    "median_A3_t_24_0911_atmc = np.median(rss_A3_t_24_0911, axis = 0)\n",
    "median_A3_t_24_0911_atmc.shape\n",
    "normaized_spectrum_median_A3_t_24_0911 = f.min_max_nomralization(median_A3_t_24_0911_atmc)\n",
    "l2_norm_A3_t_24_0911 = np.linalg.norm(median_A3_t_24_0911_atmc)  \n",
    "l2_normalized_spectrum_A3_t_24_0911 = median_A3_t_24_0911_atmc / l2_norm_A3_t_24_0911"
   ]
  },
  {
   "cell_type": "code",
   "execution_count": null,
   "id": "f967557f",
   "metadata": {},
   "outputs": [],
   "source": [
    "piksel_row_A5_t_24_0911, piksel_col_A5_t_24_0911 = f.latLong_to_piksel(target_lat_1, target_lon_1, latitudes_t_24_0911, longitudes_t_24_0911) #####________\n",
    "print(piksel_row_A5_t_24_0911, piksel_col_A5_t_24_0911) \n",
    "\n",
    "rss_A5_t_24_0911 = f.hyps1_rss_matrix(cube_norm_t_24_0911, piksel_row_A5_t_24_0911, piksel_col_A5_t_24_0911, satobj_h1_t_24_0911)    #####________\n",
    "print(rss_A5_t_24_0911.shape) \n",
    "\n",
    "median_A5_t_24_0911_atmc = np.median(rss_A5_t_24_0911, axis = 0)\n",
    "median_A5_t_24_0911_atmc.shape\n",
    "normaized_spectrum_median_A5_t_24_0911 = f.min_max_nomralization(median_A5_t_24_0911_atmc)\n",
    "l2_norm_A5_t_24_0911 = np.linalg.norm(median_A5_t_24_0911_atmc)  \n",
    "l2_normalized_spectrum_A5_t_24_0911 = median_A5_t_24_0911_atmc / l2_norm_A5_t_24_0911"
   ]
  },
  {
   "cell_type": "code",
   "execution_count": null,
   "id": "7367ce3d",
   "metadata": {},
   "outputs": [],
   "source": [
    "piksel_row_A6_t_24_0911, piksel_col_A6_t_24_0911 = f.latLong_to_piksel(target_lat_1, target_lon_1, latitudes_t_24_0911, longitudes_t_24_0911) #####________\n",
    "print(piksel_row_A6_t_24_0911, piksel_col_A6_t_24_0911) \n",
    "\n",
    "rss_A6_t_24_0911 = f.hyps1_rss_matrix(cube_norm_t_24_0911, piksel_row_A6_t_24_0911, piksel_col_A6_t_24_0911, satobj_h1_t_24_0911)    #####________\n",
    "print(rss_A6_t_24_0911.shape) \n",
    "\n",
    "median_A6_t_24_0911_atmc = np.median(rss_A6_t_24_0911, axis = 0)\n",
    "median_A6_t_24_0911_atmc.shape\n",
    "normaized_spectrum_median_A6_t_24_0911 = f.min_max_nomralization(median_A6_t_24_0911_atmc)\n",
    "l2_norm_A6_t_24_0911 = np.linalg.norm(median_A6_t_24_0911_atmc)  \n",
    "l2_normalized_spectrum_A6_t_24_0911 = median_A6_t_24_0911_atmc / l2_norm_A6_t_24_0911"
   ]
  },
  {
   "cell_type": "markdown",
   "id": "f7a0256d",
   "metadata": {},
   "source": [
    "##### RSS Trondheim 24 0914"
   ]
  },
  {
   "cell_type": "code",
   "execution_count": null,
   "id": "ad917c7e",
   "metadata": {},
   "outputs": [],
   "source": [
    "piksel_row_A1_t_24_0914, piksel_col_A1_t_24_0914 = f.latLong_to_piksel(target_lat_1, target_lon_1, latitudes_t_24_0914, longitudes_t_24_0914) #####________\n",
    "print(piksel_row_A1_t_24_0914, piksel_col_A1_t_24_0914) \n",
    "\n",
    "rss_A1_t_24_0914 = f.hyps1_rss_matrix(cube_norm_t_24_0914, piksel_row_A1_t_24_0914, piksel_col_A1_t_24_0914, satobj_h1_t_24_0914)    #####________\n",
    "print(rss_A1_t_24_0914.shape) \n",
    "\n",
    "median_A1_t_24_0914_atmc = np.median(rss_A1_t_24_0914, axis = 0)\n",
    "median_A1_t_24_0914_atmc.shape\n",
    "normaized_spectrum_median_A1_t_24_0914 = f.min_max_nomralization(median_A1_t_24_0914_atmc)\n",
    "l2_norm_A1_t_24_0914 = np.linalg.norm(median_A1_t_24_0914_atmc)  \n",
    "l2_normalized_spectrum_A1_t_24_0914 = median_A1_t_24_0914_atmc"
   ]
  },
  {
   "cell_type": "code",
   "execution_count": null,
   "id": "4392901a",
   "metadata": {},
   "outputs": [],
   "source": [
    "piksel_row_A2_t_24_0914, piksel_col_A2_t_24_0914 = f.latLong_to_piksel(target_lat_1, target_lon_1, latitudes_t_24_0914, longitudes_t_24_0914) #####________\n",
    "print(piksel_row_A2_t_24_0914, piksel_col_A2_t_24_0914) \n",
    "\n",
    "rss_A2_t_24_0914 = f.hyps1_rss_matrix(cube_norm_t_24_0914, piksel_row_A2_t_24_0914, piksel_col_A2_t_24_0914, satobj_h1_t_24_0914)    #####________\n",
    "print(rss_A2_t_24_0914.shape) \n",
    "\n",
    "median_A2_t_24_0914_atmc = np.median(rss_A2_t_24_0914, axis = 0)\n",
    "median_A2_t_24_0914_atmc.shape\n",
    "normaized_spectrum_median_A2_t_24_0914 = f.min_max_nomralization(median_A2_t_24_0914_atmc)\n",
    "l2_norm_A2_t_24_0914 = np.linalg.norm(median_A2_t_24_0914_atmc)  \n",
    "l2_normalized_spectrum_A2_t_24_0914 = median_A2_t_24_0914_atmc"
   ]
  },
  {
   "cell_type": "code",
   "execution_count": null,
   "id": "93ab84ec",
   "metadata": {},
   "outputs": [],
   "source": [
    "piksel_row_A3_t_24_0914, piksel_col_A3_t_24_0914 = f.latLong_to_piksel(target_lat_1, target_lon_1, latitudes_t_24_0914, longitudes_t_24_0914) #####________\n",
    "print(piksel_row_A3_t_24_0914, piksel_col_A3_t_24_0914) \n",
    "\n",
    "rss_A3_t_24_0914 = f.hyps1_rss_matrix(cube_norm_t_24_0914, piksel_row_A3_t_24_0914, piksel_col_A3_t_24_0914, satobj_h1_t_24_0914)    #####________\n",
    "print(rss_A3_t_24_0914.shape) \n",
    "\n",
    "median_A3_t_24_0914_atmc = np.median(rss_A3_t_24_0914, axis = 0)\n",
    "median_A3_t_24_0914_atmc.shape\n",
    "normaized_spectrum_median_A3_t_24_0914 = f.min_max_nomralization(median_A3_t_24_0914_atmc)\n",
    "l2_norm_A3_t_24_0914 = np.linalg.norm(median_A3_t_24_0914_atmc)  \n",
    "l2_normalized_spectrum_A3_t_24_0914 = median_A3_t_24_0914_atmc"
   ]
  },
  {
   "cell_type": "code",
   "execution_count": null,
   "id": "4b8bb6ce",
   "metadata": {},
   "outputs": [],
   "source": [
    "piksel_row_A5_t_24_0914, piksel_col_A5_t_24_0914 = f.latLong_to_piksel(target_lat_1, target_lon_1, latitudes_t_24_0914, longitudes_t_24_0914) #####________\n",
    "print(piksel_row_A5_t_24_0914, piksel_col_A5_t_24_0914) \n",
    "\n",
    "rss_A5_t_24_0914 = f.hyps1_rss_matrix(cube_norm_t_24_0914, piksel_row_A5_t_24_0914, piksel_col_A5_t_24_0914, satobj_h1_t_24_0914)    #####________\n",
    "print(rss_A5_t_24_0914.shape) \n",
    "\n",
    "median_A5_t_24_0914_atmc = np.median(rss_A5_t_24_0914, axis = 0)\n",
    "median_A5_t_24_0914_atmc.shape\n",
    "normaized_spectrum_median_A5_t_24_0914 = f.min_max_nomralization(median_A5_t_24_0914_atmc)\n",
    "l2_norm_A5_t_24_0914 = np.linalg.norm(median_A5_t_24_0914_atmc)  \n",
    "l2_normalized_spectrum_A5_t_24_0914 = median_A5_t_24_0914_atmc"
   ]
  },
  {
   "cell_type": "code",
   "execution_count": null,
   "id": "bad18173",
   "metadata": {},
   "outputs": [],
   "source": [
    "piksel_row_A6_t_24_0914, piksel_col_A6_t_24_0914 = f.latLong_to_piksel(target_lat_1, target_lon_1, latitudes_t_24_0914, longitudes_t_24_0914) #####________\n",
    "print(piksel_row_A6_t_24_0914, piksel_col_A6_t_24_0914) \n",
    "\n",
    "rss_A6_t_24_0914 = f.hyps1_rss_matrix(cube_norm_t_24_0914, piksel_row_A6_t_24_0914, piksel_col_A6_t_24_0914, satobj_h1_t_24_0914)    #####________\n",
    "print(rss_A6_t_24_0914.shape) \n",
    "\n",
    "median_A6_t_24_0914_atmc = np.median(rss_A6_t_24_0914, axis = 0)\n",
    "median_A6_t_24_0914_atmc.shape\n",
    "normaized_spectrum_median_A6_t_24_0914 = f.min_max_nomralization(median_A6_t_24_0914_atmc)\n",
    "l2_norm_A6_t_24_0914 = np.linalg.norm(median_A6_t_24_0914_atmc)  \n",
    "l2_normalized_spectrum_A6_t_24_0914 = median_A6_t_24_0914_atmc"
   ]
  },
  {
   "cell_type": "markdown",
   "id": "0e46edc7",
   "metadata": {},
   "source": [
    "#### Plots, her skal all hypso 1 data vøre tilgjengelig så kjør og kall den koden du vil ha"
   ]
  },
  {
   "cell_type": "code",
   "execution_count": null,
   "id": "0e4c07af",
   "metadata": {},
   "outputs": [],
   "source": [
    "plt.plot(wl, median_A1_atmc, color='black', label='median A1')\n",
    "plt.plot(wl, median_A2_atmc, color='red', label='median A2')\n",
    "plt.plot(wl, median_A3_atmc, color='blue', label='median A3')\n",
    "#plt.plot(wl, median_A5_atmc, color='green', label='median A5')\n",
    "#plt.plot(wl, median_A6_atmc, color='orange', label='median A6')\n",
    "\n",
    "#plt.plot(wl, normaized_spectrum_median_0328, color='black', linestyle='--', label='normaized median 0328')\n",
    "#plt.plot(wl, normaized_spectrum_median_0329, color='red', linestyle='--', label='normaized median 0329')\n",
    "#plt.plot(wl, normaized_spectrum_median_0330, color='blue', linestyle='--', label='normaized median 0330')\n",
    "\n",
    "#plt.plot(wl, l2_normalized_spectrum_0328, color='black', label='l2 normalized median 0328')\n",
    "#plt.plot(wl, l2_normalized_spectrum_0329, color='red', label='l2 normalized median 0329')\n",
    "#plt.plot(wl, l2_normalized_spectrum_0330, color='blue', label='l2 normalized median 0330')\n",
    "\n",
    "plt.xlabel(\"Wawelength (nm)\")\n",
    "plt.ylabel(\"RSS atmosphericcally corrected \") #finne enheten her [sr^{-1}]\n",
    "plt.title(\"Areas within one picture from 2023-03-30\")\n",
    "plt.grid(True, alpha=0.3)\n",
    "plt.legend()\n",
    "plt.show()\n"
   ]
  }
 ],
 "metadata": {
  "kernelspec": {
   "display_name": "hypso-env",
   "language": "python",
   "name": "python3"
  },
  "language_info": {
   "codemirror_mode": {
    "name": "ipython",
    "version": 3
   },
   "file_extension": ".py",
   "mimetype": "text/x-python",
   "name": "python",
   "nbconvert_exporter": "python",
   "pygments_lexer": "ipython3",
   "version": "3.11.12"
  }
 },
 "nbformat": 4,
 "nbformat_minor": 5
}
