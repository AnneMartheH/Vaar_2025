{
 "cells": [
  {
   "cell_type": "markdown",
   "id": "5ed3b30e",
   "metadata": {},
   "source": [
    "## april 2025 two pictures same day, w angle and chla estimations"
   ]
  },
  {
   "cell_type": "markdown",
   "id": "fc0706da",
   "metadata": {},
   "source": [
    "### loading data"
   ]
  },
  {
   "cell_type": "code",
   "execution_count": 1,
   "id": "b620c530",
   "metadata": {},
   "outputs": [],
   "source": [
    "#import for HYPSO\n",
    "from hypso import Hypso1, Hypso2\n",
    "import os \n",
    "import matplotlib.pyplot as plt\n",
    "from global_land_mask import globe \n",
    "import numpy as np \n",
    "\n",
    "import funcions_autonom as f\n",
    "import xarray as xr #for cla estimasjon\n",
    "import importlib"
   ]
  },
  {
   "cell_type": "code",
   "execution_count": 5,
   "id": "a96ba2fd",
   "metadata": {},
   "outputs": [
    {
     "name": "stdout",
     "output_type": "stream",
     "text": [
      "[INFO] Loading L1a capture image64N9E_2025-04-23T10-28-01Z\n",
      "[INFO] Capture spatial dimensions: (598, 1092)\n",
      "[INFO] Capture capture type: wide\n",
      "[INFO] Loading L1b capture image64N9E_2025-04-23T10-28-01Z\n",
      "[INFO] Capture spatial dimensions: (598, 1092)\n",
      "[INFO] Capture capture type: wide\n",
      "[INFO] Loading L1c capture image64N9E_2025-04-23T10-28-01Z\n",
      "[INFO] Capture spatial dimensions: (598, 1092)\n",
      "[INFO] Capture capture type: wide\n",
      "[INFO] Loading L1d capture image64N9E_2025-04-23T10-28-01Z\n",
      "[INFO] Capture spatial dimensions: (598, 1092)\n",
      "[INFO] Capture capture type: wide\n",
      "[INFO] Running direct georeferencing...\n",
      "[INFO] ADCS samples: 539\n",
      "[INFO] ADCS time range: 1745403420.000000 to 1745404350.000000\n",
      "[INFO] Frame time range: 1745404081.613977 to 1745404156.238977\n",
      "[INFO] 298 sample(s) inside frame time range\n",
      "[INFO] Interpolating 598 frames\n",
      "[INFO] Computing pixel latitude and longitude coordinates ...\n",
      "[INFO] Interpolating pixel coordinate gaps...\n",
      "[INFO] Direct georeferencing done\n",
      "[INFO] Running track geometry computations...\n",
      "[INFO] Using UTM map: WGS 84 / UTM zone 32N EPSG: 32632\n",
      "[INFO] Track geometry computations done.\n",
      "[INFO] Running angles geometry computations...\n",
      "[INFO] Computing local angles (sun and satellite azimuth and zenith angles) ...\n",
      "[INFO] Using astropy on a subsampling of pixels ... (TODO skyfield may be faster)\n",
      "[INFO] Interpolating the rest of the pixels ...\n",
      "[INFO] Computing local angles done\n",
      "[INFO] Angles geometry computations done.\n"
     ]
    }
   ],
   "source": [
    "dir_path = \".\"\n",
    "i_250423 = os.path.join(dir_path, \"image64N9E_2025-04-23T10-28-01Z-l1a.nc\")\n",
    "i_250423_b = os.path.join(dir_path, \"image64N9E_2025-04-23T10-28-01Z-l1b.nc\")\n",
    "i_250423_c = os.path.join(dir_path, \"image64N9E_2025-04-23T10-28-01Z-l1c.nc\")\n",
    "i_250423_d = os.path.join(dir_path, \"image64N9E_2025-04-23T10-28-01Z-l1d.nc\")\n",
    "\n",
    "satobj_h1_250423 = Hypso1( path = i_250423, verbose = True )\n",
    "\n",
    "l1a_cube_250423 = satobj_h1_250423.l1a_cube\n",
    "l1b_cube_250423 = Hypso1( path = i_250423_b, verbose = True )\n",
    "l1c_cube_250423 = Hypso1( path = i_250423_c, verbose = True )\n",
    "l1d_cube_250423 = Hypso1( path = i_250423_d, verbose = True )\n",
    "\n",
    "l1c_cube_250423 = l1c_cube_250423.l1c_cube\n",
    "l1b_cube_250423 = l1b_cube_250423.l1b_cube\n",
    "l1d_cube_250423 = l1d_cube_250423.l1d_cube\n",
    "\n",
    "satobj_h1_250423.run_direct_georeferencing() # in order to get the longiyudes and latitudes \n",
    "\n",
    "cla_path_250423 = os.path.join(dir_path, \"image64N9E_2025-04-23T10-28-01Z-l1c.nc.polymer.nc\")\n",
    "ds= xr.open_dataset(cla_path_250423)\n",
    "chl_250423 = ds['chla']"
   ]
  },
  {
   "cell_type": "code",
   "execution_count": 6,
   "id": "5025518f",
   "metadata": {},
   "outputs": [
    {
     "name": "stdout",
     "output_type": "stream",
     "text": [
      "[INFO] Loading L1a capture image64N9E_2025-04-23T12-03-20Z\n",
      "[INFO] Capture spatial dimensions: (598, 1092)\n",
      "[INFO] Capture capture type: wide\n",
      "[INFO] Loading L1b capture image64N9E_2025-04-23T12-03-20Z\n",
      "[INFO] Capture spatial dimensions: (598, 1092)\n",
      "[INFO] Capture capture type: wide\n",
      "[INFO] Loading L1c capture image64N9E_2025-04-23T12-03-20Z\n",
      "[INFO] Capture spatial dimensions: (598, 1092)\n",
      "[INFO] Capture capture type: wide\n",
      "[INFO] Loading L1d capture image64N9E_2025-04-23T12-03-20Z\n",
      "[INFO] Capture spatial dimensions: (598, 1092)\n",
      "[INFO] Capture capture type: wide\n",
      "[INFO] Running direct georeferencing...\n",
      "[INFO] ADCS samples: 540\n",
      "[INFO] ADCS time range: 1745409150.000000 to 1745410080.000000\n",
      "[INFO] Frame time range: 1745409801.005251 to 1745409875.630251\n",
      "[INFO] 298 sample(s) inside frame time range\n",
      "[INFO] Interpolating 598 frames\n",
      "[INFO] Computing pixel latitude and longitude coordinates ...\n",
      "[INFO] Interpolating pixel coordinate gaps...\n",
      "[INFO] Direct georeferencing done\n",
      "[INFO] Running track geometry computations...\n",
      "[INFO] Using UTM map: WGS 84 / UTM zone 31N EPSG: 32631\n",
      "[INFO] Track geometry computations done.\n",
      "[INFO] Running angles geometry computations...\n",
      "[INFO] Computing local angles (sun and satellite azimuth and zenith angles) ...\n",
      "[INFO] Using astropy on a subsampling of pixels ... (TODO skyfield may be faster)\n",
      "[INFO] Interpolating the rest of the pixels ...\n",
      "[INFO] Computing local angles done\n",
      "[INFO] Angles geometry computations done.\n"
     ]
    }
   ],
   "source": [
    "i_250423_2 = os.path.join(dir_path, \"image64N9E_2025-04-23T12-03-20Z-l1a.nc\")\n",
    "i_250423_2_b = os.path.join(dir_path, \"image64N9E_2025-04-23T12-03-20Z-l1b.nc\")\n",
    "i_250423_2_c = os.path.join(dir_path, \"image64N9E_2025-04-23T12-03-20Z-l1c.nc\")\n",
    "i_250423_2_d = os.path.join(dir_path, \"image64N9E_2025-04-23T12-03-20Z-l1d.nc\")\n",
    "\n",
    "satobj_h1_250423_2 = Hypso1( path = i_250423_2, verbose = True )\n",
    "\n",
    "l1a_cube_250423_2 = satobj_h1_250423_2.l1a_cube\n",
    "l1b_cube_250423_2 = Hypso1( path = i_250423_2_b, verbose = True )\n",
    "l1c_cube_250423_2 = Hypso1( path = i_250423_2_c, verbose = True )\n",
    "l1d_cube_250423_2 = Hypso1( path = i_250423_2_d, verbose = True )\n",
    "\n",
    "l1c_cube_250423_2 = l1c_cube_250423_2.l1c_cube\n",
    "l1b_cube_250423_2 = l1b_cube_250423_2.l1b_cube\n",
    "l1d_cube_250423_2 = l1d_cube_250423_2.l1d_cube\n",
    "\n",
    "satobj_h1_250423_2.run_direct_georeferencing() # in order to get the longiyudes and latitudes \n",
    "\n",
    "cla_path_250423_2 = os.path.join(dir_path, \"image64N9E_2025-04-23T12-03-20Z-l1c.nc.polymer.nc\")\n",
    "ds= xr.open_dataset(cla_path_250423_2)\n",
    "chl_250423_2 = ds['chla']"
   ]
  },
  {
   "cell_type": "markdown",
   "id": "9f0b8266",
   "metadata": {},
   "source": [
    "### calculating on data"
   ]
  },
  {
   "cell_type": "code",
   "execution_count": 18,
   "id": "914bfc1d",
   "metadata": {},
   "outputs": [],
   "source": [
    "x_1 = [387.84749685, 391.40406599, 394.95941579, 398.51354623, 402.06645732, 405.61814905, 409.16862143, 412.71787446, 416.26590814, 419.81272246, 423.35831743, 426.90269305, 430.44584931, 433.98778622, 437.52850378, 441.06800198, 444.60628083, 448.14334033, 451.67918047, 455.21380126, 458.7472027, 462.27938479, 465.81034752, 469.3400909 , 472.86861492,476.3959196 , 479.92200491, 483.44687088, 486.97051749, 490.49294475,494.01415266, 497.53414122, 501.05291042, 504.57046026, 508.08679076,511.6019019 , 515.11579369, 518.62846612, 522.13991921, 525.65015294,529.15916731, 532.66696233, 536.173538  , 539.67889432, 543.18303128,546.68594889, 550.18764715, 553.68812606, 557.18738561, 560.68542581,564.18224665, 567.67784814, 571.17223028, 574.66539307, 578.1573365, 581.64806058, 585.1375653 , 588.62585068, 592.1129167 , 595.59876336,599.08339068, 602.56679864, 606.04898725, 609.5299565 , 613.0097064 ,616.48823695, 619.96554815, 623.44163999, 626.91651248, 630.39016561,633.86259939, 637.33381382, 640.8038089 , 644.27258462, 647.74014099,651.20647801, 654.67159568, 658.13549399, 661.59817294, 665.05963255,668.5198728 , 671.9788937 , 675.43669524, 678.89327744, 682.34864028,685.80278376, 689.25570789, 692.70741267, 696.1578981 , 699.60716418,703.0552109 , 706.50203826, 709.94764628, 713.39203494, 716.83520425,720.2771542 , 723.7178848 , 727.15739605, 730.59568795, 734.03276049,737.46861368, 740.90324752, 744.336662  , 747.76885713, 751.19983291,754.62958933, 758.0581264 , 761.48544412, 764.91154248, 768.33642149,771.76008115, 775.18252146, 778.60374241, 782.02374401, 785.44252625,788.86008915, 792.27643269, 795.69155687, 799.10546171, 802.51814719]\n",
    "x=x_1[5:115]\n",
    "\n",
    "# Target latitude and longitude\n",
    "#target_lat = [64.08533976025561,64.08799001499494, 64.00671553632209, 64.00539040895242] #område 1.\n",
    "#target_lon = [9.744011353487297, 9.632700654435348, 9.740919389624743,9.634025781805015]  \n",
    "\n",
    "#target_lat = [63.818490304354434,63.793837321385155, 63.65192496143867, 63.660555970548074] #område 2.1.\n",
    "#target_lon = [9.531415429238418, 9.442656298818237,9.526455044589706,9.439764451470932]\n",
    "\n",
    "#target_lat = [64.2750935781297,64.29365394014144, 64.17902661492639, 64.18553880683058] #område 4, korrigert\n",
    "#target_lon = [9.127764312954888, 8.585899068865604,9.130324490159921,8.564058182856481]  \n",
    "\n",
    "target_lat = [63.646767083517425,63.61771951990031, 63.47865598622861, 63.42721372576498] #område 5.1\n",
    "target_lon = [9.804697410334523, 9.723689711502818,10.061035990832918,9.982929114384596]  \n",
    "\n",
    "#target_lat = [64.17324887890479,64.11631446557637, 63.896904083590066, 63.887923483169004] #område 6.1\n",
    "#target_lon = [9.582148298814932,8.924448409066027, 9.578289180688513, 8.96230357578283]\n",
    "\n",
    "#target_lat = [64.48557437461893,64.52896641587218, 64.20992561747796, 64.22009411667561] #område 7\n",
    "#target_lon = [9.886201113342556, 8.708294855080245,9.704720121565003,8.73032214102829]  "
   ]
  },
  {
   "cell_type": "code",
   "execution_count": 19,
   "id": "22daf07f",
   "metadata": {},
   "outputs": [
    {
     "name": "stdout",
     "output_type": "stream",
     "text": [
      "Pixel number:  849\n",
      "[INFO] Running angles geometry computations...\n",
      "[INFO] Computing local angles (sun and satellite azimuth and zenith angles) ...\n",
      "[INFO] Using astropy on a subsampling of pixels ... (TODO skyfield may be faster)\n",
      "[INFO] Interpolating the rest of the pixels ...\n",
      "[INFO] Computing local angles done\n",
      "[INFO] Angles geometry computations done.\n"
     ]
    }
   ],
   "source": [
    "latitudes_250423 = satobj_h1_250423.latitudes\n",
    "longitudes_250423 = satobj_h1_250423.longitudes\n",
    "\n",
    "piksel_row_250423, piksel_col_250423 = f.latLong_to_piksel(target_lat, target_lon, latitudes_250423, longitudes_250423) #from file funcions_autonom.py\n",
    "rss_matrix_250423 = f.water_masked_rss_matrix(piksel_row_250423,piksel_col_250423, l1d_cube_250423, satobj_h1_250423)\n",
    "        \n",
    "mean_spectrum_250423 = np.mean(rss_matrix_250423, axis=1) ## mean over rad  # gjenomsnitt\n",
    "median_spectrum_250423 = np.median(rss_matrix_250423, axis=1) # median over rad\n",
    "std_spectrum_250423 = np.std(rss_matrix_250423, axis=1)  #standard avik\n",
    "\n",
    "normaized_spectrum_250423 = f.min_max_nomralization(mean_spectrum_250423)\n",
    "normaized_spectrum_median_250423 = f.min_max_nomralization(median_spectrum_250423)\n",
    "\n",
    "l2_norm_250423 = np.linalg.norm(mean_spectrum_250423)  #l2 norm\n",
    "l2_normalized_spectrum_250423 = mean_spectrum_250423 / l2_norm_250423  #l2 normalisering\n",
    "\n",
    "l2_norm_median_250423 = np.linalg.norm(median_spectrum_250423)  #l2 norm\n",
    "l2_normalized_median_spectrum_250423 = median_spectrum_250423 / l2_norm_median_250423  #l2 normalisering\n",
    "\n",
    "angles_240423 = satobj_h1_250423._run_angles_geometry(latitudes_250423, longitudes_250423)"
   ]
  },
  {
   "cell_type": "code",
   "execution_count": 20,
   "id": "e35ac152",
   "metadata": {},
   "outputs": [
    {
     "name": "stdout",
     "output_type": "stream",
     "text": [
      "Pixel number:  849\n",
      "Pixel number:  849\n"
     ]
    }
   ],
   "source": [
    "chla_250423 = f.water_masked_chl(piksel_row_250423,piksel_col_250423, satobj_h1_250423, chl_250423)\n",
    "soZA_250423, soAA_250423, saZA_250423, saAA_250423, reAA_250423 = f.water_masked_angles(piksel_row_250423,piksel_col_250423, satobj_h1_250423, angles_240423 )\n",
    "\n",
    "chl_250423_median = np.median(chla_250423)\n",
    "chl_250423_min = np.min(chla_250423)\n",
    "chl_250423_max = np.max(chla_250423)\n",
    "\n",
    "soZA_250423_median = np.median(soZA_250423)\n",
    "soAA_250423_median = np.median(soAA_250423)\n",
    "saZA_250423_median = np.median(saZA_250423)\n",
    "saAA_250423_median = np.median(saAA_250423)\n",
    "reAA_250423_median = np.median(reAA_250423)"
   ]
  },
  {
   "cell_type": "code",
   "execution_count": 21,
   "id": "34241aeb",
   "metadata": {},
   "outputs": [
    {
     "name": "stdout",
     "output_type": "stream",
     "text": [
      "Pixel number:  225\n",
      "[INFO] Running angles geometry computations...\n",
      "[INFO] Computing local angles (sun and satellite azimuth and zenith angles) ...\n",
      "[INFO] Using astropy on a subsampling of pixels ... (TODO skyfield may be faster)\n",
      "[INFO] Interpolating the rest of the pixels ...\n",
      "[INFO] Computing local angles done\n",
      "[INFO] Angles geometry computations done.\n"
     ]
    }
   ],
   "source": [
    "latitudes_250423_2 = satobj_h1_250423_2.latitudes\n",
    "longitudes_250423_2 = satobj_h1_250423_2.longitudes\n",
    "\n",
    "piksel_row_250423_2, piksel_col_250423_2 = f.latLong_to_piksel(target_lat, target_lon, latitudes_250423_2, longitudes_250423_2) #from file funcions_autonom.py\n",
    "#rss_matrix_0328 = f.rss_matrix(120, piksel_row_0328,piksel_col_0328, l1d_cube_0328)\n",
    "rss_matrix_250423_2 = f.water_masked_rss_matrix(piksel_row_250423_2,piksel_col_250423_2, l1d_cube_250423_2, satobj_h1_250423_2)\n",
    "        \n",
    "mean_spectrum_250423_2 = np.mean(rss_matrix_250423_2, axis=1) ## mean over rad  # gjenomsnitt\n",
    "median_spectrum_250423_2 = np.median(rss_matrix_250423_2, axis=1) # median over rad\n",
    "std_spectrum_250423_2 = np.std(rss_matrix_250423_2, axis=1)  #standard avik\n",
    "\n",
    "normaized_spectrum_250423_2 = f.min_max_nomralization(mean_spectrum_250423_2)\n",
    "normaized_spectrum_median_250423_2 = f.min_max_nomralization(median_spectrum_250423_2)\n",
    "\n",
    "l2_norm_250423_2 = np.linalg.norm(mean_spectrum_250423_2)  #l2 norm\n",
    "l2_normalized_spectrum_250423_2 = mean_spectrum_250423_2 / l2_norm_250423_2  #l2 normalisering\n",
    "\n",
    "l2_norm_median_250423_2 = np.linalg.norm(median_spectrum_250423_2)  #l2 norm\n",
    "l2_normalized_median_spectrum_250423_2 = median_spectrum_250423_2 / l2_norm_median_250423_2  #l2 normalisering\n",
    "\n",
    "angles_240423_2 = satobj_h1_250423_2._run_angles_geometry(latitudes_250423_2, longitudes_250423_2)"
   ]
  },
  {
   "cell_type": "code",
   "execution_count": 22,
   "id": "3df0fbf1",
   "metadata": {},
   "outputs": [
    {
     "name": "stdout",
     "output_type": "stream",
     "text": [
      "Pixel number:  225\n",
      "Pixel number:  225\n"
     ]
    }
   ],
   "source": [
    "chla_250423_2 = f.water_masked_chl(piksel_row_250423_2,piksel_col_250423_2, satobj_h1_250423_2, chl_250423_2)\n",
    "soZA_250423_2, soAA_250423_2, saZA_250423_2, saAA_250423_2, reAA_250423_2 = f.water_masked_angles(piksel_row_250423_2,piksel_col_250423_2, satobj_h1_250423_2, angles_240423_2 )\n",
    "\n",
    "chl_250423_2_median = np.median(chla_250423_2)\n",
    "chl_250423_2_min = np.min(chla_250423_2)\n",
    "chl_250423_2_max = np.max(chla_250423_2)\n",
    "\n",
    "soZA_250423_2_median = np.median(soZA_250423_2)\n",
    "soAA_250423_2_median = np.median(soAA_250423_2)\n",
    "saZA_250423_2_median = np.median(saZA_250423_2)\n",
    "saAA_250423_2_median = np.median(saAA_250423_2)\n",
    "reAA_250423_2_median = np.median(reAA_250423_2)"
   ]
  },
  {
   "cell_type": "markdown",
   "id": "6ec2de7f",
   "metadata": {},
   "source": [
    "### visualisation of data\n"
   ]
  },
  {
   "cell_type": "code",
   "execution_count": 26,
   "id": "db9f216e",
   "metadata": {},
   "outputs": [
    {
     "data": {
      "image/png": "[encoded data removed]",
      "text/plain": [
       "<Figure size 640x480 with 1 Axes>"
      ]
     },
     "metadata": {},
     "output_type": "display_data"
    },
    {
     "name": "stdout",
     "output_type": "stream",
     "text": [
      "chl_250423_median:  nan\n",
      "chl_250423_min:  nan\n",
      "chl_250423_max:  nan\n",
      " \n",
      "chl_250423_2_median:  nan\n",
      "chl_250423_2_min:  nan\n",
      "chl_250423_2_max:  nan\n"
     ]
    }
   ],
   "source": [
    "####################### median spectrum ##########################################\n",
    "#plt.plot(x, median_spectrum_250402, color='blue', label='median 250402')\n",
    "plt.plot(x, median_spectrum_250423, color='black', label='median 250423')\n",
    "plt.plot(x, median_spectrum_250423_2, color='red' , label='median 250423_2')\n",
    "\n",
    "###########################min max nomralized median spectrum #############\n",
    "#plt.plot(x, normaized_spectrum_median_250423, color='black', label=' min max norm median 250423')\n",
    "#plt.plot(x, normaized_spectrum_median_250423_2, color='red' , label=' min max norm median 250423_2')\n",
    "\n",
    "############################## l2 normalized spectrums  ###################################\n",
    "#plt.plot(x, l2_normalized_median_spectrum_250402, color='blue', label='norm median 250402')\n",
    "#plt.plot(x, l2_normalized_median_spectrum_250423, color='black', label='l2 norm median 250423')\n",
    "#plt.plot(x, l2_normalized_median_spectrum_250423_2, color='red', label='l2 norm median 250423_2')\n",
    "\n",
    "###################################### regarding the plots represenation ##############################\n",
    "plt.xlabel(\"Wawelength (nm)\")\n",
    "plt.ylabel(\"Top-of-Atmosphere Reflectance  \") #finne enheten her [sr^{-1}]\n",
    "plt.title(\"median area 5.1 april 2025\")\n",
    "plt.grid(True, alpha=0.3)\n",
    "plt.legend()\n",
    "plt.show()\n",
    "\n",
    "print(\"chl_250423_median: \", chl_250423_median)\n",
    "print(\"chl_250423_min: \", chl_250423_min)\n",
    "print(\"chl_250423_max: \", chl_250423_max)\n",
    "# print(\"soZA_250423_median: \", soZA_250423_median)\n",
    "# print(\"soAA_250423_median: \", soAA_250423_median)\n",
    "# print(\"saZA_250423_median: \", saZA_250423_median)\n",
    "# print(\"saAA_250423_median: \", saAA_250423_median)\n",
    "# print(\"reAA_250423_median: \", reAA_250423_median)\n",
    "print(\" \")\n",
    "\n",
    "print(\"chl_250423_2_median: \", chl_250423_2_median)\n",
    "print(\"chl_250423_2_min: \", chl_250423_2_min)\n",
    "print(\"chl_250423_2_max: \", chl_250423_2_max)\n",
    "# print(\"soZA_250423_2_median: \", soZA_250423_2_median)\n",
    "# print(\"soAA_250423_2_median: \", soAA_250423_2_median)\n",
    "# print(\"saZA_250423_2_median: \", saZA_250423_2_median)\n",
    "# print(\"saAA_250423_2_median: \", saAA_250423_2_median)\n",
    "# print(\"reAA_250423_2_median: \", reAA_250423_2_median)"
   ]
  }
 ],
 "metadata": {
  "kernelspec": {
   "display_name": "hypso-env",
   "language": "python",
   "name": "python3"
  },
  "language_info": {
   "codemirror_mode": {
    "name": "ipython",
    "version": 3
   },
   "file_extension": ".py",
   "mimetype": "text/x-python",
   "name": "python",
   "nbconvert_exporter": "python",
   "pygments_lexer": "ipython3",
   "version": "3.11.12"
  }
 },
 "nbformat": 4,
 "nbformat_minor": 5
}
