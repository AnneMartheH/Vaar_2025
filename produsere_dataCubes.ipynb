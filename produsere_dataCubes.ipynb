{
 "cells": [
  {
   "cell_type": "markdown",
   "id": "f9b419cc",
   "metadata": {},
   "source": [
    "### Denne filen produserer data kubes og lagrer de lokalt i samme mappe som dette programmet "
   ]
  },
  {
   "cell_type": "code",
   "execution_count": 1,
   "id": "4fd418f5",
   "metadata": {},
   "outputs": [],
   "source": [
    "#import for HYPSO\n",
    "from hypso import Hypso1, Hypso2\n",
    "import os \n",
    "import matplotlib.pyplot as plt"
   ]
  },
  {
   "cell_type": "code",
   "execution_count": 2,
   "id": "f07f544d",
   "metadata": {},
   "outputs": [
    {
     "name": "stdout",
     "output_type": "stream",
     "text": [
      "[INFO] Loading L1a capture image63N9E_2025-05-11T10-04-27Z\n",
      "[INFO] Capture spatial dimensions: (598, 1092)\n",
      "[INFO] Capture capture type: wide\n"
     ]
    }
   ],
   "source": [
    "#paths\n",
    "\n",
    "dir_path = \".\"\n",
    "\n",
    "#hypso 1 capture \n",
    "#frohavet_path_0316 = os.path.join(dir_path, \"frohavet_2023-03-16T10-44-08Z-l1a.nc\") # ---------------\n",
    "#frohavet_path_0325 = os.path.join(dir_path, \"frohavet_2023-03-25T10-08-52Z-l1a.nc\") #----------------\n",
    "#frohavet_path_0328 = os.path.join(dir_path, \"frohavet_2023-03-28T10-59-21Z-l1a.nc\") #------------\n",
    "#frohavet_path_0330 = os.path.join(dir_path, \"frohavet_2023-03-30T10-30-26Z-l1a.nc\") # ------------\n",
    "#frohavet_path_0402 = os.path.join(dir_path, \"frohavet_2023-04-02T09-46-35Z-l1a.nc\") #-------\n",
    "#frohavet_path_0407 = os.path.join(dir_path, \"frohavet_2023-04-07T10-07-15Z-l1a.nc\") #--------\n",
    "#frohavet_path_0412 = os.path.join(dir_path, \"frohavet_2023-04-12T10-27-31Z-l1a.nc\") #---------- \n",
    "#frohavet_path_0614 = os.path.join(dir_path, \"frohavet_2023-06-14T10-03-05Z-l1a.nc\") #-------------- \n",
    "#frohavet_path_0730 = os.path.join(dir_path, \"frohavet_2023-07-30T10-17-47Z-l1a.nc\") #---------- \n",
    "#tronheim_path_0327 = os.path.join(dir_path, \"trondheim_2023-03-27T09-39-46Z-l1a.nc\")\n",
    "tronheim_path_0329 = os.path.join(dir_path, \"image63N9E_2025-05-11T10-04-27Z-l1a.nc\") # *****\n",
    "#tronheim_path_0330 = os.path.join(dir_path, \"trondheim_2023-03-30T08-55-52Z-l1a.nc\")\n",
    "#tronheim_path_0417 = os.path.join(dir_path, \"trondheim_2023-04-17T10-47-11Z-l1a.nc\")\n",
    "#tronheim_path_0613 = os.path.join(dir_path, \"trondheim_2023-06-13T19-35-25Z-l1a.nc\") #----------------\n",
    "#tronheim_path_1019 = os.path.join(dir_path, \"trondheim_2023-10-19T10-51-48Z-l1a.nc\")#-------------------\n",
    "\n",
    "\n",
    "#satobj_h1 = Hypso1( path = frohavet_path_0316, verbose = True ) #------------\n",
    "#satobj_h1 = Hypso1( path = frohavet_path_0325, verbose = True ) # -----------------\n",
    "#satobj_h1 = Hypso1( path = frohavet_path_0328, verbose = True ) # -------------\n",
    "#satobj_h1 = Hypso1( path = frohavet_path_0330, verbose = True ) # -------------- 598\n",
    "#satobj_h1 = Hypso1( path = frohavet_path_0402, verbose = True ) # ------ 955 out of axis with 598, 1092\n",
    "#satobj_h1 = Hypso1( path = frohavet_path_0407, verbose = True ) #------\n",
    "#satobj_h1 = Hypso1( path = frohavet_path_0412, verbose = True ) #------------- \n",
    "#satobj_h1 = Hypso1( path = frohavet_path_0614, verbose = True ) #-------------- \n",
    "#satobj_h1 = Hypso1( path = frohavet_path_0730, verbose = True ) #----------- \n",
    "#satobj_h1 = Hypso1( path = tronheim_path_0327, verbose = True )\n",
    "satobj_h1 = Hypso1( path = tronheim_path_0329, verbose = True )\n",
    "#satobj_h1 = Hypso1( path = tronheim_path_0330, verbose = True )\n",
    "#satobj_h1 = Hypso1( path = tronheim_path_0417, verbose = True )\n",
    "#satobj_h1 = Hypso1( path = tronheim_path_0613, verbose = True ) #----------------\n",
    "#satobj_h1 = Hypso1( path = tronheim_path_1019, verbose = True ) #-------------------"
   ]
  },
  {
   "cell_type": "code",
   "execution_count": 3,
   "id": "afba63d0",
   "metadata": {},
   "outputs": [
    {
     "name": "stdout",
     "output_type": "stream",
     "text": [
      "[INFO] Running direct georeferencing...\n",
      "[INFO] ADCS samples: 431\n",
      "[INFO] ADCS time range: 1746957180.000000 to 1746958140.000000\n",
      "[INFO] Frame time range: 1746957867.923740 to 1746957917.673740\n",
      "[INFO] 199 sample(s) inside frame time range\n",
      "[INFO] Interpolating 598 frames\n",
      "[INFO] Computing pixel latitude and longitude coordinates ...\n",
      "[INFO] Interpolating pixel coordinate gaps...\n",
      "[INFO] Direct georeferencing done\n",
      "[INFO] Running track geometry computations...\n",
      "[INFO] Using UTM map: WGS 84 / UTM zone 32N EPSG: 32632\n",
      "[INFO] Track geometry computations done.\n",
      "[INFO] Running angles geometry computations...\n",
      "[INFO] Computing local angles (sun and satellite azimuth and zenith angles) ...\n",
      "[INFO] Using astropy on a subsampling of pixels ... (TODO skyfield may be faster)\n",
      "[INFO] Interpolating the rest of the pixels ...\n",
      "[INFO] Computing local angles done\n",
      "[INFO] Angles geometry computations done.\n"
     ]
    }
   ],
   "source": [
    "satobj_h1.run_direct_georeferencing()"
   ]
  },
  {
   "cell_type": "code",
   "execution_count": 4,
   "id": "5e8bbc71",
   "metadata": {},
   "outputs": [
    {
     "name": "stdout",
     "output_type": "stream",
     "text": [
      "[INFO] Running calibration routines...\n",
      "[INFO] Running radiometric calibration...\n",
      "[INFO] Running smile correction...\n",
      "[INFO] Running destriping correction...\n",
      "[INFO] Running spectral correction...\n"
     ]
    }
   ],
   "source": [
    "satobj_h1.generate_l1b_cube()"
   ]
  },
  {
   "cell_type": "code",
   "execution_count": 5,
   "id": "a6dcbf32",
   "metadata": {},
   "outputs": [
    {
     "name": "stdout",
     "output_type": "stream",
     "text": [
      "[INFO] Running direct georeferencing...\n",
      "[INFO] Computing pixel latitude and longitude coordinates ...\n",
      "[INFO] Interpolating pixel coordinate gaps...\n",
      "[INFO] Direct georeferencing done\n",
      "[INFO] Running track geometry computations...\n",
      "[INFO] Using UTM map: WGS 84 / UTM zone 32N EPSG: 32632\n",
      "[INFO] Track geometry computations done.\n",
      "[INFO] Running angles geometry computations...\n",
      "[INFO] Computing local angles (sun and satellite azimuth and zenith angles) ...\n",
      "[INFO] Using astropy on a subsampling of pixels ... (TODO skyfield may be faster)\n",
      "[INFO] Interpolating the rest of the pixels ...\n",
      "[INFO] Computing local angles done\n",
      "[INFO] Angles geometry computations done.\n"
     ]
    }
   ],
   "source": [
    "satobj_h1.generate_l1c_cube()"
   ]
  },
  {
   "cell_type": "code",
   "execution_count": 6,
   "id": "b1ef1866",
   "metadata": {},
   "outputs": [
    {
     "name": "stdout",
     "output_type": "stream",
     "text": [
      "[WARNING] Computing TOA reflectance using DIRECT georeferencing geometry.\n"
     ]
    }
   ],
   "source": [
    "satobj_h1.generate_l1d_cube()"
   ]
  },
  {
   "cell_type": "code",
   "execution_count": 7,
   "id": "542306e7",
   "metadata": {},
   "outputs": [],
   "source": [
    "#save to file\n",
    "from hypso.write import write_l1b_nc_file, write_l1c_nc_file, write_l1d_nc_file\n",
    "\n",
    "# Write the generated products to NetCDF. Use the 'datacube=False' argument to write each band as a separate variable in the NetCDF file \n",
    "write_l1b_nc_file(satobj=satobj_h1, overwrite=True)\n",
    "write_l1c_nc_file(satobj=satobj_h1, overwrite=True, datacube=True)\n",
    "write_l1d_nc_file(satobj=satobj_h1, overwrite=True, datacube=True)"
   ]
  }
 ],
 "metadata": {
  "kernelspec": {
   "display_name": "hypso-env",
   "language": "python",
   "name": "python3"
  },
  "language_info": {
   "codemirror_mode": {
    "name": "ipython",
    "version": 3
   },
   "file_extension": ".py",
   "mimetype": "text/x-python",
   "name": "python",
   "nbconvert_exporter": "python",
   "pygments_lexer": "ipython3",
   "version": "3.11.12"
  }
 },
 "nbformat": 4,
 "nbformat_minor": 5
}
