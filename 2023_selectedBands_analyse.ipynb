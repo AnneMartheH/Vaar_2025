{
 "cells": [
  {
   "cell_type": "markdown",
   "id": "c3716ab1",
   "metadata": {},
   "source": [
    "## 2023 analyse based on four spectral bands "
   ]
  },
  {
   "cell_type": "code",
   "execution_count": 2,
   "id": "cc0297e5",
   "metadata": {},
   "outputs": [],
   "source": [
    "#import for HYPSO\n",
    "from hypso import Hypso1, Hypso2\n",
    "import os \n",
    "import matplotlib.pyplot as plt\n",
    "from global_land_mask import globe \n",
    "import numpy as np \n",
    "\n",
    "import funcions_autonom as f\n",
    "import importlib"
   ]
  },
  {
   "cell_type": "code",
   "execution_count": 3,
   "id": "d399e653",
   "metadata": {},
   "outputs": [
    {
     "name": "stdout",
     "output_type": "stream",
     "text": [
      "[INFO] Loading L1a capture frohavet_2023-03-16T10-44-08Z\n",
      "[INFO] Capture spatial dimensions: (956, 684)\n",
      "[INFO] Capture capture type: nominal\n",
      "[INFO] Loading L1b capture frohavet_2023-03-16T10-44-08Z\n",
      "[INFO] Capture spatial dimensions: (956, 684)\n",
      "[INFO] Capture capture type: nominal\n",
      "[INFO] Loading L1c capture frohavet_2023-03-16T10-44-08Z\n",
      "[INFO] Capture spatial dimensions: (956, 684)\n",
      "[INFO] Capture capture type: nominal\n",
      "[INFO] Loading L1d capture frohavet_2023-03-16T10-44-08Z\n",
      "[INFO] Capture spatial dimensions: (956, 684)\n",
      "[INFO] Capture capture type: nominal\n",
      "[INFO] Running direct georeferencing...\n",
      "[INFO] ADCS samples: 1837\n",
      "[INFO] ADCS time range: 1678962780.000000 to 1678963680.000000\n",
      "[INFO] Frame time range: 1678963448.503009 to 1678963491.912100\n",
      "[INFO] 173 sample(s) inside frame time range\n",
      "[INFO] Interpolating 956 frames\n",
      "[INFO] Computing pixel latitude and longitude coordinates ...\n",
      "[INFO] Interpolating pixel coordinate gaps...\n",
      "[INFO] Direct georeferencing done\n",
      "[INFO] Running track geometry computations...\n",
      "[INFO] Using UTM map: WGS 84 / UTM zone 32N EPSG: 32632\n",
      "[INFO] Track geometry computations done.\n",
      "[INFO] Running angles geometry computations...\n",
      "[INFO] Computing local angles (sun and satellite azimuth and zenith angles) ...\n",
      "[INFO] Using astropy on a subsampling of pixels ... (TODO skyfield may be faster)\n",
      "[INFO] Interpolating the rest of the pixels ...\n",
      "[INFO] Computing local angles done\n",
      "[INFO] Angles geometry computations done.\n"
     ]
    }
   ],
   "source": [
    "dir_path = \".\"\n",
    " \n",
    "frohavet_path_0316 = os.path.join(dir_path, \"frohavet_2023-03-16T10-44-08Z-l1a.nc\")\n",
    "frohavet_path_0316_b = os.path.join(dir_path, \"frohavet_2023-03-16T10-44-08Z-l1b.nc\")\n",
    "frohavet_path_0316_c = os.path.join(dir_path, \"frohavet_2023-03-16T10-44-08Z-l1c.nc\")\n",
    "frohavet_path_0316_d = os.path.join(dir_path, \"frohavet_2023-03-16T10-44-08Z-l1d.nc\")\n",
    "\n",
    "satobj_h1 = Hypso1( path = frohavet_path_0316, verbose = True )\n",
    "\n",
    "l1a_cube = satobj_h1.l1a_cube\n",
    "l1b_cube = Hypso1( path = frohavet_path_0316_b, verbose = True )\n",
    "l1c_cube = Hypso1( path = frohavet_path_0316_c, verbose = True )\n",
    "l1d_cube = Hypso1( path = frohavet_path_0316_d, verbose = True )\n",
    "\n",
    "l1c_cube = l1c_cube.l1c_cube\n",
    "l1b_cube = l1b_cube.l1b_cube\n",
    "l1d_cube = l1d_cube.l1d_cube\n",
    "\n",
    "satobj_h1.run_direct_georeferencing() # in order to get the longiyudes and latitudes"
   ]
  },
  {
   "cell_type": "code",
   "execution_count": 4,
   "id": "642efd96",
   "metadata": {},
   "outputs": [
    {
     "name": "stdout",
     "output_type": "stream",
     "text": [
      "[INFO] Loading L1a capture frohavet_2023-03-28T10-59-21Z\n",
      "[INFO] Capture spatial dimensions: (956, 684)\n",
      "[INFO] Capture capture type: nominal\n",
      "[INFO] Loading L1b capture frohavet_2023-03-28T10-59-21Z\n",
      "[INFO] Capture spatial dimensions: (956, 684)\n",
      "[INFO] Capture capture type: nominal\n",
      "[INFO] Loading L1c capture frohavet_2023-03-28T10-59-21Z\n",
      "[INFO] Capture spatial dimensions: (956, 684)\n",
      "[INFO] Capture capture type: nominal\n",
      "[INFO] Loading L1d capture frohavet_2023-03-28T10-59-21Z\n",
      "[INFO] Capture spatial dimensions: (956, 684)\n",
      "[INFO] Capture capture type: nominal\n",
      "[INFO] Running direct georeferencing...\n",
      "[INFO] ADCS samples: 1837\n",
      "[INFO] ADCS time range: 1680000480.000000 to 1680001440.000000\n",
      "[INFO] Frame time range: 1680001161.388534 to 1680001204.797625\n",
      "[INFO] 174 sample(s) inside frame time range\n",
      "[INFO] Interpolating 956 frames\n",
      "[INFO] Computing pixel latitude and longitude coordinates ...\n",
      "[INFO] Interpolating pixel coordinate gaps...\n",
      "[INFO] Direct georeferencing done\n",
      "[INFO] Running track geometry computations...\n",
      "[INFO] Using UTM map: WGS 84 / UTM zone 32N EPSG: 32632\n",
      "[INFO] Track geometry computations done.\n",
      "[INFO] Running angles geometry computations...\n",
      "[INFO] Computing local angles (sun and satellite azimuth and zenith angles) ...\n",
      "[INFO] Using astropy on a subsampling of pixels ... (TODO skyfield may be faster)\n",
      "[INFO] Interpolating the rest of the pixels ...\n",
      "[INFO] Computing local angles done\n",
      "[INFO] Angles geometry computations done.\n"
     ]
    }
   ],
   "source": [
    "frohavet_path_0328 = os.path.join(dir_path, \"frohavet_2023-03-28T10-59-21Z-l1a.nc\")\n",
    "frohavet_path_0328_b = os.path.join(dir_path, \"frohavet_2023-03-28T10-59-21Z-l1b.nc\")\n",
    "frohavet_path_0328_c = os.path.join(dir_path, \"frohavet_2023-03-28T10-59-21Z-l1c.nc\")\n",
    "frohavet_path_0328_d = os.path.join(dir_path, \"frohavet_2023-03-28T10-59-21Z-l1d.nc\")\n",
    "\n",
    "satobj_h1_0328 = Hypso1( path = frohavet_path_0328, verbose = True )\n",
    "\n",
    "l1a_cube_0328 = satobj_h1_0328.l1a_cube\n",
    "l1b_cube_0328 = Hypso1( path = frohavet_path_0328_b, verbose = True )\n",
    "l1c_cube_0328 = Hypso1( path = frohavet_path_0328_c, verbose = True )\n",
    "l1d_cube_0328 = Hypso1( path = frohavet_path_0328_d, verbose = True )\n",
    "\n",
    "l1c_cube_0328 = l1c_cube_0328.l1c_cube\n",
    "l1b_cube_0328 = l1b_cube_0328.l1b_cube\n",
    "l1d_cube_0328 = l1d_cube_0328.l1d_cube\n",
    "\n",
    "satobj_h1_0328.run_direct_georeferencing() # in order to get the longiyudes and latitudes "
   ]
  },
  {
   "cell_type": "code",
   "execution_count": 5,
   "id": "474f8f6d",
   "metadata": {},
   "outputs": [
    {
     "name": "stdout",
     "output_type": "stream",
     "text": [
      "[INFO] Loading L1a capture frohavet_2023-03-29T10-44-51Z\n",
      "[INFO] Capture spatial dimensions: (956, 684)\n",
      "[INFO] Capture capture type: nominal\n",
      "[INFO] Loading L1b capture frohavet_2023-03-29T10-44-51Z\n",
      "[INFO] Capture spatial dimensions: (956, 684)\n",
      "[INFO] Capture capture type: nominal\n",
      "[INFO] Loading L1c capture frohavet_2023-03-29T10-44-51Z\n",
      "[INFO] Capture spatial dimensions: (956, 684)\n",
      "[INFO] Capture capture type: nominal\n",
      "[INFO] Loading L1d capture frohavet_2023-03-29T10-44-51Z\n",
      "[INFO] Capture spatial dimensions: (956, 684)\n",
      "[INFO] Capture capture type: nominal\n",
      "[INFO] Running direct georeferencing...\n",
      "[INFO] ADCS samples: 1678\n",
      "[INFO] ADCS time range: 1680086040.000000 to 1680086915.000000\n",
      "[INFO] Frame time range: 1680086691.474726 to 1680086734.883817\n",
      "[INFO] 174 sample(s) inside frame time range\n",
      "[INFO] Interpolating 956 frames\n",
      "[INFO] Computing pixel latitude and longitude coordinates ...\n",
      "[INFO] Interpolating pixel coordinate gaps...\n",
      "[INFO] Direct georeferencing done\n",
      "[INFO] Running track geometry computations...\n",
      "[INFO] Using UTM map: WGS 84 / UTM zone 32N EPSG: 32632\n",
      "[INFO] Track geometry computations done.\n",
      "[INFO] Running angles geometry computations...\n",
      "[INFO] Computing local angles (sun and satellite azimuth and zenith angles) ...\n",
      "[INFO] Using astropy on a subsampling of pixels ... (TODO skyfield may be faster)\n",
      "[INFO] Interpolating the rest of the pixels ...\n",
      "[INFO] Computing local angles done\n",
      "[INFO] Angles geometry computations done.\n"
     ]
    }
   ],
   "source": [
    "frohavet_path_0329 = os.path.join(dir_path, \"frohavet_2023-03-29T10-44-51Z-l1a.nc\")\n",
    "frohavet_path_0329_b = os.path.join(dir_path, \"frohavet_2023-03-29T10-44-51Z-l1b.nc\")\n",
    "frohavet_path_0329_c = os.path.join(dir_path, \"frohavet_2023-03-29T10-44-51Z-l1c.nc\")\n",
    "frohavet_path_0329_d = os.path.join(dir_path, \"frohavet_2023-03-29T10-44-51Z-l1d.nc\")\n",
    "\n",
    "satobj_h1_0329 = Hypso1( path = frohavet_path_0329, verbose = True )\n",
    "\n",
    "l1a_cube_0329 = satobj_h1_0329.l1a_cube\n",
    "l1b_cube_0329 = Hypso1( path = frohavet_path_0329_b, verbose = True )\n",
    "l1c_cube_0329 = Hypso1( path = frohavet_path_0329_c, verbose = True )\n",
    "l1d_cube_0329 = Hypso1( path = frohavet_path_0329_d, verbose = True )\n",
    "\n",
    "l1c_cube_0329 = l1c_cube_0329.l1c_cube\n",
    "l1b_cube_0329 = l1b_cube_0329.l1b_cube\n",
    "l1d_cube_0329 = l1d_cube_0329.l1d_cube\n",
    "\n",
    "satobj_h1_0329.run_direct_georeferencing() # in order to get the longiyudes and latitudes "
   ]
  },
  {
   "cell_type": "code",
   "execution_count": 6,
   "id": "c2a221b6",
   "metadata": {},
   "outputs": [
    {
     "name": "stdout",
     "output_type": "stream",
     "text": [
      "[INFO] Loading L1a capture frohavet_2023-03-30T10-30-26Z\n",
      "[INFO] Capture spatial dimensions: (598, 1092)\n",
      "[INFO] Capture capture type: wide\n",
      "[INFO] Loading L1b capture frohavet_2023-03-30T10-30-26Z\n",
      "[INFO] Capture spatial dimensions: (598, 1092)\n",
      "[INFO] Capture capture type: wide\n",
      "[INFO] Loading L1c capture frohavet_2023-03-30T10-30-26Z\n",
      "[INFO] Capture spatial dimensions: (598, 1092)\n",
      "[INFO] Capture capture type: wide\n",
      "[INFO] Loading L1d capture frohavet_2023-03-30T10-30-26Z\n",
      "[INFO] Capture spatial dimensions: (598, 1092)\n",
      "[INFO] Capture capture type: wide\n",
      "[INFO] Running direct georeferencing...\n",
      "[INFO] ADCS samples: 1921\n",
      "[INFO] ADCS time range: 1680171540.000000 to 1680172458.250000\n",
      "[INFO] Frame time range: 1680172226.731407 to 1680172276.481407\n",
      "[INFO] 199 sample(s) inside frame time range\n",
      "[INFO] Interpolating 598 frames\n",
      "[INFO] Computing pixel latitude and longitude coordinates ...\n",
      "[INFO] Interpolating pixel coordinate gaps...\n",
      "[INFO] Direct georeferencing done\n",
      "[INFO] Running track geometry computations...\n",
      "[INFO] Using UTM map: WGS 84 / UTM zone 32N EPSG: 32632\n",
      "[INFO] Track geometry computations done.\n",
      "[INFO] Running angles geometry computations...\n",
      "[INFO] Computing local angles (sun and satellite azimuth and zenith angles) ...\n",
      "[INFO] Using astropy on a subsampling of pixels ... (TODO skyfield may be faster)\n",
      "[INFO] Interpolating the rest of the pixels ...\n",
      "[INFO] Computing local angles done\n",
      "[INFO] Angles geometry computations done.\n"
     ]
    }
   ],
   "source": [
    "frohavet_path_0330 = os.path.join(dir_path, \"frohavet_2023-03-30T10-30-26Z-l1a.nc\")\n",
    "frohavet_path_0330_b = os.path.join(dir_path, \"frohavet_2023-03-30T10-30-26Z-l1b.nc\")\n",
    "frohavet_path_0330_c = os.path.join(dir_path, \"frohavet_2023-03-30T10-30-26Z-l1c.nc\")\n",
    "frohavet_path_0330_d = os.path.join(dir_path, \"frohavet_2023-03-30T10-30-26Z-l1d.nc\")\n",
    "\n",
    "satobj_h1_0330 = Hypso1( path = frohavet_path_0330, verbose = True )\n",
    "\n",
    "l1a_cube_0330 = satobj_h1_0330.l1a_cube\n",
    "l1b_cube_0330 = Hypso1( path = frohavet_path_0330_b, verbose = True )\n",
    "l1c_cube_0330 = Hypso1( path = frohavet_path_0330_c, verbose = True )\n",
    "l1d_cube_0330 = Hypso1( path = frohavet_path_0330_d, verbose = True )\n",
    "\n",
    "l1c_cube_0330 = l1c_cube_0330.l1c_cube\n",
    "l1b_cube_0330 = l1b_cube_0330.l1b_cube\n",
    "l1d_cube_0330 = l1d_cube_0330.l1d_cube\n",
    "\n",
    "satobj_h1_0330.run_direct_georeferencing() # in order to get the longiyudes and latitudes "
   ]
  },
  {
   "cell_type": "code",
   "execution_count": 7,
   "id": "cf3dcf5a",
   "metadata": {},
   "outputs": [
    {
     "name": "stdout",
     "output_type": "stream",
     "text": [
      "[INFO] Loading L1a capture frohavet_2023-04-07T10-07-15Z\n",
      "[INFO] Capture spatial dimensions: (598, 1092)\n",
      "[INFO] Capture capture type: wide\n",
      "[INFO] Loading L1b capture frohavet_2023-04-07T10-07-15Z\n",
      "[INFO] Capture spatial dimensions: (598, 1092)\n",
      "[INFO] Capture capture type: wide\n",
      "[INFO] Loading L1c capture frohavet_2023-04-07T10-07-15Z\n",
      "[INFO] Capture spatial dimensions: (598, 1092)\n",
      "[INFO] Capture capture type: wide\n",
      "[INFO] Loading L1d capture frohavet_2023-04-07T10-07-15Z\n",
      "[INFO] Capture spatial dimensions: (598, 1092)\n",
      "[INFO] Capture capture type: wide\n",
      "[INFO] Running direct georeferencing...\n",
      "[INFO] ADCS samples: 1911\n",
      "[INFO] ADCS time range: 1680861360.000000 to 1680862266.000000\n",
      "[INFO] Frame time range: 1680862035.869211 to 1680862085.619211\n",
      "[INFO] 199 sample(s) inside frame time range\n",
      "[INFO] Interpolating 598 frames\n",
      "[INFO] Computing pixel latitude and longitude coordinates ...\n",
      "[INFO] Interpolating pixel coordinate gaps...\n",
      "[INFO] Direct georeferencing done\n",
      "[INFO] Running track geometry computations...\n",
      "[INFO] Using UTM map: WGS 84 / UTM zone 32N EPSG: 32632\n",
      "[INFO] Track geometry computations done.\n",
      "[INFO] Running angles geometry computations...\n",
      "[INFO] Computing local angles (sun and satellite azimuth and zenith angles) ...\n",
      "[INFO] Using astropy on a subsampling of pixels ... (TODO skyfield may be faster)\n",
      "[INFO] Interpolating the rest of the pixels ...\n",
      "[INFO] Computing local angles done\n",
      "[INFO] Angles geometry computations done.\n"
     ]
    }
   ],
   "source": [
    "frohavet_path_0407 = os.path.join(dir_path, \"frohavet_2023-04-07T10-07-15Z-l1a.nc\")\n",
    "frohavet_path_0407_b = os.path.join(dir_path, \"frohavet_2023-04-07T10-07-15Z-l1b.nc\")\n",
    "frohavet_path_0407_c = os.path.join(dir_path, \"frohavet_2023-04-07T10-07-15Z-l1c.nc\")\n",
    "frohavet_path_0407_d = os.path.join(dir_path, \"frohavet_2023-04-07T10-07-15Z-l1d.nc\") \n",
    "\n",
    "satobj_h1_0407 = Hypso1( path = frohavet_path_0407, verbose = True )\n",
    "\n",
    "l1a_cube_0407 = satobj_h1_0407.l1a_cube\n",
    "l1b_cube_0407 = Hypso1( path = frohavet_path_0407_b, verbose = True )\n",
    "l1c_cube_0407 = Hypso1( path = frohavet_path_0407_c, verbose = True )\n",
    "l1d_cube_0407 = Hypso1( path = frohavet_path_0407_d, verbose = True )\n",
    "\n",
    "l1c_cube_0407 = l1c_cube_0407.l1c_cube\n",
    "l1b_cube_0407 = l1b_cube_0407.l1b_cube\n",
    "l1d_cube_0407 = l1d_cube_0407.l1d_cube\n",
    "\n",
    "satobj_h1_0407.run_direct_georeferencing() # in order to get the longiyudes and latitude07"
   ]
  },
  {
   "cell_type": "code",
   "execution_count": 8,
   "id": "699f29cf",
   "metadata": {},
   "outputs": [
    {
     "name": "stdout",
     "output_type": "stream",
     "text": [
      "[INFO] Loading L1a capture frohavet_2023-04-12T10-27-31Z\n",
      "[INFO] Capture spatial dimensions: (598, 1092)\n",
      "[INFO] Capture capture type: wide\n",
      "[INFO] Loading L1b capture frohavet_2023-04-12T10-27-31Z\n",
      "[INFO] Capture spatial dimensions: (598, 1092)\n",
      "[INFO] Capture capture type: wide\n",
      "[INFO] Loading L1c capture frohavet_2023-04-12T10-27-31Z\n",
      "[INFO] Capture spatial dimensions: (598, 1092)\n",
      "[INFO] Capture capture type: wide\n",
      "[INFO] Loading L1d capture frohavet_2023-04-12T10-27-31Z\n",
      "[INFO] Capture spatial dimensions: (598, 1092)\n",
      "[INFO] Capture capture type: wide\n",
      "[INFO] Running direct georeferencing...\n",
      "[INFO] ADCS samples: 1919\n",
      "[INFO] ADCS time range: 1681294560.000000 to 1681295482.750000\n",
      "[INFO] Frame time range: 1681295251.796884 to 1681295301.546884\n",
      "[INFO] 199 sample(s) inside frame time range\n",
      "[INFO] Interpolating 598 frames\n",
      "[INFO] Computing pixel latitude and longitude coordinates ...\n",
      "[INFO] Interpolating pixel coordinate gaps...\n",
      "[INFO] Direct georeferencing done\n",
      "[INFO] Running track geometry computations...\n",
      "[INFO] Using UTM map: WGS 84 / UTM zone 32N EPSG: 32632\n",
      "[INFO] Track geometry computations done.\n",
      "[INFO] Running angles geometry computations...\n",
      "[INFO] Computing local angles (sun and satellite azimuth and zenith angles) ...\n",
      "[INFO] Using astropy on a subsampling of pixels ... (TODO skyfield may be faster)\n",
      "[INFO] Interpolating the rest of the pixels ...\n",
      "[INFO] Computing local angles done\n",
      "[INFO] Angles geometry computations done.\n"
     ]
    }
   ],
   "source": [
    "frohavet_path_0412 = os.path.join(dir_path, \"frohavet_2023-04-12T10-27-31Z-l1a.nc\")\n",
    "frohavet_path_0412_b = os.path.join(dir_path, \"frohavet_2023-04-12T10-27-31Z-l1b.nc\")\n",
    "frohavet_path_0412_c = os.path.join(dir_path, \"frohavet_2023-04-12T10-27-31Z-l1c.nc\")\n",
    "frohavet_path_0412_d = os.path.join(dir_path, \"frohavet_2023-04-12T10-27-31Z-l1d.nc\") \n",
    "\n",
    "satobj_h1_0412 = Hypso1( path = frohavet_path_0412, verbose = True )\n",
    "\n",
    "l1a_cube_0412 = satobj_h1_0412.l1a_cube\n",
    "l1b_cube_0412 = Hypso1( path = frohavet_path_0412_b, verbose = True )\n",
    "l1c_cube_0412 = Hypso1( path = frohavet_path_0412_c, verbose = True )\n",
    "l1d_cube_0412 = Hypso1( path = frohavet_path_0412_d, verbose = True )\n",
    "\n",
    "l1c_cube_0412 = l1c_cube_0412.l1c_cube\n",
    "l1b_cube_0412 = l1b_cube_0412.l1b_cube\n",
    "l1d_cube_0412 = l1d_cube_0412.l1d_cube\n",
    "\n",
    "satobj_h1_0412.run_direct_georeferencing() # in order to get the longiyudes and latitudes "
   ]
  },
  {
   "cell_type": "code",
   "execution_count": 9,
   "id": "ce49bf5c",
   "metadata": {},
   "outputs": [
    {
     "name": "stdout",
     "output_type": "stream",
     "text": [
      "[INFO] Loading L1a capture frohavet_2023-06-14T10-03-05Z\n",
      "[INFO] Capture spatial dimensions: (598, 1092)\n",
      "[INFO] Capture capture type: wide\n",
      "[INFO] Loading L1b capture frohavet_2023-06-14T10-03-05Z\n",
      "[INFO] Capture spatial dimensions: (598, 1092)\n",
      "[INFO] Capture capture type: wide\n",
      "[INFO] Loading L1c capture frohavet_2023-06-14T10-03-05Z\n",
      "[INFO] Capture spatial dimensions: (598, 1092)\n",
      "[INFO] Capture capture type: wide\n",
      "[INFO] Loading L1d capture frohavet_2023-06-14T10-03-05Z\n",
      "[INFO] Capture spatial dimensions: (598, 1092)\n",
      "[INFO] Capture capture type: wide\n",
      "[INFO] Running direct georeferencing...\n",
      "[INFO] ADCS samples: 1914\n",
      "[INFO] ADCS time range: 1686736320.000000 to 1686737215.500000\n",
      "[INFO] Frame time range: 1686736985.690326 to 1686737035.440326\n",
      "[INFO] 199 sample(s) inside frame time range\n",
      "[INFO] Interpolating 598 frames\n",
      "[INFO] Computing pixel latitude and longitude coordinates ...\n",
      "[INFO] Interpolating pixel coordinate gaps...\n",
      "[INFO] Direct georeferencing done\n",
      "[INFO] Running track geometry computations...\n",
      "[INFO] Using UTM map: WGS 84 / UTM zone 32N EPSG: 32632\n",
      "[INFO] Track geometry computations done.\n",
      "[INFO] Running angles geometry computations...\n",
      "[INFO] Computing local angles (sun and satellite azimuth and zenith angles) ...\n",
      "[INFO] Using astropy on a subsampling of pixels ... (TODO skyfield may be faster)\n",
      "[INFO] Interpolating the rest of the pixels ...\n",
      "[INFO] Computing local angles done\n",
      "[INFO] Angles geometry computations done.\n"
     ]
    }
   ],
   "source": [
    "frohavet_path_0614 = os.path.join(dir_path, \"frohavet_2023-06-14T10-03-05Z-l1a.nc\")\n",
    "frohavet_path_0614_b = os.path.join(dir_path, \"frohavet_2023-06-14T10-03-05Z-l1b.nc\")\n",
    "frohavet_path_0614_c = os.path.join(dir_path, \"frohavet_2023-06-14T10-03-05Z-l1c.nc\")\n",
    "frohavet_path_0614_d = os.path.join(dir_path, \"frohavet_2023-06-14T10-03-05Z-l1d.nc\") \n",
    "\n",
    "satobj_h1_0614 = Hypso1( path = frohavet_path_0614, verbose = True )\n",
    "\n",
    "l1a_cube_0614 = satobj_h1_0614.l1a_cube\n",
    "l1b_cube_0614 = Hypso1( path = frohavet_path_0614_b, verbose = True )\n",
    "l1c_cube_0614 = Hypso1( path = frohavet_path_0614_c, verbose = True )\n",
    "l1d_cube_0614 = Hypso1( path = frohavet_path_0614_d, verbose = True )\n",
    "\n",
    "l1c_cube_0614 = l1c_cube_0614.l1c_cube\n",
    "l1b_cube_0614 = l1b_cube_0614.l1b_cube\n",
    "l1d_cube_0614 = l1d_cube_0614.l1d_cube\n",
    "\n",
    "satobj_h1_0614.run_direct_georeferencing() # in order to get the longiyudes and latitudes "
   ]
  },
  {
   "cell_type": "code",
   "execution_count": 10,
   "id": "1e6541d5",
   "metadata": {},
   "outputs": [
    {
     "name": "stdout",
     "output_type": "stream",
     "text": [
      "[INFO] Loading L1a capture frohavet_2023-07-30T10-17-47Z\n",
      "[INFO] Capture spatial dimensions: (598, 1092)\n",
      "[INFO] Capture capture type: wide\n",
      "[INFO] Loading L1b capture frohavet_2023-07-30T10-17-47Z\n",
      "[INFO] Capture spatial dimensions: (598, 1092)\n",
      "[INFO] Capture capture type: wide\n",
      "[INFO] Loading L1c capture frohavet_2023-07-30T10-17-47Z\n",
      "[INFO] Capture spatial dimensions: (598, 1092)\n",
      "[INFO] Capture capture type: wide\n",
      "[INFO] Loading L1d capture frohavet_2023-07-30T10-17-47Z\n",
      "[INFO] Capture spatial dimensions: (598, 1092)\n",
      "[INFO] Capture capture type: wide\n",
      "[INFO] Running direct georeferencing...\n",
      "[INFO] ADCS samples: 1911\n",
      "[INFO] ADCS time range: 1690711620.000000 to 1690712497.250000\n",
      "[INFO] Frame time range: 1690712267.271759 to 1690712317.021759\n",
      "[INFO] 199 sample(s) inside frame time range\n",
      "[INFO] Interpolating 598 frames\n",
      "[INFO] Computing pixel latitude and longitude coordinates ...\n",
      "[INFO] Interpolating pixel coordinate gaps...\n",
      "[INFO] Direct georeferencing done\n",
      "[INFO] Running track geometry computations...\n",
      "[INFO] Using UTM map: WGS 84 / UTM zone 32N EPSG: 32632\n",
      "[INFO] Track geometry computations done.\n",
      "[INFO] Running angles geometry computations...\n",
      "[INFO] Computing local angles (sun and satellite azimuth and zenith angles) ...\n",
      "[INFO] Using astropy on a subsampling of pixels ... (TODO skyfield may be faster)\n",
      "[INFO] Interpolating the rest of the pixels ...\n",
      "[INFO] Computing local angles done\n",
      "[INFO] Angles geometry computations done.\n"
     ]
    }
   ],
   "source": [
    "frohavet_path_0730 = os.path.join(dir_path, \"frohavet_2023-07-30T10-17-47Z-l1a.nc\")\n",
    "frohavet_path_0730_b = os.path.join(dir_path, \"frohavet_2023-07-30T10-17-47Z-l1b.nc\")\n",
    "frohavet_path_0730_c = os.path.join(dir_path, \"frohavet_2023-07-30T10-17-47Z-l1c.nc\")\n",
    "frohavet_path_0730_d = os.path.join(dir_path, \"frohavet_2023-07-30T10-17-47Z-l1d.nc\") \n",
    "\n",
    "satobj_h1_0730 = Hypso1( path = frohavet_path_0730, verbose = True )\n",
    "\n",
    "l1a_cube_0730 = satobj_h1_0730.l1a_cube\n",
    "l1b_cube_0730 = Hypso1( path = frohavet_path_0730_b, verbose = True )\n",
    "l1c_cube_0730 = Hypso1( path = frohavet_path_0730_c, verbose = True )\n",
    "l1d_cube_0730 = Hypso1( path = frohavet_path_0730_d, verbose = True )\n",
    "\n",
    "l1c_cube_0730 = l1c_cube_0730.l1c_cube\n",
    "l1b_cube_0730 = l1b_cube_0730.l1b_cube\n",
    "l1d_cube_0730 = l1d_cube_0730.l1d_cube\n",
    "\n",
    "satobj_h1_0730.run_direct_georeferencing() # in order to get the longiyudes and latitudes "
   ]
  },
  {
   "cell_type": "code",
   "execution_count": 11,
   "id": "86c62a6c",
   "metadata": {},
   "outputs": [
    {
     "name": "stdout",
     "output_type": "stream",
     "text": [
      "[441.06800198, 623.44163999, 720.2771542, 744.336662]\n",
      "409.16862143\n"
     ]
    }
   ],
   "source": [
    "#wawelengths\n",
    "x_1 = [387.84749685, 391.40406599, 394.95941579, 398.51354623, 402.06645732, 405.61814905, 409.16862143, 412.71787446, 416.26590814, 419.81272246, 423.35831743, 426.90269305, 430.44584931, 433.98778622, 437.52850378, 441.06800198, 444.60628083, 448.14334033, 451.67918047, 455.21380126, 458.7472027, 462.27938479, 465.81034752, 469.3400909 , 472.86861492,476.3959196 , 479.92200491, 483.44687088, 486.97051749, 490.49294475,494.01415266, 497.53414122, 501.05291042, 504.57046026, 508.08679076,511.6019019 , 515.11579369, 518.62846612, 522.13991921, 525.65015294,529.15916731, 532.66696233, 536.173538  , 539.67889432, 543.18303128,546.68594889, 550.18764715, 553.68812606, 557.18738561, 560.68542581,564.18224665, 567.67784814, 571.17223028, 574.66539307, 578.1573365, 581.64806058, 585.1375653 , 588.62585068, 592.1129167 , 595.59876336,599.08339068, 602.56679864, 606.04898725, 609.5299565 , 613.0097064 ,616.48823695, 619.96554815, 623.44163999, 626.91651248, 630.39016561,633.86259939, 637.33381382, 640.8038089 , 644.27258462, 647.74014099,651.20647801, 654.67159568, 658.13549399, 661.59817294, 665.05963255,668.5198728 , 671.9788937 , 675.43669524, 678.89327744, 682.34864028,685.80278376, 689.25570789, 692.70741267, 696.1578981 , 699.60716418,703.0552109 , 706.50203826, 709.94764628, 713.39203494, 716.83520425,720.2771542 , 723.7178848 , 727.15739605, 730.59568795, 734.03276049,737.46861368, 740.90324752, 744.336662  , 747.76885713, 751.19983291,754.62958933, 758.0581264 , 761.48544412, 764.91154248, 768.33642149,771.76008115, 775.18252146, 778.60374241, 782.02374401, 785.44252625,788.86008915, 792.27643269, 795.69155687, 799.10546171, 802.51814719]\n",
    "x=x_1[5:115]\n",
    "\n",
    "selected_bands = [15, 67, 95, 102]\n",
    "x_2 = []\n",
    "for i in range(len(selected_bands)):\n",
    "    x_2.append(x_1[selected_bands[i]])\n",
    "print(x_2)\n",
    "print(x[1])\n",
    "\n",
    "# Target latitude and longitude\n",
    "#target_lat = [64.08533976025561,64.08799001499494, 64.00671553632209, 64.00539040895242] #område 1.\n",
    "#target_lon = [9.744011353487297, 9.632700654435348, 9.740919389624743,9.634025781805015]  \n",
    "\n",
    "#target_lat = [63.818490304354434,63.793837321385155, 63.65192496143867, 63.660555970548074] #område 2.1.\n",
    "#target_lon = [9.531415429238418, 9.442656298818237,9.526455044589706,9.439764451470932]\n",
    "\n",
    "#target_lat = [64.2750935781297,64.29365394014144, 64.17902661492639, 64.18553880683058] #område 4, korrigert\n",
    "#target_lon = [9.127764312954888, 8.585899068865604,9.130324490159921,8.564058182856481]  \n",
    "\n",
    "#target_lat = [63.646767083517425,63.61771951990031, 63.47865598622861, 63.42721372576498] #område 5.1\n",
    "#target_lon = [9.804697410334523, 9.723689711502818,10.061035990832918,9.982929114384596]  \n",
    "\n",
    "target_lat = [64.17324887890479,64.11631446557637, 63.896904083590066, 63.887923483169004] #område 6.1\n",
    "target_lon = [9.582148298814932,8.924448409066027, 9.578289180688513, 8.96230357578283]\n",
    "\n",
    "#target_lat = [64.48557437461893,64.52896641587218, 64.20992561747796, 64.22009411667561] #område 7\n",
    "#target_lon = [9.886201113342556, 8.708294855080245,9.704720121565003,8.73032214102829]  "
   ]
  },
  {
   "cell_type": "code",
   "execution_count": 13,
   "id": "5dbc80fa",
   "metadata": {},
   "outputs": [
    {
     "name": "stdout",
     "output_type": "stream",
     "text": [
      "Pixel number:  6597\n",
      "Pixel number:  6597\n"
     ]
    }
   ],
   "source": [
    "latitudes_0316 = satobj_h1.latitudes\n",
    "longitudes_0316 = satobj_h1.longitudes\n",
    "\n",
    "piksel_row_0316, piksel_col_0316 = f.latLong_to_piksel(target_lat, target_lon, latitudes_0316, longitudes_0316)\n",
    "rss_matrix_0316 = f.water_masked_rss_matrix(piksel_row_0316,piksel_col_0316, l1d_cube, satobj_h1)\n",
    "\n",
    "rss_matrix_0316_selected = f.rss_matrix_selected_bands(piksel_row_0316,piksel_col_0316, l1d_cube, satobj_h1)\n",
    "\n",
    "mean_spectrum_0316_selected = np.mean(rss_matrix_0316_selected, axis=1) ## mean over rad  # gjenomsnitt\n",
    "median_spectrum_0316_selected = np.median(rss_matrix_0316_selected, axis=1) # median over rad\n",
    "std_spectrum_0316_selected = np.std(rss_matrix_0316_selected, axis=1)  #standard avik\n",
    "\n",
    "normaized_spectrum_0316_selected = f.min_max_nomralization(mean_spectrum_0316_selected)\n",
    "normaized_spectrum_median_0316_selected = f.min_max_nomralization(median_spectrum_0316_selected)\n",
    "\n",
    "l2_norm_0316_selected = np.linalg.norm(mean_spectrum_0316_selected)  #l2 norm\n",
    "l2_normalized_spectrum_0316_selected = mean_spectrum_0316_selected / l2_norm_0316_selected  #l2 normalisering\n",
    "\n",
    "l2_norm_median_0316_selected = np.linalg.norm(median_spectrum_0316_selected)  #l2 norm\n",
    "l2_normalized_median_spectrum_0316_selected = median_spectrum_0316_selected / l2_norm_median_0316_selected  #l2 normalisering"
   ]
  },
  {
   "cell_type": "code",
   "execution_count": 14,
   "id": "4bbe9979",
   "metadata": {},
   "outputs": [
    {
     "name": "stdout",
     "output_type": "stream",
     "text": [
      "Pixel number:  658\n",
      "Pixel number:  658\n"
     ]
    }
   ],
   "source": [
    "latitudes_0328 = satobj_h1_0328.latitudes\n",
    "longitudes_0328 = satobj_h1_0328.longitudes\n",
    "\n",
    "piksel_row_0328, piksel_col_0328 = f.latLong_to_piksel(target_lat, target_lon, latitudes_0328, longitudes_0328)\n",
    "rss_matrix_0328 = f.water_masked_rss_matrix(piksel_row_0328,piksel_col_0328, l1d_cube_0328, satobj_h1_0328)\n",
    "\n",
    "rss_matrix_0328_selected = f.rss_matrix_selected_bands(piksel_row_0328,piksel_col_0328, l1d_cube_0328, satobj_h1_0328)\n",
    "\n",
    "mean_spectrum_0328_selected = np.mean(rss_matrix_0328_selected, axis=1) ## mean over rad  # gjenomsnitt\n",
    "median_spectrum_0328_selected = np.median(rss_matrix_0328_selected, axis=1) # median over rad\n",
    "std_spectrum_0328_selected = np.std(rss_matrix_0328_selected, axis=1)  #standard avik\n",
    "\n",
    "normaized_spectrum_0328_selected = f.min_max_nomralization(mean_spectrum_0328_selected)\n",
    "normaized_spectrum_median_0328_selected = f.min_max_nomralization(median_spectrum_0328_selected)\n",
    "\n",
    "l2_norm_0328_selected = np.linalg.norm(mean_spectrum_0328_selected)  #l2 norm\n",
    "l2_normalized_spectrum_0328_selected = mean_spectrum_0328_selected / l2_norm_0328_selected  #l2 normalisering\n",
    "\n",
    "l2_norm_median_0328_selected = np.linalg.norm(median_spectrum_0328_selected)  #l2 norm\n",
    "l2_normalized_median_spectrum_0328_selected = median_spectrum_0328_selected / l2_norm_median_0328_selected  #l2 normalisering"
   ]
  },
  {
   "cell_type": "code",
   "execution_count": 18,
   "id": "d2409da6",
   "metadata": {},
   "outputs": [
    {
     "name": "stdout",
     "output_type": "stream",
     "text": [
      "Pixel number:  4661\n",
      "Pixel number:  4661\n"
     ]
    }
   ],
   "source": [
    "latitudes_0329 = satobj_h1_0329.latitudes\n",
    "longitudes_0329 = satobj_h1_0329.longitudes\n",
    "\n",
    "piksel_row_0329, piksel_col_0329 = f.latLong_to_piksel(target_lat, target_lon, latitudes_0329, longitudes_0329)\n",
    "rss_matrix_0329 = f.water_masked_rss_matrix(piksel_row_0329,piksel_col_0329 ,l1d_cube_0329, satobj_h1_0329)\n",
    "\n",
    "rss_matrix_0329_selected = f.rss_matrix_selected_bands(piksel_row_0329,piksel_col_0329, l1d_cube_0329, satobj_h1_0329)\n",
    "\n",
    "mean_spectrum_0329_selected = np.mean(rss_matrix_0329_selected, axis=1) ## mean over rad  # gjenomsnitt\n",
    "median_spectrum_0329_selected = np.median(rss_matrix_0329_selected, axis=1) # median over rad\n",
    "std_spectrum_0329_selected = np.std(rss_matrix_0329_selected, axis=1)  #standard avik\n",
    "\n",
    "normaized_spectrum_0329_selected = f.min_max_nomralization(mean_spectrum_0329_selected)\n",
    "normaized_spectrum_median_0329_selected = f.min_max_nomralization(median_spectrum_0329_selected)\n",
    "\n",
    "l2_norm_0329_selected = np.linalg.norm(mean_spectrum_0329_selected)  #l2 norm\n",
    "l2_normalized_spectrum_0329_selected = mean_spectrum_0329_selected / l2_norm_0329_selected  #l2 normalisering\n",
    "\n",
    "l2_norm_median_0329_selected = np.linalg.norm(median_spectrum_0329_selected)  #l2 norm\n",
    "l2_normalized_median_spectrum_0329_selected = median_spectrum_0329_selected / l2_norm_median_0329_selected  #l2 normalisering"
   ]
  },
  {
   "cell_type": "code",
   "execution_count": 19,
   "id": "a8697f7c",
   "metadata": {},
   "outputs": [
    {
     "name": "stdout",
     "output_type": "stream",
     "text": [
      "Pixel number:  5124\n",
      "Pixel number:  5124\n"
     ]
    }
   ],
   "source": [
    "latitudes_0330 = satobj_h1_0330.latitudes\n",
    "longitudes_0330 = satobj_h1_0330.longitudes\n",
    "\n",
    "piksel_row_0330, piksel_col_0330 = f.latLong_to_piksel(target_lat, target_lon, latitudes_0330, longitudes_0330)\n",
    "rss_matrix_0330 = f.water_masked_rss_matrix(piksel_row_0330,piksel_col_0330, l1d_cube_0330, satobj_h1_0330)\n",
    "\n",
    "rss_matrix_0330_selected = f.rss_matrix_selected_bands(piksel_row_0330,piksel_col_0330, l1d_cube_0330, satobj_h1_0330)\n",
    "\n",
    "mean_spectrum_0330_selected = np.mean(rss_matrix_0330_selected, axis=1) ## mean over rad  # gjenomsnitt\n",
    "median_spectrum_0330_selected = np.median(rss_matrix_0330_selected, axis=1) # median over rad\n",
    "std_spectrum_0330_selected = np.std(rss_matrix_0330_selected, axis=1)  #standard avik\n",
    "\n",
    "normaized_spectrum_0330_selected = f.min_max_nomralization(mean_spectrum_0330_selected)\n",
    "normaized_spectrum_median_0330_selected = f.min_max_nomralization(median_spectrum_0330_selected)\n",
    "\n",
    "l2_norm_0330_selected = np.linalg.norm(mean_spectrum_0330_selected)  #l2 norm\n",
    "l2_normalized_spectrum_0330_selected = mean_spectrum_0330_selected / l2_norm_0330_selected  #l2 normalisering\n",
    "\n",
    "l2_norm_median_0330_selected = np.linalg.norm(median_spectrum_0330_selected)  #l2 norm\n",
    "l2_normalized_median_spectrum_0330_selected = median_spectrum_0330_selected / l2_norm_median_0330_selected  #l2 normalisering"
   ]
  },
  {
   "cell_type": "code",
   "execution_count": 21,
   "id": "d59f3172",
   "metadata": {},
   "outputs": [
    {
     "name": "stdout",
     "output_type": "stream",
     "text": [
      "Pixel number:  8441\n",
      "Pixel number:  8441\n"
     ]
    }
   ],
   "source": [
    "latitudes_0407 = satobj_h1_0407.latitudes\n",
    "longitudes_0407 = satobj_h1_0407.longitudes\n",
    "\n",
    "piksel_row_0407, piksel_col_0407 = f.latLong_to_piksel(target_lat, target_lon, latitudes_0407, longitudes_0407)\n",
    "rss_matrix_0407 = f.water_masked_rss_matrix(piksel_row_0407,piksel_col_0407, l1d_cube_0407, satobj_h1_0407)\n",
    "\n",
    "rss_matrix_0407_selected = f.rss_matrix_selected_bands(piksel_row_0407,piksel_col_0407, l1d_cube_0407, satobj_h1_0407)\n",
    "\n",
    "mean_spectrum_0407_selected = np.mean(rss_matrix_0407_selected, axis=1) ## mean over rad  # gjenomsnitt\n",
    "median_spectrum_0407_selected = np.median(rss_matrix_0407_selected, axis=1) # median over rad\n",
    "std_spectrum_0407_selected = np.std(rss_matrix_0407_selected, axis=1)  #standard avik\n",
    "\n",
    "normaized_spectrum_0407_selected = f.min_max_nomralization(mean_spectrum_0407_selected)\n",
    "normaized_spectrum_median_0407_selected = f.min_max_nomralization(median_spectrum_0407_selected)\n",
    "\n",
    "l2_norm_0407_selected = np.linalg.norm(mean_spectrum_0407_selected)  #l2 norm\n",
    "l2_normalized_spectrum_0407_selected = mean_spectrum_0407_selected / l2_norm_0407_selected  #l2 normalisering\n",
    "\n",
    "l2_norm_median_0407_selected = np.linalg.norm(median_spectrum_0407_selected)  #l2 norm\n",
    "l2_normalized_median_spectrum_0407_selected = median_spectrum_0407_selected / l2_norm_median_0407_selected  #l2 normalisering"
   ]
  },
  {
   "cell_type": "code",
   "execution_count": 22,
   "id": "751acfa0",
   "metadata": {},
   "outputs": [
    {
     "name": "stdout",
     "output_type": "stream",
     "text": [
      "Pixel number:  5674\n",
      "Pixel number:  5674\n"
     ]
    }
   ],
   "source": [
    "latitudes_0412 = satobj_h1_0412.latitudes\n",
    "longitudes_0412 = satobj_h1_0412.longitudes\n",
    "\n",
    "piksel_row_0412, piksel_col_0412 = f.latLong_to_piksel(target_lat, target_lon, latitudes_0412, longitudes_0412)\n",
    "rss_matrix_0412 = f.water_masked_rss_matrix(piksel_row_0412,piksel_col_0412, l1d_cube_0412, satobj_h1_0412)\n",
    "\n",
    "rss_matrix_0412_selected = f.rss_matrix_selected_bands(piksel_row_0412,piksel_col_0412, l1d_cube_0412, satobj_h1_0412)\n",
    "\n",
    "mean_spectrum_0412_selected = np.mean(rss_matrix_0412_selected, axis=1) ## mean over rad  # gjenomsnitt\n",
    "median_spectrum_0412_selected = np.median(rss_matrix_0412_selected, axis=1) # median over rad\n",
    "std_spectrum_0412_selected = np.std(rss_matrix_0412_selected, axis=1)  #standard avik\n",
    "\n",
    "normaized_spectrum_0412_selected = f.min_max_nomralization(mean_spectrum_0412_selected)\n",
    "normaized_spectrum_median_0412_selected = f.min_max_nomralization(median_spectrum_0412_selected)\n",
    "\n",
    "l2_norm_0412_selected = np.linalg.norm(mean_spectrum_0412_selected)  #l2 norm\n",
    "l2_normalized_spectrum_0412_selected = mean_spectrum_0412_selected / l2_norm_0412_selected  #l2 normalisering\n",
    "\n",
    "l2_norm_median_0412_selected = np.linalg.norm(median_spectrum_0412_selected)  #l2 norm\n",
    "l2_normalized_median_spectrum_0412_selected = median_spectrum_0412_selected / l2_norm_median_0412_selected  #l2 normalisering"
   ]
  },
  {
   "cell_type": "code",
   "execution_count": 23,
   "id": "c6b79ed6",
   "metadata": {},
   "outputs": [
    {
     "name": "stdout",
     "output_type": "stream",
     "text": [
      "Pixel number:  8568\n",
      "Pixel number:  8568\n"
     ]
    }
   ],
   "source": [
    "latitudes_0614 = satobj_h1_0614.latitudes\n",
    "longitudes_0614 = satobj_h1_0614.longitudes\n",
    "\n",
    "piksel_row_0614, piksel_col_0614 = f.latLong_to_piksel(target_lat, target_lon, latitudes_0614, longitudes_0614)\n",
    "rss_matrix_0614 = f.water_masked_rss_matrix(piksel_row_0614,piksel_col_0614, l1d_cube_0614, satobj_h1_0614)\n",
    "\n",
    "rss_matrix_0614_selected = f.rss_matrix_selected_bands(piksel_row_0614,piksel_col_0614, l1d_cube_0614, satobj_h1_0614)\n",
    "\n",
    "mean_spectrum_0614_selected = np.mean(rss_matrix_0614_selected, axis=1) ## mean over rad  # gjenomsnitt\n",
    "median_spectrum_0614_selected = np.median(rss_matrix_0614_selected, axis=1) # median over rad\n",
    "std_spectrum_0614_selected = np.std(rss_matrix_0614_selected, axis=1)  #standard avik\n",
    "\n",
    "normaized_spectrum_0614_selected = f.min_max_nomralization(mean_spectrum_0614_selected)\n",
    "normaized_spectrum_median_0614_selected = f.min_max_nomralization(median_spectrum_0614_selected)\n",
    "\n",
    "l2_norm_0614_selected = np.linalg.norm(mean_spectrum_0614_selected)  #l2 norm\n",
    "l2_normalized_spectrum_0614_selected = mean_spectrum_0614_selected / l2_norm_0614_selected  #l2 normalisering\n",
    "\n",
    "l2_norm_median_0614_selected = np.linalg.norm(median_spectrum_0614_selected)  #l2 norm\n",
    "l2_normalized_median_spectrum_0614_selected = median_spectrum_0614_selected / l2_norm_median_0614_selected  #l2 normalisering"
   ]
  },
  {
   "cell_type": "code",
   "execution_count": 24,
   "id": "f365de58",
   "metadata": {},
   "outputs": [
    {
     "name": "stdout",
     "output_type": "stream",
     "text": [
      "Pixel number:  7270\n",
      "Pixel number:  7270\n"
     ]
    }
   ],
   "source": [
    "latitudes_0730 = satobj_h1_0730.latitudes\n",
    "longitudes_0730 = satobj_h1_0730.longitudes\n",
    "\n",
    "piksel_row_0730, piksel_col_0730 = f.latLong_to_piksel(target_lat, target_lon, latitudes_0730, longitudes_0730)\n",
    "rss_matrix_0730 = f.water_masked_rss_matrix(piksel_row_0730,piksel_col_0730, l1d_cube_0730, satobj_h1_0730)\n",
    "\n",
    "rss_matrix_0730_selected = f.rss_matrix_selected_bands(piksel_row_0730,piksel_col_0730, l1d_cube_0730, satobj_h1_0730)\n",
    "\n",
    "mean_spectrum_0730_selected = np.mean(rss_matrix_0730_selected, axis=1) ## mean over rad  # gjenomsnitt\n",
    "median_spectrum_0730_selected = np.median(rss_matrix_0730_selected, axis=1) # median over rad\n",
    "std_spectrum_0730_selected = np.std(rss_matrix_0730_selected, axis=1)  #standard avik\n",
    "\n",
    "normaized_spectrum_0730_selected = f.min_max_nomralization(mean_spectrum_0730_selected)\n",
    "normaized_spectrum_median_0730_selected = f.min_max_nomralization(median_spectrum_0730_selected)\n",
    "\n",
    "l2_norm_0730_selected = np.linalg.norm(mean_spectrum_0730_selected)  #l2 norm\n",
    "l2_normalized_spectrum_0730_selected = mean_spectrum_0730_selected / l2_norm_0730_selected  #l2 normalisering\n",
    "\n",
    "l2_norm_median_0730_selected = np.linalg.norm(median_spectrum_0730_selected)  #l2 norm\n",
    "l2_normalized_median_spectrum_0730_selected = median_spectrum_0730_selected / l2_norm_median_0730_selected  #l2 normalisering"
   ]
  },
  {
   "cell_type": "code",
   "execution_count": 25,
   "id": "c726e4bf",
   "metadata": {},
   "outputs": [
    {
     "data": {
      "image/png": "[encoded data removed]",
      "text/plain": [
       "<Figure size 640x480 with 1 Axes>"
      ]
     },
     "metadata": {},
     "output_type": "display_data"
    }
   ],
   "source": [
    "plt.plot(x_2,median_spectrum_0316_selected, color = 'blue', label = '0316 median selected')\n",
    "plt.plot(x_2, median_spectrum_0328_selected, color = 'orange', label = '0328 median selected')\n",
    "plt.plot(x_2, median_spectrum_0329_selected, color = 'yellow', label = '0329 median selected')\n",
    "plt.plot(x_2, median_spectrum_0330_selected, color='red', label='0330 median selected')\n",
    "plt.plot(x_2, median_spectrum_0407_selected, color='indigo', label='0407 median selected')\n",
    "plt.plot(x_2, median_spectrum_0412_selected, color='pink', label='0412 median selected')\n",
    "plt.plot(x_2, median_spectrum_0614_selected, color='black', label='0614 median selected')\n",
    "plt.plot(x_2, median_spectrum_0730_selected, color='green', label='0730 median selected')\n",
    "\n",
    "\n",
    "\n",
    "\n",
    "#plt.fill_between(x, \n",
    "#                 mean_spectrum - 1*std_spectrum, \n",
    "#                 mean_spectrum + 1*std_spectrum,\n",
    "#                 color='green', alpha=0.5)\n",
    "\n",
    "\n",
    "plt.xlabel(\"Wawelength (nm)\")\n",
    "plt.ylabel(\"Reflectance / RSS\") #finne enheten her\n",
    "plt.title(\"Mean Spectrum March 2023\")\n",
    "plt.grid(True, alpha=0.3)\n",
    "plt.legend()\n",
    "plt.show()"
   ]
  }
 ],
 "metadata": {
  "kernelspec": {
   "display_name": "hypso-env",
   "language": "python",
   "name": "python3"
  },
  "language_info": {
   "codemirror_mode": {
    "name": "ipython",
    "version": 3
   },
   "file_extension": ".py",
   "mimetype": "text/x-python",
   "name": "python",
   "nbconvert_exporter": "python",
   "pygments_lexer": "ipython3",
   "version": "3.11.12"
  }
 },
 "nbformat": 4,
 "nbformat_minor": 5
}
