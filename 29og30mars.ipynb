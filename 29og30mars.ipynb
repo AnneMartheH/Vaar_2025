{
 "cells": [
  {
   "cell_type": "code",
   "execution_count": 1,
   "id": "0d3dfea2",
   "metadata": {},
   "outputs": [],
   "source": [
    "#import for HYPSO\n",
    "from hypso import Hypso1, Hypso2\n",
    "import os \n",
    "import matplotlib.pyplot as plt\n",
    "from global_land_mask import globe \n",
    "import numpy as np \n",
    "\n",
    "import funcions_autonom as f"
   ]
  },
  {
   "cell_type": "code",
   "execution_count": 2,
   "id": "9d9204e5",
   "metadata": {},
   "outputs": [
    {
     "name": "stdout",
     "output_type": "stream",
     "text": [
      "[INFO] Loading L1a capture frohavet_2023-03-16T10-44-08Z\n",
      "[INFO] Capture spatial dimensions: (956, 684)\n",
      "[INFO] Capture capture type: nominal\n",
      "[INFO] Loading L1b capture frohavet_2023-03-16T10-44-08Z\n",
      "[INFO] Capture spatial dimensions: (956, 684)\n",
      "[INFO] Capture capture type: nominal\n",
      "[INFO] Loading L1c capture frohavet_2023-03-16T10-44-08Z\n",
      "[INFO] Capture spatial dimensions: (956, 684)\n",
      "[INFO] Capture capture type: nominal\n",
      "[INFO] Loading L1d capture frohavet_2023-03-16T10-44-08Z\n",
      "[INFO] Capture spatial dimensions: (956, 684)\n",
      "[INFO] Capture capture type: nominal\n",
      "[INFO] Running direct georeferencing...\n",
      "[INFO] ADCS samples: 1837\n",
      "[INFO] ADCS time range: 1678962780.000000 to 1678963680.000000\n",
      "[INFO] Frame time range: 1678963448.503009 to 1678963491.912100\n",
      "[INFO] 173 sample(s) inside frame time range\n",
      "[INFO] Interpolating 956 frames\n",
      "[INFO] Computing pixel latitude and longitude coordinates ...\n",
      "[INFO] Interpolating pixel coordinate gaps...\n",
      "[INFO] Direct georeferencing done\n",
      "[INFO] Running track geometry computations...\n",
      "[INFO] Using UTM map: WGS 84 / UTM zone 32N EPSG: 32632\n",
      "[INFO] Track geometry computations done.\n",
      "[INFO] Running angles geometry computations...\n",
      "[INFO] Computing local angles (sun and satellite azimuth and zenith angles) ...\n",
      "[INFO] Using astropy on a subsampling of pixels ... (TODO skyfield may be faster)\n",
      "[INFO] Interpolating the rest of the pixels ...\n",
      "[INFO] Computing local angles done\n",
      "[INFO] Angles geometry computations done.\n"
     ]
    }
   ],
   "source": [
    "dir_path = \".\"\n",
    " \n",
    "frohavet_path_0316 = os.path.join(dir_path, \"frohavet_2023-03-16T10-44-08Z-l1a.nc\")\n",
    "frohavet_path_0316_b = os.path.join(dir_path, \"frohavet_2023-03-16T10-44-08Z-l1b.nc\")\n",
    "frohavet_path_0316_c = os.path.join(dir_path, \"frohavet_2023-03-16T10-44-08Z-l1c.nc\")\n",
    "frohavet_path_0316_d = os.path.join(dir_path, \"frohavet_2023-03-16T10-44-08Z-l1d.nc\")\n",
    "\n",
    "satobj_h1 = Hypso1( path = frohavet_path_0316, verbose = True )\n",
    "\n",
    "l1a_cube = satobj_h1.l1a_cube\n",
    "l1b_cube = Hypso1( path = frohavet_path_0316_b, verbose = True )\n",
    "l1c_cube = Hypso1( path = frohavet_path_0316_c, verbose = True )\n",
    "l1d_cube = Hypso1( path = frohavet_path_0316_d, verbose = True )\n",
    "\n",
    "l1c_cube = l1c_cube.l1c_cube\n",
    "l1b_cube = l1b_cube.l1b_cube\n",
    "l1d_cube = l1d_cube.l1d_cube\n",
    "\n",
    "satobj_h1.run_direct_georeferencing() # in order to get the longiyudes and latitudes"
   ]
  },
  {
   "cell_type": "code",
   "execution_count": 3,
   "id": "8850f583",
   "metadata": {},
   "outputs": [
    {
     "name": "stdout",
     "output_type": "stream",
     "text": [
      "[INFO] Loading L1a capture frohavet_2023-03-28T10-59-21Z\n",
      "[INFO] Capture spatial dimensions: (956, 684)\n",
      "[INFO] Capture capture type: nominal\n",
      "[INFO] Loading L1b capture frohavet_2023-03-28T10-59-21Z\n",
      "[INFO] Capture spatial dimensions: (956, 684)\n",
      "[INFO] Capture capture type: nominal\n",
      "[INFO] Loading L1c capture frohavet_2023-03-28T10-59-21Z\n",
      "[INFO] Capture spatial dimensions: (956, 684)\n",
      "[INFO] Capture capture type: nominal\n",
      "[INFO] Loading L1d capture frohavet_2023-03-28T10-59-21Z\n",
      "[INFO] Capture spatial dimensions: (956, 684)\n",
      "[INFO] Capture capture type: nominal\n",
      "[INFO] Running direct georeferencing...\n",
      "[INFO] ADCS samples: 1837\n",
      "[INFO] ADCS time range: 1680000480.000000 to 1680001440.000000\n",
      "[INFO] Frame time range: 1680001161.388534 to 1680001204.797625\n",
      "[INFO] 174 sample(s) inside frame time range\n",
      "[INFO] Interpolating 956 frames\n",
      "[INFO] Computing pixel latitude and longitude coordinates ...\n",
      "[INFO] Interpolating pixel coordinate gaps...\n",
      "[INFO] Direct georeferencing done\n",
      "[INFO] Running track geometry computations...\n",
      "[INFO] Using UTM map: WGS 84 / UTM zone 32N EPSG: 32632\n",
      "[INFO] Track geometry computations done.\n",
      "[INFO] Running angles geometry computations...\n",
      "[INFO] Computing local angles (sun and satellite azimuth and zenith angles) ...\n",
      "[INFO] Using astropy on a subsampling of pixels ... (TODO skyfield may be faster)\n",
      "[INFO] Interpolating the rest of the pixels ...\n",
      "[INFO] Computing local angles done\n",
      "[INFO] Angles geometry computations done.\n"
     ]
    }
   ],
   "source": [
    "dir_path = \".\"\n",
    "\n",
    "frohavet_path_0328 = os.path.join(dir_path, \"frohavet_2023-03-28T10-59-21Z-l1a.nc\")\n",
    "frohavet_path_0328_b = os.path.join(dir_path, \"frohavet_2023-03-28T10-59-21Z-l1b.nc\")\n",
    "frohavet_path_0328_c = os.path.join(dir_path, \"frohavet_2023-03-28T10-59-21Z-l1c.nc\")\n",
    "frohavet_path_0328_d = os.path.join(dir_path, \"frohavet_2023-03-28T10-59-21Z-l1d.nc\")\n",
    "\n",
    "satobj_h1_0328 = Hypso1( path = frohavet_path_0328, verbose = True )\n",
    "\n",
    "l1a_cube_0328 = satobj_h1_0328.l1a_cube\n",
    "l1b_cube_0328 = Hypso1( path = frohavet_path_0328_b, verbose = True )\n",
    "l1c_cube_0328 = Hypso1( path = frohavet_path_0328_c, verbose = True )\n",
    "l1d_cube_0328 = Hypso1( path = frohavet_path_0328_d, verbose = True )\n",
    "\n",
    "l1c_cube_0328 = l1c_cube_0328.l1c_cube\n",
    "l1b_cube_0328 = l1b_cube_0328.l1b_cube\n",
    "l1d_cube_0328 = l1d_cube_0328.l1d_cube\n",
    "\n",
    "satobj_h1_0328.run_direct_georeferencing() # in order to get the longiyudes and latitudes "
   ]
  },
  {
   "cell_type": "code",
   "execution_count": 4,
   "id": "6a96768d",
   "metadata": {},
   "outputs": [
    {
     "name": "stdout",
     "output_type": "stream",
     "text": [
      "[INFO] Loading L1a capture frohavet_2023-03-29T10-44-51Z\n",
      "[INFO] Capture spatial dimensions: (956, 684)\n",
      "[INFO] Capture capture type: nominal\n",
      "[INFO] Loading L1b capture frohavet_2023-03-29T10-44-51Z\n",
      "[INFO] Capture spatial dimensions: (956, 684)\n",
      "[INFO] Capture capture type: nominal\n",
      "[INFO] Loading L1c capture frohavet_2023-03-29T10-44-51Z\n",
      "[INFO] Capture spatial dimensions: (956, 684)\n",
      "[INFO] Capture capture type: nominal\n",
      "[INFO] Loading L1d capture frohavet_2023-03-29T10-44-51Z\n",
      "[INFO] Capture spatial dimensions: (956, 684)\n",
      "[INFO] Capture capture type: nominal\n",
      "[INFO] Running direct georeferencing...\n",
      "[INFO] ADCS samples: 1678\n",
      "[INFO] ADCS time range: 1680086040.000000 to 1680086915.000000\n",
      "[INFO] Frame time range: 1680086691.474726 to 1680086734.883817\n",
      "[INFO] 174 sample(s) inside frame time range\n",
      "[INFO] Interpolating 956 frames\n",
      "[INFO] Computing pixel latitude and longitude coordinates ...\n",
      "[INFO] Interpolating pixel coordinate gaps...\n",
      "[INFO] Direct georeferencing done\n",
      "[INFO] Running track geometry computations...\n",
      "[INFO] Using UTM map: WGS 84 / UTM zone 32N EPSG: 32632\n",
      "[INFO] Track geometry computations done.\n",
      "[INFO] Running angles geometry computations...\n",
      "[INFO] Computing local angles (sun and satellite azimuth and zenith angles) ...\n",
      "[INFO] Using astropy on a subsampling of pixels ... (TODO skyfield may be faster)\n",
      "[INFO] Interpolating the rest of the pixels ...\n",
      "[INFO] Computing local angles done\n",
      "[INFO] Angles geometry computations done.\n"
     ]
    }
   ],
   "source": [
    "\n",
    "\n",
    "frohavet_path_0329 = os.path.join(dir_path, \"frohavet_2023-03-29T10-44-51Z-l1a.nc\")\n",
    "frohavet_path_0329_b = os.path.join(dir_path, \"frohavet_2023-03-29T10-44-51Z-l1b.nc\")\n",
    "frohavet_path_0329_c = os.path.join(dir_path, \"frohavet_2023-03-29T10-44-51Z-l1c.nc\")\n",
    "frohavet_path_0329_d = os.path.join(dir_path, \"frohavet_2023-03-29T10-44-51Z-l1d.nc\")\n",
    "\n",
    "satobj_h1_0329 = Hypso1( path = frohavet_path_0329, verbose = True )\n",
    "\n",
    "l1a_cube_0329 = satobj_h1_0329.l1a_cube\n",
    "l1b_cube_0329 = Hypso1( path = frohavet_path_0329_b, verbose = True )\n",
    "l1c_cube_0329 = Hypso1( path = frohavet_path_0329_c, verbose = True )\n",
    "l1d_cube_0329 = Hypso1( path = frohavet_path_0329_d, verbose = True )\n",
    "\n",
    "l1c_cube_0329 = l1c_cube_0329.l1c_cube\n",
    "l1b_cube_0329 = l1b_cube_0329.l1b_cube\n",
    "l1d_cube_0329 = l1d_cube_0329.l1d_cube\n",
    "\n",
    "satobj_h1_0329.run_direct_georeferencing() # in order to get the longiyudes and latitudes "
   ]
  },
  {
   "cell_type": "code",
   "execution_count": 5,
   "id": "a9c62e85",
   "metadata": {},
   "outputs": [
    {
     "name": "stdout",
     "output_type": "stream",
     "text": [
      "[INFO] Loading L1a capture frohavet_2023-03-30T10-30-26Z\n",
      "[INFO] Capture spatial dimensions: (598, 1092)\n",
      "[INFO] Capture capture type: wide\n",
      "[INFO] Loading L1b capture frohavet_2023-03-30T10-30-26Z\n",
      "[INFO] Capture spatial dimensions: (598, 1092)\n",
      "[INFO] Capture capture type: wide\n",
      "[INFO] Loading L1c capture frohavet_2023-03-30T10-30-26Z\n",
      "[INFO] Capture spatial dimensions: (598, 1092)\n",
      "[INFO] Capture capture type: wide\n",
      "[INFO] Loading L1d capture frohavet_2023-03-30T10-30-26Z\n",
      "[INFO] Capture spatial dimensions: (598, 1092)\n",
      "[INFO] Capture capture type: wide\n",
      "[INFO] Running direct georeferencing...\n",
      "[INFO] ADCS samples: 1921\n",
      "[INFO] ADCS time range: 1680171540.000000 to 1680172458.250000\n",
      "[INFO] Frame time range: 1680172226.731407 to 1680172276.481407\n",
      "[INFO] 199 sample(s) inside frame time range\n",
      "[INFO] Interpolating 598 frames\n",
      "[INFO] Computing pixel latitude and longitude coordinates ...\n",
      "[INFO] Interpolating pixel coordinate gaps...\n",
      "[INFO] Direct georeferencing done\n",
      "[INFO] Running track geometry computations...\n",
      "[INFO] Using UTM map: WGS 84 / UTM zone 32N EPSG: 32632\n",
      "[INFO] Track geometry computations done.\n",
      "[INFO] Running angles geometry computations...\n",
      "[INFO] Computing local angles (sun and satellite azimuth and zenith angles) ...\n",
      "[INFO] Using astropy on a subsampling of pixels ... (TODO skyfield may be faster)\n",
      "[INFO] Interpolating the rest of the pixels ...\n",
      "[INFO] Computing local angles done\n",
      "[INFO] Angles geometry computations done.\n"
     ]
    }
   ],
   "source": [
    "frohavet_path_0330 = os.path.join(dir_path, \"frohavet_2023-03-30T10-30-26Z-l1a.nc\")\n",
    "frohavet_path_0330_b = os.path.join(dir_path, \"frohavet_2023-03-30T10-30-26Z-l1b.nc\")\n",
    "frohavet_path_0330_c = os.path.join(dir_path, \"frohavet_2023-03-30T10-30-26Z-l1c.nc\")\n",
    "frohavet_path_0330_d = os.path.join(dir_path, \"frohavet_2023-03-30T10-30-26Z-l1d.nc\")\n",
    "\n",
    "satobj_h1_0330 = Hypso1( path = frohavet_path_0330, verbose = True )\n",
    "\n",
    "l1a_cube_0330 = satobj_h1_0330.l1a_cube\n",
    "l1b_cube_0330 = Hypso1( path = frohavet_path_0330_b, verbose = True )\n",
    "l1c_cube_0330 = Hypso1( path = frohavet_path_0330_c, verbose = True )\n",
    "l1d_cube_0330 = Hypso1( path = frohavet_path_0330_d, verbose = True )\n",
    "\n",
    "l1c_cube_0330 = l1c_cube_0330.l1c_cube\n",
    "l1b_cube_0330 = l1b_cube_0330.l1b_cube\n",
    "l1d_cube_0330 = l1d_cube_0330.l1d_cube\n",
    "\n",
    "satobj_h1_0330.run_direct_georeferencing() # in order to get the longiyudes and latitudes "
   ]
  },
  {
   "cell_type": "code",
   "execution_count": 6,
   "id": "cf4a785d",
   "metadata": {},
   "outputs": [],
   "source": [
    "#trondheim_path_0327 = os.path.join(dir_path, \"trondheim_2023-03-27T09-39-46Z-l1a.nc\")\n",
    "#trondheim_path_0327_b = os.path.join(dir_path, \"trondheim_2023-03-27T09-39-46Z-l1b.nc\")\n",
    "#trondheim_path_0327_c = os.path.join(dir_path, \"trondheim_2023-03-27T09-39-46Z-l1c.nc\")\n",
    "#trondheim_path_0327_d = os.path.join(dir_path, \"trondheim_2023-03-27T09-39-46Z-l1d.nc\")\n",
    "#\n",
    "#satobj_h1_t_0327 = Hypso1( path = trondheim_path_0327, verbose = True )\n",
    "#\n",
    "#l1a_cube_t_0327 = satobj_h1_t_0327.l1a_cube\n",
    "#l1b_cube_t_0327 = Hypso1( path = trondheim_path_0327_b, verbose = True )\n",
    "#l1c_cube_t_0327 = Hypso1( path = trondheim_path_0327_c, verbose = True )\n",
    "#l1d_cube_t_0327 = Hypso1( path = trondheim_path_0327_d, verbose = True )\n",
    "#\n",
    "#l1b_cube_t_0327 = l1b_cube_t_0327.l1c_cube\n",
    "#l1c_cube_t_0327 = l1c_cube_t_0327.l1b_cube\n",
    "#l1d_cube_t_0327 = l1d_cube_t_0327.l1d_cube\n",
    "#\n",
    "#satobj_h1_t_0327.run_direct_georeferencing() # in order to get the longiyudes and latitudes "
   ]
  },
  {
   "cell_type": "code",
   "execution_count": 7,
   "id": "2b6d96c3",
   "metadata": {},
   "outputs": [
    {
     "name": "stdout",
     "output_type": "stream",
     "text": [
      "[INFO] Loading L1a capture frohavet_2024-03-10T10-15-40Z\n",
      "[INFO] Capture spatial dimensions: (598, 1092)\n",
      "[INFO] Capture capture type: wide\n",
      "[INFO] Loading L1b capture frohavet_2024-03-10T10-15-40Z\n",
      "[INFO] Capture spatial dimensions: (598, 1092)\n",
      "[INFO] Capture capture type: wide\n",
      "[INFO] Loading L1c capture frohavet_2024-03-10T10-15-40Z\n",
      "[INFO] Capture spatial dimensions: (598, 1092)\n",
      "[INFO] Capture capture type: wide\n",
      "[INFO] Loading L1d capture frohavet_2024-03-10T10-15-40Z\n",
      "[INFO] Capture spatial dimensions: (598, 1092)\n",
      "[INFO] Capture capture type: wide\n",
      "[INFO] Running direct georeferencing...\n",
      "[INFO] ADCS samples: 430\n",
      "[INFO] ADCS time range: 1710065040.000000 to 1710066000.000000\n",
      "[INFO] Frame time range: 1710065740.143331 to 1710065789.893331\n",
      "[INFO] 199 sample(s) inside frame time range\n",
      "[INFO] Interpolating 598 frames\n",
      "[INFO] Computing pixel latitude and longitude coordinates ...\n",
      "[INFO] Interpolating pixel coordinate gaps...\n",
      "[INFO] Direct georeferencing done\n",
      "[INFO] Running track geometry computations...\n",
      "[INFO] Using UTM map: WGS 84 / UTM zone 33N EPSG: 32633\n",
      "[INFO] Track geometry computations done.\n",
      "[INFO] Running angles geometry computations...\n",
      "[INFO] Computing local angles (sun and satellite azimuth and zenith angles) ...\n",
      "[INFO] Using astropy on a subsampling of pixels ... (TODO skyfield may be faster)\n",
      "[INFO] Interpolating the rest of the pixels ...\n",
      "[INFO] Computing local angles done\n",
      "[INFO] Angles geometry computations done.\n"
     ]
    }
   ],
   "source": [
    "frohavet_path_24_0310 = os.path.join(dir_path, \"frohavet_2024-03-10T10-15-40Z-l1a.nc\")\n",
    "frohavet_path_24_0310_b = os.path.join(dir_path, \"frohavet_2024-03-10T10-15-40Z-l1b.nc\")\n",
    "frohavet_path_24_0310_c = os.path.join(dir_path, \"frohavet_2024-03-10T10-15-40Z-l1c.nc\")\n",
    "frohavet_path_24_0310_d = os.path.join(dir_path, \"frohavet_2024-03-10T10-15-40Z-l1d.nc\")\n",
    "\n",
    "satobj_h1_24_0310 = Hypso1( path = frohavet_path_24_0310, verbose = True )\n",
    "\n",
    "l1a_cube_24_0310 = satobj_h1_24_0310.l1a_cube\n",
    "l1b_cube_24_0310 = Hypso1( path = frohavet_path_24_0310_b, verbose = True )\n",
    "l1c_cube_24_0310 = Hypso1( path = frohavet_path_24_0310_c, verbose = True )\n",
    "l1d_cube_24_0310 = Hypso1( path = frohavet_path_24_0310_d, verbose = True )\n",
    "\n",
    "l1c_cube_24_0310 = l1c_cube_24_0310.l1c_cube\n",
    "l1b_cube_24_0310 = l1b_cube_24_0310.l1b_cube\n",
    "l1d_cube_24_0310 = l1d_cube_24_0310.l1d_cube\n",
    "\n",
    "satobj_h1_24_0310.run_direct_georeferencing() # in order to get the longiyudes and latitudes "
   ]
  },
  {
   "cell_type": "code",
   "execution_count": 8,
   "id": "cafa2706",
   "metadata": {},
   "outputs": [],
   "source": [
    "#wawelengths\n",
    "x_1 = [387.84749685, 391.40406599, 394.95941579, 398.51354623, 402.06645732, 405.61814905, 409.16862143, 412.71787446, 416.26590814, 419.81272246, 423.35831743, 426.90269305, 430.44584931, 433.98778622, 437.52850378, 441.06800198, 444.60628083, 448.14334033, 451.67918047, 455.21380126, 458.7472027, 462.27938479, 465.81034752, 469.3400909 , 472.86861492,476.3959196 , 479.92200491, 483.44687088, 486.97051749, 490.49294475,494.01415266, 497.53414122, 501.05291042, 504.57046026, 508.08679076,511.6019019 , 515.11579369, 518.62846612, 522.13991921, 525.65015294,529.15916731, 532.66696233, 536.173538  , 539.67889432, 543.18303128,546.68594889, 550.18764715, 553.68812606, 557.18738561, 560.68542581,564.18224665, 567.67784814, 571.17223028, 574.66539307, 578.1573365, 581.64806058, 585.1375653 , 588.62585068, 592.1129167 , 595.59876336,599.08339068, 602.56679864, 606.04898725, 609.5299565 , 613.0097064 ,616.48823695, 619.96554815, 623.44163999, 626.91651248, 630.39016561,633.86259939, 637.33381382, 640.8038089 , 644.27258462, 647.74014099,651.20647801, 654.67159568, 658.13549399, 661.59817294, 665.05963255,668.5198728 , 671.9788937 , 675.43669524, 678.89327744, 682.34864028,685.80278376, 689.25570789, 692.70741267, 696.1578981 , 699.60716418,703.0552109 , 706.50203826, 709.94764628, 713.39203494, 716.83520425,720.2771542 , 723.7178848 , 727.15739605, 730.59568795, 734.03276049,737.46861368, 740.90324752, 744.336662  , 747.76885713, 751.19983291,754.62958933, 758.0581264 , 761.48544412, 764.91154248, 768.33642149,771.76008115, 775.18252146, 778.60374241, 782.02374401, 785.44252625,788.86008915, 792.27643269, 795.69155687, 799.10546171, 802.51814719]\n",
    "x=x_1[5:115]\n",
    "\n",
    "# Target latitude and longitude\n",
    "#target_lat = [64.08533976025561,64.08799001499494, 64.00671553632209, 64.00539040895242] #område 1.\n",
    "#target_lon = [9.744011353487297, 9.632700654435348, 9.740919389624743,9.634025781805015]  \n",
    "\n",
    "#target_lat = [63.818490304354434,63.793837321385155, 63.65192496143867, 63.660555970548074] #område 2.1.\n",
    "#target_lon = [9.531415429238418, 9.442656298818237,9.526455044589706,9.439764451470932]\n",
    "\n",
    "#target_lat = [64.2750935781297,64.29365394014144, 64.17902661492639, 64.18553880683058] #område 4, korrigert\n",
    "#target_lon = [9.127764312954888, 8.585899068865604,9.130324490159921,8.564058182856481]  \n",
    "\n",
    "#target_lat = [63.646767083517425,63.61771951990031, 63.47865598622861, 63.42721372576498] #område 5.1\n",
    "#target_lon = [9.804697410334523, 9.723689711502818,10.061035990832918,9.982929114384596]  \n",
    "\n",
    "target_lat = [64.17324887890479,64.11631446557637, 63.896904083590066, 63.887923483169004] #område 6.1\n",
    "target_lon = [9.582148298814932,8.924448409066027, 9.578289180688513, 8.96230357578283]\n",
    "\n",
    "#target_lat = [64.48557437461893,64.52896641587218, 64.20992561747796, 64.22009411667561] #område 7\n",
    "#target_lon = [9.886201113342556, 8.708294855080245,9.704720121565003,8.73032214102829]  "
   ]
  },
  {
   "cell_type": "code",
   "execution_count": 9,
   "id": "f696c9f7",
   "metadata": {},
   "outputs": [
    {
     "name": "stdout",
     "output_type": "stream",
     "text": [
      "Pixel number:  6640\n"
     ]
    }
   ],
   "source": [
    "## for each picture\n",
    "latitudes = satobj_h1.latitudes\n",
    "longitudes = satobj_h1.longitudes\n",
    "\n",
    "piksel_row, piksel_col = f.latLong_to_piksel(target_lat, target_lon, latitudes, longitudes) #from file funcions_autonom.py\n",
    "rss_matrix = f.rss_matrix(120, piksel_row,piksel_col, l1d_cube)\n",
    "\n",
    "##print for å se formen \n",
    "##kjøre min max normalisering\n",
    "        \n",
    "mean_spectrum = np.mean(rss_matrix, axis=1) ## mean over rad  # gjenomsnitt\n",
    "median_spectrum = np.median(rss_matrix, axis=1)  #median\n",
    "normaized_spectrum = f.min_max_nomralization(mean_spectrum) #min max normalisering\n",
    "l2_norm = np.linalg.norm(mean_spectrum)  #l2 norm\n",
    "l2_normalized_spectrum = mean_spectrum / l2_norm  #l2 normalisering\n",
    "std_spectrum = np.std(rss_matrix, axis=1)  #standard avik"
   ]
  },
  {
   "cell_type": "code",
   "execution_count": 10,
   "id": "1644f2dc",
   "metadata": {},
   "outputs": [
    {
     "name": "stdout",
     "output_type": "stream",
     "text": [
      "Pixel number:  658\n"
     ]
    }
   ],
   "source": [
    "latitudes_0328 = satobj_h1_0328.latitudes\n",
    "longitudes_0328 = satobj_h1_0328.longitudes\n",
    "\n",
    "piksel_row_0328, piksel_col_0328 = f.latLong_to_piksel(target_lat, target_lon, latitudes_0328, longitudes_0328) #from file funcions_autonom.py\n",
    "#rss_matrix_0328 = f.rss_matrix(120, piksel_row_0328,piksel_col_0328, l1d_cube_0328)\n",
    "rss_matrix_0328 = f.water_masked_rss_matrix(piksel_row_0328,piksel_col_0328, l1d_cube_0328, satobj_h1_0328)\n",
    "        \n",
    "mean_spectrum_0328 = np.mean(rss_matrix_0328, axis=1) ## mean over rad  # gjenomsnitt\n",
    "median_spectrum_0328 = np.mean(rss_matrix_0328, axis=1) ## mean over rad  # gjenomsnitt\n",
    "l2_norm_0328 = np.linalg.norm(mean_spectrum_0328)  #l2 norm\n",
    "l2_normalized_spectrum_0328 = mean_spectrum_0328 / l2_norm_0328  #l2 normalisering\n",
    "normaized_spectrum_0328 = f.min_max_nomralization(mean_spectrum_0328) #min max normalisering\n",
    "\n",
    "std_spectrum_0328 = np.std(rss_matrix_0328, axis=1)  #standard avik"
   ]
  },
  {
   "cell_type": "code",
   "execution_count": 11,
   "id": "3ef0ce51",
   "metadata": {},
   "outputs": [
    {
     "name": "stdout",
     "output_type": "stream",
     "text": [
      "Pixel number:  4661\n"
     ]
    }
   ],
   "source": [
    "latitudes_0329 = satobj_h1_0329.latitudes\n",
    "longitudes_0329 = satobj_h1_0329.longitudes\n",
    "\n",
    "piksel_row_0329, piksel_col_0329 = f.latLong_to_piksel(target_lat, target_lon, latitudes_0329, longitudes_0329) #from file funcions_autonom.py\n",
    "#rss_matrix_0329 = f.rss_matrix(120, piksel_row_0329,piksel_col_0329, l1d_cube_0329)\n",
    "rss_matrix_0329 = f.water_masked_rss_matrix(piksel_row_0329,piksel_col_0329, l1d_cube_0329, satobj_h1_0329)\n",
    "        \n",
    "mean_spectrum_0329 = np.mean(rss_matrix_0329, axis=1) ## mean over rad  # gjenomsnitt\n",
    "median_spectrum_0329 = np.median(rss_matrix_0329, axis=1) ## median over rad  # gjenomsnitt\n",
    "normaized_spectrum_0329 = f.min_max_nomralization(mean_spectrum_0329)\n",
    "l2_norm_0329 = np.linalg.norm(mean_spectrum_0329)  #l2 norm\n",
    "l2_normalized_spectrum_0329 = mean_spectrum_0329 / l2_norm_0329  #l2 normalisering\n",
    "std_spectrum_0329 = np.std(rss_matrix_0329, axis=1)  #standard avik"
   ]
  },
  {
   "cell_type": "code",
   "execution_count": 12,
   "id": "0f7cf421",
   "metadata": {},
   "outputs": [
    {
     "name": "stdout",
     "output_type": "stream",
     "text": [
      "Pixel number:  5124\n"
     ]
    }
   ],
   "source": [
    "latitudes_0330 = satobj_h1_0330.latitudes\n",
    "longitudes_0330 = satobj_h1_0330.longitudes\n",
    "\n",
    "piksel_row_0330, piksel_col_0330 = f.latLong_to_piksel(target_lat, target_lon, latitudes_0330, longitudes_0330) #from file funcions_autonom.py\n",
    "#rss_matrix_0330 = f.rss_matrix(120, piksel_row_0330,piksel_col_0330, l1d_cube_0330)\n",
    "rss_matrix_0330 = f.water_masked_rss_matrix(piksel_row_0330,piksel_col_0330, l1d_cube_0330, satobj_h1_0330)\n",
    "\n",
    "mean_spectrum_0330 = np.mean(rss_matrix_0330, axis=1) ## mean over rad  # gjenomsnitt\n",
    "median_spectrum_0330 = np.median(rss_matrix_0330, axis=1) ## median over rad  # gjenomsnitt\n",
    "normaized_spectrum_0330 = f.min_max_nomralization(mean_spectrum_0330)\n",
    "l2_norm_0330 = np.linalg.norm(mean_spectrum_0330)  #l2 norm\n",
    "l2_normalized_spectrum_0330 = mean_spectrum_0330 / l2_norm_0330  #l2 normalisering\n",
    "std_spectrum_0330 = np.std(rss_matrix_0330, axis=1)  #standard avik"
   ]
  },
  {
   "cell_type": "code",
   "execution_count": 13,
   "id": "5e991d02",
   "metadata": {},
   "outputs": [],
   "source": [
    "#latitudes_t_0327 = satobj_h1_t_0327.latitudes\n",
    "#longitudes_t_0327 = satobj_h1_t_0327.longitudes\n",
    "#\n",
    "#piksel_row_t_0327, piksel_col_t_0327 = f.latLong_to_piksel(target_lat, target_lon, latitudes_t_0327, longitudes_t_0327) #from file funcions_autonom.py\n",
    "#rss_matrix_t_0327 = f.rss_matrix(120, piksel_row_t_0327,piksel_col_t_0327, l1d_cube_t_0327)\n",
    "#        \n",
    "#mean_spectrum_t_0327 = np.mean(rss_matrix_t_0327, axis=1) ## mean over rad  # gjenomsnitt\n",
    "#median_spectrum_t_0327 = np.median(rss_matrix_t_0327, axis=1) ## median over rad  # gjenomsnitt\n",
    "#normaized_spectrum_t_0327 = f.min_max_nomralization(mean_spectrum_t_0327)\n",
    "#l2_norm_t_0327 = np.linalg.norm(mean_spectrum_t_0327)  #l2 norm\n",
    "#l2_normalized_spectrum_t_0327 = mean_spectrum_t_0327 / l2_norm_t_0327  #l2 normalisering\n",
    "#std_spectrum_t_0327 = np.std(rss_matrix_t_0327, axis=1)  #standard avik"
   ]
  },
  {
   "cell_type": "code",
   "execution_count": 14,
   "id": "7431bcef",
   "metadata": {},
   "outputs": [
    {
     "name": "stdout",
     "output_type": "stream",
     "text": [
      "Pixel number:  1\n"
     ]
    }
   ],
   "source": [
    "latitudes_24_0310 = satobj_h1_24_0310.latitudes\n",
    "longitudes_24_0310 = satobj_h1_24_0310.longitudes\n",
    "\n",
    "piksel_row_24_0310, piksel_col_24_0310 = f.latLong_to_piksel(target_lat, target_lon, latitudes_24_0310, longitudes_24_0310) #from file funcions_autonom.py\n",
    "#rss_matrix_0330 = f.rss_matrix(120, piksel_row_0330,piksel_col_0330, l1d_cube_0330)\n",
    "rss_matrix_24_0310 = f.water_masked_rss_matrix(piksel_row_24_0310,piksel_col_24_0310, l1d_cube_24_0310, satobj_h1_24_0310)\n",
    "\n",
    "mean_spectrum_24_0310 = np.mean(rss_matrix_24_0310, axis=1) ## mean over rad  # gjenomsnitt\n",
    "median_spectrum_24_0310 = np.median(rss_matrix_24_0310, axis=1) ## median over rad  # gjenomsnitt\n",
    "normaized_spectrum_24_0310 = f.min_max_nomralization(mean_spectrum_24_0310)\n",
    "l2_norm_24_0310 = np.linalg.norm(mean_spectrum_24_0310)  #l2 norm\n",
    "l2_normalized_spectrum_24_0310 = mean_spectrum_24_0310 / l2_norm_24_0310  #l2 normalisering\n",
    "std_spectrum_24_0310 = np.std(rss_matrix_24_0310, axis=1)  #standard avik"
   ]
  },
  {
   "cell_type": "code",
   "execution_count": null,
   "id": "84091bbc",
   "metadata": {},
   "outputs": [
    {
     "data": {
      "image/png": "[encoded data removed]",
      "text/plain": [
       "<Figure size 640x480 with 1 Axes>"
      ]
     },
     "metadata": {},
     "output_type": "display_data"
    },
    {
     "ename": "",
     "evalue": "",
     "output_type": "error",
     "traceback": [
      "\u001b[1;31mThe Kernel crashed while executing code in the current cell or a previous cell. \n",
      "\u001b[1;31mPlease review the code in the cell(s) to identify a possible cause of the failure. \n",
      "\u001b[1;31mClick <a href='https://aka.ms/vscodeJupyterKernelCrash'>here</a> for more info. \n",
      "\u001b[1;31mView Jupyter <a href='command:jupyter.viewOutput'>log</a> for further details."
     ]
    }
   ],
   "source": [
    "#plotting\n",
    "#plt.plot(x, mean_spectrum, color='green', label='0316')\n",
    "#plt.plot(x, mean_spectrum_0328, color='black', label='0328')\n",
    "#plt.plot(x, mean_spectrum_0329, color='blue', label='0329')\n",
    "#plt.plot(x, mean_spectrum_0330, color='purple', label='0330')\n",
    "##plt.plot(x, mean_spectrum_t_0327, color='red', label='trond 0327')\n",
    "\n",
    "#plt.plot(x, median_spectrum, color='green', label='0316')\n",
    "#plt.plot(x, median_spectrum_0328, color='black', label='0328')\n",
    "#plt.plot(x, median_spectrum_0329, color='blue', label='0329')\n",
    "#plt.plot(x, median_spectrum_0330, color='purple', label='0330')\n",
    "\n",
    "plt.plot(x, normaized_spectrum, color='green', label='0316')\n",
    "plt.plot(x, normaized_spectrum_0328, color='black', label='0328')\n",
    "plt.plot(x, normaized_spectrum_0329, color='blue', label='0329')\n",
    "plt.plot(x, normaized_spectrum_0330, color='purple', label='0330')\n",
    " #plt.plot(x, normalized_spectrum_t_0327, color='red', label='trond 0327')\n",
    "plt.plot(x, normaized_spectrum_24_0310, color='purple', label='0330')\n",
    "\n",
    "#plt.plot(x, l2_normalized_spectrum, color='green', label='0316')\n",
    "#plt.plot(x, l2_normalized_spectrum_0328, color='black', label='0328')\n",
    "#plt.plot(x, l2_normalized_spectrum_0329, color='blue', label='0329')\n",
    "#plt.plot(x, l2_normalized_spectrum_0330, color='purple', label='0330')\n",
    "#plt.plot(x, normalized_spectrum_t_0327, color='red', label='trond 0327')\n",
    "\n",
    "#plt.fill_between(x, \n",
    "#                 mean_spectrum - 1*std_spectrum, \n",
    "#                 mean_spectrum + 1*std_spectrum,\n",
    "#                 color='green', alpha=0.5)\n",
    "#plt.fill_between(x, \n",
    "#                 mean_spectrum_0328 - 1*std_spectrum_0328, \n",
    "#                 mean_spectrum_0328 + 1*std_spectrum_0328,\n",
    "#                 color='black', alpha=0.5)\n",
    "#plt.fill_between(x, \n",
    "#                 mean_spectrum_0329 - 1*std_spectrum_0329, \n",
    "#                 mean_spectrum_0329 + 1*std_spectrum_0329,\n",
    "#                 color='blue', alpha=0.5)\n",
    "#\n",
    "#plt.fill_between(x, \n",
    "#                 mean_spectrum_0330 - 1*std_spectrum_0330, \n",
    "#                 mean_spectrum_0330 + 1*std_spectrum_0330,\n",
    "#                 color='purple', alpha=0.5)\n",
    "#plt.fill_between(x, \n",
    "#                 mean_spectrum_t_0327 - 1*std_spectrum_t_0327, \n",
    "#                 mean_spectrum_t_0327 + 1*std_spectrum_t_0327,\n",
    "#                 color='red', alpha=0.5)\n",
    "\n",
    "\n",
    "plt.xlabel(\"Wawelength (nm)\")\n",
    "plt.ylabel(\"Reflectance / RSS\") #finne enheten her\n",
    "plt.title(\"Mean Spectrum March 2023\")\n",
    "plt.grid(True, alpha=0.3)\n",
    "plt.legend()\n",
    "plt.show()"
   ]
  }
 ],
 "metadata": {
  "kernelspec": {
   "display_name": "hypso-env",
   "language": "python",
   "name": "python3"
  },
  "language_info": {
   "codemirror_mode": {
    "name": "ipython",
    "version": 3
   },
   "file_extension": ".py",
   "mimetype": "text/x-python",
   "name": "python",
   "nbconvert_exporter": "python",
   "pygments_lexer": "ipython3",
   "version": "3.11.12"
  }
 },
 "nbformat": 4,
 "nbformat_minor": 5
}
