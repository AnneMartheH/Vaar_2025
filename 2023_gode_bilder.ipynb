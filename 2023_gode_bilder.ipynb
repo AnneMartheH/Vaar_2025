{
 "cells": [
  {
   "cell_type": "code",
   "execution_count": 2,
   "id": "938f3f4f",
   "metadata": {},
   "outputs": [],
   "source": [
    "#import for HYPSO\n",
    "from hypso import Hypso1, Hypso2\n",
    "import os \n",
    "import matplotlib.pyplot as plt\n",
    "from global_land_mask import globe \n",
    "import numpy as np \n",
    "\n",
    "import funcions_autonom as f"
   ]
  },
  {
   "cell_type": "code",
   "execution_count": 3,
   "id": "3e7cedc9",
   "metadata": {},
   "outputs": [
    {
     "name": "stdout",
     "output_type": "stream",
     "text": [
      "[INFO] Loading L1a capture frohavet_2023-03-16T10-44-08Z\n",
      "[INFO] Capture spatial dimensions: (956, 684)\n",
      "[INFO] Capture capture type: nominal\n",
      "[INFO] Loading L1b capture frohavet_2023-03-16T10-44-08Z\n",
      "[INFO] Capture spatial dimensions: (956, 684)\n",
      "[INFO] Capture capture type: nominal\n",
      "[INFO] Loading L1c capture frohavet_2023-03-16T10-44-08Z\n",
      "[INFO] Capture spatial dimensions: (956, 684)\n",
      "[INFO] Capture capture type: nominal\n",
      "[INFO] Loading L1d capture frohavet_2023-03-16T10-44-08Z\n",
      "[INFO] Capture spatial dimensions: (956, 684)\n",
      "[INFO] Capture capture type: nominal\n",
      "[INFO] Running direct georeferencing...\n",
      "[INFO] ADCS samples: 1837\n",
      "[INFO] ADCS time range: 1678962780.000000 to 1678963680.000000\n",
      "[INFO] Frame time range: 1678963448.503009 to 1678963491.912100\n",
      "[INFO] 173 sample(s) inside frame time range\n",
      "[INFO] Interpolating 956 frames\n",
      "[INFO] Computing pixel latitude and longitude coordinates ...\n",
      "[INFO] Interpolating pixel coordinate gaps...\n",
      "[INFO] Direct georeferencing done\n",
      "[INFO] Running track geometry computations...\n",
      "[INFO] Using UTM map: WGS 84 / UTM zone 32N EPSG: 32632\n",
      "[INFO] Track geometry computations done.\n",
      "[INFO] Running angles geometry computations...\n",
      "[INFO] Computing local angles (sun and satellite azimuth and zenith angles) ...\n",
      "[INFO] Using astropy on a subsampling of pixels ... (TODO skyfield may be faster)\n",
      "[INFO] Interpolating the rest of the pixels ...\n",
      "[INFO] Computing local angles done\n",
      "[INFO] Angles geometry computations done.\n"
     ]
    }
   ],
   "source": [
    "dir_path = \".\"\n",
    " \n",
    "frohavet_path_0316 = os.path.join(dir_path, \"frohavet_2023-03-16T10-44-08Z-l1a.nc\")\n",
    "frohavet_path_0316_b = os.path.join(dir_path, \"frohavet_2023-03-16T10-44-08Z-l1b.nc\")\n",
    "frohavet_path_0316_c = os.path.join(dir_path, \"frohavet_2023-03-16T10-44-08Z-l1c.nc\")\n",
    "frohavet_path_0316_d = os.path.join(dir_path, \"frohavet_2023-03-16T10-44-08Z-l1d.nc\")\n",
    "\n",
    "satobj_h1 = Hypso1( path = frohavet_path_0316, verbose = True )\n",
    "\n",
    "l1a_cube = satobj_h1.l1a_cube\n",
    "l1b_cube = Hypso1( path = frohavet_path_0316_b, verbose = True )\n",
    "l1c_cube = Hypso1( path = frohavet_path_0316_c, verbose = True )\n",
    "l1d_cube = Hypso1( path = frohavet_path_0316_d, verbose = True )\n",
    "\n",
    "l1c_cube = l1c_cube.l1c_cube\n",
    "l1b_cube = l1b_cube.l1b_cube\n",
    "l1d_cube = l1d_cube.l1d_cube\n",
    "\n",
    "satobj_h1.run_direct_georeferencing() # in order to get the longiyudes and latitudes"
   ]
  },
  {
   "cell_type": "code",
   "execution_count": 4,
   "id": "b05756bf",
   "metadata": {},
   "outputs": [
    {
     "name": "stdout",
     "output_type": "stream",
     "text": [
      "[INFO] Loading L1a capture frohavet_2023-03-28T10-59-21Z\n",
      "[INFO] Capture spatial dimensions: (956, 684)\n",
      "[INFO] Capture capture type: nominal\n",
      "[INFO] Loading L1b capture frohavet_2023-03-28T10-59-21Z\n",
      "[INFO] Capture spatial dimensions: (956, 684)\n",
      "[INFO] Capture capture type: nominal\n",
      "[INFO] Loading L1c capture frohavet_2023-03-28T10-59-21Z\n",
      "[INFO] Capture spatial dimensions: (956, 684)\n",
      "[INFO] Capture capture type: nominal\n",
      "[INFO] Loading L1d capture frohavet_2023-03-28T10-59-21Z\n",
      "[INFO] Capture spatial dimensions: (956, 684)\n",
      "[INFO] Capture capture type: nominal\n",
      "[INFO] Running direct georeferencing...\n",
      "[INFO] ADCS samples: 1837\n",
      "[INFO] ADCS time range: 1680000480.000000 to 1680001440.000000\n",
      "[INFO] Frame time range: 1680001161.388534 to 1680001204.797625\n",
      "[INFO] 174 sample(s) inside frame time range\n",
      "[INFO] Interpolating 956 frames\n",
      "[INFO] Computing pixel latitude and longitude coordinates ...\n",
      "[INFO] Interpolating pixel coordinate gaps...\n",
      "[INFO] Direct georeferencing done\n",
      "[INFO] Running track geometry computations...\n",
      "[INFO] Using UTM map: WGS 84 / UTM zone 32N EPSG: 32632\n",
      "[INFO] Track geometry computations done.\n",
      "[INFO] Running angles geometry computations...\n",
      "[INFO] Computing local angles (sun and satellite azimuth and zenith angles) ...\n",
      "[INFO] Using astropy on a subsampling of pixels ... (TODO skyfield may be faster)\n",
      "[INFO] Interpolating the rest of the pixels ...\n",
      "[INFO] Computing local angles done\n",
      "[INFO] Angles geometry computations done.\n"
     ]
    }
   ],
   "source": [
    "frohavet_path_0328 = os.path.join(dir_path, \"frohavet_2023-03-28T10-59-21Z-l1a.nc\")\n",
    "frohavet_path_0328_b = os.path.join(dir_path, \"frohavet_2023-03-28T10-59-21Z-l1b.nc\")\n",
    "frohavet_path_0328_c = os.path.join(dir_path, \"frohavet_2023-03-28T10-59-21Z-l1c.nc\")\n",
    "frohavet_path_0328_d = os.path.join(dir_path, \"frohavet_2023-03-28T10-59-21Z-l1d.nc\")\n",
    "\n",
    "satobj_h1_0328 = Hypso1( path = frohavet_path_0328, verbose = True )\n",
    "\n",
    "l1a_cube_0328 = satobj_h1_0328.l1a_cube\n",
    "l1b_cube_0328 = Hypso1( path = frohavet_path_0328_b, verbose = True )\n",
    "l1c_cube_0328 = Hypso1( path = frohavet_path_0328_c, verbose = True )\n",
    "l1d_cube_0328 = Hypso1( path = frohavet_path_0328_d, verbose = True )\n",
    "\n",
    "l1c_cube_0328 = l1c_cube_0328.l1c_cube\n",
    "l1b_cube_0328 = l1b_cube_0328.l1b_cube\n",
    "l1d_cube_0328 = l1d_cube_0328.l1d_cube\n",
    "\n",
    "satobj_h1_0328.run_direct_georeferencing() # in order to get the longiyudes and latitudes "
   ]
  },
  {
   "cell_type": "code",
   "execution_count": 5,
   "id": "174db77b",
   "metadata": {},
   "outputs": [
    {
     "name": "stdout",
     "output_type": "stream",
     "text": [
      "[INFO] Loading L1a capture frohavet_2023-03-29T10-44-51Z\n",
      "[INFO] Capture spatial dimensions: (956, 684)\n",
      "[INFO] Capture capture type: nominal\n",
      "[INFO] Loading L1b capture frohavet_2023-03-29T10-44-51Z\n",
      "[INFO] Capture spatial dimensions: (956, 684)\n",
      "[INFO] Capture capture type: nominal\n",
      "[INFO] Loading L1c capture frohavet_2023-03-29T10-44-51Z\n",
      "[INFO] Capture spatial dimensions: (956, 684)\n",
      "[INFO] Capture capture type: nominal\n",
      "[INFO] Loading L1d capture frohavet_2023-03-29T10-44-51Z\n",
      "[INFO] Capture spatial dimensions: (956, 684)\n",
      "[INFO] Capture capture type: nominal\n",
      "[INFO] Running direct georeferencing...\n",
      "[INFO] ADCS samples: 1678\n",
      "[INFO] ADCS time range: 1680086040.000000 to 1680086915.000000\n",
      "[INFO] Frame time range: 1680086691.474726 to 1680086734.883817\n",
      "[INFO] 174 sample(s) inside frame time range\n",
      "[INFO] Interpolating 956 frames\n",
      "[INFO] Computing pixel latitude and longitude coordinates ...\n",
      "[INFO] Interpolating pixel coordinate gaps...\n",
      "[INFO] Direct georeferencing done\n",
      "[INFO] Running track geometry computations...\n",
      "[INFO] Using UTM map: WGS 84 / UTM zone 32N EPSG: 32632\n",
      "[INFO] Track geometry computations done.\n",
      "[INFO] Running angles geometry computations...\n",
      "[INFO] Computing local angles (sun and satellite azimuth and zenith angles) ...\n",
      "[INFO] Using astropy on a subsampling of pixels ... (TODO skyfield may be faster)\n",
      "[INFO] Interpolating the rest of the pixels ...\n",
      "[INFO] Computing local angles done\n",
      "[INFO] Angles geometry computations done.\n"
     ]
    }
   ],
   "source": [
    "frohavet_path_0329 = os.path.join(dir_path, \"frohavet_2023-03-29T10-44-51Z-l1a.nc\")\n",
    "frohavet_path_0329_b = os.path.join(dir_path, \"frohavet_2023-03-29T10-44-51Z-l1b.nc\")\n",
    "frohavet_path_0329_c = os.path.join(dir_path, \"frohavet_2023-03-29T10-44-51Z-l1c.nc\")\n",
    "frohavet_path_0329_d = os.path.join(dir_path, \"frohavet_2023-03-29T10-44-51Z-l1d.nc\")\n",
    "\n",
    "satobj_h1_0329 = Hypso1( path = frohavet_path_0329, verbose = True )\n",
    "\n",
    "l1a_cube_0329 = satobj_h1_0329.l1a_cube\n",
    "l1b_cube_0329 = Hypso1( path = frohavet_path_0329_b, verbose = True )\n",
    "l1c_cube_0329 = Hypso1( path = frohavet_path_0329_c, verbose = True )\n",
    "l1d_cube_0329 = Hypso1( path = frohavet_path_0329_d, verbose = True )\n",
    "\n",
    "l1c_cube_0329 = l1c_cube_0329.l1c_cube\n",
    "l1b_cube_0329 = l1b_cube_0329.l1b_cube\n",
    "l1d_cube_0329 = l1d_cube_0329.l1d_cube\n",
    "\n",
    "satobj_h1_0329.run_direct_georeferencing() # in order to get the longiyudes and latitudes "
   ]
  },
  {
   "cell_type": "code",
   "execution_count": 6,
   "id": "47be8d09",
   "metadata": {},
   "outputs": [
    {
     "name": "stdout",
     "output_type": "stream",
     "text": [
      "[INFO] Loading L1a capture frohavet_2023-03-30T10-30-26Z\n",
      "[INFO] Capture spatial dimensions: (598, 1092)\n",
      "[INFO] Capture capture type: wide\n",
      "[INFO] Loading L1b capture frohavet_2023-03-30T10-30-26Z\n",
      "[INFO] Capture spatial dimensions: (598, 1092)\n",
      "[INFO] Capture capture type: wide\n",
      "[INFO] Loading L1c capture frohavet_2023-03-30T10-30-26Z\n",
      "[INFO] Capture spatial dimensions: (598, 1092)\n",
      "[INFO] Capture capture type: wide\n",
      "[INFO] Loading L1d capture frohavet_2023-03-30T10-30-26Z\n",
      "[INFO] Capture spatial dimensions: (598, 1092)\n",
      "[INFO] Capture capture type: wide\n",
      "[INFO] Running direct georeferencing...\n",
      "[INFO] ADCS samples: 1921\n",
      "[INFO] ADCS time range: 1680171540.000000 to 1680172458.250000\n",
      "[INFO] Frame time range: 1680172226.731407 to 1680172276.481407\n",
      "[INFO] 199 sample(s) inside frame time range\n",
      "[INFO] Interpolating 598 frames\n",
      "[INFO] Computing pixel latitude and longitude coordinates ...\n",
      "[INFO] Interpolating pixel coordinate gaps...\n",
      "[INFO] Direct georeferencing done\n",
      "[INFO] Running track geometry computations...\n",
      "[INFO] Using UTM map: WGS 84 / UTM zone 32N EPSG: 32632\n",
      "[INFO] Track geometry computations done.\n",
      "[INFO] Running angles geometry computations...\n",
      "[INFO] Computing local angles (sun and satellite azimuth and zenith angles) ...\n",
      "[INFO] Using astropy on a subsampling of pixels ... (TODO skyfield may be faster)\n",
      "[INFO] Interpolating the rest of the pixels ...\n",
      "[INFO] Computing local angles done\n",
      "[INFO] Angles geometry computations done.\n"
     ]
    }
   ],
   "source": [
    "frohavet_path_0330 = os.path.join(dir_path, \"frohavet_2023-03-30T10-30-26Z-l1a.nc\")\n",
    "frohavet_path_0330_b = os.path.join(dir_path, \"frohavet_2023-03-30T10-30-26Z-l1b.nc\")\n",
    "frohavet_path_0330_c = os.path.join(dir_path, \"frohavet_2023-03-30T10-30-26Z-l1c.nc\")\n",
    "frohavet_path_0330_d = os.path.join(dir_path, \"frohavet_2023-03-30T10-30-26Z-l1d.nc\")\n",
    "\n",
    "satobj_h1_0330 = Hypso1( path = frohavet_path_0330, verbose = True )\n",
    "\n",
    "l1a_cube_0330 = satobj_h1_0330.l1a_cube\n",
    "l1b_cube_0330 = Hypso1( path = frohavet_path_0330_b, verbose = True )\n",
    "l1c_cube_0330 = Hypso1( path = frohavet_path_0330_c, verbose = True )\n",
    "l1d_cube_0330 = Hypso1( path = frohavet_path_0330_d, verbose = True )\n",
    "\n",
    "l1c_cube_0330 = l1c_cube_0330.l1c_cube\n",
    "l1b_cube_0330 = l1b_cube_0330.l1b_cube\n",
    "l1d_cube_0330 = l1d_cube_0330.l1d_cube\n",
    "\n",
    "satobj_h1_0330.run_direct_georeferencing() # in order to get the longiyudes and latitudes "
   ]
  },
  {
   "cell_type": "code",
   "execution_count": 7,
   "id": "c86b8223",
   "metadata": {},
   "outputs": [
    {
     "name": "stdout",
     "output_type": "stream",
     "text": [
      "[INFO] Loading L1a capture frohavet_2023-04-07T10-07-15Z\n",
      "[INFO] Capture spatial dimensions: (598, 1092)\n",
      "[INFO] Capture capture type: wide\n",
      "[INFO] Loading L1b capture frohavet_2023-04-07T10-07-15Z\n",
      "[INFO] Capture spatial dimensions: (598, 1092)\n",
      "[INFO] Capture capture type: wide\n",
      "[INFO] Loading L1c capture frohavet_2023-04-07T10-07-15Z\n",
      "[INFO] Capture spatial dimensions: (598, 1092)\n",
      "[INFO] Capture capture type: wide\n",
      "[INFO] Loading L1d capture frohavet_2023-04-07T10-07-15Z\n",
      "[INFO] Capture spatial dimensions: (598, 1092)\n",
      "[INFO] Capture capture type: wide\n",
      "[INFO] Running direct georeferencing...\n",
      "[INFO] ADCS samples: 1911\n",
      "[INFO] ADCS time range: 1680861360.000000 to 1680862266.000000\n",
      "[INFO] Frame time range: 1680862035.869211 to 1680862085.619211\n",
      "[INFO] 199 sample(s) inside frame time range\n",
      "[INFO] Interpolating 598 frames\n",
      "[INFO] Computing pixel latitude and longitude coordinates ...\n"
     ]
    },
    {
     "ename": "KeyboardInterrupt",
     "evalue": "",
     "output_type": "error",
     "traceback": [
      "\u001b[31m---------------------------------------------------------------------------\u001b[39m",
      "\u001b[31mKeyboardInterrupt\u001b[39m                         Traceback (most recent call last)",
      "\u001b[36mCell\u001b[39m\u001b[36m \u001b[39m\u001b[32mIn[7]\u001b[39m\u001b[32m, line 17\u001b[39m\n\u001b[32m     14\u001b[39m l1b_cube_0407 = l1b_cube_0407.l1b_cube\n\u001b[32m     15\u001b[39m l1d_cube_0407 = l1d_cube_0407.l1d_cube\n\u001b[32m---> \u001b[39m\u001b[32m17\u001b[39m \u001b[43msatobj_h1_0407\u001b[49m\u001b[43m.\u001b[49m\u001b[43mrun_direct_georeferencing\u001b[49m\u001b[43m(\u001b[49m\u001b[43m)\u001b[49m \u001b[38;5;66;03m# in order to get the longiyudes and latitude07\u001b[39;00m\n",
      "\u001b[36mFile \u001b[39m\u001b[32m~/anaconda3/envs/hypso-env/lib/python3.11/site-packages/hypso/HypsoBase.py:774\u001b[39m, in \u001b[36mHypsoBase.run_direct_georeferencing\u001b[39m\u001b[34m(self)\u001b[39m\n\u001b[32m    771\u001b[39m \u001b[38;5;28;01mexcept\u001b[39;00m:\n\u001b[32m    772\u001b[39m     \u001b[38;5;28mself\u001b[39m._run_frame_interpolation()\n\u001b[32m--> \u001b[39m\u001b[32m774\u001b[39m pixels_lat, pixels_lon, _ = \u001b[43mdirect_georeference\u001b[49m\u001b[43m(\u001b[49m\u001b[43mframepose_data\u001b[49m\u001b[43m=\u001b[49m\u001b[38;5;28;43mself\u001b[39;49m\u001b[43m.\u001b[49m\u001b[43mframepose\u001b[49m\u001b[43m,\u001b[49m\n\u001b[32m    775\u001b[39m \u001b[43m                                                \u001b[49m\u001b[43mimage_height\u001b[49m\u001b[43m=\u001b[49m\u001b[38;5;28;43mself\u001b[39;49m\u001b[43m.\u001b[49m\u001b[43mimage_height\u001b[49m\u001b[43m,\u001b[49m\n\u001b[32m    776\u001b[39m \u001b[43m                                                \u001b[49m\u001b[43maoi_offset\u001b[49m\u001b[43m=\u001b[49m\u001b[38;5;28;43mself\u001b[39;49m\u001b[43m.\u001b[49m\u001b[43my_start\u001b[49m\u001b[43m,\u001b[49m\n\u001b[32m    777\u001b[39m \u001b[43m                                                \u001b[49m\u001b[43mverbose\u001b[49m\u001b[43m=\u001b[49m\u001b[38;5;28;43mself\u001b[39;49m\u001b[43m.\u001b[49m\u001b[43mVERBOSE\u001b[49m\n\u001b[32m    778\u001b[39m \u001b[43m                                                \u001b[49m\u001b[43m)\u001b[49m\n\u001b[32m    780\u001b[39m \u001b[38;5;28;01mif\u001b[39;00m \u001b[38;5;28mtype\u001b[39m(pixels_lat) == \u001b[38;5;28mint\u001b[39m \u001b[38;5;129;01mand\u001b[39;00m \u001b[38;5;28mtype\u001b[39m(pixels_lon) == \u001b[38;5;28mint\u001b[39m:\n\u001b[32m    781\u001b[39m     \u001b[38;5;28;01mif\u001b[39;00m \u001b[38;5;28mself\u001b[39m.VERBOSE:\n",
      "\u001b[36mFile \u001b[39m\u001b[32m~/anaconda3/envs/hypso-env/lib/python3.11/site-packages/hypso/geometry/geometry.py:254\u001b[39m, in \u001b[36mdirect_georeference\u001b[39m\u001b[34m(framepose_data, image_height, aoi_offset, verbose)\u001b[39m\n\u001b[32m    252\u001b[39m \u001b[38;5;66;03m# Converting ITRS astropy to numpy arrays\u001b[39;00m\n\u001b[32m    253\u001b[39m body_x_itrs[i, :] = np.array([body_x_astropy_itrs.earth_location.value[\u001b[32m0\u001b[39m], body_x_astropy_itrs.earth_location.value[\u001b[32m1\u001b[39m], body_x_astropy_itrs.earth_location.value[\u001b[32m2\u001b[39m]])\n\u001b[32m--> \u001b[39m\u001b[32m254\u001b[39m body_z_itrs[i, :] = np.array([body_z_astropy_itrs.earth_location.value[\u001b[32m0\u001b[39m], body_z_astropy_itrs.earth_location.value[\u001b[32m1\u001b[39m], \u001b[43mbody_z_astropy_itrs\u001b[49m\u001b[43m.\u001b[49m\u001b[43mearth_location\u001b[49m.value[\u001b[32m2\u001b[39m]])\n\u001b[32m    255\u001b[39m campos_itrs[i, :] = np.array([pos_astropy_itrs.earth_location.value[\u001b[32m0\u001b[39m], pos_astropy_itrs.earth_location.value[\u001b[32m1\u001b[39m], pos_astropy_itrs.earth_location.value[\u001b[32m2\u001b[39m]])\n\u001b[32m    257\u001b[39m \u001b[38;5;66;03m# Comments about orientations and reference frames and stuff:\u001b[39;00m\n\u001b[32m    258\u001b[39m \u001b[38;5;66;03m# For dayside captures, the HYPSO-1 and 2 satellite is moving ca. north to south.\u001b[39;00m\n\u001b[32m    259\u001b[39m \u001b[38;5;66;03m# Looking at raw data, \u001b[39;00m\n\u001b[32m   (...)\u001b[39m\u001b[32m    266\u001b[39m \u001b[38;5;66;03m# - get top pixel direction by rotating center view (ca. +z axis) around +x axis with positive angle\u001b[39;00m\n\u001b[32m    267\u001b[39m \u001b[38;5;66;03m# - get bottom pixel direction is rotation with negative angle\u001b[39;00m\n",
      "\u001b[36mFile \u001b[39m\u001b[32m~/anaconda3/envs/hypso-env/lib/python3.11/site-packages/astropy/coordinates/builtin_frames/itrs.py:88\u001b[39m, in \u001b[36mITRS.earth_location\u001b[39m\u001b[34m(self)\u001b[39m\n\u001b[32m     82\u001b[39m \u001b[38;5;28;01mfrom\u001b[39;00m\u001b[38;5;250m \u001b[39m\u001b[34;01mastropy\u001b[39;00m\u001b[34;01m.\u001b[39;00m\u001b[34;01mcoordinates\u001b[39;00m\u001b[34;01m.\u001b[39;00m\u001b[34;01mearth\u001b[39;00m\u001b[38;5;250m \u001b[39m\u001b[38;5;28;01mimport\u001b[39;00m EarthLocation\n\u001b[32m     84\u001b[39m cart = \u001b[38;5;28mself\u001b[39m.represent_as(CartesianRepresentation)\n\u001b[32m     85\u001b[39m \u001b[38;5;28;01mreturn\u001b[39;00m EarthLocation(\n\u001b[32m     86\u001b[39m     x=cart.x + \u001b[38;5;28mself\u001b[39m.location.x,\n\u001b[32m     87\u001b[39m     y=cart.y + \u001b[38;5;28mself\u001b[39m.location.y,\n\u001b[32m---> \u001b[39m\u001b[32m88\u001b[39m     z=cart.z + \u001b[38;5;28;43mself\u001b[39;49m\u001b[43m.\u001b[49m\u001b[43mlocation\u001b[49m\u001b[43m.\u001b[49m\u001b[43mz\u001b[49m,\n\u001b[32m     89\u001b[39m )\n",
      "\u001b[36mFile \u001b[39m\u001b[32m~/anaconda3/envs/hypso-env/lib/python3.11/site-packages/astropy/coordinates/earth.py:888\u001b[39m, in \u001b[36mEarthLocation.z\u001b[39m\u001b[34m(self)\u001b[39m\n\u001b[32m    885\u001b[39m \u001b[38;5;129m@property\u001b[39m\n\u001b[32m    886\u001b[39m \u001b[38;5;28;01mdef\u001b[39;00m\u001b[38;5;250m \u001b[39m\u001b[34mz\u001b[39m(\u001b[38;5;28mself\u001b[39m):\n\u001b[32m    887\u001b[39m \u001b[38;5;250m    \u001b[39m\u001b[33;03m\"\"\"The Z component of the geocentric coordinates.\"\"\"\u001b[39;00m\n\u001b[32m--> \u001b[39m\u001b[32m888\u001b[39m     \u001b[38;5;28;01mreturn\u001b[39;00m \u001b[38;5;28;43mself\u001b[39;49m\u001b[43m[\u001b[49m\u001b[33;43m\"\u001b[39;49m\u001b[33;43mz\u001b[39;49m\u001b[33;43m\"\u001b[39;49m\u001b[43m]\u001b[49m\n",
      "\u001b[36mFile \u001b[39m\u001b[32m~/anaconda3/envs/hypso-env/lib/python3.11/site-packages/astropy/coordinates/earth.py:891\u001b[39m, in \u001b[36mEarthLocation.__getitem__\u001b[39m\u001b[34m(self, item)\u001b[39m\n\u001b[32m    890\u001b[39m \u001b[38;5;28;01mdef\u001b[39;00m\u001b[38;5;250m \u001b[39m\u001b[34m__getitem__\u001b[39m(\u001b[38;5;28mself\u001b[39m, item):\n\u001b[32m--> \u001b[39m\u001b[32m891\u001b[39m     result = \u001b[38;5;28;43msuper\u001b[39;49m\u001b[43m(\u001b[49m\u001b[43m)\u001b[49m\u001b[43m.\u001b[49m\u001b[34;43m__getitem__\u001b[39;49m\u001b[43m(\u001b[49m\u001b[43mitem\u001b[49m\u001b[43m)\u001b[49m\n\u001b[32m    892\u001b[39m     \u001b[38;5;28;01mif\u001b[39;00m result.dtype \u001b[38;5;129;01mis\u001b[39;00m \u001b[38;5;28mself\u001b[39m.dtype:\n\u001b[32m    893\u001b[39m         \u001b[38;5;28;01mreturn\u001b[39;00m result.view(\u001b[38;5;28mself\u001b[39m.\u001b[34m__class__\u001b[39m)\n",
      "\u001b[36mFile \u001b[39m\u001b[32m~/anaconda3/envs/hypso-env/lib/python3.11/site-packages/astropy/units/quantity.py:1281\u001b[39m, in \u001b[36mQuantity.__getitem__\u001b[39m\u001b[34m(self, key)\u001b[39m\n\u001b[32m   1276\u001b[39m     \u001b[38;5;28;01mreturn\u001b[39;00m \u001b[38;5;28mself\u001b[39m._new_view(\n\u001b[32m   1277\u001b[39m         \u001b[38;5;28mself\u001b[39m.view(np.ndarray)[key], \u001b[38;5;28mself\u001b[39m.unit[key], propagate_info=\u001b[38;5;28;01mFalse\u001b[39;00m\n\u001b[32m   1278\u001b[39m     )\n\u001b[32m   1280\u001b[39m \u001b[38;5;28;01mtry\u001b[39;00m:\n\u001b[32m-> \u001b[39m\u001b[32m1281\u001b[39m     out = \u001b[38;5;28;43msuper\u001b[39;49m\u001b[43m(\u001b[49m\u001b[43m)\u001b[49m\u001b[43m.\u001b[49m\u001b[34;43m__getitem__\u001b[39;49m\u001b[43m(\u001b[49m\u001b[43mkey\u001b[49m\u001b[43m)\u001b[49m\n\u001b[32m   1282\u001b[39m \u001b[38;5;28;01mexcept\u001b[39;00m \u001b[38;5;167;01mIndexError\u001b[39;00m:\n\u001b[32m   1283\u001b[39m     \u001b[38;5;66;03m# We want zero-dimensional Quantity objects to behave like scalars,\u001b[39;00m\n\u001b[32m   1284\u001b[39m     \u001b[38;5;66;03m# so they should raise a TypeError rather than an IndexError.\u001b[39;00m\n\u001b[32m   1285\u001b[39m     \u001b[38;5;28;01mif\u001b[39;00m \u001b[38;5;28mself\u001b[39m.isscalar:\n",
      "\u001b[36mFile \u001b[39m\u001b[32m~/anaconda3/envs/hypso-env/lib/python3.11/site-packages/astropy/coordinates/earth.py:898\u001b[39m, in \u001b[36mEarthLocation.__array_finalize__\u001b[39m\u001b[34m(self, obj)\u001b[39m\n\u001b[32m    897\u001b[39m \u001b[38;5;28;01mdef\u001b[39;00m\u001b[38;5;250m \u001b[39m\u001b[34m__array_finalize__\u001b[39m(\u001b[38;5;28mself\u001b[39m, obj):\n\u001b[32m--> \u001b[39m\u001b[32m898\u001b[39m     \u001b[38;5;28;43msuper\u001b[39;49m\u001b[43m(\u001b[49m\u001b[43m)\u001b[49m\u001b[43m.\u001b[49m\u001b[43m__array_finalize__\u001b[49m\u001b[43m(\u001b[49m\u001b[43mobj\u001b[49m\u001b[43m)\u001b[49m\n\u001b[32m    899\u001b[39m     \u001b[38;5;28;01mif\u001b[39;00m \u001b[38;5;28mhasattr\u001b[39m(obj, \u001b[33m\"\u001b[39m\u001b[33m_ellipsoid\u001b[39m\u001b[33m\"\u001b[39m):\n\u001b[32m    900\u001b[39m         \u001b[38;5;28mself\u001b[39m._ellipsoid = obj._ellipsoid\n",
      "\u001b[36mFile \u001b[39m\u001b[32m~/anaconda3/envs/hypso-env/lib/python3.11/site-packages/astropy/units/quantity.py:565\u001b[39m, in \u001b[36mQuantity.__array_finalize__\u001b[39m\u001b[34m(self, obj)\u001b[39m\n\u001b[32m    560\u001b[39m     \u001b[38;5;28;01melse\u001b[39;00m:\n\u001b[32m    561\u001b[39m         \u001b[38;5;66;03m# here we had non-Quantity input that had a \"unit\" attribute\u001b[39;00m\n\u001b[32m    562\u001b[39m         \u001b[38;5;66;03m# with a unit different from the desired one.  So, convert.\u001b[39;00m\n\u001b[32m    563\u001b[39m         \u001b[38;5;28;01mreturn\u001b[39;00m value.to(unit)\n\u001b[32m--> \u001b[39m\u001b[32m565\u001b[39m \u001b[38;5;28;01mdef\u001b[39;00m\u001b[38;5;250m \u001b[39m\u001b[34m__array_finalize__\u001b[39m(\u001b[38;5;28mself\u001b[39m, obj):\n\u001b[32m    566\u001b[39m     \u001b[38;5;66;03m# Check whether super().__array_finalize should be called\u001b[39;00m\n\u001b[32m    567\u001b[39m     \u001b[38;5;66;03m# (sadly, ndarray.__array_finalize__ is None; we cannot be sure\u001b[39;00m\n\u001b[32m    568\u001b[39m     \u001b[38;5;66;03m# what is above us).\u001b[39;00m\n\u001b[32m    569\u001b[39m     super_array_finalize = \u001b[38;5;28msuper\u001b[39m().__array_finalize__\n\u001b[32m    570\u001b[39m     \u001b[38;5;28;01mif\u001b[39;00m super_array_finalize \u001b[38;5;129;01mis\u001b[39;00m \u001b[38;5;129;01mnot\u001b[39;00m \u001b[38;5;28;01mNone\u001b[39;00m:\n",
      "\u001b[31mKeyboardInterrupt\u001b[39m: "
     ]
    }
   ],
   "source": [
    "frohavet_path_0407 = os.path.join(dir_path, \"frohavet_2023-04-07T10-07-15Z-l1a.nc\")\n",
    "frohavet_path_0407_b = os.path.join(dir_path, \"frohavet_2023-04-07T10-07-15Z-l1b.nc\")\n",
    "frohavet_path_0407_c = os.path.join(dir_path, \"frohavet_2023-04-07T10-07-15Z-l1c.nc\")\n",
    "frohavet_path_0407_d = os.path.join(dir_path, \"frohavet_2023-04-07T10-07-15Z-l1d.nc\") \n",
    "\n",
    "satobj_h1_0407 = Hypso1( path = frohavet_path_0407, verbose = True )\n",
    "\n",
    "l1a_cube_0407 = satobj_h1_0407.l1a_cube\n",
    "l1b_cube_0407 = Hypso1( path = frohavet_path_0407_b, verbose = True )\n",
    "l1c_cube_0407 = Hypso1( path = frohavet_path_0407_c, verbose = True )\n",
    "l1d_cube_0407 = Hypso1( path = frohavet_path_0407_d, verbose = True )\n",
    "\n",
    "l1c_cube_0407 = l1c_cube_0407.l1c_cube\n",
    "l1b_cube_0407 = l1b_cube_0407.l1b_cube\n",
    "l1d_cube_0407 = l1d_cube_0407.l1d_cube\n",
    "\n",
    "satobj_h1_0407.run_direct_georeferencing() # in order to get the longiyudes and latitude07"
   ]
  },
  {
   "cell_type": "code",
   "execution_count": null,
   "id": "be9624a3",
   "metadata": {},
   "outputs": [
    {
     "name": "stdout",
     "output_type": "stream",
     "text": [
      "[INFO] Loading L1a capture frohavet_2023-04-12T10-27-31Z\n",
      "[INFO] Capture spatial dimensions: (598, 1092)\n",
      "[INFO] Capture capture type: wide\n",
      "[INFO] Loading L1b capture frohavet_2023-04-12T10-27-31Z\n",
      "[INFO] Capture spatial dimensions: (598, 1092)\n",
      "[INFO] Capture capture type: wide\n",
      "[INFO] Loading L1c capture frohavet_2023-04-12T10-27-31Z\n",
      "[INFO] Capture spatial dimensions: (598, 1092)\n",
      "[INFO] Capture capture type: wide\n",
      "[INFO] Loading L1d capture frohavet_2023-04-12T10-27-31Z\n",
      "[INFO] Capture spatial dimensions: (598, 1092)\n",
      "[INFO] Capture capture type: wide\n",
      "[INFO] Running direct georeferencing...\n",
      "[INFO] ADCS samples: 1919\n",
      "[INFO] ADCS time range: 1681294560.000000 to 1681295482.750000\n",
      "[INFO] Frame time range: 1681295251.796884 to 1681295301.546884\n",
      "[INFO] 199 sample(s) inside frame time range\n",
      "[INFO] Interpolating 598 frames\n",
      "[INFO] Computing pixel latitude and longitude coordinates ...\n",
      "[INFO] Interpolating pixel coordinate gaps...\n",
      "[INFO] Direct georeferencing done\n",
      "[INFO] Running track geometry computations...\n",
      "[INFO] Using UTM map: WGS 84 / UTM zone 32N EPSG: 32632\n",
      "[INFO] Track geometry computations done.\n",
      "[INFO] Running angles geometry computations...\n",
      "[INFO] Computing local angles (sun and satellite azimuth and zenith angles) ...\n",
      "[INFO] Using astropy on a subsampling of pixels ... (TODO skyfield may be faster)\n",
      "[INFO] Interpolating the rest of the pixels ...\n",
      "[INFO] Computing local angles done\n",
      "[INFO] Angles geometry computations done.\n"
     ]
    }
   ],
   "source": [
    "frohavet_path_0412 = os.path.join(dir_path, \"frohavet_2023-04-12T10-27-31Z-l1a.nc\")\n",
    "frohavet_path_0412_b = os.path.join(dir_path, \"frohavet_2023-04-12T10-27-31Z-l1b.nc\")\n",
    "frohavet_path_0412_c = os.path.join(dir_path, \"frohavet_2023-04-12T10-27-31Z-l1c.nc\")\n",
    "frohavet_path_0412_d = os.path.join(dir_path, \"frohavet_2023-04-12T10-27-31Z-l1d.nc\") \n",
    "\n",
    "satobj_h1_0412 = Hypso1( path = frohavet_path_0412, verbose = True )\n",
    "\n",
    "l1a_cube_0412 = satobj_h1_0412.l1a_cube\n",
    "l1b_cube_0412 = Hypso1( path = frohavet_path_0412_b, verbose = True )\n",
    "l1c_cube_0412 = Hypso1( path = frohavet_path_0412_c, verbose = True )\n",
    "l1d_cube_0412 = Hypso1( path = frohavet_path_0412_d, verbose = True )\n",
    "\n",
    "l1c_cube_0412 = l1c_cube_0412.l1c_cube\n",
    "l1b_cube_0412 = l1b_cube_0412.l1b_cube\n",
    "l1d_cube_0412 = l1d_cube_0412.l1d_cube\n",
    "\n",
    "satobj_h1_0412.run_direct_georeferencing() # in order to get the longiyudes and latitudes "
   ]
  },
  {
   "cell_type": "code",
   "execution_count": null,
   "id": "274034c8",
   "metadata": {},
   "outputs": [
    {
     "name": "stdout",
     "output_type": "stream",
     "text": [
      "[INFO] Loading L1a capture frohavet_2023-06-14T10-03-05Z\n",
      "[INFO] Capture spatial dimensions: (598, 1092)\n",
      "[INFO] Capture capture type: wide\n",
      "[INFO] Loading L1b capture frohavet_2023-06-14T10-03-05Z\n",
      "[INFO] Capture spatial dimensions: (598, 1092)\n",
      "[INFO] Capture capture type: wide\n",
      "[INFO] Loading L1c capture frohavet_2023-06-14T10-03-05Z\n",
      "[INFO] Capture spatial dimensions: (598, 1092)\n",
      "[INFO] Capture capture type: wide\n",
      "[INFO] Loading L1d capture frohavet_2023-06-14T10-03-05Z\n",
      "[INFO] Capture spatial dimensions: (598, 1092)\n",
      "[INFO] Capture capture type: wide\n",
      "[INFO] Running direct georeferencing...\n",
      "[INFO] ADCS samples: 1914\n",
      "[INFO] ADCS time range: 1686736320.000000 to 1686737215.500000\n",
      "[INFO] Frame time range: 1686736985.690326 to 1686737035.440326\n",
      "[INFO] 199 sample(s) inside frame time range\n",
      "[INFO] Interpolating 598 frames\n",
      "[INFO] Computing pixel latitude and longitude coordinates ...\n",
      "[INFO] Interpolating pixel coordinate gaps...\n",
      "[INFO] Direct georeferencing done\n",
      "[INFO] Running track geometry computations...\n",
      "[INFO] Using UTM map: WGS 84 / UTM zone 32N EPSG: 32632\n",
      "[INFO] Track geometry computations done.\n",
      "[INFO] Running angles geometry computations...\n",
      "[INFO] Computing local angles (sun and satellite azimuth and zenith angles) ...\n",
      "[INFO] Using astropy on a subsampling of pixels ... (TODO skyfield may be faster)\n",
      "[INFO] Interpolating the rest of the pixels ...\n",
      "[INFO] Computing local angles done\n",
      "[INFO] Angles geometry computations done.\n"
     ]
    }
   ],
   "source": [
    "frohavet_path_0614 = os.path.join(dir_path, \"frohavet_2023-06-14T10-03-05Z-l1a.nc\")\n",
    "frohavet_path_0614_b = os.path.join(dir_path, \"frohavet_2023-06-14T10-03-05Z-l1b.nc\")\n",
    "frohavet_path_0614_c = os.path.join(dir_path, \"frohavet_2023-06-14T10-03-05Z-l1c.nc\")\n",
    "frohavet_path_0614_d = os.path.join(dir_path, \"frohavet_2023-06-14T10-03-05Z-l1d.nc\") \n",
    "\n",
    "satobj_h1_0614 = Hypso1( path = frohavet_path_0614, verbose = True )\n",
    "\n",
    "l1a_cube_0614 = satobj_h1_0614.l1a_cube\n",
    "l1b_cube_0614 = Hypso1( path = frohavet_path_0614_b, verbose = True )\n",
    "l1c_cube_0614 = Hypso1( path = frohavet_path_0614_c, verbose = True )\n",
    "l1d_cube_0614 = Hypso1( path = frohavet_path_0614_d, verbose = True )\n",
    "\n",
    "l1c_cube_0614 = l1c_cube_0614.l1c_cube\n",
    "l1b_cube_0614 = l1b_cube_0614.l1b_cube\n",
    "l1d_cube_0614 = l1d_cube_0614.l1d_cube\n",
    "\n",
    "satobj_h1_0614.run_direct_georeferencing() # in order to get the longiyudes and latitudes "
   ]
  },
  {
   "cell_type": "code",
   "execution_count": null,
   "id": "9305d716",
   "metadata": {},
   "outputs": [
    {
     "name": "stdout",
     "output_type": "stream",
     "text": [
      "[INFO] Loading L1a capture frohavet_2023-07-30T10-17-47Z\n",
      "[INFO] Capture spatial dimensions: (598, 1092)\n",
      "[INFO] Capture capture type: wide\n",
      "[INFO] Loading L1b capture frohavet_2023-07-30T10-17-47Z\n",
      "[INFO] Capture spatial dimensions: (598, 1092)\n",
      "[INFO] Capture capture type: wide\n",
      "[INFO] Loading L1c capture frohavet_2023-07-30T10-17-47Z\n",
      "[INFO] Capture spatial dimensions: (598, 1092)\n",
      "[INFO] Capture capture type: wide\n",
      "[INFO] Loading L1d capture frohavet_2023-07-30T10-17-47Z\n",
      "[INFO] Capture spatial dimensions: (598, 1092)\n",
      "[INFO] Capture capture type: wide\n",
      "[INFO] Running direct georeferencing...\n",
      "[INFO] ADCS samples: 1911\n",
      "[INFO] ADCS time range: 1690711620.000000 to 1690712497.250000\n",
      "[INFO] Frame time range: 1690712267.271759 to 1690712317.021759\n",
      "[INFO] 199 sample(s) inside frame time range\n",
      "[INFO] Interpolating 598 frames\n",
      "[INFO] Computing pixel latitude and longitude coordinates ...\n",
      "[INFO] Interpolating pixel coordinate gaps...\n",
      "[INFO] Direct georeferencing done\n",
      "[INFO] Running track geometry computations...\n",
      "[INFO] Using UTM map: WGS 84 / UTM zone 32N EPSG: 32632\n",
      "[INFO] Track geometry computations done.\n",
      "[INFO] Running angles geometry computations...\n",
      "[INFO] Computing local angles (sun and satellite azimuth and zenith angles) ...\n",
      "[INFO] Using astropy on a subsampling of pixels ... (TODO skyfield may be faster)\n",
      "[INFO] Interpolating the rest of the pixels ...\n",
      "[INFO] Computing local angles done\n",
      "[INFO] Angles geometry computations done.\n"
     ]
    }
   ],
   "source": [
    "frohavet_path_0730 = os.path.join(dir_path, \"frohavet_2023-07-30T10-17-47Z-l1a.nc\")\n",
    "frohavet_path_0730_b = os.path.join(dir_path, \"frohavet_2023-07-30T10-17-47Z-l1b.nc\")\n",
    "frohavet_path_0730_c = os.path.join(dir_path, \"frohavet_2023-07-30T10-17-47Z-l1c.nc\")\n",
    "frohavet_path_0730_d = os.path.join(dir_path, \"frohavet_2023-07-30T10-17-47Z-l1d.nc\") \n",
    "\n",
    "satobj_h1_0730 = Hypso1( path = frohavet_path_0730, verbose = True )\n",
    "\n",
    "l1a_cube_0730 = satobj_h1_0730.l1a_cube\n",
    "l1b_cube_0730 = Hypso1( path = frohavet_path_0730_b, verbose = True )\n",
    "l1c_cube_0730 = Hypso1( path = frohavet_path_0730_c, verbose = True )\n",
    "l1d_cube_0730 = Hypso1( path = frohavet_path_0730_d, verbose = True )\n",
    "\n",
    "l1c_cube_0730 = l1c_cube_0730.l1c_cube\n",
    "l1b_cube_0730 = l1b_cube_0730.l1b_cube\n",
    "l1d_cube_0730 = l1d_cube_0730.l1d_cube\n",
    "\n",
    "satobj_h1_0730.run_direct_georeferencing() # in order to get the longiyudes and latitudes "
   ]
  },
  {
   "cell_type": "code",
   "execution_count": null,
   "id": "e93ade7f",
   "metadata": {},
   "outputs": [
    {
     "name": "stdout",
     "output_type": "stream",
     "text": [
      "[INFO] Loading L1a capture frohavet_2024-03-10T10-15-40Z\n",
      "[INFO] Capture spatial dimensions: (598, 1092)\n",
      "[INFO] Capture capture type: wide\n",
      "[INFO] Loading L1b capture frohavet_2024-03-10T10-15-40Z\n",
      "[INFO] Capture spatial dimensions: (598, 1092)\n",
      "[INFO] Capture capture type: wide\n",
      "[INFO] Loading L1c capture frohavet_2024-03-10T10-15-40Z\n",
      "[INFO] Capture spatial dimensions: (598, 1092)\n",
      "[INFO] Capture capture type: wide\n",
      "[INFO] Loading L1d capture frohavet_2024-03-10T10-15-40Z\n",
      "[INFO] Capture spatial dimensions: (598, 1092)\n",
      "[INFO] Capture capture type: wide\n",
      "[INFO] Running direct georeferencing...\n",
      "[INFO] ADCS samples: 430\n",
      "[INFO] ADCS time range: 1710065040.000000 to 1710066000.000000\n",
      "[INFO] Frame time range: 1710065740.143331 to 1710065789.893331\n",
      "[INFO] 199 sample(s) inside frame time range\n",
      "[INFO] Interpolating 598 frames\n",
      "[INFO] Computing pixel latitude and longitude coordinates ...\n",
      "[INFO] Interpolating pixel coordinate gaps...\n",
      "[INFO] Direct georeferencing done\n",
      "[INFO] Running track geometry computations...\n",
      "[INFO] Using UTM map: WGS 84 / UTM zone 33N EPSG: 32633\n",
      "[INFO] Track geometry computations done.\n",
      "[INFO] Running angles geometry computations...\n",
      "[INFO] Computing local angles (sun and satellite azimuth and zenith angles) ...\n",
      "[INFO] Using astropy on a subsampling of pixels ... (TODO skyfield may be faster)\n",
      "[INFO] Interpolating the rest of the pixels ...\n",
      "[INFO] Computing local angles done\n",
      "[INFO] Angles geometry computations done.\n"
     ]
    }
   ],
   "source": [
    "frohavet_path_24_0310 = os.path.join(dir_path, \"frohavet_2024-03-10T10-15-40Z-l1a.nc\")\n",
    "frohavet_path_24_0310_b = os.path.join(dir_path, \"frohavet_2024-03-10T10-15-40Z-l1b.nc\")\n",
    "frohavet_path_24_0310_c = os.path.join(dir_path, \"frohavet_2024-03-10T10-15-40Z-l1c.nc\")\n",
    "frohavet_path_24_0310_d = os.path.join(dir_path, \"frohavet_2024-03-10T10-15-40Z-l1d.nc\")\n",
    "\n",
    "satobj_h1_24_0310 = Hypso1( path = frohavet_path_24_0310, verbose = True )\n",
    "\n",
    "l1a_cube_24_0310 = satobj_h1_24_0310.l1a_cube\n",
    "l1b_cube_24_0310 = Hypso1( path = frohavet_path_24_0310_b, verbose = True )\n",
    "l1c_cube_24_0310 = Hypso1( path = frohavet_path_24_0310_c, verbose = True )\n",
    "l1d_cube_24_0310 = Hypso1( path = frohavet_path_24_0310_d, verbose = True )\n",
    "\n",
    "l1c_cube_24_0310 = l1c_cube_24_0310.l1c_cube\n",
    "l1b_cube_24_0310 = l1b_cube_24_0310.l1b_cube\n",
    "l1d_cube_24_0310 = l1d_cube_24_0310.l1d_cube\n",
    "\n",
    "satobj_h1_24_0310.run_direct_georeferencing() # in order to get the longiyudes and latitudes "
   ]
  },
  {
   "cell_type": "code",
   "execution_count": null,
   "id": "95a8bada",
   "metadata": {},
   "outputs": [
    {
     "name": "stdout",
     "output_type": "stream",
     "text": [
      "[INFO] Loading L1a capture frohavet_2024-04-19T10-14-21Z\n",
      "[INFO] Capture spatial dimensions: (598, 1092)\n",
      "[INFO] Capture capture type: wide\n",
      "[INFO] Loading L1b capture frohavet_2024-04-19T10-14-21Z\n",
      "[INFO] Capture spatial dimensions: (598, 1092)\n",
      "[INFO] Capture capture type: wide\n",
      "[INFO] Loading L1c capture frohavet_2024-04-19T10-14-21Z\n",
      "[INFO] Capture spatial dimensions: (598, 1092)\n",
      "[INFO] Capture capture type: wide\n",
      "[INFO] Loading L1d capture frohavet_2024-04-19T10-14-21Z\n",
      "[INFO] Capture spatial dimensions: (598, 1092)\n",
      "[INFO] Capture capture type: wide\n",
      "[INFO] Running direct georeferencing...\n",
      "[INFO] ADCS samples: 431\n",
      "[INFO] ADCS time range: 1713520980.000000 to 1713521940.000000\n",
      "[INFO] Frame time range: 1713521661.048052 to 1713521710.798052\n",
      "[INFO] 199 sample(s) inside frame time range\n",
      "[INFO] Interpolating 598 frames\n",
      "[INFO] Computing pixel latitude and longitude coordinates ...\n",
      "[INFO] Interpolating pixel coordinate gaps...\n",
      "[INFO] Direct georeferencing done\n",
      "[INFO] Running track geometry computations...\n",
      "[INFO] Using UTM map: WGS 84 / UTM zone 32N EPSG: 32632\n",
      "[INFO] Track geometry computations done.\n",
      "[INFO] Running angles geometry computations...\n",
      "[INFO] Computing local angles (sun and satellite azimuth and zenith angles) ...\n",
      "[INFO] Using astropy on a subsampling of pixels ... (TODO skyfield may be faster)\n",
      "[INFO] Interpolating the rest of the pixels ...\n",
      "[INFO] Computing local angles done\n",
      "[INFO] Angles geometry computations done.\n"
     ]
    }
   ],
   "source": [
    "trondheim_path_24_0419 = os.path.join(dir_path, \"frohavet_2024-04-19T10-14-21Z-l1a.nc\")\n",
    "trondheim_path_24_0419_b = os.path.join(dir_path, \"frohavet_2024-04-19T10-14-21Z-l1b.nc\")\n",
    "trondheim_path_24_0419_c = os.path.join(dir_path, \"frohavet_2024-04-19T10-14-21Z-l1c.nc\")\n",
    "trondheim_path_24_0419_d = os.path.join(dir_path, \"frohavet_2024-04-19T10-14-21Z-l1d.nc\") \n",
    "\n",
    "satobj_h1_24_0419 = Hypso1( path = trondheim_path_24_0419, verbose = True )\n",
    "\n",
    "l1a_cube_24_0419 = satobj_h1_24_0419.l1a_cube\n",
    "l1b_cube_24_0419 = Hypso1( path = trondheim_path_24_0419_b, verbose = True )\n",
    "l1c_cube_24_0419 = Hypso1( path = trondheim_path_24_0419_c, verbose = True )\n",
    "l1d_cube_24_0419 = Hypso1( path = trondheim_path_24_0419_d, verbose = True )\n",
    "\n",
    "l1b_cube_24_0419 = l1b_cube_24_0419.l1c_cube\n",
    "l1c_cube_24_0419 = l1c_cube_24_0419.l1b_cube\n",
    "l1d_cube_24_0419 = l1d_cube_24_0419.l1d_cube\n",
    "\n",
    "satobj_h1_24_0419.run_direct_georeferencing() # in order to get the longiyudes and latitudes  "
   ]
  },
  {
   "cell_type": "code",
   "execution_count": null,
   "id": "ceaf01a6",
   "metadata": {},
   "outputs": [
    {
     "name": "stdout",
     "output_type": "stream",
     "text": [
      "[INFO] Loading L1a capture frohavet_2024-04-26T10-49-41Z\n",
      "[INFO] Capture spatial dimensions: (598, 1092)\n",
      "[INFO] Capture capture type: wide\n",
      "[INFO] Loading L1b capture frohavet_2024-04-26T10-49-41Z\n",
      "[INFO] Capture spatial dimensions: (598, 1092)\n",
      "[INFO] Capture capture type: wide\n",
      "[INFO] Loading L1c capture frohavet_2024-04-26T10-49-41Z\n",
      "[INFO] Capture spatial dimensions: (598, 1092)\n",
      "[INFO] Capture capture type: wide\n",
      "[INFO] Loading L1d capture frohavet_2024-04-26T10-49-41Z\n",
      "[INFO] Capture spatial dimensions: (598, 1092)\n",
      "[INFO] Capture capture type: wide\n",
      "[INFO] Running direct georeferencing...\n",
      "[INFO] ADCS samples: 429\n",
      "[INFO] ADCS time range: 1714127940.000000 to 1714128840.000000\n",
      "[INFO] Frame time range: 1714128581.185500 to 1714128630.935500\n",
      "[INFO] 199 sample(s) inside frame time range\n",
      "[INFO] Interpolating 598 frames\n",
      "[INFO] Computing pixel latitude and longitude coordinates ...\n",
      "[INFO] Interpolating pixel coordinate gaps...\n",
      "[INFO] Direct georeferencing done\n",
      "[INFO] Running track geometry computations...\n",
      "[INFO] Using UTM map: WGS 84 / UTM zone 32N EPSG: 32632\n",
      "[INFO] Track geometry computations done.\n",
      "[INFO] Running angles geometry computations...\n",
      "[INFO] Computing local angles (sun and satellite azimuth and zenith angles) ...\n",
      "[INFO] Using astropy on a subsampling of pixels ... (TODO skyfield may be faster)\n",
      "[INFO] Interpolating the rest of the pixels ...\n",
      "[INFO] Computing local angles done\n",
      "[INFO] Angles geometry computations done.\n"
     ]
    }
   ],
   "source": [
    "trondheim_path_24_0426 = os.path.join(dir_path, \"frohavet_2024-04-26T10-49-41Z-l1a.nc\")\n",
    "trondheim_path_24_0426_b = os.path.join(dir_path, \"frohavet_2024-04-26T10-49-41Z-l1b.nc\")\n",
    "trondheim_path_24_0426_c = os.path.join(dir_path, \"frohavet_2024-04-26T10-49-41Z-l1c.nc\")\n",
    "trondheim_path_24_0426_d = os.path.join(dir_path, \"frohavet_2024-04-26T10-49-41Z-l1d.nc\")\n",
    "\n",
    "satobj_h1_24_0426 = Hypso1( path = trondheim_path_24_0426, verbose = True )\n",
    "\n",
    "l1a_cube_24_0426 = satobj_h1_24_0426.l1a_cube\n",
    "l1b_cube_24_0426 = Hypso1( path = trondheim_path_24_0426_b, verbose = True )\n",
    "l1c_cube_24_0426 = Hypso1( path = trondheim_path_24_0426_c, verbose = True )\n",
    "l1d_cube_24_0426 = Hypso1( path = trondheim_path_24_0426_d, verbose = True )\n",
    "\n",
    "l1b_cube_24_0426 = l1b_cube_24_0426.l1c_cube\n",
    "l1c_cube_24_0426 = l1c_cube_24_0426.l1b_cube\n",
    "l1d_cube_24_0426 = l1d_cube_24_0426.l1d_cube\n",
    "\n",
    "satobj_h1_24_0426.run_direct_georeferencing() # in order to get the longiyudes and latitudes "
   ]
  },
  {
   "cell_type": "code",
   "execution_count": null,
   "id": "5b03fa43",
   "metadata": {},
   "outputs": [
    {
     "name": "stdout",
     "output_type": "stream",
     "text": [
      "[INFO] Loading L1a capture frohavet_2024-04-19T10-14-21Z\n",
      "[INFO] Capture spatial dimensions: (598, 1092)\n",
      "[INFO] Capture capture type: wide\n",
      "[INFO] Loading L1b capture frohavet_2024-04-19T10-14-21Z\n",
      "[INFO] Capture spatial dimensions: (598, 1092)\n",
      "[INFO] Capture capture type: wide\n",
      "[INFO] Loading L1c capture frohavet_2024-04-19T10-14-21Z\n",
      "[INFO] Capture spatial dimensions: (598, 1092)\n",
      "[INFO] Capture capture type: wide\n",
      "[INFO] Loading L1d capture frohavet_2024-04-19T10-14-21Z\n",
      "[INFO] Capture spatial dimensions: (598, 1092)\n",
      "[INFO] Capture capture type: wide\n",
      "[INFO] Running direct georeferencing...\n",
      "[INFO] ADCS samples: 431\n",
      "[INFO] ADCS time range: 1713520980.000000 to 1713521940.000000\n",
      "[INFO] Frame time range: 1713521661.048052 to 1713521710.798052\n",
      "[INFO] 199 sample(s) inside frame time range\n",
      "[INFO] Interpolating 598 frames\n",
      "[INFO] Computing pixel latitude and longitude coordinates ...\n",
      "[INFO] Interpolating pixel coordinate gaps...\n",
      "[INFO] Direct georeferencing done\n",
      "[INFO] Running track geometry computations...\n",
      "[INFO] Using UTM map: WGS 84 / UTM zone 32N EPSG: 32632\n",
      "[INFO] Track geometry computations done.\n",
      "[INFO] Running angles geometry computations...\n",
      "[INFO] Computing local angles (sun and satellite azimuth and zenith angles) ...\n",
      "[INFO] Using astropy on a subsampling of pixels ... (TODO skyfield may be faster)\n",
      "[INFO] Interpolating the rest of the pixels ...\n",
      "[INFO] Computing local angles done\n",
      "[INFO] Angles geometry computations done.\n"
     ]
    }
   ],
   "source": [
    "frohavet_path_24_0419 = os.path.join(dir_path, \"frohavet_2024-04-19T10-14-21Z-l1a.nc\") \n",
    "frohavet_path_24_0419_b = os.path.join(dir_path, \"frohavet_2024-04-19T10-14-21Z-l1b.nc\")\n",
    "frohavet_path_24_0419_c = os.path.join(dir_path, \"frohavet_2024-04-19T10-14-21Z-l1c.nc\")\n",
    "frohavet_path_24_0419_d = os.path.join(dir_path, \"frohavet_2024-04-19T10-14-21Z-l1d.nc\") ####### DUPLIKAT????\n",
    "\n",
    "satobj_h1_24_0419 = Hypso1( path = frohavet_path_24_0419, verbose = True )\n",
    "\n",
    "l1a_cube_24_0419 = satobj_h1_24_0419.l1a_cube\n",
    "l1b_cube_24_0419 = Hypso1( path = frohavet_path_24_0419_b, verbose = True )\n",
    "l1c_cube_24_0419 = Hypso1( path = frohavet_path_24_0419_c, verbose = True )\n",
    "l1d_cube_24_0419 = Hypso1( path = frohavet_path_24_0419_d, verbose = True )\n",
    "\n",
    "l1c_cube_24_0419 = l1c_cube_24_0419.l1c_cube\n",
    "l1b_cube_24_0419 = l1b_cube_24_0419.l1b_cube\n",
    "l1d_cube_24_0419 = l1d_cube_24_0419.l1d_cube\n",
    "\n",
    "satobj_h1_24_0419.run_direct_georeferencing() # in order to get the longiyudes and latitudes"
   ]
  },
  {
   "cell_type": "code",
   "execution_count": null,
   "id": "205a5981",
   "metadata": {},
   "outputs": [
    {
     "name": "stdout",
     "output_type": "stream",
     "text": [
      "[INFO] Loading L1a capture frohavet_2024-04-26T10-49-41Z\n",
      "[INFO] Capture spatial dimensions: (598, 1092)\n",
      "[INFO] Capture capture type: wide\n",
      "[INFO] Loading L1b capture frohavet_2024-04-26T10-49-41Z\n",
      "[INFO] Capture spatial dimensions: (598, 1092)\n",
      "[INFO] Capture capture type: wide\n",
      "[INFO] Loading L1c capture frohavet_2024-04-26T10-49-41Z\n",
      "[INFO] Capture spatial dimensions: (598, 1092)\n",
      "[INFO] Capture capture type: wide\n",
      "[INFO] Loading L1d capture frohavet_2024-04-26T10-49-41Z\n",
      "[INFO] Capture spatial dimensions: (598, 1092)\n",
      "[INFO] Capture capture type: wide\n",
      "[INFO] Running direct georeferencing...\n",
      "[INFO] ADCS samples: 429\n",
      "[INFO] ADCS time range: 1714127940.000000 to 1714128840.000000\n",
      "[INFO] Frame time range: 1714128581.185500 to 1714128630.935500\n",
      "[INFO] 199 sample(s) inside frame time range\n",
      "[INFO] Interpolating 598 frames\n",
      "[INFO] Computing pixel latitude and longitude coordinates ...\n",
      "[INFO] Interpolating pixel coordinate gaps...\n",
      "[INFO] Direct georeferencing done\n",
      "[INFO] Running track geometry computations...\n",
      "[INFO] Using UTM map: WGS 84 / UTM zone 32N EPSG: 32632\n",
      "[INFO] Track geometry computations done.\n",
      "[INFO] Running angles geometry computations...\n",
      "[INFO] Computing local angles (sun and satellite azimuth and zenith angles) ...\n",
      "[INFO] Using astropy on a subsampling of pixels ... (TODO skyfield may be faster)\n",
      "[INFO] Interpolating the rest of the pixels ...\n",
      "[INFO] Computing local angles done\n",
      "[INFO] Angles geometry computations done.\n"
     ]
    }
   ],
   "source": [
    "frohavet_path_24_0426 = os.path.join(dir_path, \"frohavet_2024-04-26T10-49-41Z-l1a.nc\")\n",
    "frohavet_path_24_0426_b = os.path.join(dir_path, \"frohavet_2024-04-26T10-49-41Z-l1b.nc\")\n",
    "frohavet_path_24_0426_c = os.path.join(dir_path, \"frohavet_2024-04-26T10-49-41Z-l1c.nc\")\n",
    "frohavet_path_24_0426_d = os.path.join(dir_path, \"frohavet_2024-04-26T10-49-41Z-l1d.nc\")\n",
    "\n",
    "satobj_h1_24_0426 = Hypso1( path = frohavet_path_24_0426, verbose = True )\n",
    "\n",
    "l1a_cube_24_0426 = satobj_h1_24_0426.l1a_cube\n",
    "l1b_cube_24_0426 = Hypso1( path = frohavet_path_24_0426_b, verbose = True )\n",
    "l1c_cube_24_0426 = Hypso1( path = frohavet_path_24_0426_c, verbose = True )\n",
    "l1d_cube_24_0426 = Hypso1( path = frohavet_path_24_0426_d, verbose = True )\n",
    "\n",
    "l1c_cube_24_0426 = l1c_cube_24_0426.l1c_cube\n",
    "l1b_cube_24_0426 = l1b_cube_24_0426.l1b_cube\n",
    "l1d_cube_24_0426 = l1d_cube_24_0426.l1d_cube\n",
    "\n",
    "satobj_h1_24_0426.run_direct_georeferencing() "
   ]
  },
  {
   "cell_type": "code",
   "execution_count": null,
   "id": "dbdf4ec5",
   "metadata": {},
   "outputs": [
    {
     "name": "stdout",
     "output_type": "stream",
     "text": [
      "[INFO] Loading L1a capture frohavet_2024-05-06T10-17-39Z\n",
      "[INFO] Capture spatial dimensions: (598, 1092)\n",
      "[INFO] Capture capture type: wide\n",
      "[INFO] Loading L1b capture frohavet_2024-05-06T10-17-39Z\n",
      "[INFO] Capture spatial dimensions: (598, 1092)\n",
      "[INFO] Capture capture type: wide\n",
      "[INFO] Loading L1c capture frohavet_2024-05-06T10-17-39Z\n",
      "[INFO] Capture spatial dimensions: (598, 1092)\n",
      "[INFO] Capture capture type: wide\n",
      "[INFO] Loading L1d capture frohavet_2024-05-06T10-17-39Z\n",
      "[INFO] Capture spatial dimensions: (598, 1092)\n",
      "[INFO] Capture capture type: wide\n",
      "[INFO] Running direct georeferencing...\n",
      "[INFO] ADCS samples: 430\n",
      "[INFO] ADCS time range: 1714989960.000000 to 1714990920.000000\n",
      "[INFO] Frame time range: 1714990659.158018 to 1714990708.908018\n",
      "[INFO] 199 sample(s) inside frame time range\n",
      "[INFO] Interpolating 598 frames\n",
      "[INFO] Computing pixel latitude and longitude coordinates ...\n",
      "[INFO] Interpolating pixel coordinate gaps...\n",
      "[INFO] Direct georeferencing done\n",
      "[INFO] Running track geometry computations...\n",
      "[INFO] Using UTM map: WGS 84 / UTM zone 32N EPSG: 32632\n",
      "[INFO] Track geometry computations done.\n",
      "[INFO] Running angles geometry computations...\n",
      "[INFO] Computing local angles (sun and satellite azimuth and zenith angles) ...\n",
      "[INFO] Using astropy on a subsampling of pixels ... (TODO skyfield may be faster)\n",
      "[INFO] Interpolating the rest of the pixels ...\n",
      "[INFO] Computing local angles done\n",
      "[INFO] Angles geometry computations done.\n"
     ]
    }
   ],
   "source": [
    "frohavet_path_24_0506 = os.path.join(dir_path, \"frohavet_2024-05-06T10-17-39Z-l1a.nc\") \n",
    "frohavet_path_24_0506_b = os.path.join(dir_path, \"frohavet_2024-05-06T10-17-39Z-l1b.nc\")\n",
    "frohavet_path_24_0506_c = os.path.join(dir_path, \"frohavet_2024-05-06T10-17-39Z-l1c.nc\")\n",
    "frohavet_path_24_0506_d = os.path.join(dir_path, \"frohavet_2024-05-06T10-17-39Z-l1d.nc\") \n",
    "\n",
    "satobj_h1_24_0506 = Hypso1( path = frohavet_path_24_0506, verbose = True )\n",
    "\n",
    "l1a_cube_24_0506 = satobj_h1_0412.l1a_cube\n",
    "l1b_cube_24_0506 = Hypso1( path = frohavet_path_24_0506_b, verbose = True )\n",
    "l1c_cube_24_0506 = Hypso1( path = frohavet_path_24_0506_c, verbose = True )\n",
    "l1d_cube_24_0506 = Hypso1( path = frohavet_path_24_0506_d, verbose = True )\n",
    "\n",
    "l1c_cube_24_0506 = l1c_cube_24_0506.l1c_cube\n",
    "l1b_cube_24_0506 = l1b_cube_24_0506.l1b_cube\n",
    "l1d_cube_24_0506 = l1d_cube_24_0506.l1d_cube\n",
    "\n",
    "satobj_h1_24_0506.run_direct_georeferencing() # in order to get the longiyudes and latitudes "
   ]
  },
  {
   "cell_type": "code",
   "execution_count": null,
   "id": "e4cd8895",
   "metadata": {},
   "outputs": [
    {
     "name": "stdout",
     "output_type": "stream",
     "text": [
      "[INFO] Loading L1a capture trondheim_2024-05-24T09-50-09Z\n",
      "[INFO] Capture spatial dimensions: (598, 1092)\n",
      "[INFO] Capture capture type: wide\n",
      "[INFO] Loading L1b capture trondheim_2024-05-24T09-50-09Z\n",
      "[INFO] Capture spatial dimensions: (598, 1092)\n",
      "[INFO] Capture capture type: wide\n",
      "[INFO] Loading L1c capture trondheim_2024-05-24T09-50-09Z\n",
      "[INFO] Capture spatial dimensions: (598, 1092)\n",
      "[INFO] Capture capture type: wide\n",
      "[INFO] Loading L1d capture trondheim_2024-05-24T09-50-09Z\n",
      "[INFO] Capture spatial dimensions: (598, 1092)\n",
      "[INFO] Capture capture type: wide\n",
      "[INFO] Running direct georeferencing...\n",
      "[INFO] ADCS samples: 430\n",
      "[INFO] ADCS time range: 1716543540.000000 to 1716544440.000000\n",
      "[INFO] Frame time range: 1716544209.988926 to 1716544259.738926\n",
      "[INFO] 199 sample(s) inside frame time range\n",
      "[INFO] Interpolating 598 frames\n",
      "[INFO] Computing pixel latitude and longitude coordinates ...\n",
      "[INFO] Interpolating pixel coordinate gaps...\n",
      "[INFO] Direct georeferencing done\n",
      "[INFO] Running track geometry computations...\n",
      "[INFO] Using UTM map: WGS 84 / UTM zone 32N EPSG: 32632\n",
      "[INFO] Track geometry computations done.\n",
      "[INFO] Running angles geometry computations...\n",
      "[INFO] Computing local angles (sun and satellite azimuth and zenith angles) ...\n",
      "[INFO] Using astropy on a subsampling of pixels ... (TODO skyfield may be faster)\n",
      "[INFO] Interpolating the rest of the pixels ...\n",
      "[INFO] Computing local angles done\n",
      "[INFO] Angles geometry computations done.\n"
     ]
    }
   ],
   "source": [
    "frohavet_path_t_24_0524 = os.path.join(dir_path, \"trondheim_2024-05-24T09-50-09Z-l1a.nc\") \n",
    "frohavet_path_t_24_0524_b = os.path.join(dir_path, \"trondheim_2024-05-24T09-50-09Z-l1b.nc\")\n",
    "frohavet_path_t_24_0524_c = os.path.join(dir_path, \"trondheim_2024-05-24T09-50-09Z-l1c.nc\")\n",
    "frohavet_path_t_24_0524_d = os.path.join(dir_path, \"trondheim_2024-05-24T09-50-09Z-l1d.nc\") \n",
    "\n",
    "satobj_h1_t_24_0524 = Hypso1( path = frohavet_path_t_24_0524, verbose = True )\n",
    "\n",
    "l1a_cube_t_24_0524 = satobj_h1_0412.l1a_cube\n",
    "l1b_cube_t_24_0524 = Hypso1( path = frohavet_path_t_24_0524_b, verbose = True )\n",
    "l1c_cube_t_24_0524 = Hypso1( path = frohavet_path_t_24_0524_c, verbose = True )\n",
    "l1d_cube_t_24_0524 = Hypso1( path = frohavet_path_t_24_0524_d, verbose = True )\n",
    "\n",
    "l1c_cube_t_24_0524 = l1c_cube_t_24_0524.l1c_cube\n",
    "l1b_cube_t_24_0524 = l1b_cube_t_24_0524.l1b_cube\n",
    "l1d_cube_t_24_0524 = l1d_cube_t_24_0524.l1d_cube\n",
    "\n",
    "satobj_h1_t_24_0524.run_direct_georeferencing() # in order to get the longiyudes and latitudes "
   ]
  },
  {
   "cell_type": "code",
   "execution_count": null,
   "id": "49f801d0",
   "metadata": {},
   "outputs": [
    {
     "name": "stdout",
     "output_type": "stream",
     "text": [
      "[INFO] Loading L1a capture lakeanoya_2024-07-13T10-47-25Z\n",
      "[INFO] Capture spatial dimensions: (598, 1092)\n",
      "[INFO] Capture capture type: wide\n",
      "[INFO] Loading L1b capture lakeanoya_2024-07-13T10-47-25Z\n",
      "[INFO] Capture spatial dimensions: (598, 1092)\n",
      "[INFO] Capture capture type: wide\n",
      "[INFO] Loading L1c capture lakeanoya_2024-07-13T10-47-25Z\n",
      "[INFO] Capture spatial dimensions: (598, 1092)\n",
      "[INFO] Capture capture type: wide\n",
      "[INFO] Loading L1d capture lakeanoya_2024-07-13T10-47-25Z\n",
      "[INFO] Capture spatial dimensions: (598, 1092)\n",
      "[INFO] Capture capture type: wide\n",
      "[INFO] Running direct georeferencing...\n",
      "[INFO] ADCS samples: 430\n",
      "[INFO] ADCS time range: 1720866960.000000 to 1720867920.000000\n",
      "[INFO] Frame time range: 1720867645.176764 to 1720867694.926764\n",
      "[INFO] 199 sample(s) inside frame time range\n",
      "[INFO] Interpolating 598 frames\n",
      "[INFO] Computing pixel latitude and longitude coordinates ...\n",
      "[INFO] Interpolating pixel coordinate gaps...\n",
      "[INFO] Direct georeferencing done\n",
      "[INFO] Running track geometry computations...\n",
      "[INFO] Using UTM map: WGS 84 / UTM zone 32N EPSG: 32632\n",
      "[INFO] Track geometry computations done.\n",
      "[INFO] Running angles geometry computations...\n",
      "[INFO] Computing local angles (sun and satellite azimuth and zenith angles) ...\n",
      "[INFO] Using astropy on a subsampling of pixels ... (TODO skyfield may be faster)\n",
      "[INFO] Interpolating the rest of the pixels ...\n",
      "[INFO] Computing local angles done\n",
      "[INFO] Angles geometry computations done.\n"
     ]
    }
   ],
   "source": [
    "frohavet_path_24_0713 = os.path.join(dir_path, \"lakeanoya_2024-07-13T10-47-25Z-l1a.nc\")\n",
    "frohavet_path_24_0713_b = os.path.join(dir_path, \"lakeanoya_2024-07-13T10-47-25Z-l1b.nc\")\n",
    "frohavet_path_24_0713_c = os.path.join(dir_path, \"lakeanoya_2024-07-13T10-47-25Z-l1c.nc\")\n",
    "frohavet_path_24_0713_d = os.path.join(dir_path, \"lakeanoya_2024-07-13T10-47-25Z-l1d.nc\") \n",
    "\n",
    "satobj_h1_24_0713 = Hypso1( path = frohavet_path_24_0713, verbose = True )\n",
    "\n",
    "l1a_cube_24_0713 = satobj_h1_24_0713.l1a_cube\n",
    "l1b_cube_24_0713 = Hypso1( path = frohavet_path_24_0713_b, verbose = True )\n",
    "l1c_cube_24_0713 = Hypso1( path = frohavet_path_24_0713_c, verbose = True )\n",
    "l1d_cube_24_0713 = Hypso1( path = frohavet_path_24_0713_d, verbose = True )\n",
    "\n",
    "l1c_cube_24_0713 = l1c_cube_24_0713.l1c_cube\n",
    "l1b_cube_24_0713 = l1b_cube_24_0713.l1b_cube\n",
    "l1d_cube_24_0713 = l1d_cube_24_0713.l1d_cube\n",
    "\n",
    "satobj_h1_24_0713.run_direct_georeferencing() # in order to get the longiyudes and latitudes "
   ]
  },
  {
   "cell_type": "code",
   "execution_count": null,
   "id": "d43b28e1",
   "metadata": {},
   "outputs": [
    {
     "name": "stdout",
     "output_type": "stream",
     "text": [
      "[INFO] Loading L1a capture frohavetnorth_2024-06-15T10-48-13Z\n",
      "[INFO] Capture spatial dimensions: (598, 1092)\n",
      "[INFO] Capture capture type: wide\n",
      "[INFO] Loading L1b capture frohavetnorth_2024-06-15T10-48-13Z\n",
      "[INFO] Capture spatial dimensions: (598, 1092)\n",
      "[INFO] Capture capture type: wide\n",
      "[INFO] Loading L1c capture frohavetnorth_2024-06-15T10-48-13Z\n",
      "[INFO] Capture spatial dimensions: (598, 1092)\n",
      "[INFO] Capture capture type: wide\n",
      "[INFO] Loading L1d capture frohavetnorth_2024-06-15T10-48-13Z\n",
      "[INFO] Capture spatial dimensions: (598, 1092)\n",
      "[INFO] Capture capture type: wide\n",
      "[INFO] Running direct georeferencing...\n",
      "[INFO] ADCS samples: 431\n",
      "[INFO] ADCS time range: 1718447820.000000 to 1718448780.000000\n",
      "[INFO] Frame time range: 1718448493.783213 to 1718448543.533213\n",
      "[INFO] 199 sample(s) inside frame time range\n",
      "[INFO] Interpolating 598 frames\n",
      "[INFO] Computing pixel latitude and longitude coordinates ...\n",
      "[INFO] Interpolating pixel coordinate gaps...\n",
      "[INFO] Direct georeferencing done\n",
      "[INFO] Running track geometry computations...\n",
      "[INFO] Using UTM map: WGS 84 / UTM zone 32N EPSG: 32632\n",
      "[INFO] Track geometry computations done.\n",
      "[INFO] Running angles geometry computations...\n",
      "[INFO] Computing local angles (sun and satellite azimuth and zenith angles) ...\n",
      "[INFO] Using astropy on a subsampling of pixels ... (TODO skyfield may be faster)\n",
      "[INFO] Interpolating the rest of the pixels ...\n",
      "[INFO] Computing local angles done\n",
      "[INFO] Angles geometry computations done.\n"
     ]
    }
   ],
   "source": [
    "frohavet_path_24_0615 = os.path.join(dir_path, \"frohavetnorth_2024-06-15T10-48-13Z-l1a.nc\")\n",
    "frohavet_path_24_0615_b = os.path.join(dir_path, \"frohavetnorth_2024-06-15T10-48-13Z-l1b.nc\")\n",
    "frohavet_path_24_0615_c = os.path.join(dir_path, \"frohavetnorth_2024-06-15T10-48-13Z-l1c.nc\")\n",
    "frohavet_path_24_0615_d = os.path.join(dir_path, \"frohavetnorth_2024-06-15T10-48-13Z-l1d.nc\") \n",
    "\n",
    "satobj_h1_24_0615 = Hypso1( path = frohavet_path_24_0615, verbose = True )\n",
    "\n",
    "l1a_cube_24_0615 = satobj_h1_24_0615.l1a_cube\n",
    "l1b_cube_24_0615 = Hypso1( path = frohavet_path_24_0615_b, verbose = True )\n",
    "l1c_cube_24_0615 = Hypso1( path = frohavet_path_24_0615_c, verbose = True )\n",
    "l1d_cube_24_0615 = Hypso1( path = frohavet_path_24_0615_d, verbose = True )\n",
    "\n",
    "l1c_cube_24_0615 = l1c_cube_24_0615.l1c_cube\n",
    "l1b_cube_24_0615 = l1b_cube_24_0615.l1b_cube\n",
    "l1d_cube_24_0615 = l1d_cube_24_0615.l1d_cube\n",
    "\n",
    "satobj_h1_24_0615.run_direct_georeferencing() # in order to get the longiyudes and latitudes "
   ]
  },
  {
   "cell_type": "code",
   "execution_count": null,
   "id": "e30744e9",
   "metadata": {},
   "outputs": [
    {
     "name": "stdout",
     "output_type": "stream",
     "text": [
      "[INFO] Loading L1a capture trondheim_2022-08-24T10-14-56Z\n",
      "[INFO] Capture spatial dimensions: (956, 684)\n",
      "[INFO] Capture capture type: nominal\n",
      "[INFO] Loading L1b capture trondheim_2022-08-24T10-14-56Z\n",
      "[INFO] Capture spatial dimensions: (956, 684)\n",
      "[INFO] Capture capture type: nominal\n",
      "[INFO] Loading L1c capture trondheim_2022-08-24T10-14-56Z\n",
      "[INFO] Capture spatial dimensions: (956, 684)\n",
      "[INFO] Capture capture type: nominal\n",
      "[INFO] Loading L1d capture trondheim_2022-08-24T10-14-56Z\n",
      "[INFO] Capture spatial dimensions: (956, 684)\n",
      "[INFO] Capture capture type: nominal\n",
      "[INFO] Running direct georeferencing...\n",
      "[INFO] ADCS samples: 1629\n",
      "[INFO] ADCS time range: 1661335440.000000 to 1661336320.250000\n",
      "[INFO] Frame time range: 1661336096.687159 to 1661336140.096250\n",
      "[INFO] 174 sample(s) inside frame time range\n",
      "[INFO] Interpolating 956 frames\n",
      "[INFO] Computing pixel latitude and longitude coordinates ...\n",
      "[INFO] Interpolating pixel coordinate gaps...\n",
      "[INFO] Direct georeferencing done\n",
      "[INFO] Running track geometry computations...\n",
      "[INFO] Using UTM map: WGS 84 / UTM zone 32N EPSG: 32632\n",
      "[INFO] Track geometry computations done.\n",
      "[INFO] Running angles geometry computations...\n",
      "[INFO] Computing local angles (sun and satellite azimuth and zenith angles) ...\n",
      "[INFO] Using astropy on a subsampling of pixels ... (TODO skyfield may be faster)\n",
      "[INFO] Interpolating the rest of the pixels ...\n",
      "[INFO] Computing local angles done\n",
      "[INFO] Angles geometry computations done.\n"
     ]
    }
   ],
   "source": [
    "trondheim_path_t_22_0824 = os.path.join(dir_path, \"trondheim_2022-08-24T10-14-56Z-l1a.nc\") \n",
    "trondheim_path_t_22_0824_b = os.path.join(dir_path, \"trondheim_2022-08-24T10-14-56Z-l1b.nc\")\n",
    "trondheim_path_t_22_0824_c = os.path.join(dir_path, \"trondheim_2022-08-24T10-14-56Z-l1c.nc\")\n",
    "trondheim_path_t_22_0824_d = os.path.join(dir_path, \"trondheim_2022-08-24T10-14-56Z-l1d.nc\")\n",
    "\n",
    "satobj_h1_t_22_0824 = Hypso1( path = trondheim_path_t_22_0824, verbose = True )\n",
    "\n",
    "l1a_cube_t_22_0824 = satobj_h1_t_22_0824.l1a_cube\n",
    "l1b_cube_t_22_0824 = Hypso1( path = trondheim_path_t_22_0824_b, verbose = True )\n",
    "l1c_cube_t_22_0824 = Hypso1( path = trondheim_path_t_22_0824_c, verbose = True )\n",
    "l1d_cube_t_22_0824 = Hypso1( path = trondheim_path_t_22_0824_d, verbose = True )\n",
    "\n",
    "l1c_cube_t_22_0824 = l1c_cube_t_22_0824.l1c_cube\n",
    "l1b_cube_t_22_0824 = l1b_cube_t_22_0824.l1b_cube\n",
    "l1d_cube_t_22_0824 = l1d_cube_t_22_0824.l1d_cube\n",
    "\n",
    "satobj_h1_t_22_0824.run_direct_georeferencing() # in order to get the longiyudes and latitudes"
   ]
  },
  {
   "cell_type": "code",
   "execution_count": null,
   "id": "1b467b9e",
   "metadata": {},
   "outputs": [
    {
     "name": "stdout",
     "output_type": "stream",
     "text": [
      "[INFO] Loading L1a capture trondheim_2024-09-11T11-00-43Z\n",
      "[INFO] Capture spatial dimensions: (598, 1092)\n",
      "[INFO] Capture capture type: wide\n",
      "[INFO] Loading L1b capture trondheim_2024-09-11T11-00-43Z\n",
      "[INFO] Capture spatial dimensions: (598, 1092)\n",
      "[INFO] Capture capture type: wide\n",
      "[INFO] Loading L1c capture trondheim_2024-09-11T11-00-43Z\n",
      "[INFO] Capture spatial dimensions: (598, 1092)\n",
      "[INFO] Capture capture type: wide\n",
      "[INFO] Loading L1d capture trondheim_2024-09-11T11-00-43Z\n",
      "[INFO] Capture spatial dimensions: (598, 1092)\n",
      "[INFO] Capture capture type: wide\n",
      "[INFO] Running direct georeferencing...\n",
      "[INFO] ADCS samples: 428\n",
      "[INFO] ADCS time range: 1726051800.000000 to 1726052700.000000\n",
      "[INFO] Frame time range: 1726052443.722923 to 1726052493.472923\n",
      "[INFO] 199 sample(s) inside frame time range\n",
      "[INFO] Interpolating 598 frames\n",
      "[INFO] Computing pixel latitude and longitude coordinates ...\n",
      "[INFO] Interpolating pixel coordinate gaps...\n",
      "[INFO] Direct georeferencing done\n",
      "[INFO] Running track geometry computations...\n",
      "[INFO] Using UTM map: WGS 84 / UTM zone 32N EPSG: 32632\n",
      "[INFO] Track geometry computations done.\n",
      "[INFO] Running angles geometry computations...\n",
      "[INFO] Computing local angles (sun and satellite azimuth and zenith angles) ...\n",
      "[INFO] Using astropy on a subsampling of pixels ... (TODO skyfield may be faster)\n",
      "[INFO] Interpolating the rest of the pixels ...\n",
      "[INFO] Computing local angles done\n",
      "[INFO] Angles geometry computations done.\n"
     ]
    }
   ],
   "source": [
    "trondheim_path_t_24_0911 = os.path.join(dir_path, \"trondheim_2024-09-11T11-00-43Z-l1a.nc\") \n",
    "trondheim_path_t_24_0911_b = os.path.join(dir_path, \"trondheim_2024-09-11T11-00-43Z-l1b.nc\")\n",
    "trondheim_path_t_24_0911_c = os.path.join(dir_path, \"trondheim_2024-09-11T11-00-43Z-l1c.nc\")\n",
    "trondheim_path_t_24_0911_d = os.path.join(dir_path, \"trondheim_2024-09-11T11-00-43Z-l1d.nc\")\n",
    "\n",
    "satobj_h1_t_24_0911 = Hypso1( path = trondheim_path_t_24_0911, verbose = True )\n",
    "\n",
    "l1a_cube_t_24_0911 = satobj_h1_t_24_0911.l1a_cube\n",
    "l1b_cube_t_24_0911 = Hypso1( path = trondheim_path_t_24_0911_b, verbose = True )\n",
    "l1c_cube_t_24_0911 = Hypso1( path = trondheim_path_t_24_0911_c, verbose = True )\n",
    "l1d_cube_t_24_0911 = Hypso1( path = trondheim_path_t_24_0911_d, verbose = True )\n",
    "\n",
    "l1c_cube_t_24_0911 = l1c_cube_t_24_0911.l1c_cube\n",
    "l1b_cube_t_24_0911 = l1b_cube_t_24_0911.l1b_cube\n",
    "l1d_cube_t_24_0911 = l1d_cube_t_24_0911.l1d_cube\n",
    "\n",
    "satobj_h1_t_24_0911.run_direct_georeferencing() # in order to get the longiyudes and latitudes"
   ]
  },
  {
   "cell_type": "code",
   "execution_count": null,
   "id": "f3b8d248",
   "metadata": {},
   "outputs": [
    {
     "name": "stdout",
     "output_type": "stream",
     "text": [
      "[INFO] Loading L1a capture trondheim_2024-09-14T09-42-48Z\n",
      "[INFO] Capture spatial dimensions: (598, 1092)\n",
      "[INFO] Capture capture type: wide\n",
      "[INFO] Loading L1b capture trondheim_2024-09-14T09-42-48Z\n",
      "[INFO] Capture spatial dimensions: (598, 1092)\n",
      "[INFO] Capture capture type: wide\n",
      "[INFO] Loading L1c capture trondheim_2024-09-14T09-42-48Z\n",
      "[INFO] Capture spatial dimensions: (598, 1092)\n",
      "[INFO] Capture capture type: wide\n",
      "[INFO] Loading L1d capture trondheim_2024-09-14T09-42-48Z\n",
      "[INFO] Capture spatial dimensions: (598, 1092)\n",
      "[INFO] Capture capture type: wide\n",
      "[INFO] Running direct georeferencing...\n",
      "[INFO] ADCS samples: 429\n",
      "[INFO] ADCS time range: 1726306320.000000 to 1726307220.000000\n",
      "[INFO] Frame time range: 1726306968.187357 to 1726307017.937357\n",
      "[INFO] 199 sample(s) inside frame time range\n",
      "[INFO] Interpolating 598 frames\n",
      "[INFO] Computing pixel latitude and longitude coordinates ...\n",
      "[INFO] Interpolating pixel coordinate gaps...\n",
      "[INFO] Direct georeferencing done\n",
      "[INFO] Running track geometry computations...\n",
      "[INFO] Using UTM map: WGS 84 / UTM zone 32N EPSG: 32632\n",
      "[INFO] Track geometry computations done.\n",
      "[INFO] Running angles geometry computations...\n",
      "[INFO] Computing local angles (sun and satellite azimuth and zenith angles) ...\n",
      "[INFO] Using astropy on a subsampling of pixels ... (TODO skyfield may be faster)\n",
      "[INFO] Interpolating the rest of the pixels ...\n",
      "[INFO] Computing local angles done\n",
      "[INFO] Angles geometry computations done.\n"
     ]
    }
   ],
   "source": [
    "trondheim_path_t_24_0914 = os.path.join(dir_path, \"trondheim_2024-09-14T09-42-48Z-l1a.nc\") \n",
    "trondheim_path_t_24_0914_b = os.path.join(dir_path, \"trondheim_2024-09-14T09-42-48Z-l1b.nc\")\n",
    "trondheim_path_t_24_0914_c = os.path.join(dir_path, \"trondheim_2024-09-14T09-42-48Z-l1c.nc\")\n",
    "trondheim_path_t_24_0914_d = os.path.join(dir_path, \"trondheim_2024-09-14T09-42-48Z-l1d.nc\")\n",
    "\n",
    "satobj_h1_t_24_0914 = Hypso1( path = trondheim_path_t_24_0914, verbose = True )\n",
    "\n",
    "l1a_cube_t_24_0914 = satobj_h1_t_24_0914.l1a_cube\n",
    "l1b_cube_t_24_0914 = Hypso1( path = trondheim_path_t_24_0914_b, verbose = True )\n",
    "l1c_cube_t_24_0914 = Hypso1( path = trondheim_path_t_24_0914_c, verbose = True )\n",
    "l1d_cube_t_24_0914 = Hypso1( path = trondheim_path_t_24_0914_d, verbose = True )\n",
    "\n",
    "l1c_cube_t_24_0914 = l1c_cube_t_24_0914.l1c_cube\n",
    "l1b_cube_t_24_0914 = l1b_cube_t_24_0914.l1b_cube\n",
    "l1d_cube_t_24_0914 = l1d_cube_t_24_0914.l1d_cube\n",
    "\n",
    "satobj_h1_t_24_0914.run_direct_georeferencing() # in order to get the longiyudes and latitudes"
   ]
  },
  {
   "cell_type": "code",
   "execution_count": 8,
   "id": "ddc005a4",
   "metadata": {},
   "outputs": [],
   "source": [
    "#wawelengths\n",
    "x_1 = [387.84749685, 391.40406599, 394.95941579, 398.51354623, 402.06645732, 405.61814905, 409.16862143, 412.71787446, 416.26590814, 419.81272246, 423.35831743, 426.90269305, 430.44584931, 433.98778622, 437.52850378, 441.06800198, 444.60628083, 448.14334033, 451.67918047, 455.21380126, 458.7472027, 462.27938479, 465.81034752, 469.3400909 , 472.86861492,476.3959196 , 479.92200491, 483.44687088, 486.97051749, 490.49294475,494.01415266, 497.53414122, 501.05291042, 504.57046026, 508.08679076,511.6019019 , 515.11579369, 518.62846612, 522.13991921, 525.65015294,529.15916731, 532.66696233, 536.173538  , 539.67889432, 543.18303128,546.68594889, 550.18764715, 553.68812606, 557.18738561, 560.68542581,564.18224665, 567.67784814, 571.17223028, 574.66539307, 578.1573365, 581.64806058, 585.1375653 , 588.62585068, 592.1129167 , 595.59876336,599.08339068, 602.56679864, 606.04898725, 609.5299565 , 613.0097064 ,616.48823695, 619.96554815, 623.44163999, 626.91651248, 630.39016561,633.86259939, 637.33381382, 640.8038089 , 644.27258462, 647.74014099,651.20647801, 654.67159568, 658.13549399, 661.59817294, 665.05963255,668.5198728 , 671.9788937 , 675.43669524, 678.89327744, 682.34864028,685.80278376, 689.25570789, 692.70741267, 696.1578981 , 699.60716418,703.0552109 , 706.50203826, 709.94764628, 713.39203494, 716.83520425,720.2771542 , 723.7178848 , 727.15739605, 730.59568795, 734.03276049,737.46861368, 740.90324752, 744.336662  , 747.76885713, 751.19983291,754.62958933, 758.0581264 , 761.48544412, 764.91154248, 768.33642149,771.76008115, 775.18252146, 778.60374241, 782.02374401, 785.44252625,788.86008915, 792.27643269, 795.69155687, 799.10546171, 802.51814719]\n",
    "x=x_1[5:115]\n",
    "\n",
    "# Target latitude and longitude\n",
    "#target_lat = [64.08533976025561,64.08799001499494, 64.00671553632209, 64.00539040895242] #område 1.\n",
    "#target_lon = [9.744011353487297, 9.632700654435348, 9.740919389624743,9.634025781805015]  \n",
    "\n",
    "#target_lat = [63.818490304354434,63.793837321385155, 63.65192496143867, 63.660555970548074] #område 2.1.\n",
    "#target_lon = [9.531415429238418, 9.442656298818237,9.526455044589706,9.439764451470932]\n",
    "\n",
    "#target_lat = [64.2750935781297,64.29365394014144, 64.17902661492639, 64.18553880683058] #område 4, korrigert\n",
    "#target_lon = [9.127764312954888, 8.585899068865604,9.130324490159921,8.564058182856481]  \n",
    "\n",
    "#target_lat = [63.646767083517425,63.61771951990031, 63.47865598622861, 63.42721372576498] #område 5.1\n",
    "#target_lon = [9.804697410334523, 9.723689711502818,10.061035990832918,9.982929114384596]  \n",
    "\n",
    "target_lat = [64.17324887890479,64.11631446557637, 63.896904083590066, 63.887923483169004] #område 6.1\n",
    "target_lon = [9.582148298814932,8.924448409066027, 9.578289180688513, 8.96230357578283]\n",
    "\n",
    "#target_lat = [64.48557437461893,64.52896641587218, 64.20992561747796, 64.22009411667561] #område 7\n",
    "#target_lon = [9.886201113342556, 8.708294855080245,9.704720121565003,8.73032214102829]  "
   ]
  },
  {
   "cell_type": "code",
   "execution_count": null,
   "id": "68befeb0",
   "metadata": {},
   "outputs": [
    {
     "name": "stdout",
     "output_type": "stream",
     "text": [
      "Pixel number:  6640\n"
     ]
    }
   ],
   "source": [
    "latitudes = satobj_h1.latitudes\n",
    "longitudes = satobj_h1.longitudes\n",
    "\n",
    "piksel_row, piksel_col = f.latLong_to_piksel(target_lat, target_lon, latitudes, longitudes) #from file funcions_autonom.py\n",
    "rss_matrix = f.rss_matrix(120, piksel_row,piksel_col, l1d_cube)\n",
    "        \n",
    "mean_spectrum = np.mean(rss_matrix, axis=1) ## mean over rad  # gjenomsnitt\n",
    "median_spectrum = np.median(rss_matrix, axis=1) # median over rad\n",
    "std_spectrum = np.std(rss_matrix, axis=1)  #standard avik\n",
    "\n",
    "normaized_spectrum = f.min_max_nomralization(mean_spectrum)\n",
    "normaized_spectrum_median = f.min_max_nomralization(median_spectrum)\n",
    "\n",
    "l2_norm = np.linalg.norm(mean_spectrum)  #l2 norm\n",
    "l2_normalized_spectrum = mean_spectrum / l2_norm  #l2 normalisering\n",
    "\n",
    "l2_norm_median = np.linalg.norm(median_spectrum)  #l2 norm\n",
    "l2_normalized_median_spectrum = median_spectrum / l2_norm  #l2 normalisering"
   ]
  },
  {
   "cell_type": "code",
   "execution_count": null,
   "id": "796b4fd1",
   "metadata": {},
   "outputs": [
    {
     "name": "stdout",
     "output_type": "stream",
     "text": [
      "Pixel number:  658\n"
     ]
    }
   ],
   "source": [
    "latitudes_0328 = satobj_h1_0328.latitudes\n",
    "longitudes_0328 = satobj_h1_0328.longitudes\n",
    "\n",
    "piksel_row_0328, piksel_col_0328 = f.latLong_to_piksel(target_lat, target_lon, latitudes_0328, longitudes_0328) #from file funcions_autonom.py\n",
    "#rss_matrix_0328 = f.rss_matrix(120, piksel_row_0328,piksel_col_0328, l1d_cube_0328)\n",
    "rss_matrix_0328 = f.water_masked_rss_matrix(piksel_row_0328,piksel_col_0328, l1d_cube_0328, satobj_h1_0328)\n",
    "        \n",
    "mean_spectrum_0328 = np.mean(rss_matrix_0328, axis=1) ## mean over rad  # gjenomsnitt\n",
    "median_spectrum_0328 = np.median(rss_matrix_0328, axis=1) # median over rad\n",
    "std_spectrum_0328 = np.std(rss_matrix_0328, axis=1)  #standard avik\n",
    "\n",
    "normaized_spectrum_0328 = f.min_max_nomralization(mean_spectrum_0328)\n",
    "normaized_spectrum_median_0328 = f.min_max_nomralization(median_spectrum_0328)\n",
    "\n",
    "l2_norm_0328 = np.linalg.norm(mean_spectrum_0328)  #l2 norm\n",
    "l2_normalized_spectrum_0328 = mean_spectrum_0328 / l2_norm_0328  #l2 normalisering\n",
    "\n",
    "l2_norm_median_0328 = np.linalg.norm(median_spectrum_0328)  #l2 norm\n",
    "l2_normalized_median_spectrum_0328 = median_spectrum_0328 / l2_norm_median_0328  #l2 normalisering"
   ]
  },
  {
   "cell_type": "code",
   "execution_count": null,
   "id": "6f9ac50c",
   "metadata": {},
   "outputs": [
    {
     "name": "stdout",
     "output_type": "stream",
     "text": [
      "Pixel number:  4661\n"
     ]
    }
   ],
   "source": [
    "latitudes_0329 = satobj_h1_0329.latitudes\n",
    "longitudes_0329 = satobj_h1_0329.longitudes\n",
    "\n",
    "piksel_row_0329, piksel_col_0329 = f.latLong_to_piksel(target_lat, target_lon, latitudes_0329, longitudes_0329) #from file funcions_autonom.py\n",
    "#rss_matrix_0329 = f.rss_matrix(120, piksel_row_0329,piksel_col_0329, l1d_cube_0329)\n",
    "rss_matrix_0329 = f.water_masked_rss_matrix(piksel_row_0329,piksel_col_0329, l1d_cube_0329, satobj_h1_0329)\n",
    "        \n",
    "mean_spectrum_0329 = np.mean(rss_matrix_0329, axis=1) ## mean over rad  # gjenomsnitt\n",
    "median_spectrum_0329 = np.median(rss_matrix_0329, axis=1) # median over rad\n",
    "std_spectrum_0329 = np.std(rss_matrix_0329, axis=1)  #standard avik\n",
    "\n",
    "normaized_spectrum_0329 = f.min_max_nomralization(mean_spectrum_0329)\n",
    "normaized_spectrum_median_0329 = f.min_max_nomralization(median_spectrum_0329)\n",
    "\n",
    "l2_norm_0329 = np.linalg.norm(mean_spectrum_0329)  #l2 norm\n",
    "l2_normalized_spectrum_0329 = mean_spectrum_0329 / l2_norm_0329  #l2 normalisering\n",
    "\n",
    "l2_norm_median_0329 = np.linalg.norm(median_spectrum_0329)  #l2 norm\n",
    "l2_normalized_median_spectrum_0329 = median_spectrum_0329 / l2_norm_median_0329  #l2 normalisering"
   ]
  },
  {
   "cell_type": "code",
   "execution_count": 9,
   "id": "00d47f16",
   "metadata": {},
   "outputs": [
    {
     "name": "stdout",
     "output_type": "stream",
     "text": [
      "Pixel number:  5124\n",
      "[np.int64(121), np.int64(150), np.int64(170), np.int64(189)] [np.int64(629), np.int64(1038), np.int64(463), np.int64(873)]\n"
     ]
    }
   ],
   "source": [
    "latitudes_0330 = satobj_h1_0330.latitudes\n",
    "longitudes_0330 = satobj_h1_0330.longitudes\n",
    "\n",
    "piksel_row_0330, piksel_col_0330 = f.latLong_to_piksel(target_lat, target_lon, latitudes_0330, longitudes_0330) #from file funcions_autonom.py\n",
    "#rss_matrix_0330 = f.rss_matrix(120, piksel_row_0330,piksel_col_0330, l1d_cube_0330)\n",
    "rss_matrix_0330 = f.water_masked_rss_matrix(piksel_row_0330,piksel_col_0330, l1d_cube_0330, satobj_h1_0330)\n",
    "\n",
    "mean_spectrum_0330 = np.mean(rss_matrix_0330, axis=1) ## mean over rad  # gjenomsnitt\n",
    "median_spectrum_0330 = np.median(rss_matrix_0330, axis=1) # median over rad\n",
    "std_spectrum_0330 = np.std(rss_matrix_0330, axis=1)  #standard avik\n",
    "\n",
    "normaized_spectrum_0330 = f.min_max_nomralization(mean_spectrum_0330)\n",
    "normaized_spectrum_median_0330 = f.min_max_nomralization(median_spectrum_0330)\n",
    "\n",
    "l2_norm_0330 = np.linalg.norm(mean_spectrum_0330)  #l2 norm\n",
    "l2_normalized_spectrum_0330 = mean_spectrum_0330 / l2_norm_0330  #l2 normalisering\n",
    "\n",
    "l2_norm_median_0330 = np.linalg.norm(median_spectrum_0330)  #l2 norm\n",
    "l2_normalized_median_spectrum_0330 = median_spectrum_0330 / l2_norm_median_0330  #l2 normaliseri\n",
    "\n",
    "print(piksel_row_0330, piksel_col_0330)"
   ]
  },
  {
   "cell_type": "code",
   "execution_count": null,
   "id": "e4c6f6af",
   "metadata": {},
   "outputs": [
    {
     "name": "stdout",
     "output_type": "stream",
     "text": [
      "Pixel number:  8441\n"
     ]
    }
   ],
   "source": [
    "latitudes_0407 = satobj_h1_0407.latitudes\n",
    "longitudes_0407 = satobj_h1_0407.longitudes\n",
    "\n",
    "piksel_row_0407, piksel_col_0407 = f.latLong_to_piksel(target_lat, target_lon, latitudes_0407, longitudes_0407) #from file funcions_autonom.py\n",
    "#rss_matrix_0412 = f.rss_matrix(120, piksel_row_0412,piksel_col_0412, l1d_cube_0412)\n",
    "rss_matrix_0407 = f.water_masked_rss_matrix(piksel_row_0407,piksel_col_0407, l1d_cube_0407, satobj_h1_0407)\n",
    "        \n",
    "mean_spectrum_0407 = np.mean(rss_matrix_0407, axis=1) ## mean over rad  # gjenomsnitt\n",
    "std_spectrum_0407 = np.std(rss_matrix_0407, axis=1)  #standard avik\n",
    "median_spectrum_0407 = np.median(rss_matrix_0407, axis=1) # median over rad\n",
    "\n",
    "normaized_spectrum_0407 = f.min_max_nomralization(mean_spectrum_0407)\n",
    "normaized_spectrum_median_0407 = f.min_max_nomralization(median_spectrum_0407)\n",
    "\n",
    "l2_norm_0407 = np.linalg.norm(mean_spectrum_0407)  #l2 norm\n",
    "l2_normalized_spectrum_0407 = mean_spectrum_0407 / l2_norm_0407  #l2 normalisering\n",
    "\n",
    "l2_norm_median_0407 = np.linalg.norm(median_spectrum_0407)  #l2 norm\n",
    "l2_normalized_median_spectrum_0407 = median_spectrum_0407 / l2_norm_median_0407  #l2 normalisering"
   ]
  },
  {
   "cell_type": "code",
   "execution_count": null,
   "id": "14600b0e",
   "metadata": {},
   "outputs": [
    {
     "name": "stdout",
     "output_type": "stream",
     "text": [
      "Pixel number:  5674\n"
     ]
    }
   ],
   "source": [
    "latitudes_0412 = satobj_h1_0412.latitudes\n",
    "longitudes_0412 = satobj_h1_0412.longitudes\n",
    "\n",
    "piksel_row_0412, piksel_col_0412 = f.latLong_to_piksel(target_lat, target_lon, latitudes_0412, longitudes_0412) #from file funcions_autonom.py\n",
    "#rss_matrix_0412 = f.rss_matrix(120, piksel_row_0412,piksel_col_0412, l1d_cube_0412)\n",
    "rss_matrix_0412 = f.water_masked_rss_matrix(piksel_row_0412,piksel_col_0412, l1d_cube_0412, satobj_h1_0412)\n",
    "        \n",
    "mean_spectrum_0412 = np.mean(rss_matrix_0412, axis=1) ## mean over rad  # gjenomsnitt\n",
    "median_spectrum_0412 = np.median(rss_matrix_0412, axis=1) # median over rad\n",
    "std_spectrum_0412 = np.std(rss_matrix_0412, axis=1)  #standard avik\n",
    "\n",
    "normaized_spectrum_0412 = f.min_max_nomralization(mean_spectrum_0412)\n",
    "normaized_spectrum_median_0412 = f.min_max_nomralization(median_spectrum_0412)\n",
    "\n",
    "l2_norm_0412 = np.linalg.norm(mean_spectrum_0412)  #l2 norm\n",
    "l2_normalized_spectrum_0412 = mean_spectrum_0412 / l2_norm_0412  #l2 normalisering\n",
    "\n",
    "l2_norm_median_0412 = np.linalg.norm(median_spectrum_0412)  #l2 norm\n",
    "l2_normalized_median_spectrum_0412 = median_spectrum_0412 / l2_norm_median_0412  #l2 normalisering"
   ]
  },
  {
   "cell_type": "code",
   "execution_count": null,
   "id": "4e6805a4",
   "metadata": {},
   "outputs": [
    {
     "name": "stdout",
     "output_type": "stream",
     "text": [
      "Pixel number:  8568\n"
     ]
    }
   ],
   "source": [
    "latitudes_0614 = satobj_h1_0614.latitudes\n",
    "longitudes_0614 = satobj_h1_0614.longitudes\n",
    "\n",
    "piksel_row_0614, piksel_col_0614 = f.latLong_to_piksel(target_lat, target_lon, latitudes_0614, longitudes_0614) #from file funcions_autonom.py\n",
    "#rss_matrix_0614 = f.rss_matrix(120, piksel_row_0412,piksel_col_0412, l1d_cube_0412)\n",
    "rss_matrix_0614 = f.water_masked_rss_matrix(piksel_row_0614,piksel_col_0614, l1d_cube_0614, satobj_h1_0614)\n",
    "        \n",
    "mean_spectrum_0614 = np.mean(rss_matrix_0614, axis=1) ## mean over rad  # gjenomsnitt\n",
    "median_spectrum_0614 = np.median(rss_matrix_0614, axis=1) # median over rad\n",
    "std_spectrum_0614 = np.std(rss_matrix_0614, axis=1)  #standard avik\n",
    "\n",
    "normaized_spectrum_0614 = f.min_max_nomralization(mean_spectrum_0614)\n",
    "normaized_spectrum_median_0614 = f.min_max_nomralization(median_spectrum_0614)\n",
    "\n",
    "l2_norm_0614 = np.linalg.norm(mean_spectrum_0614)  #l2 norm\n",
    "l2_normalized_spectrum_0614 = mean_spectrum_0614 / l2_norm_0614  #l2 normalisering\n",
    "\n",
    "l2_norm_median_0614 = np.linalg.norm(median_spectrum_0614)  #l2 norm\n",
    "l2_normalized_median_spectrum_0614 = median_spectrum_0614 / l2_norm_median_0614  #l2 normalisering"
   ]
  },
  {
   "cell_type": "code",
   "execution_count": null,
   "id": "804322d7",
   "metadata": {},
   "outputs": [
    {
     "name": "stdout",
     "output_type": "stream",
     "text": [
      "Pixel number:  7270\n"
     ]
    }
   ],
   "source": [
    "latitudes_0730 = satobj_h1_0730.latitudes\n",
    "longitudes_0730 = satobj_h1_0730.longitudes\n",
    "\n",
    "piksel_row_0730, piksel_col_0730 = f.latLong_to_piksel(target_lat, target_lon, latitudes_0730, longitudes_0730) #from file funcions_autonom.py\n",
    "#rss_matrix_0730 = f.rss_matrix(120, piksel_row_0412,piksel_col_0412, l1d_cube_0412)\n",
    "rss_matrix_0730 = f.water_masked_rss_matrix(piksel_row_0730,piksel_col_0730, l1d_cube_0730, satobj_h1_0730)\n",
    "        \n",
    "mean_spectrum_0730 = np.mean(rss_matrix_0730, axis=1) ## mean over rad  # gjenomsnitt\n",
    "median_spectrum_0730 = np.median(rss_matrix_0730, axis=1) # median over rad\n",
    "std_spectrum_0730 = np.std(rss_matrix_0730, axis=1)  #standard avik\n",
    "\n",
    "normaized_spectrum_0730 = f.min_max_nomralization(mean_spectrum_0730)\n",
    "normaized_spectrum_median_0730 = f.min_max_nomralization(median_spectrum_0730)\n",
    "\n",
    "l2_norm_0730 = np.linalg.norm(mean_spectrum_0730)  #l2 norm\n",
    "l2_normalized_spectrum_0730 = mean_spectrum_0730 / l2_norm_0730  #l2 normalisering\n",
    "\n",
    "l2_norm_median_0730 = np.linalg.norm(median_spectrum_0730)  #l2 norm\n",
    "l2_normalized_median_spectrum_0730 = median_spectrum_0730 / l2_norm_median_0730  #l2 normalisering"
   ]
  },
  {
   "cell_type": "code",
   "execution_count": null,
   "id": "c906f4df",
   "metadata": {},
   "outputs": [
    {
     "name": "stdout",
     "output_type": "stream",
     "text": [
      "Pixel number:  1\n"
     ]
    }
   ],
   "source": [
    "latitudes_24_0310 = satobj_h1_24_0310.latitudes\n",
    "longitudes_24_0310 = satobj_h1_24_0310.longitudes\n",
    "\n",
    "piksel_row_24_0310, piksel_col_24_0310 = f.latLong_to_piksel(target_lat, target_lon, latitudes_24_0310, longitudes_24_0310) #from file funcions_autonom.py\n",
    "#rss_matrix_0330 = f.rss_matrix(120, piksel_row_0330,piksel_col_0330, l1d_cube_0330)\n",
    "rss_matrix_24_0310 = f.water_masked_rss_matrix(piksel_row_24_0310,piksel_col_24_0310, l1d_cube_24_0310, satobj_h1_24_0310)\n",
    "\n",
    "mean_spectrum_24_0310 = np.mean(rss_matrix_24_0310, axis=1) ## mean over rad  # gjenomsnitt\n",
    "median_spectrum_24_0310 = np.median(rss_matrix_24_0310, axis=1) ## median over rad  # gjenomsnitt\n",
    "std_spectrum_24_0310 = np.std(rss_matrix_24_0310, axis=1)  #standard avik\n",
    "\n",
    "normaized_spectrum_24_0310 = f.min_max_nomralization(mean_spectrum_24_0310)\n",
    "normaized_spectrum_median_24_0310 = f.min_max_nomralization(median_spectrum_24_0310)\n",
    "\n",
    "l2_norm_24_0310 = np.linalg.norm(mean_spectrum_24_0310)  #l2 norm\n",
    "l2_normalized_spectrum_24_0310 = mean_spectrum_24_0310 / l2_norm_24_0310  #l2 normalisering\n",
    "\n",
    "l2_norm_median_24_0310 = np.linalg.norm(median_spectrum_24_0310)  #l2 norm\n",
    "l2_normalized_median_spectrum_24_0310 = median_spectrum_24_0310 / l2_norm_median_24_0310  #l2 normalisering\n",
    "\n",
    "#################################################################"
   ]
  },
  {
   "cell_type": "code",
   "execution_count": null,
   "id": "32e6956b",
   "metadata": {},
   "outputs": [
    {
     "name": "stdout",
     "output_type": "stream",
     "text": [
      "Pixel number:  7584\n"
     ]
    }
   ],
   "source": [
    "latitudes_24_0419 = satobj_h1_24_0419.latitudes\n",
    "longitudes_24_0419 = satobj_h1_24_0419.longitudes\n",
    "\n",
    "piksel_row_24_0419, piksel_col_24_0419 = f.latLong_to_piksel(target_lat, target_lon, latitudes_24_0419, longitudes_24_0419) #from file funcions_autonom.py\n",
    "#rss_matrix_0328 = f.rss_matrix(120, piksel_row_0328,piksel_col_0328, l1d_cube_0328)\n",
    "rss_matrix_24_0419 = f.water_masked_rss_matrix(piksel_row_24_0419,piksel_col_24_0419, l1d_cube_24_0419, satobj_h1_24_0419)\n",
    "        \n",
    "mean_spectrum_24_0419 = np.mean(rss_matrix_24_0419, axis=1) ## mean over rad  # gjenomsnitt\n",
    "median_spectrum_24_0419 = np.mean(rss_matrix_24_0419, axis=1) ## mean over rad  # gjenomsnitt\n",
    "\n",
    "l2_norm_24_0419 = np.linalg.norm(mean_spectrum_24_0419)  #l2 norm\n",
    "l2_normalized_spectrum_24_0419 = mean_spectrum_24_0419 / l2_norm_24_0419  #l2 normalisering\n",
    "\n",
    "l2_norm_median_24_0419 = np.linalg.norm(median_spectrum_24_0419)  #l2 norm\n",
    "l2_normalized_median_spectrum_24_0419 = median_spectrum_24_0419 / l2_norm_median_24_0419  #l2 normalisering\n",
    "\n",
    "normaized_spectrum_24_0419 = f.min_max_nomralization(mean_spectrum_24_0419) #min max normalisering\n",
    "normaized_spectrum_median_24_0419 = f.min_max_nomralization(median_spectrum_24_0419) #min max normalisering\n",
    "\n",
    "std_spectrum_24_0419 = np.std(rss_matrix_24_0419, axis=1)  #standard avik"
   ]
  },
  {
   "cell_type": "code",
   "execution_count": null,
   "id": "f83618f1",
   "metadata": {},
   "outputs": [
    {
     "name": "stdout",
     "output_type": "stream",
     "text": [
      "Pixel number:  2773\n"
     ]
    }
   ],
   "source": [
    "latitudes_24_0426 = satobj_h1_24_0426.latitudes\n",
    "longitudes_24_0426 = satobj_h1_24_0426.longitudes\n",
    "\n",
    "piksel_row_24_0426, piksel_col_24_0426 = f.latLong_to_piksel(target_lat, target_lon, latitudes_24_0426, longitudes_24_0426) #from file funcions_autonom.py\n",
    "#rss_matrix_0412 = f.rss_matrix(120, piksel_row_0412,piksel_col_0412, l1d_cube_0412)\n",
    "rss_matrix_24_0426 = f.water_masked_rss_matrix(piksel_row_24_0426,piksel_col_24_0426, l1d_cube_24_0426, satobj_h1_24_0426)\n",
    "        \n",
    "mean_spectrum_24_0426 = np.mean(rss_matrix_24_0426, axis=1) ## mean over rad  # gjenomsnitt\n",
    "median_spectrum_24_0426 = np.mean(rss_matrix_24_0426, axis=1) ## mean over rad  # gjenomsnitt\n",
    "std_spectrum_24_0426 = np.std(rss_matrix_24_0426, axis=1)  #standard avik\n",
    "\n",
    "normaized_spectrum_24_0426 = f.min_max_nomralization(mean_spectrum_24_0426) #min max normalisering\n",
    "normaized_spectrum_median_24_0426 = f.min_max_nomralization(median_spectrum_24_0426) #min max normalisering\n",
    "\n",
    "l2_norm_24_0426 = np.linalg.norm(mean_spectrum_24_0426)  #l2 norm\n",
    "l2_normalized_spectrum_24_0426 = mean_spectrum_24_0426 / l2_norm_24_0426  #l2 normalisering\n",
    "\n",
    "l2_norm_median_24_0426 = np.linalg.norm(median_spectrum_24_0426)  #l2 norm\n",
    "l2_normalized_median_spectrum_24_0426 = median_spectrum_24_0426 / l2_norm_median_24_0426  #l2 normalisering"
   ]
  },
  {
   "cell_type": "code",
   "execution_count": null,
   "id": "faa63bbd",
   "metadata": {},
   "outputs": [
    {
     "name": "stdout",
     "output_type": "stream",
     "text": [
      "Pixel number:  7584\n"
     ]
    }
   ],
   "source": [
    "latitudes_24_0419 = satobj_h1_24_0419.latitudes\n",
    "longitudes_24_0419 = satobj_h1_24_0419.longitudes\n",
    "\n",
    "piksel_row_24_0419, piksel_col_24_0419 = f.latLong_to_piksel(target_lat, target_lon, latitudes_24_0419, longitudes_24_0419) #from file funcions_autonom.py\n",
    "#rss_matrix_0328 = f.rss_matrix(120, piksel_row_0328,piksel_col_0328, l1d_cube_0328)\n",
    "rss_matrix_24_0419 = f.water_masked_rss_matrix(piksel_row_24_0419,piksel_col_24_0419, l1d_cube_24_0419, satobj_h1_24_0419)\n",
    "        \n",
    "mean_spectrum_24_0419 = np.mean(rss_matrix_24_0419, axis=1) ## mean over rad  # gjenomsnitt\n",
    "median_spectrum_24_0419 = np.median(rss_matrix_24_0419, axis=1) ## mean over rad  # gjenomsnitt\n",
    "\n",
    "l2_norm_24_0419 = np.linalg.norm(mean_spectrum_24_0419)  #l2 norm\n",
    "l2_normalized_spectrum_24_0419 = mean_spectrum_24_0419 / l2_norm_24_0419  #l2 normalisering\n",
    "\n",
    "l2_norm_median_24_0419 = np.linalg.norm(median_spectrum_24_0419)  #l2 norm\n",
    "l2_normalized_median_spectrum_24_0419 = median_spectrum_24_0419 / l2_norm_median_24_0419  #l2 normalisering\n",
    "\n",
    "normaized_spectrum_24_0419 = f.min_max_nomralization(mean_spectrum_24_0419) #min max normalisering\n",
    "normaized_spectrum_median_24_0419 = f.min_max_nomralization(median_spectrum_24_0419) #min max normalisering\n",
    "\n",
    "std_spectrum_24_0419 = np.std(rss_matrix_24_0419, axis=1)  #standard avik"
   ]
  },
  {
   "cell_type": "code",
   "execution_count": null,
   "id": "c726e437",
   "metadata": {},
   "outputs": [
    {
     "name": "stdout",
     "output_type": "stream",
     "text": [
      "Pixel number:  2773\n"
     ]
    }
   ],
   "source": [
    "latitudes_24_0426 = satobj_h1_24_0426.latitudes\n",
    "longitudes_24_0426 = satobj_h1_24_0426.longitudes\n",
    "\n",
    "piksel_row_24_0426, piksel_col_24_0426 = f.latLong_to_piksel(target_lat, target_lon, latitudes_24_0426, longitudes_24_0426) #from file funcions_autonom.py\n",
    "#rss_matrix_0328 = f.rss_matrix(120, piksel_row_0328,piksel_col_0328, l1d_cube_0328)\n",
    "rss_matrix_24_0426 = f.water_masked_rss_matrix(piksel_row_24_0426,piksel_col_24_0426, l1d_cube_24_0426, satobj_h1_24_0426)\n",
    "        \n",
    "mean_spectrum_24_0426 = np.mean(rss_matrix_24_0426, axis=1) ## mean over rad  # gjenomsnitt\n",
    "median_spectrum_24_0426 = np.median(rss_matrix_24_0426, axis=1) ## mean over rad  # gjenomsnitt\n",
    "\n",
    "l2_norm_24_0426 = np.linalg.norm(mean_spectrum_24_0426)  #l2 norm\n",
    "l2_normalized_spectrum_24_0426 = mean_spectrum_24_0426 / l2_norm_24_0426  #l2 normalisering\n",
    "\n",
    "l2_norm_median_24_0426 = np.linalg.norm(median_spectrum_24_0426)  #l2 norm\n",
    "l2_normalized_median_spectrum_24_0426 = median_spectrum_24_0426 / l2_norm_median_24_0426  #l2 normalisering\n",
    "\n",
    "normaized_spectrum_24_0426 = f.min_max_nomralization(mean_spectrum_24_0426) #min max normalisering\n",
    "normaized_spectrum_median_24_0426 = f.min_max_nomralization(median_spectrum_24_0426) #min max normalisering\n",
    "\n",
    "std_spectrum_24_0426 = np.std(rss_matrix_24_0426, axis=1)  #standard avik"
   ]
  },
  {
   "cell_type": "code",
   "execution_count": null,
   "id": "edacd9ed",
   "metadata": {},
   "outputs": [
    {
     "name": "stdout",
     "output_type": "stream",
     "text": [
      "Pixel number:  7475\n"
     ]
    }
   ],
   "source": [
    "latitudes_24_0506 = satobj_h1_24_0506.latitudes\n",
    "longitudes_24_0506 = satobj_h1_24_0506.longitudes\n",
    "\n",
    "piksel_row_24_0506, piksel_col_24_0506 = f.latLong_to_piksel(target_lat, target_lon, latitudes_24_0506, longitudes_24_0506) #from file funcions_autonom.py\n",
    "rss_matrix_24_0506 = f.rss_matrix(120, piksel_row_24_0506,piksel_col_24_0506, l1d_cube_24_0506)\n",
    "        \n",
    "mean_spectrum_24_0506 = np.mean(rss_matrix_24_0506, axis=1) ## mean over rad  # gjenomsnitt\n",
    "median_spectrum_24_0506 = np.median(rss_matrix_24_0506, axis=1) # median over rad\n",
    "std_spectrum_24_0506 = np.std(rss_matrix_24_0506, axis=1)  #standard avik\n",
    "\n",
    "normaized_spectrum_24_0506 = f.min_max_nomralization(mean_spectrum_24_0506) #min max normalisering\n",
    "normaized_spectrum_median_24_0506 = f.min_max_nomralization(median_spectrum_24_0506) #min max normalisering\n",
    "\n",
    "l2_norm_24_0506 = np.linalg.norm(mean_spectrum_24_0506)  #l2 norm\n",
    "l2_normalized_spectrum_24_0506 = mean_spectrum_24_0506 / l2_norm_24_0506  #l2 normalisering\n",
    "\n",
    "l2_norm_median_24_0506 = np.linalg.norm(median_spectrum_24_0506)  #l2 norm\n",
    "l2_normalized_median_spectrum_24_0506 = median_spectrum_24_0506 / l2_norm_median_24_0506  #l2 normalisering"
   ]
  },
  {
   "cell_type": "code",
   "execution_count": null,
   "id": "07a01e2f",
   "metadata": {},
   "outputs": [
    {
     "name": "stdout",
     "output_type": "stream",
     "text": [
      "Pixel number:  6072\n"
     ]
    }
   ],
   "source": [
    "latitudes_t_24_0524 = satobj_h1_t_24_0524.latitudes\n",
    "longitudes_t_24_0524 = satobj_h1_t_24_0524.longitudes\n",
    "\n",
    "piksel_row_t_24_0524, piksel_col_t_24_0524 = f.latLong_to_piksel(target_lat, target_lon, latitudes_t_24_0524, longitudes_t_24_0524) #from file funcions_autonom.py\n",
    "rss_matrix_t_24_0524 = f.rss_matrix(120, piksel_row_t_24_0524,piksel_col_t_24_0524, l1d_cube_t_24_0524)\n",
    "        \n",
    "mean_spectrum_t_24_0524 = np.mean(rss_matrix_t_24_0524, axis=1) ## mean over rad  # gjenomsnitt\n",
    "median_spectrum_t_24_0524 = np.median(rss_matrix_t_24_0524, axis=1) # median over rad\n",
    "std_spectrum_t_24_0524 = np.std(rss_matrix_t_24_0524, axis=1)  #standard avik\n",
    "\n",
    "normaized_spectrum_t_24_0524 = f.min_max_nomralization(mean_spectrum_t_24_0524) #min max normalisering\n",
    "normaized_spectrum_median_t_24_0524 = f.min_max_nomralization(median_spectrum_t_24_0524) #min max normalisering\n",
    "\n",
    "l2_norm_t_24_0524 = np.linalg.norm(mean_spectrum_t_24_0524)  #l2 norm\n",
    "l2_normalized_spectrum_t_24_0524 = mean_spectrum_t_24_0524 / l2_norm_t_24_0524  #l2 normalisering\n",
    "\n",
    "l2_norm_median_t_24_0524 = np.linalg.norm(median_spectrum_t_24_0524)  #l2 norm\n",
    "l2_normalized_median_spectrum_t_24_0524 = median_spectrum_t_24_0524 / l2_norm_median_t_24_0524  #l2 normalisering"
   ]
  },
  {
   "cell_type": "code",
   "execution_count": null,
   "id": "47640309",
   "metadata": {},
   "outputs": [
    {
     "name": "stdout",
     "output_type": "stream",
     "text": [
      "Pixel number:  1924\n"
     ]
    }
   ],
   "source": [
    "latitudes_24_0713 = satobj_h1_24_0713.latitudes\n",
    "longitudes_24_0713 = satobj_h1_24_0713.longitudes\n",
    "\n",
    "piksel_row_24_0713, piksel_col_24_0713 = f.latLong_to_piksel(target_lat, target_lon, latitudes_24_0713, longitudes_24_0713) #from file funcions_autonom.py\n",
    "#rss_matrix_0730 = f.rss_matrix(120, piksel_row_0412,piksel_col_0412, l1d_cube_0412)\n",
    "rss_matrix_24_0713 = f.water_masked_rss_matrix(piksel_row_24_0713,piksel_col_24_0713, l1d_cube_24_0713, satobj_h1_24_0713)\n",
    "        \n",
    "mean_spectrum_24_0713 = np.mean(rss_matrix_24_0713, axis=1) ## mean over rad  # gjenomsnitt\n",
    "median_spectrum_24_0713 = np.median(rss_matrix_24_0713, axis=1) # median over rad\n",
    "std_spectrum_24_0713 = np.std(rss_matrix_24_0713, axis=1)  #standard avik\n",
    "\n",
    "normaized_spectrum_24_0713 = f.min_max_nomralization(mean_spectrum_24_0713) #min max normalisering\n",
    "normaized_spectrum_median_24_0713 = f.min_max_nomralization(median_spectrum_24_0713) #min max normalisering\n",
    "\n",
    "l2_norm_24_0713 = np.linalg.norm(mean_spectrum_24_0713)  #l2 norm\n",
    "l2_normalized_spectrum_24_0713 = mean_spectrum_24_0713 / l2_norm_24_0713  #l2 normalisering\n",
    "\n",
    "l2_norm_median_24_0713 = np.linalg.norm(median_spectrum_24_0713)  #l2 norm\n",
    "l2_normalized_median_spectrum_24_0713 = median_spectrum_24_0713 / l2_norm_median_24_0713  #l2 normalisering"
   ]
  },
  {
   "cell_type": "code",
   "execution_count": null,
   "id": "efab62e9",
   "metadata": {},
   "outputs": [
    {
     "name": "stdout",
     "output_type": "stream",
     "text": [
      "Pixel number:  2930\n"
     ]
    }
   ],
   "source": [
    "latitudes_24_0615 = satobj_h1_24_0615.latitudes\n",
    "longitudes_24_0615 = satobj_h1_24_0615.longitudes\n",
    "\n",
    "piksel_row_24_0615, piksel_col_24_0615 = f.latLong_to_piksel(target_lat, target_lon, latitudes_24_0615, longitudes_24_0615) #from file funcions_autonom.py\n",
    "#rss_matrix_0730 = f.rss_matrix(120, piksel_row_0412,piksel_col_0412, l1d_cube_0412)\n",
    "rss_matrix_24_0615 = f.water_masked_rss_matrix(piksel_row_24_0615,piksel_col_24_0615, l1d_cube_24_0615, satobj_h1_24_0615)\n",
    "        \n",
    "mean_spectrum_24_0615 = np.mean(rss_matrix_24_0615, axis=1) ## mean over rad  # gjenomsnitt\n",
    "median_spectrum_24_0615 = np.median(rss_matrix_24_0615, axis=1) # median over rad\n",
    "std_spectrum_24_0615 = np.std(rss_matrix_24_0615, axis=1)  #standard avik\n",
    "\n",
    "normaized_spectrum_24_0615 = f.min_max_nomralization(mean_spectrum_24_0615) #min max normalisering\n",
    "normaized_spectrum_median_24_0615 = f.min_max_nomralization(median_spectrum_24_0615) #min max normalisering\n",
    "\n",
    "l2_norm_24_0615 = np.linalg.norm(mean_spectrum_24_0615)  #l2 norm\n",
    "l2_normalized_spectrum_24_0615 = mean_spectrum_24_0615 / l2_norm_24_0615  #l2 normalisering\n",
    "\n",
    "l2_norm_median_24_0615 = np.linalg.norm(median_spectrum_24_0615)  #l2 norm\n",
    "l2_normalized_median_spectrum_24_0615 = median_spectrum_24_0615 / l2_norm_median_24_0615  #l2 normalisering"
   ]
  },
  {
   "cell_type": "code",
   "execution_count": null,
   "id": "14f900a6",
   "metadata": {},
   "outputs": [
    {
     "name": "stdout",
     "output_type": "stream",
     "text": [
      "Pixel number:  80\n"
     ]
    }
   ],
   "source": [
    "latitudes_t_22_0824 = satobj_h1_t_22_0824.latitudes\n",
    "longitudes_t_22_0824 = satobj_h1_t_22_0824.longitudes\n",
    "\n",
    "piksel_row_t_22_0824, piksel_col_t_22_0824 = f.latLong_to_piksel(target_lat, target_lon, latitudes_t_22_0824, longitudes_t_22_0824) #from file funcions_autonom.py\n",
    "#rss_matrix_0328 = f.rss_matrix(120, piksel_row_0328,piksel_col_0328, l1d_cube_0328)\n",
    "rss_matrix_t_22_0824 = f.water_masked_rss_matrix(piksel_row_t_22_0824,piksel_col_t_22_0824, l1d_cube_t_22_0824, satobj_h1_t_22_0824)\n",
    "        \n",
    "mean_spectrum_t_22_0824 = np.mean(rss_matrix_t_22_0824, axis=1) ## mean over rad  # gjenomsnitt\n",
    "median_spectrum_t_22_0824 = np.median(rss_matrix_t_22_0824, axis=1) ## mean over rad  # gjenomsnitt\n",
    "\n",
    "l2_norm_t_22_0824 = np.linalg.norm(mean_spectrum_t_22_0824)  #l2 norm\n",
    "l2_normalized_spectrum_t_22_0824 = mean_spectrum_t_22_0824 / l2_norm_t_22_0824  #l2 normalisering\n",
    "\n",
    "l2_norm_median_t_22_0824 = np.linalg.norm(median_spectrum_t_22_0824)  #l2 norm\n",
    "l2_normalized_median_spectrum_t_22_0824 = median_spectrum_t_22_0824 / l2_norm_median_t_22_0824  #l2 normalisering\n",
    "\n",
    "normaized_spectrum_t_22_0824 = f.min_max_nomralization(mean_spectrum_t_22_0824) #min max normalisering'\n",
    "normaized_spectrum_median_t_22_0824 = f.min_max_nomralization(median_spectrum_t_22_0824) #min max normalisering\n",
    "\n",
    "std_spectrum_t_22_0824 = np.std(rss_matrix_t_22_0824, axis=1)  #standard avik"
   ]
  },
  {
   "cell_type": "code",
   "execution_count": null,
   "id": "5ed993a7",
   "metadata": {},
   "outputs": [
    {
     "name": "stdout",
     "output_type": "stream",
     "text": [
      "Pixel number:  323\n"
     ]
    }
   ],
   "source": [
    "latitudes_t_24_0911 = satobj_h1_t_24_0911.latitudes\n",
    "longitudes_t_24_0911 = satobj_h1_t_24_0911.longitudes\n",
    "\n",
    "piksel_row_t_24_0911, piksel_col_t_24_0911 = f.latLong_to_piksel(target_lat, target_lon, latitudes_t_24_0911, longitudes_t_24_0911) #from file funcions_autonom.py\n",
    "#rss_matrix_0328 = f.rss_matrix(120, piksel_row_0328,piksel_col_0328, l1d_cube_0328)\n",
    "rss_matrix_t_24_0911 = f.water_masked_rss_matrix(piksel_row_t_24_0911,piksel_col_t_24_0911, l1d_cube_t_24_0911, satobj_h1_t_24_0911)\n",
    "        \n",
    "mean_spectrum_t_24_0911 = np.mean(rss_matrix_t_24_0911, axis=1) ## mean over rad  # gjenomsnitt\n",
    "median_spectrum_t_24_0911 = np.median(rss_matrix_t_24_0911, axis=1) ## mean over rad  # gjenomsnitt\n",
    "\n",
    "l2_norm_t_24_0911 = np.linalg.norm(mean_spectrum_t_24_0911)  #l2 norm\n",
    "l2_normalized_spectrum_t_24_0911 = mean_spectrum_t_24_0911 / l2_norm_t_24_0911  #l2 normalisering\n",
    "\n",
    "l2_norm_median_t_24_0911 = np.linalg.norm(median_spectrum_t_24_0911)  #l2 norm\n",
    "l2_normalized_median_spectrum_t_24_0911 = median_spectrum_t_24_0911 / l2_norm_median_t_24_0911  #l2 normalisering\n",
    "\n",
    "normaized_spectrum_t_24_0911 = f.min_max_nomralization(mean_spectrum_t_24_0911) #min max normalisering\n",
    "normaized_spectrum_median_t_24_0911 = f.min_max_nomralization(median_spectrum_t_24_0911) #min max normalisering\n",
    "\n",
    "std_spectrum_t_24_0911 = np.std(rss_matrix_t_24_0911, axis=1)  #standard avik"
   ]
  },
  {
   "cell_type": "code",
   "execution_count": null,
   "id": "7c6c6990",
   "metadata": {},
   "outputs": [
    {
     "name": "stdout",
     "output_type": "stream",
     "text": [
      "Pixel number:  6241\n"
     ]
    }
   ],
   "source": [
    "latitudes_t_24_0914 = satobj_h1_t_24_0914.latitudes\n",
    "longitudes_t_24_0914 = satobj_h1_t_24_0914.longitudes\n",
    "\n",
    "piksel_row_t_24_0914, piksel_col_t_24_0914 = f.latLong_to_piksel(target_lat, target_lon, latitudes_t_24_0914, longitudes_t_24_0914) #from file funcions_autonom.py\n",
    "#rss_matrix_0328 = f.rss_matrix(120, piksel_row_0328,piksel_col_0328, l1d_cube_0328)\n",
    "rss_matrix_t_24_0914 = f.water_masked_rss_matrix(piksel_row_t_24_0914,piksel_col_t_24_0914, l1d_cube_t_24_0914, satobj_h1_t_24_0914)\n",
    "        \n",
    "mean_spectrum_t_24_0914 = np.mean(rss_matrix_t_24_0914, axis=1) ## mean over rad  # gjenomsnitt\n",
    "median_spectrum_t_24_0914 = np.median(rss_matrix_t_24_0914, axis=1) ## mean over rad  # gjenomsnitt\n",
    "\n",
    "l2_norm_t_24_0914 = np.linalg.norm(mean_spectrum_t_24_0914)  #l2 norm\n",
    "l2_normalized_spectrum_t_24_0914 = mean_spectrum_t_24_0914 / l2_norm_t_24_0914  #l2 normalisering\n",
    "\n",
    "l2_norm_median_t_24_0914 = np.linalg.norm(median_spectrum_t_24_0914)  #l2 norm\n",
    "l2_normalized_median_spectrum_t_24_0914 = median_spectrum_t_24_0914 / l2_norm_median_t_24_0914  #l2 normalisering\n",
    "\n",
    "normaized_spectrum_t_24_0914 = f.min_max_nomralization(mean_spectrum_t_24_0914) #min max normalisering\n",
    "normaized_spectrum_median_t_24_0914 = f.min_max_nomralization(median_spectrum_t_24_0914) #min max normalisering\n",
    "\n",
    "std_spectrum_t_24_0914 = np.std(rss_matrix_t_24_0914, axis=1)  #standar4_0914"
   ]
  },
  {
   "cell_type": "code",
   "execution_count": null,
   "id": "71912ff1",
   "metadata": {},
   "outputs": [
    {
     "data": {
      "image/png": "[encoded data removed]",
      "text/plain": [
       "<Figure size 640x480 with 1 Axes>"
      ]
     },
     "metadata": {},
     "output_type": "display_data"
    }
   ],
   "source": [
    "#plotting\n",
    "#plt.plot(x, mean_spectrum, color='black', label='mean 0316')\n",
    "#plt.plot(x, mean_spectrum_0328, color='black', label='0328')\n",
    "#plt.plot(x, mean_spectrum_0329, color='black', label='0329')\n",
    "#plt.plot(x, mean_spectrum_0330, color='black', label='0330')\n",
    "#\n",
    "#plt.plot(x, mean_spectrum_0407, color='blue', label='0407')\n",
    "#plt.plot(x, mean_spectrum_0412, color='blue', label='0412')\n",
    "#\n",
    "#plt.plot(x, mean_spectrum_0614, color='red', label='0614')\n",
    "#plt.plot(x, mean_spectrum_0730, color='pink', label='0730')\n",
    "\n",
    "################################### median spectrums 2023 ###################################\n",
    "#plt.plot(x, median_spectrum, color='black', linestyle='--', label='median 0316')\n",
    "#plt.plot(x, median_spectrum_0328, color='black', linestyle='--', label='median 0328')\n",
    "#plt.plot(x, median_spectrum_0329, color='black', linestyle='--', label='median 0329')\n",
    "#plt.plot(x, median_spectrum_0330, color='black', linestyle='--', label='median 0330')\n",
    "#\n",
    "plt.plot(x, median_spectrum_0407, color='blue', label='median 0407')\n",
    "plt.plot(x, median_spectrum_0412, color='blue', label='median 0412')\n",
    "#\n",
    "#plt.plot(x, median_spectrum_0614, color='red', linestyle='--', label='median 0614')\n",
    "#plt.plot(x, median_spectrum_0730, color='pink', linestyle='--', label='median 0730')\n",
    "\n",
    "###################### median spectrums 2024 ############################\n",
    "plt.plot(x, median_spectrum_24_0419, color='red', linestyle='--', label='median 24 0419')\n",
    "plt.plot(x, median_spectrum_24_0426, color='red', linestyle='--', label='median 24 0426')\n",
    "\n",
    "\n",
    "################################### normalized spectrums with mean  ###################################\n",
    " #plt.plot(x, normaized_spectrum, color='black', label='0316')\n",
    "# plt.plot(x, normaized_spectrum_0328, color='black')\n",
    "# plt.plot(x, normaized_spectrum_0329, color='black')\n",
    "# plt.plot(x, normaized_spectrum_0330, color='black')\n",
    "# \n",
    "#plt.plot(x, normaized_spectrum_0407, color='blue', label=' normalized 0407')\n",
    "#plt.plot(x, normaized_spectrum_0412, color='blue', label='normalized 0412')\n",
    "# \n",
    "# plt.plot(x, normaized_spectrum_0614, color='red')\n",
    "# plt.plot(x, normaized_spectrum_0730, color='pink')\n",
    "\n",
    "#plt.plot(x, normaized_spectrum_24_0310, color='purple', label='24 0310') -> 1 piksel\n",
    "\n",
    "#plt.plot(x, normaized_spectrum_24_0419, color='blue')\n",
    "#plt.plot(x, normaized_spectrum_24_0426, color='blue', label=' Apr')\n",
    "\n",
    "#plt.plot(x, normaized_spectrum_24_0506, color='red')\n",
    "#plt.plot(x, normaized_spectrum_24_0524, color='red', label=' May')\n",
    "\n",
    "#plt.plot(x, normaized_spectrum_24_0713, color='pink', label=' Jul')\n",
    "#plt.plot(x, normaized_spectrum_24_0615, color='red', label=' Jun')\n",
    "\n",
    "#plt.plot(x, normaized_spectrum_t_22_0824, color='green', label='n 0419')\n",
    "\n",
    "#plt.plot(x, normaized_spectrum_t_24_0911, color='purple')\n",
    "#plt.plot(x, normaized_spectrum_t_24_0914, color='purple', label='Sep')\n",
    "\n",
    "################################## normalized spectrums with median  ###################################\n",
    "#plt.plot(x, normaized_spectrum_median, color='black', label='Mar 23')\n",
    "#plt.plot(x, normaized_spectrum_median_0328, color='black')\n",
    "#plt.plot(x, normaized_spectrum_median_0329, color='black')\n",
    "#plt.plot(x, normaized_spectrum_median_0330, color='red', label='0330')\n",
    "#\n",
    "#plt.plot(x, normaized_spectrum_median_0407, color='blue', label = 'Apr 23')\n",
    "#plt.plot(x, normaized_spectrum_median_0412, color='blue')\n",
    "#\n",
    "#plt.plot(x, normaized_spectrum_median_0614, color='indigo', label='Jun 23')\n",
    "#plt.plot(x, normaized_spectrum_median_0730, color='pink', label='Jul 23')\n",
    "#\n",
    "### ikke bruk med område 6.1 #plt.plot(x, normaized_spectrum_median_24_0310, color='black', linestyle = '--', label='Mar 24') #1 piksel\n",
    "#\n",
    "#plt.plot(x, normaized_spectrum_median_24_0426, color='blue', linestyle = '--', label=' Apr 24')\n",
    "#plt.plot(x, normaized_spectrum_median_24_0419, color='blue', linestyle = '--')\n",
    "#\n",
    "#plt.plot(x, normaized_spectrum_median_24_0506, color='purple', linestyle = '--', label = 'May 24')\n",
    "#plt.plot(x, normaized_spectrum_median_t_24_0524, color='purple', linestyle = '--')\n",
    "#\n",
    "#plt.plot(x, normaized_spectrum_median_24_0713, color='pink', linestyle = '--', label='Jul 24')\n",
    "#plt.plot(x, normaized_spectrum_median_24_0615, color='red', linestyle = '--', label=' Jun 24')\n",
    "#\n",
    "#plt.plot(x, normaized_spectrum_median_t_22_0824, color='green', label='Aug 22 t')\n",
    "#\n",
    "#plt.plot(x, normaized_spectrum_median_t_24_0911, color='purple', linestyle = '--')\n",
    "#plt.plot(x, normaized_spectrum_median_t_24_0914, color='purple', linestyle = '--', label='Sep 24 t')\n",
    "\n",
    "############################## l2 normalized spectrums  ###################################\n",
    "\n",
    "###################################### regarding the plots represenation ##############################\n",
    "plt.xlabel(\"Wawelength (nm)\")\n",
    "plt.ylabel(\"Top-of-Atmosphere Reflectance  [sr^{-1}]\") #finne enheten her\n",
    "plt.title(\"Min max normalized median spectrum 2022 - 2024\")\n",
    "plt.grid(True, alpha=0.3)\n",
    "plt.legend()\n",
    "plt.show()"
   ]
  },
  {
   "cell_type": "markdown",
   "id": "f697e83b",
   "metadata": {},
   "source": [
    "## Clustering"
   ]
  },
  {
   "cell_type": "code",
   "execution_count": null,
   "id": "2907b737",
   "metadata": {},
   "outputs": [],
   "source": [
    "from sklearn.cluster import KMeans\n",
    "from collections import defaultdict\n",
    "\n",
    "np.random.seed(42)"
   ]
  },
  {
   "cell_type": "code",
   "execution_count": null,
   "id": "15107d72",
   "metadata": {},
   "outputs": [
    {
     "name": "stdout",
     "output_type": "stream",
     "text": [
      "[0 0 0 1 0 1 1 1]\n"
     ]
    },
    {
     "data": {
      "image/png": "[encoded data removed]",
      "text/plain": [
       "<Figure size 640x480 with 1 Axes>"
      ]
     },
     "metadata": {},
     "output_type": "display_data"
    },
    {
     "data": {
      "image/png": "[encoded data removed]",
      "text/plain": [
       "<Figure size 640x480 with 1 Axes>"
      ]
     },
     "metadata": {},
     "output_type": "display_data"
    },
    {
     "name": "stdout",
     "output_type": "stream",
     "text": [
      "Cluster 0: ['24_0419', '24_0426', '24_0506', '24_0615']\n",
      "Cluster 1: ['t_24_0524', '24_0713', 't_24_0911', 't_24_0914']\n"
     ]
    }
   ],
   "source": [
    "#normalized_clustering_data = [normaized_spectrum_0407, normaized_spectrum_0412, normaized_spectrum_24_0419, normaized_spectrum_24_0426]\n",
    "normalized_clustering_data_all = [normaized_spectrum_t_22_0824, normaized_spectrum, normaized_spectrum_0328, normaized_spectrum_0329, normaized_spectrum_0330, normaized_spectrum_0407, normaized_spectrum_0412, normaized_spectrum_0614, normaized_spectrum_0730,  normaized_spectrum_24_0419, normaized_spectrum_24_0426, normaized_spectrum_24_0506, normaized_spectrum_t_24_0524, normaized_spectrum_24_0615, normaized_spectrum_24_0713, normaized_spectrum_t_24_0911, normaized_spectrum_t_24_0914]\n",
    "normalized_clustering_data_2023 = [normaized_spectrum, normaized_spectrum_0328, normaized_spectrum_0329, normaized_spectrum_0330, normaized_spectrum_0407, normaized_spectrum_0412, normaized_spectrum_0614, normaized_spectrum_0730]\n",
    "normalized_clustering_data_2024 = [normaized_spectrum_24_0419, normaized_spectrum_24_0426, normaized_spectrum_24_0506, normaized_spectrum_t_24_0524, normaized_spectrum_24_0615, normaized_spectrum_24_0713, normaized_spectrum_t_24_0911, normaized_spectrum_t_24_0914] #normaized_spectrum_24_0310,\n",
    "normalized_clustering_data_2024_frohavet = [normaized_spectrum_24_0419, normaized_spectrum_24_0426, normaized_spectrum_24_0506, normaized_spectrum_24_0615, normaized_spectrum_24_0713]\n",
    "normalized_clustering_data_all_frohavet = [normaized_spectrum, normaized_spectrum_0328, normaized_spectrum_0329, normaized_spectrum_0330, normaized_spectrum_0407, normaized_spectrum_0412, normaized_spectrum_0614, normaized_spectrum_0730, normaized_spectrum_24_0419, normaized_spectrum_24_0426, normaized_spectrum_24_0506, normaized_spectrum_24_0615, normaized_spectrum_24_0713]\n",
    "\n",
    "min_max_normalization_median_all = [normaized_spectrum_median_t_22_0824, normaized_spectrum_median, normaized_spectrum_median_0328, normaized_spectrum_median_0329, normaized_spectrum_median_0330, normaized_spectrum_median_0407, normaized_spectrum_median_0412, normaized_spectrum_median_0614, normaized_spectrum_median_0730,  normaized_spectrum_median_24_0419, normaized_spectrum_median_24_0426, normaized_spectrum_median_24_0506, normaized_spectrum_median_t_24_0524, normaized_spectrum_median_24_0615, normaized_spectrum_median_24_0713, normaized_spectrum_median_t_24_0911, normaized_spectrum_median_t_24_0914]\n",
    "min_max_normalization_median_2023 = [normaized_spectrum_median, normaized_spectrum_median_0328, normaized_spectrum_median_0329, normaized_spectrum_median_0330, normaized_spectrum_median_0407, normaized_spectrum_median_0412, normaized_spectrum_median_0614, normaized_spectrum_median_0730]\n",
    "min_max_normalization_median_2024 = [normaized_spectrum_median_24_0419, normaized_spectrum_median_24_0426, normaized_spectrum_median_24_0506, normaized_spectrum_median_t_24_0524, normaized_spectrum_median_24_0615, normaized_spectrum_median_24_0713, normaized_spectrum_median_t_24_0911, normaized_spectrum_median_t_24_0914] #normaized_spectrum_median_24_0310,\n",
    "#må se gjennom om de er korrekte #min_max_normalization_median_2024_frohavet = [normaized_spectrum_median_24_0419, normaized_spectrum_median_24_0426, normaized_spectrum_median_24_0506, normaized_spectrum_median_24_0615, normaized_spectrum_median_24_0713]\n",
    "#må se gjennom om de er korrekte #min_max_normalization_median_all_frohavet = [normaized_spectrum_median, normaized_spectrum_median_0328, normaized_spectrum_median_0329, normaized_spectrum_median_0330, normaized_spectrum_median_0407, normaized_spectrum_median_0412, normaized_spectrum_median_0614, normaized_spectrum_median_0730, normaized_spectrum_median_24_0419, normaized_spectrum_median_24_0426, normaized_spectrum_median_24_0506, normaized_spectrum_median_24_0615, normaized_spectrum_median_24_0713]\n",
    "\n",
    "l2_clustering_median_all = [l2_normalized_median_spectrum_t_22_0824, l2_normalized_median_spectrum, l2_normalized_median_spectrum_0328, l2_normalized_median_spectrum_0329, l2_normalized_median_spectrum_0330, l2_normalized_median_spectrum_0407, l2_normalized_median_spectrum_0412, l2_normalized_median_spectrum_0614, l2_normalized_median_spectrum_0730,  l2_normalized_median_spectrum_24_0419, l2_normalized_median_spectrum_24_0426, l2_normalized_median_spectrum_24_0506, l2_normalized_median_spectrum_t_24_0524, l2_normalized_median_spectrum_24_0615, l2_normalized_median_spectrum_24_0713, l2_normalized_median_spectrum_t_24_0911, l2_normalized_median_spectrum_t_24_0914]\n",
    "l2_clustering_median_2023 = [l2_normalized_median_spectrum, l2_normalized_median_spectrum_0328, l2_normalized_median_spectrum_0329, l2_normalized_median_spectrum_0330, l2_normalized_median_spectrum_0407, l2_normalized_median_spectrum_0412, l2_normalized_median_spectrum_0614, l2_normalized_median_spectrum_0730]\n",
    "l2_clustering_median_2024 = [l2_normalized_median_spectrum_24_0419, l2_normalized_median_spectrum_24_0426, l2_normalized_median_spectrum_24_0506, l2_normalized_median_spectrum_t_24_0524, l2_normalized_median_spectrum_24_0615, l2_normalized_median_spectrum_24_0713, l2_normalized_median_spectrum_t_24_0911, l2_normalized_median_spectrum_t_24_0914] #l2_normalized_median_spectrum_24_0310,\n",
    "#må se gjennom om de er korrekte #l2_clustering_median_2024_frohavet = [l2_normalized_median_spectrum_24_0419, l2_normalized_median_spectrum_24_0426, l2_normalized_median_spectrum_24_0506, l2_normalized_median_spectrum_24_0615, l2_normalized_median_spectrum_24_0713]\n",
    "#må se gjennom om de er korrekte #l2_clustering_median_all_frohavet = [l2_normalized_median_spectrum, l2_normalized_median_spectrum_0328, l2_normalized_median_spectrum_0329, l2_normalized_median_spectrum_0330, l2_normalized_median_spectrum_0407, l2_normalized_median_spectrum_0412, l2_normalized_median_spectrum_0614, l2_normalized_median_spectrum_0730, l2_normalized_median_spectrum_24_0419, l2_normalized_median_spectrum_24_0426, l2_normalized_median_spectrum_24_0506, l2_normalized_median_spectrum_24_0615, l2_normalized_median_spectrum_24_0713]\n",
    "\n",
    "k=2\n",
    "\n",
    "kmeans = KMeans(n_clusters=k, random_state=42)\n",
    "#labels = kmeans.fit(normalized_clustering_data)\n",
    "labels = kmeans.fit_predict(l2_clustering_median_2024) #********************************************\n",
    "\n",
    "print(labels)\n",
    "\n",
    "for i, center in enumerate(kmeans.cluster_centers_):\n",
    "    plt.plot(center, label=f'Cluster {i}')\n",
    "plt.xlabel('Band Index')\n",
    "plt.ylabel('Normalized Reflectance')\n",
    "plt.title('Cluster Centers (Spectral Signatures)')\n",
    "plt.grid(True, alpha=0.3)\n",
    "plt.legend()\n",
    "plt.show()\n",
    "\n",
    "colors = ['red', 'blue', 'green', 'orange', 'purple', 'black', 'pink', 'cyan']\n",
    "\n",
    "# Plot each spectrum, colored by its assigned cluster\n",
    "for spectrum, label in zip(l2_clustering_median_2024, labels): #********************************************'\n",
    "    plt.plot(spectrum, color=colors[label], alpha=0.7)\n",
    "\n",
    "plt.xlabel('Band Index')\n",
    "plt.ylabel('Normalized Reflectance')\n",
    "plt.title('Spectra Colored by Cluster')\n",
    "plt.grid(True, alpha=0.3)\n",
    "plt.show()\n",
    "\n",
    "#spectrum_names = ['0407', '0412', '24_0419', '24_0426']\n",
    "spectrum_names_2023 = [\n",
    "    '0316', \n",
    "    '0328',\n",
    "    '0329',\n",
    "    '0330',\n",
    "    '0407',\n",
    "    '0412',\n",
    "    '0614',\n",
    "    '0730'\n",
    "]\n",
    "spectrum_names_2024 = [\n",
    "    \n",
    "    '24_0419',\n",
    "    '24_0426',\n",
    "    '24_0506',\n",
    "    't_24_0524',\n",
    "    '24_0615',\n",
    "    '24_0713',\n",
    "    't_24_0911',\n",
    "    't_24_0914'\n",
    "] #'24_0310',\n",
    "spectrum_names_all = [\n",
    "    't_22_0824',\n",
    "    '0316', \n",
    "    '0328',\n",
    "    '0329',\n",
    "    '0330',\n",
    "    '0407',\n",
    "    '0412',\n",
    "    '0614',\n",
    "    '0730',\n",
    "    \n",
    "    '24_0419',\n",
    "    '24_0426',\n",
    "    '24_0506',\n",
    "    't_24_0524',\n",
    "    '24_0615',\n",
    "    '24_0713',\n",
    "    't_24_0911',\n",
    "    't_24_0914'\n",
    "] #'24_0310',\n",
    "spectrum_names_2024_frohavet = [\n",
    "    '24_0419',\n",
    "    '24_0426',\n",
    "    '24_0506',\n",
    "    '24_0615',\n",
    "    '24_0713'\n",
    "]\n",
    "spectrum_names_all_frohavet = [\n",
    "    '0316', \n",
    "    '0328',\n",
    "    '0329',\n",
    "    '0330',\n",
    "    '0407',\n",
    "    '0412',\n",
    "    '0614',\n",
    "    '0730',\n",
    "    \n",
    "    '24_0419',\n",
    "    '24_0426',\n",
    "    '24_0506',\n",
    "    '24_0615',\n",
    "    '24_0713'\n",
    "]\n",
    "\n",
    "# Dictionary to hold spectra grouped by cluster\n",
    "clusters = defaultdict(list)\n",
    "\n",
    "# Group spectrum names by their assigned cluster\n",
    "for name, label in zip(spectrum_names_2024, labels): #*******************************************\n",
    "    clusters[label].append(name)\n",
    "\n",
    "# Print the result\n",
    "for cluster_id, names in clusters.items():\n",
    "    print(f\"Cluster {cluster_id}: {names}\")"
   ]
  },
  {
   "cell_type": "code",
   "execution_count": null,
   "id": "29b3dd1c",
   "metadata": {},
   "outputs": [
    {
     "data": {
      "image/png": "[encoded data removed]",
      "text/plain": [
       "<Figure size 800x500 with 1 Axes>"
      ]
     },
     "metadata": {},
     "output_type": "display_data"
    }
   ],
   "source": [
    "## elbow plot\n",
    "\n",
    "import matplotlib.pyplot as plt\n",
    "from sklearn.cluster import KMeans\n",
    "\n",
    "# Try different values of k\n",
    "inertias = []\n",
    "k_values = range(1, 8)  # Try k from 1 to 10\n",
    "\n",
    "for k in k_values:\n",
    "    kmeans = KMeans(n_clusters=k, random_state=42)\n",
    "    kmeans.fit(l2_clustering_median_2024) ##********************************************\n",
    "    inertias.append(kmeans.inertia_)\n",
    "\n",
    "# Plot the elbow curve\n",
    "plt.figure(figsize=(8, 5))\n",
    "plt.plot(k_values, inertias, marker='o')\n",
    "plt.xlabel('Number of Clusters (k)')\n",
    "plt.ylabel('Inertia')\n",
    "plt.title('Elbow Method for Optimal k')\n",
    "plt.xticks(k_values)\n",
    "plt.grid(True)\n",
    "plt.show()\n",
    "\n"
   ]
  }
 ],
 "metadata": {
  "kernelspec": {
   "display_name": "hypso-env",
   "language": "python",
   "name": "python3"
  },
  "language_info": {
   "codemirror_mode": {
    "name": "ipython",
    "version": 3
   },
   "file_extension": ".py",
   "mimetype": "text/x-python",
   "name": "python",
   "nbconvert_exporter": "python",
   "pygments_lexer": "ipython3",
   "version": "3.11.12"
  }
 },
 "nbformat": 4,
 "nbformat_minor": 5
}
