{
 "cells": [
  {
   "cell_type": "markdown",
   "id": "a025a163",
   "metadata": {},
   "source": [
    "## A comparison between the capture on the 11. of may 2025, between the H1 and H2 sattelite"
   ]
  },
  {
   "cell_type": "markdown",
   "id": "8346ed43",
   "metadata": {},
   "source": [
    "### Imports"
   ]
  },
  {
   "cell_type": "code",
   "execution_count": 1,
   "id": "c8e2ee4a",
   "metadata": {},
   "outputs": [],
   "source": [
    "from hypso import Hypso1, Hypso2\n",
    "import os \n",
    "import sys\n",
    "import matplotlib.pyplot as plt\n",
    "from global_land_mask import globe \n",
    "import numpy as np \n",
    "\n",
    "parent_dir = os.path.abspath('..')\n",
    "if parent_dir not in sys.path:\n",
    "    sys.path.append(parent_dir)\n",
    "\n",
    "import funcions_autonom as f\n",
    "import atmosperic_correction as atm_c ## obs denne het før ac -> kan føre til feil dersom man ikke finner funkjsons navn\n",
    "import base as ac\n",
    "\n",
    "import xarray as xr\n",
    "import re\n",
    "import math\n",
    "import importlib\n",
    "\n",
    "from sklearn.cluster import KMeans\n",
    "from collections import defaultdict\n",
    "\n",
    "from sklearn.preprocessing import StandardScaler\n",
    "\n",
    "np.random.seed(42)\n",
    "\n",
    "dir_path = \"..\" ## filene hentes fra en mappe over der vi er nå"
   ]
  },
  {
   "cell_type": "code",
   "execution_count": 2,
   "id": "4731a400",
   "metadata": {},
   "outputs": [
    {
     "data": {
      "text/plain": [
       "<module 'atmosperic_correction' from '/home/itk/Documents/AnneMarthe/Master/Hypos_analyse/atmosperic_correction.py'>"
      ]
     },
     "execution_count": 2,
     "metadata": {},
     "output_type": "execute_result"
    }
   ],
   "source": [
    "importlib.reload(f)\n",
    "importlib.reload(ac)\n",
    "importlib.reload(atm_c)"
   ]
  },
  {
   "cell_type": "markdown",
   "id": "944d90a7",
   "metadata": {},
   "source": [
    "### Data upploading "
   ]
  },
  {
   "cell_type": "code",
   "execution_count": 3,
   "id": "d93dbf63",
   "metadata": {},
   "outputs": [
    {
     "name": "stdout",
     "output_type": "stream",
     "text": [
      "[INFO] Loading L1a capture image63N9E_2025-05-11T10-04-27Z\n",
      "[INFO] Capture spatial dimensions: (598, 1092)\n",
      "[INFO] Capture capture type: wide\n",
      "[INFO] Loading L1b capture image63N9E_2025-05-11T10-04-27Z\n",
      "[INFO] Capture spatial dimensions: (598, 1092)\n",
      "[INFO] Capture capture type: wide\n",
      "[INFO] Loading L1c capture image63N9E_2025-05-11T10-04-27Z\n",
      "[INFO] Capture spatial dimensions: (598, 1092)\n",
      "[INFO] Capture capture type: wide\n",
      "[INFO] Loading L1d capture image63N9E_2025-05-11T10-04-27Z\n",
      "[INFO] Capture spatial dimensions: (598, 1092)\n",
      "[INFO] Capture capture type: wide\n",
      "[INFO] Running direct georeferencing...\n",
      "[INFO] ADCS samples: 431\n",
      "[INFO] ADCS time range: 1746957180.000000 to 1746958140.000000\n",
      "[INFO] Frame time range: 1746957867.923740 to 1746957917.673740\n",
      "[INFO] 199 sample(s) inside frame time range\n",
      "[INFO] Interpolating 598 frames\n",
      "[INFO] Computing pixel latitude and longitude coordinates ...\n",
      "[INFO] Interpolating pixel coordinate gaps...\n",
      "[INFO] Direct georeferencing done\n",
      "[INFO] Running track geometry computations...\n",
      "[INFO] Using UTM map: WGS 84 / UTM zone 32N EPSG: 32632\n",
      "[INFO] Track geometry computations done.\n",
      "[INFO] Running angles geometry computations...\n",
      "[INFO] Computing local angles (sun and satellite azimuth and zenith angles) ...\n",
      "[INFO] Using astropy on a subsampling of pixels ... (TODO skyfield may be faster)\n",
      "[INFO] Interpolating the rest of the pixels ...\n",
      "[INFO] Computing local angles done\n",
      "[INFO] Angles geometry computations done.\n"
     ]
    }
   ],
   "source": [
    "##H1\n",
    "\n",
    "image_path_t_25_0511 = os.path.join(dir_path, \"image63N9E_2025-05-11T10-04-27Z-l1a.nc\") \n",
    "\n",
    "trondheim_path_25_0511 = os.path.join(dir_path, \"image63N9E_2025-05-11T10-04-27Z-l1a.nc\")\n",
    "trondheim_path_25_0511_b = os.path.join(dir_path, \"image63N9E_2025-05-11T10-04-27Z-l1b.nc\")\n",
    "trondheim_path_25_0511_c = os.path.join(dir_path, \"image63N9E_2025-05-11T10-04-27Z-l1c.nc\")########## OBSOBSOSOSSB IKKE TRONDHIEM\n",
    "trondheim_path_25_0511_d = os.path.join(dir_path, \"image63N9E_2025-05-11T10-04-27Z-l1d.nc\")\n",
    "\n",
    "satobj_h1_25_0511 = Hypso1( path = trondheim_path_25_0511, verbose = True )\n",
    "\n",
    "l1a_cube_25_0511 = satobj_h1_25_0511.l1a_cube\n",
    "l1b_cube_25_0511 = Hypso1( path = trondheim_path_25_0511_b, verbose = True )\n",
    "l1c_cube_25_0511 = Hypso1( path = trondheim_path_25_0511_c, verbose = True )\n",
    "l1d_cube_25_0511 = Hypso1( path = trondheim_path_25_0511_d, verbose = True )\n",
    "\n",
    "l1b_cube_25_0511 = l1b_cube_25_0511.l1c_cube\n",
    "l1c_cube_25_0511 = l1c_cube_25_0511.l1b_cube\n",
    "l1d_cube_25_0511 = l1d_cube_25_0511.l1d_cube\n",
    "\n",
    "satobj_h1_25_0511.run_direct_georeferencing() # in order to get the longiyudes and latitudes "
   ]
  },
  {
   "cell_type": "code",
   "execution_count": 4,
   "id": "a8a7aee8",
   "metadata": {},
   "outputs": [
    {
     "name": "stdout",
     "output_type": "stream",
     "text": [
      "[INFO] Loading L1a capture image64N9E_2025-05-11T12-00-37Z\n",
      "[INFO] Capture spatial dimensions: (598, 1092)\n",
      "[INFO] Capture capture type: wide\n",
      "[INFO] Loading L1b capture image64N9E_2025-05-11T12-00-37Z\n",
      "[INFO] Capture spatial dimensions: (598, 1092)\n",
      "[INFO] Capture capture type: wide\n",
      "[INFO] Loading L1c capture image64N9E_2025-05-11T12-00-37Z\n",
      "[INFO] Capture spatial dimensions: (598, 1092)\n",
      "[INFO] Capture capture type: wide\n",
      "[INFO] Loading L1d capture image64N9E_2025-05-11T12-00-37Z\n",
      "[INFO] Capture spatial dimensions: (598, 1092)\n",
      "[INFO] Capture capture type: wide\n",
      "[INFO] Running direct georeferencing...\n",
      "[INFO] ADCS samples: 540\n",
      "[INFO] ADCS time range: 1746964170.000000 to 1746965100.000000\n",
      "[INFO] Frame time range: 1746964837.479518 to 1746964912.104518\n",
      "[INFO] 299 sample(s) inside frame time range\n",
      "[INFO] Interpolating 598 frames\n",
      "[INFO] Computing pixel latitude and longitude coordinates ...\n",
      "[INFO] Interpolating pixel coordinate gaps...\n",
      "[INFO] Direct georeferencing done\n",
      "[INFO] Running track geometry computations...\n",
      "[INFO] Using UTM map: WGS 84 / UTM zone 31N EPSG: 32631\n",
      "[INFO] Track geometry computations done.\n",
      "[INFO] Running angles geometry computations...\n",
      "[INFO] Computing local angles (sun and satellite azimuth and zenith angles) ...\n",
      "[INFO] Using astropy on a subsampling of pixels ... (TODO skyfield may be faster)\n",
      "[INFO] Interpolating the rest of the pixels ...\n",
      "[INFO] Computing local angles done\n",
      "[INFO] Angles geometry computations done.\n"
     ]
    }
   ],
   "source": [
    "## H2\n",
    "i_250511_2 = os.path.join(dir_path, \"image64N9E_2025-05-11T12-00-37Z-l1a.nc\")\n",
    "i_250511_2_b = os.path.join(dir_path, \"image64N9E_2025-05-11T12-00-37Z-l1b.nc\")\n",
    "i_250511_2_c = os.path.join(dir_path, \"image64N9E_2025-05-11T12-00-37Z-l1c.nc\")\n",
    "i_250511_2_d = os.path.join(dir_path, \"image64N9E_2025-05-11T12-00-37Z-l1d.nc\")\n",
    "\n",
    "satobj_h1_250511_2 = Hypso2( path = i_250511_2, verbose = True )\n",
    "\n",
    "l1a_cube_250511_2 = satobj_h1_250511_2.l1a_cube\n",
    "l1b_cube_250511_2 = Hypso2( path = i_250511_2_b, verbose = True )\n",
    "l1c_cube_250511_2 = Hypso2( path = i_250511_2_c, verbose = True )\n",
    "l1d_cube_250511_2 = Hypso2( path = i_250511_2_d, verbose = True )\n",
    "\n",
    "l1c_cube_250511_2 = l1c_cube_250511_2.l1c_cube\n",
    "l1b_cube_250511_2 = l1b_cube_250511_2.l1b_cube\n",
    "l1d_cube_250511_2 = l1d_cube_250511_2.l1d_cube\n",
    "\n",
    "satobj_h1_250511_2.run_direct_georeferencing() # in order to get the longiyudes and latitudes "
   ]
  },
  {
   "cell_type": "code",
   "execution_count": 5,
   "id": "80a194fd",
   "metadata": {},
   "outputs": [],
   "source": [
    "path_cla_atm_250511 = os.path.join(dir_path, \"image64N9E_2025-05-11T12-00-37Z-l1c.nc.polymer.nc\")######\n",
    "cla_atm_250511 = xr.open_dataset(path_cla_atm_250511)\n",
    "\n",
    "latitude_250511 = cla_atm_250511['latitude']\n",
    "longitude_250511 = cla_atm_250511['longitude']"
   ]
  },
  {
   "cell_type": "code",
   "execution_count": 6,
   "id": "8b78586a",
   "metadata": {},
   "outputs": [
    {
     "name": "stdout",
     "output_type": "stream",
     "text": [
      "Sorted rho variables: ['rho_w_418', 'rho_w_422', 'rho_w_425', 'rho_w_429', 'rho_w_432', 'rho_w_436', 'rho_w_439', 'rho_w_443', 'rho_w_446', 'rho_w_450', 'rho_w_453', 'rho_w_457', 'rho_w_460', 'rho_w_464', 'rho_w_467', 'rho_w_471', 'rho_w_474', 'rho_w_478', 'rho_w_481', 'rho_w_485', 'rho_w_488', 'rho_w_492', 'rho_w_495', 'rho_w_499', 'rho_w_502', 'rho_w_506', 'rho_w_509', 'rho_w_513', 'rho_w_516', 'rho_w_520', 'rho_w_523', 'rho_w_526', 'rho_w_530', 'rho_w_533', 'rho_w_537', 'rho_w_540', 'rho_w_544', 'rho_w_547', 'rho_w_551', 'rho_w_554', 'rho_w_558', 'rho_w_561', 'rho_w_565', 'rho_w_568', 'rho_w_572', 'rho_w_575', 'rho_w_579', 'rho_w_582', 'rho_w_585', 'rho_w_589', 'rho_w_592', 'rho_w_596', 'rho_w_599', 'rho_w_603', 'rho_w_606', 'rho_w_610', 'rho_w_613', 'rho_w_617', 'rho_w_620', 'rho_w_623', 'rho_w_627', 'rho_w_630', 'rho_w_634', 'rho_w_637', 'rho_w_641', 'rho_w_644', 'rho_w_648', 'rho_w_651', 'rho_w_654', 'rho_w_658', 'rho_w_661', 'rho_w_665', 'rho_w_668', 'rho_w_672', 'rho_w_675', 'rho_w_678', 'rho_w_682', 'rho_w_685', 'rho_w_689', 'rho_w_692', 'rho_w_696', 'rho_w_699', 'rho_w_702', 'rho_w_706', 'rho_w_709', 'rho_w_713', 'rho_w_716', 'rho_w_719', 'rho_w_723', 'rho_w_726', 'rho_w_730', 'rho_w_733', 'rho_w_737', 'rho_w_740', 'rho_w_743', 'rho_w_747', 'rho_w_750', 'rho_w_754', 'rho_w_757', 'rho_w_760', 'rho_w_764', 'rho_w_767', 'rho_w_771', 'rho_w_774', 'rho_w_777', 'rho_w_781', 'rho_w_784', 'rho_w_787', 'rho_w_791']\n",
      "109\n"
     ]
    }
   ],
   "source": [
    "rho_vars = [var for var in cla_atm_250511.variables if re.match(r'rho_w_\\d+', var)]\n",
    "rho_vars_sorted = sorted(rho_vars, key=lambda v: int(v.split('_')[-1])) #A variable containing the name of all the rho vaibles\n",
    "rho_vars_sorted = rho_vars_sorted[5:]\n",
    "print(\"Sorted rho variables:\", rho_vars_sorted)\n",
    "print(len(rho_vars_sorted))"
   ]
  },
  {
   "cell_type": "markdown",
   "id": "9a15cdd1",
   "metadata": {},
   "source": [
    "## ATMC RRS"
   ]
  },
  {
   "cell_type": "markdown",
   "id": "d35a6bba",
   "metadata": {},
   "source": [
    "### H1 analyse m atmc"
   ]
  },
  {
   "cell_type": "code",
   "execution_count": 7,
   "id": "16af62ee",
   "metadata": {},
   "outputs": [],
   "source": [
    "wl = satobj_h1_25_0511.wavelengths[9:118]\n",
    "x_123 = [387.84749685, 391.40406599, 394.95941579, 398.51354623, 402.06645732, 405.61814905, 409.16862143, 412.71787446, 416.26590814, 419.81272246, 423.35831743, 426.90269305, 430.44584931, 433.98778622, 437.52850378, 441.06800198, 444.60628083, 448.14334033, 451.67918047, 455.21380126, 458.7472027, 462.27938479, 465.81034752, 469.3400909 , 472.86861492,476.3959196 , 479.92200491, 483.44687088, 486.97051749, 490.49294475,494.01415266, 497.53414122, 501.05291042, 504.57046026, 508.08679076,511.6019019 , 515.11579369, 518.62846612, 522.13991921, 525.65015294,529.15916731, 532.66696233, 536.173538  , 539.67889432, 543.18303128,546.68594889, 550.18764715, 553.68812606, 557.18738561, 560.68542581,564.18224665, 567.67784814, 571.17223028, 574.66539307, 578.1573365, 581.64806058, 585.1375653 , 588.62585068, 592.1129167 , 595.59876336,599.08339068, 602.56679864, 606.04898725, 609.5299565 , 613.0097064 ,616.48823695, 619.96554815, 623.44163999, 626.91651248, 630.39016561,633.86259939, 637.33381382, 640.8038089 , 644.27258462, 647.74014099,651.20647801, 654.67159568, 658.13549399, 661.59817294, 665.05963255,668.5198728 , 671.9788937 , 675.43669524, 678.89327744, 682.34864028,685.80278376, 689.25570789, 692.70741267, 696.1578981 , 699.60716418,703.0552109 , 706.50203826, 709.94764628, 713.39203494, 716.83520425,720.2771542 , 723.7178848 , 727.15739605, 730.59568795, 734.03276049,737.46861368, 740.90324752, 744.336662  , 747.76885713, 751.19983291,754.62958933, 758.0581264 , 761.48544412, 764.91154248, 768.33642149,771.76008115, 775.18252146, 778.60374241, 782.02374401, 785.44252625,788.86008915, 792.27643269, 795.69155687, 799.10546171, 802.51814719]\n",
    "wl = x_123[9:118]\n",
    "\n",
    "target_lat_6 = [64.48557437461893,64.52896641587218, 64.20992561747796, 64.22009411667561] #område 7\n",
    "target_lon_6 = [9.886201113342556, 8.708294855080245,9.704720121565003,8.73032214102829]  \n",
    "\n",
    "target_lat_5 = [64.17324887890479,64.11631446557637, 63.896904083590066, 63.887923483169004] #område 6.1\n",
    "target_lon_5 = [9.582148298814932,8.924448409066027, 9.578289180688513, 8.96230357578283]\n",
    "\n",
    "target_lat_3 = [63.818490304354434,63.793837321385155, 63.65192496143867, 63.660555970548074] #område 2.1.\n",
    "target_lon_3 = [9.531415429238418, 9.442656298818237,9.526455044589706,9.439764451470932]\n",
    "\n",
    "target_lat_2 = [63.646767083517425,63.61771951990031, 63.47865598622861, 63.42721372576498] #område 5.1\n",
    "target_lon_2 = [9.804697410334523, 9.723689711502818,10.061035990832918,9.982929114384596]  \n",
    "\n",
    "target_lat_1 = [63.52676744792975, 63.55113867486421, 63.44802428401152, 63.46332195091103] #område 8 \n",
    "target_lon_1 = [10.726421572030368, 10.227932960954064, 10.706024496195505, 10.211631333282082] "
   ]
  },
  {
   "cell_type": "markdown",
   "id": "1c2d2be9",
   "metadata": {},
   "source": [
    "#### atm corrected data cube"
   ]
  },
  {
   "cell_type": "code",
   "execution_count": 8,
   "id": "4c1fc44c",
   "metadata": {},
   "outputs": [
    {
     "name": "stdout",
     "output_type": "stream",
     "text": [
      "0.007677513297904346\n",
      "0.002154747147845517\n",
      "0.0014970680661600475\n",
      "0.0012710268858370187\n",
      "0.0011681540432022797\n",
      "0.001114601762058431\n",
      "0.001084747517496288\n",
      "0.001067094682715943\n",
      "0.0010558224766535318\n",
      "0.0010482716283571776\n"
     ]
    }
   ],
   "source": [
    "cube_0511__h1 = np.array(l1d_cube_25_0511[:,:, 9:118]) # get the toa reflectance cube\n",
    "sat = np.max(l1a_cube_25_0511, axis = -1) > 35000 ##identifying saturated pixsels\n",
    "T, S, objs = ac.atm_correction(cube_0511__h1.reshape(-1,109), solar=np.ones(109), verbose = True, tol = 0.01, est_min_R = 0.05) # calculating transmission and scattering\n",
    "\n",
    "cube_norm_0511_h1 = (cube_0511__h1 - S) /T\n",
    "cube_norm_0511_h1[sat] = np.nan #normalizing the cube and setting saturated pixels to nan"
   ]
  },
  {
   "cell_type": "markdown",
   "id": "6726c4b6",
   "metadata": {},
   "source": [
    "#### RRS different areas"
   ]
  },
  {
   "cell_type": "code",
   "execution_count": 9,
   "id": "21ba59dd",
   "metadata": {},
   "outputs": [],
   "source": [
    "latitudes_0511_h1 = satobj_h1_25_0511.latitudes\n",
    "longitudes_0511_h1 = satobj_h1_25_0511.longitudes\n",
    "\n",
    "cx_h1 = 72\n",
    "cy_h1 = -19"
   ]
  },
  {
   "cell_type": "code",
   "execution_count": 10,
   "id": "1b56b350",
   "metadata": {},
   "outputs": [
    {
     "name": "stdout",
     "output_type": "stream",
     "text": [
      "64.69524026335026\n",
      "[np.int64(226), np.int64(221), np.int64(241), np.int64(238)] [np.int64(0), np.int64(0), np.int64(0), np.int64(0)]\n",
      "Pixel number:  3\n",
      "(3, 109)\n"
     ]
    }
   ],
   "source": [
    "latitudes_0511_h1 = satobj_h1_25_0511.latitudes\n",
    "longitudes_0511_h1 = satobj_h1_25_0511.longitudes\n",
    "\n",
    "print(latitudes_0511_h1[1][1])\n",
    "\n",
    "piksel_row_A1_0511_h1, piksel_col_A1_0511_h1 = f.latLong_to_piksel(target_lat_1, target_lon_1, latitudes_0511_h1, longitudes_0511_h1) #####________\n",
    "print(piksel_row_A1_0511_h1, piksel_col_A1_0511_h1) \n",
    "\n",
    "for i in range(4):\n",
    "    piksel_col_A1_0511_h1[i] = piksel_col_A1_0511_h1[i] + cx_h1\n",
    "    piksel_row_A1_0511_h1[i] = piksel_row_A1_0511_h1[i] + cy_h1\n",
    "\n",
    "rss_A1_0511_h1 = f.hyps1_rss_matrix(cube_norm_0511_h1, piksel_row_A1_0511_h1, piksel_col_A1_0511_h1, satobj_h1_25_0511)    #####________\n",
    "print(rss_A1_0511_h1.shape) \n",
    "median_A1_0511_h1_atmc = np.median(rss_A1_0511_h1, axis = 0)\n",
    "\n",
    "\n",
    "\n",
    "median_A1_0511_h1_atmc.shape\n",
    "normaized_spectrum_median_A1_0511_h1 = f.min_max_nomralization(median_A1_0511_h1_atmc)\n",
    "l2_norm_A1_0511_h1 = np.linalg.norm(median_A1_0511_h1_atmc)  \n",
    "l2_normalized_spectrum_A1_0511_h1 = median_A1_0511_h1_atmc / l2_norm_A1_0511_h1  \n",
    "\n"
   ]
  },
  {
   "cell_type": "code",
   "execution_count": 11,
   "id": "3d2d1ef1",
   "metadata": {},
   "outputs": [
    {
     "name": "stdout",
     "output_type": "stream",
     "text": [
      "[np.int64(209), np.int64(217), np.int64(235), np.int64(245)] [np.int64(178), np.int64(223), np.int64(0), np.int64(0)]\n",
      "Pixel number:  1498\n",
      "(1498, 109)\n"
     ]
    }
   ],
   "source": [
    "piksel_row_A2_0511_h1, piksel_col_A2_0511_h1 = f.latLong_to_piksel(target_lat_2, target_lon_2, latitudes_0511_h1, longitudes_0511_h1) #####________\n",
    "print(piksel_row_A2_0511_h1, piksel_col_A2_0511_h1) \n",
    "\n",
    "for i in range(4):\n",
    "    piksel_col_A2_0511_h1[i] = piksel_col_A2_0511_h1[i] + cx_h1\n",
    "    piksel_row_A2_0511_h1[i] = piksel_row_A2_0511_h1[i] + cy_h1\n",
    "\n",
    "rss_A2_0511_h1 = f.hyps1_rss_matrix(cube_norm_0511_h1, piksel_row_A2_0511_h1, piksel_col_A2_0511_h1, satobj_h1_25_0511)    #####________\n",
    "print(rss_A2_0511_h1.shape) \n",
    "\n",
    "median_A2_0511_h1_atmc = np.median(rss_A2_0511_h1, axis = 0)\n",
    "median_A2_0511_h1_atmc.shape\n",
    "normaized_spectrum_median_A2_0511_h1 = f.min_max_nomralization(median_A2_0511_h1_atmc)\n",
    "l2_norm_A2_0511_h1 = np.linalg.norm(median_A2_0511_h1_atmc)  \n",
    "l2_normalized_spectrum_A2_0511_h1 = median_A2_0511_h1_atmc / l2_norm_A2_0511_h1  "
   ]
  },
  {
   "cell_type": "code",
   "execution_count": 12,
   "id": "62a75c46",
   "metadata": {},
   "outputs": [
    {
     "name": "stdout",
     "output_type": "stream",
     "text": [
      "[np.int64(185), np.int64(192), np.int64(215), np.int64(216)] [np.int64(440), np.int64(490), np.int64(377), np.int64(440)]\n",
      "Pixel number:  18\n",
      "(18, 109)\n"
     ]
    }
   ],
   "source": [
    "piksel_row_A3_0511_h1, piksel_col_A3_0511_h1 = f.latLong_to_piksel(target_lat_3, target_lon_3, latitudes_0511_h1, longitudes_0511_h1) #####________\n",
    "print(piksel_row_A3_0511_h1, piksel_col_A3_0511_h1) \n",
    "\n",
    "for i in range(4):\n",
    "    piksel_col_A3_0511_h1[i] = piksel_col_A3_0511_h1[i] + cx_h1\n",
    "    piksel_row_A3_0511_h1[i] = piksel_row_A3_0511_h1[i] + cy_h1\n",
    "\n",
    "rss_A3_0511_h1 = f.hyps1_rss_matrix(cube_norm_0511_h1, piksel_row_A3_0511_h1, piksel_col_A3_0511_h1, satobj_h1_25_0511)    #####________\n",
    "print(rss_A3_0511_h1.shape) \n",
    "\n",
    "median_A3_0511_h1_atmc = np.median(rss_A3_0511_h1, axis = 0)\n",
    "median_A3_0511_h1_atmc.shape\n",
    "normaized_spectrum_median_A3_0511_h1 = f.min_max_nomralization(median_A3_0511_h1_atmc)\n",
    "l2_norm_A3_0511_h1 = np.linalg.norm(median_A3_0511_h1_atmc)  \n",
    "l2_normalized_spectrum_A3_0511_h1 = median_A3_0511_h1_atmc / l2_norm_A3_0511_h1  "
   ]
  },
  {
   "cell_type": "code",
   "execution_count": 13,
   "id": "140e0e2e",
   "metadata": {},
   "outputs": [
    {
     "name": "stdout",
     "output_type": "stream",
     "text": [
      "[np.int64(121), np.int64(147), np.int64(170), np.int64(187)] [np.int64(543), np.int64(950), np.int64(437), np.int64(844)]\n",
      "Pixel number:  7248\n",
      "(7248, 109)\n"
     ]
    }
   ],
   "source": [
    "piksel_row_A5_0511_h1, piksel_col_A5_0511_h1 = f.latLong_to_piksel(target_lat_5, target_lon_5, latitudes_0511_h1, longitudes_0511_h1) #####________\n",
    "print(piksel_row_A5_0511_h1, piksel_col_A5_0511_h1) \n",
    "\n",
    "for i in range(4):\n",
    "    piksel_col_A5_0511_h1[i] = piksel_col_A5_0511_h1[i] + cx_h1\n",
    "    piksel_row_A5_0511_h1[i] = piksel_row_A5_0511_h1[i] + cy_h1\n",
    "\n",
    "rss_A5_0511_h1 = f.hyps1_rss_matrix(cube_norm_0511_h1, piksel_row_A5_0511_h1, piksel_col_A5_0511_h1, satobj_h1_25_0511)    #####________\n",
    "print(rss_A5_0511_h1.shape) \n",
    "\n",
    "median_A5_0511_h1_atmc = np.median(rss_A5_0511_h1, axis = 0)\n",
    "median_A5_0511_h1_atmc.shape\n",
    "normaized_spectrum_median_A5_0511_h1 = f.min_max_nomralization(median_A5_0511_h1_atmc)\n",
    "l2_norm_A5_0511_h1 = np.linalg.norm(median_A5_0511_h1_atmc)  \n",
    "l2_normalized_spectrum_A5_0511_h1 = median_A5_0511_h1_atmc / l2_norm_A5_0511_h1  "
   ]
  },
  {
   "cell_type": "code",
   "execution_count": 14,
   "id": "a412c6c0",
   "metadata": {},
   "outputs": [
    {
     "name": "stdout",
     "output_type": "stream",
     "text": [
      "[np.int64(58), np.int64(74), np.int64(111), np.int64(133)] [np.int64(458), np.int64(1091), np.int64(475), np.int64(1091)]\n",
      "Pixel number:  23108\n",
      "(23108, 109)\n"
     ]
    }
   ],
   "source": [
    "piksel_row_A6_0511_h1, piksel_col_A6_0511_h1 = f.latLong_to_piksel(target_lat_6, target_lon_6, latitudes_0511_h1, longitudes_0511_h1) #####________\n",
    "print(piksel_row_A6_0511_h1, piksel_col_A6_0511_h1) \n",
    "\n",
    "for i in range(4):\n",
    "    piksel_col_A6_0511_h1[i] = piksel_col_A6_0511_h1[i] #+ cx_h1\n",
    "    piksel_row_A6_0511_h1[i] = piksel_row_A6_0511_h1[i] #+ cy_h1\n",
    "\n",
    "rss_A6_0511_h1 = f.hyps1_rss_matrix(cube_norm_0511_h1, piksel_row_A6_0511_h1, piksel_col_A6_0511_h1, satobj_h1_25_0511)    #####________\n",
    "print(rss_A6_0511_h1.shape) \n",
    "\n",
    "median_A6_0511_h1_atmc = np.median(rss_A6_0511_h1, axis = 0)\n",
    "median_A6_0511_h1_atmc.shape\n",
    "normaized_spectrum_median_A6_0511_h1 = f.min_max_nomralization(median_A6_0511_h1_atmc)\n",
    "l2_norm_A6_0511_h1 = np.linalg.norm(median_A6_0511_h1_atmc)  \n",
    "l2_normalized_spectrum_A6_0511_h1 = median_A6_0511_h1_atmc / l2_norm_A6_0511_h1  "
   ]
  },
  {
   "cell_type": "markdown",
   "id": "4f63281b",
   "metadata": {},
   "source": [
    "### H2 analyse m atmc"
   ]
  },
  {
   "cell_type": "code",
   "execution_count": 15,
   "id": "7cae5f6d",
   "metadata": {},
   "outputs": [
    {
     "name": "stdout",
     "output_type": "stream",
     "text": [
      "number of pixels in area: (451, 109)\n",
      "Median RSS for area: (109,)\n",
      "[-1.51061709e-03 -3.67649831e-03 -2.00276240e-03  4.11290239e-05\n",
      " -3.51379538e-04 -1.87228282e-03  2.54307431e-03  1.71533960e-03\n",
      "  4.82363999e-03  2.93951761e-03  5.71786938e-03  3.30243073e-03\n",
      "  4.83630784e-03  5.08383615e-03  4.82664630e-03  6.11417368e-03\n",
      "  5.23192855e-03  5.47124213e-03  6.53491495e-03  6.32358389e-03\n",
      "  6.59128139e-03  8.87025613e-03  7.40202144e-03  7.27240089e-03\n",
      "  7.28137465e-03  6.16149558e-03  6.82633137e-03  7.89794046e-03\n",
      "  8.37431382e-03  6.38538878e-03  7.97208399e-03  1.04298275e-02\n",
      "  7.52105564e-03  7.66872754e-03  8.24048463e-03  8.31238367e-03\n",
      "  7.07876356e-03  7.99222384e-03  7.50945648e-03  7.05645420e-03\n",
      "  7.11740972e-03  7.33227003e-03  6.92932494e-03  6.99329423e-03\n",
      "  6.13608770e-03  6.40313374e-03  6.18887972e-03  5.98992920e-03\n",
      "  6.62503904e-03  7.05600157e-03  5.10420790e-03  5.12824720e-03\n",
      "  5.17784851e-03  5.01068216e-03  5.06497687e-03  4.92464006e-03\n",
      "  4.70482046e-03  4.68634907e-03  3.99375521e-03  3.97670455e-03\n",
      "  3.19312490e-03  2.99726520e-03  3.29252006e-03  3.04955640e-03\n",
      "  3.22609604e-03  2.81554647e-03  2.30727810e-03  2.12960737e-03\n",
      "  1.90048851e-03  1.46618381e-03  1.83886872e-03  1.69125362e-03\n",
      "  1.53180328e-03  1.55553047e-03  1.29246817e-03  1.10502192e-03\n",
      "  8.87053146e-04  1.94174761e-04 -1.44020910e-03 -5.70400327e-04\n",
      " -3.83684150e-04 -4.18578828e-04 -4.40932752e-04 -4.41925222e-04\n",
      " -4.89843602e-04 -5.88553608e-04 -1.40385644e-03 -2.52438430e-03\n",
      " -2.22847238e-03 -2.56693270e-03 -2.57237209e-03 -2.04898417e-03\n",
      " -1.92645134e-03 -1.80860085e-03 -1.79464405e-03 -1.84935750e-03\n",
      " -1.91484671e-03 -2.09275750e-03 -2.53137853e-03 -6.59681391e-03\n",
      " -6.65180478e-03 -3.63328191e-03 -2.04113079e-03 -1.48924440e-03\n",
      " -1.04758726e-03 -6.22398278e-04 -9.16574063e-05  6.45915454e-04\n",
      "  1.91808678e-03]\n"
     ]
    }
   ],
   "source": [
    "## fiske for alle områdene og sjekke opp omrpdene i plot kalibreringa til H2\n",
    "\n",
    "latitude_250511_2 = np.array(cla_atm_250511['latitude'])\n",
    "longitude_250511_2 = np.array(cla_atm_250511['longitude'])\n",
    "\n",
    "rss_atmc_250511_H2 = atm_c.rss_atm_corrected(rho_vars_sorted, cla_atm_250511) #RSS for alle piksler, denne inneolder all info\n",
    "start_end_row_piksel_250511_H2_A1, start_end_row_col_250511_H2_A1 = f.latLong_to_piksel(target_lat_1, target_lon_1, latitude_250511_2, longitude_250511_2) #Får ut pisklene tilørende punktene\n",
    "area_in_piksel_rows_250511_H2_A1, area_in_piksel_cols_250511_H2_A1 = atm_c.piksles_in_slected_area(start_end_row_piksel_250511_H2_A1, start_end_row_col_250511_H2_A1, latitude_250511_2, longitude_250511_2)\n",
    "rss_for_250511_H2_A1 = atm_c.rss_given_pixels(area_in_piksel_rows_250511_H2_A1, area_in_piksel_cols_250511_H2_A1, rss_atmc_250511_H2) #***********'\n",
    "\n",
    "median_250511_H2_A1 = np.median(rss_for_250511_H2_A1, axis=0) #**************\n",
    "\n",
    "normaized_spectrum_median_250511_H2_A1 = f.min_max_nomralization(median_250511_H2_A1) #**********\n",
    "\n",
    "l2_norm_median_250511_H2_A1 = np.linalg.norm(median_250511_H2_A1)  #l2 norm ****************\n",
    "l2_normalized_median_spectrum_250511_H2_A1 = median_250511_H2_A1 / l2_norm_median_250511_H2_A1  #l2 normalisering **************'\n",
    "\n",
    "print(\"number of pixels in area:\", rss_for_250511_H2_A1.shape) #*********\n",
    "print(\"Median RSS for area:\", median_250511_H2_A1.shape)            #*********\n",
    "print(median_250511_H2_A1)                                          #*********    "
   ]
  },
  {
   "cell_type": "code",
   "execution_count": 16,
   "id": "ce98d4d1",
   "metadata": {},
   "outputs": [],
   "source": [
    "#plt.imshow(rss_atmc_250511_H2)\n",
    "#plt.imshow(l1d_cube_250511_2[:,:, 100], origin='upper')\n",
    "#plt.scatter(piksel_col_A3[0], piksel_row_A3[0], color='red', s=5)"
   ]
  },
  {
   "cell_type": "code",
   "execution_count": 17,
   "id": "aec48c8b",
   "metadata": {},
   "outputs": [
    {
     "name": "stdout",
     "output_type": "stream",
     "text": [
      "number of pixels in area: (200, 109)\n",
      "Median RSS for area: (109,)\n",
      "[-2.33439170e-03 -4.11236752e-03 -2.04919232e-03  7.68200378e-04\n",
      " -1.61738484e-04 -1.62969879e-03  3.31643457e-03  2.31629005e-03\n",
      "  5.94023475e-03  3.81705211e-03  7.04601826e-03  4.53227665e-03\n",
      "  6.25904370e-03  6.75571151e-03  6.58428669e-03  7.80472346e-03\n",
      "  6.88889343e-03  7.35383201e-03  8.41784663e-03  8.40523373e-03\n",
      "  8.50784406e-03  1.08976196e-02  9.52533539e-03  9.35080461e-03\n",
      "  9.43150558e-03  8.26854445e-03  9.00182873e-03  1.01392344e-02\n",
      "  1.06720058e-02  8.57399404e-03  1.01380665e-02  1.28358398e-02\n",
      "  9.72183608e-03  9.93469171e-03  1.04946345e-02  1.05691142e-02\n",
      "  9.28454380e-03  1.02333939e-02  9.65609401e-03  9.29420441e-03\n",
      "  9.18192603e-03  9.43091139e-03  8.96463729e-03  8.93922895e-03\n",
      "  8.09166394e-03  8.30149278e-03  7.94440880e-03  7.68273510e-03\n",
      "  8.35100096e-03  8.62033665e-03  6.65033702e-03  6.54613087e-03\n",
      "  6.59605907e-03  6.32018643e-03  6.25446811e-03  6.19218685e-03\n",
      "  5.81362285e-03  5.75897098e-03  4.98754065e-03  4.90817102e-03\n",
      "  4.01983503e-03  3.83726624e-03  4.06235736e-03  3.75503302e-03\n",
      "  3.87851521e-03  3.38589167e-03  2.84754368e-03  2.63488665e-03\n",
      "  2.32425658e-03  1.87087315e-03  2.18057889e-03  1.96528481e-03\n",
      "  1.75461767e-03  1.73873734e-03  1.41889276e-03  1.17873913e-03\n",
      "  9.21704574e-04  1.09529909e-04 -1.52442383e-03 -6.54814299e-04\n",
      " -4.78102069e-04 -5.25436481e-04 -5.11160353e-04 -5.42804715e-04\n",
      " -5.64422691e-04 -6.74064446e-04 -1.59516884e-03 -2.65773945e-03\n",
      " -2.39868881e-03 -2.71259388e-03 -2.65990640e-03 -2.08217511e-03\n",
      " -1.89712388e-03 -1.74413808e-03 -1.73564476e-03 -1.77952298e-03\n",
      " -1.82059070e-03 -2.02723639e-03 -2.75453716e-03 -7.46571459e-03\n",
      " -7.36280670e-03 -3.78119084e-03 -1.92722725e-03 -1.35005871e-03\n",
      " -8.79182946e-04 -4.85094497e-04  6.68968569e-05  8.51380522e-04\n",
      "  2.09919154e-03]\n"
     ]
    }
   ],
   "source": [
    "start_end_row_piksel_250511_H2_A2, start_end_row_col_250511_H2_A2 = f.latLong_to_piksel(target_lat_2, target_lon_2, latitude_250511_2, longitude_250511_2) #Får ut pisklene tilørende punktene\n",
    "area_in_piksel_rows_250511_H2_A2, area_in_piksel_cols_250511_H2_A2 = atm_c.piksles_in_slected_area(start_end_row_piksel_250511_H2_A2, start_end_row_col_250511_H2_A2, latitude_250511_2, longitude_250511_2)\n",
    "rss_for_250511_H2_A2 = atm_c.rss_given_pixels(area_in_piksel_rows_250511_H2_A2, area_in_piksel_cols_250511_H2_A2, rss_atmc_250511_H2) #***********'\n",
    "\n",
    "median_250511_H2_A2 = np.median(rss_for_250511_H2_A2, axis=0) #**************\n",
    "\n",
    "normaized_spectrum_median_250511_H2_A2 = f.min_max_nomralization(median_250511_H2_A2) #**********\n",
    "\n",
    "l2_norm_median_250511_H2_A2 = np.linalg.norm(median_250511_H2_A2)  #l2 norm ****************\n",
    "l2_normalized_median_spectrum_250511_H2_A2 = median_250511_H2_A2 / l2_norm_median_250511_H2_A2  #l2 normalisering **************'\n",
    "\n",
    "print(\"number of pixels in area:\", rss_for_250511_H2_A2.shape) #*********\n",
    "print(\"Median RSS for area:\", median_250511_H2_A2.shape)            #*********\n",
    "print(median_250511_H2_A2)     "
   ]
  },
  {
   "cell_type": "code",
   "execution_count": 18,
   "id": "7e221a4c",
   "metadata": {},
   "outputs": [
    {
     "name": "stdout",
     "output_type": "stream",
     "text": [
      "number of pixels in area: (396, 109)\n",
      "Median RSS for area: (109,)\n",
      "[ 2.5364241e-04 -2.1769553e-03 -4.8782551e-04  2.4173907e-03\n",
      "  2.8687852e-04 -1.3264893e-03  3.5651305e-03  2.1823812e-03\n",
      "  5.7577221e-03  3.4135254e-03  6.6875350e-03  3.9103096e-03\n",
      "  5.5631818e-03  5.9441994e-03  5.5980440e-03  6.7354646e-03\n",
      "  5.7065152e-03  5.9938468e-03  7.1248794e-03  7.3387348e-03\n",
      "  7.0750630e-03  9.6063968e-03  7.9945186e-03  8.0605987e-03\n",
      "  7.9328362e-03  6.7329919e-03  7.4437126e-03  8.5921241e-03\n",
      "  9.1939336e-03  6.8090558e-03  8.4768329e-03  1.1101132e-02\n",
      "  8.0102952e-03  8.1652952e-03  8.7168897e-03  8.8050561e-03\n",
      "  7.4417824e-03  8.3642285e-03  7.8228656e-03  7.3433667e-03\n",
      "  7.3824730e-03  7.4839927e-03  7.0732543e-03  7.1041016e-03\n",
      "  6.1405981e-03  6.4788661e-03  6.1496538e-03  5.8565671e-03\n",
      "  6.5078880e-03  6.9392645e-03  4.9221506e-03  4.9687745e-03\n",
      "  5.0024507e-03  4.8003229e-03  4.8282617e-03  4.7055511e-03\n",
      "  4.5138309e-03  4.4515035e-03  3.7361251e-03  3.7318519e-03\n",
      "  2.9764292e-03  2.7881635e-03  3.0265544e-03  2.7781571e-03\n",
      "  2.9363125e-03  2.5458857e-03  2.0782542e-03  1.8964321e-03\n",
      "  1.6855887e-03  1.2502511e-03  1.6085315e-03  1.4984007e-03\n",
      "  1.3354791e-03  1.3496034e-03  1.0933469e-03  8.9198118e-04\n",
      "  6.5647543e-04 -1.0478138e-06 -1.5240281e-03 -7.9690554e-04\n",
      " -6.2276376e-04 -6.8407063e-04 -6.8934076e-04 -7.1690493e-04\n",
      " -7.6160091e-04 -8.6707430e-04 -1.5948248e-03 -2.5265040e-03\n",
      " -2.3695054e-03 -2.6564221e-03 -2.6585460e-03 -2.2218002e-03\n",
      " -2.0967368e-03 -1.9974085e-03 -2.0335033e-03 -2.1158159e-03\n",
      " -2.1821619e-03 -2.3748893e-03 -2.9652314e-03 -6.3503082e-03\n",
      " -6.4982073e-03 -3.8471792e-03 -2.2952994e-03 -1.7148789e-03\n",
      " -1.2787058e-03 -8.1796630e-04 -2.4729775e-04  6.6916231e-04\n",
      "  2.0779218e-03]\n"
     ]
    }
   ],
   "source": [
    "start_end_row_piksel_250511_H2_A3, start_end_row_col_250511_H2_A3 = f.latLong_to_piksel(target_lat_3, target_lon_3, latitude_250511_2, longitude_250511_2) #Får ut pisklene tilørende punktene\n",
    "area_in_piksel_rows_250511_H2_A3, area_in_piksel_cols_250511_H2_A3 = atm_c.piksles_in_slected_area(start_end_row_piksel_250511_H2_A3, start_end_row_col_250511_H2_A3, latitude_250511_2, longitude_250511_2)\n",
    "rss_for_250511_H2_A3 = atm_c.rss_given_pixels(area_in_piksel_rows_250511_H2_A3, area_in_piksel_cols_250511_H2_A3, rss_atmc_250511_H2) #***********'\n",
    "\n",
    "median_250511_H2_A3 = np.median(rss_for_250511_H2_A3, axis=0) #**************\n",
    "\n",
    "normaized_spectrum_median_250511_H2_A3 = f.min_max_nomralization(median_250511_H2_A3) #**********\n",
    "\n",
    "l2_norm_median_250511_H2_A3 = np.linalg.norm(median_250511_H2_A3)  #l2 norm ****************\n",
    "l2_normalized_median_spectrum_250511_H2_A3 = median_250511_H2_A3 / l2_norm_median_250511_H2_A3  #l2 normalisering **************'\n",
    "\n",
    "print(\"number of pixels in area:\", rss_for_250511_H2_A3.shape) #*********\n",
    "print(\"Median RSS for area:\", median_250511_H2_A3.shape)            #*********\n",
    "print(median_250511_H2_A3)     "
   ]
  },
  {
   "cell_type": "code",
   "execution_count": 19,
   "id": "273db179",
   "metadata": {},
   "outputs": [
    {
     "name": "stdout",
     "output_type": "stream",
     "text": [
      "number of pixels in area: (265, 109)\n",
      "Median RSS for area: (109,)\n",
      "[ 1.0179722e-03 -1.3743825e-03  4.5384964e-04  3.4401468e-03\n",
      "  6.0849107e-04 -1.1637325e-03  4.1657146e-03  2.5432922e-03\n",
      "  6.3081658e-03  3.8432342e-03  7.5532417e-03  4.3613394e-03\n",
      "  6.0497401e-03  6.5820902e-03  6.0943421e-03  7.1575232e-03\n",
      "  6.0926965e-03  6.3083358e-03  7.5967978e-03  8.2562082e-03\n",
      "  7.2285933e-03  1.0163322e-02  8.3304290e-03  8.5629318e-03\n",
      "  8.3512403e-03  6.9287517e-03  7.7014365e-03  9.0535851e-03\n",
      "  9.7733922e-03  6.7797936e-03  8.6882645e-03  1.1603937e-02\n",
      "  8.0818143e-03  8.3538610e-03  8.9317998e-03  8.9661917e-03\n",
      "  7.3909364e-03  8.4297732e-03  7.8118867e-03  7.2660944e-03\n",
      "  7.4086087e-03  7.3572728e-03  6.9836108e-03  6.9919769e-03\n",
      "  5.9468849e-03  6.2592034e-03  5.9350389e-03  5.5603418e-03\n",
      "  6.3699493e-03  6.9457260e-03  4.6361056e-03  4.7210064e-03\n",
      "  4.7634030e-03  4.5294682e-03  4.5986953e-03  4.5084655e-03\n",
      "  4.3072253e-03  4.2527090e-03  3.4832449e-03  3.5565668e-03\n",
      "  2.7676562e-03  2.5643299e-03  2.7920757e-03  2.5491787e-03\n",
      "  2.7991356e-03  2.3805315e-03  1.9460458e-03  1.6902789e-03\n",
      "  1.6650732e-03  1.0118705e-03  1.4937873e-03  1.3868611e-03\n",
      "  1.2486761e-03  1.2765152e-03  1.0197979e-03  8.1737351e-04\n",
      "  5.9313822e-04  2.5658597e-05 -1.7699535e-03 -1.0165442e-03\n",
      " -7.8959618e-04 -7.6899747e-04 -8.3116139e-04 -8.3374360e-04\n",
      " -8.6833432e-04 -9.3840965e-04 -1.6044400e-03 -2.7316695e-03\n",
      " -2.5534446e-03 -2.8202145e-03 -2.8469770e-03 -2.4435748e-03\n",
      " -2.2607965e-03 -2.1947525e-03 -2.2529215e-03 -2.3051230e-03\n",
      " -2.3537604e-03 -2.5339886e-03 -2.9914067e-03 -6.3473363e-03\n",
      " -6.9845659e-03 -4.4128969e-03 -2.4926660e-03 -1.8336491e-03\n",
      " -1.3905122e-03 -9.0287457e-04 -2.9107303e-04  6.0844369e-04\n",
      "  2.0435336e-03]\n"
     ]
    }
   ],
   "source": [
    "start_end_row_piksel_250511_H2_A5, start_end_row_col_250511_H2_A5 = f.latLong_to_piksel(target_lat_5, target_lon_5, latitude_250511_2, longitude_250511_2) #Får ut pisklene tilørende punktene\n",
    "area_in_piksel_rows_250511_H2_A5, area_in_piksel_cols_250511_H2_A5 = atm_c.piksles_in_slected_area(start_end_row_piksel_250511_H2_A5, start_end_row_col_250511_H2_A5, latitude_250511_2, longitude_250511_2)\n",
    "rss_for_250511_H2_A5 = atm_c.rss_given_pixels(area_in_piksel_rows_250511_H2_A5, area_in_piksel_cols_250511_H2_A5, rss_atmc_250511_H2) #***********'\n",
    "\n",
    "median_250511_H2_A5 = np.median(rss_for_250511_H2_A5, axis=0) #**************\n",
    "\n",
    "normaized_spectrum_median_250511_H2_A5 = f.min_max_nomralization(median_250511_H2_A5) #**********\n",
    "\n",
    "l2_norm_median_250511_H2_A5 = np.linalg.norm(median_250511_H2_A5)  #l2 norm ****************\n",
    "l2_normalized_median_spectrum_250511_H2_A5 = median_250511_H2_A5 / l2_norm_median_250511_H2_A5  #l2 normalisering **************'\n",
    "\n",
    "print(\"number of pixels in area:\", rss_for_250511_H2_A5.shape) #*********\n",
    "print(\"Median RSS for area:\", median_250511_H2_A5.shape)            #*********\n",
    "print(median_250511_H2_A5)     "
   ]
  },
  {
   "cell_type": "code",
   "execution_count": 20,
   "id": "cfa86f0e",
   "metadata": {},
   "outputs": [
    {
     "name": "stdout",
     "output_type": "stream",
     "text": [
      "number of pixels in area: (1176, 109)\n",
      "Median RSS for area: (109,)\n",
      "[ 0.00287947  0.00031954  0.0023263   0.00501946  0.00105661 -0.00067086\n",
      "  0.00461528  0.00296033  0.00688118  0.00433447  0.00850841  0.00494343\n",
      "  0.00666653  0.00738918  0.00679787  0.00782967  0.00660276  0.00682716\n",
      "  0.00828495  0.00945346  0.0076573   0.01108935  0.00891003  0.0094815\n",
      "  0.00907159  0.00728773  0.00824123  0.00968598  0.01062921  0.00686983\n",
      "  0.00900149  0.01234887  0.0082052   0.00873358  0.00923754  0.00940328\n",
      "  0.007547    0.00870723  0.00797504  0.00735245  0.00760917  0.00741212\n",
      "  0.00705692  0.00705534  0.00589161  0.00621243  0.00581179  0.00529957\n",
      "  0.00626627  0.00704744  0.00425503  0.00444412  0.00454746  0.00426318\n",
      "  0.00435558  0.00429758  0.00407871  0.00408226  0.00321329  0.00341628\n",
      "  0.00252225  0.00227161  0.00253598  0.0023052   0.00265464  0.00221636\n",
      "  0.00179473  0.00148303  0.00161586  0.00070577  0.00133088  0.00130625\n",
      "  0.00117918  0.00126029  0.00096016  0.00077942  0.00058762  0.00019934\n",
      " -0.00199439 -0.00128125 -0.00092117 -0.0008073  -0.00091252 -0.00095022\n",
      " -0.0009691  -0.0010262  -0.0015782  -0.00295528 -0.00278746 -0.00302918\n",
      " -0.00309084 -0.00269395 -0.00240679 -0.0023249  -0.00240619 -0.00244229\n",
      " -0.00251026 -0.00272387 -0.00289156 -0.00627747 -0.00776537 -0.00493043\n",
      " -0.00271752 -0.00196834 -0.00149432 -0.00101383 -0.00040334  0.00051504\n",
      "  0.00193308]\n"
     ]
    }
   ],
   "source": [
    "start_end_row_piksel_250511_H2_A6, start_end_row_col_250511_H2_A6 = f.latLong_to_piksel(target_lat_6, target_lon_6, latitude_250511_2, longitude_250511_2) #Får ut pisklene tilørende punktene\n",
    "area_in_piksel_rows_250511_H2_A6, area_in_piksel_cols_250511_H2_A6 = atm_c.piksles_in_slected_area(start_end_row_piksel_250511_H2_A6, start_end_row_col_250511_H2_A6, latitude_250511_2, longitude_250511_2)\n",
    "rss_for_250511_H2_A6 = atm_c.rss_given_pixels(area_in_piksel_rows_250511_H2_A6, area_in_piksel_cols_250511_H2_A6, rss_atmc_250511_H2) #***********'\n",
    "\n",
    "median_250511_H2_A6 = np.median(rss_for_250511_H2_A6, axis=0) #**************\n",
    "\n",
    "normaized_spectrum_median_250511_H2_A6 = f.min_max_nomralization(median_250511_H2_A6) #**********\n",
    "\n",
    "l2_norm_median_250511_H2_A6 = np.linalg.norm(median_250511_H2_A6)  #l2 norm ****************\n",
    "l2_normalized_median_spectrum_250511_H2_A6 = median_250511_H2_A6 / l2_norm_median_250511_H2_A6  #l2 normalisering **************'\n",
    "\n",
    "print(\"number of pixels in area:\", rss_for_250511_H2_A6.shape) #*********\n",
    "print(\"Median RSS for area:\", median_250511_H2_A6.shape)            #*********\n",
    "print(median_250511_H2_A6)     "
   ]
  },
  {
   "cell_type": "markdown",
   "id": "fb1830f5",
   "metadata": {},
   "source": [
    "## ATM uncoorected"
   ]
  },
  {
   "cell_type": "markdown",
   "id": "b12d3326",
   "metadata": {},
   "source": [
    "#### H1 RRS analyse NO ATMC"
   ]
  },
  {
   "cell_type": "code",
   "execution_count": 21,
   "id": "9cbfe5cc",
   "metadata": {},
   "outputs": [
    {
     "name": "stdout",
     "output_type": "stream",
     "text": [
      "Pixel number:  3\n"
     ]
    },
    {
     "data": {
      "text/plain": [
       "(109,)"
      ]
     },
     "execution_count": 21,
     "metadata": {},
     "output_type": "execute_result"
    }
   ],
   "source": [
    "## dette må nok endres for disse er juster med H1 sin atm korreksjons kalibrering \n",
    "## HAHHAHA vent det er rett \n",
    "## Men H2 må muligens kalibreres\n",
    "\n",
    "rss_0511_h1_no_atmc_A1 = f.water_masked_rss_matrix(piksel_row_A1_0511_h1, piksel_col_A1_0511_h1, l1d_cube_25_0511, satobj_h1_25_0511)\n",
    "median_H1_no_atmc_A1 = np.median(rss_0511_h1_no_atmc_A1, axis=1)\n",
    "\n",
    "#rss_0511_h1_no_atmc_A1.shape\n",
    "median_H1_no_atmc_A1.shape\n",
    "\n",
    "#print(median_H1_no_atmc_A1)"
   ]
  },
  {
   "cell_type": "code",
   "execution_count": 22,
   "id": "5e25825f",
   "metadata": {},
   "outputs": [
    {
     "name": "stdout",
     "output_type": "stream",
     "text": [
      "Pixel number:  1498\n"
     ]
    },
    {
     "data": {
      "text/plain": [
       "(109,)"
      ]
     },
     "execution_count": 22,
     "metadata": {},
     "output_type": "execute_result"
    }
   ],
   "source": [
    "rss_0511_h1_no_atmc_A2 = f.water_masked_rss_matrix(piksel_row_A2_0511_h1, piksel_col_A2_0511_h1, l1d_cube_25_0511, satobj_h1_25_0511)\n",
    "median_H1_no_atmc_A2 = np.median(rss_0511_h1_no_atmc_A2, axis=1)\n",
    "\n",
    "median_H1_no_atmc_A2.shape"
   ]
  },
  {
   "cell_type": "code",
   "execution_count": 23,
   "id": "eb4b8289",
   "metadata": {},
   "outputs": [
    {
     "name": "stdout",
     "output_type": "stream",
     "text": [
      "Pixel number:  18\n"
     ]
    }
   ],
   "source": [
    "rss_0511_h1_no_atmc_A3 = f.water_masked_rss_matrix(piksel_row_A3_0511_h1, piksel_col_A3_0511_h1, l1d_cube_25_0511, satobj_h1_25_0511)\n",
    "median_H1_no_atmc_A3 = np.median(rss_0511_h1_no_atmc_A3, axis = 1)"
   ]
  },
  {
   "cell_type": "code",
   "execution_count": 24,
   "id": "4ada051f",
   "metadata": {},
   "outputs": [
    {
     "name": "stdout",
     "output_type": "stream",
     "text": [
      "Pixel number:  7248\n"
     ]
    }
   ],
   "source": [
    "rss_0511_h1_no_atmc_A5 = f.water_masked_rss_matrix(piksel_row_A5_0511_h1, piksel_col_A5_0511_h1, l1d_cube_25_0511, satobj_h1_25_0511)\n",
    "median_H1_no_atmc_A5 = np.median(rss_0511_h1_no_atmc_A5, axis= 1)"
   ]
  },
  {
   "cell_type": "code",
   "execution_count": 25,
   "id": "26da73e1",
   "metadata": {},
   "outputs": [
    {
     "name": "stdout",
     "output_type": "stream",
     "text": [
      "Pixel number:  23446\n"
     ]
    }
   ],
   "source": [
    "rss_0511_h1_no_atmc_A6 = f.water_masked_rss_matrix(piksel_row_A6_0511_h1, piksel_col_A6_0511_h1, l1d_cube_25_0511, satobj_h1_25_0511)\n",
    "median_H1_no_atmc_A6 = np.median(rss_0511_h1_no_atmc_A6, axis=1)"
   ]
  },
  {
   "cell_type": "markdown",
   "id": "82198cdf",
   "metadata": {},
   "source": [
    "#### H2 RRS analyse NO ATMC"
   ]
  },
  {
   "cell_type": "code",
   "execution_count": 26,
   "id": "641b0cc1",
   "metadata": {},
   "outputs": [],
   "source": [
    "#latitudes_h2_250511 = satobj_h1_250511_2.latitudes\n",
    "#longitudes_h2_250511 = satobj_h1_250511_2.longitudes\n",
    "\n",
    "latitudes_h2_250511 = np.array(latitude_250511)\n",
    "longitudes_h2_250511 = np.array(longitude_250511)\n",
    "\n",
    "#print(target_lat_1, target_lon_1, latitude_250511, longitude_250511)\n",
    "\n",
    "cx_h2 = 0\n",
    "cy_h2 = 0"
   ]
  },
  {
   "cell_type": "code",
   "execution_count": 27,
   "id": "b19f6605",
   "metadata": {},
   "outputs": [
    {
     "name": "stdout",
     "output_type": "stream",
     "text": [
      "[np.int64(299), np.int64(312), np.int64(308), np.int64(322)] [np.int64(119), np.int64(234), np.int64(101), np.int64(209)]\n",
      "Pixel number:  27\n",
      "(109, 27)\n"
     ]
    }
   ],
   "source": [
    "piksel_row_A1_250511_h2, piksel_col_A1_250511_h2 = f.latLong_to_piksel(target_lat_1, target_lon_1, latitudes_h2_250511, longitudes_h2_250511) #####________\n",
    "print(piksel_row_A1_250511_h2, piksel_col_A1_250511_h2) \n",
    "\n",
    "for i in range(4):\n",
    "    piksel_col_A1_250511_h2[i] = piksel_col_A1_250511_h2[i] + cx_h2\n",
    "    piksel_row_A1_250511_h2[i] = piksel_row_A1_250511_h2[i] + cy_h2\n",
    "\n",
    "rss_A1_250511_h2 = f.water_masked_rss_matrix(piksel_row_A1_250511_h2, piksel_col_A1_250511_h2, l1d_cube_250511_2, satobj_h1_250511_2)\n",
    "print(rss_A1_250511_h2.shape) \n",
    "\n",
    "median_A1_250511_h2_NO_atmc = np.median(rss_A1_250511_h2, axis = 1)\n",
    "median_A1_250511_h2_NO_atmc.shape\n",
    "normaized_spectrum_median_A1_250511_h2_NO_atmc = f.min_max_nomralization(median_A1_250511_h2_NO_atmc)\n",
    "l2_norm_A1_250511_h2_NO_atmc = np.linalg.norm(median_A1_250511_h2_NO_atmc)  \n",
    "l2_normalized_spectrum_A1_250511_h2_NO_atmc = median_A1_250511_h2_NO_atmc / l2_norm_A1_250511_h2_NO_atmc "
   ]
  },
  {
   "cell_type": "code",
   "execution_count": 28,
   "id": "81ba3f28",
   "metadata": {},
   "outputs": [
    {
     "name": "stdout",
     "output_type": "stream",
     "text": [
      "[np.int64(315), np.int64(321), np.int64(325), np.int64(333)] [np.int64(359), np.int64(367), np.int64(248), np.int64(249)]\n",
      "Pixel number:  420\n",
      "(109, 420)\n"
     ]
    }
   ],
   "source": [
    "piksel_row_A2_250511_h2, piksel_col_A2_250511_h2 = f.latLong_to_piksel(target_lat_2, target_lon_2, latitudes_h2_250511, longitudes_h2_250511) #####________\n",
    "print(piksel_row_A2_250511_h2, piksel_col_A2_250511_h2) \n",
    "\n",
    "for i in range(4):\n",
    "    piksel_col_A2_250511_h2[i] = piksel_col_A2_250511_h2[i] + cx_h2\n",
    "    piksel_row_A2_250511_h2[i] = piksel_row_A2_250511_h2[i] + cy_h2\n",
    "\n",
    "rss_A2_250511_h2 = f.water_masked_rss_matrix(piksel_row_A2_250511_h2, piksel_col_A2_250511_h2, l1d_cube_250511_2, satobj_h1_250511_2)\n",
    "print(rss_A2_250511_h2.shape) \n",
    "\n",
    "median_A2_250511_h2_NO_atmc = np.median(rss_A2_250511_h2, axis = 1)\n",
    "median_A2_250511_h2_NO_atmc.shape\n",
    "normaized_spectrum_median_A2_250511_h2_NO_atmc = f.min_max_nomralization(median_A2_250511_h2_NO_atmc)\n",
    "l2_norm_A2_250511_h2_NO_atmc = np.linalg.norm(median_A2_250511_h2_NO_atmc)  \n",
    "l2_normalized_spectrum_A2_250511_h2_NO_atmc = median_A2_250511_h2_NO_atmc / l2_norm_A2_250511_h2_NO_atmc "
   ]
  },
  {
   "cell_type": "code",
   "execution_count": 29,
   "id": "bfddbe3a",
   "metadata": {},
   "outputs": [
    {
     "name": "stdout",
     "output_type": "stream",
     "text": [
      "[np.int64(305), np.int64(311), np.int64(323), np.int64(325)] [np.int64(479), np.int64(490), np.int64(425), np.int64(448)]\n",
      "Pixel number:  416\n",
      "(109, 416)\n"
     ]
    }
   ],
   "source": [
    "piksel_row_A3_250511_h2, piksel_col_A3_250511_h2 = f.latLong_to_piksel(target_lat_3, target_lon_3, latitudes_h2_250511, longitudes_h2_250511) #####________\n",
    "print(piksel_row_A3_250511_h2, piksel_col_A3_250511_h2) \n",
    "\n",
    "for i in range(4):\n",
    "    piksel_col_A3_250511_h2[i] = piksel_col_A3_250511_h2[i] + cx_h2\n",
    "    piksel_row_A3_250511_h2[i] = piksel_row_A3_250511_h2[i] + cy_h2\n",
    "\n",
    "rss_A3_250511_h2 = f.water_masked_rss_matrix(piksel_row_A3_250511_h2, piksel_col_A3_250511_h2, l1d_cube_250511_2, satobj_h1_250511_2)\n",
    "print(rss_A3_250511_h2.shape) \n",
    "\n",
    "median_A3_250511_h2_NO_atmc = np.median(rss_A3_250511_h2, axis = 1)\n",
    "median_A3_250511_h2_NO_atmc.shape\n",
    "normaized_spectrum_median_A3_250511_h2_NO_atmc = f.min_max_nomralization(median_A3_250511_h2_NO_atmc)\n",
    "l2_norm_A3_250511_h2_NO_atmc = np.linalg.norm(median_A3_250511_h2_NO_atmc)  \n",
    "l2_normalized_spectrum_A3_250511_h2_NO_atmc = median_A3_250511_h2_NO_atmc / l2_norm_A3_250511_h2_NO_atmc "
   ]
  },
  {
   "cell_type": "code",
   "execution_count": 30,
   "id": "b83efa07",
   "metadata": {},
   "outputs": [
    {
     "name": "stdout",
     "output_type": "stream",
     "text": [
      "[np.int64(265), np.int64(291), np.int64(295), np.int64(315)] [np.int64(589), np.int64(732), np.int64(494), np.int64(641)]\n",
      "Pixel number:  265\n",
      "(109, 265)\n"
     ]
    }
   ],
   "source": [
    "piksel_row_A5_250511_h2, piksel_col_A5_250511_h2 = f.latLong_to_piksel(target_lat_5, target_lon_5, latitudes_h2_250511, longitudes_h2_250511) #####________\n",
    "print(piksel_row_A5_250511_h2, piksel_col_A5_250511_h2) \n",
    "\n",
    "for i in range(4):\n",
    "    piksel_col_A5_250511_h2[i] = piksel_col_A5_250511_h2[i] + cx_h2\n",
    "    piksel_row_A5_250511_h2[i] = piksel_row_A5_250511_h2[i] + cy_h2\n",
    "\n",
    "rss_A5_250511_h2 = f.water_masked_rss_matrix(piksel_row_A5_250511_h2, piksel_col_A5_250511_h2, l1d_cube_250511_2, satobj_h1_250511_2)\n",
    "print(rss_A5_250511_h2.shape) \n",
    "\n",
    "median_A5_250511_h2_NO_atmc = np.median(rss_A5_250511_h2, axis = 1)\n",
    "median_A5_250511_h2_NO_atmc.shape\n",
    "normaized_spectrum_median_A5_250511_h2_NO_atmc = f.min_max_nomralization(median_A5_250511_h2_NO_atmc)\n",
    "l2_norm_A5_250511_h2_NO_atmc = np.linalg.norm(median_A5_250511_h2_NO_atmc)  \n",
    "l2_normalized_spectrum_A5_250511_h2_NO_atmc = median_A5_250511_h2_NO_atmc / l2_norm_A5_250511_h2_NO_atmc "
   ]
  },
  {
   "cell_type": "code",
   "execution_count": 31,
   "id": "d061c79e",
   "metadata": {},
   "outputs": [
    {
     "name": "stdout",
     "output_type": "stream",
     "text": [
      "[np.int64(223), np.int64(253), np.int64(258), np.int64(286)] [np.int64(625), np.int64(939), np.int64(570), np.int64(820)]\n",
      "Pixel number:  1176\n",
      "(109, 1176)\n"
     ]
    }
   ],
   "source": [
    "piksel_row_A6_250511_h2, piksel_col_A6_250511_h2 = f.latLong_to_piksel(target_lat_6, target_lon_6, latitudes_h2_250511, longitudes_h2_250511) #####________\n",
    "print(piksel_row_A6_250511_h2, piksel_col_A6_250511_h2) \n",
    "\n",
    "for i in range(4):\n",
    "    piksel_col_A6_250511_h2[i] = piksel_col_A6_250511_h2[i] + cx_h2\n",
    "    piksel_row_A6_250511_h2[i] = piksel_row_A6_250511_h2[i] + cy_h2\n",
    "\n",
    "rss_A6_250511_h2 = f.water_masked_rss_matrix(piksel_row_A6_250511_h2, piksel_col_A6_250511_h2, l1d_cube_250511_2, satobj_h1_250511_2)\n",
    "print(rss_A6_250511_h2.shape) \n",
    "\n",
    "median_A6_250511_h2_NO_atmc = np.median(rss_A6_250511_h2, axis = 1)\n",
    "median_A6_250511_h2_NO_atmc.shape\n",
    "normaized_spectrum_median_A6_250511_h2_NO_atmc = f.min_max_nomralization(median_A6_250511_h2_NO_atmc)\n",
    "l2_norm_A6_250511_h2_NO_atmc = np.linalg.norm(median_A6_250511_h2_NO_atmc)  \n",
    "l2_normalized_spectrum_A6_250511_h2_NO_atmc = median_A6_250511_h2_NO_atmc / l2_norm_A6_250511_h2_NO_atmc "
   ]
  },
  {
   "cell_type": "markdown",
   "id": "d0f12aaf",
   "metadata": {},
   "source": [
    "### Plots"
   ]
  },
  {
   "cell_type": "code",
   "execution_count": 53,
   "id": "dff87508",
   "metadata": {},
   "outputs": [
    {
     "data": {
      "image/png": "[encoded data removed]",
      "text/plain": [
       "<Figure size 640x480 with 1 Axes>"
      ]
     },
     "metadata": {},
     "output_type": "display_data"
    }
   ],
   "source": [
    "### H1 atmc \n",
    "#plt.plot(wl, median_A1_0511_h1_atmc, color='black', linestyle='--', label='median H1 A1')\n",
    "##plt.plot(wl, median_A2_0511_h1_atmc, color='pink', linestyle='--', label='median H1 A2')\n",
    "#plt.plot(wl, median_A3_0511_h1_atmc, color='red', linestyle='--', label='median H1 A3')\n",
    "#plt.plot(wl, median_A5_0511_h1_atmc, color='green', linestyle='--', label='median H1 A5')\n",
    "#plt.plot(wl, median_A6_0511_h1_atmc, color='blue', linestyle='--', label='median H1 A6')\n",
    "\n",
    "# H2 atmc \n",
    "#plt.plot(wl, median_250511_H2_A1, color='black', label='median H2 A1')\n",
    "##plt.plot(wl, median_250511_H2_A2, color='pink', label='median H2 A2')\n",
    "#plt.plot(wl, median_250511_H2_A3, color='red', label='median H2 A3')\n",
    "#plt.plot(wl, median_250511_H2_A5, color='green', label='median H2 A5')\n",
    "#plt.plot(wl, median_250511_H2_A6, color='blue', label='median H2 A6')\n",
    "\n",
    "##### H1 NO atmc \n",
    "plt.plot(wl, median_H1_no_atmc_A1, color='black', linestyle=':', label='median H1 A1 NO AC')\n",
    "#plt.plot(wl, median_H1_no_atmc_A2, color='pink', linestyle=':', label='median H1 A2 No AC')\n",
    "plt.plot(wl, median_H1_no_atmc_A3, color='red', linestyle=':', label='median H1 A3 No AC')\n",
    "plt.plot(wl, median_H1_no_atmc_A5, color='green', linestyle=':', label='median H1 A5 No AC')\n",
    "plt.plot(wl, median_H1_no_atmc_A6, color='red', linestyle=':', label='median H1 A6 No AC')\n",
    "\n",
    "### H2 No atmc \n",
    "plt.plot(wl, median_A1_250511_h2_NO_atmc, color='black', label='median H2 A1 No AC')\n",
    "#plt.plot(wl, median_A2_250511_h2_NO_atmc, color='pink', linestyle='dashdot', label='median H2 A2 NO AC')\n",
    "plt.plot(wl, median_A3_250511_h2_NO_atmc, color='red', label='median H2 A3 No AC')\n",
    "plt.plot(wl, median_A5_250511_h2_NO_atmc, color='green', label='median H2 A5 No AC')\n",
    "plt.plot(wl, median_A6_250511_h2_NO_atmc, color='red', label='median H2 A6 No AC')\n",
    "\n",
    "plt.xlabel(\"Wawelength [nm]\")\n",
    "plt.ylabel(\"RRS [sr$^{-1}$] \") #Er begge water leaving radience???\n",
    "plt.title(\"H1 vs H2 comparison with AC 11.05.2025\") ## bruke AC som Atmosperic Correction \n",
    "plt.grid(True, alpha=0.3)\n",
    "plt.legend()\n",
    "plt.show()"
   ]
  },
  {
   "cell_type": "markdown",
   "id": "6e006187",
   "metadata": {},
   "source": [
    "### Derivates"
   ]
  },
  {
   "cell_type": "markdown",
   "id": "3a5975e8",
   "metadata": {},
   "source": [
    "### Cluster"
   ]
  }
 ],
 "metadata": {
  "kernelspec": {
   "display_name": "hypso-env",
   "language": "python",
   "name": "python3"
  },
  "language_info": {
   "codemirror_mode": {
    "name": "ipython",
    "version": 3
   },
   "file_extension": ".py",
   "mimetype": "text/x-python",
   "name": "python",
   "nbconvert_exporter": "python",
   "pygments_lexer": "ipython3",
   "version": "3.11.12"
  }
 },
 "nbformat": 4,
 "nbformat_minor": 5
}
