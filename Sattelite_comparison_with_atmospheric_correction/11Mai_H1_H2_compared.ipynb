{
 "cells": [
  {
   "cell_type": "markdown",
   "id": "a025a163",
   "metadata": {},
   "source": [
    "## A comparison between the capture on the 11. of may 2025, between the H1 and H2 sattelite"
   ]
  },
  {
   "cell_type": "markdown",
   "id": "8346ed43",
   "metadata": {},
   "source": [
    "### Imports"
   ]
  },
  {
   "cell_type": "code",
   "execution_count": 1,
   "id": "c8e2ee4a",
   "metadata": {},
   "outputs": [],
   "source": [
    "from hypso import Hypso1, Hypso2\n",
    "import os \n",
    "import sys\n",
    "import matplotlib.pyplot as plt\n",
    "from global_land_mask import globe \n",
    "import numpy as np \n",
    "\n",
    "parent_dir = os.path.abspath('..')\n",
    "if parent_dir not in sys.path:\n",
    "    sys.path.append(parent_dir)\n",
    "\n",
    "import funcions_autonom as f\n",
    "import atmosperic_correction as atm_c ## obs denne het før ac -> kan føre til feil dersom man ikke finner funkjsons navn\n",
    "import base as ac\n",
    "\n",
    "import xarray as xr\n",
    "import re\n",
    "import math\n",
    "import importlib\n",
    "\n",
    "from sklearn.cluster import KMeans\n",
    "from collections import defaultdict\n",
    "\n",
    "from sklearn.preprocessing import StandardScaler\n",
    "\n",
    "np.random.seed(42)\n",
    "\n",
    "dir_path = \"..\" ## filene hentes fra en mappe over der vi er nå"
   ]
  },
  {
   "cell_type": "code",
   "execution_count": 2,
   "id": "4731a400",
   "metadata": {},
   "outputs": [
    {
     "data": {
      "text/plain": [
       "<module 'atmosperic_correction' from '/home/itk/Documents/AnneMarthe/Master/Hypos_analyse/atmosperic_correction.py'>"
      ]
     },
     "execution_count": 2,
     "metadata": {},
     "output_type": "execute_result"
    }
   ],
   "source": [
    "importlib.reload(f)\n",
    "importlib.reload(ac)\n",
    "importlib.reload(atm_c)"
   ]
  },
  {
   "cell_type": "markdown",
   "id": "944d90a7",
   "metadata": {},
   "source": [
    "### Data upploading "
   ]
  },
  {
   "cell_type": "code",
   "execution_count": 3,
   "id": "d93dbf63",
   "metadata": {},
   "outputs": [
    {
     "name": "stdout",
     "output_type": "stream",
     "text": [
      "[INFO] Loading L1a capture image63N9E_2025-05-11T10-04-27Z\n",
      "[INFO] Capture spatial dimensions: (598, 1092)\n",
      "[INFO] Capture capture type: wide\n",
      "[INFO] Loading L1b capture image63N9E_2025-05-11T10-04-27Z\n",
      "[INFO] Capture spatial dimensions: (598, 1092)\n",
      "[INFO] Capture capture type: wide\n",
      "[INFO] Loading L1c capture image63N9E_2025-05-11T10-04-27Z\n",
      "[INFO] Capture spatial dimensions: (598, 1092)\n",
      "[INFO] Capture capture type: wide\n",
      "[INFO] Loading L1d capture image63N9E_2025-05-11T10-04-27Z\n",
      "[INFO] Capture spatial dimensions: (598, 1092)\n",
      "[INFO] Capture capture type: wide\n",
      "[INFO] Running direct georeferencing...\n",
      "[INFO] ADCS samples: 431\n",
      "[INFO] ADCS time range: 1746957180.000000 to 1746958140.000000\n",
      "[INFO] Frame time range: 1746957867.923740 to 1746957917.673740\n",
      "[INFO] 199 sample(s) inside frame time range\n",
      "[INFO] Interpolating 598 frames\n",
      "[INFO] Computing pixel latitude and longitude coordinates ...\n",
      "[INFO] Interpolating pixel coordinate gaps...\n",
      "[INFO] Direct georeferencing done\n",
      "[INFO] Running track geometry computations...\n",
      "[INFO] Using UTM map: WGS 84 / UTM zone 32N EPSG: 32632\n",
      "[INFO] Track geometry computations done.\n",
      "[INFO] Running angles geometry computations...\n",
      "[INFO] Computing local angles (sun and satellite azimuth and zenith angles) ...\n",
      "[INFO] Using astropy on a subsampling of pixels ... (TODO skyfield may be faster)\n",
      "[INFO] Interpolating the rest of the pixels ...\n",
      "[INFO] Computing local angles done\n",
      "[INFO] Angles geometry computations done.\n"
     ]
    }
   ],
   "source": [
    "##H1\n",
    "\n",
    "image_path_t_25_0511 = os.path.join(dir_path, \"image63N9E_2025-05-11T10-04-27Z-l1a.nc\") \n",
    "\n",
    "trondheim_path_25_0511 = os.path.join(dir_path, \"image63N9E_2025-05-11T10-04-27Z-l1a.nc\")\n",
    "trondheim_path_25_0511_b = os.path.join(dir_path, \"image63N9E_2025-05-11T10-04-27Z-l1b.nc\")\n",
    "trondheim_path_25_0511_c = os.path.join(dir_path, \"image63N9E_2025-05-11T10-04-27Z-l1c.nc\")########## OBSOBSOSOSSB IKKE TRONDHIEM\n",
    "trondheim_path_25_0511_d = os.path.join(dir_path, \"image63N9E_2025-05-11T10-04-27Z-l1d.nc\")\n",
    "\n",
    "satobj_h1_25_0511 = Hypso1( path = trondheim_path_25_0511, verbose = True )\n",
    "\n",
    "l1a_cube_25_0511 = satobj_h1_25_0511.l1a_cube\n",
    "l1b_cube_25_0511 = Hypso1( path = trondheim_path_25_0511_b, verbose = True )\n",
    "l1c_cube_25_0511 = Hypso1( path = trondheim_path_25_0511_c, verbose = True )\n",
    "l1d_cube_25_0511 = Hypso1( path = trondheim_path_25_0511_d, verbose = True )\n",
    "\n",
    "l1b_cube_25_0511 = l1b_cube_25_0511.l1c_cube\n",
    "l1c_cube_25_0511 = l1c_cube_25_0511.l1b_cube\n",
    "l1d_cube_25_0511 = l1d_cube_25_0511.l1d_cube\n",
    "\n",
    "satobj_h1_25_0511.run_direct_georeferencing() # in order to get the longiyudes and latitudes "
   ]
  },
  {
   "cell_type": "code",
   "execution_count": 4,
   "id": "a8a7aee8",
   "metadata": {},
   "outputs": [
    {
     "name": "stdout",
     "output_type": "stream",
     "text": [
      "[INFO] Loading L1a capture image64N9E_2025-05-11T12-00-37Z\n",
      "[INFO] Capture spatial dimensions: (598, 1092)\n",
      "[INFO] Capture capture type: wide\n",
      "[INFO] Loading L1b capture image64N9E_2025-05-11T12-00-37Z\n",
      "[INFO] Capture spatial dimensions: (598, 1092)\n",
      "[INFO] Capture capture type: wide\n",
      "[INFO] Loading L1c capture image64N9E_2025-05-11T12-00-37Z\n",
      "[INFO] Capture spatial dimensions: (598, 1092)\n",
      "[INFO] Capture capture type: wide\n",
      "[INFO] Loading L1d capture image64N9E_2025-05-11T12-00-37Z\n",
      "[INFO] Capture spatial dimensions: (598, 1092)\n",
      "[INFO] Capture capture type: wide\n",
      "[INFO] Running direct georeferencing...\n",
      "[INFO] ADCS samples: 540\n",
      "[INFO] ADCS time range: 1746964170.000000 to 1746965100.000000\n",
      "[INFO] Frame time range: 1746964837.479518 to 1746964912.104518\n",
      "[INFO] 299 sample(s) inside frame time range\n",
      "[INFO] Interpolating 598 frames\n",
      "[INFO] Computing pixel latitude and longitude coordinates ...\n",
      "[INFO] Interpolating pixel coordinate gaps...\n",
      "[INFO] Direct georeferencing done\n",
      "[INFO] Running track geometry computations...\n",
      "[INFO] Using UTM map: WGS 84 / UTM zone 31N EPSG: 32631\n",
      "[INFO] Track geometry computations done.\n",
      "[INFO] Running angles geometry computations...\n",
      "[INFO] Computing local angles (sun and satellite azimuth and zenith angles) ...\n",
      "[INFO] Using astropy on a subsampling of pixels ... (TODO skyfield may be faster)\n",
      "[INFO] Interpolating the rest of the pixels ...\n",
      "[INFO] Computing local angles done\n",
      "[INFO] Angles geometry computations done.\n"
     ]
    }
   ],
   "source": [
    "## H2\n",
    "i_250511_2 = os.path.join(dir_path, \"image64N9E_2025-05-11T12-00-37Z-l1a.nc\")\n",
    "i_250511_2_b = os.path.join(dir_path, \"image64N9E_2025-05-11T12-00-37Z-l1b.nc\")\n",
    "i_250511_2_c = os.path.join(dir_path, \"image64N9E_2025-05-11T12-00-37Z-l1c.nc\")\n",
    "i_250511_2_d = os.path.join(dir_path, \"image64N9E_2025-05-11T12-00-37Z-l1d.nc\")\n",
    "\n",
    "satobj_h1_250511_2 = Hypso2( path = i_250511_2, verbose = True )\n",
    "\n",
    "l1a_cube_250511_2 = satobj_h1_250511_2.l1a_cube\n",
    "l1b_cube_250511_2 = Hypso2( path = i_250511_2_b, verbose = True )\n",
    "l1c_cube_250511_2 = Hypso2( path = i_250511_2_c, verbose = True )\n",
    "l1d_cube_250511_2 = Hypso2( path = i_250511_2_d, verbose = True )\n",
    "\n",
    "l1c_cube_250511_2 = l1c_cube_250511_2.l1c_cube\n",
    "l1b_cube_250511_2 = l1b_cube_250511_2.l1b_cube\n",
    "l1d_cube_250511_2 = l1d_cube_250511_2.l1d_cube\n",
    "\n",
    "satobj_h1_250511_2.run_direct_georeferencing() # in order to get the longiyudes and latitudes "
   ]
  },
  {
   "cell_type": "code",
   "execution_count": 5,
   "id": "80a194fd",
   "metadata": {},
   "outputs": [],
   "source": [
    "path_cla_atm_250511 = os.path.join(dir_path, \"image63N6E_2025-05-11T10-25-37Z.nc.polymer.nc\")######\n",
    "cla_atm_250511 = xr.open_dataset(path_cla_atm_250511)\n",
    "\n",
    "latitude_250511 = cla_atm_250511['latitude']\n",
    "longitude_250511 = cla_atm_250511['longitude']"
   ]
  },
  {
   "cell_type": "code",
   "execution_count": 6,
   "id": "8b78586a",
   "metadata": {},
   "outputs": [
    {
     "name": "stdout",
     "output_type": "stream",
     "text": [
      "Sorted rho variables: ['rho_w_418', 'rho_w_422', 'rho_w_425', 'rho_w_429', 'rho_w_432', 'rho_w_436', 'rho_w_439', 'rho_w_443', 'rho_w_446', 'rho_w_450', 'rho_w_453', 'rho_w_457', 'rho_w_460', 'rho_w_464', 'rho_w_467', 'rho_w_471', 'rho_w_474', 'rho_w_478', 'rho_w_481', 'rho_w_485', 'rho_w_488', 'rho_w_492', 'rho_w_495', 'rho_w_499', 'rho_w_502', 'rho_w_506', 'rho_w_509', 'rho_w_513', 'rho_w_516', 'rho_w_520', 'rho_w_523', 'rho_w_526', 'rho_w_530', 'rho_w_533', 'rho_w_537', 'rho_w_540', 'rho_w_544', 'rho_w_547', 'rho_w_551', 'rho_w_554', 'rho_w_558', 'rho_w_561', 'rho_w_565', 'rho_w_568', 'rho_w_572', 'rho_w_575', 'rho_w_579', 'rho_w_582', 'rho_w_585', 'rho_w_589', 'rho_w_592', 'rho_w_596', 'rho_w_599', 'rho_w_603', 'rho_w_606', 'rho_w_610', 'rho_w_613', 'rho_w_617', 'rho_w_620', 'rho_w_623', 'rho_w_627', 'rho_w_630', 'rho_w_634', 'rho_w_637', 'rho_w_641', 'rho_w_644', 'rho_w_648', 'rho_w_651', 'rho_w_654', 'rho_w_658', 'rho_w_661', 'rho_w_665', 'rho_w_668', 'rho_w_672', 'rho_w_675', 'rho_w_678', 'rho_w_682', 'rho_w_685', 'rho_w_689', 'rho_w_692', 'rho_w_696', 'rho_w_699', 'rho_w_702', 'rho_w_706', 'rho_w_709', 'rho_w_713', 'rho_w_716', 'rho_w_719', 'rho_w_723', 'rho_w_726', 'rho_w_730', 'rho_w_733', 'rho_w_737', 'rho_w_740', 'rho_w_743', 'rho_w_747', 'rho_w_750', 'rho_w_754', 'rho_w_757', 'rho_w_760', 'rho_w_764', 'rho_w_767', 'rho_w_771', 'rho_w_774', 'rho_w_777', 'rho_w_781', 'rho_w_784', 'rho_w_787', 'rho_w_791']\n",
      "109\n"
     ]
    }
   ],
   "source": [
    "rho_vars = [var for var in cla_atm_250511.variables if re.match(r'rho_w_\\d+', var)]\n",
    "rho_vars_sorted = sorted(rho_vars, key=lambda v: int(v.split('_')[-1])) #A variable containing the name of all the rho vaibles\n",
    "rho_vars_sorted = rho_vars_sorted[5:]\n",
    "print(\"Sorted rho variables:\", rho_vars_sorted)\n",
    "print(len(rho_vars_sorted))"
   ]
  },
  {
   "cell_type": "markdown",
   "id": "9a15cdd1",
   "metadata": {},
   "source": [
    "## ATMC RRS"
   ]
  },
  {
   "cell_type": "markdown",
   "id": "d35a6bba",
   "metadata": {},
   "source": [
    "### H1 analyse m atmc"
   ]
  },
  {
   "cell_type": "code",
   "execution_count": 7,
   "id": "16af62ee",
   "metadata": {},
   "outputs": [],
   "source": [
    "wl = satobj_h1_25_0511.wavelengths[9:118]\n",
    "x_123 = [387.84749685, 391.40406599, 394.95941579, 398.51354623, 402.06645732, 405.61814905, 409.16862143, 412.71787446, 416.26590814, 419.81272246, 423.35831743, 426.90269305, 430.44584931, 433.98778622, 437.52850378, 441.06800198, 444.60628083, 448.14334033, 451.67918047, 455.21380126, 458.7472027, 462.27938479, 465.81034752, 469.3400909 , 472.86861492,476.3959196 , 479.92200491, 483.44687088, 486.97051749, 490.49294475,494.01415266, 497.53414122, 501.05291042, 504.57046026, 508.08679076,511.6019019 , 515.11579369, 518.62846612, 522.13991921, 525.65015294,529.15916731, 532.66696233, 536.173538  , 539.67889432, 543.18303128,546.68594889, 550.18764715, 553.68812606, 557.18738561, 560.68542581,564.18224665, 567.67784814, 571.17223028, 574.66539307, 578.1573365, 581.64806058, 585.1375653 , 588.62585068, 592.1129167 , 595.59876336,599.08339068, 602.56679864, 606.04898725, 609.5299565 , 613.0097064 ,616.48823695, 619.96554815, 623.44163999, 626.91651248, 630.39016561,633.86259939, 637.33381382, 640.8038089 , 644.27258462, 647.74014099,651.20647801, 654.67159568, 658.13549399, 661.59817294, 665.05963255,668.5198728 , 671.9788937 , 675.43669524, 678.89327744, 682.34864028,685.80278376, 689.25570789, 692.70741267, 696.1578981 , 699.60716418,703.0552109 , 706.50203826, 709.94764628, 713.39203494, 716.83520425,720.2771542 , 723.7178848 , 727.15739605, 730.59568795, 734.03276049,737.46861368, 740.90324752, 744.336662  , 747.76885713, 751.19983291,754.62958933, 758.0581264 , 761.48544412, 764.91154248, 768.33642149,771.76008115, 775.18252146, 778.60374241, 782.02374401, 785.44252625,788.86008915, 792.27643269, 795.69155687, 799.10546171, 802.51814719]\n",
    "wl = x_123[9:118]\n",
    "\n",
    "target_lat_6 = [64.48557437461893,64.52896641587218, 64.20992561747796, 64.22009411667561] #område 7\n",
    "target_lon_6 = [9.886201113342556, 8.708294855080245,9.704720121565003,8.73032214102829]  \n",
    "\n",
    "target_lat_5 = [64.17324887890479,64.11631446557637, 63.896904083590066, 63.887923483169004] #område 6.1\n",
    "target_lon_5 = [9.582148298814932,8.924448409066027, 9.578289180688513, 8.96230357578283]\n",
    "\n",
    "target_lat_3 = [63.818490304354434,63.793837321385155, 63.65192496143867, 63.660555970548074] #område 2.1.\n",
    "target_lon_3 = [9.531415429238418, 9.442656298818237,9.526455044589706,9.439764451470932]\n",
    "\n",
    "target_lat_2 = [63.646767083517425,63.61771951990031, 63.47865598622861, 63.42721372576498] #område 5.1\n",
    "target_lon_2 = [9.804697410334523, 9.723689711502818,10.061035990832918,9.982929114384596]  \n",
    "\n",
    "target_lat_1 = [63.52676744792975, 63.55113867486421, 63.44802428401152, 63.46332195091103] #område 8 \n",
    "target_lon_1 = [10.726421572030368, 10.227932960954064, 10.706024496195505, 10.211631333282082] "
   ]
  },
  {
   "cell_type": "markdown",
   "id": "1c2d2be9",
   "metadata": {},
   "source": [
    "#### atm corrected data cube"
   ]
  },
  {
   "cell_type": "code",
   "execution_count": 8,
   "id": "4c1fc44c",
   "metadata": {},
   "outputs": [
    {
     "name": "stdout",
     "output_type": "stream",
     "text": [
      "0.007677513297904346\n",
      "0.002154747147845517\n",
      "0.0014970680661600475\n",
      "0.0012710268858370187\n",
      "0.0011681540432022797\n",
      "0.001114601762058431\n",
      "0.001084747517496288\n",
      "0.001067094682715943\n",
      "0.0010558224766535318\n",
      "0.0010482716283571776\n"
     ]
    }
   ],
   "source": [
    "cube_0511__h1 = np.array(l1d_cube_25_0511[:,:, 9:118]) # get the toa reflectance cube\n",
    "sat = np.max(l1a_cube_25_0511, axis = -1) > 35000 ##identifying saturated pixsels\n",
    "T, S, objs = ac.atm_correction(cube_0511__h1.reshape(-1,109), solar=np.ones(109), verbose = True, tol = 0.01, est_min_R = 0.05) # calculating transmission and scattering\n",
    "\n",
    "cube_norm_0511_h1 = (cube_0511__h1 - S) /T\n",
    "cube_norm_0511_h1[sat] = np.nan #normalizing the cube and setting saturated pixels to nan"
   ]
  },
  {
   "cell_type": "markdown",
   "id": "6726c4b6",
   "metadata": {},
   "source": [
    "#### RRS different areas"
   ]
  },
  {
   "cell_type": "code",
   "execution_count": 9,
   "id": "21ba59dd",
   "metadata": {},
   "outputs": [],
   "source": [
    "latitudes_0511_h1 = satobj_h1_25_0511.latitudes\n",
    "longitudes_0511_h1 = satobj_h1_25_0511.longitudes\n",
    "\n",
    "cx_h1 = 72\n",
    "cy_h1 = -19"
   ]
  },
  {
   "cell_type": "code",
   "execution_count": 10,
   "id": "1b56b350",
   "metadata": {},
   "outputs": [
    {
     "name": "stdout",
     "output_type": "stream",
     "text": [
      "64.69524026335026\n",
      "[np.int64(226), np.int64(221), np.int64(241), np.int64(238)] [np.int64(0), np.int64(0), np.int64(0), np.int64(0)]\n",
      "Pixel number:  3\n",
      "(3, 109)\n"
     ]
    }
   ],
   "source": [
    "latitudes_0511_h1 = satobj_h1_25_0511.latitudes\n",
    "longitudes_0511_h1 = satobj_h1_25_0511.longitudes\n",
    "\n",
    "print(latitudes_0511_h1[1][1])\n",
    "\n",
    "piksel_row_A1_0511_h1, piksel_col_A1_0511_h1 = f.latLong_to_piksel(target_lat_1, target_lon_1, latitudes_0511_h1, longitudes_0511_h1) #####________\n",
    "print(piksel_row_A1_0511_h1, piksel_col_A1_0511_h1) \n",
    "\n",
    "for i in range(4):\n",
    "    piksel_col_A1_0511_h1[i] = piksel_col_A1_0511_h1[i] + cx_h1\n",
    "    piksel_row_A1_0511_h1[i] = piksel_row_A1_0511_h1[i] + cy_h1\n",
    "\n",
    "rss_A1_0511_h1 = f.hyps1_rss_matrix(cube_norm_0511_h1, piksel_row_A1_0511_h1, piksel_col_A1_0511_h1, satobj_h1_25_0511)    #####________\n",
    "print(rss_A1_0511_h1.shape) \n",
    "median_A1_0511_h1_atmc = np.median(rss_A1_0511_h1, axis = 0)\n",
    "\n",
    "\n",
    "\n",
    "median_A1_0511_h1_atmc.shape\n",
    "normaized_spectrum_median_A1_0511_h1 = f.min_max_nomralization(median_A1_0511_h1_atmc)\n",
    "l2_norm_A1_0511_h1 = np.linalg.norm(median_A1_0511_h1_atmc)  \n",
    "l2_normalized_spectrum_A1_0511_h1 = median_A1_0511_h1_atmc / l2_norm_A1_0511_h1  \n",
    "\n"
   ]
  },
  {
   "cell_type": "code",
   "execution_count": 11,
   "id": "3d2d1ef1",
   "metadata": {},
   "outputs": [
    {
     "name": "stdout",
     "output_type": "stream",
     "text": [
      "[np.int64(209), np.int64(217), np.int64(235), np.int64(245)] [np.int64(178), np.int64(223), np.int64(0), np.int64(0)]\n",
      "Pixel number:  1498\n",
      "(1498, 109)\n"
     ]
    }
   ],
   "source": [
    "piksel_row_A2_0511_h1, piksel_col_A2_0511_h1 = f.latLong_to_piksel(target_lat_2, target_lon_2, latitudes_0511_h1, longitudes_0511_h1) #####________\n",
    "print(piksel_row_A2_0511_h1, piksel_col_A2_0511_h1) \n",
    "\n",
    "for i in range(4):\n",
    "    piksel_col_A2_0511_h1[i] = piksel_col_A2_0511_h1[i] + cx_h1\n",
    "    piksel_row_A2_0511_h1[i] = piksel_row_A2_0511_h1[i] + cy_h1\n",
    "\n",
    "rss_A2_0511_h1 = f.hyps1_rss_matrix(cube_norm_0511_h1, piksel_row_A2_0511_h1, piksel_col_A2_0511_h1, satobj_h1_25_0511)    #####________\n",
    "print(rss_A2_0511_h1.shape) \n",
    "\n",
    "median_A2_0511_h1_atmc = np.median(rss_A2_0511_h1, axis = 0)\n",
    "median_A2_0511_h1_atmc.shape\n",
    "normaized_spectrum_median_A2_0511_h1 = f.min_max_nomralization(median_A2_0511_h1_atmc)\n",
    "l2_norm_A2_0511_h1 = np.linalg.norm(median_A2_0511_h1_atmc)  \n",
    "l2_normalized_spectrum_A2_0511_h1 = median_A2_0511_h1_atmc / l2_norm_A2_0511_h1  "
   ]
  },
  {
   "cell_type": "code",
   "execution_count": 12,
   "id": "62a75c46",
   "metadata": {},
   "outputs": [
    {
     "name": "stdout",
     "output_type": "stream",
     "text": [
      "[np.int64(185), np.int64(192), np.int64(215), np.int64(216)] [np.int64(440), np.int64(490), np.int64(377), np.int64(440)]\n",
      "Pixel number:  18\n",
      "(18, 109)\n"
     ]
    }
   ],
   "source": [
    "piksel_row_A3_0511_h1, piksel_col_A3_0511_h1 = f.latLong_to_piksel(target_lat_3, target_lon_3, latitudes_0511_h1, longitudes_0511_h1) #####________\n",
    "print(piksel_row_A3_0511_h1, piksel_col_A3_0511_h1) \n",
    "\n",
    "for i in range(4):\n",
    "    piksel_col_A3_0511_h1[i] = piksel_col_A3_0511_h1[i] + cx_h1\n",
    "    piksel_row_A3_0511_h1[i] = piksel_row_A3_0511_h1[i] + cy_h1\n",
    "\n",
    "rss_A3_0511_h1 = f.hyps1_rss_matrix(cube_norm_0511_h1, piksel_row_A3_0511_h1, piksel_col_A3_0511_h1, satobj_h1_25_0511)    #####________\n",
    "print(rss_A3_0511_h1.shape) \n",
    "\n",
    "median_A3_0511_h1_atmc = np.median(rss_A3_0511_h1, axis = 0)\n",
    "median_A3_0511_h1_atmc.shape\n",
    "normaized_spectrum_median_A3_0511_h1 = f.min_max_nomralization(median_A3_0511_h1_atmc)\n",
    "l2_norm_A3_0511_h1 = np.linalg.norm(median_A3_0511_h1_atmc)  \n",
    "l2_normalized_spectrum_A3_0511_h1 = median_A3_0511_h1_atmc / l2_norm_A3_0511_h1  "
   ]
  },
  {
   "cell_type": "code",
   "execution_count": 13,
   "id": "140e0e2e",
   "metadata": {},
   "outputs": [
    {
     "name": "stdout",
     "output_type": "stream",
     "text": [
      "[np.int64(121), np.int64(147), np.int64(170), np.int64(187)] [np.int64(543), np.int64(950), np.int64(437), np.int64(844)]\n",
      "Pixel number:  7248\n",
      "(7248, 109)\n"
     ]
    }
   ],
   "source": [
    "piksel_row_A5_0511_h1, piksel_col_A5_0511_h1 = f.latLong_to_piksel(target_lat_5, target_lon_5, latitudes_0511_h1, longitudes_0511_h1) #####________\n",
    "print(piksel_row_A5_0511_h1, piksel_col_A5_0511_h1) \n",
    "\n",
    "for i in range(4):\n",
    "    piksel_col_A5_0511_h1[i] = piksel_col_A5_0511_h1[i] + cx_h1\n",
    "    piksel_row_A5_0511_h1[i] = piksel_row_A5_0511_h1[i] + cy_h1\n",
    "\n",
    "rss_A5_0511_h1 = f.hyps1_rss_matrix(cube_norm_0511_h1, piksel_row_A5_0511_h1, piksel_col_A5_0511_h1, satobj_h1_25_0511)    #####________\n",
    "print(rss_A5_0511_h1.shape) \n",
    "\n",
    "median_A5_0511_h1_atmc = np.median(rss_A5_0511_h1, axis = 0)\n",
    "median_A5_0511_h1_atmc.shape\n",
    "normaized_spectrum_median_A5_0511_h1 = f.min_max_nomralization(median_A5_0511_h1_atmc)\n",
    "l2_norm_A5_0511_h1 = np.linalg.norm(median_A5_0511_h1_atmc)  \n",
    "l2_normalized_spectrum_A5_0511_h1 = median_A5_0511_h1_atmc / l2_norm_A5_0511_h1  "
   ]
  },
  {
   "cell_type": "code",
   "execution_count": 14,
   "id": "a412c6c0",
   "metadata": {},
   "outputs": [
    {
     "name": "stdout",
     "output_type": "stream",
     "text": [
      "[np.int64(58), np.int64(74), np.int64(111), np.int64(133)] [np.int64(458), np.int64(1091), np.int64(475), np.int64(1091)]\n",
      "Pixel number:  23108\n",
      "(23108, 109)\n"
     ]
    }
   ],
   "source": [
    "piksel_row_A6_0511_h1, piksel_col_A6_0511_h1 = f.latLong_to_piksel(target_lat_6, target_lon_6, latitudes_0511_h1, longitudes_0511_h1) #####________\n",
    "print(piksel_row_A6_0511_h1, piksel_col_A6_0511_h1) \n",
    "\n",
    "for i in range(4):\n",
    "    piksel_col_A6_0511_h1[i] = piksel_col_A6_0511_h1[i] #+ cx_h1\n",
    "    piksel_row_A6_0511_h1[i] = piksel_row_A6_0511_h1[i] #+ cy_h1\n",
    "\n",
    "rss_A6_0511_h1 = f.hyps1_rss_matrix(cube_norm_0511_h1, piksel_row_A6_0511_h1, piksel_col_A6_0511_h1, satobj_h1_25_0511)    #####________\n",
    "print(rss_A6_0511_h1.shape) \n",
    "\n",
    "median_A6_0511_h1_atmc = np.median(rss_A6_0511_h1, axis = 0)\n",
    "median_A6_0511_h1_atmc.shape\n",
    "normaized_spectrum_median_A6_0511_h1 = f.min_max_nomralization(median_A6_0511_h1_atmc)\n",
    "l2_norm_A6_0511_h1 = np.linalg.norm(median_A6_0511_h1_atmc)  \n",
    "l2_normalized_spectrum_A6_0511_h1 = median_A6_0511_h1_atmc / l2_norm_A6_0511_h1  "
   ]
  },
  {
   "cell_type": "markdown",
   "id": "4f63281b",
   "metadata": {},
   "source": [
    "### H2 analyse m atmc"
   ]
  },
  {
   "cell_type": "code",
   "execution_count": 15,
   "id": "7cae5f6d",
   "metadata": {},
   "outputs": [
    {
     "name": "stdout",
     "output_type": "stream",
     "text": [
      "number of pixels in area: (8, 109)\n",
      "Median RSS for area: (109,)\n",
      "[ 1.0651478e-04 -2.2231485e-03 -5.2334997e-04  1.5303432e-03\n",
      "  9.8402274e-04 -5.4828188e-04  3.6192066e-03  2.8261046e-03\n",
      "  6.1168429e-03  4.4604884e-03  6.9405772e-03  4.7365059e-03\n",
      "  5.8153281e-03  6.4957486e-03  5.8178357e-03  7.2561065e-03\n",
      "  6.2086596e-03  6.4967573e-03  7.7628708e-03  7.6209269e-03\n",
      "  7.4099670e-03  1.0231071e-02  8.3991671e-03  8.1728408e-03\n",
      "  8.3296653e-03  6.9395253e-03  7.6517230e-03  8.6908713e-03\n",
      "  9.0457704e-03  6.7600887e-03  8.5640587e-03  1.1176786e-02\n",
      "  7.8485087e-03  7.8193583e-03  8.5274093e-03  8.4935352e-03\n",
      "  7.2057955e-03  8.1547666e-03  7.3969942e-03  6.8421885e-03\n",
      "  6.8911826e-03  7.0909848e-03  6.7231134e-03  6.6737467e-03\n",
      "  5.7126489e-03  6.0036927e-03  5.6770011e-03  5.3259046e-03\n",
      "  5.8792662e-03  6.4943116e-03  4.4694506e-03  4.4867694e-03\n",
      "  4.4051055e-03  4.0892423e-03  4.0892977e-03  4.0763062e-03\n",
      "  3.8711436e-03  3.7506549e-03  3.0842626e-03  3.1671133e-03\n",
      "  2.5653513e-03  2.2969665e-03  2.4248825e-03  2.2825659e-03\n",
      "  2.3114346e-03  2.0642360e-03  1.6334781e-03  1.5396806e-03\n",
      "  1.4313930e-03  7.5841835e-04  1.1898235e-03  1.0475119e-03\n",
      "  8.9905167e-04  1.0104286e-03  7.9561427e-04  6.4280559e-04\n",
      "  4.0008372e-04  5.7042344e-05 -1.4762231e-03 -8.1608549e-04\n",
      " -6.0329889e-04 -6.4248074e-04 -6.5799162e-04 -6.9339422e-04\n",
      " -7.7473972e-04 -8.5539382e-04 -1.2952148e-03 -2.1559852e-03\n",
      " -1.8915404e-03 -2.1430016e-03 -2.1649706e-03 -1.9214845e-03\n",
      " -1.8760174e-03 -1.8685069e-03 -2.0413673e-03 -1.9536398e-03\n",
      " -2.0904131e-03 -2.2251713e-03 -2.3971372e-03 -5.4251887e-03\n",
      " -5.8523570e-03 -3.5377177e-03 -2.1565589e-03 -1.6727394e-03\n",
      " -1.2372923e-03 -8.0130668e-04 -1.7342699e-04  4.8804726e-04\n",
      "  1.8842127e-03]\n"
     ]
    }
   ],
   "source": [
    "## fiske for alle områdene og sjekke opp omrpdene i plot kalibreringa til H2\n",
    "\n",
    "latitude_250511_2 = np.array(cla_atm_250511['latitude'])\n",
    "longitude_250511_2 = np.array(cla_atm_250511['longitude'])\n",
    "\n",
    "rss_atmc_250511_H2 = atm_c.rss_atm_corrected(rho_vars_sorted, cla_atm_250511) #RSS for alle piksler, denne inneolder all info\n",
    "start_end_row_piksel_250511_H2_A1, start_end_row_col_250511_H2_A1 = f.latLong_to_piksel(target_lat_1, target_lon_1, latitude_250511_2, longitude_250511_2) #Får ut pisklene tilørende punktene\n",
    "area_in_piksel_rows_250511_H2_A1, area_in_piksel_cols_250511_H2_A1 = atm_c.piksles_in_slected_area(start_end_row_piksel_250511_H2_A1, start_end_row_col_250511_H2_A1, latitude_250511_2, longitude_250511_2)\n",
    "rss_for_250511_H2_A1 = atm_c.rss_given_pixels(area_in_piksel_rows_250511_H2_A1, area_in_piksel_cols_250511_H2_A1, rss_atmc_250511_H2) #***********'\n",
    "\n",
    "median_250511_H2_A1 = np.median(rss_for_250511_H2_A1, axis=0) #**************\n",
    "\n",
    "normaized_spectrum_median_250511_H2_A1 = f.min_max_nomralization(median_250511_H2_A1) #**********\n",
    "\n",
    "l2_norm_median_250511_H2_A1 = np.linalg.norm(median_250511_H2_A1)  #l2 norm ****************\n",
    "l2_normalized_median_spectrum_250511_H2_A1 = median_250511_H2_A1 / l2_norm_median_250511_H2_A1  #l2 normalisering **************'\n",
    "\n",
    "print(\"number of pixels in area:\", rss_for_250511_H2_A1.shape) #*********\n",
    "print(\"Median RSS for area:\", median_250511_H2_A1.shape)            #*********\n",
    "print(median_250511_H2_A1)                                          #*********    "
   ]
  },
  {
   "cell_type": "code",
   "execution_count": 16,
   "id": "aec48c8b",
   "metadata": {},
   "outputs": [
    {
     "name": "stdout",
     "output_type": "stream",
     "text": [
      "number of pixels in area: (19, 109)\n",
      "Median RSS for area: (109,)\n",
      "[ 2.1819305e-04 -2.1294991e-03 -4.5286916e-04  1.5801721e-03\n",
      "  9.4049406e-04 -5.9559755e-04  3.4092781e-03  2.8605436e-03\n",
      "  5.7854760e-03  4.4760127e-03  6.6296603e-03  4.4101165e-03\n",
      "  5.6596352e-03  6.2192231e-03  5.6737289e-03  7.0395614e-03\n",
      "  6.0098232e-03  6.2271082e-03  7.7414801e-03  7.4299187e-03\n",
      "  7.2820326e-03  9.9594295e-03  8.1724422e-03  8.0278972e-03\n",
      "  8.0495439e-03  6.8119396e-03  7.4999775e-03  8.4536765e-03\n",
      "  8.9465734e-03  6.7136851e-03  8.3335526e-03  1.1002552e-02\n",
      "  7.7872756e-03  7.7215922e-03  8.3089601e-03  8.3814226e-03\n",
      "  7.0541832e-03  8.0367131e-03  7.2253635e-03  6.8108216e-03\n",
      "  6.7574331e-03  6.8947189e-03  6.5550013e-03  6.5638782e-03\n",
      "  5.6301993e-03  5.9576603e-03  5.5759349e-03  5.2474262e-03\n",
      "  5.7878545e-03  6.3695889e-03  4.3641147e-03  4.3577091e-03\n",
      "  4.3070158e-03  4.0781498e-03  4.0208995e-03  3.8945710e-03\n",
      "  3.7791247e-03  3.7402036e-03  3.0733964e-03  3.1718176e-03\n",
      "  2.5185551e-03  2.2574863e-03  2.4207137e-03  2.1957641e-03\n",
      "  2.3439322e-03  2.0383424e-03  1.6217886e-03  1.4353862e-03\n",
      "  1.3711228e-03  7.7167008e-04  1.1834183e-03  1.0711574e-03\n",
      "  9.2043902e-04  9.8966446e-04  8.0075586e-04  6.1325845e-04\n",
      "  4.1692212e-04  5.2980202e-05 -1.4163698e-03 -7.5838575e-04\n",
      " -5.9950486e-04 -6.6978001e-04 -6.6863606e-04 -7.2975451e-04\n",
      " -7.9659675e-04 -8.9800364e-04 -1.2661596e-03 -2.1353969e-03\n",
      " -1.9947658e-03 -2.1897424e-03 -2.2263508e-03 -2.0448247e-03\n",
      " -1.9869287e-03 -1.9820353e-03 -2.0446009e-03 -1.9925814e-03\n",
      " -2.1481770e-03 -2.2955467e-03 -2.4392921e-03 -5.3523816e-03\n",
      " -5.7476736e-03 -3.5692940e-03 -2.2075376e-03 -1.7575055e-03\n",
      " -1.2534704e-03 -8.4977131e-04 -1.7276741e-04  5.3794240e-04\n",
      "  1.8396755e-03]\n"
     ]
    }
   ],
   "source": [
    "start_end_row_piksel_250511_H2_A2, start_end_row_col_250511_H2_A2 = f.latLong_to_piksel(target_lat_2, target_lon_2, latitude_250511_2, longitude_250511_2) #Får ut pisklene tilørende punktene\n",
    "area_in_piksel_rows_250511_H2_A2, area_in_piksel_cols_250511_H2_A2 = atm_c.piksles_in_slected_area(start_end_row_piksel_250511_H2_A2, start_end_row_col_250511_H2_A2, latitude_250511_2, longitude_250511_2)\n",
    "rss_for_250511_H2_A2 = atm_c.rss_given_pixels(area_in_piksel_rows_250511_H2_A2, area_in_piksel_cols_250511_H2_A2, rss_atmc_250511_H2) #***********'\n",
    "\n",
    "median_250511_H2_A2 = np.median(rss_for_250511_H2_A2, axis=0) #**************\n",
    "\n",
    "normaized_spectrum_median_250511_H2_A2 = f.min_max_nomralization(median_250511_H2_A2) #**********\n",
    "\n",
    "l2_norm_median_250511_H2_A2 = np.linalg.norm(median_250511_H2_A2)  #l2 norm ****************\n",
    "l2_normalized_median_spectrum_250511_H2_A2 = median_250511_H2_A2 / l2_norm_median_250511_H2_A2  #l2 normalisering **************'\n",
    "\n",
    "print(\"number of pixels in area:\", rss_for_250511_H2_A2.shape) #*********\n",
    "print(\"Median RSS for area:\", median_250511_H2_A2.shape)            #*********\n",
    "print(median_250511_H2_A2)     "
   ]
  },
  {
   "cell_type": "code",
   "execution_count": 17,
   "id": "7e221a4c",
   "metadata": {},
   "outputs": [
    {
     "name": "stdout",
     "output_type": "stream",
     "text": [
      "number of pixels in area: (18, 109)\n",
      "Median RSS for area: (109,)\n",
      "[ 4.1308667e-04 -1.9235581e-03 -1.4928210e-04  1.7804648e-03\n",
      "  1.0579354e-03 -4.4599638e-04  3.6239068e-03  2.9168404e-03\n",
      "  6.1711059e-03  4.6237800e-03  7.0220251e-03  4.5558512e-03\n",
      "  5.9091472e-03  6.4952578e-03  5.8142086e-03  7.2622867e-03\n",
      "  6.2141912e-03  6.3452367e-03  7.9553286e-03  7.7238940e-03\n",
      "  7.4350229e-03  1.0385981e-02  8.4485216e-03  8.3949249e-03\n",
      "  8.3474591e-03  6.9549093e-03  7.7201333e-03  8.7193390e-03\n",
      "  9.1948938e-03  6.7020031e-03  8.5877636e-03  1.1329260e-02\n",
      "  7.9072388e-03  7.8793718e-03  8.6201672e-03  8.5245827e-03\n",
      "  7.1076564e-03  8.1842812e-03  7.3921243e-03  6.8549239e-03\n",
      "  6.9204662e-03  7.0340391e-03  6.5819956e-03  6.6803563e-03\n",
      "  5.6693349e-03  5.9583960e-03  5.6598950e-03  5.2138390e-03\n",
      "  5.7659345e-03  6.4397790e-03  4.2560799e-03  4.2584883e-03\n",
      "  4.2371806e-03  4.0462483e-03  4.0316964e-03  3.9914567e-03\n",
      "  3.8136374e-03  3.7550244e-03  3.0511322e-03  3.1584068e-03\n",
      "  2.3958767e-03  2.1992414e-03  2.4709236e-03  2.2255671e-03\n",
      "  2.4063077e-03  2.0527588e-03  1.6572499e-03  1.4905919e-03\n",
      "  1.3754221e-03  7.3508185e-04  1.2037670e-03  1.0973983e-03\n",
      "  9.5686526e-04  1.0679583e-03  8.2246261e-04  6.1126915e-04\n",
      "  4.4981419e-04  1.9477407e-06 -1.6471250e-03 -8.8463177e-04\n",
      " -7.2663848e-04 -7.7513745e-04 -8.0379786e-04 -8.0798392e-04\n",
      " -9.2540181e-04 -1.0318626e-03 -1.3973552e-03 -2.4639107e-03\n",
      " -2.2049760e-03 -2.4691352e-03 -2.5055853e-03 -2.1901685e-03\n",
      " -2.1367476e-03 -2.0566722e-03 -2.2074403e-03 -2.2613159e-03\n",
      " -2.2768215e-03 -2.5335546e-03 -2.6420816e-03 -5.8322381e-03\n",
      " -6.3847527e-03 -3.9823414e-03 -2.4239849e-03 -1.8999710e-03\n",
      " -1.3078266e-03 -9.3663624e-04 -2.5672844e-04  5.3936022e-04\n",
      "  1.8816579e-03]\n"
     ]
    }
   ],
   "source": [
    "start_end_row_piksel_250511_H2_A3, start_end_row_col_250511_H2_A3 = f.latLong_to_piksel(target_lat_3, target_lon_3, latitude_250511_2, longitude_250511_2) #Får ut pisklene tilørende punktene\n",
    "area_in_piksel_rows_250511_H2_A3, area_in_piksel_cols_250511_H2_A3 = atm_c.piksles_in_slected_area(start_end_row_piksel_250511_H2_A3, start_end_row_col_250511_H2_A3, latitude_250511_2, longitude_250511_2)\n",
    "rss_for_250511_H2_A3 = atm_c.rss_given_pixels(area_in_piksel_rows_250511_H2_A3, area_in_piksel_cols_250511_H2_A3, rss_atmc_250511_H2) #***********'\n",
    "\n",
    "median_250511_H2_A3 = np.median(rss_for_250511_H2_A3, axis=0) #**************\n",
    "\n",
    "normaized_spectrum_median_250511_H2_A3 = f.min_max_nomralization(median_250511_H2_A3) #**********\n",
    "\n",
    "l2_norm_median_250511_H2_A3 = np.linalg.norm(median_250511_H2_A3)  #l2 norm ****************\n",
    "l2_normalized_median_spectrum_250511_H2_A3 = median_250511_H2_A3 / l2_norm_median_250511_H2_A3  #l2 normalisering **************'\n",
    "\n",
    "print(\"number of pixels in area:\", rss_for_250511_H2_A3.shape) #*********\n",
    "print(\"Median RSS for area:\", median_250511_H2_A3.shape)            #*********\n",
    "print(median_250511_H2_A3)     "
   ]
  },
  {
   "cell_type": "code",
   "execution_count": 18,
   "id": "273db179",
   "metadata": {},
   "outputs": [
    {
     "name": "stdout",
     "output_type": "stream",
     "text": [
      "number of pixels in area: (30, 109)\n",
      "Median RSS for area: (109,)\n",
      "[ 6.3843024e-04 -1.6886846e-03 -6.8899011e-05  1.8203699e-03\n",
      "  8.9757529e-04 -3.8947532e-04  3.8002224e-03  2.9722543e-03\n",
      "  6.2743509e-03  4.7453791e-03  7.1362024e-03  4.6907971e-03\n",
      "  5.9496821e-03  6.6421703e-03  5.9128040e-03  7.4099740e-03\n",
      "  6.2146615e-03  6.4572701e-03  8.0723893e-03  7.8573208e-03\n",
      "  7.6185521e-03  1.0555423e-02  8.5546467e-03  8.5140150e-03\n",
      "  8.3515160e-03  7.0038382e-03  7.7459137e-03  8.7786615e-03\n",
      "  9.2790937e-03  6.8084905e-03  8.6339694e-03  1.1471663e-02\n",
      "  7.8920322e-03  7.8511639e-03  8.5950661e-03  8.5597653e-03\n",
      "  7.0766546e-03  8.1524365e-03  7.3485267e-03  6.8239430e-03\n",
      "  6.9296164e-03  6.9969958e-03  6.5225018e-03  6.6283029e-03\n",
      "  5.5947993e-03  5.8520371e-03  5.5810078e-03  5.1634172e-03\n",
      "  5.7433913e-03  6.4510382e-03  4.2100605e-03  4.1891541e-03\n",
      "  4.2225961e-03  3.9969715e-03  4.0590428e-03  3.9477842e-03\n",
      "  3.7394399e-03  3.7696031e-03  2.9736557e-03  3.1303000e-03\n",
      "  2.3809243e-03  2.1295524e-03  2.4014697e-03  2.1746401e-03\n",
      "  2.3330501e-03  2.0189311e-03  1.5903669e-03  1.3800301e-03\n",
      "  1.3326986e-03  6.9061934e-04  1.2190626e-03  1.0913690e-03\n",
      "  8.9701603e-04  1.0693711e-03  8.1638043e-04  6.4633042e-04\n",
      "  4.3510614e-04 -3.2603821e-05 -1.7690597e-03 -1.0020554e-03\n",
      " -7.1633596e-04 -7.7819615e-04 -8.7277149e-04 -8.5064233e-04\n",
      " -9.3370728e-04 -9.8627084e-04 -1.5456583e-03 -2.6245238e-03\n",
      " -2.2533359e-03 -2.5718648e-03 -2.6335060e-03 -2.3033442e-03\n",
      " -2.1834401e-03 -2.1352631e-03 -2.3047901e-03 -2.3056744e-03\n",
      " -2.3008387e-03 -2.5950628e-03 -2.6854831e-03 -6.0513802e-03\n",
      " -6.5831929e-03 -4.0708939e-03 -2.4662497e-03 -1.8958820e-03\n",
      " -1.4487110e-03 -9.1010390e-04 -2.8518797e-04  5.6639506e-04\n",
      "  1.8393438e-03]\n"
     ]
    }
   ],
   "source": [
    "start_end_row_piksel_250511_H2_A5, start_end_row_col_250511_H2_A5 = f.latLong_to_piksel(target_lat_5, target_lon_5, latitude_250511_2, longitude_250511_2) #Får ut pisklene tilørende punktene\n",
    "area_in_piksel_rows_250511_H2_A5, area_in_piksel_cols_250511_H2_A5 = atm_c.piksles_in_slected_area(start_end_row_piksel_250511_H2_A5, start_end_row_col_250511_H2_A5, latitude_250511_2, longitude_250511_2)\n",
    "rss_for_250511_H2_A5 = atm_c.rss_given_pixels(area_in_piksel_rows_250511_H2_A5, area_in_piksel_cols_250511_H2_A5, rss_atmc_250511_H2) #***********'\n",
    "\n",
    "median_250511_H2_A5 = np.median(rss_for_250511_H2_A5, axis=0) #**************\n",
    "\n",
    "normaized_spectrum_median_250511_H2_A5 = f.min_max_nomralization(median_250511_H2_A5) #**********\n",
    "\n",
    "l2_norm_median_250511_H2_A5 = np.linalg.norm(median_250511_H2_A5)  #l2 norm ****************\n",
    "l2_normalized_median_spectrum_250511_H2_A5 = median_250511_H2_A5 / l2_norm_median_250511_H2_A5  #l2 normalisering **************'\n",
    "\n",
    "print(\"number of pixels in area:\", rss_for_250511_H2_A5.shape) #*********\n",
    "print(\"Median RSS for area:\", median_250511_H2_A5.shape)            #*********\n",
    "print(median_250511_H2_A5)     "
   ]
  },
  {
   "cell_type": "code",
   "execution_count": 19,
   "id": "cfa86f0e",
   "metadata": {},
   "outputs": [
    {
     "name": "stdout",
     "output_type": "stream",
     "text": [
      "number of pixels in area: (35, 109)\n",
      "Median RSS for area: (109,)\n",
      "[ 8.14119179e-04 -1.83263363e-03 -1.14371316e-04  1.89773727e-03\n",
      "  1.03770429e-03 -2.92160228e-04  3.78723931e-03  3.12975445e-03\n",
      "  6.34839153e-03  4.80881194e-03  7.20436871e-03  4.81923204e-03\n",
      "  6.08449895e-03  6.67025009e-03  6.01485418e-03  7.46570481e-03\n",
      "  6.31995592e-03  6.53644092e-03  8.18866491e-03  7.93206878e-03\n",
      "  7.66279828e-03  1.06057199e-02  8.67574662e-03  8.62441119e-03\n",
      "  8.48904531e-03  7.16141379e-03  7.80358538e-03  8.89048725e-03\n",
      "  9.25281271e-03  6.79472601e-03  8.74886289e-03  1.14891725e-02\n",
      "  7.88747985e-03  7.90877920e-03  8.65990389e-03  8.52238107e-03\n",
      "  7.08752265e-03  8.07875674e-03  7.26251397e-03  6.82737492e-03\n",
      "  6.73633954e-03  6.93283649e-03  6.46635750e-03  6.51226193e-03\n",
      "  5.52214123e-03  5.78193925e-03  5.44615276e-03  5.05491486e-03\n",
      "  5.67310397e-03  6.30487688e-03  4.12914017e-03  4.11185762e-03\n",
      "  4.19541728e-03  3.96798411e-03  4.03294666e-03  3.84433707e-03\n",
      "  3.70551203e-03  3.67746595e-03  2.99453060e-03  3.03141191e-03\n",
      "  2.26081139e-03  2.13960512e-03  2.28889449e-03  2.10393523e-03\n",
      "  2.35168915e-03  1.97329884e-03  1.53859064e-03  1.32442894e-03\n",
      "  1.22487231e-03  6.46406610e-04  1.14148017e-03  1.04895700e-03\n",
      "  9.37106204e-04  1.02461246e-03  7.68387283e-04  6.33894990e-04\n",
      "  4.48695268e-04 -6.35738324e-05 -1.82079338e-03 -1.02402864e-03\n",
      " -7.55486544e-04 -8.29266151e-04 -8.50172481e-04 -8.87710950e-04\n",
      " -1.01562170e-03 -1.09102484e-03 -1.55640184e-03 -2.60906736e-03\n",
      " -2.37789075e-03 -2.64748046e-03 -2.69839447e-03 -2.35258625e-03\n",
      " -2.24954798e-03 -2.23224750e-03 -2.34080176e-03 -2.32155109e-03\n",
      " -2.40201899e-03 -2.63912277e-03 -2.70007178e-03 -6.08750386e-03\n",
      " -6.65375451e-03 -4.07758961e-03 -2.50301207e-03 -1.97440223e-03\n",
      " -1.46734959e-03 -9.49242327e-04 -3.33156611e-04  5.44584647e-04\n",
      "  1.91773917e-03]\n"
     ]
    }
   ],
   "source": [
    "start_end_row_piksel_250511_H2_A6, start_end_row_col_250511_H2_A6 = f.latLong_to_piksel(target_lat_6, target_lon_6, latitude_250511_2, longitude_250511_2) #Får ut pisklene tilørende punktene\n",
    "area_in_piksel_rows_250511_H2_A6, area_in_piksel_cols_250511_H2_A6 = atm_c.piksles_in_slected_area(start_end_row_piksel_250511_H2_A6, start_end_row_col_250511_H2_A6, latitude_250511_2, longitude_250511_2)\n",
    "rss_for_250511_H2_A6 = atm_c.rss_given_pixels(area_in_piksel_rows_250511_H2_A6, area_in_piksel_cols_250511_H2_A6, rss_atmc_250511_H2) #***********'\n",
    "\n",
    "median_250511_H2_A6 = np.median(rss_for_250511_H2_A6, axis=0) #**************\n",
    "\n",
    "normaized_spectrum_median_250511_H2_A6 = f.min_max_nomralization(median_250511_H2_A6) #**********\n",
    "\n",
    "l2_norm_median_250511_H2_A6 = np.linalg.norm(median_250511_H2_A6)  #l2 norm ****************\n",
    "l2_normalized_median_spectrum_250511_H2_A6 = median_250511_H2_A6 / l2_norm_median_250511_H2_A6  #l2 normalisering **************'\n",
    "\n",
    "print(\"number of pixels in area:\", rss_for_250511_H2_A6.shape) #*********\n",
    "print(\"Median RSS for area:\", median_250511_H2_A6.shape)            #*********\n",
    "print(median_250511_H2_A6)     "
   ]
  },
  {
   "cell_type": "markdown",
   "id": "fb1830f5",
   "metadata": {},
   "source": [
    "## ATM uncoorected"
   ]
  },
  {
   "cell_type": "markdown",
   "id": "b12d3326",
   "metadata": {},
   "source": [
    "#### H1 RRS analyse NO ATMC"
   ]
  },
  {
   "cell_type": "code",
   "execution_count": null,
   "id": "9cbfe5cc",
   "metadata": {},
   "outputs": [
    {
     "name": "stdout",
     "output_type": "stream",
     "text": [
      "Pixel number:  3\n"
     ]
    },
    {
     "data": {
      "text/plain": [
       "(109,)"
      ]
     },
     "execution_count": 20,
     "metadata": {},
     "output_type": "execute_result"
    }
   ],
   "source": [
    "## dette må nok endres for disse er juster med H1 sin atm korreksjons kalibrering \n",
    "## HAHHAHA vent det er rett \n",
    "## Men H2 må muligens kalibreres\n",
    "\n",
    "rss_0511_h1_no_atmc_A1 = f.water_masked_rss_matrix(piksel_row_A1_0511_h1, piksel_col_A1_0511_h1, l1d_cube_25_0511, satobj_h1_25_0511)\n",
    "median_H1_no_atmc_A1 = np.median(rss_0511_h1_no_atmc_A1, axis=1)\n",
    "\n",
    "#rss_0511_h1_no_atmc_A1.shape\n",
    "median_H1_no_atmc_A1.shape\n",
    "\n",
    "#print(median_H1_no_atmc_A1)"
   ]
  },
  {
   "cell_type": "code",
   "execution_count": 21,
   "id": "5e25825f",
   "metadata": {},
   "outputs": [
    {
     "name": "stdout",
     "output_type": "stream",
     "text": [
      "Pixel number:  1498\n"
     ]
    },
    {
     "data": {
      "text/plain": [
       "(109,)"
      ]
     },
     "execution_count": 21,
     "metadata": {},
     "output_type": "execute_result"
    }
   ],
   "source": [
    "rss_0511_h1_no_atmc_A2 = f.water_masked_rss_matrix(piksel_row_A2_0511_h1, piksel_col_A2_0511_h1, l1d_cube_25_0511, satobj_h1_25_0511)\n",
    "median_H1_no_atmc_A2 = np.median(rss_0511_h1_no_atmc_A2, axis=1)\n",
    "\n",
    "median_H1_no_atmc_A2.shape"
   ]
  },
  {
   "cell_type": "code",
   "execution_count": 22,
   "id": "eb4b8289",
   "metadata": {},
   "outputs": [
    {
     "name": "stdout",
     "output_type": "stream",
     "text": [
      "Pixel number:  18\n"
     ]
    }
   ],
   "source": [
    "rss_0511_h1_no_atmc_A3 = f.water_masked_rss_matrix(piksel_row_A3_0511_h1, piksel_col_A3_0511_h1, l1d_cube_25_0511, satobj_h1_25_0511)\n",
    "median_H1_no_atmc_A3 = np.median(rss_0511_h1_no_atmc_A3, axis = 1)"
   ]
  },
  {
   "cell_type": "code",
   "execution_count": 23,
   "id": "4ada051f",
   "metadata": {},
   "outputs": [
    {
     "name": "stdout",
     "output_type": "stream",
     "text": [
      "Pixel number:  7248\n"
     ]
    }
   ],
   "source": [
    "rss_0511_h1_no_atmc_A5 = f.water_masked_rss_matrix(piksel_row_A5_0511_h1, piksel_col_A5_0511_h1, l1d_cube_25_0511, satobj_h1_25_0511)\n",
    "median_H1_no_atmc_A5 = np.median(rss_0511_h1_no_atmc_A5, axis= 1)"
   ]
  },
  {
   "cell_type": "code",
   "execution_count": 24,
   "id": "26da73e1",
   "metadata": {},
   "outputs": [
    {
     "name": "stdout",
     "output_type": "stream",
     "text": [
      "Pixel number:  23446\n"
     ]
    }
   ],
   "source": [
    "rss_0511_h1_no_atmc_A6 = f.water_masked_rss_matrix(piksel_row_A6_0511_h1, piksel_col_A6_0511_h1, l1d_cube_25_0511, satobj_h1_25_0511)\n",
    "median_H1_no_atmc_A6 = np.median(rss_0511_h1_no_atmc_A6, axis=1)"
   ]
  },
  {
   "cell_type": "markdown",
   "id": "82198cdf",
   "metadata": {},
   "source": [
    "#### H2 RRS analyse NO ATMC"
   ]
  },
  {
   "cell_type": "code",
   "execution_count": 44,
   "id": "641b0cc1",
   "metadata": {},
   "outputs": [],
   "source": [
    "latitudes_h2_250511 = satobj_h1_250511_2.latitudes\n",
    "longitudes_h2_250511 = satobj_h1_250511_2.longitudes\n",
    "\n",
    "cx_h2 = 127\n",
    "cy_h2 = 7"
   ]
  },
  {
   "cell_type": "code",
   "execution_count": 45,
   "id": "b19f6605",
   "metadata": {},
   "outputs": [
    {
     "name": "stdout",
     "output_type": "stream",
     "text": [
      "[np.int64(291), np.int64(307), np.int64(293), np.int64(316)] [np.int64(0), np.int64(105), np.int64(0), np.int64(84)]\n",
      "Pixel number:  74\n",
      "(109, 74)\n"
     ]
    }
   ],
   "source": [
    "piksel_row_A1_250511_h2, piksel_col_A1_250511_h2 = f.latLong_to_piksel(target_lat_1, target_lon_1, latitudes_h2_250511, longitudes_h2_250511) #####________\n",
    "print(piksel_row_A1_250511_h2, piksel_col_A1_250511_h2) \n",
    "\n",
    "for i in range(4):\n",
    "    piksel_col_A1_250511_h2[i] = piksel_col_A1_250511_h2[i] + cx_h2\n",
    "    piksel_row_A1_250511_h2[i] = piksel_row_A1_250511_h2[i] + cy_h2\n",
    "\n",
    "rss_A1_250511_h2 = f.water_masked_rss_matrix(piksel_row_A1_250511_h2, piksel_col_A1_250511_h2, l1d_cube_250511_2, satobj_h1_250511_2)\n",
    "print(rss_A1_250511_h2.shape) \n",
    "\n",
    "median_A1_250511_h2_NO_atmc = np.median(rss_A1_250511_h2, axis = 1)\n",
    "median_A1_250511_h2_NO_atmc.shape\n",
    "normaized_spectrum_median_A1_250511_h2_NO_atmc = f.min_max_nomralization(median_A1_250511_h2_NO_atmc)\n",
    "l2_norm_A1_250511_h2_NO_atmc = np.linalg.norm(median_A1_250511_h2_NO_atmc)  \n",
    "l2_normalized_spectrum_A1_250511_h2_NO_atmc = median_A1_250511_h2_NO_atmc / l2_norm_A1_250511_h2_NO_atmc "
   ]
  },
  {
   "cell_type": "code",
   "execution_count": 46,
   "id": "81ba3f28",
   "metadata": {},
   "outputs": [
    {
     "name": "stdout",
     "output_type": "stream",
     "text": [
      "[np.int64(309), np.int64(315), np.int64(319), np.int64(327)] [np.int64(233), np.int64(241), np.int64(121), np.int64(123)]\n",
      "Pixel number:  426\n",
      "(109, 426)\n"
     ]
    }
   ],
   "source": [
    "piksel_row_A2_250511_h2, piksel_col_A2_250511_h2 = f.latLong_to_piksel(target_lat_2, target_lon_2, latitudes_h2_250511, longitudes_h2_250511) #####________\n",
    "print(piksel_row_A2_250511_h2, piksel_col_A2_250511_h2) \n",
    "\n",
    "for i in range(4):\n",
    "    piksel_col_A2_250511_h2[i] = piksel_col_A2_250511_h2[i] + cx_h2\n",
    "    piksel_row_A2_250511_h2[i] = piksel_row_A2_250511_h2[i] + cy_h2\n",
    "\n",
    "rss_A2_250511_h2 = f.water_masked_rss_matrix(piksel_row_A2_250511_h2, piksel_col_A2_250511_h2, l1d_cube_250511_2, satobj_h1_250511_2)\n",
    "print(rss_A2_250511_h2.shape) \n",
    "\n",
    "median_A2_250511_h2_NO_atmc = np.median(rss_A2_250511_h2, axis = 1)\n",
    "median_A2_250511_h2_NO_atmc.shape\n",
    "normaized_spectrum_median_A2_250511_h2_NO_atmc = f.min_max_nomralization(median_A2_250511_h2_NO_atmc)\n",
    "l2_norm_A2_250511_h2_NO_atmc = np.linalg.norm(median_A2_250511_h2_NO_atmc)  \n",
    "l2_normalized_spectrum_A2_250511_h2_NO_atmc = median_A2_250511_h2_NO_atmc / l2_norm_A2_250511_h2_NO_atmc "
   ]
  },
  {
   "cell_type": "code",
   "execution_count": 47,
   "id": "bfddbe3a",
   "metadata": {},
   "outputs": [
    {
     "name": "stdout",
     "output_type": "stream",
     "text": [
      "[np.int64(299), np.int64(305), np.int64(317), np.int64(319)] [np.int64(352), np.int64(363), np.int64(298), np.int64(320)]\n",
      "Pixel number:  429\n",
      "(109, 429)\n"
     ]
    }
   ],
   "source": [
    "piksel_row_A3_250511_h2, piksel_col_A3_250511_h2 = f.latLong_to_piksel(target_lat_3, target_lon_3, latitudes_h2_250511, longitudes_h2_250511) #####________\n",
    "print(piksel_row_A3_250511_h2, piksel_col_A3_250511_h2) \n",
    "\n",
    "for i in range(4):\n",
    "    piksel_col_A3_250511_h2[i] = piksel_col_A3_250511_h2[i] + cx_h2\n",
    "    piksel_row_A3_250511_h2[i] = piksel_row_A3_250511_h2[i] + cy_h2\n",
    "\n",
    "rss_A3_250511_h2 = f.water_masked_rss_matrix(piksel_row_A3_250511_h2, piksel_col_A3_250511_h2, l1d_cube_250511_2, satobj_h1_250511_2)\n",
    "print(rss_A3_250511_h2.shape) \n",
    "\n",
    "median_A3_250511_h2_NO_atmc = np.median(rss_A3_250511_h2, axis = 1)\n",
    "median_A3_250511_h2_NO_atmc.shape\n",
    "normaized_spectrum_median_A3_250511_h2_NO_atmc = f.min_max_nomralization(median_A3_250511_h2_NO_atmc)\n",
    "l2_norm_A3_250511_h2_NO_atmc = np.linalg.norm(median_A3_250511_h2_NO_atmc)  \n",
    "l2_normalized_spectrum_A3_250511_h2_NO_atmc = median_A3_250511_h2_NO_atmc / l2_norm_A3_250511_h2_NO_atmc "
   ]
  },
  {
   "cell_type": "code",
   "execution_count": 48,
   "id": "b83efa07",
   "metadata": {},
   "outputs": [
    {
     "name": "stdout",
     "output_type": "stream",
     "text": [
      "[np.int64(259), np.int64(285), np.int64(289), np.int64(309)] [np.int64(462), np.int64(607), np.int64(369), np.int64(514)]\n",
      "Pixel number:  265\n",
      "(109, 265)\n"
     ]
    }
   ],
   "source": [
    "piksel_row_A5_250511_h2, piksel_col_A5_250511_h2 = f.latLong_to_piksel(target_lat_5, target_lon_5, latitudes_h2_250511, longitudes_h2_250511) #####________\n",
    "print(piksel_row_A5_250511_h2, piksel_col_A5_250511_h2) \n",
    "\n",
    "for i in range(4):\n",
    "    piksel_col_A5_250511_h2[i] = piksel_col_A5_250511_h2[i] + cx_h2\n",
    "    piksel_row_A5_250511_h2[i] = piksel_row_A5_250511_h2[i] + cy_h2\n",
    "\n",
    "rss_A5_250511_h2 = f.water_masked_rss_matrix(piksel_row_A5_250511_h2, piksel_col_A5_250511_h2, l1d_cube_250511_2, satobj_h1_250511_2)\n",
    "print(rss_A5_250511_h2.shape) \n",
    "\n",
    "median_A5_250511_h2_NO_atmc = np.median(rss_A5_250511_h2, axis = 1)\n",
    "median_A5_250511_h2_NO_atmc.shape\n",
    "normaized_spectrum_median_A5_250511_h2_NO_atmc = f.min_max_nomralization(median_A5_250511_h2_NO_atmc)\n",
    "l2_norm_A5_250511_h2_NO_atmc = np.linalg.norm(median_A5_250511_h2_NO_atmc)  \n",
    "l2_normalized_spectrum_A5_250511_h2_NO_atmc = median_A5_250511_h2_NO_atmc / l2_norm_A5_250511_h2_NO_atmc "
   ]
  },
  {
   "cell_type": "code",
   "execution_count": 49,
   "id": "d061c79e",
   "metadata": {},
   "outputs": [
    {
     "name": "stdout",
     "output_type": "stream",
     "text": [
      "[np.int64(217), np.int64(247), np.int64(252), np.int64(280)] [np.int64(500), np.int64(814), np.int64(443), np.int64(693)]\n",
      "Pixel number:  1164\n",
      "(109, 1164)\n"
     ]
    }
   ],
   "source": [
    "piksel_row_A6_250511_h2, piksel_col_A6_250511_h2 = f.latLong_to_piksel(target_lat_6, target_lon_6, latitudes_h2_250511, longitudes_h2_250511) #####________\n",
    "print(piksel_row_A6_250511_h2, piksel_col_A6_250511_h2) \n",
    "\n",
    "for i in range(4):\n",
    "    piksel_col_A6_250511_h2[i] = piksel_col_A6_250511_h2[i] + cx_h2\n",
    "    piksel_row_A6_250511_h2[i] = piksel_row_A6_250511_h2[i] + cy_h2\n",
    "\n",
    "rss_A6_250511_h2 = f.water_masked_rss_matrix(piksel_row_A6_250511_h2, piksel_col_A6_250511_h2, l1d_cube_250511_2, satobj_h1_250511_2)\n",
    "print(rss_A6_250511_h2.shape) \n",
    "\n",
    "median_A6_250511_h2_NO_atmc = np.median(rss_A6_250511_h2, axis = 1)\n",
    "median_A6_250511_h2_NO_atmc.shape\n",
    "normaized_spectrum_median_A6_250511_h2_NO_atmc = f.min_max_nomralization(median_A6_250511_h2_NO_atmc)\n",
    "l2_norm_A6_250511_h2_NO_atmc = np.linalg.norm(median_A6_250511_h2_NO_atmc)  \n",
    "l2_normalized_spectrum_A6_250511_h2_NO_atmc = median_A6_250511_h2_NO_atmc / l2_norm_A6_250511_h2_NO_atmc "
   ]
  },
  {
   "cell_type": "markdown",
   "id": "d0f12aaf",
   "metadata": {},
   "source": [
    "### Plots"
   ]
  },
  {
   "cell_type": "code",
   "execution_count": 52,
   "id": "dff87508",
   "metadata": {},
   "outputs": [
    {
     "data": {
      "image/png": "[encoded data removed]",
      "text/plain": [
       "<Figure size 640x480 with 1 Axes>"
      ]
     },
     "metadata": {},
     "output_type": "display_data"
    }
   ],
   "source": [
    "plt.plot(wl, median_A1_0511_h1_atmc, color='black', linestyle='--', label='median H1 A1')\n",
    "plt.plot(wl, median_H1_no_atmc_A1, color='black', linestyle=':', label='median H1 A1 NO atmc')\n",
    "plt.plot(wl, median_250511_H2_A1, color='black', label='median H2 A1')\n",
    "plt.plot(wl, median_A1_250511_h2_NO_atmc, color='black', linestyle='dashdot', label='median H2 A1 NO atmc')\n",
    "\n",
    "#plt.plot(wl, median_A2_0511_h1_atmc, color='pink', linestyle='--', label='median H1 A2')\n",
    "#plt.plot(wl, median_H1_no_atmc_A2, color='pink', linestyle=':', label='median H1 A2 No atmc')\n",
    "#plt.plot(wl, median_250511_H2_A2, color='pink', label='median H2 A2')\n",
    "#plt.plot(wl, median_A2_250511_h2_NO_atmc, color='pink', linestyle='dashdot', label='median H2 A2 NO atmc')\n",
    "\n",
    "\n",
    "plt.plot(wl, median_A3_0511_h1_atmc, color='red', linestyle='--', label='median H1 A3')\n",
    "plt.plot(wl, median_H1_no_atmc_A3, color='red', linestyle=':', label='median H1 A3 No atmc')\n",
    "plt.plot(wl, median_250511_H2_A3, color='red', label='median H2 A3')\n",
    "plt.plot(wl, median_A3_250511_h2_NO_atmc, color='red', linestyle='dashdot', label='median H2 A3 NO atmc')\n",
    "\n",
    "plt.plot(wl, median_A5_0511_h1_atmc, color='green', linestyle='--', label='median H1 A5')\n",
    "plt.plot(wl, median_H1_no_atmc_A5, color='green', linestyle=':', label='median H1 A5 No atmc')\n",
    "plt.plot(wl, median_250511_H2_A5, color='green', label='median H2 A4')\n",
    "plt.plot(wl, median_A5_250511_h2_NO_atmc, color='green', linestyle='dashdot', label='median H2 A5 NO atmc')\n",
    "\n",
    "plt.plot(wl, median_A6_0511_h1_atmc, color='blue', linestyle='--', label='median H1 A6')\n",
    "plt.plot(wl, median_H1_no_atmc_A6, color='blue', linestyle=':', label='median H1 A6 No atmc')\n",
    "plt.plot(wl, median_250511_H2_A6, color='blue', label='median H2 A6')\n",
    "plt.plot(wl, median_A6_250511_h2_NO_atmc, color='blue', linestyle='dashdot', label='median H2 A6 NO atmc')\n",
    "\n",
    "plt.xlabel(\"Wawelength (nm)\")\n",
    "plt.ylabel(\"Water leaving radience \") #Er begge water leaving radience???\n",
    "plt.title(\"H1 vs H2 comparison, all areas\")\n",
    "plt.grid(True, alpha=0.3)\n",
    "#plt.legend()\n",
    "plt.show()"
   ]
  },
  {
   "cell_type": "markdown",
   "id": "6e006187",
   "metadata": {},
   "source": [
    "### Derivates"
   ]
  },
  {
   "cell_type": "markdown",
   "id": "3a5975e8",
   "metadata": {},
   "source": [
    "### Cluster"
   ]
  }
 ],
 "metadata": {
  "kernelspec": {
   "display_name": "hypso-env",
   "language": "python",
   "name": "python3"
  },
  "language_info": {
   "codemirror_mode": {
    "name": "ipython",
    "version": 3
   },
   "file_extension": ".py",
   "mimetype": "text/x-python",
   "name": "python",
   "nbconvert_exporter": "python",
   "pygments_lexer": "ipython3",
   "version": "3.11.12"
  }
 },
 "nbformat": 4,
 "nbformat_minor": 5
}
