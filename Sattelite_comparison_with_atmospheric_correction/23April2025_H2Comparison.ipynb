{
 "cells": [
  {
   "cell_type": "markdown",
   "id": "a025a163",
   "metadata": {},
   "source": [
    "## A comparison between the capture on the 11. of may 2025, between the H1 and H2 sattelite"
   ]
  },
  {
   "cell_type": "markdown",
   "id": "8346ed43",
   "metadata": {},
   "source": [
    "### Imports"
   ]
  },
  {
   "cell_type": "code",
   "execution_count": 2,
   "id": "c8e2ee4a",
   "metadata": {},
   "outputs": [],
   "source": [
    "from hypso import Hypso1, Hypso2\n",
    "import os \n",
    "import sys\n",
    "import matplotlib.pyplot as plt\n",
    "from global_land_mask import globe \n",
    "import numpy as np \n",
    "\n",
    "parent_dir = os.path.abspath('..')\n",
    "if parent_dir not in sys.path:\n",
    "    sys.path.append(parent_dir)\n",
    "\n",
    "import funcions_autonom as f\n",
    "import atmosperic_correction as atm_c ## obs denne het før ac -> kan føre til feil dersom man ikke finner funkjsons navn\n",
    "import base as ac\n",
    "\n",
    "import xarray as xr\n",
    "import re\n",
    "import math\n",
    "import importlib\n",
    "\n",
    "from sklearn.cluster import KMeans\n",
    "from collections import defaultdict\n",
    "\n",
    "from sklearn.preprocessing import StandardScaler\n",
    "\n",
    "np.random.seed(42)\n",
    "\n",
    "dir_path = \"..\" ## filene hentes fra en mappe over der vi er nå"
   ]
  },
  {
   "cell_type": "code",
   "execution_count": 2,
   "id": "4731a400",
   "metadata": {},
   "outputs": [
    {
     "data": {
      "text/plain": [
       "<module 'atmosperic_correction' from '/home/itk/Documents/AnneMarthe/Master/Hypos_analyse/atmosperic_correction.py'>"
      ]
     },
     "execution_count": 2,
     "metadata": {},
     "output_type": "execute_result"
    }
   ],
   "source": [
    "importlib.reload(f)\n",
    "importlib.reload(ac)\n",
    "importlib.reload(atm_c)"
   ]
  },
  {
   "cell_type": "markdown",
   "id": "944d90a7",
   "metadata": {},
   "source": [
    "### Data upploading "
   ]
  },
  {
   "cell_type": "code",
   "execution_count": 4,
   "id": "53a34c36",
   "metadata": {},
   "outputs": [
    {
     "name": "stdout",
     "output_type": "stream",
     "text": [
      "[INFO] Loading L1a capture image64N9E_2025-04-23T10-28-01Z\n",
      "[INFO] Capture spatial dimensions: (598, 1092)\n",
      "[INFO] Capture capture type: wide\n",
      "[INFO] Loading L1b capture image64N9E_2025-04-23T10-28-01Z\n",
      "[INFO] Capture spatial dimensions: (598, 1092)\n",
      "[INFO] Capture capture type: wide\n",
      "[INFO] Loading L1c capture image64N9E_2025-04-23T10-28-01Z\n",
      "[INFO] Capture spatial dimensions: (598, 1092)\n",
      "[INFO] Capture capture type: wide\n",
      "[INFO] Loading L1d capture image64N9E_2025-04-23T10-28-01Z\n",
      "[INFO] Capture spatial dimensions: (598, 1092)\n",
      "[INFO] Capture capture type: wide\n",
      "[INFO] Running direct georeferencing...\n",
      "[INFO] ADCS samples: 539\n",
      "[INFO] ADCS time range: 1745403420.000000 to 1745404350.000000\n",
      "[INFO] Frame time range: 1745404081.613977 to 1745404156.238977\n",
      "[INFO] 298 sample(s) inside frame time range\n",
      "[INFO] Interpolating 598 frames\n",
      "[INFO] Computing pixel latitude and longitude coordinates ...\n",
      "[INFO] Interpolating pixel coordinate gaps...\n",
      "[INFO] Direct georeferencing done\n",
      "[INFO] Running track geometry computations...\n",
      "[INFO] Using UTM map: WGS 84 / UTM zone 32N EPSG: 32632\n",
      "[INFO] Track geometry computations done.\n",
      "[INFO] Running angles geometry computations...\n",
      "[INFO] Computing local angles (sun and satellite azimuth and zenith angles) ...\n",
      "[INFO] Using astropy on a subsampling of pixels ... (TODO skyfield may be faster)\n",
      "[INFO] Interpolating the rest of the pixels ...\n",
      "[INFO] Computing local angles done\n",
      "[INFO] Angles geometry computations done.\n"
     ]
    }
   ],
   "source": [
    "## H2\n",
    "i_250423_10 = os.path.join(dir_path, \"image64N9E_2025-04-23T10-28-01Z-l1a.nc\")\n",
    "i_250423_10_b = os.path.join(dir_path, \"image64N9E_2025-04-23T10-28-01Z-l1b.nc\")\n",
    "i_250423_10_c = os.path.join(dir_path, \"image64N9E_2025-04-23T10-28-01Z-l1c.nc\")\n",
    "i_250423_10_d = os.path.join(dir_path, \"image64N9E_2025-04-23T10-28-01Z-l1d.nc\")\n",
    "\n",
    "satobj_h1_250423_10 = Hypso2( path = i_250423_10, verbose = True )\n",
    "\n",
    "l1a_cube_250423_10 = satobj_h1_250423_10.l1a_cube\n",
    "l1b_cube_250423_10 = Hypso2( path = i_250423_10_b, verbose = True )\n",
    "l1c_cube_250423_10 = Hypso2( path = i_250423_10_c, verbose = True )\n",
    "l1d_cube_250423_10 = Hypso2( path = i_250423_10_d, verbose = True )\n",
    "\n",
    "l1c_cube_250423_10 = l1c_cube_250423_10.l1c_cube\n",
    "l1b_cube_250423_10 = l1b_cube_250423_10.l1b_cube\n",
    "l1d_cube_250423_10 = l1d_cube_250423_10.l1d_cube\n",
    "\n",
    "satobj_h1_250423_10.run_direct_georeferencing() # in order to get the longiyudes and latitudes "
   ]
  },
  {
   "cell_type": "code",
   "execution_count": 5,
   "id": "a8a7aee8",
   "metadata": {},
   "outputs": [
    {
     "name": "stdout",
     "output_type": "stream",
     "text": [
      "[INFO] Loading L1a capture image64N9E_2025-04-23T12-03-20Z\n",
      "[INFO] Capture spatial dimensions: (598, 1092)\n",
      "[INFO] Capture capture type: wide\n",
      "[INFO] Loading L1b capture image64N9E_2025-04-23T12-03-20Z\n",
      "[INFO] Capture spatial dimensions: (598, 1092)\n",
      "[INFO] Capture capture type: wide\n",
      "[INFO] Loading L1c capture image64N9E_2025-04-23T12-03-20Z\n",
      "[INFO] Capture spatial dimensions: (598, 1092)\n",
      "[INFO] Capture capture type: wide\n",
      "[INFO] Loading L1d capture image64N9E_2025-04-23T12-03-20Z\n",
      "[INFO] Capture spatial dimensions: (598, 1092)\n",
      "[INFO] Capture capture type: wide\n",
      "[INFO] Running direct georeferencing...\n",
      "[INFO] ADCS samples: 540\n",
      "[INFO] ADCS time range: 1745409150.000000 to 1745410080.000000\n",
      "[INFO] Frame time range: 1745409801.005251 to 1745409875.630251\n",
      "[INFO] 298 sample(s) inside frame time range\n",
      "[INFO] Interpolating 598 frames\n",
      "[INFO] Computing pixel latitude and longitude coordinates ...\n",
      "[INFO] Interpolating pixel coordinate gaps...\n",
      "[INFO] Direct georeferencing done\n",
      "[INFO] Running track geometry computations...\n",
      "[INFO] Using UTM map: WGS 84 / UTM zone 31N EPSG: 32631\n",
      "[INFO] Track geometry computations done.\n",
      "[INFO] Running angles geometry computations...\n",
      "[INFO] Computing local angles (sun and satellite azimuth and zenith angles) ...\n",
      "[INFO] Using astropy on a subsampling of pixels ... (TODO skyfield may be faster)\n",
      "[INFO] Interpolating the rest of the pixels ...\n",
      "[INFO] Computing local angles done\n",
      "[INFO] Angles geometry computations done.\n"
     ]
    }
   ],
   "source": [
    "## H2\n",
    "i_250423_12 = os.path.join(dir_path, \"image64N9E_2025-04-23T12-03-20Z-l1a.nc\")\n",
    "i_250423_12_b = os.path.join(dir_path, \"image64N9E_2025-04-23T12-03-20Z-l1b.nc\")\n",
    "i_250423_12_c = os.path.join(dir_path, \"image64N9E_2025-04-23T12-03-20Z-l1c.nc\")\n",
    "i_250423_12_d = os.path.join(dir_path, \"image64N9E_2025-04-23T12-03-20Z-l1d.nc\")\n",
    "\n",
    "satobj_h1_250423_12 = Hypso2( path = i_250423_12, verbose = True )\n",
    "\n",
    "l1a_cube_250423_12 = satobj_h1_250423_12.l1a_cube\n",
    "l1b_cube_250423_12 = Hypso2( path = i_250423_12_b, verbose = True )\n",
    "l1c_cube_250423_12 = Hypso2( path = i_250423_12_c, verbose = True )\n",
    "l1d_cube_250423_12 = Hypso2( path = i_250423_12_d, verbose = True )\n",
    "\n",
    "l1c_cube_250423_12 = l1c_cube_250423_12.l1c_cube\n",
    "l1b_cube_250423_12 = l1b_cube_250423_12.l1b_cube\n",
    "l1d_cube_250423_12 = l1d_cube_250423_12.l1d_cube\n",
    "\n",
    "satobj_h1_250423_12.run_direct_georeferencing() # in order to get the longiyudes and latitudes "
   ]
  },
  {
   "cell_type": "code",
   "execution_count": 11,
   "id": "f02663fa",
   "metadata": {},
   "outputs": [],
   "source": [
    "path_cla_atm_250423_10 = os.path.join(dir_path, \"image64N9E_2025-04-23T10-28-01Z-l1c.nc.polymer.nc\")######\n",
    "cla_atm_250423_10 = xr.open_dataset(path_cla_atm_250423_10)\n",
    "\n",
    "latitude_250423_10 = np.array(cla_atm_250423_10['latitude'])\n",
    "longitude_250423_10 = np.array(cla_atm_250423_10['longitude'])"
   ]
  },
  {
   "cell_type": "code",
   "execution_count": 12,
   "id": "80a194fd",
   "metadata": {},
   "outputs": [],
   "source": [
    "path_cla_atm_250423_12 = os.path.join(dir_path, \"image64N9E_2025-04-23T12-03-20Z-l1c.nc.polymer.nc\")######\n",
    "cla_atm_250423_12 = xr.open_dataset(path_cla_atm_250423_12)\n",
    "\n",
    "latitude_250423_12 = np.array(cla_atm_250423_12['latitude'])\n",
    "longitude_250423_12 = np.array(cla_atm_250423_12['longitude'])"
   ]
  },
  {
   "cell_type": "code",
   "execution_count": 8,
   "id": "8b78586a",
   "metadata": {},
   "outputs": [
    {
     "name": "stdout",
     "output_type": "stream",
     "text": [
      "Sorted rho variables: ['rho_w_418', 'rho_w_422', 'rho_w_425', 'rho_w_429', 'rho_w_432', 'rho_w_436', 'rho_w_439', 'rho_w_443', 'rho_w_446', 'rho_w_450', 'rho_w_453', 'rho_w_457', 'rho_w_460', 'rho_w_464', 'rho_w_467', 'rho_w_471', 'rho_w_474', 'rho_w_478', 'rho_w_481', 'rho_w_485', 'rho_w_488', 'rho_w_492', 'rho_w_495', 'rho_w_499', 'rho_w_502', 'rho_w_506', 'rho_w_509', 'rho_w_513', 'rho_w_516', 'rho_w_520', 'rho_w_523', 'rho_w_526', 'rho_w_530', 'rho_w_533', 'rho_w_537', 'rho_w_540', 'rho_w_544', 'rho_w_547', 'rho_w_551', 'rho_w_554', 'rho_w_558', 'rho_w_561', 'rho_w_565', 'rho_w_568', 'rho_w_572', 'rho_w_575', 'rho_w_579', 'rho_w_582', 'rho_w_585', 'rho_w_589', 'rho_w_592', 'rho_w_596', 'rho_w_599', 'rho_w_603', 'rho_w_606', 'rho_w_610', 'rho_w_613', 'rho_w_617', 'rho_w_620', 'rho_w_623', 'rho_w_627', 'rho_w_630', 'rho_w_634', 'rho_w_637', 'rho_w_641', 'rho_w_644', 'rho_w_648', 'rho_w_651', 'rho_w_654', 'rho_w_658', 'rho_w_661', 'rho_w_665', 'rho_w_668', 'rho_w_672', 'rho_w_675', 'rho_w_678', 'rho_w_682', 'rho_w_685', 'rho_w_689', 'rho_w_692', 'rho_w_696', 'rho_w_699', 'rho_w_702', 'rho_w_706', 'rho_w_709', 'rho_w_713', 'rho_w_716', 'rho_w_719', 'rho_w_723', 'rho_w_726', 'rho_w_730', 'rho_w_733', 'rho_w_737', 'rho_w_740', 'rho_w_743', 'rho_w_747', 'rho_w_750', 'rho_w_754', 'rho_w_757', 'rho_w_760', 'rho_w_764', 'rho_w_767', 'rho_w_771', 'rho_w_774', 'rho_w_777', 'rho_w_781', 'rho_w_784', 'rho_w_787', 'rho_w_791']\n",
      "109\n"
     ]
    }
   ],
   "source": [
    "rho_vars = [var for var in cla_atm_250423_10.variables if re.match(r'rho_w_\\d+', var)]\n",
    "rho_vars_sorted = sorted(rho_vars, key=lambda v: int(v.split('_')[-1])) #A variable containing the name of all the rho vaibles\n",
    "rho_vars_sorted = rho_vars_sorted[5:]\n",
    "print(\"Sorted rho variables:\", rho_vars_sorted)\n",
    "print(len(rho_vars_sorted))"
   ]
  },
  {
   "cell_type": "markdown",
   "id": "9a15cdd1",
   "metadata": {},
   "source": [
    "## ATMC RRS"
   ]
  },
  {
   "cell_type": "markdown",
   "id": "d35a6bba",
   "metadata": {},
   "source": [
    "### H1 analyse m atmc"
   ]
  },
  {
   "cell_type": "code",
   "execution_count": 9,
   "id": "16af62ee",
   "metadata": {},
   "outputs": [],
   "source": [
    "wl = satobj_h1_250423_10.wavelengths[9:118]\n",
    "x_123 = [387.84749685, 391.40406599, 394.95941579, 398.51354623, 402.06645732, 405.61814905, 409.16862143, 412.71787446, 416.26590814, 419.81272246, 423.35831743, 426.90269305, 430.44584931, 433.98778622, 437.52850378, 441.06800198, 444.60628083, 448.14334033, 451.67918047, 455.21380126, 458.7472027, 462.27938479, 465.81034752, 469.3400909 , 472.86861492,476.3959196 , 479.92200491, 483.44687088, 486.97051749, 490.49294475,494.01415266, 497.53414122, 501.05291042, 504.57046026, 508.08679076,511.6019019 , 515.11579369, 518.62846612, 522.13991921, 525.65015294,529.15916731, 532.66696233, 536.173538  , 539.67889432, 543.18303128,546.68594889, 550.18764715, 553.68812606, 557.18738561, 560.68542581,564.18224665, 567.67784814, 571.17223028, 574.66539307, 578.1573365, 581.64806058, 585.1375653 , 588.62585068, 592.1129167 , 595.59876336,599.08339068, 602.56679864, 606.04898725, 609.5299565 , 613.0097064 ,616.48823695, 619.96554815, 623.44163999, 626.91651248, 630.39016561,633.86259939, 637.33381382, 640.8038089 , 644.27258462, 647.74014099,651.20647801, 654.67159568, 658.13549399, 661.59817294, 665.05963255,668.5198728 , 671.9788937 , 675.43669524, 678.89327744, 682.34864028,685.80278376, 689.25570789, 692.70741267, 696.1578981 , 699.60716418,703.0552109 , 706.50203826, 709.94764628, 713.39203494, 716.83520425,720.2771542 , 723.7178848 , 727.15739605, 730.59568795, 734.03276049,737.46861368, 740.90324752, 744.336662  , 747.76885713, 751.19983291,754.62958933, 758.0581264 , 761.48544412, 764.91154248, 768.33642149,771.76008115, 775.18252146, 778.60374241, 782.02374401, 785.44252625,788.86008915, 792.27643269, 795.69155687, 799.10546171, 802.51814719]\n",
    "wl = x_123[9:118]\n",
    "\n",
    "#target_lat_6 = [64.48557437461893,64.52896641587218, 64.20992561747796, 64.22009411667561] #område 7\n",
    "#target_lon_6 = [9.886201113342556, 8.708294855080245,9.704720121565003,8.73032214102829]  \n",
    "#\n",
    "#target_lat_5 = [64.17324887890479,64.11631446557637, 63.896904083590066, 63.887923483169004] #område 6.1\n",
    "#target_lon_5 = [9.582148298814932,8.924448409066027, 9.578289180688513, 8.96230357578283]\n",
    "\n",
    "target_lat_6 = [64.254748,64.280744, 64.152913, 64.145967] # ny og midre\n",
    "target_lon_6 = [9.829630 -0.25, 9.508824 -0.25,9.750527 -0.25,9.492894 -0.25]  \n",
    "\n",
    "target_lat_5 = [63.959085,63.949196, 63.856648, 63.853017] #ny og mindre\n",
    "target_lon_5 = [9.415833,9.148865, 9.500427, 9.154358] # ny\n",
    "\n",
    "target_lat_3 = [63.818490304354434,63.793837321385155, 63.65192496143867, 63.660555970548074] #område 2.1.\n",
    "target_lon_3 = [9.531415429238418, 9.442656298818237,9.526455044589706,9.439764451470932]\n",
    "\n",
    "target_lat_2 = [63.646767083517425,63.61771951990031, 63.47865598622861, 63.42721372576498] #område 5.1\n",
    "target_lon_2 = [9.804697410334523, 9.723689711502818,10.061035990832918,9.982929114384596]  \n",
    "\n",
    "target_lat_1 = [63.52676744792975, 63.55113867486421, 63.44802428401152, 63.46332195091103] #område 8 \n",
    "target_lon_1 = [10.726421572030368, 10.227932960954064, 10.706024496195505, 10.211631333282082] "
   ]
  },
  {
   "cell_type": "markdown",
   "id": "1c2d2be9",
   "metadata": {},
   "source": [
    "#### atm corrected data cube"
   ]
  },
  {
   "cell_type": "markdown",
   "id": "4f63281b",
   "metadata": {},
   "source": [
    "### H2 analyse m atmc kl 10"
   ]
  },
  {
   "cell_type": "code",
   "execution_count": 15,
   "id": "7cae5f6d",
   "metadata": {},
   "outputs": [
    {
     "name": "stdout",
     "output_type": "stream",
     "text": [
      "number of pixels in area: (30, 109)\n",
      "Median RSS for area: (109,)\n",
      "[-1.1346876e-03 -3.2671429e-03 -1.8026776e-03  1.0671689e-05\n",
      " -2.1527745e-04 -1.2771620e-03  2.4662716e-03  2.0632376e-03\n",
      "  4.7947811e-03  3.3957160e-03  5.6167105e-03  3.5006357e-03\n",
      "  4.8220763e-03  5.1209815e-03  4.7763959e-03  6.1529470e-03\n",
      "  5.0507728e-03  5.4865945e-03  6.7301318e-03  6.5601966e-03\n",
      "  6.5764305e-03  9.2032459e-03  7.5159590e-03  7.3943185e-03\n",
      "  7.4399691e-03  6.3539515e-03  6.9698161e-03  7.9431105e-03\n",
      "  8.4454650e-03  6.3310978e-03  7.9830084e-03  1.0609549e-02\n",
      "  7.5180074e-03  7.6394617e-03  8.2988897e-03  8.3011612e-03\n",
      "  6.9869058e-03  7.9880022e-03  7.4010585e-03  6.9951927e-03\n",
      "  6.9881864e-03  7.1366304e-03  6.8984637e-03  6.8946513e-03\n",
      "  6.1206049e-03  6.3684564e-03  6.1526084e-03  5.8702044e-03\n",
      "  6.4142467e-03  7.2499160e-03  5.3215856e-03  5.2335272e-03\n",
      "  5.1435572e-03  4.8379609e-03  4.8039006e-03  4.6613808e-03\n",
      "  4.5019910e-03  4.3798168e-03  3.7596566e-03  3.7743230e-03\n",
      "  3.0687354e-03  2.9313909e-03  3.0998306e-03  2.7924143e-03\n",
      "  2.9746182e-03  2.6214495e-03  2.3356462e-03  2.0615489e-03\n",
      "  2.0053829e-03  1.3252890e-03  1.6231457e-03  1.5494858e-03\n",
      "  1.3179812e-03  1.3797239e-03  1.1453476e-03  9.5159432e-04\n",
      "  7.1320619e-04  3.9131998e-04 -1.2282101e-03 -4.0614017e-04\n",
      " -2.6883677e-05 -1.9000057e-04 -1.7742693e-04 -2.9920047e-04\n",
      " -3.7093816e-04 -5.1478227e-04 -7.5862650e-04 -1.5211715e-03\n",
      " -1.3371445e-03 -1.5518334e-03 -1.7450009e-03 -1.6134381e-03\n",
      " -1.5899420e-03 -1.6072704e-03 -1.7795365e-03 -1.8516516e-03\n",
      " -1.8260255e-03 -2.1035681e-03 -2.2031278e-03 -5.7481062e-03\n",
      " -6.2888702e-03 -3.6752485e-03 -2.0658406e-03 -1.5675559e-03\n",
      " -1.1441626e-03 -7.1135012e-04 -1.7415333e-04  6.5557077e-04\n",
      "  1.9025519e-03]\n"
     ]
    }
   ],
   "source": [
    "rss_atmc_250423_10 = atm_c.rss_atm_corrected(rho_vars_sorted, cla_atm_250423_10) #RSS for alle piksler, denne inneolder all info\n",
    "start_end_row_piksel_250423_10_A1, start_end_row_col_250423_10_A1 = f.latLong_to_piksel(target_lat_1, target_lon_1, latitude_250423_10, longitude_250423_10) #Får ut pisklene tilørende punktene\n",
    "area_in_piksel_rows_250423_10_A1, area_in_piksel_cols_250423_10_A1 = atm_c.piksles_in_slected_area(start_end_row_piksel_250423_10_A1, start_end_row_col_250423_10_A1, latitude_250423_10, longitude_250423_10)\n",
    "rss_for_250423_10_A1 = atm_c.rss_given_pixels(area_in_piksel_rows_250423_10_A1, area_in_piksel_cols_250423_10_A1, rss_atmc_250423_10) #***********'\n",
    "\n",
    "median_250423_10_A1 = np.median(rss_for_250423_10_A1, axis=0) #**************\n",
    "\n",
    "normaized_spectrum_median_250423_10_A1 = f.min_max_nomralization(median_250423_10_A1) #**********\n",
    "\n",
    "l2_norm_median_250423_10_A1 = np.linalg.norm(median_250423_10_A1)  #l2 norm ****************\n",
    "l2_normalized_median_spectrum_250423_10_A1 = median_250423_10_A1 / l2_norm_median_250423_10_A1  #l2 normalisering **************'\n",
    "\n",
    "print(\"number of pixels in area:\", rss_for_250423_10_A1.shape) #*********\n",
    "print(\"Median RSS for area:\", median_250423_10_A1.shape)            #*********\n",
    "print(median_250423_10_A1)                                          #*********    "
   ]
  },
  {
   "cell_type": "code",
   "execution_count": 16,
   "id": "ce98d4d1",
   "metadata": {},
   "outputs": [],
   "source": [
    "#plt.imshow(rss_atmc_250511_H2)\n",
    "#plt.imshow(l1d_cube_250511_2[:,:, 100], origin='upper')\n",
    "#plt.scatter(piksel_col_A3[0], piksel_row_A3[0], color='red', s=5)"
   ]
  },
  {
   "cell_type": "code",
   "execution_count": 16,
   "id": "4563926e",
   "metadata": {},
   "outputs": [
    {
     "name": "stdout",
     "output_type": "stream",
     "text": [
      "number of pixels in area: (301, 109)\n",
      "Median RSS for area: (109,)\n",
      "[ 5.85189380e-04 -2.40273634e-03 -7.10157270e-04  1.63068390e-03\n",
      "  1.33290386e-03 -5.53119171e-04  4.90780082e-03  3.84793989e-03\n",
      "  7.86547642e-03  5.36945276e-03  8.83769430e-03  5.90977911e-03\n",
      "  7.84923974e-03  8.12103506e-03  8.14000424e-03  9.81041696e-03\n",
      "  8.79950821e-03  9.32941120e-03  1.06516415e-02  1.04034198e-02\n",
      "  1.10315150e-02  1.38270045e-02  1.20554920e-02  1.19185923e-02\n",
      "  1.22237792e-02  1.08462758e-02  1.15673356e-02  1.30087426e-02\n",
      "  1.35454312e-02  1.10176802e-02  1.29046915e-02  1.60985142e-02\n",
      "  1.23825027e-02  1.26892701e-02  1.33761922e-02  1.35135893e-02\n",
      "  1.18362159e-02  1.30178062e-02  1.21397404e-02  1.16101364e-02\n",
      "  1.15387021e-02  1.18448576e-02  1.12965116e-02  1.12363948e-02\n",
      "  1.02028903e-02  1.05217081e-02  1.00102713e-02  9.63843521e-03\n",
      "  1.03678275e-02  1.13286972e-02  8.88098124e-03  8.64017010e-03\n",
      "  8.42482131e-03  8.00026394e-03  7.96356797e-03  7.64997164e-03\n",
      "  7.35962717e-03  7.25840451e-03  6.33084122e-03  6.19651284e-03\n",
      "  5.21707488e-03  4.97755827e-03  5.14937844e-03  4.82300576e-03\n",
      "  4.86441888e-03  4.26945509e-03  3.80577170e-03  3.46512068e-03\n",
      "  3.07591632e-03  2.38249917e-03  2.75828317e-03  2.36428971e-03\n",
      "  2.18495307e-03  2.06827116e-03  1.70100271e-03  1.38826750e-03\n",
      "  1.03139074e-03  1.20571603e-04 -1.80312397e-03 -6.05274457e-04\n",
      " -2.40891808e-04 -3.50562885e-04 -2.88924435e-04 -4.75502282e-04\n",
      " -5.68701245e-04 -7.07954052e-04 -1.22856931e-03 -2.07679463e-03\n",
      " -2.01735902e-03 -2.20897468e-03 -2.31510005e-03 -2.08338257e-03\n",
      " -2.05510366e-03 -2.14972929e-03 -2.28967331e-03 -2.38350965e-03\n",
      " -2.44426960e-03 -2.71692104e-03 -3.48055549e-03 -9.59670823e-03\n",
      " -9.50319599e-03 -4.94889496e-03 -2.64283642e-03 -1.85419072e-03\n",
      " -1.27346686e-03 -7.37550668e-04 -2.93989578e-05  1.08650839e-03\n",
      "  2.79829651e-03]\n"
     ]
    }
   ],
   "source": [
    "rss_atmc_250423_10 = atm_c.rss_atm_corrected(rho_vars_sorted, cla_atm_250423_10) #RSS for alle piksler, denne inneolder all info\n",
    "start_end_row_piksel_250423_10_A2, start_end_row_col_250423_10_A2 = f.latLong_to_piksel(target_lat_2, target_lon_2, latitude_250423_10, longitude_250423_10) #Får ut pisklene tilørende punktene\n",
    "area_in_piksel_rows_250423_10_A2, area_in_piksel_cols_250423_10_A2 = atm_c.piksles_in_slected_area(start_end_row_piksel_250423_10_A2, start_end_row_col_250423_10_A2, latitude_250423_10, longitude_250423_10)\n",
    "rss_for_250423_10_A2 = atm_c.rss_given_pixels(area_in_piksel_rows_250423_10_A2, area_in_piksel_cols_250423_10_A2, rss_atmc_250423_10) #***********'\n",
    "\n",
    "median_250423_10_A2 = np.median(rss_for_250423_10_A2, axis=0) #**************\n",
    "\n",
    "normaized_spectrum_median_250423_10_A2 = f.min_max_nomralization(median_250423_10_A2) #**********\n",
    "\n",
    "l2_norm_median_250423_10_A2 = np.linalg.norm(median_250423_10_A2)  #l2 norm ****************\n",
    "l2_normalized_median_spectrum_250423_10_A2 = median_250423_10_A2 / l2_norm_median_250423_10_A2  #l2 normalisering **************'\n",
    "\n",
    "print(\"number of pixels in area:\", rss_for_250423_10_A2.shape) #*********\n",
    "print(\"Median RSS for area:\", median_250423_10_A2.shape)            #*********\n",
    "print(median_250423_10_A2)                                          #*********    "
   ]
  },
  {
   "cell_type": "code",
   "execution_count": 17,
   "id": "92608359",
   "metadata": {},
   "outputs": [
    {
     "name": "stdout",
     "output_type": "stream",
     "text": [
      "number of pixels in area: (173, 109)\n",
      "Median RSS for area: (109,)\n",
      "[-5.3095006e-05 -2.6093812e-03 -8.9761126e-04  2.4098526e-03\n",
      "  4.4771787e-04 -1.3935126e-03  4.0901699e-03  2.6848647e-03\n",
      "  6.6968976e-03  4.0481705e-03  7.6524797e-03  4.4085444e-03\n",
      "  6.2710606e-03  6.7604179e-03  6.3435067e-03  7.8248316e-03\n",
      "  6.6756359e-03  7.0856833e-03  8.3609261e-03  8.4505947e-03\n",
      "  8.3697699e-03  1.1175956e-02  9.2906933e-03  9.3083549e-03\n",
      "  9.2802905e-03  8.0019627e-03  8.8157710e-03  9.9416561e-03\n",
      "  1.0615967e-02  7.9127280e-03  9.8609943e-03  1.2661112e-02\n",
      "  9.2609627e-03  9.5018186e-03  1.0019936e-02  1.0098026e-02\n",
      "  8.6391335e-03  9.6099013e-03  8.9601018e-03  8.3903726e-03\n",
      "  8.3923312e-03  8.5901981e-03  8.0949944e-03  8.2078408e-03\n",
      "  7.2958586e-03  7.5797997e-03  7.1909390e-03  6.8556191e-03\n",
      "  7.5532058e-03  8.4093697e-03  6.1693657e-03  6.0370369e-03\n",
      "  5.8799768e-03  5.5290060e-03  5.5512707e-03  5.4234061e-03\n",
      "  5.1407935e-03  5.0343215e-03  4.3179318e-03  4.3206699e-03\n",
      "  3.5475309e-03  3.3651143e-03  3.5664442e-03  3.1762798e-03\n",
      "  3.3850060e-03  2.9123274e-03  2.6294736e-03  2.3350331e-03\n",
      "  2.0739459e-03  1.5682931e-03  1.8458085e-03  1.7077484e-03\n",
      "  1.5128712e-03  1.5620632e-03  1.2798756e-03  1.0666562e-03\n",
      "  8.2471938e-04  1.2055860e-04 -1.3897460e-03 -4.9868238e-04\n",
      " -2.9326728e-04 -4.1238955e-04 -4.2960935e-04 -5.8577600e-04\n",
      " -6.8923767e-04 -8.1569300e-04 -1.2386359e-03 -1.8420100e-03\n",
      " -1.8640973e-03 -2.0298078e-03 -2.1353350e-03 -2.0196603e-03\n",
      " -2.0894434e-03 -2.2061707e-03 -2.3489415e-03 -2.4794736e-03\n",
      " -2.6143049e-03 -2.8113890e-03 -3.4223516e-03 -6.9566900e-03\n",
      " -6.8891095e-03 -4.1375090e-03 -2.6134131e-03 -2.0560517e-03\n",
      " -1.5523061e-03 -1.0148182e-03 -2.9649984e-04  8.3080091e-04\n",
      "  2.5616728e-03]\n"
     ]
    }
   ],
   "source": [
    "rss_atmc_250423_10 = atm_c.rss_atm_corrected(rho_vars_sorted, cla_atm_250423_10) #RSS for alle piksler, denne inneolder all info\n",
    "start_end_row_piksel_250423_10_A3, start_end_row_col_250423_10_A3 = f.latLong_to_piksel(target_lat_3, target_lon_3, latitude_250423_10, longitude_250423_10) #Får ut pisklene tilørende punktene\n",
    "area_in_piksel_rows_250423_10_A3, area_in_piksel_cols_250423_10_A3 = atm_c.piksles_in_slected_area(start_end_row_piksel_250423_10_A3, start_end_row_col_250423_10_A3, latitude_250423_10, longitude_250423_10)\n",
    "rss_for_250423_10_A3 = atm_c.rss_given_pixels(area_in_piksel_rows_250423_10_A3, area_in_piksel_cols_250423_10_A3, rss_atmc_250423_10) #***********'\n",
    "\n",
    "median_250423_10_A3 = np.median(rss_for_250423_10_A3, axis=0) #**************\n",
    "\n",
    "normaized_spectrum_median_250423_10_A3 = f.min_max_nomralization(median_250423_10_A3) #**********\n",
    "\n",
    "l2_norm_median_250423_10_A3 = np.linalg.norm(median_250423_10_A3)  #l2 norm ****************\n",
    "l2_normalized_median_spectrum_250423_10_A3 = median_250423_10_A3 / l2_norm_median_250423_10_A3  #l2 normalisering **************'\n",
    "\n",
    "print(\"number of pixels in area:\", rss_for_250423_10_A3.shape) #*********\n",
    "print(\"Median RSS for area:\", median_250423_10_A3.shape)            #*********\n",
    "print(median_250423_10_A3)                                          #*********    "
   ]
  },
  {
   "cell_type": "code",
   "execution_count": 19,
   "id": "6fac2f8b",
   "metadata": {},
   "outputs": [
    {
     "name": "stdout",
     "output_type": "stream",
     "text": [
      "number of pixels in area: (828, 109)\n",
      "Median RSS for area: (109,)\n",
      "[ 0.00135318 -0.0016092   0.00025562  0.00353827  0.00067905 -0.00154121\n",
      "  0.00415867  0.00247957  0.00660319  0.00375538  0.00775967  0.0042636\n",
      "  0.00611888  0.00659933  0.00606883  0.00740091  0.00621051  0.0065602\n",
      "  0.0079053   0.00831668  0.00762666  0.01073391  0.00879793  0.00894769\n",
      "  0.00879833  0.00743525  0.00822672  0.00955388  0.01022068  0.00721066\n",
      "  0.00920778  0.01224616  0.00856929  0.00878296  0.00943295  0.00949023\n",
      "  0.00791799  0.00896774  0.00827841  0.00769743  0.00779085  0.00787763\n",
      "  0.00743326  0.00756949  0.00652532  0.00691951  0.00654666  0.00614509\n",
      "  0.00690082  0.00775009  0.00550831  0.00547879  0.00532083  0.00496171\n",
      "  0.00496874  0.00483778  0.00459826  0.00455753  0.00380227  0.0038466\n",
      "  0.00307734  0.00290734  0.00310674  0.00282642  0.00299746  0.00259378\n",
      "  0.00229664  0.00205896  0.00187219  0.00127059  0.00161865  0.00148899\n",
      "  0.00135484  0.00139276  0.00115702  0.00099497  0.00075598  0.00017318\n",
      " -0.00135681 -0.00058789 -0.00034009 -0.00048338 -0.00053954 -0.00071849\n",
      " -0.00085153 -0.00100493 -0.00136411 -0.00193327 -0.00201891 -0.00217705\n",
      " -0.00233027 -0.00228591 -0.00237419 -0.0024698  -0.00263904 -0.00274888\n",
      " -0.00284812 -0.00304679 -0.00350817 -0.00629037 -0.00649728 -0.00423259\n",
      " -0.00285453 -0.00228726 -0.00179626 -0.0012186  -0.00050337  0.00069624\n",
      "  0.00245978]\n"
     ]
    }
   ],
   "source": [
    "rss_atmc_250423_10 = atm_c.rss_atm_corrected(rho_vars_sorted, cla_atm_250423_10) #RSS for alle piksler, denne inneolder all info\n",
    "start_end_row_piksel_250423_10_A5, start_end_row_col_250423_10_A5 = f.latLong_to_piksel(target_lat_5, target_lon_5, latitude_250423_10, longitude_250423_10) #Får ut pisklene tilørende punktene\n",
    "area_in_piksel_rows_250423_10_A5, area_in_piksel_cols_250423_10_A5 = atm_c.piksles_in_slected_area(start_end_row_piksel_250423_10_A5, start_end_row_col_250423_10_A5, latitude_250423_10, longitude_250423_10)\n",
    "rss_for_250423_10_A5 = atm_c.rss_given_pixels(area_in_piksel_rows_250423_10_A5, area_in_piksel_cols_250423_10_A5, rss_atmc_250423_10) #***********'\n",
    "\n",
    "median_250423_10_A5 = np.median(rss_for_250423_10_A5, axis=0) #**************\n",
    "\n",
    "normaized_spectrum_median_250423_10_A5 = f.min_max_nomralization(median_250423_10_A5) #**********\n",
    "\n",
    "l2_norm_median_250423_10_A5 = np.linalg.norm(median_250423_10_A5)  #l2 norm ****************\n",
    "l2_normalized_median_spectrum_250423_10_A5 = median_250423_10_A5 / l2_norm_median_250423_10_A5  #l2 normalisering **************'\n",
    "\n",
    "print(\"number of pixels in area:\", rss_for_250423_10_A5.shape) #*********\n",
    "print(\"Median RSS for area:\", median_250423_10_A5.shape)            #*********\n",
    "print(median_250423_10_A5)                                          #*********    "
   ]
  },
  {
   "cell_type": "code",
   "execution_count": 20,
   "id": "4e6afe9f",
   "metadata": {},
   "outputs": [
    {
     "name": "stdout",
     "output_type": "stream",
     "text": [
      "number of pixels in area: (1554, 109)\n",
      "Median RSS for area: (109,)\n",
      "[ 0.00158549 -0.00139651  0.00048118  0.00384736  0.00093241 -0.00137467\n",
      "  0.00453467  0.00278194  0.00707547  0.00408257  0.00823607  0.00460207\n",
      "  0.00651007  0.00697812  0.00645953  0.00779841  0.00657219  0.00689475\n",
      "  0.00832099  0.00876892  0.008027    0.01125392  0.00921429  0.0093847\n",
      "  0.00921875  0.00779024  0.00862403  0.00998241  0.01069989  0.00755451\n",
      "  0.00963485  0.01281585  0.00895811  0.00918517  0.00982943  0.00990681\n",
      "  0.00825496  0.00935157  0.00860846  0.00801473  0.00810294  0.00819715\n",
      "  0.00772789  0.00785921  0.00675367  0.00716712  0.006754    0.00634951\n",
      "  0.00713498  0.00801965  0.00565141  0.00561782  0.00546659  0.00511247\n",
      "  0.00512825  0.00499864  0.00475904  0.00470946  0.0039288   0.00396815\n",
      "  0.00317201  0.00298725  0.00319945  0.00290496  0.00309751  0.00267819\n",
      "  0.00236062  0.00210823  0.00192553  0.00130888  0.00170311  0.00157796\n",
      "  0.00144442  0.00150883  0.00124834  0.0010827   0.00083199  0.00020667\n",
      " -0.00150518 -0.00064528 -0.00038844 -0.00051999 -0.00057246 -0.00074492\n",
      " -0.00089137 -0.00103017 -0.00147448 -0.00215262 -0.00219951 -0.00237828\n",
      " -0.00251803 -0.0024201  -0.00246938 -0.00255365 -0.00271516 -0.0028446\n",
      " -0.00294383 -0.00315411 -0.00365986 -0.00684171 -0.00714616 -0.00455708\n",
      " -0.00294308 -0.00233091 -0.00180288 -0.00122972 -0.00048067  0.00071536\n",
      "  0.00252283]\n"
     ]
    }
   ],
   "source": [
    "rss_atmc_250423_10 = atm_c.rss_atm_corrected(rho_vars_sorted, cla_atm_250423_10) #RSS for alle piksler, denne inneolder all info\n",
    "start_end_row_piksel_250423_10_A6, start_end_row_col_250423_10_A6 = f.latLong_to_piksel(target_lat_6, target_lon_6, latitude_250423_10, longitude_250423_10) #Får ut pisklene tilørende punktene\n",
    "area_in_piksel_rows_250423_10_A6, area_in_piksel_cols_250423_10_A6 = atm_c.piksles_in_slected_area(start_end_row_piksel_250423_10_A6, start_end_row_col_250423_10_A6, latitude_250423_10, longitude_250423_10)\n",
    "rss_for_250423_10_A6 = atm_c.rss_given_pixels(area_in_piksel_rows_250423_10_A6, area_in_piksel_cols_250423_10_A6, rss_atmc_250423_10) #***********'\n",
    "\n",
    "median_250423_10_A6 = np.median(rss_for_250423_10_A6, axis=0) #**************\n",
    "\n",
    "normaized_spectrum_median_250423_10_A6 = f.min_max_nomralization(median_250423_10_A6) #**********\n",
    "\n",
    "l2_norm_median_250423_10_A6 = np.linalg.norm(median_250423_10_A6)  #l2 norm ****************\n",
    "l2_normalized_median_spectrum_250423_10_A6 = median_250423_10_A6 / l2_norm_median_250423_10_A6  #l2 normalisering **************'\n",
    "\n",
    "print(\"number of pixels in area:\", rss_for_250423_10_A6.shape) #*********\n",
    "print(\"Median RSS for area:\", median_250423_10_A6.shape)            #*********\n",
    "print(median_250423_10_A6)                                          #*********    "
   ]
  },
  {
   "cell_type": "markdown",
   "id": "8f7b6785",
   "metadata": {},
   "source": [
    "### Atmc corected kl 12"
   ]
  },
  {
   "cell_type": "code",
   "execution_count": 29,
   "id": "c458d69f",
   "metadata": {},
   "outputs": [
    {
     "name": "stdout",
     "output_type": "stream",
     "text": [
      "number of pixels in area: (323, 109)\n",
      "Median RSS for area: (109,)\n",
      "[-1.5741258e-03 -4.2156125e-03 -2.3006189e-03  1.3798068e-04\n",
      " -2.8005263e-04 -2.0698968e-03  2.9998734e-03  1.9636459e-03\n",
      "  5.6514652e-03  3.3498132e-03  6.5490208e-03  3.8064199e-03\n",
      "  5.4753660e-03  5.7888459e-03  5.5168006e-03  6.9935741e-03\n",
      "  5.8834292e-03  6.1685885e-03  7.4418806e-03  7.2199204e-03\n",
      "  7.6071611e-03  1.0210322e-02  8.5210223e-03  8.3430624e-03\n",
      "  8.4510427e-03  7.2200885e-03  7.8654625e-03  9.0568066e-03\n",
      "  9.5994202e-03  7.2687026e-03  9.1138827e-03  1.1909867e-02\n",
      "  8.5895415e-03  8.7192869e-03  9.3393316e-03  9.4666174e-03\n",
      "  8.0649694e-03  9.1057010e-03  8.5011376e-03  7.9381876e-03\n",
      "  7.9798214e-03  8.1819864e-03  7.7539217e-03  7.8547047e-03\n",
      "  6.8604541e-03  7.1740984e-03  6.8756090e-03  6.6744173e-03\n",
      "  7.4991463e-03  8.3703920e-03  6.1954795e-03  6.1001787e-03\n",
      "  5.9892437e-03  5.6817136e-03  5.7280036e-03  5.5906461e-03\n",
      "  5.3579896e-03  5.3235283e-03  4.5066979e-03  4.4764844e-03\n",
      "  3.5952399e-03  3.3507855e-03  3.7163093e-03  3.4717035e-03\n",
      "  3.6850472e-03  3.2380926e-03  2.8628393e-03  2.6404683e-03\n",
      "  2.3141582e-03  1.7922095e-03  2.1386787e-03  1.9791503e-03\n",
      "  1.7642870e-03  1.8326279e-03  1.4900890e-03  1.2820332e-03\n",
      "  1.0229734e-03  1.5734303e-04 -1.8237962e-03 -4.8507209e-04\n",
      " -7.7814046e-05 -1.9078347e-04 -1.9429278e-04 -3.1820210e-04\n",
      " -4.1704986e-04 -5.4387166e-04 -1.1185023e-03 -1.9735147e-03\n",
      " -1.8963311e-03 -2.1073252e-03 -2.2028745e-03 -1.9511830e-03\n",
      " -1.9856878e-03 -1.9900498e-03 -2.1029015e-03 -2.2289478e-03\n",
      " -2.3021183e-03 -2.5216865e-03 -3.1120840e-03 -8.1690671e-03\n",
      " -8.1273224e-03 -4.4009909e-03 -2.4607629e-03 -1.8227083e-03\n",
      " -1.3477942e-03 -8.5105363e-04 -2.1708557e-04  7.9751684e-04\n",
      "  2.2593422e-03]\n"
     ]
    }
   ],
   "source": [
    "rss_atmc_250423_12 = atm_c.rss_atm_corrected(rho_vars_sorted, cla_atm_250423_12) #RSS for alle piksler, denne inneolder all info\n",
    "start_end_row_piksel_250423_12_A1, start_end_row_col_250423_12_A1 = f.latLong_to_piksel(target_lat_1, target_lon_1, latitude_250423_12, longitude_250423_12) #Får ut pisklene tilørende punktene\n",
    "area_in_piksel_rows_250423_12_A1, area_in_piksel_cols_250423_12_A1 = atm_c.piksles_in_slected_area(start_end_row_piksel_250423_12_A1, start_end_row_col_250423_12_A1, latitude_250423_12, longitude_250423_12)\n",
    "rss_for_250423_12_A1 = atm_c.rss_given_pixels(area_in_piksel_rows_250423_12_A1, area_in_piksel_cols_250423_12_A1, rss_atmc_250423_12) #***********'\n",
    "\n",
    "median_250423_12_A1 = np.median(rss_for_250423_12_A1, axis=0) #**************\n",
    "\n",
    "normaized_spectrum_median_250423_12_A1 = f.min_max_nomralization(median_250423_12_A1) #**********\n",
    "\n",
    "l2_norm_median_250423_12_A1 = np.linalg.norm(median_250423_12_A1)  #l2 norm ****************\n",
    "l2_normalized_median_spectrum_250423_12_A1 = median_250423_12_A1 / l2_norm_median_250423_12_A1  #l2 normalisering **************'\n",
    "\n",
    "print(\"number of pixels in area:\", rss_for_250423_12_A1.shape) #*********\n",
    "print(\"Median RSS for area:\", median_250423_12_A1.shape)            #*********\n",
    "print(median_250423_12_A1)                                          #*********    "
   ]
  },
  {
   "cell_type": "code",
   "execution_count": 30,
   "id": "b4fcb994",
   "metadata": {},
   "outputs": [
    {
     "name": "stdout",
     "output_type": "stream",
     "text": [
      "number of pixels in area: (323, 109)\n",
      "Median RSS for area: (109,)\n",
      "[-1.5741258e-03 -4.2156125e-03 -2.3006189e-03  1.3798068e-04\n",
      " -2.8005263e-04 -2.0698968e-03  2.9998734e-03  1.9636459e-03\n",
      "  5.6514652e-03  3.3498132e-03  6.5490208e-03  3.8064199e-03\n",
      "  5.4753660e-03  5.7888459e-03  5.5168006e-03  6.9935741e-03\n",
      "  5.8834292e-03  6.1685885e-03  7.4418806e-03  7.2199204e-03\n",
      "  7.6071611e-03  1.0210322e-02  8.5210223e-03  8.3430624e-03\n",
      "  8.4510427e-03  7.2200885e-03  7.8654625e-03  9.0568066e-03\n",
      "  9.5994202e-03  7.2687026e-03  9.1138827e-03  1.1909867e-02\n",
      "  8.5895415e-03  8.7192869e-03  9.3393316e-03  9.4666174e-03\n",
      "  8.0649694e-03  9.1057010e-03  8.5011376e-03  7.9381876e-03\n",
      "  7.9798214e-03  8.1819864e-03  7.7539217e-03  7.8547047e-03\n",
      "  6.8604541e-03  7.1740984e-03  6.8756090e-03  6.6744173e-03\n",
      "  7.4991463e-03  8.3703920e-03  6.1954795e-03  6.1001787e-03\n",
      "  5.9892437e-03  5.6817136e-03  5.7280036e-03  5.5906461e-03\n",
      "  5.3579896e-03  5.3235283e-03  4.5066979e-03  4.4764844e-03\n",
      "  3.5952399e-03  3.3507855e-03  3.7163093e-03  3.4717035e-03\n",
      "  3.6850472e-03  3.2380926e-03  2.8628393e-03  2.6404683e-03\n",
      "  2.3141582e-03  1.7922095e-03  2.1386787e-03  1.9791503e-03\n",
      "  1.7642870e-03  1.8326279e-03  1.4900890e-03  1.2820332e-03\n",
      "  1.0229734e-03  1.5734303e-04 -1.8237962e-03 -4.8507209e-04\n",
      " -7.7814046e-05 -1.9078347e-04 -1.9429278e-04 -3.1820210e-04\n",
      " -4.1704986e-04 -5.4387166e-04 -1.1185023e-03 -1.9735147e-03\n",
      " -1.8963311e-03 -2.1073252e-03 -2.2028745e-03 -1.9511830e-03\n",
      " -1.9856878e-03 -1.9900498e-03 -2.1029015e-03 -2.2289478e-03\n",
      " -2.3021183e-03 -2.5216865e-03 -3.1120840e-03 -8.1690671e-03\n",
      " -8.1273224e-03 -4.4009909e-03 -2.4607629e-03 -1.8227083e-03\n",
      " -1.3477942e-03 -8.5105363e-04 -2.1708557e-04  7.9751684e-04\n",
      "  2.2593422e-03]\n"
     ]
    }
   ],
   "source": [
    "rss_atmc_250423_12 = atm_c.rss_atm_corrected(rho_vars_sorted, cla_atm_250423_12) #RSS for alle piksler, denne inneolder all info\n",
    "start_end_row_piksel_250423_12_A2, start_end_row_col_250423_12_A2 = f.latLong_to_piksel(target_lat_1, target_lon_1, latitude_250423_12, longitude_250423_12) #Får ut pisklene tilørende punktene\n",
    "area_in_piksel_rows_250423_12_A2, area_in_piksel_cols_250423_12_A2 = atm_c.piksles_in_slected_area(start_end_row_piksel_250423_12_A2, start_end_row_col_250423_12_A2, latitude_250423_12, longitude_250423_12)\n",
    "rss_for_250423_12_A2 = atm_c.rss_given_pixels(area_in_piksel_rows_250423_12_A2, area_in_piksel_cols_250423_12_A2, rss_atmc_250423_12) #***********'\n",
    "\n",
    "median_250423_12_A2 = np.median(rss_for_250423_12_A2, axis=0) #**************\n",
    "\n",
    "normaized_spectrum_median_250423_12_A2 = f.min_max_nomralization(median_250423_12_A2) #**********\n",
    "\n",
    "l2_norm_median_250423_12_A2 = np.linalg.norm(median_250423_12_A2)  #l2 norm ****************\n",
    "l2_normalized_median_spectrum_250423_12_A1 = median_250423_12_A2 / l2_norm_median_250423_12_A2  #l2 normalisering **************'\n",
    "\n",
    "print(\"number of pixels in area:\", rss_for_250423_12_A2.shape) #*********\n",
    "print(\"Median RSS for area:\", median_250423_12_A2.shape)            #*********\n",
    "print(median_250423_12_A2)                                          #*********    "
   ]
  },
  {
   "cell_type": "code",
   "execution_count": 31,
   "id": "653d62e0",
   "metadata": {},
   "outputs": [
    {
     "name": "stdout",
     "output_type": "stream",
     "text": [
      "number of pixels in area: (167, 109)\n",
      "Median RSS for area: (109,)\n",
      "[-4.3580164e-03 -5.9292368e-03 -3.1948437e-03  8.0844382e-04\n",
      "  3.9071823e-04 -1.1202969e-03  5.5205091e-03  5.1028794e-03\n",
      "  1.0240208e-02  8.0821021e-03  1.2981408e-02  9.9552199e-03\n",
      "  1.2788101e-02  1.3297977e-02  1.3240684e-02  1.5050749e-02\n",
      "  1.3939363e-02  1.4355908e-02  1.6308455e-02  1.6343858e-02\n",
      "  1.6550737e-02  1.9721618e-02  1.7654832e-02  1.7569123e-02\n",
      "  1.7773969e-02  1.6326509e-02  1.7366456e-02  1.8600630e-02\n",
      "  1.9571910e-02  1.6308960e-02  1.8346390e-02  2.1396387e-02\n",
      "  1.7811600e-02  1.8069077e-02  1.8502722e-02  1.8613290e-02\n",
      "  1.6857103e-02  1.7770164e-02  1.7050574e-02  1.6393755e-02\n",
      "  1.6098892e-02  1.6297141e-02  1.5495315e-02  1.5480650e-02\n",
      "  1.3909451e-02  1.4173651e-02  1.3523389e-02  1.2956010e-02\n",
      "  1.3655637e-02  1.4479153e-02  1.1721599e-02  1.1386443e-02\n",
      "  1.1300630e-02  1.0500045e-02  1.0413407e-02  9.9360049e-03\n",
      "  9.6636461e-03  9.3596987e-03  8.2577271e-03  8.0598379e-03\n",
      "  6.6770464e-03  6.2780161e-03  6.6737984e-03  6.0000876e-03\n",
      "  6.3625681e-03  5.6729089e-03  5.0282776e-03  4.5815059e-03\n",
      "  4.0596244e-03  3.3168318e-03  3.8573623e-03  3.5630143e-03\n",
      "  3.1575260e-03  3.1146009e-03  2.5610100e-03  2.1712128e-03\n",
      "  1.7549385e-03  4.3140553e-04 -1.9873236e-03 -3.8981350e-04\n",
      "  2.1467292e-04  1.1014470e-04  2.8118849e-04  1.8400671e-04\n",
      "  1.5214534e-04  9.8716642e-05 -8.2511967e-04 -2.0913756e-03\n",
      " -1.8367552e-03 -2.1823940e-03 -2.0277987e-03 -1.2576132e-03\n",
      " -1.1248989e-03 -9.2761306e-04 -1.1454676e-03 -1.1476013e-03\n",
      " -1.2883623e-03 -1.6293107e-03 -3.4219285e-03 -1.3961021e-02\n",
      " -1.3880973e-02 -5.6645605e-03 -2.1387825e-03 -1.2490433e-03\n",
      " -6.9177436e-04 -3.0503192e-04  2.2338908e-04  1.2663340e-03\n",
      "  2.6954033e-03]\n"
     ]
    }
   ],
   "source": [
    "rss_atmc_250423_12 = atm_c.rss_atm_corrected(rho_vars_sorted, cla_atm_250423_12) #RSS for alle piksler, denne inneolder all info\n",
    "start_end_row_piksel_250423_12_A3, start_end_row_col_250423_12_A3 = f.latLong_to_piksel(target_lat_2, target_lon_2, latitude_250423_12, longitude_250423_12) #Får ut pisklene tilørende punktene\n",
    "area_in_piksel_rows_250423_12_A3, area_in_piksel_cols_250423_12_A3 = atm_c.piksles_in_slected_area(start_end_row_piksel_250423_12_A3, start_end_row_col_250423_12_A3, latitude_250423_12, longitude_250423_12)\n",
    "rss_for_250423_12_A3 = atm_c.rss_given_pixels(area_in_piksel_rows_250423_12_A3, area_in_piksel_cols_250423_12_A3, rss_atmc_250423_12) #***********'\n",
    "\n",
    "median_250423_12_A3 = np.median(rss_for_250423_12_A3, axis=0) #**************\n",
    "\n",
    "normaized_spectrum_median_250423_12_A3 = f.min_max_nomralization(median_250423_12_A3) #**********\n",
    "\n",
    "l2_norm_median_250423_12_A3 = np.linalg.norm(median_250423_12_A3)  #l2 norm ****************\n",
    "l2_normalized_median_spectrum_250423_12_A1 = median_250423_12_A3 / l2_norm_median_250423_12_A3  #l2 normalisering **************'\n",
    "\n",
    "print(\"number of pixels in area:\", rss_for_250423_12_A3.shape) #*********\n",
    "print(\"Median RSS for area:\", median_250423_12_A3.shape)            #*********\n",
    "print(median_250423_12_A3)                                          #*********    "
   ]
  },
  {
   "cell_type": "code",
   "execution_count": 32,
   "id": "1bfdbc87",
   "metadata": {},
   "outputs": [
    {
     "name": "stdout",
     "output_type": "stream",
     "text": [
      "number of pixels in area: (417, 109)\n",
      "Median RSS for area: (109,)\n",
      "[-3.55976546e-04 -3.07069486e-03 -1.06138748e-03  2.36429810e-03\n",
      " -7.96467157e-06 -1.82365160e-03  3.78107280e-03  2.26663984e-03\n",
      "  6.25101384e-03  3.61800054e-03  7.29513634e-03  4.12807520e-03\n",
      "  5.99831296e-03  6.44147582e-03  6.06754096e-03  7.38072116e-03\n",
      "  6.18111482e-03  6.52969349e-03  7.81009812e-03  8.08595680e-03\n",
      "  7.79610081e-03  1.06169228e-02  8.79636966e-03  8.88323970e-03\n",
      "  8.83118901e-03  7.57768005e-03  8.25595297e-03  9.57051199e-03\n",
      "  1.02200685e-02  7.52577372e-03  9.39546060e-03  1.23903910e-02\n",
      "  8.86257831e-03  9.03959200e-03  9.64706112e-03  9.76936333e-03\n",
      "  8.26040469e-03  9.31036845e-03  8.67789425e-03  8.10887944e-03\n",
      "  8.17438401e-03  8.29191972e-03  7.80297583e-03  7.88597669e-03\n",
      "  6.79616956e-03  7.13906996e-03  6.74698642e-03  6.42775511e-03\n",
      "  7.25589367e-03  8.11658613e-03  5.85997896e-03  5.83389541e-03\n",
      "  5.77535899e-03  5.46131516e-03  5.47109451e-03  5.33403084e-03\n",
      "  5.10633271e-03  5.01332432e-03  4.24155174e-03  4.22136672e-03\n",
      "  3.34660709e-03  3.11515573e-03  3.45538696e-03  3.16566415e-03\n",
      "  3.37725924e-03  2.94353161e-03  2.57727713e-03  2.34455662e-03\n",
      "  2.09659222e-03  1.54153269e-03  1.92449719e-03  1.78436283e-03\n",
      "  1.59278570e-03  1.63753133e-03  1.34898163e-03  1.14602363e-03\n",
      "  8.63502908e-04  2.37675504e-05 -1.91870902e-03 -7.73306296e-04\n",
      " -3.89643043e-04 -4.64210316e-04 -4.68681101e-04 -5.34427701e-04\n",
      " -6.30590890e-04 -7.33352324e-04 -1.31914706e-03 -2.18789792e-03\n",
      " -2.12216820e-03 -2.34615756e-03 -2.38141906e-03 -2.11663218e-03\n",
      " -2.09471793e-03 -2.09169532e-03 -2.21354631e-03 -2.33927625e-03\n",
      " -2.43306649e-03 -2.65147095e-03 -3.42896860e-03 -7.94252474e-03\n",
      " -8.15645419e-03 -4.62013623e-03 -2.59976229e-03 -1.94016099e-03\n",
      " -1.44892407e-03 -9.38393117e-04 -3.08712479e-04  7.33459427e-04\n",
      "  2.32841610e-03]\n"
     ]
    }
   ],
   "source": [
    "rss_atmc_250423_12 = atm_c.rss_atm_corrected(rho_vars_sorted, cla_atm_250423_12) #RSS for alle piksler, denne inneolder all info\n",
    "start_end_row_piksel_250423_12_A4, start_end_row_col_250423_12_A4 = f.latLong_to_piksel(target_lat_3, target_lon_3, latitude_250423_12, longitude_250423_12) #Får ut pisklene tilørende punktene\n",
    "area_in_piksel_rows_250423_12_A4, area_in_piksel_cols_250423_12_A4 = atm_c.piksles_in_slected_area(start_end_row_piksel_250423_12_A4, start_end_row_col_250423_12_A4, latitude_250423_12, longitude_250423_12)\n",
    "rss_for_250423_12_A4 = atm_c.rss_given_pixels(area_in_piksel_rows_250423_12_A4, area_in_piksel_cols_250423_12_A4, rss_atmc_250423_12) #***********'\n",
    "\n",
    "median_250423_12_A4 = np.median(rss_for_250423_12_A4, axis=0) #**************\n",
    "\n",
    "normaized_spectrum_median_250423_12_A4 = f.min_max_nomralization(median_250423_12_A4) #**********\n",
    "\n",
    "l2_norm_median_250423_12_A4 = np.linalg.norm(median_250423_12_A4)  #l2 norm ****************\n",
    "l2_normalized_median_spectrum_250423_12_A1 = median_250423_12_A4 / l2_norm_median_250423_12_A4  #l2 normalisering **************'\n",
    "\n",
    "print(\"number of pixels in area:\", rss_for_250423_12_A4.shape) #*********\n",
    "print(\"Median RSS for area:\", median_250423_12_A4.shape)            #*********\n",
    "print(median_250423_12_A4)                                          #*********    "
   ]
  },
  {
   "cell_type": "code",
   "execution_count": 33,
   "id": "5ee9dbcc",
   "metadata": {},
   "outputs": [
    {
     "name": "stdout",
     "output_type": "stream",
     "text": [
      "number of pixels in area: (26, 109)\n",
      "Median RSS for area: (109,)\n",
      "[ 1.3827195e-03 -1.3835472e-03  4.7261867e-04  3.5710232e-03\n",
      "  3.9782701e-04 -1.4662117e-03  4.0009320e-03  2.2976096e-03\n",
      "  6.1492752e-03  3.4216819e-03  7.2629666e-03  3.9670193e-03\n",
      "  5.7255332e-03  6.2284013e-03  5.6297085e-03  6.9044242e-03\n",
      "  5.6995368e-03  5.9891939e-03  7.2774081e-03  7.8096744e-03\n",
      "  6.9831926e-03  9.9724624e-03  8.0292067e-03  8.3347317e-03\n",
      "  8.0889417e-03  6.7806300e-03  7.5575626e-03  8.8126315e-03\n",
      "  9.4926618e-03  6.4653689e-03  8.5125985e-03  1.1328746e-02\n",
      "  7.8520458e-03  8.0452282e-03  8.7178955e-03  8.7771229e-03\n",
      "  7.2248783e-03  8.3000418e-03  7.5640054e-03  6.9858255e-03\n",
      "  7.1202656e-03  7.2083166e-03  6.7166137e-03  6.8544727e-03\n",
      "  5.7851095e-03  6.1149132e-03  5.7538436e-03  5.4437188e-03\n",
      "  6.2680822e-03  7.0735738e-03  4.8513417e-03  4.9294559e-03\n",
      "  4.8262756e-03  4.5051584e-03  4.5518680e-03  4.4697030e-03\n",
      "  4.2028390e-03  4.1989703e-03  3.4277570e-03  3.4900329e-03\n",
      "  2.6697975e-03  2.4867295e-03  2.7538787e-03  2.5452091e-03\n",
      "  2.7619363e-03  2.3419498e-03  2.1134855e-03  1.8335205e-03\n",
      "  1.7389879e-03  1.1020021e-03  1.5013977e-03  1.4340536e-03\n",
      "  1.2593612e-03  1.3636071e-03  1.1066736e-03  9.0759725e-04\n",
      "  6.6351763e-04  6.9554582e-05 -1.7838695e-03 -8.2329125e-04\n",
      " -4.6560680e-04 -5.6949479e-04 -5.7025359e-04 -7.0234120e-04\n",
      " -8.0815138e-04 -9.2758314e-04 -1.3403012e-03 -2.1377667e-03\n",
      " -2.1100370e-03 -2.3079612e-03 -2.4467625e-03 -2.2974026e-03\n",
      " -2.2204726e-03 -2.2533885e-03 -2.4549600e-03 -2.5723400e-03\n",
      " -2.6360098e-03 -2.8416642e-03 -3.3547906e-03 -6.7820083e-03\n",
      " -7.2539756e-03 -4.4909641e-03 -2.7316106e-03 -2.1001389e-03\n",
      " -1.6609076e-03 -1.1176520e-03 -5.1111402e-04  6.1634975e-04\n",
      "  2.2720462e-03]\n"
     ]
    }
   ],
   "source": [
    "rss_atmc_250423_12 = atm_c.rss_atm_corrected(rho_vars_sorted, cla_atm_250423_12) #RSS for alle piksler, denne inneolder all info\n",
    "start_end_row_piksel_250423_12_A5, start_end_row_col_250423_12_A5 = f.latLong_to_piksel(target_lat_5, target_lon_5, latitude_250423_12, longitude_250423_12) #Får ut pisklene tilørende punktene\n",
    "area_in_piksel_rows_250423_12_A5, area_in_piksel_cols_250423_12_A5 = atm_c.piksles_in_slected_area(start_end_row_piksel_250423_12_A5, start_end_row_col_250423_12_A5, latitude_250423_12, longitude_250423_12)\n",
    "rss_for_250423_12_A5 = atm_c.rss_given_pixels(area_in_piksel_rows_250423_12_A5, area_in_piksel_cols_250423_12_A5, rss_atmc_250423_12) #***********'\n",
    "\n",
    "median_250423_12_A5 = np.median(rss_for_250423_12_A5, axis=0) #**************\n",
    "\n",
    "normaized_spectrum_median_250423_12_A5 = f.min_max_nomralization(median_250423_12_A5) #**********\n",
    "\n",
    "l2_norm_median_250423_12_A5 = np.linalg.norm(median_250423_12_A5)  #l2 norm ****************\n",
    "l2_normalized_median_spectrum_250423_12_A1 = median_250423_12_A5 / l2_norm_median_250423_12_A5  #l2 normalisering **************'\n",
    "\n",
    "print(\"number of pixels in area:\", rss_for_250423_12_A5.shape) #*********\n",
    "print(\"Median RSS for area:\", median_250423_12_A5.shape)            #*********\n",
    "print(median_250423_12_A5)                                          #*********    "
   ]
  },
  {
   "cell_type": "code",
   "execution_count": 34,
   "id": "9ef46e42",
   "metadata": {},
   "outputs": [
    {
     "name": "stdout",
     "output_type": "stream",
     "text": [
      "number of pixels in area: (293, 109)\n",
      "Median RSS for area: (109,)\n",
      "[ 0.00149221 -0.00129984  0.00070727  0.00388957  0.00032794 -0.00173544\n",
      "  0.00391187  0.00218678  0.00629306  0.00360074  0.00771423  0.00418134\n",
      "  0.00595056  0.00658369  0.0060575   0.00716564  0.0059288   0.00619061\n",
      "  0.00764271  0.0085125   0.00720981  0.01053886  0.00847613  0.00888783\n",
      "  0.0086569   0.00708077  0.00793073  0.00939759  0.01024976  0.00678415\n",
      "  0.00891073  0.01211019  0.00819052  0.00857442  0.00919014  0.00931602\n",
      "  0.00762101  0.00877637  0.00806429  0.00748952  0.00765928  0.00759636\n",
      "  0.00721416  0.00727163  0.00614636  0.00650434  0.00610463  0.00569549\n",
      "  0.00664847  0.00759447  0.00509039  0.00518645  0.00514676  0.00480776\n",
      "  0.00484695  0.00475733  0.00453816  0.0044976   0.0036662   0.00379175\n",
      "  0.00290169  0.00266501  0.00295136  0.00270353  0.0030169   0.00259342\n",
      "  0.00226369  0.00197781  0.00197466  0.00115194  0.0016929   0.0016061\n",
      "  0.00148269  0.00156716  0.00128242  0.00112941  0.00090837  0.00032216\n",
      " -0.00186885 -0.000904   -0.00043979 -0.00048744 -0.00051361 -0.00063702\n",
      " -0.00073637 -0.00085438 -0.00135228 -0.0023625  -0.00229861 -0.00251732\n",
      " -0.00261385 -0.00236909 -0.00228013 -0.00228858 -0.00245526 -0.00253927\n",
      " -0.00260881 -0.00284125 -0.00326245 -0.00702701 -0.00806305 -0.00496156\n",
      " -0.00281803 -0.00209029 -0.00161987 -0.00110247 -0.00043947  0.00059317\n",
      "  0.00218008]\n"
     ]
    }
   ],
   "source": [
    "rss_atmc_250423_12 = atm_c.rss_atm_corrected(rho_vars_sorted, cla_atm_250423_12) #RSS for alle piksler, denne inneolder all info\n",
    "start_end_row_piksel_250423_12_A6, start_end_row_col_250423_12_A6 = f.latLong_to_piksel(target_lat_6, target_lon_6, latitude_250423_12, longitude_250423_12) #Får ut pisklene tilørende punktene\n",
    "area_in_piksel_rows_250423_12_A6, area_in_piksel_cols_250423_12_A6 = atm_c.piksles_in_slected_area(start_end_row_piksel_250423_12_A6, start_end_row_col_250423_12_A6, latitude_250423_12, longitude_250423_12)\n",
    "rss_for_250423_12_A6 = atm_c.rss_given_pixels(area_in_piksel_rows_250423_12_A6, area_in_piksel_cols_250423_12_A6, rss_atmc_250423_12) #***********'\n",
    "\n",
    "median_250423_12_A6 = np.median(rss_for_250423_12_A6, axis=0) #**************\n",
    "\n",
    "normaized_spectrum_median_250423_12_A6 = f.min_max_nomralization(median_250423_12_A6) #**********\n",
    "\n",
    "l2_norm_median_250423_12_A6 = np.linalg.norm(median_250423_12_A6)  #l2 norm ****************\n",
    "l2_normalized_median_spectrum_250423_12_A1 = median_250423_12_A6 / l2_norm_median_250423_12_A6  #l2 normalisering **************'\n",
    "\n",
    "print(\"number of pixels in area:\", rss_for_250423_12_A6.shape) #*********\n",
    "print(\"Median RSS for area:\", median_250423_12_A6.shape)            #*********\n",
    "print(median_250423_12_A6)                                          #*********    "
   ]
  },
  {
   "cell_type": "markdown",
   "id": "fb1830f5",
   "metadata": {},
   "source": [
    "## ATM uncoorected"
   ]
  },
  {
   "cell_type": "markdown",
   "id": "82198cdf",
   "metadata": {},
   "source": [
    "#### H2 RRS analyse NO ATMC kl 10"
   ]
  },
  {
   "cell_type": "code",
   "execution_count": 36,
   "id": "b19f6605",
   "metadata": {},
   "outputs": [
    {
     "name": "stdout",
     "output_type": "stream",
     "text": [
      "[np.int64(351), np.int64(349), np.int64(362), np.int64(360)] [np.int64(0), np.int64(16), np.int64(0), np.int64(2)]\n",
      "Pixel number:  6\n",
      "(109, 6)\n"
     ]
    }
   ],
   "source": [
    "piksel_row_A1_250423_10, piksel_col_A1_250423_10 = f.latLong_to_piksel(target_lat_1, target_lon_1, latitude_250423_10, longitude_250423_10) #####________\n",
    "print(piksel_row_A1_250423_10, piksel_col_A1_250423_10) \n",
    "\n",
    "for i in range(4):\n",
    "    piksel_col_A1_250423_10[i] = piksel_col_A1_250423_10[i]\n",
    "    piksel_row_A1_250423_10[i] = piksel_row_A1_250423_10[i]\n",
    "\n",
    "rss_A1_250423_10 = f.water_masked_rss_matrix(piksel_row_A1_250423_10, piksel_col_A1_250423_10, l1d_cube_250423_10, satobj_h1_250423_10)\n",
    "print(rss_A1_250423_10.shape) \n",
    "\n",
    "median_A1_250423_10_NO_atmc = np.median(rss_A1_250423_10, axis = 1)\n",
    "median_A1_250423_10_NO_atmc.shape\n",
    "normaized_spectrum_median_A1_250423_10_NO_atmc = f.min_max_nomralization(median_A1_250423_10_NO_atmc)\n",
    "l2_norm_A1_250423_10_NO_atmc = np.linalg.norm(median_A1_250423_10_NO_atmc)  \n",
    "l2_normalized_spectrum_A1_250423_10_NO_atmc = median_A1_250423_10_NO_atmc / l2_norm_A1_250423_10_NO_atmc "
   ]
  },
  {
   "cell_type": "code",
   "execution_count": 37,
   "id": "9ac0f1ab",
   "metadata": {},
   "outputs": [
    {
     "name": "stdout",
     "output_type": "stream",
     "text": [
      "[np.int64(342), np.int64(346), np.int64(360), np.int64(367)] [np.int64(241), np.int64(274), np.int64(80), np.int64(105)]\n",
      "Pixel number:  332\n",
      "(109, 332)\n"
     ]
    }
   ],
   "source": [
    "piksel_row_A2_250423_10, piksel_col_A2_250423_10 = f.latLong_to_piksel(target_lat_2, target_lon_2, latitude_250423_10, longitude_250423_10) #####________\n",
    "print(piksel_row_A2_250423_10, piksel_col_A2_250423_10) \n",
    "\n",
    "for i in range(4):\n",
    "    piksel_col_A2_250423_10[i] = piksel_col_A2_250423_10[i]\n",
    "    piksel_row_A2_250423_10[i] = piksel_row_A2_250423_10[i]\n",
    "\n",
    "rss_A2_250423_10 = f.water_masked_rss_matrix(piksel_row_A2_250423_10, piksel_col_A2_250423_10, l1d_cube_250423_10, satobj_h1_250423_10)\n",
    "print(rss_A2_250423_10.shape) \n",
    "\n",
    "median_A2_250423_10_NO_atmc = np.median(rss_A2_250423_10, axis = 1)\n",
    "median_A2_250423_10_NO_atmc.shape\n",
    "normaized_spectrum_median_A2_250423_10_NO_atmc = f.min_max_nomralization(median_A2_250423_10_NO_atmc)\n",
    "l2_norm_A2_250423_10_NO_atmc = np.linalg.norm(median_A2_250423_10_NO_atmc)  \n",
    "l2_normalized_spectrum_A2_250423_10_NO_atmc = median_A2_250423_10_NO_atmc / l2_norm_A2_250423_10_NO_atmc "
   ]
  },
  {
   "cell_type": "code",
   "execution_count": 38,
   "id": "d132316e",
   "metadata": {},
   "outputs": [
    {
     "name": "stdout",
     "output_type": "stream",
     "text": [
      "[np.int64(323), np.int64(327), np.int64(344), np.int64(344)] [np.int64(404), np.int64(440), np.int64(372), np.int64(413)]\n",
      "Pixel number:  180\n",
      "(109, 180)\n"
     ]
    }
   ],
   "source": [
    "piksel_row_A3_250423_10, piksel_col_A3_250423_10 = f.latLong_to_piksel(target_lat_3, target_lon_3, latitude_250423_10, longitude_250423_10) #####________\n",
    "print(piksel_row_A3_250423_10, piksel_col_A3_250423_10) \n",
    "\n",
    "for i in range(4):\n",
    "    piksel_col_A3_250423_10[i] = piksel_col_A3_250423_10[i]\n",
    "    piksel_row_A3_250423_10[i] = piksel_row_A3_250423_10[i]\n",
    "\n",
    "rss_A3_250423_10 = f.water_masked_rss_matrix(piksel_row_A3_250423_10, piksel_col_A3_250423_10, l1d_cube_250423_10, satobj_h1_250423_10)\n",
    "print(rss_A3_250423_10.shape) \n",
    "\n",
    "median_A3_250423_10_NO_atmc = np.median(rss_A3_250423_10, axis = 1)\n",
    "median_A3_250423_10_NO_atmc.shape\n",
    "normaized_spectrum_median_A3_250423_10_NO_atmc = f.min_max_nomralization(median_A3_250423_10_NO_atmc)\n",
    "l2_norm_A3_250423_10_NO_atmc = np.linalg.norm(median_A3_250423_10_NO_atmc)  \n",
    "l2_normalized_spectrum_A3_250423_10_NO_atmc = median_A3_250423_10_NO_atmc / l2_norm_A3_250423_10_NO_atmc "
   ]
  },
  {
   "cell_type": "code",
   "execution_count": 39,
   "id": "c6984294",
   "metadata": {},
   "outputs": [
    {
     "name": "stdout",
     "output_type": "stream",
     "text": [
      "[np.int64(306), np.int64(311), np.int64(319), np.int64(323)] [np.int64(488), np.int64(602), np.int64(426), np.int64(579)]\n",
      "Pixel number:  828\n",
      "(109, 828)\n"
     ]
    }
   ],
   "source": [
    "piksel_row_A5_250423_10, piksel_col_A5_250423_10 = f.latLong_to_piksel(target_lat_5, target_lon_5, latitude_250423_10, longitude_250423_10) #####________\n",
    "print(piksel_row_A5_250423_10, piksel_col_A5_250423_10) \n",
    "\n",
    "for i in range(4):\n",
    "    piksel_col_A5_250423_10[i] = piksel_col_A5_250423_10[i]\n",
    "    piksel_row_A5_250423_10[i] = piksel_row_A5_250423_10[i]\n",
    "\n",
    "rss_A5_250423_10 = f.water_masked_rss_matrix(piksel_row_A5_250423_10, piksel_col_A5_250423_10, l1d_cube_250423_10, satobj_h1_250423_10)\n",
    "print(rss_A5_250423_10.shape) \n",
    "\n",
    "median_A5_250423_10_NO_atmc = np.median(rss_A5_250423_10, axis = 1)\n",
    "median_A5_250423_10_NO_atmc.shape\n",
    "normaized_spectrum_median_A5_250423_10_NO_atmc = f.min_max_nomralization(median_A5_250423_10_NO_atmc)\n",
    "l2_norm_A5_250423_10_NO_atmc = np.linalg.norm(median_A5_250423_10_NO_atmc)  \n",
    "l2_normalized_spectrum_A5_250423_10_NO_atmc = median_A5_250423_10_NO_atmc / l2_norm_A5_250423_10_NO_atmc "
   ]
  },
  {
   "cell_type": "code",
   "execution_count": 40,
   "id": "0865b62c",
   "metadata": {},
   "outputs": [
    {
     "name": "stdout",
     "output_type": "stream",
     "text": [
      "[np.int64(268), np.int64(268), np.int64(281), np.int64(285)] [np.int64(475), np.int64(620), np.int64(490), np.int64(600)]\n",
      "Pixel number:  1554\n",
      "(109, 1554)\n"
     ]
    }
   ],
   "source": [
    "piksel_row_A6_250423_10, piksel_col_A6_250423_10 = f.latLong_to_piksel(target_lat_6, target_lon_6, latitude_250423_10, longitude_250423_10) #####________\n",
    "print(piksel_row_A6_250423_10, piksel_col_A6_250423_10) \n",
    "\n",
    "for i in range(4):\n",
    "    piksel_col_A6_250423_10[i] = piksel_col_A6_250423_10[i]\n",
    "    piksel_row_A6_250423_10[i] = piksel_row_A6_250423_10[i]\n",
    "\n",
    "rss_A6_250423_10 = f.water_masked_rss_matrix(piksel_row_A6_250423_10, piksel_col_A6_250423_10, l1d_cube_250423_10, satobj_h1_250423_10)\n",
    "print(rss_A6_250423_10.shape) \n",
    "\n",
    "median_A6_250423_10_NO_atmc = np.median(rss_A6_250423_10, axis = 1)\n",
    "median_A6_250423_10_NO_atmc.shape\n",
    "normaized_spectrum_median_A6_250423_10_NO_atmc = f.min_max_nomralization(median_A6_250423_10_NO_atmc)\n",
    "l2_norm_A6_250423_10_NO_atmc = np.linalg.norm(median_A6_250423_10_NO_atmc)  \n",
    "l2_normalized_spectrum_A6_250423_10_NO_atmc = median_A6_250423_10_NO_atmc / l2_norm_A6_250423_10_NO_atmc "
   ]
  },
  {
   "cell_type": "markdown",
   "id": "8553f62d",
   "metadata": {},
   "source": [
    "### H2 RRS analyse NO atmc kl 12"
   ]
  },
  {
   "cell_type": "code",
   "execution_count": 42,
   "id": "76dec27e",
   "metadata": {},
   "outputs": [
    {
     "name": "stdout",
     "output_type": "stream",
     "text": [
      "[np.int64(295), np.int64(307), np.int64(304), np.int64(317)] [np.int64(147), np.int64(256), np.int64(128), np.int64(233)]\n",
      "Pixel number:  123\n",
      "(109, 123)\n"
     ]
    }
   ],
   "source": [
    "piksel_row_A1_250423_12, piksel_col_A1_250423_12 = f.latLong_to_piksel(target_lat_1, target_lon_1, latitude_250423_12, longitude_250423_12) #####________\n",
    "print(piksel_row_A1_250423_12, piksel_col_A1_250423_12) \n",
    "\n",
    "for i in range(4):\n",
    "    piksel_col_A1_250423_12[i] = piksel_col_A1_250423_12[i]\n",
    "    piksel_row_A1_250423_12[i] = piksel_row_A1_250423_12[i]\n",
    "\n",
    "rss_A1_250423_12 = f.water_masked_rss_matrix(piksel_row_A1_250423_12, piksel_col_A1_250423_12, l1d_cube_250423_12, satobj_h1_250423_12)\n",
    "print(rss_A1_250423_12.shape) \n",
    "\n",
    "median_A1_250423_12_NO_atmc = np.median(rss_A1_250423_12, axis = 1)\n",
    "median_A1_250423_12_NO_atmc.shape\n",
    "normaized_spectrum_median_A1_250423_12_NO_atmc = f.min_max_nomralization(median_A1_250423_12_NO_atmc)\n",
    "l2_norm_A1_250423_12_NO_atmc = np.linalg.norm(median_A1_250423_12_NO_atmc)  \n",
    "l2_normalized_spectrum_A1_250423_12_NO_atmc = median_A1_250423_12_NO_atmc / l2_norm_A1_250423_12_NO_atmc "
   ]
  },
  {
   "cell_type": "code",
   "execution_count": 43,
   "id": "7f799dde",
   "metadata": {},
   "outputs": [
    {
     "name": "stdout",
     "output_type": "stream",
     "text": [
      "[np.int64(310), np.int64(315), np.int64(320), np.int64(328)] [np.int64(374), np.int64(383), np.int64(268), np.int64(268)]\n",
      "Pixel number:  535\n",
      "(109, 535)\n"
     ]
    }
   ],
   "source": [
    "piksel_row_A2_250423_12, piksel_col_A2_250423_12 = f.latLong_to_piksel(target_lat_2, target_lon_2, latitude_250423_12, longitude_250423_12) #####________\n",
    "print(piksel_row_A2_250423_12, piksel_col_A2_250423_12) \n",
    "\n",
    "for i in range(4):\n",
    "    piksel_col_A2_250423_12[i] = piksel_col_A2_250423_12[i]\n",
    "    piksel_row_A2_250423_12[i] = piksel_row_A2_250423_12[i]\n",
    "\n",
    "rss_A2_250423_12 = f.water_masked_rss_matrix(piksel_row_A2_250423_12, piksel_col_A2_250423_12, l1d_cube_250423_12, satobj_h1_250423_12)\n",
    "print(rss_A2_250423_12.shape) \n",
    "\n",
    "median_A2_250423_12_NO_atmc = np.median(rss_A2_250423_12, axis = 1)\n",
    "median_A2_250423_12_NO_atmc.shape\n",
    "normaized_spectrum_median_A2_250423_12_NO_atmc = f.min_max_nomralization(median_A2_250423_12_NO_atmc)\n",
    "l2_norm_A2_250423_12_NO_atmc = np.linalg.norm(median_A2_250423_12_NO_atmc)  \n",
    "l2_normalized_spectrum_A2_250423_12_NO_atmc = median_A2_250423_12_NO_atmc / l2_norm_A2_250423_12_NO_atmc"
   ]
  },
  {
   "cell_type": "code",
   "execution_count": 44,
   "id": "25fa0ab8",
   "metadata": {},
   "outputs": [
    {
     "name": "stdout",
     "output_type": "stream",
     "text": [
      "[np.int64(299), np.int64(304), np.int64(317), np.int64(319)] [np.int64(489), np.int64(502), np.int64(437), np.int64(458)]\n",
      "Pixel number:  448\n",
      "(109, 448)\n"
     ]
    }
   ],
   "source": [
    "piksel_row_A3_250423_12, piksel_col_A3_250423_12 = f.latLong_to_piksel(target_lat_3, target_lon_3, latitude_250423_12, longitude_250423_12) #####________\n",
    "print(piksel_row_A3_250423_12, piksel_col_A3_250423_12) \n",
    "\n",
    "for i in range(4):\n",
    "    piksel_col_A3_250423_12[i] = piksel_col_A3_250423_12[i]\n",
    "    piksel_row_A3_250423_12[i] = piksel_row_A3_250423_12[i]\n",
    "\n",
    "rss_A3_250423_12 = f.water_masked_rss_matrix(piksel_row_A3_250423_12, piksel_col_A3_250423_12, l1d_cube_250423_12, satobj_h1_250423_12)\n",
    "print(rss_A3_250423_12.shape) \n",
    "\n",
    "median_A3_250423_12_NO_atmc = np.median(rss_A3_250423_12, axis = 1)\n",
    "median_A3_250423_12_NO_atmc.shape\n",
    "normaized_spectrum_median_A3_250423_12_NO_atmc = f.min_max_nomralization(median_A3_250423_12_NO_atmc)\n",
    "l2_norm_A3_250423_12_NO_atmc = np.linalg.norm(median_A3_250423_12_NO_atmc)  \n",
    "l2_normalized_spectrum_A3_250423_12_NO_atmc = median_A3_250423_12_NO_atmc / l2_norm_A3_250423_12_NO_atmc"
   ]
  },
  {
   "cell_type": "code",
   "execution_count": 45,
   "id": "e04fbf2e",
   "metadata": {},
   "outputs": [
    {
     "name": "stdout",
     "output_type": "stream",
     "text": [
      "[np.int64(287), np.int64(296), np.int64(296), np.int64(306)] [np.int64(562), np.int64(620), np.int64(508), np.int64(587)]\n",
      "Pixel number:  26\n",
      "(109, 26)\n"
     ]
    }
   ],
   "source": [
    "piksel_row_A5_250423_12, piksel_col_A5_250423_12 = f.latLong_to_piksel(target_lat_5, target_lon_5, latitude_250423_12, longitude_250423_12) #####________\n",
    "print(piksel_row_A5_250423_12, piksel_col_A5_250423_12) \n",
    "\n",
    "for i in range(4):\n",
    "    piksel_col_A5_250423_12[i] = piksel_col_A5_250423_12[i]\n",
    "    piksel_row_A5_250423_12[i] = piksel_row_A5_250423_12[i]\n",
    "\n",
    "rss_A5_250423_12 = f.water_masked_rss_matrix(piksel_row_A5_250423_12, piksel_col_A5_250423_12, l1d_cube_250423_12, satobj_h1_250423_12)\n",
    "print(rss_A5_250423_12.shape) \n",
    "\n",
    "median_A5_250423_12_NO_atmc = np.median(rss_A5_250423_12, axis = 1)\n",
    "median_A5_250423_12_NO_atmc.shape\n",
    "normaized_spectrum_median_A5_250423_12_NO_atmc = f.min_max_nomralization(median_A5_250423_12_NO_atmc)\n",
    "l2_norm_A5_250423_12_NO_atmc = np.linalg.norm(median_A5_250423_12_NO_atmc)  \n",
    "l2_normalized_spectrum_A5_250423_12_NO_atmc = median_A5_250423_12_NO_atmc / l2_norm_A5_250423_12_NO_atmc"
   ]
  },
  {
   "cell_type": "code",
   "execution_count": 46,
   "id": "bb2e4235",
   "metadata": {},
   "outputs": [
    {
     "name": "stdout",
     "output_type": "stream",
     "text": [
      "[np.int64(250), np.int64(257), np.int64(264), np.int64(272)] [np.int64(629), np.int64(711), np.int64(610), np.int64(665)]\n",
      "Pixel number:  296\n",
      "(109, 296)\n"
     ]
    }
   ],
   "source": [
    "piksel_row_A6_250423_12, piksel_col_A6_250423_12 = f.latLong_to_piksel(target_lat_6, target_lon_6, latitude_250423_12, longitude_250423_12) #####________\n",
    "print(piksel_row_A6_250423_12, piksel_col_A6_250423_12) \n",
    "\n",
    "for i in range(4):\n",
    "    piksel_col_A6_250423_12[i] = piksel_col_A6_250423_12[i]\n",
    "    piksel_row_A6_250423_12[i] = piksel_row_A6_250423_12[i]\n",
    "\n",
    "rss_A6_250423_12 = f.water_masked_rss_matrix(piksel_row_A6_250423_12, piksel_col_A6_250423_12, l1d_cube_250423_12, satobj_h1_250423_12)\n",
    "print(rss_A6_250423_12.shape) \n",
    "\n",
    "median_A6_250423_12_NO_atmc = np.median(rss_A6_250423_12, axis = 1)\n",
    "median_A6_250423_12_NO_atmc.shape\n",
    "normaized_spectrum_median_A6_250423_12_NO_atmc = f.min_max_nomralization(median_A6_250423_12_NO_atmc)\n",
    "l2_norm_A6_250423_12_NO_atmc = np.linalg.norm(median_A6_250423_12_NO_atmc)  \n",
    "l2_normalized_spectrum_A6_250423_12_NO_atmc = median_A6_250423_12_NO_atmc / l2_norm_A6_250423_12_NO_atmc"
   ]
  },
  {
   "cell_type": "markdown",
   "id": "d0f12aaf",
   "metadata": {},
   "source": [
    "### Plots"
   ]
  },
  {
   "cell_type": "code",
   "execution_count": 63,
   "id": "dff87508",
   "metadata": {},
   "outputs": [
    {
     "data": {
      "image/png": "[encoded data removed]",
      "text/plain": [
       "<Figure size 640x480 with 1 Axes>"
      ]
     },
     "metadata": {},
     "output_type": "display_data"
    }
   ],
   "source": [
    "### atmc kl 10\n",
    "#plt.plot(wl, median_250423_10_A1, color='black', label='median kl 10 A1 atmc')\n",
    "#plt.plot(wl, median_250423_10_A2, color='pink', label='median kl 10 A2 atmc')\n",
    "#plt.plot(wl, median_250423_10_A3, color='blue', label='median kl 10 A3 atmc')\n",
    "#plt.plot(wl, median_250423_10_A5, color='green', label='median kl 10 A5 atmc')\n",
    "#plt.plot(wl, median_250423_10_A6, color='red', label='median kl 10 A6 atmc')\n",
    "\n",
    "###atmc kl 12 \n",
    "#plt.plot(wl, median_250423_12_A1, linestyle=':', color='black', label='median kl 12 A1 atmc')\n",
    "#plt.plot(wl, median_250423_12_A2, linestyle=':', color='pink', label='median kl 12 A2 atmc')\n",
    "#plt.plot(wl, median_250423_12_A3, linestyle=':', color='blue', label='median kl 12 A3 atmc')\n",
    "#plt.plot(wl, median_250423_12_A5, linestyle=':', color='green', label='median kl 12 A5 atmc')\n",
    "#plt.plot(wl, median_250423_12_A6, linestyle=':', color='red', label='median kl 12 A6 atmc')\n",
    "\n",
    "## NO corr kl 10\n",
    "#plt.plot(wl, median_A1_250423_10_NO_atmc, linestyle='-', color='black', label='median kl 10 A1 NO atmc')\n",
    "#plt.plot(wl, median_A2_250423_10_NO_atmc, linestyle='-', color='pink', label='median kl 10 A2 NO atmc')\n",
    "#plt.plot(wl, median_A3_250423_10_NO_atmc, linestyle='-', color='blue', label='median kl 10 A3 NO atmc')\n",
    "#plt.plot(wl, median_A5_250423_10_NO_atmc, linestyle='-', color='green', label='median kl 10 A5 NO atmc')\n",
    "plt.plot(wl, median_A6_250423_10_NO_atmc, linestyle='-', color='red', label='median kl 10 A6 NO atmc')\n",
    "#\n",
    "#\n",
    "### NO corr kl 12\n",
    "#plt.plot(wl, median_A1_250423_12_NO_atmc, linestyle=':', color='black', label='median kl 12 A1 NO atmc')\n",
    "#plt.plot(wl, median_A2_250423_12_NO_atmc, linestyle=':', color='pink', label='median kl 12 A2 NO atmc')\n",
    "#plt.plot(wl, median_A3_250423_12_NO_atmc, linestyle=':', color='blue', label='median kl 12 A3 NO atmc')\n",
    "#plt.plot(wl, median_A5_250423_12_NO_atmc, linestyle=':', color='green', label='median kl 12 A5 NO atmc')\n",
    "plt.plot(wl, median_A6_250423_12_NO_atmc, linestyle=':', color='red', label='median kl 12 A6 NO atmc')\n",
    "\n",
    "\n",
    "plt.xlabel(\"Wawelength (nm)\")\n",
    "plt.ylabel(\"Water leaving radience \") #Er begge water leaving radience???\n",
    "plt.title(\"H1 vs H2 comparison, all areas\")\n",
    "plt.grid(True, alpha=0.3)\n",
    "plt.legend()\n",
    "plt.show()"
   ]
  },
  {
   "cell_type": "markdown",
   "id": "6e006187",
   "metadata": {},
   "source": [
    "### Derivates"
   ]
  },
  {
   "cell_type": "markdown",
   "id": "3a5975e8",
   "metadata": {},
   "source": [
    "### Cluster"
   ]
  }
 ],
 "metadata": {
  "kernelspec": {
   "display_name": "hypso-env",
   "language": "python",
   "name": "python3"
  },
  "language_info": {
   "codemirror_mode": {
    "name": "ipython",
    "version": 3
   },
   "file_extension": ".py",
   "mimetype": "text/x-python",
   "name": "python",
   "nbconvert_exporter": "python",
   "pygments_lexer": "ipython3",
   "version": "3.11.12"
  }
 },
 "nbformat": 4,
 "nbformat_minor": 5
}
