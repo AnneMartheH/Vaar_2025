{
 "cells": [
  {
   "cell_type": "code",
   "execution_count": 3,
   "id": "60809ef1",
   "metadata": {},
   "outputs": [],
   "source": [
    "#import for HYPSO\n",
    "from hypso import Hypso1, Hypso2\n",
    "import os \n",
    "import matplotlib.pyplot as plt\n",
    "from global_land_mask import globe \n",
    "import numpy as np \n",
    "\n",
    "import funcions_autonom as f"
   ]
  },
  {
   "cell_type": "code",
   "execution_count": 14,
   "id": "6babfad1",
   "metadata": {},
   "outputs": [
    {
     "name": "stdout",
     "output_type": "stream",
     "text": [
      "[INFO] Loading L1a capture frohavet_2024-04-19T10-14-21Z\n",
      "[INFO] Capture spatial dimensions: (598, 1092)\n",
      "[INFO] Capture capture type: wide\n",
      "[INFO] Loading L1b capture frohavet_2024-04-19T10-14-21Z\n",
      "[INFO] Capture spatial dimensions: (598, 1092)\n",
      "[INFO] Capture capture type: wide\n",
      "[INFO] Loading L1c capture frohavet_2024-04-19T10-14-21Z\n",
      "[INFO] Capture spatial dimensions: (598, 1092)\n",
      "[INFO] Capture capture type: wide\n",
      "[INFO] Loading L1d capture frohavet_2024-04-19T10-14-21Z\n",
      "[INFO] Capture spatial dimensions: (598, 1092)\n",
      "[INFO] Capture capture type: wide\n",
      "[INFO] Running direct georeferencing...\n",
      "[INFO] ADCS samples: 431\n",
      "[INFO] ADCS time range: 1713520980.000000 to 1713521940.000000\n",
      "[INFO] Frame time range: 1713521661.048052 to 1713521710.798052\n",
      "[INFO] 199 sample(s) inside frame time range\n",
      "[INFO] Interpolating 598 frames\n",
      "[INFO] Computing pixel latitude and longitude coordinates ...\n",
      "[INFO] Interpolating pixel coordinate gaps...\n",
      "[INFO] Direct georeferencing done\n",
      "[INFO] Running track geometry computations...\n",
      "[INFO] Using UTM map: WGS 84 / UTM zone 32N EPSG: 32632\n",
      "[INFO] Track geometry computations done.\n",
      "[INFO] Running angles geometry computations...\n",
      "[INFO] Computing local angles (sun and satellite azimuth and zenith angles) ...\n",
      "[INFO] Using astropy on a subsampling of pixels ... (TODO skyfield may be faster)\n",
      "[INFO] Interpolating the rest of the pixels ...\n",
      "[INFO] Computing local angles done\n",
      "[INFO] Angles geometry computations done.\n"
     ]
    }
   ],
   "source": [
    "dir_path = \".\"\n",
    " \n",
    "frohavet_path_24_0419 = os.path.join(dir_path, \"frohavet_2024-04-19T10-14-21Z-l1a.nc\") \n",
    "frohavet_path_24_0419_b = os.path.join(dir_path, \"frohavet_2024-04-19T10-14-21Z-l1b.nc\")\n",
    "frohavet_path_24_0419_c = os.path.join(dir_path, \"frohavet_2024-04-19T10-14-21Z-l1c.nc\")\n",
    "frohavet_path_24_0419_d = os.path.join(dir_path, \"frohavet_2024-04-19T10-14-21Z-l1d.nc\")\n",
    "\n",
    "satobj_h1_24_0419 = Hypso1( path = frohavet_path_24_0419, verbose = True )\n",
    "\n",
    "l1a_cube_24_0419 = satobj_h1_24_0419.l1a_cube\n",
    "l1b_cube_24_0419 = Hypso1( path = frohavet_path_24_0419_b, verbose = True )\n",
    "l1c_cube_24_0419 = Hypso1( path = frohavet_path_24_0419_c, verbose = True )\n",
    "l1d_cube_24_0419 = Hypso1( path = frohavet_path_24_0419_d, verbose = True )\n",
    "\n",
    "l1c_cube_24_0419 = l1c_cube_24_0419.l1c_cube\n",
    "l1b_cube_24_0419 = l1b_cube_24_0419.l1b_cube\n",
    "l1d_cube_24_0419 = l1d_cube_24_0419.l1d_cube\n",
    "\n",
    "satobj_h1_24_0419.run_direct_georeferencing() # in order to get the longiyudes and latitudes"
   ]
  },
  {
   "cell_type": "code",
   "execution_count": 5,
   "id": "fd61c088",
   "metadata": {},
   "outputs": [
    {
     "name": "stdout",
     "output_type": "stream",
     "text": [
      "[INFO] Loading L1a capture frohavet_2024-04-26T10-49-41Z\n",
      "[INFO] Capture spatial dimensions: (598, 1092)\n",
      "[INFO] Capture capture type: wide\n",
      "[INFO] Loading L1b capture frohavet_2024-04-26T10-49-41Z\n",
      "[INFO] Capture spatial dimensions: (598, 1092)\n",
      "[INFO] Capture capture type: wide\n",
      "[INFO] Loading L1c capture frohavet_2024-04-26T10-49-41Z\n",
      "[INFO] Capture spatial dimensions: (598, 1092)\n",
      "[INFO] Capture capture type: wide\n",
      "[INFO] Loading L1d capture frohavet_2024-04-26T10-49-41Z\n",
      "[INFO] Capture spatial dimensions: (598, 1092)\n",
      "[INFO] Capture capture type: wide\n",
      "[INFO] Running direct georeferencing...\n",
      "[INFO] ADCS samples: 429\n",
      "[INFO] ADCS time range: 1714127940.000000 to 1714128840.000000\n",
      "[INFO] Frame time range: 1714128581.185500 to 1714128630.935500\n",
      "[INFO] 199 sample(s) inside frame time range\n",
      "[INFO] Interpolating 598 frames\n",
      "[INFO] Computing pixel latitude and longitude coordinates ...\n",
      "[INFO] Interpolating pixel coordinate gaps...\n",
      "[INFO] Direct georeferencing done\n",
      "[INFO] Running track geometry computations...\n",
      "[INFO] Using UTM map: WGS 84 / UTM zone 32N EPSG: 32632\n",
      "[INFO] Track geometry computations done.\n",
      "[INFO] Running angles geometry computations...\n",
      "[INFO] Computing local angles (sun and satellite azimuth and zenith angles) ...\n",
      "[INFO] Using astropy on a subsampling of pixels ... (TODO skyfield may be faster)\n",
      "[INFO] Interpolating the rest of the pixels ...\n",
      "[INFO] Computing local angles done\n",
      "[INFO] Angles geometry computations done.\n"
     ]
    }
   ],
   "source": [
    "frohavet_path_24_0426 = os.path.join(dir_path, \"frohavet_2024-04-26T10-49-41Z-l1a.nc\")\n",
    "frohavet_path_24_0426_b = os.path.join(dir_path, \"frohavet_2024-04-26T10-49-41Z-l1b.nc\")\n",
    "frohavet_path_24_0426_c = os.path.join(dir_path, \"frohavet_2024-04-26T10-49-41Z-l1c.nc\")\n",
    "frohavet_path_24_0426_d = os.path.join(dir_path, \"frohavet_2024-04-26T10-49-41Z-l1d.nc\")\n",
    "\n",
    "satobj_h1_24_0426 = Hypso1( path = frohavet_path_24_0426, verbose = True )\n",
    "\n",
    "l1a_cube_24_0426 = satobj_h1_24_0426.l1a_cube\n",
    "l1b_cube_24_0426 = Hypso1( path = frohavet_path_24_0426_b, verbose = True )\n",
    "l1c_cube_24_0426 = Hypso1( path = frohavet_path_24_0426_c, verbose = True )\n",
    "l1d_cube_24_0426 = Hypso1( path = frohavet_path_24_0426_d, verbose = True )\n",
    "\n",
    "l1c_cube_24_0426 = l1c_cube_24_0426.l1c_cube\n",
    "l1b_cube_24_0426 = l1b_cube_24_0426.l1b_cube\n",
    "l1d_cube_24_0426 = l1d_cube_24_0426.l1d_cube\n",
    "\n",
    "satobj_h1_24_0426.run_direct_georeferencing() "
   ]
  },
  {
   "cell_type": "code",
   "execution_count": 6,
   "id": "72382156",
   "metadata": {},
   "outputs": [],
   "source": [
    "#wawelengths\n",
    "x_1 = [387.84749685, 391.40406599, 394.95941579, 398.51354623, 402.06645732, 405.61814905, 409.16862143, 412.71787446, 416.26590814, 419.81272246, 423.35831743, 426.90269305, 430.44584931, 433.98778622, 437.52850378, 441.06800198, 444.60628083, 448.14334033, 451.67918047, 455.21380126, 458.7472027, 462.27938479, 465.81034752, 469.3400909 , 472.86861492,476.3959196 , 479.92200491, 483.44687088, 486.97051749, 490.49294475,494.01415266, 497.53414122, 501.05291042, 504.57046026, 508.08679076,511.6019019 , 515.11579369, 518.62846612, 522.13991921, 525.65015294,529.15916731, 532.66696233, 536.173538  , 539.67889432, 543.18303128,546.68594889, 550.18764715, 553.68812606, 557.18738561, 560.68542581,564.18224665, 567.67784814, 571.17223028, 574.66539307, 578.1573365, 581.64806058, 585.1375653 , 588.62585068, 592.1129167 , 595.59876336,599.08339068, 602.56679864, 606.04898725, 609.5299565 , 613.0097064 ,616.48823695, 619.96554815, 623.44163999, 626.91651248, 630.39016561,633.86259939, 637.33381382, 640.8038089 , 644.27258462, 647.74014099,651.20647801, 654.67159568, 658.13549399, 661.59817294, 665.05963255,668.5198728 , 671.9788937 , 675.43669524, 678.89327744, 682.34864028,685.80278376, 689.25570789, 692.70741267, 696.1578981 , 699.60716418,703.0552109 , 706.50203826, 709.94764628, 713.39203494, 716.83520425,720.2771542 , 723.7178848 , 727.15739605, 730.59568795, 734.03276049,737.46861368, 740.90324752, 744.336662  , 747.76885713, 751.19983291,754.62958933, 758.0581264 , 761.48544412, 764.91154248, 768.33642149,771.76008115, 775.18252146, 778.60374241, 782.02374401, 785.44252625,788.86008915, 792.27643269, 795.69155687, 799.10546171, 802.51814719]\n",
    "x=x_1[5:115]\n",
    "\n",
    "# Target latitude and longitude\n",
    "#target_lat = [64.08533976025561,64.08799001499494, 64.00671553632209, 64.00539040895242] #område 1.\n",
    "#target_lon = [9.744011353487297, 9.632700654435348, 9.740919389624743,9.634025781805015]  \n",
    "\n",
    "#target_lat = [63.818490304354434,63.793837321385155, 63.65192496143867, 63.660555970548074] #område 2.1.\n",
    "#target_lon = [9.531415429238418, 9.442656298818237,9.526455044589706,9.439764451470932]\n",
    "\n",
    "#target_lat = [64.2750935781297,64.29365394014144, 64.17902661492639, 64.18553880683058] #område 4, korrigert\n",
    "#target_lon = [9.127764312954888, 8.585899068865604,9.130324490159921,8.564058182856481]  \n",
    "\n",
    "#target_lat = [63.646767083517425,63.61771951990031, 63.47865598622861, 63.42721372576498] #område 5.1\n",
    "#target_lon = [9.804697410334523, 9.723689711502818,10.061035990832918,9.982929114384596]  \n",
    "\n",
    "target_lat = [64.17324887890479,64.11631446557637, 63.896904083590066, 63.887923483169004] #område 6.1\n",
    "target_lon = [9.582148298814932,8.924448409066027, 9.578289180688513, 8.96230357578283]\n",
    "\n",
    "#target_lat = [64.48557437461893,64.52896641587218, 64.20992561747796, 64.22009411667561] #område 7\n",
    "#target_lon = [9.886201113342556, 8.708294855080245,9.704720121565003,8.73032214102829]  "
   ]
  },
  {
   "cell_type": "code",
   "execution_count": 17,
   "id": "a24c8518",
   "metadata": {},
   "outputs": [
    {
     "name": "stdout",
     "output_type": "stream",
     "text": [
      "Pixel number:  7584\n"
     ]
    }
   ],
   "source": [
    "latitudes_24_0419 = satobj_h1_24_0419.latitudes\n",
    "longitudes_24_0419 = satobj_h1_24_0419.longitudes\n",
    "\n",
    "piksel_row_24_0419, piksel_col_24_0419 = f.latLong_to_piksel(target_lat, target_lon, latitudes_24_0419, longitudes_24_0419) #from file funcions_autonom.py\n",
    "#rss_matrix_0328 = f.rss_matrix(120, piksel_row_0328,piksel_col_0328, l1d_cube_0328)\n",
    "rss_matrix_24_0419 = f.water_masked_rss_matrix(piksel_row_24_0419,piksel_col_24_0419, l1d_cube_24_0419, satobj_h1_24_0419)\n",
    "        \n",
    "mean_spectrum_24_0419 = np.mean(rss_matrix_24_0419, axis=1) ## mean over rad  # gjenomsnitt\n",
    "median_spectrum_24_0419 = np.median(rss_matrix_24_0419, axis=1) ## mean over rad  # gjenomsnitt\n",
    "l2_norm_24_0419 = np.linalg.norm(mean_spectrum_24_0419)  #l2 norm\n",
    "l2_normalized_spectrum_24_0419 = mean_spectrum_24_0419 / l2_norm_24_0419  #l2 normalisering\n",
    "normaized_spectrum_24_0419 = f.min_max_nomralization(mean_spectrum_24_0419) #min max normalisering\n",
    "\n",
    "std_spectrum_24_0419 = np.std(rss_matrix_24_0419, axis=1)  #standard avik"
   ]
  },
  {
   "cell_type": "code",
   "execution_count": 12,
   "id": "ca19b86b",
   "metadata": {},
   "outputs": [
    {
     "data": {
      "text/plain": [
       "<bound method _values_method_wrapper.<locals>.func of <xarray.DataArray (y: 598, x: 1092, band: 120)> Size: 627MB\n",
       "array([[[0.        , 0.        , 0.        , ..., 0.69134939,\n",
       "         1.73746169, 2.3807497 ],\n",
       "        [0.        , 0.        , 0.        , ..., 0.68028891,\n",
       "         1.66800714, 2.3982079 ],\n",
       "        [0.        , 0.        , 0.        , ..., 0.65586144,\n",
       "         1.67352724, 2.34266353],\n",
       "        ...,\n",
       "        [0.        , 0.        , 0.        , ..., 0.03248985,\n",
       "         0.09332573, 0.15654807],\n",
       "        [0.        , 0.        , 0.        , ..., 0.03284321,\n",
       "         0.09228778, 0.13534671],\n",
       "        [0.        , 0.        , 0.        , ..., 0.03203925,\n",
       "         0.0929402 , 0.15615089]],\n",
       "\n",
       "       [[0.        , 0.        , 0.        , ..., 0.62316859,\n",
       "         1.5693289 , 2.13998485],\n",
       "        [0.        , 0.        , 0.        , ..., 0.60186148,\n",
       "         1.48390496, 2.11933947],\n",
       "        [0.        , 0.        , 0.        , ..., 0.56747562,\n",
       "         1.43216288, 2.04169393],\n",
       "...\n",
       "        [0.        , 0.        , 0.        , ..., 0.17443286,\n",
       "         0.45306936, 0.69223189],\n",
       "        [0.        , 0.        , 0.        , ..., 0.17639467,\n",
       "         0.44730902, 0.66965598],\n",
       "        [0.        , 0.        , 0.        , ..., 0.17381936,\n",
       "         0.44963369, 0.70034492]],\n",
       "\n",
       "       [[0.        , 0.        , 0.        , ..., 0.49794978,\n",
       "         1.25134575, 1.74890232],\n",
       "        [0.        , 0.        , 0.        , ..., 0.5156849 ,\n",
       "         1.27039623, 1.8114115 ],\n",
       "        [0.        , 0.        , 0.        , ..., 0.52254981,\n",
       "         1.31721103, 1.86109209],\n",
       "        ...,\n",
       "        [0.        , 0.        , 0.        , ..., 0.21967652,\n",
       "         0.56323749, 0.82032794],\n",
       "        [0.        , 0.        , 0.        , ..., 0.2099288 ,\n",
       "         0.52738667, 0.80011988],\n",
       "        [0.        , 0.        , 0.        , ..., 0.19638801,\n",
       "         0.50857449, 0.77185076]]], shape=(598, 1092, 120))\n",
       "Coordinates:\n",
       "  * y        (y) int64 5kB 0 1 2 3 4 5 6 7 8 ... 590 591 592 593 594 595 596 597\n",
       "  * x        (x) int64 9kB 0 1 2 3 4 5 6 ... 1085 1086 1087 1088 1089 1090 1091\n",
       "  * band     (band) int64 960B 0 1 2 3 4 5 6 7 ... 113 114 115 116 117 118 119\n",
       "Attributes:\n",
       "    level:        L1d\n",
       "    units:        sr^{-1}\n",
       "    description:  Top-of-Atmosphere Reflectance (Rhot)\n",
       "    correction:   None>"
      ]
     },
     "execution_count": 12,
     "metadata": {},
     "output_type": "execute_result"
    }
   ],
   "source": [
    "l1d_cube_24_0426.item"
   ]
  },
  {
   "cell_type": "code",
   "execution_count": null,
   "id": "b6fd7a0a",
   "metadata": {},
   "outputs": [
    {
     "name": "stdout",
     "output_type": "stream",
     "text": [
      "Pixel number:  2773\n"
     ]
    }
   ],
   "source": [
    "latitudes_24_0426 = satobj_h1_24_0426.latitudes\n",
    "longitudes_24_0426 = satobj_h1_24_0426.longitudes\n",
    "\n",
    "piksel_row_24_0426, piksel_col_24_0426 = f.latLong_to_piksel(target_lat, target_lon, latitudes_24_0426, longitudes_24_0426) #from file funcions_autonom.py\n",
    "#rss_matrix_0328 = f.rss_matrix(120, piksel_row_0328,piksel_col_0328, l1d_cube_0328)\n",
    "rss_matrix_24_0426 = f.water_masked_rss_matrix(piksel_row_24_0426,piksel_col_24_0426, l1d_cube_24_0426, satobj_h1_24_0426)\n",
    "        \n",
    "mean_spectrum_24_0426 = np.mean(rss_matrix_24_0426, axis=1) ## mean over rad  # gjenomsnitt\n",
    "median_spectrum_24_0426 = np.median(rss_matrix_24_0426, axis=1) ## mean over rad  # gjenomsnitt\n",
    "l2_norm_24_0426 = np.linalg.norm(mean_spectrum_24_0426)  #l2 norm\n",
    "l2_normalized_spectrum_24_0426 = mean_spectrum_24_0426 / l2_norm_24_0426  #l2 normalisering\n",
    "normaized_spectrum_24_0426 = f.min_max_nomralization(mean_spectrum_24_0426) #min max normalisering\n",
    "\n",
    "std_spectrum_24_0426 = np.std(rss_matrix_24_0426, axis=1)  #standard avik"
   ]
  },
  {
   "cell_type": "code",
   "execution_count": null,
   "id": "9bee01a7",
   "metadata": {},
   "outputs": [
    {
     "data": {
      "image/png": "[encoded data removed]",
      "text/plain": [
       "<Figure size 640x480 with 1 Axes>"
      ]
     },
     "metadata": {},
     "output_type": "display_data"
    },
    {
     "ename": "",
     "evalue": "",
     "output_type": "error",
     "traceback": [
      "\u001b[1;31mThe Kernel crashed while executing code in the current cell or a previous cell. \n",
      "\u001b[1;31mPlease review the code in the cell(s) to identify a possible cause of the failure. \n",
      "\u001b[1;31mClick <a href='https://aka.ms/vscodeJupyterKernelCrash'>here</a> for more info. \n",
      "\u001b[1;31mView Jupyter <a href='command:jupyter.viewOutput'>log</a> for further details."
     ]
    }
   ],
   "source": [
    "#plotting\n",
    "plt.plot(x, mean_spectrum_24_0419, color='indigo', label='mean 0419')\n",
    "plt.plot(x, mean_spectrum_24_0426, color='pink', label='mean 0426')\n",
    "\n",
    "plt.plot(x, median_spectrum_24_0419, color='green', label='median 0419')\n",
    "plt.plot(x, median_spectrum_24_0426, color='black', label='median 0426')\n",
    "\n",
    "plt.plot(x, normaized_spectrum_24_0419, color='red', label='n 0419')\n",
    "plt.plot(x, normaized_spectrum_24_0426, color='blue', label='n 0426')\n",
    "\n",
    "#plt.plot(x, l2_normalized_spectrum, color='green', label='0316')\n",
    "#plt.plot(x, l2_normalized_spectrum_0328, color='black', label='0328')\n",
    "\n",
    "#plt.fill_between(x, \n",
    "#                 mean_spectrum - 1*std_spectrum, \n",
    "#                 mean_spectrum + 1*std_spectrum,\n",
    "#                 color='green', alpha=0.5)\n",
    "#plt.fill_between(x, \n",
    "#                 mean_spectrum_0328 - 1*std_spectrum_0328, \n",
    "#                 mean_spectrum_0328 + 1*std_spectrum_0328,\n",
    "#                 color='black', alpha=0.5)\n",
    "\n",
    "\n",
    "plt.xlabel(\"Wawelength [nm]\")\n",
    "plt.ylabel(\"Top-of-Atmosphere Reflectance  [sr^{-1}]\") #finne enheten her\n",
    "plt.title(\"Mai 2024\")\n",
    "plt.grid(True, alpha=0.3)\n",
    "plt.legend()\n",
    "plt.show()"
   ]
  }
 ],
 "metadata": {
  "kernelspec": {
   "display_name": "hypso-env",
   "language": "python",
   "name": "python3"
  },
  "language_info": {
   "codemirror_mode": {
    "name": "ipython",
    "version": 3
   },
   "file_extension": ".py",
   "mimetype": "text/x-python",
   "name": "python",
   "nbconvert_exporter": "python",
   "pygments_lexer": "ipython3",
   "version": "3.11.12"
  }
 },
 "nbformat": 4,
 "nbformat_minor": 5
}
