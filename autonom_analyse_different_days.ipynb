{
 "cells": [
  {
   "cell_type": "markdown",
   "id": "6a5760a4",
   "metadata": {},
   "source": [
    "### This script aims to make an autonom data analys of sattlite captures from different days, but over the same areas "
   ]
  },
  {
   "cell_type": "code",
   "execution_count": 1,
   "id": "90bf15d9",
   "metadata": {},
   "outputs": [],
   "source": [
    "# comments if I have some here :))\n",
    "\n",
    "## kernels crashing so need to be checked on stronger computers\n",
    "## Check ml computer given by Supervisor \n",
    "## otherwise checking the ntnu super computer but not given acsess there yet \n",
    "\n",
    "\n",
    "##sammenligne bilder innenfor samme måned. lage ny fil for dette så du ahr separate tester :)))"
   ]
  },
  {
   "cell_type": "code",
   "execution_count": 2,
   "id": "93ddb93d",
   "metadata": {},
   "outputs": [],
   "source": [
    "#import for HYPSO\n",
    "from hypso import Hypso1, Hypso2\n",
    "import os \n",
    "import matplotlib.pyplot as plt\n",
    "from global_land_mask import globe \n",
    "import numpy as np \n",
    "\n",
    "import funcions_autonom as f"
   ]
  },
  {
   "cell_type": "code",
   "execution_count": 3,
   "id": "1d161f5f",
   "metadata": {},
   "outputs": [
    {
     "name": "stdout",
     "output_type": "stream",
     "text": [
      "[INFO] Loading L1a capture frohavet_2023-03-30T10-30-26Z\n",
      "[INFO] Capture spatial dimensions: (598, 1092)\n",
      "[INFO] Capture capture type: wide\n",
      "[INFO] Loading L1b capture frohavet_2023-03-30T10-30-26Z\n",
      "[INFO] Capture spatial dimensions: (598, 1092)\n",
      "[INFO] Capture capture type: wide\n",
      "[INFO] Loading L1c capture frohavet_2023-03-30T10-30-26Z\n",
      "[INFO] Capture spatial dimensions: (598, 1092)\n",
      "[INFO] Capture capture type: wide\n",
      "[INFO] Loading L1d capture frohavet_2023-03-30T10-30-26Z\n",
      "[INFO] Capture spatial dimensions: (598, 1092)\n",
      "[INFO] Capture capture type: wide\n",
      "[INFO] Running direct georeferencing...\n",
      "[INFO] ADCS samples: 1921\n",
      "[INFO] ADCS time range: 1680171540.000000 to 1680172458.250000\n",
      "[INFO] Frame time range: 1680172226.731407 to 1680172276.481407\n",
      "[INFO] 199 sample(s) inside frame time range\n",
      "[INFO] Interpolating 598 frames\n",
      "[INFO] Computing pixel latitude and longitude coordinates ...\n",
      "[INFO] Interpolating pixel coordinate gaps...\n",
      "[INFO] Direct georeferencing done\n",
      "[INFO] Running track geometry computations...\n",
      "[INFO] Using UTM map: WGS 84 / UTM zone 32N EPSG: 32632\n",
      "[INFO] Track geometry computations done.\n",
      "[INFO] Running angles geometry computations...\n",
      "[INFO] Computing local angles (sun and satellite azimuth and zenith angles) ...\n",
      "[INFO] Using astropy on a subsampling of pixels ... (TODO skyfield may be faster)\n",
      "[INFO] Interpolating the rest of the pixels ...\n",
      "[INFO] Computing local angles done\n",
      "[INFO] Angles geometry computations done.\n"
     ]
    }
   ],
   "source": [
    "dir_path = \".\"\n",
    " \n",
    "frohavet_path_0330 = os.path.join(dir_path, \"frohavet_2023-03-30T10-30-26Z-l1a.nc\")\n",
    "frohavet_path_0330_b = os.path.join(dir_path, \"frohavet_2023-03-30T10-30-26Z-l1b.nc\")\n",
    "frohavet_path_0330_c = os.path.join(dir_path, \"frohavet_2023-03-30T10-30-26Z-l1c.nc\")\n",
    "frohavet_path_0330_d = os.path.join(dir_path, \"frohavet_2023-03-30T10-30-26Z-l1d.nc\")\n",
    "\n",
    "satobj_h1 = Hypso1( path = frohavet_path_0330, verbose = True )\n",
    "\n",
    "l1a_cube = satobj_h1.l1a_cube\n",
    "l1b_cube = Hypso1( path = frohavet_path_0330_b, verbose = True )\n",
    "l1c_cube = Hypso1( path = frohavet_path_0330_c, verbose = True )\n",
    "l1d_cube = Hypso1( path = frohavet_path_0330_d, verbose = True )\n",
    "\n",
    "l1c_cube = l1c_cube.l1c_cube\n",
    "l1b_cube = l1b_cube.l1b_cube\n",
    "l1d_cube = l1d_cube.l1d_cube\n",
    "\n",
    "satobj_h1.run_direct_georeferencing() # in order to get the longiyudes and latitudes "
   ]
  },
  {
   "cell_type": "code",
   "execution_count": 4,
   "id": "cc0da540",
   "metadata": {},
   "outputs": [
    {
     "name": "stdout",
     "output_type": "stream",
     "text": [
      "[INFO] Loading L1a capture frohavet_2023-04-12T10-27-31Z\n",
      "[INFO] Capture spatial dimensions: (598, 1092)\n",
      "[INFO] Capture capture type: wide\n",
      "[INFO] Loading L1b capture frohavet_2023-04-12T10-27-31Z\n",
      "[INFO] Capture spatial dimensions: (598, 1092)\n",
      "[INFO] Capture capture type: wide\n",
      "[INFO] Loading L1c capture frohavet_2023-04-12T10-27-31Z\n",
      "[INFO] Capture spatial dimensions: (598, 1092)\n",
      "[INFO] Capture capture type: wide\n",
      "[INFO] Loading L1d capture frohavet_2023-04-12T10-27-31Z\n",
      "[INFO] Capture spatial dimensions: (598, 1092)\n",
      "[INFO] Capture capture type: wide\n",
      "[INFO] Running direct georeferencing...\n",
      "[INFO] ADCS samples: 1919\n",
      "[INFO] ADCS time range: 1681294560.000000 to 1681295482.750000\n",
      "[INFO] Frame time range: 1681295251.796884 to 1681295301.546884\n",
      "[INFO] 199 sample(s) inside frame time range\n",
      "[INFO] Interpolating 598 frames\n",
      "[INFO] Computing pixel latitude and longitude coordinates ...\n",
      "[INFO] Interpolating pixel coordinate gaps...\n",
      "[INFO] Direct georeferencing done\n",
      "[INFO] Running track geometry computations...\n",
      "[INFO] Using UTM map: WGS 84 / UTM zone 32N EPSG: 32632\n",
      "[INFO] Track geometry computations done.\n",
      "[INFO] Running angles geometry computations...\n",
      "[INFO] Computing local angles (sun and satellite azimuth and zenith angles) ...\n",
      "[INFO] Using astropy on a subsampling of pixels ... (TODO skyfield may be faster)\n",
      "[INFO] Interpolating the rest of the pixels ...\n",
      "[INFO] Computing local angles done\n",
      "[INFO] Angles geometry computations done.\n"
     ]
    }
   ],
   "source": [
    "## get the cubes also for another day\n",
    "dir_path = \".\"\n",
    " \n",
    "frohavet_path_0412 = os.path.join(dir_path, \"frohavet_2023-04-12T10-27-31Z-l1a.nc\")\n",
    "frohavet_path_0412_b = os.path.join(dir_path, \"frohavet_2023-04-12T10-27-31Z-l1b.nc\")\n",
    "frohavet_path_0412_c = os.path.join(dir_path, \"frohavet_2023-04-12T10-27-31Z-l1c.nc\")\n",
    "frohavet_path_0412_d = os.path.join(dir_path, \"frohavet_2023-04-12T10-27-31Z-l1d.nc\") \n",
    "\n",
    "satobj_h1_0412 = Hypso1( path = frohavet_path_0412, verbose = True )\n",
    "\n",
    "l1a_cube_0412 = satobj_h1_0412.l1a_cube\n",
    "l1b_cube_0412 = Hypso1( path = frohavet_path_0412_b, verbose = True )\n",
    "l1c_cube_0412 = Hypso1( path = frohavet_path_0412_c, verbose = True )\n",
    "l1d_cube_0412 = Hypso1( path = frohavet_path_0412_d, verbose = True )\n",
    "\n",
    "l1c_cube_0412 = l1c_cube_0412.l1c_cube\n",
    "l1b_cube_0412 = l1b_cube_0412.l1b_cube\n",
    "l1d_cube_0412 = l1d_cube_0412.l1d_cube\n",
    "\n",
    "satobj_h1_0412.run_direct_georeferencing() # in order to get the longiyudes and latitudes "
   ]
  },
  {
   "cell_type": "code",
   "execution_count": 5,
   "id": "01940a40",
   "metadata": {},
   "outputs": [
    {
     "name": "stdout",
     "output_type": "stream",
     "text": [
      "[INFO] Loading L1a capture frohavet_2023-06-14T10-03-05Z\n",
      "[INFO] Capture spatial dimensions: (598, 1092)\n",
      "[INFO] Capture capture type: wide\n",
      "[INFO] Loading L1b capture frohavet_2023-06-14T10-03-05Z\n",
      "[INFO] Capture spatial dimensions: (598, 1092)\n",
      "[INFO] Capture capture type: wide\n",
      "[INFO] Loading L1c capture frohavet_2023-06-14T10-03-05Z\n",
      "[INFO] Capture spatial dimensions: (598, 1092)\n",
      "[INFO] Capture capture type: wide\n",
      "[INFO] Loading L1d capture frohavet_2023-06-14T10-03-05Z\n",
      "[INFO] Capture spatial dimensions: (598, 1092)\n",
      "[INFO] Capture capture type: wide\n",
      "[INFO] Running direct georeferencing...\n",
      "[INFO] ADCS samples: 1914\n",
      "[INFO] ADCS time range: 1686736320.000000 to 1686737215.500000\n",
      "[INFO] Frame time range: 1686736985.690326 to 1686737035.440326\n",
      "[INFO] 199 sample(s) inside frame time range\n",
      "[INFO] Interpolating 598 frames\n",
      "[INFO] Computing pixel latitude and longitude coordinates ...\n",
      "[INFO] Interpolating pixel coordinate gaps...\n",
      "[INFO] Direct georeferencing done\n",
      "[INFO] Running track geometry computations...\n",
      "[INFO] Using UTM map: WGS 84 / UTM zone 32N EPSG: 32632\n",
      "[INFO] Track geometry computations done.\n",
      "[INFO] Running angles geometry computations...\n",
      "[INFO] Computing local angles (sun and satellite azimuth and zenith angles) ...\n",
      "[INFO] Using astropy on a subsampling of pixels ... (TODO skyfield may be faster)\n",
      "[INFO] Interpolating the rest of the pixels ...\n",
      "[INFO] Computing local angles done\n",
      "[INFO] Angles geometry computations done.\n"
     ]
    }
   ],
   "source": [
    "frohavet_path_0614 = os.path.join(dir_path, \"frohavet_2023-06-14T10-03-05Z-l1a.nc\")\n",
    "frohavet_path_0614_b = os.path.join(dir_path, \"frohavet_2023-06-14T10-03-05Z-l1b.nc\")\n",
    "frohavet_path_0614_c = os.path.join(dir_path, \"frohavet_2023-06-14T10-03-05Z-l1c.nc\")\n",
    "frohavet_path_0614_d = os.path.join(dir_path, \"frohavet_2023-06-14T10-03-05Z-l1d.nc\")\n",
    "\n",
    "satobj_h1_0614 = Hypso1( path = frohavet_path_0614, verbose = True )\n",
    "\n",
    "l1a_cube_0614 = satobj_h1_0614.l1a_cube\n",
    "l1b_cube_0614 = Hypso1( path = frohavet_path_0614_b, verbose = True )\n",
    "l1c_cube_0614 = Hypso1( path = frohavet_path_0614_c, verbose = True )\n",
    "l1d_cube_0614 = Hypso1( path = frohavet_path_0614_d, verbose = True )\n",
    "\n",
    "l1c_cube_0614 = l1c_cube_0614.l1c_cube\n",
    "l1b_cube_0614 = l1b_cube_0614.l1b_cube\n",
    "l1d_cube_0614 = l1d_cube_0614.l1d_cube\n",
    "\n",
    "satobj_h1_0614.run_direct_georeferencing() # in order to get the longiyudes and latitudes "
   ]
  },
  {
   "cell_type": "code",
   "execution_count": 6,
   "id": "9751457c",
   "metadata": {},
   "outputs": [
    {
     "name": "stdout",
     "output_type": "stream",
     "text": [
      "[INFO] Loading L1a capture frohavet_2023-07-30T10-17-47Z\n",
      "[INFO] Capture spatial dimensions: (598, 1092)\n",
      "[INFO] Capture capture type: wide\n",
      "[INFO] Loading L1b capture frohavet_2023-07-30T10-17-47Z\n",
      "[INFO] Capture spatial dimensions: (598, 1092)\n",
      "[INFO] Capture capture type: wide\n",
      "[INFO] Loading L1c capture frohavet_2023-07-30T10-17-47Z\n",
      "[INFO] Capture spatial dimensions: (598, 1092)\n",
      "[INFO] Capture capture type: wide\n",
      "[INFO] Loading L1d capture frohavet_2023-07-30T10-17-47Z\n",
      "[INFO] Capture spatial dimensions: (598, 1092)\n",
      "[INFO] Capture capture type: wide\n",
      "[INFO] Running direct georeferencing...\n",
      "[INFO] ADCS samples: 1911\n",
      "[INFO] ADCS time range: 1690711620.000000 to 1690712497.250000\n",
      "[INFO] Frame time range: 1690712267.271759 to 1690712317.021759\n",
      "[INFO] 199 sample(s) inside frame time range\n",
      "[INFO] Interpolating 598 frames\n",
      "[INFO] Computing pixel latitude and longitude coordinates ...\n",
      "[INFO] Interpolating pixel coordinate gaps...\n",
      "[INFO] Direct georeferencing done\n",
      "[INFO] Running track geometry computations...\n",
      "[INFO] Using UTM map: WGS 84 / UTM zone 32N EPSG: 32632\n",
      "[INFO] Track geometry computations done.\n",
      "[INFO] Running angles geometry computations...\n",
      "[INFO] Computing local angles (sun and satellite azimuth and zenith angles) ...\n",
      "[INFO] Using astropy on a subsampling of pixels ... (TODO skyfield may be faster)\n",
      "[INFO] Interpolating the rest of the pixels ...\n",
      "[INFO] Computing local angles done\n",
      "[INFO] Angles geometry computations done.\n"
     ]
    }
   ],
   "source": [
    "frohavet_path_0730 = os.path.join(dir_path, \"frohavet_2023-07-30T10-17-47Z-l1a.nc\")\n",
    "frohavet_path_0730_b = os.path.join(dir_path, \"frohavet_2023-07-30T10-17-47Z-l1b.nc\")\n",
    "frohavet_path_0730_c = os.path.join(dir_path, \"frohavet_2023-07-30T10-17-47Z-l1c.nc\")\n",
    "frohavet_path_0730_d = os.path.join(dir_path, \"frohavet_2023-07-30T10-17-47Z-l1d.nc\")\n",
    "\n",
    "satobj_h1_0730 = Hypso1( path = frohavet_path_0730, verbose = True )\n",
    "\n",
    "l1a_cube_0730 = satobj_h1_0730.l1a_cube\n",
    "l1b_cube_0730 = Hypso1( path = frohavet_path_0730_b, verbose = True )\n",
    "l1c_cube_0730 = Hypso1( path = frohavet_path_0730_c, verbose = True )\n",
    "l1d_cube_0730 = Hypso1( path = frohavet_path_0730_d, verbose = True )\n",
    "\n",
    "l1c_cube_0730 = l1c_cube_0730.l1c_cube\n",
    "l1b_cube_0730 = l1b_cube_0730.l1b_cube\n",
    "l1d_cube_0730 = l1d_cube_0730.l1d_cube\n",
    "\n",
    "satobj_h1_0730.run_direct_georeferencing() # in order to get the longiyudes and latitudes "
   ]
  },
  {
   "cell_type": "code",
   "execution_count": 7,
   "id": "f8d258a4",
   "metadata": {},
   "outputs": [],
   "source": [
    "#wawelengths\n",
    "x_1 = [387.84749685, 391.40406599, 394.95941579, 398.51354623, 402.06645732, 405.61814905, 409.16862143, 412.71787446, 416.26590814, 419.81272246, 423.35831743, 426.90269305, 430.44584931, 433.98778622, 437.52850378, 441.06800198, 444.60628083, 448.14334033, 451.67918047, 455.21380126, 458.7472027, 462.27938479, 465.81034752, 469.3400909 , 472.86861492,476.3959196 , 479.92200491, 483.44687088, 486.97051749, 490.49294475,494.01415266, 497.53414122, 501.05291042, 504.57046026, 508.08679076,511.6019019 , 515.11579369, 518.62846612, 522.13991921, 525.65015294,529.15916731, 532.66696233, 536.173538  , 539.67889432, 543.18303128,546.68594889, 550.18764715, 553.68812606, 557.18738561, 560.68542581,564.18224665, 567.67784814, 571.17223028, 574.66539307, 578.1573365, 581.64806058, 585.1375653 , 588.62585068, 592.1129167 , 595.59876336,599.08339068, 602.56679864, 606.04898725, 609.5299565 , 613.0097064 ,616.48823695, 619.96554815, 623.44163999, 626.91651248, 630.39016561,633.86259939, 637.33381382, 640.8038089 , 644.27258462, 647.74014099,651.20647801, 654.67159568, 658.13549399, 661.59817294, 665.05963255,668.5198728 , 671.9788937 , 675.43669524, 678.89327744, 682.34864028,685.80278376, 689.25570789, 692.70741267, 696.1578981 , 699.60716418,703.0552109 , 706.50203826, 709.94764628, 713.39203494, 716.83520425,720.2771542 , 723.7178848 , 727.15739605, 730.59568795, 734.03276049,737.46861368, 740.90324752, 744.336662  , 747.76885713, 751.19983291,754.62958933, 758.0581264 , 761.48544412, 764.91154248, 768.33642149,771.76008115, 775.18252146, 778.60374241, 782.02374401, 785.44252625,788.86008915, 792.27643269, 795.69155687, 799.10546171, 802.51814719]\n",
    "x=x_1[5:115]\n",
    "\n",
    "# Target latitude and longitude\n",
    "#target_lat = [64.08533976025561,64.08799001499494, 64.00671553632209, 64.00539040895242] #område 1.\n",
    "#target_lon = [9.744011353487297, 9.632700654435348, 9.740919389624743,9.634025781805015]  \n",
    "\n",
    "# target_lat = [63.757122274881525,63.79245900473934, 63.750054928909969, 63.708534271327025] #område 2.\n",
    "# target_lon = [9.352684677132684, 9.539085927132673, 9.524951235189546,9.37300329680093]  \n",
    "\n",
    "# target_lat = [63.78961550225848,63.749419972045274, 63.74721142642917, 63.71408324218751] #område 2 økt areal.\n",
    "# target_lon = [9.522494228191448, 9.29192206586954,9.50570928150901,9.287946683760541]  \n",
    "\n",
    "target_lat = [63.70789931446241,63.68691813110936, 63.65666105616865, 63.65909045634637] #område 3.\n",
    "target_lon = [9.513439191165398, 9.450053931983035, 9.513439191165398,9.452483332160757]  \n",
    "\n",
    "# target_lat = [64.11598664521667,64.15057587536384, 63.89681406514489, 63.89994263160812] #område 4.\n",
    "# target_lon = [8.703053216812258, 7.528386402483167,8.661521921416352,7.4991038244970465]  \n",
    "\n",
    "#target_lat = [64.2750935781297,64.29365394014144, 64.17902661492639, 64.18553880683058] #område 4, korrigert\n",
    "#target_lon = [9.127764312954888, 8.585899068865604,9.130324490159921,8.564058182856481]  \n",
    "\n",
    "#target_lat = [64.00712963862559,64.10712963862559, 64.10712963862559, 64.00612963862559] #Enmap omeråde, korrigert\n",
    "#target_lon = [9.7215117950237, 9.8215117950237,9.8215117950237,9.6215117950237]  \n",
    "\n",
    "#target_lat = [64.0831036078199,64.08487044431278, 64.03098193127961, 64.03186534952606] #Enmap omeråde v_2\n",
    "#target_lon = [9.679991137440759, 9.609317677725118,9.675574046208531,9.596066404028436]  \n",
    "\n",
    "\n",
    "\n",
    "#target_lat = [63.53004083986345,63.54538968904645, 63.46292505717966, 63.47911323436474] #område 5.\n",
    "#target_lon = [10.645581130813465, 10.319125636555775,10.63928031337043,10.315185044657547]  "
   ]
  },
  {
   "cell_type": "code",
   "execution_count": 8,
   "id": "d9f13d32",
   "metadata": {},
   "outputs": [
    {
     "name": "stdout",
     "output_type": "stream",
     "text": [
      "Pixel number:  48\n"
     ]
    }
   ],
   "source": [
    "## for each picture\n",
    "latitudes = satobj_h1.latitudes\n",
    "longitudes = satobj_h1.longitudes\n",
    "\n",
    "piksel_row, piksel_col = f.latLong_to_piksel(target_lat, target_lon, latitudes, longitudes) #from file funcions_autonom.py\n",
    "rss_matrix = f.rss_matrix(120, piksel_row,piksel_col, l1d_cube) ## !!!! må legge inn lat long her siden du har endret på funskjonen\n",
    "        \n",
    "mean_spectrum = np.mean(rss_matrix, axis=1) ## mean over rad  # gjenomsnitt\n",
    "std_spectrum = np.std(rss_matrix, axis=1)  #standard avik"
   ]
  },
  {
   "cell_type": "code",
   "execution_count": 9,
   "id": "61589587",
   "metadata": {},
   "outputs": [
    {
     "name": "stdout",
     "output_type": "stream",
     "text": [
      "Pixel number:  70\n"
     ]
    }
   ],
   "source": [
    "latitudes_0412 = satobj_h1_0412.latitudes\n",
    "longitudes_0412 = satobj_h1_0412.longitudes\n",
    "\n",
    "piksel_row_0412, piksel_col_0412 = f.latLong_to_piksel(target_lat, target_lon, latitudes_0412, longitudes_0412) #from file funcions_autonom.py\n",
    "rss_matrix_0412 = f.rss_matrix(120, piksel_row_0412,piksel_col_0412, l1d_cube_0412)\n",
    "        \n",
    "mean_spectrum_0412 = np.mean(rss_matrix_0412, axis=1) ## mean over rad  # gjenomsnitt\n",
    "std_spectrum_0412 = np.std(rss_matrix_0412, axis=1)  #standard avik"
   ]
  },
  {
   "cell_type": "code",
   "execution_count": 10,
   "id": "1355db06",
   "metadata": {},
   "outputs": [
    {
     "name": "stdout",
     "output_type": "stream",
     "text": [
      "Pixel number:  105\n"
     ]
    }
   ],
   "source": [
    "latitudes_0614 = satobj_h1_0614.latitudes\n",
    "longitudes_0614 = satobj_h1_0614.longitudes\n",
    "\n",
    "piksel_row_0614, piksel_col_0614 = f.latLong_to_piksel(target_lat, target_lon, latitudes_0614, longitudes_0614) #from file funcions_autonom.py\n",
    "rss_matrix_0614 = f.rss_matrix(120, piksel_row_0614,piksel_col_0614, l1d_cube_0614)\n",
    "        \n",
    "mean_spectrum_0614 = np.mean(rss_matrix_0614, axis=1) ## mean over rad  # gjenomsnitt\n",
    "std_spectrum_0614 = np.std(rss_matrix_0614, axis=1)  #standard avik"
   ]
  },
  {
   "cell_type": "code",
   "execution_count": 11,
   "id": "9527b905",
   "metadata": {},
   "outputs": [
    {
     "name": "stdout",
     "output_type": "stream",
     "text": [
      "Pixel number:  6\n"
     ]
    }
   ],
   "source": [
    "latitudes_0730 = satobj_h1_0730.latitudes\n",
    "longitudes_0730 = satobj_h1_0730.longitudes\n",
    "\n",
    "piksel_row_0730, piksel_col_0730 = f.latLong_to_piksel(target_lat, target_lon, latitudes_0730, longitudes_0730) #from file funcions_autonom.py\n",
    "rss_matrix_0730 = f.rss_matrix(120, piksel_row_0730,piksel_col_0730, l1d_cube_0730)\n",
    "        \n",
    "mean_spectrum_0730 = np.mean(rss_matrix_0730, axis=1) ## mean over rad  # gjenomsnitt\n",
    "std_spectrum_0730 = np.std(rss_matrix_0730, axis=1)  #standard avik"
   ]
  },
  {
   "cell_type": "code",
   "execution_count": 12,
   "id": "f9796574",
   "metadata": {},
   "outputs": [
    {
     "data": {
      "image/png": "[encoded data removed]",
      "text/plain": [
       "<Figure size 640x480 with 1 Axes>"
      ]
     },
     "metadata": {},
     "output_type": "display_data"
    }
   ],
   "source": [
    "#plotting\n",
    "plt.plot(x, mean_spectrum, color='black', label='Mean Spectrum 0330')\n",
    "#plt.plot(x, mean_spectrum_0412, color='green', label='Mean Spectrum 0412')\n",
    "#plt.plot(x, mean_spectrum_0614, color='blue', label='Mean Spectrum 0614')\n",
    "#plt.plot(x, mean_spectrum_0730, color='purple', label='Mean Spectrum 0730')\n",
    "\n",
    "# ±1 STD (most concentrated)\n",
    "plt.fill_between(x, \n",
    "                 mean_spectrum - 1*std_spectrum, \n",
    "                 mean_spectrum + 1*std_spectrum,\n",
    "                 color='black', alpha=0.4, label='±1 STD')\n",
    "\n",
    "## ±2 STD (broader range)\n",
    "#plt.fill_between(x, \n",
    "#                 mean_spectrum_0412 - 1*std_spectrum_0412, \n",
    "#                 mean_spectrum_0412 + 1*std_spectrum_0412,\n",
    "#                 color='green', alpha=0.2, label='±1 STD')\n",
    "#\n",
    "#plt.fill_between(x, \n",
    "#                 mean_spectrum_0614 - 1*std_spectrum_0614, \n",
    "#                 mean_spectrum_0614 + 1*std_spectrum_0614,\n",
    "#                 color='blue', alpha=0.5, label='±1 STD')\n",
    "#\n",
    "#plt.fill_between(x, \n",
    "#                 mean_spectrum_0730 - 1*std_spectrum_0730, \n",
    "#                 mean_spectrum_0730 + 1*std_spectrum_0730,\n",
    "#                 color='purple', alpha=0.5, label='±1 STD')\n",
    "#\n",
    "plt.xlabel(\"Wawelength (nm)\")\n",
    "plt.ylabel(\"Reflectance / RSS\") #finne enheten her\n",
    "plt.title(\"Mean Spectrum with ±1 STD\")\n",
    "plt.grid(True, alpha=0.3)\n",
    "plt.legend()\n",
    "plt.show()"
   ]
  }
 ],
 "metadata": {
  "kernelspec": {
   "display_name": "hypso-env",
   "language": "python",
   "name": "python3"
  },
  "language_info": {
   "codemirror_mode": {
    "name": "ipython",
    "version": 3
   },
   "file_extension": ".py",
   "mimetype": "text/x-python",
   "name": "python",
   "nbconvert_exporter": "python",
   "pygments_lexer": "ipython3",
   "version": "3.11.12"
  }
 },
 "nbformat": 4,
 "nbformat_minor": 5
}
